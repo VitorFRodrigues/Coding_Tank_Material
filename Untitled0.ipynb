{
  "nbformat": 4,
  "nbformat_minor": 0,
  "metadata": {
    "colab": {
      "provenance": [],
      "authorship_tag": "ABX9TyO5Uyj6uPsDuwLNj80folbR",
      "include_colab_link": true
    },
    "kernelspec": {
      "name": "python3",
      "display_name": "Python 3"
    },
    "language_info": {
      "name": "python"
    }
  },
  "cells": [
    {
      "cell_type": "markdown",
      "metadata": {
        "id": "view-in-github",
        "colab_type": "text"
      },
      "source": [
        "<a href=\"https://colab.research.google.com/github/VitorFRodrigues/Polo_Tech_Americanas/blob/main/Untitled0.ipynb\" target=\"_parent\"><img src=\"https://colab.research.google.com/assets/colab-badge.svg\" alt=\"Open In Colab\"/></a>"
      ]
    },
    {
      "cell_type": "code",
      "execution_count": 1,
      "metadata": {
        "id": "95v6QcMaSx4Y"
      },
      "outputs": [],
      "source": [
        "url = '/content/Brazil Political Violence and Protests Dataset.csv'\n",
        "import pandas as pd"
      ]
    },
    {
      "cell_type": "code",
      "source": [
        "dados = pd.read_csv(url)\n",
        "dados.head()"
      ],
      "metadata": {
        "colab": {
          "base_uri": "https://localhost:8080/",
          "height": 337
        },
        "id": "fxqf717nUETV",
        "outputId": "011d8f9b-ec4b-49d5-bdcd-444a0040ee15"
      },
      "execution_count": 2,
      "outputs": [
        {
          "output_type": "execute_result",
          "data": {
            "text/plain": [
              "        EVENT_DATE                  EVENT_TYPE    SUB_EVENT_TYPE  \\\n",
              "0  01-January-2018                    Protests  Peaceful protest   \n",
              "1  01-January-2018                    Protests  Peaceful protest   \n",
              "2  01-January-2018  Violence against civilians            Attack   \n",
              "3  01-January-2018  Violence against civilians            Attack   \n",
              "4  01-January-2018  Violence against civilians            Attack   \n",
              "\n",
              "                                    ACTOR1              ACTOR2 COUNTRY  \\\n",
              "0                      Protesters (Brazil)                 NaN  Brazil   \n",
              "1                      Protesters (Brazil)                 NaN  Brazil   \n",
              "2        Unidentified Armed Group (Brazil)  Civilians (Brazil)  Brazil   \n",
              "3  Unidentified Gang and/or Police Militia  Civilians (Brazil)  Brazil   \n",
              "4        Unidentified Armed Group (Brazil)  Civilians (Brazil)  Brazil   \n",
              "\n",
              "                   LOCATION  LATITUDE  LONGITUDE SOURCE_SCALE  \\\n",
              "0                  Teresina    -5.089    -42.802     National   \n",
              "1                    Cuiaba   -15.596    -56.097     National   \n",
              "2  Santa Cruz do Capibaribe    -7.948    -36.206     National   \n",
              "3                 Petrolina    -9.389    -40.503     National   \n",
              "4                  Floriano    -6.773    -43.012     National   \n",
              "\n",
              "                                               NOTES  FATALITIES  \n",
              "0  At the beginning of January 2018, in Teresina,...           0  \n",
              "1  On 1 January 2018, local residents protested i...           0  \n",
              "2  On 1 January 2018, in Santa Cruz do Capibaribe...           2  \n",
              "3  On 1 January 2018, Petrolina, Pernambuco, a ma...           1  \n",
              "4  On 1 January 2018, in Floriano, Piaui, a man w...           1  "
            ],
            "text/html": [
              "\n",
              "  <div id=\"df-8e55ae5b-5d8f-484d-9b29-e54f880e8898\">\n",
              "    <div class=\"colab-df-container\">\n",
              "      <div>\n",
              "<style scoped>\n",
              "    .dataframe tbody tr th:only-of-type {\n",
              "        vertical-align: middle;\n",
              "    }\n",
              "\n",
              "    .dataframe tbody tr th {\n",
              "        vertical-align: top;\n",
              "    }\n",
              "\n",
              "    .dataframe thead th {\n",
              "        text-align: right;\n",
              "    }\n",
              "</style>\n",
              "<table border=\"1\" class=\"dataframe\">\n",
              "  <thead>\n",
              "    <tr style=\"text-align: right;\">\n",
              "      <th></th>\n",
              "      <th>EVENT_DATE</th>\n",
              "      <th>EVENT_TYPE</th>\n",
              "      <th>SUB_EVENT_TYPE</th>\n",
              "      <th>ACTOR1</th>\n",
              "      <th>ACTOR2</th>\n",
              "      <th>COUNTRY</th>\n",
              "      <th>LOCATION</th>\n",
              "      <th>LATITUDE</th>\n",
              "      <th>LONGITUDE</th>\n",
              "      <th>SOURCE_SCALE</th>\n",
              "      <th>NOTES</th>\n",
              "      <th>FATALITIES</th>\n",
              "    </tr>\n",
              "  </thead>\n",
              "  <tbody>\n",
              "    <tr>\n",
              "      <th>0</th>\n",
              "      <td>01-January-2018</td>\n",
              "      <td>Protests</td>\n",
              "      <td>Peaceful protest</td>\n",
              "      <td>Protesters (Brazil)</td>\n",
              "      <td>NaN</td>\n",
              "      <td>Brazil</td>\n",
              "      <td>Teresina</td>\n",
              "      <td>-5.089</td>\n",
              "      <td>-42.802</td>\n",
              "      <td>National</td>\n",
              "      <td>At the beginning of January 2018, in Teresina,...</td>\n",
              "      <td>0</td>\n",
              "    </tr>\n",
              "    <tr>\n",
              "      <th>1</th>\n",
              "      <td>01-January-2018</td>\n",
              "      <td>Protests</td>\n",
              "      <td>Peaceful protest</td>\n",
              "      <td>Protesters (Brazil)</td>\n",
              "      <td>NaN</td>\n",
              "      <td>Brazil</td>\n",
              "      <td>Cuiaba</td>\n",
              "      <td>-15.596</td>\n",
              "      <td>-56.097</td>\n",
              "      <td>National</td>\n",
              "      <td>On 1 January 2018, local residents protested i...</td>\n",
              "      <td>0</td>\n",
              "    </tr>\n",
              "    <tr>\n",
              "      <th>2</th>\n",
              "      <td>01-January-2018</td>\n",
              "      <td>Violence against civilians</td>\n",
              "      <td>Attack</td>\n",
              "      <td>Unidentified Armed Group (Brazil)</td>\n",
              "      <td>Civilians (Brazil)</td>\n",
              "      <td>Brazil</td>\n",
              "      <td>Santa Cruz do Capibaribe</td>\n",
              "      <td>-7.948</td>\n",
              "      <td>-36.206</td>\n",
              "      <td>National</td>\n",
              "      <td>On 1 January 2018, in Santa Cruz do Capibaribe...</td>\n",
              "      <td>2</td>\n",
              "    </tr>\n",
              "    <tr>\n",
              "      <th>3</th>\n",
              "      <td>01-January-2018</td>\n",
              "      <td>Violence against civilians</td>\n",
              "      <td>Attack</td>\n",
              "      <td>Unidentified Gang and/or Police Militia</td>\n",
              "      <td>Civilians (Brazil)</td>\n",
              "      <td>Brazil</td>\n",
              "      <td>Petrolina</td>\n",
              "      <td>-9.389</td>\n",
              "      <td>-40.503</td>\n",
              "      <td>National</td>\n",
              "      <td>On 1 January 2018, Petrolina, Pernambuco, a ma...</td>\n",
              "      <td>1</td>\n",
              "    </tr>\n",
              "    <tr>\n",
              "      <th>4</th>\n",
              "      <td>01-January-2018</td>\n",
              "      <td>Violence against civilians</td>\n",
              "      <td>Attack</td>\n",
              "      <td>Unidentified Armed Group (Brazil)</td>\n",
              "      <td>Civilians (Brazil)</td>\n",
              "      <td>Brazil</td>\n",
              "      <td>Floriano</td>\n",
              "      <td>-6.773</td>\n",
              "      <td>-43.012</td>\n",
              "      <td>National</td>\n",
              "      <td>On 1 January 2018, in Floriano, Piaui, a man w...</td>\n",
              "      <td>1</td>\n",
              "    </tr>\n",
              "  </tbody>\n",
              "</table>\n",
              "</div>\n",
              "      <button class=\"colab-df-convert\" onclick=\"convertToInteractive('df-8e55ae5b-5d8f-484d-9b29-e54f880e8898')\"\n",
              "              title=\"Convert this dataframe to an interactive table.\"\n",
              "              style=\"display:none;\">\n",
              "        \n",
              "  <svg xmlns=\"http://www.w3.org/2000/svg\" height=\"24px\"viewBox=\"0 0 24 24\"\n",
              "       width=\"24px\">\n",
              "    <path d=\"M0 0h24v24H0V0z\" fill=\"none\"/>\n",
              "    <path d=\"M18.56 5.44l.94 2.06.94-2.06 2.06-.94-2.06-.94-.94-2.06-.94 2.06-2.06.94zm-11 1L8.5 8.5l.94-2.06 2.06-.94-2.06-.94L8.5 2.5l-.94 2.06-2.06.94zm10 10l.94 2.06.94-2.06 2.06-.94-2.06-.94-.94-2.06-.94 2.06-2.06.94z\"/><path d=\"M17.41 7.96l-1.37-1.37c-.4-.4-.92-.59-1.43-.59-.52 0-1.04.2-1.43.59L10.3 9.45l-7.72 7.72c-.78.78-.78 2.05 0 2.83L4 21.41c.39.39.9.59 1.41.59.51 0 1.02-.2 1.41-.59l7.78-7.78 2.81-2.81c.8-.78.8-2.07 0-2.86zM5.41 20L4 18.59l7.72-7.72 1.47 1.35L5.41 20z\"/>\n",
              "  </svg>\n",
              "      </button>\n",
              "      \n",
              "  <style>\n",
              "    .colab-df-container {\n",
              "      display:flex;\n",
              "      flex-wrap:wrap;\n",
              "      gap: 12px;\n",
              "    }\n",
              "\n",
              "    .colab-df-convert {\n",
              "      background-color: #E8F0FE;\n",
              "      border: none;\n",
              "      border-radius: 50%;\n",
              "      cursor: pointer;\n",
              "      display: none;\n",
              "      fill: #1967D2;\n",
              "      height: 32px;\n",
              "      padding: 0 0 0 0;\n",
              "      width: 32px;\n",
              "    }\n",
              "\n",
              "    .colab-df-convert:hover {\n",
              "      background-color: #E2EBFA;\n",
              "      box-shadow: 0px 1px 2px rgba(60, 64, 67, 0.3), 0px 1px 3px 1px rgba(60, 64, 67, 0.15);\n",
              "      fill: #174EA6;\n",
              "    }\n",
              "\n",
              "    [theme=dark] .colab-df-convert {\n",
              "      background-color: #3B4455;\n",
              "      fill: #D2E3FC;\n",
              "    }\n",
              "\n",
              "    [theme=dark] .colab-df-convert:hover {\n",
              "      background-color: #434B5C;\n",
              "      box-shadow: 0px 1px 3px 1px rgba(0, 0, 0, 0.15);\n",
              "      filter: drop-shadow(0px 1px 2px rgba(0, 0, 0, 0.3));\n",
              "      fill: #FFFFFF;\n",
              "    }\n",
              "  </style>\n",
              "\n",
              "      <script>\n",
              "        const buttonEl =\n",
              "          document.querySelector('#df-8e55ae5b-5d8f-484d-9b29-e54f880e8898 button.colab-df-convert');\n",
              "        buttonEl.style.display =\n",
              "          google.colab.kernel.accessAllowed ? 'block' : 'none';\n",
              "\n",
              "        async function convertToInteractive(key) {\n",
              "          const element = document.querySelector('#df-8e55ae5b-5d8f-484d-9b29-e54f880e8898');\n",
              "          const dataTable =\n",
              "            await google.colab.kernel.invokeFunction('convertToInteractive',\n",
              "                                                     [key], {});\n",
              "          if (!dataTable) return;\n",
              "\n",
              "          const docLinkHtml = 'Like what you see? Visit the ' +\n",
              "            '<a target=\"_blank\" href=https://colab.research.google.com/notebooks/data_table.ipynb>data table notebook</a>'\n",
              "            + ' to learn more about interactive tables.';\n",
              "          element.innerHTML = '';\n",
              "          dataTable['output_type'] = 'display_data';\n",
              "          await google.colab.output.renderOutput(dataTable, element);\n",
              "          const docLink = document.createElement('div');\n",
              "          docLink.innerHTML = docLinkHtml;\n",
              "          element.appendChild(docLink);\n",
              "        }\n",
              "      </script>\n",
              "    </div>\n",
              "  </div>\n",
              "  "
            ]
          },
          "metadata": {},
          "execution_count": 2
        }
      ]
    },
    {
      "cell_type": "code",
      "source": [
        "dados.columns"
      ],
      "metadata": {
        "colab": {
          "base_uri": "https://localhost:8080/"
        },
        "id": "D1nH2d_cUe-V",
        "outputId": "42b799a3-536d-47d5-9b2b-6b91f6301f93"
      },
      "execution_count": 4,
      "outputs": [
        {
          "output_type": "execute_result",
          "data": {
            "text/plain": [
              "Index(['EVENT_DATE', 'EVENT_TYPE', 'SUB_EVENT_TYPE', 'ACTOR1', 'ACTOR2',\n",
              "       'COUNTRY', 'LOCATION', 'LATITUDE', 'LONGITUDE', 'SOURCE_SCALE', 'NOTES',\n",
              "       'FATALITIES'],\n",
              "      dtype='object')"
            ]
          },
          "metadata": {},
          "execution_count": 4
        }
      ]
    },
    {
      "cell_type": "code",
      "source": [
        "dados['SOURCE_SCALE'].unique()"
      ],
      "metadata": {
        "colab": {
          "base_uri": "https://localhost:8080/"
        },
        "id": "jqI_28deUw1o",
        "outputId": "fc7a33dd-dbb7-4268-e52b-3e075a0bad2a"
      },
      "execution_count": 19,
      "outputs": [
        {
          "output_type": "execute_result",
          "data": {
            "text/plain": [
              "array(['National', 'National-International', 'Other', 'New media',\n",
              "       'Subnational', 'New media-National', 'Local partner-Other',\n",
              "       'Subnational-National', 'International', 'New media-Subnational',\n",
              "       'Other-New media', 'Regional', 'Subnational-International',\n",
              "       'New media-International', 'Other-National', 'Other-Subnational',\n",
              "       'Local partner-New media'], dtype=object)"
            ]
          },
          "metadata": {},
          "execution_count": 19
        }
      ]
    },
    {
      "cell_type": "code",
      "source": [
        "dados['LOCATION'].nunique()"
      ],
      "metadata": {
        "colab": {
          "base_uri": "https://localhost:8080/"
        },
        "id": "xa4etu4hVnyf",
        "outputId": "2e5eecae-bf61-47b3-a7d3-0ebef6b0191c"
      },
      "execution_count": 18,
      "outputs": [
        {
          "output_type": "execute_result",
          "data": {
            "text/plain": [
              "3410"
            ]
          },
          "metadata": {},
          "execution_count": 18
        }
      ]
    },
    {
      "cell_type": "code",
      "source": [
        "# https://www.kaggle.com/datasets/michau96/restaurant-business-rankings-2020\n",
        "# https://www.kaggle.com/datasets/teejmahal20/airline-passenger-satisfaction\n",
        "# https://www.kaggle.com/datasets/vagnerbessa/average-car-prices-bazil\n",
        "# https://www.kaggle.com/datasets/mcamera/brazil-highway-traffic-accidents"
      ],
      "metadata": {
        "id": "8pnafvUaaerE"
      },
      "execution_count": null,
      "outputs": []
    }
  ]
}