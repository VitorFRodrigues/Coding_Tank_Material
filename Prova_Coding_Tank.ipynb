{
  "nbformat": 4,
  "nbformat_minor": 0,
  "metadata": {
    "colab": {
      "provenance": [],
      "authorship_tag": "ABX9TyP6Vw9O+LJwRM9ss640L0Wz",
      "include_colab_link": true
    },
    "kernelspec": {
      "name": "python3",
      "display_name": "Python 3"
    },
    "language_info": {
      "name": "python"
    }
  },
  "cells": [
    {
      "cell_type": "markdown",
      "metadata": {
        "id": "view-in-github",
        "colab_type": "text"
      },
      "source": [
        "<a href=\"https://colab.research.google.com/github/VitorFRodrigues/Coding_Tank_Material/blob/main/Prova_Coding_Tank.ipynb\" target=\"_parent\"><img src=\"https://colab.research.google.com/assets/colab-badge.svg\" alt=\"Open In Colab\"/></a>"
      ]
    },
    {
      "cell_type": "markdown",
      "source": [
        "Questão #1\n",
        "\n",
        "Enunciado\n",
        "Um parque de diversões tem 3 atrações principais: o carrossel, piscina de bolinhas e montanha-russa.\n",
        "\n",
        "Para poder participar de uma atração a pessoa deve cumprir as seguintes condições:\n",
        "\n",
        "Carrossel: altura mínima de 1,00m e idade mínima de 3 anos.\n",
        "\n",
        "Piscina de bolinhas: idade entre 4 e 9 anos e máximo de 1,30m de altura.\n",
        "\n",
        "Montanha-russa: altura mínima de 1,10m.\n",
        "O fiscal de cada atração verificará o ano de nascimento da pessoa e altura para liberar o acesso para uma pessoa.\n",
        "\n",
        "Faça uma função em python que receba o ano de nascimento e altura da pessoa e informe quais as atrações que a pessoa pode participar."
      ],
      "metadata": {
        "id": "V_38UZyolZpx"
      }
    },
    {
      "cell_type": "code",
      "execution_count": 72,
      "metadata": {
        "id": "LSeaa76POgXl"
      },
      "outputs": [],
      "source": [
        "def atracao(ano_nasc, altura):\n",
        "  idade = 2022 - ano_nasc\n",
        "  liberacoes = []\n",
        "  # Check Carrossel\n",
        "  if altura >= 1.00 and idade >= 3:\n",
        "    liberacoes.append('Carrossel')\n",
        "  # Check Piscina de bolinhas\n",
        "  if idade >= 4 and idade <= 9 and altura <= 1.30:\n",
        "    liberacoes.append('Piscina de bolinhas')\n",
        "  # Check Montanha-russa\n",
        "  if altura >= 1.10:\n",
        "    liberacoes.append('Montanha-russa')\n",
        "  \n",
        "  # Informando as atrações permitidas\n",
        "  print('\\nATRAÇÕES PERMITIDAS')\n",
        "  if len(liberacoes) == 0:\n",
        "    print('Nenhuma')\n",
        "  else:\n",
        "    for i in liberacoes:\n",
        "      print(f'{i}')"
      ]
    },
    {
      "cell_type": "code",
      "source": [
        "# Inputs do código e chamada de função\n",
        "print('QUAIS ATRAÇÕES VOCÊ PODERÁ PARTICIPAR?')\n",
        "ano_nasc = int(input('Digite o ano de nascimento da pessoa (no formato XXXX): '))\n",
        "altura = float(input('Digite a altura da pessoa (em metros): '))\n",
        "atracao(ano_nasc, altura)"
      ],
      "metadata": {
        "colab": {
          "base_uri": "https://localhost:8080/"
        },
        "id": "bJgrYbwYiYo7",
        "outputId": "841af46a-4e4e-4ebd-f673-e575754f5c77"
      },
      "execution_count": 73,
      "outputs": [
        {
          "output_type": "stream",
          "name": "stdout",
          "text": [
            "QUAIS ATRAÇÕES VOCÊ PODERÁ PARTICIPAR?\n",
            "Digite o ano de nascimento da pessoa (no formato XXXX): 1993\n",
            "Digite a altura da pessoa (em metros): 1.76\n",
            "\n",
            "ATRAÇÕES PERMITIDAS\n",
            "Carrossel\n",
            "Montanha-russa\n"
          ]
        }
      ]
    },
    {
      "cell_type": "markdown",
      "source": [
        "Questão #2\n",
        "\n",
        "Enunciado\n",
        "Peça ao usuário para entrar com um número e faça uma função que retorne o fatorial dele como resposta. O fatorial de um número é o resultado da multiplicação de todos os números que o antecedem a partir de 1 até o número fornecido. Atenção, fatorial só vale para números positivos!\n",
        "\n",
        "Exemplo: fatorial de 4 = 1 * 2 * 3 * 4 = 24"
      ],
      "metadata": {
        "id": "szry8Ueilf0m"
      }
    },
    {
      "cell_type": "code",
      "source": [
        "def fatorial(num):\n",
        "  if num == 1: #Condicional para garantir que o usuário digitou um número inteiro positivo\n",
        "    print('fatorial de 1 = 1 * 1 = 1')\n",
        "  elif num >= 2: \n",
        "    \n",
        "    # Calculando o fatorial\n",
        "    fat = 1\n",
        "    for i in range(1, num+1):\n",
        "      fat *= i\n",
        "    \n",
        "    # Imprimindo na tela\n",
        "    print(f'fatorial de {num} = ', end='')\n",
        "    for i in range(1, num+1):\n",
        "      if i != num:\n",
        "        print(f'{i} * ', end='')\n",
        "      else:\n",
        "        print(f'{i} ', end='')\n",
        "    print(f'= {fat}')\n",
        "  \n",
        "  else: #Caso o usuário não tenha digitado um valor inteiro positivo, aparecerá mensagem de erro na tela\n",
        "    print('ERRO! Fatorial só vale para números inteiros positivos!')"
      ],
      "metadata": {
        "id": "Gcc1e32IlkAV"
      },
      "execution_count": 101,
      "outputs": []
    },
    {
      "cell_type": "code",
      "source": [
        "# Input do código e chamada de função\n",
        "print('CÁLCULO DE FATORIAL')\n",
        "num = int(input('Digite um número inteiro positivo: '))\n",
        "fatorial(num)"
      ],
      "metadata": {
        "colab": {
          "base_uri": "https://localhost:8080/"
        },
        "id": "JuuqY3l1lqRM",
        "outputId": "f2982f8d-d5aa-4494-9193-ae7b214fa9d3"
      },
      "execution_count": 107,
      "outputs": [
        {
          "output_type": "stream",
          "name": "stdout",
          "text": [
            "CÁLCULO DE FATORIAL\n",
            "Digite um número inteiro positivo: 4\n",
            "fatorial de 4 = 1 * 2 * 3 * 4 = 24\n"
          ]
        }
      ]
    },
    {
      "cell_type": "markdown",
      "source": [
        "Questão #3\n",
        "\n",
        "Enunciado\n",
        "Dado um número fornecido pelo usuário, faça um programa que teste se é número primo e imprima na tela. Além disso, exiba uma lista de divisores do número testado. Um número primo é divisível somente por 1 e por ele mesmo. Seu programa deve ser funcional para qualquer número até o 100."
      ],
      "metadata": {
        "id": "EfMuGs4voR66"
      }
    },
    {
      "cell_type": "code",
      "source": [
        "print('Encontrando números primos de 2 a 100!')\n",
        "num = int(input('Digite um número inteiro positivo: '))\n",
        "\n",
        "if num > 1 and num <= 100: #Condicional para garantir que o usuário digitou um número inteiro positivo\n",
        "\n",
        "  # Declarando lista 'divisivel' que receberá os valores divisiveis do número recebido após passagem de laço 'for'\n",
        "  divisivel = []\n",
        "  for i in range(1, num+1):\n",
        "    if num % i == 0:\n",
        "      divisivel.append(i)\n",
        "  \n",
        "  # Imprimindo na tela caso o valor seja primo\n",
        "  if len(divisivel) == 2:\n",
        "    print(f'{num} é divisível somente por {divisivel[0]} e ele mesmo ({divisivel[-1]}), então é primo.')\n",
        "  \n",
        "  # Imprimindo na tela caso o valor NÃO seja primo\n",
        "  else:\n",
        "    print(f'{num} é divisível por ', end='')\n",
        "    for i in range(len(divisivel)-1):\n",
        "      if divisivel[i] != divisivel[-2]:\n",
        "        print(f'{divisivel[i]}, ', end='')\n",
        "      else:\n",
        "        print(f'{divisivel[i]} ', end='')\n",
        "    print(f'e ele mesmo ({divisivel[-1]}), então NÃO é primo.')\n",
        "\n",
        "else: #Caso o usuário não tenha digitado um valor inteiro positivo, aparecerá mensagem de erro na tela\n",
        "  print('ERRO! Digite um número inteiro positivo de 2 a 100!')"
      ],
      "metadata": {
        "colab": {
          "base_uri": "https://localhost:8080/"
        },
        "id": "XYOy-vTWoVvI",
        "outputId": "320e3cc6-4ce7-4c0b-fc1f-0573109097c2"
      },
      "execution_count": 110,
      "outputs": [
        {
          "output_type": "stream",
          "name": "stdout",
          "text": [
            "Encontrando números primos de 2 a 100!\n",
            "Digite um número inteiro positivo: 13\n",
            "13 é divisível somente por 1 e ele mesmo (13), então é primo.\n"
          ]
        }
      ]
    },
    {
      "cell_type": "markdown",
      "source": [
        "Questão #4\n",
        "Vale\n",
        "5\n",
        "Enunciado\n",
        "Faça um script que leia 10 números do usuário e informe se algum número foi inserido em sequência. Se mais de um número for repetido, informe ao menos um (caso no Exemplo 3).\n",
        "\n",
        "Exemplo 1\n",
        "input 1: 3\n",
        "input 2: 5\n",
        "(etc...) 6.. 7.. 12.. 2... 43.. 5.. \n",
        "input 9: 1\n",
        "input 10: 8\n",
        "output: Nenhum número foi repetido em sequência\n",
        "Exemplo 2\n",
        "input 1: 9\n",
        "input 2: 4\n",
        "(etc...) 9.. 5.. 9.. 6... 3.. 1.. \n",
        "input 9: 6\n",
        "input 10: 6\n",
        "output: O número 6 foi repetido em sequência\n",
        "Exemplo 3\n",
        "input 1: 2\n",
        "input 2: 3\n",
        "(etc...) 9.. 9.. 4.. 6... 7.. 7.. \n",
        "input 9: 4\n",
        "input 10: 3\n",
        "output: O número 7 foi repetido em sequência"
      ],
      "metadata": {
        "id": "CS4k_Sw3sMy0"
      }
    },
    {
      "cell_type": "code",
      "source": [
        "print('Digite 10 números inteiros')\n",
        "# Declaração de lista que receberá os inputs, e variavel repetido que receberá o último sequenciado\n",
        "lista = []\n",
        "repetido = None\n",
        "for i in range(10):\n",
        "  lista.append(int(input(f'input {i+1}: ')))\n",
        "  if i > 0: \n",
        "    if lista[i] == lista[i-1]: # Condicional busca por itens repetidos\n",
        "      repetido = lista[i]\n",
        "\n",
        "if repetido != None: # Caso tenha sido inserido algum valor na variável 'repetido' vamos imprimir na tela\n",
        "  print(f'output: O número {repetido} foi repetido em sequência')\n",
        "else:\n",
        "  print('output: Nenhum número foi repetido em sequência')"
      ],
      "metadata": {
        "colab": {
          "base_uri": "https://localhost:8080/"
        },
        "id": "MNZW03KSsQvC",
        "outputId": "be8efb55-7cbd-49db-d8b4-33c499442ac0"
      },
      "execution_count": 64,
      "outputs": [
        {
          "output_type": "stream",
          "name": "stdout",
          "text": [
            "Digite 10 números inteiros\n",
            "input 1: 2\n",
            "input 2: 3\n",
            "input 3: 9\n",
            "input 4: 9\n",
            "input 5: 4\n",
            "input 6: 6\n",
            "input 7: 7\n",
            "input 8: 7\n",
            "input 9: 4\n",
            "input 10: 3\n",
            "output: O número 7 foi repetido em sequência\n"
          ]
        }
      ]
    },
    {
      "cell_type": "markdown",
      "source": [
        "Resultado sexta-feira - 11/11"
      ],
      "metadata": {
        "id": "BaNI9gYp1ahk"
      }
    }
  ]
}