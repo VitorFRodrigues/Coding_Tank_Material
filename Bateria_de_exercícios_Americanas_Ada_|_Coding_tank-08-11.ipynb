{
  "nbformat": 4,
  "nbformat_minor": 0,
  "metadata": {
    "colab": {
      "provenance": [],
      "include_colab_link": true
    },
    "kernelspec": {
      "name": "python3",
      "display_name": "Python 3"
    },
    "language_info": {
      "name": "python"
    }
  },
  "cells": [
    {
      "cell_type": "markdown",
      "metadata": {
        "id": "view-in-github",
        "colab_type": "text"
      },
      "source": [
        "<a href=\"https://colab.research.google.com/github/VitorFRodrigues/Coding_Tank_Material/blob/main/Bateria_de_exerc%C3%ADcios_Americanas_Ada_%7C_Coding_tank-08-11.ipynb\" target=\"_parent\"><img src=\"https://colab.research.google.com/assets/colab-badge.svg\" alt=\"Open In Colab\"/></a>"
      ]
    },
    {
      "cell_type": "markdown",
      "source": [
        "# Tipos de variáveis e coerção de tipos"
      ],
      "metadata": {
        "id": "jQEGaqc5CENJ"
      }
    },
    {
      "cell_type": "markdown",
      "source": [
        "1. Crie um programa que receba seu nome e te dê boas vindas!"
      ],
      "metadata": {
        "id": "M-FzgFHHCCJQ"
      }
    },
    {
      "cell_type": "code",
      "source": [
        "nome = input('Digite seu nome: ')\n",
        "print(f'Olá {nome}! Seja bem vindo!')"
      ],
      "metadata": {
        "id": "-4tC-U0ZCCSt"
      },
      "execution_count": null,
      "outputs": []
    },
    {
      "cell_type": "markdown",
      "source": [
        "2. Crie um cadastro que receba nome, telefone e retorne-os em tela ao final da execução."
      ],
      "metadata": {
        "id": "MYhFPl8YCCbg"
      }
    },
    {
      "cell_type": "code",
      "source": [
        "nome = input('Digite seu nome: ')\n",
        "telefone = input('Digite seu telefone (XX) X XXXX-XXXX: ')\n",
        "print('Cadastro Realizado!')\n",
        "print(f'Nome: {nome}')\n",
        "print(f'Fone: {telefone}')"
      ],
      "metadata": {
        "id": "ARAasyjYCCjR"
      },
      "execution_count": null,
      "outputs": []
    },
    {
      "cell_type": "markdown",
      "source": [
        "3. Crie um programa que receba altura e peso e retorne o IMC."
      ],
      "metadata": {
        "id": "3qCr_Ol3CCqc"
      }
    },
    {
      "cell_type": "code",
      "source": [
        "alt = float(input('Digite sua alura(m): '))\n",
        "peso = float(input('Digite seu peso(kg): '))\n",
        "imc = peso / (alt ** 2)\n",
        "print(f'Seu IMC é {imc:.2f}')"
      ],
      "metadata": {
        "id": "hq0mp1cOCCwD"
      },
      "execution_count": null,
      "outputs": []
    },
    {
      "cell_type": "markdown",
      "source": [
        "4. Construa um programa que receba uma idade e um nome e imprima uma saída do tipo: \"Adriele tem 22 anos.\"."
      ],
      "metadata": {
        "id": "UfQO_0WVCC0w"
      }
    },
    {
      "cell_type": "code",
      "source": [
        "nome = input('Digite seu nome: ')\n",
        "idade = input('Digite sua idade: ')\n",
        "print(f'{nome} tem {idade} anos.')"
      ],
      "metadata": {
        "id": "yBTHgVycCC5l"
      },
      "execution_count": null,
      "outputs": []
    },
    {
      "cell_type": "markdown",
      "source": [
        "5. Construa um programa que receba uma idade e um nome e imprima uma saída do tipo: \"Adriele tem 22 anos.\". No entanto, desta vez considere a idade que o usuário terá daqui há 15 anos, e não a idade que o usuário tem no momento da execução do programa."
      ],
      "metadata": {
        "id": "bx59ZHtACC-j"
      }
    },
    {
      "cell_type": "code",
      "source": [
        "nome = input('Digite seu nome: ')\n",
        "idade = int(input('Digite sua idade: '))\n",
        "print(f'{nome} tem {idade} anos.\\nDaqui a 15 anos, {nome} terá {idade+15} anos')"
      ],
      "metadata": {
        "id": "YRyTCXJ0CDCr"
      },
      "execution_count": null,
      "outputs": []
    },
    {
      "cell_type": "markdown",
      "source": [
        "# Estruturas condicionais"
      ],
      "metadata": {
        "id": "CXpOmMThCDHQ"
      }
    },
    {
      "cell_type": "markdown",
      "source": [
        "1. Faça um programa que receba o nome e a idade de um usuário e no final diga algo do tipo \"Thiago já está apto a tirar a sua habilitação de motorista e esta será válida até que ele complete 39 anos\". Considere 10 anos como o período de validade de uma habilitação no Brasil."
      ],
      "metadata": {
        "id": "EnJINs6-DO-t"
      }
    },
    {
      "cell_type": "code",
      "source": [
        "nome = input('Digite seu nome: ')\n",
        "idade = int(input('Digite sua idade: '))\n",
        "if idade >= 18:\n",
        "  print(f'{nome} está apto a tirar sua habilitação de motorista e esta será válida até que ele complete {idade+10} anos.')"
      ],
      "metadata": {
        "id": "P29iJYnNCDL1"
      },
      "execution_count": null,
      "outputs": []
    },
    {
      "cell_type": "markdown",
      "source": [
        "2. Escreva um programa que recebe um número e diz se este é par ou ímpar"
      ],
      "metadata": {
        "id": "meP-Q2SACDQG"
      }
    },
    {
      "cell_type": "code",
      "source": [
        "num = int(input('Digite um número: '))\n",
        "if num % 2==0:\n",
        "  status = 'par'\n",
        "else:\n",
        "  status = 'impar'\n",
        "print(f'O número {num} é {status}.')"
      ],
      "metadata": {
        "id": "sSRj0H0DCDUs"
      },
      "execution_count": null,
      "outputs": []
    },
    {
      "cell_type": "markdown",
      "source": [
        "3. Crie um programa que receba um número e imprima \"fuzz\" se o número for múltiplo de 3, \"buzz\" se deixar resto 1 na divisão por 3 e \"nada\" se deixar resto 2 na divisão por 3"
      ],
      "metadata": {
        "id": "Xk7dtrcdDmk_"
      }
    },
    {
      "cell_type": "code",
      "source": [
        "num = int(input('Digite um número: '))\n",
        "if num % 3==0:\n",
        "  print('fuzz')\n",
        "elif num % 3 == 1:\n",
        "  print('buzz')\n",
        "elif num % 3 == 2:\n",
        "  print('nada')"
      ],
      "metadata": {
        "id": "jsYQYQB8DnA6"
      },
      "execution_count": null,
      "outputs": []
    },
    {
      "cell_type": "markdown",
      "source": [
        "4. Crie um programa que recebe sua altura e peso, calcula o imc e retorna um status (abaixo do peso, no peso, acima do peso)."
      ],
      "metadata": {
        "id": "kroUj3jvDnjj"
      }
    },
    {
      "cell_type": "code",
      "source": [
        "alt = float(input('Digite sua altura: '))\n",
        "peso = float(input('Digite seu peso: '))\n",
        "imc = peso / (alt ** 2)\n",
        "\n",
        "if imc < 18.5:\n",
        "  status = 'Abaixo do peso normal'\n",
        "elif imc >= 18.5 and imc <= 24.9:\n",
        "  status = 'Peso normal'\n",
        "else:\n",
        "  status = 'Acima do peso'\n",
        "\n",
        "print(f'Status IMC: {status}.')"
      ],
      "metadata": {
        "id": "8C0d3LLpDn1y"
      },
      "execution_count": null,
      "outputs": []
    },
    {
      "cell_type": "markdown",
      "source": [
        "5. Você quer pintar sua casa e está em dúvida entre as cores Azul, Vermelho e Magenta. Sabendo que a tinta Azul custa 25,00 reais por metro quadrado, Vermelho custa 35,00 reais por metro quadrado e Magenta custa 45,00 reais por metro quadrado, faça o seguinte:\n",
        "\n",
        "  a) Crie um programa que recebe metros quadrados da sua parede e a cor da tinta e então retorne quanto gastará com tinta.\n",
        "\n",
        "  b) Crie um programa que recebe largura, altura, número de paredes e a cor da tinta escolhida e então retorne quanto gastará com tinta."
      ],
      "metadata": {
        "id": "ZZVQJSh_DoMM"
      }
    },
    {
      "cell_type": "code",
      "source": [
        "custo = 0\n",
        "print('Gastos com tintas')\n",
        "opcao = int(input('Digite a letra para uma das opções abaixo.\\n1 - Sei metragem quadrada de minha parede\\n2 - Prefiro informar dimensões e quantidade de paredes\\n'))\n",
        "\n",
        "if opcao == 1:\n",
        "  area = float(input('Digite a área a ser pintada em m²: '))\n",
        "  cor = int(input('Informe a cor que deseja pintar:\\n1 - Azul\\n2 - Vermelho\\n3 - Magenta\\n'))\n",
        "  if cor == 1:\n",
        "    preco_tinta = 25\n",
        "    custo = area * preco_tinta\n",
        "  elif cor == 2:\n",
        "    preco_tinta = 35\n",
        "    custo = area * preco_tinta\n",
        "  elif cor == 3:\n",
        "    preco_tinta = 45\n",
        "    custo = area * preco_tinta\n",
        "  else:\n",
        "    print('Cor Incorreta! Tente novamente!')\n",
        "elif opcao == 2:\n",
        "  larg = float(input('Digite a largura da parede a ser pintada em m: '))\n",
        "  alt =  float(input('Digite a altura da parede a ser pintada em m: '))\n",
        "  num =  int(input('Digite o número de paredes a ser pintadas: '))\n",
        "  cor = int(input('Informe a cor que deseja pintar:\\n1 - Azul\\n2 - Vermelho\\n3 - Magenta\\n'))\n",
        "  if cor == 1:\n",
        "    preco_tinta = 25\n",
        "    custo = larg * alt * num * preco_tinta\n",
        "  elif cor == 2:\n",
        "    preco_tinta = 35\n",
        "    custo = larg * alt * num * preco_tinta\n",
        "  elif cor == 3:\n",
        "    preco_tinta = 45\n",
        "    custo = larg * alt * num * preco_tinta\n",
        "  else:\n",
        "    print('Cor Incorreta! Tente novamente!')\n",
        "else:\n",
        "  print('Opção Incorreta! Tente novamente!')\n",
        "\n",
        "if custo != 0:\n",
        "  print(f'Será gasto R${custo:.2f} em tinta')\n",
        "  custo = 0"
      ],
      "metadata": {
        "id": "H34xnUnKDoqR"
      },
      "execution_count": null,
      "outputs": []
    },
    {
      "cell_type": "markdown",
      "source": [
        "6. Faça um Programa que verifique se uma letra digitada é \"F\" ou \"M\". Conforme a letra escrever: F - Feminino, M - Masculino, Sexo Inválido."
      ],
      "metadata": {
        "id": "HU49bZE_D_YD"
      }
    },
    {
      "cell_type": "code",
      "source": [
        "sexo = input('Digite o seu sexo [F/M]: ')\n",
        "if sexo in 'Ff':\n",
        "  print('Sexo F - Feminino')\n",
        "elif sexo in 'Mm':\n",
        "  print('Sexo M - Masculino')\n",
        "else:\n",
        "  print('Sexo Inválido')"
      ],
      "metadata": {
        "id": "NAjug4lED_7O"
      },
      "execution_count": null,
      "outputs": []
    },
    {
      "cell_type": "markdown",
      "source": [
        "7. Faça um programa que inicialmente receba 2 notas parciais de um aluno (prova 1 e prova 2). Se a média de ambas as notas for superior ou igual a 7, o programa retorna \"APROVADO.\" Senão, o programa solicita uma nota adicional, a nota do provão. Tendo a nota do provão, se a média das 3 notas for maior ou igual a 7 ou se pelo menos duas das 3 notas for maior ou igual a 6, imprima \"APROVADO POR POUCO!\" Senão, imprima \"QUE PENA! TENTE FAZER A SÉTIMA SÉRIE OUTRA VEZ!\" "
      ],
      "metadata": {
        "id": "wEHgiM--EL0S"
      }
    },
    {
      "cell_type": "code",
      "source": [
        "p1 = float(input('Digite a nota da prova 1: '))\n",
        "p2 = float(input('Digite a nota da prova 2: '))\n",
        "med1 = (p1 + p2)/2\n",
        "if med1 >= 7:\n",
        "  print('APROVADO.')\n",
        "else:\n",
        "  p3 = float(input('Digite a nota do provão: '))\n",
        "  med2 = (p1+p2+p3)/3\n",
        "  if med2 >= 7 or (p1>=6 and p2>=6) or (p1>=6 and p3>=6) or (p2>=6 and p2>=6):\n",
        "    print('APROVADO POR POUCO!')\n",
        "  else:\n",
        "    print('QUE PENA! TENTE FAZER A SÉTIMA SÉRIE OUTRA VEZ!')"
      ],
      "metadata": {
        "id": "TD-66KApEMOf"
      },
      "execution_count": null,
      "outputs": []
    },
    {
      "cell_type": "markdown",
      "source": [
        "8. Faça um Programa que leia três números e mostre-os em ordem decrescente."
      ],
      "metadata": {
        "id": "OBJhYHv0EfZA"
      }
    },
    {
      "cell_type": "code",
      "source": [
        "n1 = int(input('Digite um número: '))\n",
        "n2 = int(input('Digite outro número: '))\n",
        "n3 = int(input('Digite mais um número: '))\n",
        "\n",
        "if n1 > n2:"
      ],
      "metadata": {
        "id": "fkaRjT_SEf0E"
      },
      "execution_count": null,
      "outputs": []
    },
    {
      "cell_type": "markdown",
      "source": [
        "9. Faça um Programa que pergunte em que turno você estuda. Peça para digitar M-matutino ou V-Vespertino ou N- Noturno. Imprima a mensagem \"Bom Dia!\", \"Boa Tarde!\" ou \"Boa Noite!\" ou \"Valor Inválido!\", conforme o caso."
      ],
      "metadata": {
        "id": "4Qq5T6YZEmbG"
      }
    },
    {
      "cell_type": "code",
      "source": [
        "turno = input('Digite o turno que você estuda [M-matutino / V-Vespertino / N-Noturno]: ')\n",
        "if turno in 'Mm':\n",
        "  print('Bom dia!')\n",
        "elif turno in 'Vv':\n",
        "  print('Boa tarde!')\n",
        "elif turno in 'Nn':\n",
        "  print('Boa noite!')\n",
        "else:\n",
        "  print('Valor Inválido!')"
      ],
      "metadata": {
        "id": "r2DakUwHEm0T"
      },
      "execution_count": null,
      "outputs": []
    },
    {
      "cell_type": "markdown",
      "source": [
        "10. Faça um programa que pergunte o preço de três produtos e informe qual produto você deve comprar, sabendo que a decisão é sempre pelo mais barato."
      ],
      "metadata": {
        "id": "VJfkq6SNEqwj"
      }
    },
    {
      "cell_type": "code",
      "source": [
        "prod1 = float(input('Digite o preço do produto 1: '))\n",
        "prod2 = float(input('Digite o preço do produto 2: '))\n",
        "prod3 = float(input('Digite o preço do produto 3: '))\n",
        "\n",
        "if prod1 <= prod2 and prod1 <= prod3:\n",
        "  compra = prod1\n",
        "elif prod2 <= prod1 and prod2 <= prod3:\n",
        "  compra = prod2\n",
        "elif prod3 <= prod1 and prod3 <= prod2:\n",
        "  compra = prod3\n",
        "print(f'Você deve comprar {compra}.')"
      ],
      "metadata": {
        "id": "VgfGG6iiErHM"
      },
      "execution_count": null,
      "outputs": []
    },
    {
      "cell_type": "markdown",
      "source": [
        "11. Faça um Programa que leia três números e mostre o maior e o menor deles."
      ],
      "metadata": {
        "id": "B4kyf0teExEU"
      }
    },
    {
      "cell_type": "code",
      "source": [],
      "metadata": {
        "id": "Cl7QHyONEwnk"
      },
      "execution_count": null,
      "outputs": []
    },
    {
      "cell_type": "markdown",
      "source": [
        "12. Crie um programa que faça as seguintes 5 perguntas e diagnostique o paciente:\n",
        "\n",
        "  A. Sente dor no corpo?\n",
        "\n",
        "  B. Tem febre?\n",
        "\n",
        "  C. Tem tosse?\n",
        "\n",
        "  D. Está com congestão nasal?\n",
        "\n",
        "  E. Tem manchas no corpo?\n",
        "\n",
        "  Condições:\n",
        "\n",
        "    Se apenas a primeira for verdade, o paciente não está doente;\n",
        "    Se B, C e D forem verdade, o paciente está com gripe;\n",
        "    Se todas forem verdade, paciente está com Dengue;\n",
        "    Caso contrário, não temos o diagnóstico."
      ],
      "metadata": {
        "id": "fN1jbJ8EFCxW"
      }
    },
    {
      "cell_type": "code",
      "source": [],
      "metadata": {
        "id": "2I1nA2vOFKSi"
      },
      "execution_count": null,
      "outputs": []
    },
    {
      "cell_type": "markdown",
      "source": [
        "13. Para entrar em um carro de palhaço, os palhaços precisarão respeitar as seguintes condições:\n",
        "\n",
        "    Ter entre 20 e 30 anos, entre 40 e 50 ou entre 70 e 75 anos apenas;\n",
        "\n",
        "    Os palhaços mais velhos irão no banco da frente, os mais novos no porta-malas e a idade que restou irá no banco de trás\n",
        "\n",
        "Crie um programa que receba a idade do palhaço imprima os seguintes passos NESTA ORDEM:\n",
        "\n",
        "    Indique se o palhaço poderá entrar no carro;\n",
        "\n",
        "    Indique onde o palhaço ficará no carro."
      ],
      "metadata": {
        "id": "67cLTMIoFJvs"
      }
    },
    {
      "cell_type": "code",
      "source": [],
      "metadata": {
        "id": "UUiSUeqGFDL_"
      },
      "execution_count": null,
      "outputs": []
    },
    {
      "cell_type": "markdown",
      "source": [
        "# Laços de repetição"
      ],
      "metadata": {
        "id": "FhrZnAmNETk7"
      }
    },
    {
      "cell_type": "markdown",
      "source": [
        "1. Crie o programa \"Bart Simpson\": ele recebe um número de vezes e uma frase, e imprime na tela a mesma frase até atingir o número de vezes solicitado."
      ],
      "metadata": {
        "id": "Rq7sYH3XET66"
      }
    },
    {
      "cell_type": "code",
      "source": [
        "contador = 0\n",
        "numero = int(input(\"Digite um número: \"))\n",
        "frase = input(\"Digite sua frase: \")\n",
        "\n",
        "while (contador < numero):\n",
        "  print(frase)\n",
        "  contador +=1"
      ],
      "metadata": {
        "colab": {
          "base_uri": "https://localhost:8080/"
        },
        "id": "gHfhQLIaFwi3",
        "outputId": "e5736946-c943-4e80-8c88-25a805f0d70c"
      },
      "execution_count": null,
      "outputs": [
        {
          "output_type": "stream",
          "name": "stdout",
          "text": [
            "Digite um número: 5\n",
            "Digite sua frase: \"Eu sei usar While\"\n",
            "\"Eu sei usar While\"\n",
            "\"Eu sei usar While\"\n",
            "\"Eu sei usar While\"\n",
            "\"Eu sei usar While\"\n",
            "\"Eu sei usar While\"\n"
          ]
        }
      ]
    },
    {
      "cell_type": "code",
      "source": [
        "frase = input(\"Informe a frase: \")\n",
        "n = int(input(\"Informe a quantidade de repetições: \"))\n",
        "for i in range(n):\n",
        "  print(frase)"
      ],
      "metadata": {
        "colab": {
          "base_uri": "https://localhost:8080/"
        },
        "id": "Yxncx6kgYSzI",
        "outputId": "89392d12-ed76-4adf-8296-b1166ad69da9"
      },
      "execution_count": null,
      "outputs": [
        {
          "output_type": "stream",
          "name": "stdout",
          "text": [
            "Informe a frase: Eu sei usar o for\n",
            "Informe a quantidade de repetições: 3\n",
            "Eu sei usar o for\n",
            "Eu sei usar o for\n",
            "Eu sei usar o for\n"
          ]
        }
      ]
    },
    {
      "cell_type": "markdown",
      "source": [
        "2. Crie um programa que retorne o somatório de todos os números entre 1 e um número fornecido pelo usuário."
      ],
      "metadata": {
        "id": "fZM0Ps2pFvZC"
      }
    },
    {
      "cell_type": "code",
      "source": [
        "n = int(input(\"Digite um número:\"))\n",
        "soma = 0\n",
        "i = 1\n",
        "while i<=n:\n",
        "  soma = soma + i\n",
        "  i=i+1\n",
        "print(soma)"
      ],
      "metadata": {
        "colab": {
          "base_uri": "https://localhost:8080/"
        },
        "id": "YHNBah36F7ov",
        "outputId": "32694ae6-a16f-493e-94f2-65bcd8e14d83"
      },
      "execution_count": null,
      "outputs": [
        {
          "output_type": "stream",
          "name": "stdout",
          "text": [
            "Digite um número:5\n",
            "15\n"
          ]
        }
      ]
    },
    {
      "cell_type": "code",
      "source": [
        "n = int(input(\"Digite um número: \"))\n",
        "soma = 0\n",
        "for i in range(n+1):\n",
        "  soma += i\n",
        "print(f\"A soma é {soma}\")"
      ],
      "metadata": {
        "colab": {
          "base_uri": "https://localhost:8080/"
        },
        "id": "F_Bba52Oa58-",
        "outputId": "5392ae52-f3de-4651-9221-53b0b4d1a6d8"
      },
      "execution_count": null,
      "outputs": [
        {
          "output_type": "stream",
          "name": "stdout",
          "text": [
            "Digite um número: 5\n",
            "A soma é 15\n"
          ]
        }
      ]
    },
    {
      "cell_type": "markdown",
      "source": [
        "3. Crie um script que retorne o somatório de todos os números pares entre 0 e 100, usando o WHILE."
      ],
      "metadata": {
        "id": "uqiK3thyF6am"
      }
    },
    {
      "cell_type": "code",
      "source": [
        "cont = 0\n",
        "soma = 0\n",
        "while cont <= 100:\n",
        "  if cont % 2 == 0:\n",
        "    soma += cont\n",
        "  cont += 1\n",
        "print(f\"A soma é: {soma}\")"
      ],
      "metadata": {
        "colab": {
          "base_uri": "https://localhost:8080/"
        },
        "id": "WkGyvWbiF66Y",
        "outputId": "db469521-da2a-4b75-f76f-ca109505539f"
      },
      "execution_count": null,
      "outputs": [
        {
          "output_type": "stream",
          "name": "stdout",
          "text": [
            "A soma é: 2550\n"
          ]
        }
      ]
    },
    {
      "cell_type": "code",
      "source": [
        "cont = 0\n",
        "soma = 0\n",
        "while cont <= 100:\n",
        "  soma += cont\n",
        "  cont += 2\n",
        "print(f\"A soma é: {soma}\")"
      ],
      "metadata": {
        "colab": {
          "base_uri": "https://localhost:8080/"
        },
        "id": "CFmel4zifhf0",
        "outputId": "5d3604e8-5688-404e-f42e-ad5add05a35b"
      },
      "execution_count": null,
      "outputs": [
        {
          "output_type": "stream",
          "name": "stdout",
          "text": [
            "A soma é: 2550\n"
          ]
        }
      ]
    },
    {
      "cell_type": "markdown",
      "source": [
        "4. Crie um script que retorne o somatório de todos os números pares entre 0 e 100, usando o FOR."
      ],
      "metadata": {
        "id": "v3O1mmLzGGEI"
      }
    },
    {
      "cell_type": "code",
      "source": [
        "soma = 0\n",
        "for i in range(101):\n",
        "  if i % 2 == 0:\n",
        "    soma = soma + i\n",
        "print(soma)"
      ],
      "metadata": {
        "colab": {
          "base_uri": "https://localhost:8080/"
        },
        "id": "UU33F1TZGMwg",
        "outputId": "1e6bfc9c-d5a3-496e-c343-6e814d321557"
      },
      "execution_count": null,
      "outputs": [
        {
          "output_type": "stream",
          "name": "stdout",
          "text": [
            "2550\n"
          ]
        }
      ]
    },
    {
      "cell_type": "code",
      "source": [
        "soma = 0\n",
        "for i in range(0, 101, 2):\n",
        "  soma = soma + i\n",
        "print(soma)"
      ],
      "metadata": {
        "colab": {
          "base_uri": "https://localhost:8080/"
        },
        "id": "CzLiC3I7iB-z",
        "outputId": "264ff09f-550f-4a53-e3e4-24b59a78c77e"
      },
      "execution_count": null,
      "outputs": [
        {
          "output_type": "stream",
          "name": "stdout",
          "text": [
            "2550\n"
          ]
        }
      ]
    },
    {
      "cell_type": "markdown",
      "source": [
        "5. Crie um programa que receba quantas notas o professor quiser de um aluno e pare quando o professor inserir a letra \"S\". Quando parar, o programa deve retornar a média das notas digitadas e dizer se o aluno foi aprovado (média maior ou igual a 7) ou reprovado (média menor que 7)."
      ],
      "metadata": {
        "id": "bGZqLhCXFjEn"
      }
    },
    {
      "cell_type": "code",
      "source": [
        "nota = 0\n",
        "nota_total = 0\n",
        "qtd_notas = 0\n",
        "while (nota != \"S\" and nota != \"s\"):\n",
        "  nota = input(\"Digite uma nota ou S para encerrar: \")\n",
        "  if nota != \"S\" and nota != \"s\":\n",
        "    nota = float(nota)\n",
        "    nota_total += nota\n",
        "    qtd_notas += 1\n",
        "media = nota_total/qtd_notas\n",
        "if(media >= 7):\n",
        "  print(f\"A média foi {media}. Aluno aprovado.\")\n",
        "else:\n",
        "  print(f\"A média foi {media}. Aluno reprovado.\")"
      ],
      "metadata": {
        "colab": {
          "base_uri": "https://localhost:8080/"
        },
        "id": "3mjiLOWdGON6",
        "outputId": "fe006e68-2653-4bdd-e6b0-ee4a61221d71"
      },
      "execution_count": null,
      "outputs": [
        {
          "output_type": "stream",
          "name": "stdout",
          "text": [
            "Digite uma nota ou S para encerrar: 10\n",
            "Digite uma nota ou S para encerrar: 8\n",
            "Digite uma nota ou S para encerrar: 6\n",
            "Digite uma nota ou S para encerrar: S\n",
            "A média foi 8.0. Aluno aprovado.\n"
          ]
        }
      ]
    },
    {
      "cell_type": "markdown",
      "source": [
        "# Listas"
      ],
      "metadata": {
        "id": "pCwjQPnyvHfJ"
      }
    },
    {
      "cell_type": "markdown",
      "source": [
        "1. a) Crie uma lista que contenha simultaneamente:\n",
        "  *   Um float na posição de índice 0\n",
        "  *   Um bool na posição de índice -1\n",
        "  *   Uma string em qualquer outra posição\n",
        "  *   Uma lista com três numeros inteiros em qualquer outra posição\n",
        "\n",
        "  b) Imprima na tela o segundo dos três elementos da lista de números inteiros que você incluiu no último item da letra (a)."
      ],
      "metadata": {
        "id": "dg22xMODvVXm"
      }
    },
    {
      "cell_type": "code",
      "source": [
        "lista = [1.2, 'aaa', [1, 2, 3], True]\n",
        "print(lista[2][1])"
      ],
      "metadata": {
        "id": "84nbYJ-YvTgZ",
        "outputId": "286ee122-0261-4ffd-f94c-9a6dfef70eb2",
        "colab": {
          "base_uri": "https://localhost:8080/"
        }
      },
      "execution_count": 7,
      "outputs": [
        {
          "output_type": "stream",
          "name": "stdout",
          "text": [
            "2\n"
          ]
        }
      ]
    },
    {
      "cell_type": "markdown",
      "source": [
        "2. Com a lista criada no exercício anterior, use o método append para:\n",
        "\n",
        "  a) Adicionar um booleano ao fim da lista.\n",
        "\n",
        "  b) Adicionar uma lista com as três primeiras letras do alfabeto ao fim da lista.\n",
        "\n",
        "  c) Adicionar um booleano ao fim da lista criada no item (b)"
      ],
      "metadata": {
        "id": "WY5xZWyFwc1v"
      }
    },
    {
      "cell_type": "code",
      "source": [
        "lista.append(False)\n",
        "lista.append(['a', 'b', 'c'])\n",
        "lista[-1].append(True)\n",
        "lista"
      ],
      "metadata": {
        "id": "6kyWJ2j6wdRx",
        "outputId": "69f56cd3-adc5-40e9-d8b5-e084112305c4",
        "colab": {
          "base_uri": "https://localhost:8080/"
        }
      },
      "execution_count": 8,
      "outputs": [
        {
          "output_type": "execute_result",
          "data": {
            "text/plain": [
              "[1.2, 'aaa', [1, 2, 3], True, False, ['a', 'b', 'c', True]]"
            ]
          },
          "metadata": {},
          "execution_count": 8
        }
      ]
    },
    {
      "cell_type": "markdown",
      "source": [
        "3. Crie uma lista que tenha todos os números de 0 a 100, usando o WHILE."
      ],
      "metadata": {
        "id": "kfN18VRNxR4d"
      }
    },
    {
      "cell_type": "code",
      "source": [
        "# q3\n",
        "contador = 0\n",
        "lista = []\n",
        "while contador <= 100:\n",
        "  lista.append(contador)\n",
        "  contador += 1\n",
        "print(lista)"
      ],
      "metadata": {
        "id": "y4hnmYojxPXh",
        "outputId": "5a33721f-725c-41f8-f622-10d95739cb03",
        "colab": {
          "base_uri": "https://localhost:8080/"
        }
      },
      "execution_count": 9,
      "outputs": [
        {
          "output_type": "stream",
          "name": "stdout",
          "text": [
            "[0, 1, 2, 3, 4, 5, 6, 7, 8, 9, 10, 11, 12, 13, 14, 15, 16, 17, 18, 19, 20, 21, 22, 23, 24, 25, 26, 27, 28, 29, 30, 31, 32, 33, 34, 35, 36, 37, 38, 39, 40, 41, 42, 43, 44, 45, 46, 47, 48, 49, 50, 51, 52, 53, 54, 55, 56, 57, 58, 59, 60, 61, 62, 63, 64, 65, 66, 67, 68, 69, 70, 71, 72, 73, 74, 75, 76, 77, 78, 79, 80, 81, 82, 83, 84, 85, 86, 87, 88, 89, 90, 91, 92, 93, 94, 95, 96, 97, 98, 99, 100]\n"
          ]
        }
      ]
    },
    {
      "cell_type": "markdown",
      "source": [
        "4. Crie uma lista que tenha todos os números de 0 a 100, usando o FOR."
      ],
      "metadata": {
        "id": "hoZYWxOoxsKq"
      }
    },
    {
      "cell_type": "code",
      "source": [
        "# q4\n",
        "lista = []\n",
        "for i in range (0, 101):\n",
        "  lista.append(i)\n",
        "print(lista)"
      ],
      "metadata": {
        "id": "vjMJW1Z_xsuo",
        "outputId": "66c77ffe-5b1d-4100-e2ea-40a983f78c45",
        "colab": {
          "base_uri": "https://localhost:8080/"
        }
      },
      "execution_count": 10,
      "outputs": [
        {
          "output_type": "stream",
          "name": "stdout",
          "text": [
            "[0, 1, 2, 3, 4, 5, 6, 7, 8, 9, 10, 11, 12, 13, 14, 15, 16, 17, 18, 19, 20, 21, 22, 23, 24, 25, 26, 27, 28, 29, 30, 31, 32, 33, 34, 35, 36, 37, 38, 39, 40, 41, 42, 43, 44, 45, 46, 47, 48, 49, 50, 51, 52, 53, 54, 55, 56, 57, 58, 59, 60, 61, 62, 63, 64, 65, 66, 67, 68, 69, 70, 71, 72, 73, 74, 75, 76, 77, 78, 79, 80, 81, 82, 83, 84, 85, 86, 87, 88, 89, 90, 91, 92, 93, 94, 95, 96, 97, 98, 99, 100]\n"
          ]
        }
      ]
    },
    {
      "cell_type": "markdown",
      "source": [
        "5. Crie uma lista que tenha todos os números múltiplos de 7, de 0 a 100, usando o WHILE."
      ],
      "metadata": {
        "id": "7UPtXdSrxWN_"
      }
    },
    {
      "cell_type": "code",
      "source": [
        "# q5\n",
        "contador = 0\n",
        "lista = []\n",
        "while contador <= 100:\n",
        "  if contador % 7 == 0:\n",
        "    lista.append(contador)\n",
        "  contador += 1\n",
        "print(lista)"
      ],
      "metadata": {
        "id": "O4WzS_WLxWhu",
        "outputId": "24622f48-e051-4127-b965-2c4c72c349d6",
        "colab": {
          "base_uri": "https://localhost:8080/"
        }
      },
      "execution_count": 11,
      "outputs": [
        {
          "output_type": "stream",
          "name": "stdout",
          "text": [
            "[0, 7, 14, 21, 28, 35, 42, 49, 56, 63, 70, 77, 84, 91, 98]\n"
          ]
        }
      ]
    },
    {
      "cell_type": "markdown",
      "source": [
        "6. Crie uma lista que tenha todos os números múltiplos de 7, de 0 a 100, usando o FOR."
      ],
      "metadata": {
        "id": "X6I8sUhvxtWU"
      }
    },
    {
      "cell_type": "code",
      "source": [
        "# q6\n",
        "lista = []\n",
        "for i in range (0, 101):\n",
        "  if i % 7 == 0:\n",
        "    lista.append(i)\n",
        "print(lista)"
      ],
      "metadata": {
        "id": "OzzLgZ1BxtuS",
        "outputId": "905d6019-f252-433b-d04d-78b07053500c",
        "colab": {
          "base_uri": "https://localhost:8080/"
        }
      },
      "execution_count": 14,
      "outputs": [
        {
          "output_type": "stream",
          "name": "stdout",
          "text": [
            "[0, 7, 14, 21, 28, 35, 42, 49, 56, 63, 70, 77, 84, 91, 98]\n"
          ]
        }
      ]
    },
    {
      "cell_type": "markdown",
      "source": [
        "7. Com o FOR ou com o WHILE, crie uma lista que contenha os números múltiplos de 10 no intervalo de 100 a 300. Depois, peça dois números para o usuário e imprima na tela os elementos da lista cujos índices vão do primeiro ao segundo número digitados pelo usuário. Caso o usuário tente entrar com um intervalo maior do que o tamanho da lista (por exemplo, caso o usuário digite 15 e 25 para a nossa lista contendo apenas 20 elementos) ou caso o usuário entre com o primeiro número maior do que o segundo, digite \"Escolhas inválidas\"."
      ],
      "metadata": {
        "id": "p9bR-ktxyC60"
      }
    },
    {
      "cell_type": "code",
      "source": [
        "# q7\n",
        "lista = []\n",
        "for i in range (301):\n",
        "  if i % 10 == 0:\n",
        "    lista.append(i)\n",
        "\n",
        "print(lista)\n",
        "n1 = float(input('Digite um número: '))\n",
        "n2 = float(input('Digite um número: '))\n",
        "\n",
        "if (n1 < n2) and (n1 >= min(lista)) and (n2 <= max(lista)):\n",
        "  inter = []\n",
        "  for i in lista:\n",
        "    if i >= n1 and i <= n2:\n",
        "      inter.append(i)\n",
        "  print(inter)\n",
        "else:\n",
        "  print('Escolhas inválidas')\n",
        "\n",
        "\n",
        "lista=[]\n",
        "for i in range(100, 301, 10):\n",
        "  lista.append(i)\n",
        "\n",
        "inicio = int(input(\"índice inicial\"))\n",
        "fim = int(input(\"índice final\"))\n",
        "\n",
        "if inicio > fim or fim >= len(lista):\n",
        "    print(\"inválido\")\n",
        "else:\n",
        "  print(lista[inicio:fim])\n"
      ],
      "metadata": {
        "id": "RuPAOQxTyB8v",
        "outputId": "0d222adc-65a7-4002-8ecb-9a8e35f78ffc",
        "colab": {
          "base_uri": "https://localhost:8080/"
        }
      },
      "execution_count": 20,
      "outputs": [
        {
          "output_type": "stream",
          "name": "stdout",
          "text": [
            "[0, 10, 20, 30, 40, 50, 60, 70, 80, 90, 100, 110, 120, 130, 140, 150, 160, 170, 180, 190, 200, 210, 220, 230, 240, 250, 260, 270, 280, 290, 300]\n",
            "Digite um número: 10\n",
            "Digite um número: 25\n",
            "[10, 20]\n"
          ]
        }
      ]
    },
    {
      "cell_type": "markdown",
      "source": [
        "8. Inclua no programa do exercício anterior a possibilidade de o usuário entrar com o apr de números desejados quantas vezes quiser, até digitar \"S\" ou \"s\" para sair."
      ],
      "metadata": {
        "id": "DEcfSYfazJNo"
      }
    },
    {
      "cell_type": "code",
      "source": [],
      "metadata": {
        "id": "_9BdsNHwzJiM"
      },
      "execution_count": null,
      "outputs": []
    },
    {
      "cell_type": "markdown",
      "source": [
        "9. A lista resultados abaixo representa 10 vezes em que foi lançado um dado com 6 lados. Usando o FOR juntamente com a função RANGE, crie um programa para contar quantas vezes apareceu um determinado número escolhido pelo usuário."
      ],
      "metadata": {
        "id": "GYksUj890ExG"
      }
    },
    {
      "cell_type": "code",
      "source": [
        "# Criacação de uma lista com 50 inteiros aleatórios entre 1 e 6\n",
        "import numpy as np\n",
        "resultados = np.random.randint(1, 6, (1,10))[0]\n",
        "print(resultados)\n",
        "\n",
        "# Insira seu código abaixo desta linha\n",
        "num = int(input('Digite numero de 1 a 6: '))\n",
        "cont = 0\n",
        "for i in range(len(resultados)):\n",
        "  if resultados[i] == num:\n",
        "    cont += 1\n",
        "print(cont)"
      ],
      "metadata": {
        "colab": {
          "base_uri": "https://localhost:8080/"
        },
        "id": "ziZAM9ph0G6t",
        "outputId": "f3e8f50b-89d8-40ec-ded6-d5ca6d63bd47"
      },
      "execution_count": 24,
      "outputs": [
        {
          "output_type": "stream",
          "name": "stdout",
          "text": [
            "[3 4 1 2 4 3 5 2 2 4]\n",
            "Digite numero de 1 a 6: 3\n",
            "2\n"
          ]
        }
      ]
    },
    {
      "cell_type": "markdown",
      "source": [
        "10. Faça exatamente o que foi feito no exerćicio anterior, mas usando o FOR para percorrer diretamente a lista, isto é, sem usar a função RANGE."
      ],
      "metadata": {
        "id": "M5BWSwP62AVu"
      }
    },
    {
      "cell_type": "code",
      "source": [
        "# Criacação de uma lista com 50 inteiros aleatórios entre 1 e 6\n",
        "import numpy as np\n",
        "resultados = np.random.randint(1, 6, (1,10))[0]\n",
        "print(resultados)\n",
        "\n",
        "# Insira seu código abaixo desta linha\n",
        "num = int(input('Digite numero de 1 a 6: '))\n",
        "cont = 0\n",
        "for i in resultados:\n",
        "  if i == num:\n",
        "    cont += 1\n",
        "print(cont)"
      ],
      "metadata": {
        "colab": {
          "base_uri": "https://localhost:8080/"
        },
        "id": "JfctgoiS0dWb",
        "outputId": "79e9beac-a042-42b7-c7d1-0f37118f017f"
      },
      "execution_count": 25,
      "outputs": [
        {
          "output_type": "stream",
          "name": "stdout",
          "text": [
            "[2 3 5 1 5 5 1 4 3 2]\n",
            "Digite numero de 1 a 6: 1\n",
            "2\n"
          ]
        }
      ]
    },
    {
      "cell_type": "markdown",
      "source": [
        "11. Conte quantas variáveis de cada tipo temos na lista `['Stone', 1, 'Lets', 2, True, '2', 'show', 234, 87, 1.33333, 7.0000, 1e-9, 'uasdhfusah', 'zuei', False, False, True, 132434, \"1324123\", \"False\", \"True\", \"Sucesso\", 5, \"u\",\"c\", 3, 55, 0 ]`. Faça isso duas vezes, primeiro percorrendo a lista pelos índices através da função RANGE e depois percorrendo diretamente os elementos da lista, sem usar a função RANGE."
      ],
      "metadata": {
        "id": "223YGiZP2XgA"
      }
    },
    {
      "cell_type": "code",
      "source": [
        "# Com a função RANGE\n",
        "lista = ['Stone', 1, 'Lets', 2, True, '2', 'show', 234, 87, 1.33333, 7.0000, 1e-9, 'uasdhfusah', 'zuei', False, False, True, 132434, \"1324123\", \"False\", \"True\", \"Sucesso\", 5, \"u\",\"c\", 3, 55, 0 ]\n",
        "qtd_str = 0\n",
        "qtd_int = 0\n",
        "qtd_float = 0\n",
        "qtd_bool = 0\n",
        "for i in range(len(lista)):\n",
        "  if type(lista[i]) == int:\n",
        "    qtd_int += 1\n",
        "  elif type(lista[i]) == str:\n",
        "    qtd_str += 1\n",
        "  elif type(lista[i]) == float:\n",
        "    qtd_float += 1\n",
        "  elif type(lista[i]) == bool:\n",
        "    qtd_bool += 1\n",
        "print(f'Strings: {qtd_str}\\nInteiros: {qtd_int}\\nFloats: {qtd_float}\\nbool: {qtd_bool}')"
      ],
      "metadata": {
        "id": "KkKKgeN-2UXo",
        "outputId": "64d018e3-2a93-4729-83b2-755015019224",
        "colab": {
          "base_uri": "https://localhost:8080/"
        }
      },
      "execution_count": 28,
      "outputs": [
        {
          "output_type": "stream",
          "name": "stdout",
          "text": [
            "Strings: 12\n",
            "Inteiros: 9\n",
            "Floats: 3\n",
            "bool: 4\n"
          ]
        }
      ]
    },
    {
      "cell_type": "code",
      "source": [
        "# Sem a função RANGE\n",
        "lista = ['Stone', 1, 'Lets', 2, True, '2', 'show', 234, 87, 1.33333, 7.0000, 1e-9, 'uasdhfusah', 'zuei', False, False, True, 132434, \"1324123\", \"False\", \"True\", \"Sucesso\", 5, \"u\",\"c\", 3, 55, 0 ]\n",
        "qtd_str = 0\n",
        "qtd_int = 0\n",
        "qtd_float = 0\n",
        "qtd_bool = 0\n",
        "for i in lista:\n",
        "  if type(i) == int:\n",
        "    qtd_int += 1\n",
        "  elif type(i) == str:\n",
        "    qtd_str += 1\n",
        "  elif type(i) == float:\n",
        "    qtd_float += 1\n",
        "  elif type(i) == bool:\n",
        "    qtd_bool += 1\n",
        "print(f'Strings: {qtd_str}\\nInteiros: {qtd_int}\\nFloats: {qtd_float}\\nbool: {qtd_bool}')"
      ],
      "metadata": {
        "id": "1TMrCxsw2uNj",
        "outputId": "4cb20345-6f32-454c-902c-4dd1d07b549d",
        "colab": {
          "base_uri": "https://localhost:8080/"
        }
      },
      "execution_count": 29,
      "outputs": [
        {
          "output_type": "stream",
          "name": "stdout",
          "text": [
            "Strings: 12\n",
            "Inteiros: 9\n",
            "Floats: 3\n",
            "bool: 4\n"
          ]
        }
      ]
    },
    {
      "cell_type": "markdown",
      "source": [
        "12. Faça um Programa que leia um vetor de 10 números reais e mostre-os na ordem inversa. NÃO VALE USAR REVERSE"
      ],
      "metadata": {
        "id": "-GRz8QMs2WXD"
      }
    },
    {
      "cell_type": "code",
      "source": [],
      "metadata": {
        "id": "O_RnQe4v25mi"
      },
      "execution_count": null,
      "outputs": []
    },
    {
      "cell_type": "markdown",
      "source": [
        "13. Faça um Programa que leia uma lista de 10 caracteres e passe apenas as consoantes para uma nova lista. Depois disso, imprima na tela quais são estas consoantes, e quantas elas são."
      ],
      "metadata": {
        "id": "vDMkzRjO26MA"
      }
    },
    {
      "cell_type": "code",
      "source": [],
      "metadata": {
        "id": "-D-fkJpa26mW"
      },
      "execution_count": null,
      "outputs": []
    },
    {
      "cell_type": "markdown",
      "source": [
        "14. Faça um Programa que leia 20 números inteiros e armazene-os em duas listas: números pares em uma lista PARES e números ímpares em uma uma lista ÍMPARES."
      ],
      "metadata": {
        "id": "-w7-NRC53T30"
      }
    },
    {
      "cell_type": "code",
      "source": [],
      "metadata": {
        "id": "MGoVlegl3UMJ"
      },
      "execution_count": null,
      "outputs": []
    },
    {
      "cell_type": "markdown",
      "source": [
        "15. a) Faça um programa que permita ao usuário inserir quantos números quiser em uma lista, até que ele passe \"S\" ou \"s\".\n",
        "\n",
        "  b) Depois disso, crie um programa em que o usuário possa solicitar, por quantas vezes quiser qualquer uma das seguintes opções, até que pressione \"S\" ou \"s\" para encerrar:\n",
        "  *   \"med\" para ver a média dos números da lista\n",
        "  *   \"max\" para ver o maior número da lista\n",
        "  *   \"min\" para ver o menor número da lista\n",
        "  *   \"list\" para ver a lista\n",
        "  *   \"tsil\" para ver a lista invertida"
      ],
      "metadata": {
        "id": "RASDPK5O3tK8"
      }
    },
    {
      "cell_type": "code",
      "source": [],
      "metadata": {
        "id": "KV0GutH63txJ"
      },
      "execution_count": null,
      "outputs": []
    },
    {
      "cell_type": "markdown",
      "source": [
        "16) Faça um Programa que leia um vetor A com 10 números inteiros, calcule e mostre a soma dos quadrados dos elementos do vetor. Faça este mesmo programa em duas versões: sem list comprehension e com list comprehension."
      ],
      "metadata": {
        "id": "QuDhOjIA4sBe"
      }
    },
    {
      "cell_type": "code",
      "source": [
        "# sem list compreheension"
      ],
      "metadata": {
        "id": "iH8jnXbb4sXw"
      },
      "execution_count": null,
      "outputs": []
    },
    {
      "cell_type": "code",
      "source": [
        "# com list comprehension"
      ],
      "metadata": {
        "id": "KHasgR1f492x"
      },
      "execution_count": null,
      "outputs": []
    },
    {
      "cell_type": "markdown",
      "source": [
        "# Funções"
      ],
      "metadata": {
        "id": "VptRPmxW5Dwu"
      }
    },
    {
      "cell_type": "markdown",
      "source": [
        "1. Crie uma função que receba dois números e retorne o maior deles. Depois crie um menu para que o usuário possa passar 2 números quantas vezes quiser e visualizar o retorno dado por esta função, até que ele digite \"S\" ou \"s\" para sair."
      ],
      "metadata": {
        "id": "jo1S2BCO5Y-j"
      }
    },
    {
      "cell_type": "code",
      "source": [
        "def maior(n1, n2):\n",
        "  if n1>n2:\n",
        "    return n1\n",
        "  else:\n",
        "    return n2"
      ],
      "metadata": {
        "id": "H5mt2Lih4_O0"
      },
      "execution_count": 37,
      "outputs": []
    },
    {
      "cell_type": "code",
      "source": [
        "n1 = 'aaa'\n",
        "n2 = 'aaa'\n",
        "while not n1 in 'Ss' or not n2 in 'Ss':\n",
        "  n1 = input('Digite um número ou S para sair: ')\n",
        "  if n1 in 'Ss':\n",
        "    break\n",
        "  n2 = input('Digite um número ou S para sair: ')\n",
        "  if not n1 in 'Ss' and not n2 in 'Ss':\n",
        "    print(f'O maior número é {maior(int(n1), int(n2))}.')"
      ],
      "metadata": {
        "id": "hW8kSXozs21a",
        "outputId": "70637d91-2b7e-4fcd-e361-c06af580ddc0",
        "colab": {
          "base_uri": "https://localhost:8080/"
        }
      },
      "execution_count": 35,
      "outputs": [
        {
          "name": "stdout",
          "output_type": "stream",
          "text": [
            "Digite um número ou S para sair: 10\n",
            "Digite um número ou S para sair: 20\n",
            "O maior número é 20.\n",
            "Digite um número ou S para sair: 20\n",
            "Digite um número ou S para sair: 10\n",
            "O maior número é 20.\n",
            "Digite um número ou S para sair: 30\n",
            "Digite um número ou S para sair: 10\n",
            "O maior número é 30.\n",
            "Digite um número ou S para sair: s\n"
          ]
        }
      ]
    },
    {
      "cell_type": "markdown",
      "source": [
        "2. Crie um cenário semelhante ao número 1, mas com a função recebendo um terceiro argumento: \"min\" para menor e \"max\" para maior. Dê ao usuário a opção de entrar com a opção desejada também, além dos números propriamente ditos, para deciir se quer ver o maior ou o menor número."
      ],
      "metadata": {
        "id": "OlQy8A0b5cyf"
      }
    },
    {
      "cell_type": "code",
      "source": [
        "def status(n1, n2, max_min):\n",
        "  if max_min == 'max':\n",
        "    if n1>n2:\n",
        "      return n1\n",
        "    else:\n",
        "      return n2\n",
        "  elif max_min == 'min':\n",
        "    if n1<n2:\n",
        "      return n1\n",
        "    else:\n",
        "      return n2"
      ],
      "metadata": {
        "id": "xDaXU5kk5WRF"
      },
      "execution_count": 43,
      "outputs": []
    },
    {
      "cell_type": "code",
      "source": [
        "while True:\n",
        "  n1 = input('Digite um número ou S para sair: ')\n",
        "  if n1 in 'Ss':\n",
        "    print('Programa finalizado!')\n",
        "    break\n",
        "  n2 = input('Digite um número ou S para sair: ')\n",
        "  if n2 in 'Ss':\n",
        "    print('Programa finalizado!')\n",
        "    break\n",
        "  max_min = input('Digite o status [max/min]: ')\n",
        "  if max_min in 'Ss':\n",
        "    print('Programa finalizado!')\n",
        "    break\n",
        "\n",
        "  if not n1 in 'Ss' and not n2 in 'Ss':\n",
        "    if max_min == 'max':\n",
        "      print(f'O maior número é {status(int(n1), int(n2), max_min)}.')\n",
        "    else:\n",
        "      print(f'O menor número é {status(int(n1), int(n2), max_min)}.')\n"
      ],
      "metadata": {
        "id": "RrZLXnIlvxy0",
        "outputId": "a53346fa-859f-4746-e121-d7d552c2ff65",
        "colab": {
          "base_uri": "https://localhost:8080/"
        }
      },
      "execution_count": 55,
      "outputs": [
        {
          "output_type": "stream",
          "name": "stdout",
          "text": [
            "Digite um número ou S para sair: a\n",
            "Digite um número ou S para sair: s\n",
            "Programa finalizado!\n"
          ]
        }
      ]
    },
    {
      "cell_type": "markdown",
      "source": [
        "3. Crie e teste uma função que receba uma lista e dois números e retorne o slice que começa no primeiro número passado como argumento e termina no último número passado como argumento. Se o usuário passar um intervalo que não correponda ao tamanho da lista fornecida, ou se enviar o primeiro número maior do que o segundo, retorne None. "
      ],
      "metadata": {
        "id": "KnMUEjl-5t8-"
      }
    },
    {
      "cell_type": "code",
      "source": [],
      "metadata": {
        "id": "nPAVzZYm5uYG"
      },
      "execution_count": null,
      "outputs": []
    },
    {
      "cell_type": "markdown",
      "source": [
        "4. Crie uma função que diga se um número é par. A função deve retornar True caso o número seja par e False caso o número nãop seja par."
      ],
      "metadata": {
        "id": "gFoD2aY16O9Z"
      }
    },
    {
      "cell_type": "code",
      "source": [],
      "metadata": {
        "id": "n7eMO-bq6PY_"
      },
      "execution_count": null,
      "outputs": []
    },
    {
      "cell_type": "markdown",
      "source": [
        "5. Use a função criada no item 5 para preencher uma lista com todos os números pares entre 20 e 80. Resolva primeiro sem list comprehension e depois com list comprehension."
      ],
      "metadata": {
        "id": "QeHQ7FYT6dKz"
      }
    },
    {
      "cell_type": "code",
      "source": [
        "# Sem list compreehension"
      ],
      "metadata": {
        "id": "_FaPW0nn6csz"
      },
      "execution_count": null,
      "outputs": []
    },
    {
      "cell_type": "code",
      "source": [
        "# Com list comprehension"
      ],
      "metadata": {
        "id": "XsxUvN_46rXF"
      },
      "execution_count": null,
      "outputs": []
    },
    {
      "cell_type": "markdown",
      "source": [
        "6. Crie uma função que receba um número inteiro e retorne True se este número é um número primo."
      ],
      "metadata": {
        "id": "4H9iKMZGGlTZ"
      }
    },
    {
      "cell_type": "code",
      "source": [
        "def num_primo(num):\n",
        "  mult =0\n",
        "  for i in range(2, num):\n",
        "    if num % i == 0:\n",
        "      return False\n",
        "  return True"
      ],
      "metadata": {
        "id": "QTLVSuRDGl11"
      },
      "execution_count": 65,
      "outputs": []
    },
    {
      "cell_type": "code",
      "source": [
        "num = int(input('Digite um número inteiro: '))\n",
        "if num_primo(num):\n",
        "  print(f'O número {num} é primo!')\n",
        "else:\n",
        "  print(f'O número {num} NÃO é primo!')"
      ],
      "metadata": {
        "id": "A5XM6cRi5PVy",
        "outputId": "d558f5ba-e748-45ca-bd03-7450353a19e1",
        "colab": {
          "base_uri": "https://localhost:8080/"
        }
      },
      "execution_count": 67,
      "outputs": [
        {
          "output_type": "stream",
          "name": "stdout",
          "text": [
            "Digite um número inteiro: 10\n",
            "O número 10 NÃO é primo!\n"
          ]
        }
      ]
    },
    {
      "cell_type": "markdown",
      "source": [
        "7. Crie e teste uma função que recebe uma sequência de números inteiros e retorna uma nova lista com todos aqueles que foram repetidos pelo menos uma vez logo em sequência. Por exemplo,\n",
        "*   Input: [2,4,3,3,6,1,1,2,4,3]\n",
        "*   Output: [3,1]\n",
        "\n"
      ],
      "metadata": {
        "id": "7OXgN00rJAQy"
      }
    },
    {
      "cell_type": "code",
      "source": [],
      "metadata": {
        "id": "-6MKK_PgJAnH"
      },
      "execution_count": null,
      "outputs": []
    }
  ]
}