{
  "nbformat": 4,
  "nbformat_minor": 0,
  "metadata": {
    "colab": {
      "provenance": [],
      "include_colab_link": true
    },
    "kernelspec": {
      "name": "python3",
      "display_name": "Python 3"
    },
    "language_info": {
      "name": "python"
    }
  },
  "cells": [
    {
      "cell_type": "markdown",
      "metadata": {
        "id": "view-in-github",
        "colab_type": "text"
      },
      "source": [
        "<a href=\"https://colab.research.google.com/github/VitorFRodrigues/Coding_Tank_Material/blob/main/Bateria_de_exerc%C3%ADcios_Americanas_Ada_%7C_Coding_tank-08-11.ipynb\" target=\"_parent\"><img src=\"https://colab.research.google.com/assets/colab-badge.svg\" alt=\"Open In Colab\"/></a>"
      ]
    },
    {
      "cell_type": "markdown",
      "source": [
        "# Tipos de variáveis e coerção de tipos"
      ],
      "metadata": {
        "id": "jQEGaqc5CENJ"
      }
    },
    {
      "cell_type": "markdown",
      "source": [
        "1. Crie um programa que receba seu nome e te dê boas vindas!"
      ],
      "metadata": {
        "id": "M-FzgFHHCCJQ"
      }
    },
    {
      "cell_type": "code",
      "source": [
        "nome = input('Digite seu nome: ')\n",
        "print(f'Olá {nome}! Seja bem vindo!')"
      ],
      "metadata": {
        "id": "-4tC-U0ZCCSt",
        "colab": {
          "base_uri": "https://localhost:8080/"
        },
        "outputId": "d391b7df-63bc-4eb9-a2d7-4d5ac1951634"
      },
      "execution_count": 1,
      "outputs": [
        {
          "output_type": "stream",
          "name": "stdout",
          "text": [
            "Digite seu nome: vitor\n",
            "Olá vitor! Seja bem vindo!\n"
          ]
        }
      ]
    },
    {
      "cell_type": "markdown",
      "source": [
        "2. Crie um cadastro que receba nome, telefone e retorne-os em tela ao final da execução."
      ],
      "metadata": {
        "id": "MYhFPl8YCCbg"
      }
    },
    {
      "cell_type": "code",
      "source": [
        "nome = input('Digite seu nome: ')\n",
        "telefone = input('Digite seu telefone (XX) X XXXX-XXXX: ')\n",
        "print('Cadastro Realizado!')\n",
        "print(f'Nome: {nome}')\n",
        "print(f'Fone: {telefone}')"
      ],
      "metadata": {
        "id": "ARAasyjYCCjR",
        "colab": {
          "base_uri": "https://localhost:8080/"
        },
        "outputId": "24804c15-e579-484f-fc56-ee27aed71379"
      },
      "execution_count": 2,
      "outputs": [
        {
          "output_type": "stream",
          "name": "stdout",
          "text": [
            "Digite seu nome: Vitor\n",
            "Digite seu telefone (XX) X XXXX-XXXX: (81) 9 9268-0037\n",
            "Cadastro Realizado!\n",
            "Nome: Vitor\n",
            "Fone: (81) 9 9268-0037\n"
          ]
        }
      ]
    },
    {
      "cell_type": "markdown",
      "source": [
        "3. Crie um programa que receba altura e peso e retorne o IMC."
      ],
      "metadata": {
        "id": "3qCr_Ol3CCqc"
      }
    },
    {
      "cell_type": "code",
      "source": [
        "alt = float(input('Digite sua alura(m): '))\n",
        "peso = float(input('Digite seu peso(kg): '))\n",
        "imc = peso / (alt ** 2)\n",
        "print(f'Seu IMC é {imc:.2f}')"
      ],
      "metadata": {
        "id": "hq0mp1cOCCwD",
        "colab": {
          "base_uri": "https://localhost:8080/"
        },
        "outputId": "5ad54976-a74d-49ae-98a5-ed2bd0f3e1d9"
      },
      "execution_count": 3,
      "outputs": [
        {
          "output_type": "stream",
          "name": "stdout",
          "text": [
            "Digite sua alura(m): 1.76\n",
            "Digite seu peso(kg): 71\n",
            "Seu IMC é 22.92\n"
          ]
        }
      ]
    },
    {
      "cell_type": "markdown",
      "source": [
        "4. Construa um programa que receba uma idade e um nome e imprima uma saída do tipo: \"Adriele tem 22 anos.\"."
      ],
      "metadata": {
        "id": "UfQO_0WVCC0w"
      }
    },
    {
      "cell_type": "code",
      "source": [
        "nome = input('Digite seu nome: ')\n",
        "idade = input('Digite sua idade: ')\n",
        "print(f'{nome} tem {idade} anos.')"
      ],
      "metadata": {
        "id": "yBTHgVycCC5l",
        "colab": {
          "base_uri": "https://localhost:8080/"
        },
        "outputId": "44343874-e0ed-4fd6-c204-e3e03c490060"
      },
      "execution_count": 4,
      "outputs": [
        {
          "output_type": "stream",
          "name": "stdout",
          "text": [
            "Digite seu nome: Adriele\n",
            "Digite sua idade: 22\n",
            "Adriele tem 22 anos.\n"
          ]
        }
      ]
    },
    {
      "cell_type": "markdown",
      "source": [
        "5. Construa um programa que receba uma idade e um nome e imprima uma saída do tipo: \"Adriele tem 22 anos.\". No entanto, desta vez considere a idade que o usuário terá daqui há 15 anos, e não a idade que o usuário tem no momento da execução do programa."
      ],
      "metadata": {
        "id": "bx59ZHtACC-j"
      }
    },
    {
      "cell_type": "code",
      "source": [
        "nome = input('Digite seu nome: ')\n",
        "idade = int(input('Digite sua idade: '))\n",
        "print(f'{nome} tem {idade} anos.\\nDaqui a 15 anos, {nome} terá {idade+15} anos.')"
      ],
      "metadata": {
        "id": "YRyTCXJ0CDCr",
        "colab": {
          "base_uri": "https://localhost:8080/"
        },
        "outputId": "f8a52c93-9c00-4c43-fa17-aade21c38e6c"
      },
      "execution_count": 6,
      "outputs": [
        {
          "output_type": "stream",
          "name": "stdout",
          "text": [
            "Digite seu nome: Adriele\n",
            "Digite sua idade: 22\n",
            "Adriele tem 22 anos.\n",
            "Daqui a 15 anos, Adriele terá 37 anos.\n"
          ]
        }
      ]
    },
    {
      "cell_type": "markdown",
      "source": [
        "# Estruturas condicionais"
      ],
      "metadata": {
        "id": "CXpOmMThCDHQ"
      }
    },
    {
      "cell_type": "markdown",
      "source": [
        "1. Faça um programa que receba o nome e a idade de um usuário e no final diga algo do tipo \"Thiago já está apto a tirar a sua habilitação de motorista e esta será válida até que ele complete 39 anos\". Considere 10 anos como o período de validade de uma habilitação no Brasil."
      ],
      "metadata": {
        "id": "EnJINs6-DO-t"
      }
    },
    {
      "cell_type": "code",
      "source": [
        "nome = input('Digite seu nome: ')\n",
        "idade = int(input('Digite sua idade: '))\n",
        "if idade >= 18:\n",
        "  print(f'{nome} está apto a tirar sua habilitação de motorista e esta será válida até que ele complete {idade+10} anos.')"
      ],
      "metadata": {
        "id": "P29iJYnNCDL1",
        "colab": {
          "base_uri": "https://localhost:8080/"
        },
        "outputId": "5f6af6d5-7a9e-437f-fde2-5a6baa200801"
      },
      "execution_count": 7,
      "outputs": [
        {
          "output_type": "stream",
          "name": "stdout",
          "text": [
            "Digite seu nome: Thiago\n",
            "Digite sua idade: 29\n",
            "Thiago está apto a tirar sua habilitação de motorista e esta será válida até que ele complete 39 anos.\n"
          ]
        }
      ]
    },
    {
      "cell_type": "markdown",
      "source": [
        "2. Escreva um programa que recebe um número e diz se este é par ou ímpar"
      ],
      "metadata": {
        "id": "meP-Q2SACDQG"
      }
    },
    {
      "cell_type": "code",
      "source": [
        "num = int(input('Digite um número: '))\n",
        "if num % 2==0:\n",
        "  status = 'par'\n",
        "else:\n",
        "  status = 'impar'\n",
        "print(f'O número {num} é {status}.')"
      ],
      "metadata": {
        "id": "sSRj0H0DCDUs",
        "colab": {
          "base_uri": "https://localhost:8080/"
        },
        "outputId": "52f7373e-bb93-457f-b552-57d25ab65808"
      },
      "execution_count": 8,
      "outputs": [
        {
          "output_type": "stream",
          "name": "stdout",
          "text": [
            "Digite um número: 7\n",
            "O número 7 é impar.\n"
          ]
        }
      ]
    },
    {
      "cell_type": "markdown",
      "source": [
        "3. Crie um programa que receba um número e imprima \"fuzz\" se o número for múltiplo de 3, \"buzz\" se deixar resto 1 na divisão por 3 e \"nada\" se deixar resto 2 na divisão por 3"
      ],
      "metadata": {
        "id": "Xk7dtrcdDmk_"
      }
    },
    {
      "cell_type": "code",
      "source": [
        "num = int(input('Digite um número: '))\n",
        "if num % 3==0:\n",
        "  print('fuzz')\n",
        "elif num % 3 == 1:\n",
        "  print('buzz')\n",
        "elif num % 3 == 2:\n",
        "  print('nada')"
      ],
      "metadata": {
        "id": "jsYQYQB8DnA6",
        "colab": {
          "base_uri": "https://localhost:8080/"
        },
        "outputId": "245330b5-1ee4-4fc2-db23-cc9017a7b493"
      },
      "execution_count": 9,
      "outputs": [
        {
          "output_type": "stream",
          "name": "stdout",
          "text": [
            "Digite um número: 32\n",
            "nada\n"
          ]
        }
      ]
    },
    {
      "cell_type": "markdown",
      "source": [
        "4. Crie um programa que recebe sua altura e peso, calcula o imc e retorna um status (abaixo do peso, no peso, acima do peso)."
      ],
      "metadata": {
        "id": "kroUj3jvDnjj"
      }
    },
    {
      "cell_type": "code",
      "source": [
        "alt = float(input('Digite sua altura: '))\n",
        "peso = float(input('Digite seu peso: '))\n",
        "imc = peso / (alt ** 2)\n",
        "\n",
        "if imc < 18.5:\n",
        "  status = 'Abaixo do peso normal'\n",
        "elif imc >= 18.5 and imc <= 24.9:\n",
        "  status = 'Peso normal'\n",
        "else:\n",
        "  status = 'Acima do peso'\n",
        "\n",
        "print(f'Status IMC: {status}.')"
      ],
      "metadata": {
        "id": "8C0d3LLpDn1y",
        "colab": {
          "base_uri": "https://localhost:8080/"
        },
        "outputId": "4dc50406-cc34-48a5-a800-f6cd50445555"
      },
      "execution_count": 10,
      "outputs": [
        {
          "output_type": "stream",
          "name": "stdout",
          "text": [
            "Digite sua altura: 1.76\n",
            "Digite seu peso: 71\n",
            "Status IMC: Peso normal.\n"
          ]
        }
      ]
    },
    {
      "cell_type": "markdown",
      "source": [
        "5. Você quer pintar sua casa e está em dúvida entre as cores Azul, Vermelho e Magenta. Sabendo que a tinta Azul custa 25,00 reais por metro quadrado, Vermelho custa 35,00 reais por metro quadrado e Magenta custa 45,00 reais por metro quadrado, faça o seguinte:\n",
        "\n",
        "  a) Crie um programa que recebe metros quadrados da sua parede e a cor da tinta e então retorne quanto gastará com tinta.\n",
        "\n",
        "  b) Crie um programa que recebe largura, altura, número de paredes e a cor da tinta escolhida e então retorne quanto gastará com tinta."
      ],
      "metadata": {
        "id": "ZZVQJSh_DoMM"
      }
    },
    {
      "cell_type": "code",
      "source": [
        "def preco_tinta(cor):\n",
        "  if cor == 1:\n",
        "    return 25\n",
        "  elif cor == 2:\n",
        "    return 35\n",
        "  elif cor == 3:\n",
        "    return 45\n",
        "  else:\n",
        "    print('Cor Incorreta! Tente novamente!')"
      ],
      "metadata": {
        "id": "5RXWsG-AjitY"
      },
      "execution_count": 15,
      "outputs": []
    },
    {
      "cell_type": "code",
      "source": [
        "custo = 0\n",
        "print('Gastos com tintas')\n",
        "opcao = int(input('Digite a letra para uma das opções abaixo.\\n1 - Sei metragem quadrada de minha parede\\n2 - Prefiro informar dimensões e quantidade de paredes\\n'))\n",
        "\n",
        "if opcao == 1:\n",
        "  area = float(input('Digite a área a ser pintada em m²: '))\n",
        "  cor = int(input('Informe a cor que deseja pintar:\\n1 - Azul\\n2 - Vermelho\\n3 - Magenta\\n'))\n",
        "  preco = preco_tinta(cor)\n",
        "  custo = area * preco\n",
        "elif opcao == 2:\n",
        "  larg = float(input('Digite a largura da parede a ser pintada em m: '))\n",
        "  alt =  float(input('Digite a altura da parede a ser pintada em m: '))\n",
        "  num =  int(input('Digite o número de paredes a ser pintadas: '))\n",
        "  cor = int(input('Informe a cor que deseja pintar:\\n1 - Azul\\n2 - Vermelho\\n3 - Magenta\\n'))\n",
        "  preco = preco_tinta(cor)\n",
        "  custo = larg * alt * num * preco\n",
        "else:\n",
        "  print('Opção Incorreta! Tente novamente!')\n",
        "\n",
        "if custo != 0:\n",
        "  print(f'Será gasto R${custo:.2f} em tinta')\n",
        "  custo = 0"
      ],
      "metadata": {
        "id": "H34xnUnKDoqR",
        "colab": {
          "base_uri": "https://localhost:8080/"
        },
        "outputId": "01070c9d-50d3-486f-ffde-9b98a7d108d5"
      },
      "execution_count": 17,
      "outputs": [
        {
          "output_type": "stream",
          "name": "stdout",
          "text": [
            "Gastos com tintas\n",
            "Digite a letra para uma das opções abaixo.\n",
            "1 - Sei metragem quadrada de minha parede\n",
            "2 - Prefiro informar dimensões e quantidade de paredes\n",
            "2\n",
            "Digite a largura da parede a ser pintada em m: 10\n",
            "Digite a altura da parede a ser pintada em m: 20\n",
            "Digite o número de paredes a ser pintadas: 5\n",
            "Informe a cor que deseja pintar:\n",
            "1 - Azul\n",
            "2 - Vermelho\n",
            "3 - Magenta\n",
            "1\n",
            "Será gasto R$25000.00 em tinta\n"
          ]
        }
      ]
    },
    {
      "cell_type": "markdown",
      "source": [
        "6. Faça um Programa que verifique se uma letra digitada é \"F\" ou \"M\". Conforme a letra escrever: F - Feminino, M - Masculino, Sexo Inválido."
      ],
      "metadata": {
        "id": "HU49bZE_D_YD"
      }
    },
    {
      "cell_type": "code",
      "source": [
        "sexo = input('Digite o seu sexo [F/M]: ')\n",
        "if sexo in 'Ff':\n",
        "  print('Sexo F - Feminino')\n",
        "elif sexo in 'Mm':\n",
        "  print('Sexo M - Masculino')\n",
        "else:\n",
        "  print('Sexo Inválido')"
      ],
      "metadata": {
        "id": "NAjug4lED_7O",
        "colab": {
          "base_uri": "https://localhost:8080/"
        },
        "outputId": "b78c77bf-5cca-49e7-9a59-54ba73683604"
      },
      "execution_count": 18,
      "outputs": [
        {
          "output_type": "stream",
          "name": "stdout",
          "text": [
            "Digite o seu sexo [F/M]: f\n",
            "Sexo F - Feminino\n"
          ]
        }
      ]
    },
    {
      "cell_type": "markdown",
      "source": [
        "7. Faça um programa que inicialmente receba 2 notas parciais de um aluno (prova 1 e prova 2). Se a média de ambas as notas for superior ou igual a 7, o programa retorna \"APROVADO.\" Senão, o programa solicita uma nota adicional, a nota do provão. Tendo a nota do provão, se a média das 3 notas for maior ou igual a 7 ou se pelo menos duas das 3 notas for maior ou igual a 6, imprima \"APROVADO POR POUCO!\" Senão, imprima \"QUE PENA! TENTE FAZER A SÉTIMA SÉRIE OUTRA VEZ!\" "
      ],
      "metadata": {
        "id": "wEHgiM--EL0S"
      }
    },
    {
      "cell_type": "code",
      "source": [
        "p1 = float(input('Digite a nota da prova 1: '))\n",
        "p2 = float(input('Digite a nota da prova 2: '))\n",
        "med1 = (p1 + p2)/2\n",
        "if med1 >= 7:\n",
        "  print('APROVADO.')\n",
        "else:\n",
        "  p3 = float(input('Digite a nota do provão: '))\n",
        "  med2 = (p1+p2+p3)/3\n",
        "  if med2 >= 7 or (p1>=6 and p2>=6) or (p1>=6 and p3>=6) or (p2>=6 and p2>=6):\n",
        "    print('APROVADO POR POUCO!')\n",
        "  else:\n",
        "    print('QUE PENA! TENTE FAZER A SÉTIMA SÉRIE OUTRA VEZ!')"
      ],
      "metadata": {
        "id": "TD-66KApEMOf",
        "colab": {
          "base_uri": "https://localhost:8080/"
        },
        "outputId": "7bfba4bf-2e70-4f5d-94b2-a2550eed2970"
      },
      "execution_count": 19,
      "outputs": [
        {
          "output_type": "stream",
          "name": "stdout",
          "text": [
            "Digite a nota da prova 1: 6\n",
            "Digite a nota da prova 2: 6\n",
            "Digite a nota do provão: 0\n",
            "APROVADO POR POUCO!\n"
          ]
        }
      ]
    },
    {
      "cell_type": "markdown",
      "source": [
        "8. Faça um Programa que leia três números e mostre-os em ordem decrescente."
      ],
      "metadata": {
        "id": "OBJhYHv0EfZA"
      }
    },
    {
      "cell_type": "code",
      "source": [
        "n1 = int(input('Digite um número: '))\n",
        "n2 = int(input('Digite outro número: '))\n",
        "n3 = int(input('Digite mais um número: '))\n",
        "\n",
        "l = [n1, n2, n3]\n",
        "\n",
        "for i in range(len(l)):\n",
        "  for j in range(i + 1, len(l)):\n",
        "    if l[i] < l[j]:\n",
        "      l[i], l[j] = l[j], l[i]\n",
        "l"
      ],
      "metadata": {
        "id": "fkaRjT_SEf0E",
        "colab": {
          "base_uri": "https://localhost:8080/"
        },
        "outputId": "0cef844e-8fb3-479a-97fb-c6e613f377fe"
      },
      "execution_count": 22,
      "outputs": [
        {
          "name": "stdout",
          "output_type": "stream",
          "text": [
            "Digite um número: 1\n",
            "Digite outro número: 2\n",
            "Digite mais um número: 3\n"
          ]
        },
        {
          "output_type": "execute_result",
          "data": {
            "text/plain": [
              "[3, 2, 1]"
            ]
          },
          "metadata": {},
          "execution_count": 22
        }
      ]
    },
    {
      "cell_type": "markdown",
      "source": [
        "9. Faça um Programa que pergunte em que turno você estuda. Peça para digitar M-matutino ou V-Vespertino ou N- Noturno. Imprima a mensagem \"Bom Dia!\", \"Boa Tarde!\" ou \"Boa Noite!\" ou \"Valor Inválido!\", conforme o caso."
      ],
      "metadata": {
        "id": "4Qq5T6YZEmbG"
      }
    },
    {
      "cell_type": "code",
      "source": [
        "turno = input('Digite o turno que você estuda [M-matutino / V-Vespertino / N-Noturno]: ')\n",
        "if turno in 'Mm':\n",
        "  print('Bom dia!')\n",
        "elif turno in 'Vv':\n",
        "  print('Boa tarde!')\n",
        "elif turno in 'Nn':\n",
        "  print('Boa noite!')\n",
        "else:\n",
        "  print('Valor Inválido!')"
      ],
      "metadata": {
        "id": "r2DakUwHEm0T",
        "colab": {
          "base_uri": "https://localhost:8080/"
        },
        "outputId": "5325e4af-7f82-4e4e-ea91-3926e38dd369"
      },
      "execution_count": 23,
      "outputs": [
        {
          "output_type": "stream",
          "name": "stdout",
          "text": [
            "Digite o turno que você estuda [M-matutino / V-Vespertino / N-Noturno]: m\n",
            "Bom dia!\n"
          ]
        }
      ]
    },
    {
      "cell_type": "markdown",
      "source": [
        "10. Faça um programa que pergunte o preço de três produtos e informe qual produto você deve comprar, sabendo que a decisão é sempre pelo mais barato."
      ],
      "metadata": {
        "id": "VJfkq6SNEqwj"
      }
    },
    {
      "cell_type": "code",
      "source": [
        "prod1 = float(input('Digite o preço do produto 1: '))\n",
        "prod2 = float(input('Digite o preço do produto 2: '))\n",
        "prod3 = float(input('Digite o preço do produto 3: '))\n",
        "\n",
        "if prod1 <= prod2 and prod1 <= prod3:\n",
        "  compra = prod1\n",
        "elif prod2 <= prod1 and prod2 <= prod3:\n",
        "  compra = prod2\n",
        "elif prod3 <= prod1 and prod3 <= prod2:\n",
        "  compra = prod3\n",
        "print(f'Você deve comprar o de valor R${compra:.2f}.')"
      ],
      "metadata": {
        "id": "VgfGG6iiErHM",
        "colab": {
          "base_uri": "https://localhost:8080/"
        },
        "outputId": "00be0a09-3fb5-4024-d453-789b02e4f03e"
      },
      "execution_count": 26,
      "outputs": [
        {
          "output_type": "stream",
          "name": "stdout",
          "text": [
            "Digite o preço do produto 1: 30\n",
            "Digite o preço do produto 2: 35\n",
            "Digite o preço do produto 3: 29\n",
            "Você deve comprar o de valor R$29.00.\n"
          ]
        }
      ]
    },
    {
      "cell_type": "markdown",
      "source": [
        "11. Faça um Programa que leia três números e mostre o maior e o menor deles."
      ],
      "metadata": {
        "id": "B4kyf0teExEU"
      }
    },
    {
      "cell_type": "code",
      "source": [
        "n1 = int(input('Digite um número: '))\n",
        "n2 = int(input('Digite outro número: '))\n",
        "n3 = int(input('Digite mais um número: '))\n",
        "\n",
        "l = [n1, n2, n3]\n",
        "\n",
        "for i in range(len(l)):\n",
        "  for j in range(i + 1, len(l)):\n",
        "    if l[i] > l[j]:\n",
        "      l[i], l[j] = l[j], l[i]\n",
        "\n",
        "print(f'O maior número deles é {l[-1]}.\\nO menor número deles é {l[0]}.')"
      ],
      "metadata": {
        "id": "Cl7QHyONEwnk",
        "colab": {
          "base_uri": "https://localhost:8080/"
        },
        "outputId": "c8bd1eda-7161-4c6e-b772-aa03fed2440d"
      },
      "execution_count": 27,
      "outputs": [
        {
          "output_type": "stream",
          "name": "stdout",
          "text": [
            "Digite um número: 1\n",
            "Digite outro número: 2\n",
            "Digite mais um número: 3\n",
            "O maior número deles é 3.\n",
            "O menor número deles é 1.\n"
          ]
        }
      ]
    },
    {
      "cell_type": "markdown",
      "source": [
        "12. Crie um programa que faça as seguintes 5 perguntas e diagnostique o paciente:\n",
        "\n",
        "  A. Sente dor no corpo?\n",
        "\n",
        "  B. Tem febre?\n",
        "\n",
        "  C. Tem tosse?\n",
        "\n",
        "  D. Está com congestão nasal?\n",
        "\n",
        "  E. Tem manchas no corpo?\n",
        "\n",
        "  Condições:\n",
        "\n",
        "    Se apenas a primeira for verdade, o paciente não está doente;\n",
        "    Se B, C e D forem verdade, o paciente está com gripe;\n",
        "    Se todas forem verdade, paciente está com Dengue;\n",
        "    Caso contrário, não temos o diagnóstico."
      ],
      "metadata": {
        "id": "fN1jbJ8EFCxW"
      }
    },
    {
      "cell_type": "code",
      "source": [
        "print('Diagnóstico')\n",
        "A = input('Sente dor no corpo? [S/N] ')\n",
        "B = input('Tem febre? [S/N] ')\n",
        "C = input('Tem Tosse? [S/N] ')\n",
        "D = input('Está com congestão nasal? [S/N] ')\n",
        "E = input('Tem manchas no corpo? [S/N] ')\n",
        "\n",
        "if A in 'Ss':\n",
        "  A = True\n",
        "elif A in 'Nn':\n",
        "  A = False\n",
        "\n",
        "if B in 'Ss':\n",
        "  B = True\n",
        "elif B in 'Nn':\n",
        "  B = False\n",
        "\n",
        "if C in 'Ss':\n",
        "  C = True\n",
        "elif C in 'Nn':\n",
        "  C = False\n",
        "\n",
        "if D in 'Ss':\n",
        "  D = True\n",
        "elif D in 'Nn':\n",
        "  D = False\n",
        "\n",
        "if E in 'Ss':\n",
        "  E = True\n",
        "elif E in 'Nn':\n",
        "  E = False\n",
        "\n",
        "if type(A) == bool and type(B) == bool and type(C) == bool and type(D) == bool and type(E) == bool:\n",
        "  if A and (not B) and (not C) and (not D) and (not E):\n",
        "    print('O paciente não está doente.')\n",
        "  elif A and B and C and D and E:\n",
        "    print('O paciente está com Dengue.')\n",
        "  elif B and C and D:\n",
        "    print('O paciente está com gripe.')\n",
        "  else:\n",
        "    print('Não temos diagnóstico.')\n",
        "else:\n",
        "  print('Alguma das respostas foram incorretas! Tente novamente!') "
      ],
      "metadata": {
        "id": "2I1nA2vOFKSi",
        "colab": {
          "base_uri": "https://localhost:8080/"
        },
        "outputId": "b22503a8-e3a9-4c8d-a113-0362c086397a"
      },
      "execution_count": 37,
      "outputs": [
        {
          "output_type": "stream",
          "name": "stdout",
          "text": [
            "Diagnóstico\n",
            "Sente dor no corpo? [S/N] s\n",
            "Tem febre? [S/N] n\n",
            "Tem Tosse? [S/N] s\n",
            "Está com congestão nasal? [S/N] n\n",
            "Tem manchas no corpo? [S/N] s\n",
            "Não temos diagnóstico\n"
          ]
        }
      ]
    },
    {
      "cell_type": "markdown",
      "source": [
        "13. Para entrar em um carro de palhaço, os palhaços precisarão respeitar as seguintes condições:\n",
        "\n",
        "    Ter entre 20 e 30 anos, entre 40 e 50 ou entre 70 e 75 anos apenas;\n",
        "\n",
        "    Os palhaços mais velhos irão no banco da frente, os mais novos no porta-malas e a idade que restou irá no banco de trás\n",
        "\n",
        "Crie um programa que receba a idade do palhaço imprima os seguintes passos NESTA ORDEM:\n",
        "\n",
        "    Indique se o palhaço poderá entrar no carro;\n",
        "\n",
        "    Indique onde o palhaço ficará no carro."
      ],
      "metadata": {
        "id": "67cLTMIoFJvs"
      }
    },
    {
      "cell_type": "code",
      "source": [
        "idade = int(input('Digite a idade do Palhaço: '))\n",
        "if idade>= 20 and idade <= 30:\n",
        "  print('O palhaço pode entrar no carro;\\n\\nO palhaço ficará no porta-malas.')\n",
        "elif idade>= 40 and idade <= 50:\n",
        "  print('O palhaço pode entrar no carro;\\n\\nO palhaço ficará no banco de trás.')\n",
        "elif idade>= 70 and idade <= 75:\n",
        "  print('O palhaço pode entrar no carro;\\n\\nO palhaço ficará no banco da frente.')\n",
        "else:\n",
        "  print('O palhaço NÃO pode entrar no carro.')\n"
      ],
      "metadata": {
        "id": "UUiSUeqGFDL_",
        "colab": {
          "base_uri": "https://localhost:8080/"
        },
        "outputId": "7efafd91-a443-4b5a-bcee-9917b877b310"
      },
      "execution_count": 42,
      "outputs": [
        {
          "output_type": "stream",
          "name": "stdout",
          "text": [
            "Digite a idade do Palhaço: 40\n",
            "O palhaço pode entrar no carro;\n",
            "\n",
            "O palhaço ficará no banco de trás.\n"
          ]
        }
      ]
    },
    {
      "cell_type": "markdown",
      "source": [
        "# Laços de repetição"
      ],
      "metadata": {
        "id": "FhrZnAmNETk7"
      }
    },
    {
      "cell_type": "markdown",
      "source": [
        "1. Crie o programa \"Bart Simpson\": ele recebe um número de vezes e uma frase, e imprime na tela a mesma frase até atingir o número de vezes solicitado."
      ],
      "metadata": {
        "id": "Rq7sYH3XET66"
      }
    },
    {
      "cell_type": "code",
      "source": [
        "contador = 0\n",
        "numero = int(input(\"Digite um número: \"))\n",
        "frase = input(\"Digite sua frase: \")\n",
        "\n",
        "while (contador < numero):\n",
        "  print(frase)\n",
        "  contador +=1"
      ],
      "metadata": {
        "colab": {
          "base_uri": "https://localhost:8080/"
        },
        "id": "gHfhQLIaFwi3",
        "outputId": "e5736946-c943-4e80-8c88-25a805f0d70c"
      },
      "execution_count": null,
      "outputs": [
        {
          "output_type": "stream",
          "name": "stdout",
          "text": [
            "Digite um número: 5\n",
            "Digite sua frase: \"Eu sei usar While\"\n",
            "\"Eu sei usar While\"\n",
            "\"Eu sei usar While\"\n",
            "\"Eu sei usar While\"\n",
            "\"Eu sei usar While\"\n",
            "\"Eu sei usar While\"\n"
          ]
        }
      ]
    },
    {
      "cell_type": "code",
      "source": [
        "frase = input(\"Informe a frase: \")\n",
        "n = int(input(\"Informe a quantidade de repetições: \"))\n",
        "for i in range(n):\n",
        "  print(frase)"
      ],
      "metadata": {
        "colab": {
          "base_uri": "https://localhost:8080/"
        },
        "id": "Yxncx6kgYSzI",
        "outputId": "89392d12-ed76-4adf-8296-b1166ad69da9"
      },
      "execution_count": null,
      "outputs": [
        {
          "output_type": "stream",
          "name": "stdout",
          "text": [
            "Informe a frase: Eu sei usar o for\n",
            "Informe a quantidade de repetições: 3\n",
            "Eu sei usar o for\n",
            "Eu sei usar o for\n",
            "Eu sei usar o for\n"
          ]
        }
      ]
    },
    {
      "cell_type": "markdown",
      "source": [
        "2. Crie um programa que retorne o somatório de todos os números entre 1 e um número fornecido pelo usuário."
      ],
      "metadata": {
        "id": "fZM0Ps2pFvZC"
      }
    },
    {
      "cell_type": "code",
      "source": [
        "n = int(input(\"Digite um número:\"))\n",
        "soma = 0\n",
        "i = 1\n",
        "while i<=n:\n",
        "  soma += i\n",
        "  i=i+1\n",
        "print(soma)"
      ],
      "metadata": {
        "colab": {
          "base_uri": "https://localhost:8080/"
        },
        "id": "YHNBah36F7ov",
        "outputId": "32694ae6-a16f-493e-94f2-65bcd8e14d83"
      },
      "execution_count": null,
      "outputs": [
        {
          "output_type": "stream",
          "name": "stdout",
          "text": [
            "Digite um número:5\n",
            "15\n"
          ]
        }
      ]
    },
    {
      "cell_type": "code",
      "source": [
        "n = int(input(\"Digite um número: \"))\n",
        "soma = 0\n",
        "for i in range(1, n+1):\n",
        "  soma += i\n",
        "print(f\"A soma é {soma}\")"
      ],
      "metadata": {
        "colab": {
          "base_uri": "https://localhost:8080/"
        },
        "id": "F_Bba52Oa58-",
        "outputId": "5392ae52-f3de-4651-9221-53b0b4d1a6d8"
      },
      "execution_count": null,
      "outputs": [
        {
          "output_type": "stream",
          "name": "stdout",
          "text": [
            "Digite um número: 5\n",
            "A soma é 15\n"
          ]
        }
      ]
    },
    {
      "cell_type": "markdown",
      "source": [
        "3. Crie um script que retorne o somatório de todos os números pares entre 0 e 100, usando o WHILE."
      ],
      "metadata": {
        "id": "uqiK3thyF6am"
      }
    },
    {
      "cell_type": "code",
      "source": [
        "cont = 0\n",
        "soma = 0\n",
        "while cont <= 100:\n",
        "  if cont % 2 == 0:\n",
        "    soma += cont\n",
        "  cont += 1\n",
        "print(f\"A soma é: {soma}\")"
      ],
      "metadata": {
        "colab": {
          "base_uri": "https://localhost:8080/"
        },
        "id": "WkGyvWbiF66Y",
        "outputId": "db469521-da2a-4b75-f76f-ca109505539f"
      },
      "execution_count": null,
      "outputs": [
        {
          "output_type": "stream",
          "name": "stdout",
          "text": [
            "A soma é: 2550\n"
          ]
        }
      ]
    },
    {
      "cell_type": "code",
      "source": [
        "cont = 0\n",
        "soma = 0\n",
        "while cont <= 100:\n",
        "  soma += cont\n",
        "  cont += 2\n",
        "print(f\"A soma é: {soma}\")"
      ],
      "metadata": {
        "colab": {
          "base_uri": "https://localhost:8080/"
        },
        "id": "CFmel4zifhf0",
        "outputId": "5d3604e8-5688-404e-f42e-ad5add05a35b"
      },
      "execution_count": null,
      "outputs": [
        {
          "output_type": "stream",
          "name": "stdout",
          "text": [
            "A soma é: 2550\n"
          ]
        }
      ]
    },
    {
      "cell_type": "markdown",
      "source": [
        "4. Crie um script que retorne o somatório de todos os números pares entre 0 e 100, usando o FOR."
      ],
      "metadata": {
        "id": "v3O1mmLzGGEI"
      }
    },
    {
      "cell_type": "code",
      "source": [
        "soma = 0\n",
        "for i in range(101):\n",
        "  if i % 2 == 0:\n",
        "    soma = soma + i\n",
        "print(soma)"
      ],
      "metadata": {
        "colab": {
          "base_uri": "https://localhost:8080/"
        },
        "id": "UU33F1TZGMwg",
        "outputId": "1e6bfc9c-d5a3-496e-c343-6e814d321557"
      },
      "execution_count": null,
      "outputs": [
        {
          "output_type": "stream",
          "name": "stdout",
          "text": [
            "2550\n"
          ]
        }
      ]
    },
    {
      "cell_type": "code",
      "source": [
        "soma = 0\n",
        "for i in range(0, 101, 2):\n",
        "  soma = soma + i\n",
        "print(soma)"
      ],
      "metadata": {
        "colab": {
          "base_uri": "https://localhost:8080/"
        },
        "id": "CzLiC3I7iB-z",
        "outputId": "264ff09f-550f-4a53-e3e4-24b59a78c77e"
      },
      "execution_count": null,
      "outputs": [
        {
          "output_type": "stream",
          "name": "stdout",
          "text": [
            "2550\n"
          ]
        }
      ]
    },
    {
      "cell_type": "markdown",
      "source": [
        "5. Crie um programa que receba quantas notas o professor quiser de um aluno e pare quando o professor inserir a letra \"S\". Quando parar, o programa deve retornar a média das notas digitadas e dizer se o aluno foi aprovado (média maior ou igual a 7) ou reprovado (média menor que 7)."
      ],
      "metadata": {
        "id": "bGZqLhCXFjEn"
      }
    },
    {
      "cell_type": "code",
      "source": [
        "nota = 0\n",
        "nota_total = 0\n",
        "qtd_notas = 0\n",
        "while (nota != \"S\" and nota != \"s\"):\n",
        "  nota = input(\"Digite uma nota ou S para encerrar: \")\n",
        "  if nota != \"S\" and nota != \"s\":\n",
        "    nota = float(nota)\n",
        "    nota_total += nota\n",
        "    qtd_notas += 1\n",
        "media = nota_total/qtd_notas\n",
        "if(media >= 7):\n",
        "  print(f\"A média foi {media}. Aluno aprovado.\")\n",
        "else:\n",
        "  print(f\"A média foi {media}. Aluno reprovado.\")"
      ],
      "metadata": {
        "colab": {
          "base_uri": "https://localhost:8080/"
        },
        "id": "3mjiLOWdGON6",
        "outputId": "fe006e68-2653-4bdd-e6b0-ee4a61221d71"
      },
      "execution_count": null,
      "outputs": [
        {
          "output_type": "stream",
          "name": "stdout",
          "text": [
            "Digite uma nota ou S para encerrar: 10\n",
            "Digite uma nota ou S para encerrar: 8\n",
            "Digite uma nota ou S para encerrar: 6\n",
            "Digite uma nota ou S para encerrar: S\n",
            "A média foi 8.0. Aluno aprovado.\n"
          ]
        }
      ]
    },
    {
      "cell_type": "markdown",
      "source": [
        "# Listas"
      ],
      "metadata": {
        "id": "pCwjQPnyvHfJ"
      }
    },
    {
      "cell_type": "markdown",
      "source": [
        "1. a) Crie uma lista que contenha simultaneamente:\n",
        "  *   Um float na posição de índice 0\n",
        "  *   Um bool na posição de índice -1\n",
        "  *   Uma string em qualquer outra posição\n",
        "  *   Uma lista com três numeros inteiros em qualquer outra posição\n",
        "\n",
        "  b) Imprima na tela o segundo dos três elementos da lista de números inteiros que você incluiu no último item da letra (a)."
      ],
      "metadata": {
        "id": "dg22xMODvVXm"
      }
    },
    {
      "cell_type": "code",
      "source": [
        "lista = [1.2, 'aaa', [1, 2, 3], True]\n",
        "print(lista[2][1])"
      ],
      "metadata": {
        "id": "84nbYJ-YvTgZ",
        "outputId": "286ee122-0261-4ffd-f94c-9a6dfef70eb2",
        "colab": {
          "base_uri": "https://localhost:8080/"
        }
      },
      "execution_count": null,
      "outputs": [
        {
          "output_type": "stream",
          "name": "stdout",
          "text": [
            "2\n"
          ]
        }
      ]
    },
    {
      "cell_type": "markdown",
      "source": [
        "2. Com a lista criada no exercício anterior, use o método append para:\n",
        "\n",
        "  a) Adicionar um booleano ao fim da lista.\n",
        "\n",
        "  b) Adicionar uma lista com as três primeiras letras do alfabeto ao fim da lista.\n",
        "\n",
        "  c) Adicionar um booleano ao fim da lista criada no item (b)"
      ],
      "metadata": {
        "id": "WY5xZWyFwc1v"
      }
    },
    {
      "cell_type": "code",
      "source": [
        "lista.append(False)\n",
        "lista.append(['a', 'b', 'c'])\n",
        "lista[-1].append(True)\n",
        "lista"
      ],
      "metadata": {
        "id": "6kyWJ2j6wdRx",
        "outputId": "69f56cd3-adc5-40e9-d8b5-e084112305c4",
        "colab": {
          "base_uri": "https://localhost:8080/"
        }
      },
      "execution_count": null,
      "outputs": [
        {
          "output_type": "execute_result",
          "data": {
            "text/plain": [
              "[1.2, 'aaa', [1, 2, 3], True, False, ['a', 'b', 'c', True]]"
            ]
          },
          "metadata": {},
          "execution_count": 8
        }
      ]
    },
    {
      "cell_type": "markdown",
      "source": [
        "3. Crie uma lista que tenha todos os números de 0 a 100, usando o WHILE."
      ],
      "metadata": {
        "id": "kfN18VRNxR4d"
      }
    },
    {
      "cell_type": "code",
      "source": [
        "# q3\n",
        "contador = 0\n",
        "lista = []\n",
        "while contador <= 100:\n",
        "  lista.append(contador)\n",
        "  contador += 1\n",
        "print(lista)"
      ],
      "metadata": {
        "id": "y4hnmYojxPXh",
        "outputId": "5a33721f-725c-41f8-f622-10d95739cb03",
        "colab": {
          "base_uri": "https://localhost:8080/"
        }
      },
      "execution_count": null,
      "outputs": [
        {
          "output_type": "stream",
          "name": "stdout",
          "text": [
            "[0, 1, 2, 3, 4, 5, 6, 7, 8, 9, 10, 11, 12, 13, 14, 15, 16, 17, 18, 19, 20, 21, 22, 23, 24, 25, 26, 27, 28, 29, 30, 31, 32, 33, 34, 35, 36, 37, 38, 39, 40, 41, 42, 43, 44, 45, 46, 47, 48, 49, 50, 51, 52, 53, 54, 55, 56, 57, 58, 59, 60, 61, 62, 63, 64, 65, 66, 67, 68, 69, 70, 71, 72, 73, 74, 75, 76, 77, 78, 79, 80, 81, 82, 83, 84, 85, 86, 87, 88, 89, 90, 91, 92, 93, 94, 95, 96, 97, 98, 99, 100]\n"
          ]
        }
      ]
    },
    {
      "cell_type": "markdown",
      "source": [
        "4. Crie uma lista que tenha todos os números de 0 a 100, usando o FOR."
      ],
      "metadata": {
        "id": "hoZYWxOoxsKq"
      }
    },
    {
      "cell_type": "code",
      "source": [
        "# q4\n",
        "lista = []\n",
        "for i in range (0, 101):\n",
        "  lista.append(i)\n",
        "print(lista)"
      ],
      "metadata": {
        "id": "vjMJW1Z_xsuo",
        "outputId": "66c77ffe-5b1d-4100-e2ea-40a983f78c45",
        "colab": {
          "base_uri": "https://localhost:8080/"
        }
      },
      "execution_count": null,
      "outputs": [
        {
          "output_type": "stream",
          "name": "stdout",
          "text": [
            "[0, 1, 2, 3, 4, 5, 6, 7, 8, 9, 10, 11, 12, 13, 14, 15, 16, 17, 18, 19, 20, 21, 22, 23, 24, 25, 26, 27, 28, 29, 30, 31, 32, 33, 34, 35, 36, 37, 38, 39, 40, 41, 42, 43, 44, 45, 46, 47, 48, 49, 50, 51, 52, 53, 54, 55, 56, 57, 58, 59, 60, 61, 62, 63, 64, 65, 66, 67, 68, 69, 70, 71, 72, 73, 74, 75, 76, 77, 78, 79, 80, 81, 82, 83, 84, 85, 86, 87, 88, 89, 90, 91, 92, 93, 94, 95, 96, 97, 98, 99, 100]\n"
          ]
        }
      ]
    },
    {
      "cell_type": "markdown",
      "source": [
        "5. Crie uma lista que tenha todos os números múltiplos de 7, de 0 a 100, usando o WHILE."
      ],
      "metadata": {
        "id": "7UPtXdSrxWN_"
      }
    },
    {
      "cell_type": "code",
      "source": [
        "# q5\n",
        "contador = 0\n",
        "lista = []\n",
        "while contador <= 100:\n",
        "  if contador % 7 == 0:\n",
        "    lista.append(contador)\n",
        "  contador += 1\n",
        "print(lista)"
      ],
      "metadata": {
        "id": "O4WzS_WLxWhu",
        "outputId": "24622f48-e051-4127-b965-2c4c72c349d6",
        "colab": {
          "base_uri": "https://localhost:8080/"
        }
      },
      "execution_count": null,
      "outputs": [
        {
          "output_type": "stream",
          "name": "stdout",
          "text": [
            "[0, 7, 14, 21, 28, 35, 42, 49, 56, 63, 70, 77, 84, 91, 98]\n"
          ]
        }
      ]
    },
    {
      "cell_type": "markdown",
      "source": [
        "6. Crie uma lista que tenha todos os números múltiplos de 7, de 0 a 100, usando o FOR."
      ],
      "metadata": {
        "id": "X6I8sUhvxtWU"
      }
    },
    {
      "cell_type": "code",
      "source": [
        "# q6\n",
        "lista = []\n",
        "for i in range (0, 101):\n",
        "  if i % 7 == 0:\n",
        "    lista.append(i)\n",
        "print(lista)"
      ],
      "metadata": {
        "id": "OzzLgZ1BxtuS",
        "outputId": "905d6019-f252-433b-d04d-78b07053500c",
        "colab": {
          "base_uri": "https://localhost:8080/"
        }
      },
      "execution_count": null,
      "outputs": [
        {
          "output_type": "stream",
          "name": "stdout",
          "text": [
            "[0, 7, 14, 21, 28, 35, 42, 49, 56, 63, 70, 77, 84, 91, 98]\n"
          ]
        }
      ]
    },
    {
      "cell_type": "markdown",
      "source": [
        "7. Com o FOR ou com o WHILE, crie uma lista que contenha os números múltiplos de 10 no intervalo de 100 a 300. Depois, peça dois números para o usuário e imprima na tela os elementos da lista cujos índices vão do primeiro ao segundo número digitados pelo usuário. Caso o usuário tente entrar com um intervalo maior do que o tamanho da lista (por exemplo, caso o usuário digite 15 e 25 para a nossa lista contendo apenas 20 elementos) ou caso o usuário entre com o primeiro número maior do que o segundo, digite \"Escolhas inválidas\"."
      ],
      "metadata": {
        "id": "p9bR-ktxyC60"
      }
    },
    {
      "cell_type": "code",
      "source": [
        "lista=[]\n",
        "for i in range(100, 301, 10):\n",
        "  lista.append(i)\n",
        "\n",
        "inicio = int(input(\"índice inicial: \"))\n",
        "fim = int(input(\"índice final: \"))\n",
        "\n",
        "if inicio > fim or fim >= len(lista):\n",
        "    print(\"Escolhas inválidas\")\n",
        "else:\n",
        "  print(lista[inicio:fim])"
      ],
      "metadata": {
        "id": "RuPAOQxTyB8v",
        "outputId": "73b04f2b-9a52-4635-b8f0-4b9c3e4ffe7c",
        "colab": {
          "base_uri": "https://localhost:8080/"
        }
      },
      "execution_count": 44,
      "outputs": [
        {
          "output_type": "stream",
          "name": "stdout",
          "text": [
            "índice inicial: 10\n",
            "índice final: 15\n",
            "[200, 210, 220, 230, 240]\n"
          ]
        }
      ]
    },
    {
      "cell_type": "code",
      "source": [
        "# Caso o usuario queira digitar um range ao invés dos indices\n",
        "lista = []\n",
        "for i in range (301):\n",
        "  if i % 10 == 0:\n",
        "    lista.append(i)\n",
        "\n",
        "print(lista)\n",
        "n1 = float(input('Digite um número: '))\n",
        "n2 = float(input('Digite um número: '))\n",
        "\n",
        "if (n1 < n2) and (n1 >= min(lista)) and (n2 <= max(lista)):\n",
        "  inter = []\n",
        "  for i in lista:\n",
        "    if i >= n1 and i <= n2:\n",
        "      inter.append(i)\n",
        "  print(inter)\n",
        "else:\n",
        "  print('Escolhas inválidas')"
      ],
      "metadata": {
        "id": "Wlw1BzrwuCrp",
        "outputId": "a68722ed-6bc1-4e40-dc30-5f35ee4d0d0c",
        "colab": {
          "base_uri": "https://localhost:8080/"
        }
      },
      "execution_count": 45,
      "outputs": [
        {
          "output_type": "stream",
          "name": "stdout",
          "text": [
            "[0, 10, 20, 30, 40, 50, 60, 70, 80, 90, 100, 110, 120, 130, 140, 150, 160, 170, 180, 190, 200, 210, 220, 230, 240, 250, 260, 270, 280, 290, 300]\n",
            "Digite um número: 50\n",
            "Digite um número: 100\n",
            "[50, 60, 70, 80, 90, 100]\n"
          ]
        }
      ]
    },
    {
      "cell_type": "markdown",
      "source": [
        "8. Inclua no programa do exercício anterior a possibilidade de o usuário entrar com o apr de números desejados quantas vezes quiser, até digitar \"S\" ou \"s\" para sair."
      ],
      "metadata": {
        "id": "DEcfSYfazJNo"
      }
    },
    {
      "cell_type": "code",
      "source": [
        "lista=[]\n",
        "for i in range(100, 301, 10):\n",
        "  lista.append(i)\n",
        "print(lista)\n",
        "while True:\n",
        "  inicio = input(\"índice inicial ou S para sair: \")\n",
        "  if inicio in 'Ss':\n",
        "    break\n",
        "  fim = input(\"índice final: \")\n",
        "  if fim in 'Ss':\n",
        "    break\n",
        "  inicio = int(inicio)\n",
        "  fim = int(fim)\n",
        "  if inicio > fim or fim > len(lista):\n",
        "      print(\"Escolhas inválidas\")\n",
        "  else:\n",
        "    print(lista[inicio:fim])"
      ],
      "metadata": {
        "id": "_9BdsNHwzJiM",
        "colab": {
          "base_uri": "https://localhost:8080/"
        },
        "outputId": "e354fab0-d8aa-4e04-e686-aa7949ca1f3a"
      },
      "execution_count": 50,
      "outputs": [
        {
          "name": "stdout",
          "output_type": "stream",
          "text": [
            "[100, 110, 120, 130, 140, 150, 160, 170, 180, 190, 200, 210, 220, 230, 240, 250, 260, 270, 280, 290, 300]\n",
            "índice inicial ou S para sair: 0\n",
            "índice final: 21\n",
            "[100, 110, 120, 130, 140, 150, 160, 170, 180, 190, 200, 210, 220, 230, 240, 250, 260, 270, 280, 290, 300]\n",
            "índice inicial ou S para sair: 0\n",
            "índice final: 22\n",
            "Escolhas inválidas\n",
            "índice inicial ou S para sair: 20\n",
            "índice final: 10\n",
            "Escolhas inválidas\n",
            "índice inicial ou S para sair: -1\n",
            "índice final: 10\n",
            "[]\n",
            "índice inicial ou S para sair: -30\n",
            "índice final: -10\n",
            "[100, 110, 120, 130, 140, 150, 160, 170, 180, 190, 200]\n",
            "índice inicial ou S para sair: s\n"
          ]
        }
      ]
    },
    {
      "cell_type": "markdown",
      "source": [
        "9. A lista resultados abaixo representa 10 vezes em que foi lançado um dado com 6 lados. Usando o FOR juntamente com a função RANGE, crie um programa para contar quantas vezes apareceu um determinado número escolhido pelo usuário."
      ],
      "metadata": {
        "id": "GYksUj890ExG"
      }
    },
    {
      "cell_type": "code",
      "source": [
        "# Criacação de uma lista com 50 inteiros aleatórios entre 1 e 6\n",
        "import numpy as np\n",
        "resultados = np.random.randint(1, 6+1, (1,10))[0]\n",
        "print(resultados)\n",
        "\n",
        "# Insira seu código abaixo desta linha\n",
        "num = int(input('Digite numero de 1 a 6: '))\n",
        "cont = 0\n",
        "for i in range(len(resultados)):\n",
        "  if resultados[i] == num:\n",
        "    cont += 1\n",
        "print(cont)"
      ],
      "metadata": {
        "colab": {
          "base_uri": "https://localhost:8080/"
        },
        "id": "ziZAM9ph0G6t",
        "outputId": "0eb6326f-4f92-41e1-9d37-380753b3a8b1"
      },
      "execution_count": 53,
      "outputs": [
        {
          "output_type": "stream",
          "name": "stdout",
          "text": [
            "[6 6 5 3 3 5 3 3 4 3]\n",
            "Digite numero de 1 a 6: 6\n",
            "2\n"
          ]
        }
      ]
    },
    {
      "cell_type": "markdown",
      "source": [
        "10. Faça exatamente o que foi feito no exerćicio anterior, mas usando o FOR para percorrer diretamente a lista, isto é, sem usar a função RANGE."
      ],
      "metadata": {
        "id": "M5BWSwP62AVu"
      }
    },
    {
      "cell_type": "code",
      "source": [
        "# Criacação de uma lista com 50 inteiros aleatórios entre 1 e 6\n",
        "import numpy as np\n",
        "resultados = np.random.randint(1, 6+1, (1,10))[0]\n",
        "print(resultados)\n",
        "\n",
        "# Insira seu código abaixo desta linha\n",
        "num = int(input('Digite numero de 1 a 6: '))\n",
        "cont = 0\n",
        "for i in resultados:\n",
        "  if i == num:\n",
        "    cont += 1\n",
        "print(cont)"
      ],
      "metadata": {
        "colab": {
          "base_uri": "https://localhost:8080/"
        },
        "id": "JfctgoiS0dWb",
        "outputId": "a8096248-d277-4478-e35a-8a7ebec62d88"
      },
      "execution_count": 54,
      "outputs": [
        {
          "output_type": "stream",
          "name": "stdout",
          "text": [
            "[6 4 4 3 5 4 4 1 1 5]\n",
            "Digite numero de 1 a 6: 6\n",
            "1\n"
          ]
        }
      ]
    },
    {
      "cell_type": "markdown",
      "source": [
        "11. Conte quantas variáveis de cada tipo temos na lista `['Stone', 1, 'Lets', 2, True, '2', 'show', 234, 87, 1.33333, 7.0000, 1e-9, 'uasdhfusah', 'zuei', False, False, True, 132434, \"1324123\", \"False\", \"True\", \"Sucesso\", 5, \"u\",\"c\", 3, 55, 0 ]`. Faça isso duas vezes, primeiro percorrendo a lista pelos índices através da função RANGE e depois percorrendo diretamente os elementos da lista, sem usar a função RANGE."
      ],
      "metadata": {
        "id": "223YGiZP2XgA"
      }
    },
    {
      "cell_type": "code",
      "source": [
        "# Com a função RANGE\n",
        "lista = ['Stone', 1, 'Lets', 2, True, '2', 'show', 234, 87, 1.33333, 7.0000, 1e-9, 'uasdhfusah', 'zuei', False, False, True, 132434, \"1324123\", \"False\", \"True\", \"Sucesso\", 5, \"u\",\"c\", 3, 55, 0 ]\n",
        "qtd_str = 0\n",
        "qtd_int = 0\n",
        "qtd_float = 0\n",
        "qtd_bool = 0\n",
        "for i in range(len(lista)):\n",
        "  if type(lista[i]) == int:\n",
        "    qtd_int += 1\n",
        "  elif type(lista[i]) == str:\n",
        "    qtd_str += 1\n",
        "  elif type(lista[i]) == float:\n",
        "    qtd_float += 1\n",
        "  elif type(lista[i]) == bool:\n",
        "    qtd_bool += 1\n",
        "print(f'Strings: {qtd_str}\\nIntegers: {qtd_int}\\nFloats: {qtd_float}\\nBools: {qtd_bool}')"
      ],
      "metadata": {
        "id": "KkKKgeN-2UXo",
        "outputId": "12b738c4-0468-489e-b424-9f5a63d458c0",
        "colab": {
          "base_uri": "https://localhost:8080/"
        }
      },
      "execution_count": 56,
      "outputs": [
        {
          "output_type": "stream",
          "name": "stdout",
          "text": [
            "Strings: 12\n",
            "Integers: 9\n",
            "Floats: 3\n",
            "Bools: 4\n"
          ]
        }
      ]
    },
    {
      "cell_type": "code",
      "source": [
        "# Sem a função RANGE\n",
        "lista = ['Stone', 1, 'Lets', 2, True, '2', 'show', 234, 87, 1.33333, 7.0000, 1e-9, 'uasdhfusah', 'zuei', False, False, True, 132434, \"1324123\", \"False\", \"True\", \"Sucesso\", 5, \"u\",\"c\", 3, 55, 0 ]\n",
        "qtd_str = 0\n",
        "qtd_int = 0\n",
        "qtd_float = 0\n",
        "qtd_bool = 0\n",
        "for i in lista:\n",
        "  if type(i) == int:\n",
        "    qtd_int += 1\n",
        "  elif type(i) == str:\n",
        "    qtd_str += 1\n",
        "  elif type(i) == float:\n",
        "    qtd_float += 1\n",
        "  elif type(i) == bool:\n",
        "    qtd_bool += 1\n",
        "print(f'Strings: {qtd_str}\\nIntegers: {qtd_int}\\nFloats: {qtd_float}\\nBools: {qtd_bool}')"
      ],
      "metadata": {
        "id": "1TMrCxsw2uNj",
        "outputId": "4896cf3a-ca57-4590-be66-49f0a79ca3a7",
        "colab": {
          "base_uri": "https://localhost:8080/"
        }
      },
      "execution_count": 57,
      "outputs": [
        {
          "output_type": "stream",
          "name": "stdout",
          "text": [
            "Strings: 12\n",
            "Integers: 9\n",
            "Floats: 3\n",
            "Bools: 4\n"
          ]
        }
      ]
    },
    {
      "cell_type": "markdown",
      "source": [
        "12. Faça um Programa que leia um vetor de 10 números reais e mostre-os na ordem inversa. NÃO VALE USAR REVERSE"
      ],
      "metadata": {
        "id": "-GRz8QMs2WXD"
      }
    },
    {
      "cell_type": "code",
      "source": [
        "lista = []\n",
        "for i in range(10):\n",
        "  lista.append(float(input(f'Digite o valor {i+1}: ')))\n",
        "\n",
        "lista_reversa = []\n",
        "for i in range(len(lista)-1, -1, -1):\n",
        "  lista_reversa.append(lista[i])\n",
        "print(f'Lista: {lista}.\\nLista Reversa: {lista_reversa}.')"
      ],
      "metadata": {
        "id": "O_RnQe4v25mi",
        "colab": {
          "base_uri": "https://localhost:8080/"
        },
        "outputId": "446fed58-fbc7-4073-acf0-2de3e9e2dd2a"
      },
      "execution_count": 61,
      "outputs": [
        {
          "output_type": "stream",
          "name": "stdout",
          "text": [
            "Digite o valor 1: 1\n",
            "Digite o valor 2: 2\n",
            "Digite o valor 3: 3\n",
            "Digite o valor 4: 4\n",
            "Digite o valor 5: 5\n",
            "Digite o valor 6: 6\n",
            "Digite o valor 7: 7\n",
            "Digite o valor 8: 8\n",
            "Digite o valor 9: 9\n",
            "Digite o valor 10: 10\n",
            "Lista: [1.0, 2.0, 3.0, 4.0, 5.0, 6.0, 7.0, 8.0, 9.0, 10.0].\n",
            "Lista Reversa: [10.0, 9.0, 8.0, 7.0, 6.0, 5.0, 4.0, 3.0, 2.0, 1.0].\n"
          ]
        }
      ]
    },
    {
      "cell_type": "markdown",
      "source": [
        "13. Faça um Programa que leia uma lista de 10 caracteres e passe apenas as consoantes para uma nova lista. Depois disso, imprima na tela quais são estas consoantes, e quantas elas são."
      ],
      "metadata": {
        "id": "vDMkzRjO26MA"
      }
    },
    {
      "cell_type": "code",
      "source": [],
      "metadata": {
        "id": "-D-fkJpa26mW"
      },
      "execution_count": null,
      "outputs": []
    },
    {
      "cell_type": "markdown",
      "source": [
        "14. Faça um Programa que leia 20 números inteiros e armazene-os em duas listas: números pares em uma lista PARES e números ímpares em uma uma lista ÍMPARES."
      ],
      "metadata": {
        "id": "-w7-NRC53T30"
      }
    },
    {
      "cell_type": "code",
      "source": [],
      "metadata": {
        "id": "MGoVlegl3UMJ"
      },
      "execution_count": null,
      "outputs": []
    },
    {
      "cell_type": "markdown",
      "source": [
        "15. a) Faça um programa que permita ao usuário inserir quantos números quiser em uma lista, até que ele passe \"S\" ou \"s\".\n",
        "\n",
        "  b) Depois disso, crie um programa em que o usuário possa solicitar, por quantas vezes quiser qualquer uma das seguintes opções, até que pressione \"S\" ou \"s\" para encerrar:\n",
        "  *   \"med\" para ver a média dos números da lista\n",
        "  *   \"max\" para ver o maior número da lista\n",
        "  *   \"min\" para ver o menor número da lista\n",
        "  *   \"list\" para ver a lista\n",
        "  *   \"tsil\" para ver a lista invertida"
      ],
      "metadata": {
        "id": "RASDPK5O3tK8"
      }
    },
    {
      "cell_type": "code",
      "source": [],
      "metadata": {
        "id": "KV0GutH63txJ"
      },
      "execution_count": null,
      "outputs": []
    },
    {
      "cell_type": "markdown",
      "source": [
        "16) Faça um Programa que leia um vetor A com 10 números inteiros, calcule e mostre a soma dos quadrados dos elementos do vetor. Faça este mesmo programa em duas versões: sem list comprehension e com list comprehension."
      ],
      "metadata": {
        "id": "QuDhOjIA4sBe"
      }
    },
    {
      "cell_type": "code",
      "source": [
        "# sem list compreheension"
      ],
      "metadata": {
        "id": "iH8jnXbb4sXw"
      },
      "execution_count": null,
      "outputs": []
    },
    {
      "cell_type": "code",
      "source": [
        "# com list comprehension"
      ],
      "metadata": {
        "id": "KHasgR1f492x"
      },
      "execution_count": null,
      "outputs": []
    },
    {
      "cell_type": "markdown",
      "source": [
        "# Funções"
      ],
      "metadata": {
        "id": "VptRPmxW5Dwu"
      }
    },
    {
      "cell_type": "markdown",
      "source": [
        "1. Crie uma função que receba dois números e retorne o maior deles. Depois crie um menu para que o usuário possa passar 2 números quantas vezes quiser e visualizar o retorno dado por esta função, até que ele digite \"S\" ou \"s\" para sair."
      ],
      "metadata": {
        "id": "jo1S2BCO5Y-j"
      }
    },
    {
      "cell_type": "code",
      "source": [
        "def maior(n1, n2):\n",
        "  if n1>n2:\n",
        "    return n1\n",
        "  else:\n",
        "    return n2"
      ],
      "metadata": {
        "id": "H5mt2Lih4_O0"
      },
      "execution_count": null,
      "outputs": []
    },
    {
      "cell_type": "code",
      "source": [
        "n1 = 'aaa'\n",
        "n2 = 'aaa'\n",
        "while not n1 in 'Ss' or not n2 in 'Ss':\n",
        "  n1 = input('Digite um número ou S para sair: ')\n",
        "  if n1 in 'Ss':\n",
        "    break\n",
        "  n2 = input('Digite um número ou S para sair: ')\n",
        "  if not n1 in 'Ss' and not n2 in 'Ss':\n",
        "    print(f'O maior número é {maior(int(n1), int(n2))}.')"
      ],
      "metadata": {
        "id": "hW8kSXozs21a",
        "outputId": "70637d91-2b7e-4fcd-e361-c06af580ddc0",
        "colab": {
          "base_uri": "https://localhost:8080/"
        }
      },
      "execution_count": null,
      "outputs": [
        {
          "name": "stdout",
          "output_type": "stream",
          "text": [
            "Digite um número ou S para sair: 10\n",
            "Digite um número ou S para sair: 20\n",
            "O maior número é 20.\n",
            "Digite um número ou S para sair: 20\n",
            "Digite um número ou S para sair: 10\n",
            "O maior número é 20.\n",
            "Digite um número ou S para sair: 30\n",
            "Digite um número ou S para sair: 10\n",
            "O maior número é 30.\n",
            "Digite um número ou S para sair: s\n"
          ]
        }
      ]
    },
    {
      "cell_type": "markdown",
      "source": [
        "2. Crie um cenário semelhante ao número 1, mas com a função recebendo um terceiro argumento: \"min\" para menor e \"max\" para maior. Dê ao usuário a opção de entrar com a opção desejada também, além dos números propriamente ditos, para deciir se quer ver o maior ou o menor número."
      ],
      "metadata": {
        "id": "OlQy8A0b5cyf"
      }
    },
    {
      "cell_type": "code",
      "source": [
        "def status(n1, n2, max_min):\n",
        "  if max_min == 'max':\n",
        "    if n1>n2:\n",
        "      return n1\n",
        "    else:\n",
        "      return n2\n",
        "  elif max_min == 'min':\n",
        "    if n1<n2:\n",
        "      return n1\n",
        "    else:\n",
        "      return n2"
      ],
      "metadata": {
        "id": "xDaXU5kk5WRF"
      },
      "execution_count": null,
      "outputs": []
    },
    {
      "cell_type": "code",
      "source": [
        "while True:\n",
        "  n1 = input('Digite um número ou S para sair: ')\n",
        "  if n1 in 'Ss':\n",
        "    print('Programa finalizado!')\n",
        "    break\n",
        "  n2 = input('Digite um número ou S para sair: ')\n",
        "  if n2 in 'Ss':\n",
        "    print('Programa finalizado!')\n",
        "    break\n",
        "  max_min = input('Digite o status [max/min]: ')\n",
        "  if max_min in 'Ss':\n",
        "    print('Programa finalizado!')\n",
        "    break\n",
        "\n",
        "  if not n1 in 'Ss' and not n2 in 'Ss':\n",
        "    if max_min == 'max':\n",
        "      print(f'O maior número é {status(int(n1), int(n2), max_min)}.')\n",
        "    else:\n",
        "      print(f'O menor número é {status(int(n1), int(n2), max_min)}.')\n"
      ],
      "metadata": {
        "id": "RrZLXnIlvxy0",
        "outputId": "a53346fa-859f-4746-e121-d7d552c2ff65",
        "colab": {
          "base_uri": "https://localhost:8080/"
        }
      },
      "execution_count": null,
      "outputs": [
        {
          "output_type": "stream",
          "name": "stdout",
          "text": [
            "Digite um número ou S para sair: a\n",
            "Digite um número ou S para sair: s\n",
            "Programa finalizado!\n"
          ]
        }
      ]
    },
    {
      "cell_type": "markdown",
      "source": [
        "3. Crie e teste uma função que receba uma lista e dois números e retorne o slice que começa no primeiro número passado como argumento e termina no último número passado como argumento. Se o usuário passar um intervalo que não correponda ao tamanho da lista fornecida, ou se enviar o primeiro número maior do que o segundo, retorne None. "
      ],
      "metadata": {
        "id": "KnMUEjl-5t8-"
      }
    },
    {
      "cell_type": "code",
      "source": [],
      "metadata": {
        "id": "nPAVzZYm5uYG"
      },
      "execution_count": null,
      "outputs": []
    },
    {
      "cell_type": "markdown",
      "source": [
        "4. Crie uma função que diga se um número é par. A função deve retornar True caso o número seja par e False caso o número nãop seja par."
      ],
      "metadata": {
        "id": "gFoD2aY16O9Z"
      }
    },
    {
      "cell_type": "code",
      "source": [],
      "metadata": {
        "id": "n7eMO-bq6PY_"
      },
      "execution_count": null,
      "outputs": []
    },
    {
      "cell_type": "markdown",
      "source": [
        "5. Use a função criada no item 5 para preencher uma lista com todos os números pares entre 20 e 80. Resolva primeiro sem list comprehension e depois com list comprehension."
      ],
      "metadata": {
        "id": "QeHQ7FYT6dKz"
      }
    },
    {
      "cell_type": "code",
      "source": [
        "# Sem list compreehension"
      ],
      "metadata": {
        "id": "_FaPW0nn6csz"
      },
      "execution_count": null,
      "outputs": []
    },
    {
      "cell_type": "code",
      "source": [
        "# Com list comprehension"
      ],
      "metadata": {
        "id": "XsxUvN_46rXF"
      },
      "execution_count": null,
      "outputs": []
    },
    {
      "cell_type": "markdown",
      "source": [
        "6. Crie uma função que receba um número inteiro e retorne True se este número é um número primo."
      ],
      "metadata": {
        "id": "4H9iKMZGGlTZ"
      }
    },
    {
      "cell_type": "code",
      "source": [
        "def num_primo(num):\n",
        "  mult =0\n",
        "  for i in range(2, num):\n",
        "    if num % i == 0:\n",
        "      return False\n",
        "  return True"
      ],
      "metadata": {
        "id": "QTLVSuRDGl11"
      },
      "execution_count": null,
      "outputs": []
    },
    {
      "cell_type": "code",
      "source": [
        "num = int(input('Digite um número inteiro: '))\n",
        "if num_primo(num):\n",
        "  print(f'O número {num} é primo!')\n",
        "else:\n",
        "  print(f'O número {num} NÃO é primo!')"
      ],
      "metadata": {
        "id": "A5XM6cRi5PVy",
        "outputId": "d558f5ba-e748-45ca-bd03-7450353a19e1",
        "colab": {
          "base_uri": "https://localhost:8080/"
        }
      },
      "execution_count": null,
      "outputs": [
        {
          "output_type": "stream",
          "name": "stdout",
          "text": [
            "Digite um número inteiro: 10\n",
            "O número 10 NÃO é primo!\n"
          ]
        }
      ]
    },
    {
      "cell_type": "markdown",
      "source": [
        "7. Crie e teste uma função que recebe uma sequência de números inteiros e retorna uma nova lista com todos aqueles que foram repetidos pelo menos uma vez logo em sequência. Por exemplo,\n",
        "*   Input: [2,4,3,3,6,1,1,2,4,3]\n",
        "*   Output: [3,1]\n",
        "\n"
      ],
      "metadata": {
        "id": "7OXgN00rJAQy"
      }
    },
    {
      "cell_type": "code",
      "source": [],
      "metadata": {
        "id": "-6MKK_PgJAnH"
      },
      "execution_count": null,
      "outputs": []
    }
  ]
}