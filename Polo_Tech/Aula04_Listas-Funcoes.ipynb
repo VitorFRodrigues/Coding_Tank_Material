{
  "cells": [
    {
      "cell_type": "markdown",
      "metadata": {
        "id": "10Zmdj048yhW"
      },
      "source": [
        "## Aula 04 - Listas\n",
        "\n",
        "Nesta aula, serão discutidos os seguintes tópicos:\n",
        "- Listas;\n",
        "- Slicing;\n",
        "- Loop em listas;\n",
        "- Operador in;\n",
        "- Funções para Listas;\n",
        "- Funções;"
      ]
    },
    {
      "cell_type": "markdown",
      "metadata": {
        "id": "T8jBDHjIsiwu"
      },
      "source": [
        "## 1. Listas\n",
        "\n",
        "Note que ao longo das aulas anteriores, sempre que precisavamos de dados, era solicitado ao usuário esses tipos de informações. Por exemplo, mas criar um programa para calcular a média de prova de um aluno:"
      ]
    },
    {
      "cell_type": "code",
      "execution_count": 1,
      "metadata": {
        "id": "TswGogQw8yhl",
        "outputId": "f8385228-d471-482a-851d-0326d426767a",
        "colab": {
          "base_uri": "https://localhost:8080/"
        }
      },
      "outputs": [
        {
          "output_type": "stream",
          "name": "stdout",
          "text": [
            "Digite a nota de sua prova: 8\n",
            "Digite a nota da outra prova: 7\n",
            "A sua média é: 7.5\n"
          ]
        }
      ],
      "source": [
        "# Digitar as notas\n",
        "nota1 = float(input('Digite a nota de sua prova: '))\n",
        "nota2 = float(input('Digite a nota da outra prova: '))\n",
        "\n",
        "# Calcula a media\n",
        "media = (nota1 + nota2) / 2\n",
        "\n",
        "print(f'A sua média é: {media}')"
      ]
    },
    {
      "cell_type": "markdown",
      "metadata": {
        "id": "JvUwQy5usm6F"
      },
      "source": [
        "Sempre pareceu muito simples certo? Agora imagine para um professor que da aula em 3 turnos numa escola e precisa calcular rapidamente a média de 80 alunos. Começa a ser inviável a utilização de `inputs` para este serviço.\n",
        "\n",
        "Neste ponto, que será introduzido as __listas__.\n",
        "\n",
        "A lista é uma coleção de objetos do _Python_, trazendo de maneira bem simplificada, ~soa variáveis que comportam diversos valores ao mesmo tempo.\n",
        "\n",
        "Abaixo temos algumas formas de criar listas em _Python_:"
      ]
    },
    {
      "cell_type": "code",
      "execution_count": 2,
      "metadata": {
        "id": "6PxSPIOe8yho"
      },
      "outputs": [],
      "source": [
        "# Duas formas de criar Listas vazias\n",
        "lista1 = []\n",
        "\n",
        "lista2 = list()"
      ]
    },
    {
      "cell_type": "code",
      "execution_count": 4,
      "metadata": {
        "id": "-_1-ggWD8yho",
        "outputId": "e2085984-037e-4907-a15d-d352cb88e1a2",
        "colab": {
          "base_uri": "https://localhost:8080/"
        }
      },
      "outputs": [
        {
          "output_type": "execute_result",
          "data": {
            "text/plain": [
              "[1, 'Sandro', 6.5, 80, 'Data Science']"
            ]
          },
          "metadata": {},
          "execution_count": 4
        }
      ],
      "source": [
        "# Criar lista com elementos diferentes\n",
        "lista3 = [1, 'Sandro', 6.5, 80, 'Data Science']\n",
        "lista3"
      ]
    },
    {
      "cell_type": "code",
      "execution_count": 5,
      "metadata": {
        "id": "bTGIVKhY8yhp",
        "outputId": "e97a7152-1911-4da7-f66e-b9ce3a3ec7fd",
        "colab": {
          "base_uri": "https://localhost:8080/"
        }
      },
      "outputs": [
        {
          "output_type": "stream",
          "name": "stdout",
          "text": [
            "[1, 'Sandro', 6.5, 80, 'Data Science']\n"
          ]
        }
      ],
      "source": [
        "print(lista3)"
      ]
    },
    {
      "cell_type": "markdown",
      "metadata": {
        "id": "4_ZBA8Jl8yhq"
      },
      "source": [
        "Note que as listas, suportam diferentes tipos de objetos ao mesmo tempo, como no exemplo acima temos que a lista contenha 2 __inteiros__, 1 __float__ e 2 __strings__."
      ]
    },
    {
      "cell_type": "markdown",
      "metadata": {
        "id": "VQEek59Ds5YY"
      },
      "source": [
        "Uma característica bem importante das listas é sua __indexação__, onde pode-se acessar cada elemento individualmente devido a posição deste elemento estar associada a um __índice__, lembrando que em _Python_, índices começam sempre na posição zero. Vamos retomar ao exemplo anterior na tabela abaixo:\n",
        "\n",
        "<br>\n",
        "\n",
        "|  Lista | 1 | 'Sandro' | 8.5 | 70 | 'Data Science' |\n",
        "|:------:|:-:|:--------:|:---:|:--:|:--------------:|\n",
        "| Índice | 0 |     1    |  2  |  3 |        4       |\n",
        "\n",
        "<br>\n",
        "\n",
        "Portanto, para acessar cada um dos elementos basta utilizar os índices associados:"
      ]
    },
    {
      "cell_type": "code",
      "execution_count": 7,
      "metadata": {
        "id": "fvYQ7rfW8yhu",
        "outputId": "b3d1b53d-5e80-48b0-b37d-59a8680d78c3",
        "colab": {
          "base_uri": "https://localhost:8080/"
        }
      },
      "outputs": [
        {
          "output_type": "stream",
          "name": "stdout",
          "text": [
            "1\n",
            "Sandro\n",
            "80\n"
          ]
        }
      ],
      "source": [
        "print(lista3[0])\n",
        "print(lista3[1])\n",
        "print(lista3[3])"
      ]
    },
    {
      "cell_type": "markdown",
      "metadata": {
        "id": "r77HmAA1tOwb"
      },
      "source": [
        "Ainda sobre os índices, não precisamos saber os índices de todos os elementos quando queremos apenas trazer os últimos da lista (imagine que isso seja inviável quando temos uma lista muito grande). Mas pode-se acessar esses elementos utilizando o sinal negativo:"
      ]
    },
    {
      "cell_type": "code",
      "execution_count": 10,
      "metadata": {
        "id": "EMV6DCf_8yhv",
        "outputId": "79e376d7-7f37-4def-d488-2f17a9ee8e1e",
        "colab": {
          "base_uri": "https://localhost:8080/"
        }
      },
      "outputs": [
        {
          "output_type": "stream",
          "name": "stdout",
          "text": [
            "Data Science\n",
            "80\n",
            "6.5\n"
          ]
        }
      ],
      "source": [
        "print(lista3[-1])\n",
        "print(lista3[-2])\n",
        "print(lista3[-3])"
      ]
    },
    {
      "cell_type": "markdown",
      "metadata": {
        "id": "nPTsm49f8yhw"
      },
      "source": [
        " Uma última característica da estrutura da lista é que seus elementos são __mutável__, então pode-se alterar determinado valor de uma lista já criada:"
      ]
    },
    {
      "cell_type": "code",
      "execution_count": 11,
      "metadata": {
        "id": "jiIrMooW8yhw",
        "outputId": "e3d2fb39-270f-45b9-fdff-c3a700405789",
        "colab": {
          "base_uri": "https://localhost:8080/"
        }
      },
      "outputs": [
        {
          "output_type": "stream",
          "name": "stdout",
          "text": [
            "Lista original: [1, 'Sandro', 6.5, 80, 'Data Science']\n"
          ]
        }
      ],
      "source": [
        "print(f'Lista original: {lista3}')"
      ]
    },
    {
      "cell_type": "code",
      "source": [
        "lista3[-1] = 'Machine Learning'"
      ],
      "metadata": {
        "id": "gyurPhEpCqen"
      },
      "execution_count": 12,
      "outputs": []
    },
    {
      "cell_type": "code",
      "source": [
        "print(f'Lista alterada: {lista3}')"
      ],
      "metadata": {
        "id": "JXhknioqCqWS",
        "outputId": "9294f8aa-b332-4472-d84b-df2483136b57",
        "colab": {
          "base_uri": "https://localhost:8080/"
        }
      },
      "execution_count": 13,
      "outputs": [
        {
          "output_type": "stream",
          "name": "stdout",
          "text": [
            "Lista alterada: [1, 'Sandro', 6.5, 80, 'Machine Learning']\n"
          ]
        }
      ]
    },
    {
      "cell_type": "markdown",
      "metadata": {
        "id": "BeQ6HNq48yhx"
      },
      "source": [
        "## "
      ]
    },
    {
      "cell_type": "markdown",
      "metadata": {
        "id": "AVnLooiztS31"
      },
      "source": [
        "## 2. Slicing\n",
        "\n",
        "O __Slicing__ (em português fatiamento) é uma operação bem comum quando se trabalha com listas , onde a partir de uma lista original pode-se pegar subconjuntos ,ou fatias destes dados. Veja o exemplo abaixo:"
      ]
    },
    {
      "cell_type": "code",
      "execution_count": 14,
      "metadata": {
        "id": "uKJS2bHM8yhy"
      },
      "outputs": [],
      "source": [
        "# Lista de números pares\n",
        "pares = [0, 2, 4, 6, 8, 10, 12, 14, 16, 18]"
      ]
    },
    {
      "cell_type": "code",
      "execution_count": 16,
      "metadata": {
        "id": "331dXYhS8yhz",
        "outputId": "1eb0561e-e401-484e-9a00-b7ddac104e6f",
        "colab": {
          "base_uri": "https://localhost:8080/"
        }
      },
      "outputs": [
        {
          "output_type": "stream",
          "name": "stdout",
          "text": [
            "[6, 8, 10]\n"
          ]
        }
      ],
      "source": [
        "slice1 = pares[3:6]\n",
        "print(slice1)"
      ]
    },
    {
      "cell_type": "markdown",
      "metadata": {
        "id": "4_B4Bznj8yhz"
      },
      "source": [
        "Fizemos uma repartição onde retirou os elementos do índice 3 ao 6 (sendo o 6 excludente, sempre bom ressaltar isto!). Uma outra forma de repartir, onde queremos todos os elementos até determinado ponto, é utilizado os `:`"
      ]
    },
    {
      "cell_type": "code",
      "execution_count": 18,
      "metadata": {
        "id": "Uftvffhv8yh0",
        "outputId": "855d58f1-8e3c-457b-8e07-5ed456445980",
        "colab": {
          "base_uri": "https://localhost:8080/"
        }
      },
      "outputs": [
        {
          "output_type": "execute_result",
          "data": {
            "text/plain": [
              "[0, 2, 4, 6, 8]"
            ]
          },
          "metadata": {},
          "execution_count": 18
        }
      ],
      "source": [
        "metade1 = pares[:5]\n",
        "metade1"
      ]
    },
    {
      "cell_type": "code",
      "execution_count": 20,
      "metadata": {
        "id": "_BBTmrqs8yh0",
        "outputId": "fd93f73c-cc3d-4f27-afb1-e99413dbfe8e",
        "colab": {
          "base_uri": "https://localhost:8080/"
        }
      },
      "outputs": [
        {
          "output_type": "execute_result",
          "data": {
            "text/plain": [
              "[10, 12, 14, 16, 18]"
            ]
          },
          "metadata": {},
          "execution_count": 20
        }
      ],
      "source": [
        "metade2 = pares[5:]\n",
        "metade2"
      ]
    },
    {
      "cell_type": "markdown",
      "metadata": {
        "id": "u7cpe5ckta9O"
      },
      "source": [
        "Além dos índices inicial e final, pode-se também passar um passo para os índices. Veja o exemplo a seguir:"
      ]
    },
    {
      "cell_type": "code",
      "execution_count": 21,
      "metadata": {
        "id": "tahuBMtG8yh1",
        "outputId": "7df90d7b-85b1-46b5-93d5-7720fb84b44a",
        "colab": {
          "base_uri": "https://localhost:8080/"
        }
      },
      "outputs": [
        {
          "output_type": "execute_result",
          "data": {
            "text/plain": [
              "[0, 1, 2, 3, 4, 5, 6, 7, 8, 9, 10, 11, 12, 13, 14, 15]"
            ]
          },
          "metadata": {},
          "execution_count": 21
        }
      ],
      "source": [
        "nums = [0, 1, 2, 3, 4, 5, 6, 7, 8, 9, 10, 11, 12, 13, 14, 15]\n",
        "nums"
      ]
    },
    {
      "cell_type": "code",
      "execution_count": 22,
      "metadata": {
        "id": "PMIVKmmp8yh1",
        "outputId": "b3369ce8-d75a-4f1b-93fb-c631f15218ef",
        "colab": {
          "base_uri": "https://localhost:8080/"
        }
      },
      "outputs": [
        {
          "output_type": "execute_result",
          "data": {
            "text/plain": [
              "[3, 6, 9]"
            ]
          },
          "metadata": {},
          "execution_count": 22
        }
      ],
      "source": [
        "multiplos3ate10 = nums[3:10:3]\n",
        "multiplos3ate10"
      ]
    },
    {
      "cell_type": "markdown",
      "metadata": {
        "id": "nID-iDLY8yh1"
      },
      "source": [
        "## "
      ]
    },
    {
      "cell_type": "markdown",
      "metadata": {
        "id": "lJZFySIgtmBr"
      },
      "source": [
        "## 3. Looping em Listas\n",
        "\n",
        "\n",
        "\n",
        "Vimos como acessar cada elemento de uma lista individualmente, mas não precisamos fazer desta forma já que sabemos como utilizar loopings como por exemplo o _for_.\n",
        "\n",
        "O maior desafio aqui será entender por quanto tempo o looping irá precisar percorrer a lista. Para isso, utiliza-se a função `len()`:"
      ]
    },
    {
      "cell_type": "code",
      "execution_count": 23,
      "metadata": {
        "id": "uvNCwbO68yh2",
        "outputId": "0cfbda0c-de3e-4c2c-8e11-436bdea20ab2",
        "colab": {
          "base_uri": "https://localhost:8080/"
        }
      },
      "outputs": [
        {
          "output_type": "execute_result",
          "data": {
            "text/plain": [
              "[1, 3, 5, 7, 9, 11]"
            ]
          },
          "metadata": {},
          "execution_count": 23
        }
      ],
      "source": [
        "impares = [1, 3, 5, 7, 9, 11]\n",
        "impares"
      ]
    },
    {
      "cell_type": "code",
      "execution_count": 24,
      "metadata": {
        "id": "Ge7yDtom8yh2",
        "outputId": "b3a23ba7-8ad0-4863-9dc0-8b89a8cb89b5",
        "colab": {
          "base_uri": "https://localhost:8080/"
        }
      },
      "outputs": [
        {
          "output_type": "execute_result",
          "data": {
            "text/plain": [
              "6"
            ]
          },
          "metadata": {},
          "execution_count": 24
        }
      ],
      "source": [
        "len(impares)"
      ]
    },
    {
      "cell_type": "markdown",
      "metadata": {
        "id": "FjBB7B8s8yh2"
      },
      "source": [
        "Ou seja, a função `len()` retorna a quantidade de elementos dentro de uma lista. Pode-se combinar isto com a função `range` e assim percorrer todos os elementos na nossa lista:"
      ]
    },
    {
      "cell_type": "code",
      "execution_count": 25,
      "metadata": {
        "id": "hRAd-IbZ8yh2",
        "outputId": "d48f0b51-a643-4f9c-abdf-cf5b6df58c42",
        "colab": {
          "base_uri": "https://localhost:8080/"
        }
      },
      "outputs": [
        {
          "output_type": "stream",
          "name": "stdout",
          "text": [
            "Indice 0 | Elemento: 1\n",
            "Indice 1 | Elemento: 3\n",
            "Indice 2 | Elemento: 5\n",
            "Indice 3 | Elemento: 7\n",
            "Indice 4 | Elemento: 9\n",
            "Indice 5 | Elemento: 11\n"
          ]
        }
      ],
      "source": [
        "for i in range(len(impares)):\n",
        "  print(f'Indice {i} | Elemento: {impares[i]}')"
      ]
    },
    {
      "cell_type": "code",
      "source": [
        "for i in range(len(impares)):\n",
        "  print(impares[i])"
      ],
      "metadata": {
        "id": "bBqJ7j6rGKXb",
        "outputId": "204684f6-f814-4b6b-f851-312c5f06e691",
        "colab": {
          "base_uri": "https://localhost:8080/"
        }
      },
      "execution_count": 26,
      "outputs": [
        {
          "output_type": "stream",
          "name": "stdout",
          "text": [
            "1\n",
            "3\n",
            "5\n",
            "7\n",
            "9\n",
            "11\n"
          ]
        }
      ]
    },
    {
      "cell_type": "markdown",
      "metadata": {
        "id": "DCN4XMzC8yh3"
      },
      "source": [
        "Pórem, existe uma forma ainda mais fácil de percorrer os elementos de uma lista, sem se preocupar o índice de fato. O _for_ não serve apenas para percorrer sequências mas também percorrer elementos de coleções. Dessa forma, pode-se trocar o `range` pela própria lista:"
      ]
    },
    {
      "cell_type": "code",
      "execution_count": 28,
      "metadata": {
        "id": "-HEt5kIJ8yh3",
        "outputId": "00327280-550c-49df-e35f-6c3fe57bf300",
        "colab": {
          "base_uri": "https://localhost:8080/"
        }
      },
      "outputs": [
        {
          "output_type": "stream",
          "name": "stdout",
          "text": [
            "1\n",
            "3\n",
            "5\n",
            "7\n",
            "9\n",
            "11\n"
          ]
        }
      ],
      "source": [
        "for num in impares:\n",
        "  print(num)"
      ]
    },
    {
      "cell_type": "markdown",
      "metadata": {
        "id": "LMXvsyN78yh3"
      },
      "source": [
        "> O for serve, primariamente, para percorrer coleções. Ou seja, para iterar coleções. O range age, na prática, como se fosse uma lista contendo os valores determinados por seu parâmetro. Dizemos que a função range gera um iterável, ou seja, um tipo especial de dado que pode ser percorrido através de um loop."
      ]
    },
    {
      "cell_type": "markdown",
      "metadata": {
        "id": "PZ8dGTwb8yh4"
      },
      "source": [
        "## "
      ]
    },
    {
      "cell_type": "markdown",
      "metadata": {
        "id": "hNe7Z9KMtuFG"
      },
      "source": [
        "## 4. Operador in\n",
        "\n",
        "O operador __in__ costuma aparecer no _for_ para indicar a lista ou sequência a ser percorrida, mas ele também possui uma funcionalidade de verificar de determinado elemento pertence ou não a uma lista. Observe a saída do código abaixo."
      ]
    },
    {
      "cell_type": "code",
      "execution_count": null,
      "metadata": {
        "id": "skJcMgUl8yh5"
      },
      "outputs": [],
      "source": []
    },
    {
      "cell_type": "markdown",
      "metadata": {
        "id": "LEP6lJCYt2ce"
      },
      "source": [
        "Normalmente utilizamos esse comando junto de um if quando precisamos checar se um elemento existe:\n",
        "\n"
      ]
    },
    {
      "cell_type": "code",
      "execution_count": null,
      "metadata": {
        "id": "lArU-yMn8yh7"
      },
      "outputs": [],
      "source": []
    },
    {
      "cell_type": "markdown",
      "metadata": {
        "id": "H8hB7EzM8yh7"
      },
      "source": [
        "## "
      ]
    },
    {
      "cell_type": "markdown",
      "metadata": {
        "id": "dx6tuwNvt5UY"
      },
      "source": [
        "## 4. Funções para Listas\n",
        "\n",
        "\n",
        "As listas possuem diversas funções próprias batante úteis e que facilitam a vida no dia a dia de desenvolvimento com _Python_. A seguir iremos comentar sobre algumas das principais funções:\n",
        "\n",
        "<br>\n",
        "\n",
        "### append e insert - Adicionando elementos\n",
        "\n",
        "Podemos adicionar novos elementos na lista de duas maneiras. A primeira delas, mais simples, é o append. Ele adiciona um elemento ao final da lista. Veja o exemplo abaixo:"
      ]
    },
    {
      "cell_type": "code",
      "execution_count": null,
      "metadata": {
        "id": "XXLy8LFF8yh9"
      },
      "outputs": [],
      "source": []
    },
    {
      "cell_type": "markdown",
      "metadata": {
        "id": "SibHjanftfXf"
      },
      "source": [
        "__Observação:__ deve-se tomar bastante cuidado ao utilizar listas como por exemplo, ao atribuir uma lista a uma variável:"
      ]
    },
    {
      "cell_type": "code",
      "execution_count": null,
      "metadata": {
        "id": "K-8MG5vZ8yh-"
      },
      "outputs": [],
      "source": []
    },
    {
      "cell_type": "code",
      "execution_count": null,
      "metadata": {
        "id": "dRdauLYT8yh-"
      },
      "outputs": [],
      "source": []
    },
    {
      "cell_type": "markdown",
      "metadata": {
        "id": "nsfVpYkZ8yh_"
      },
      "source": [
        "Quando atribui-se uma lista a outra variável, a lista __não é copiada__. Dessa forma, qualquer modificação na variável impacta também na lista original:"
      ]
    },
    {
      "cell_type": "code",
      "execution_count": null,
      "metadata": {
        "id": "g8JjFI1p8yh_"
      },
      "outputs": [],
      "source": []
    },
    {
      "cell_type": "markdown",
      "metadata": {
        "id": "782xhjCkthm0"
      },
      "source": [
        "Modificações aplicadas em `lista2` também afetarão a `lista1`. \n",
        "\n",
        "Isso ocorre porque não foi criada uma nova lista. O _Python_ apenas fez com que ambas as variáveis (`lista1` e `lista2`) referenciassem a mesma estrutura na memória. Quando utilizamos _slices_, isso não ocorre. O _Python_ cria uma lista contendo os valores restritos pelos índices. Sendo assim, uma estratégia fácil para copiar uma lista para outra é utilizar um slice indo da primeira à última posição:"
      ]
    },
    {
      "cell_type": "code",
      "execution_count": null,
      "metadata": {
        "id": "ET4C5xwu8yiC"
      },
      "outputs": [],
      "source": []
    },
    {
      "cell_type": "markdown",
      "metadata": {
        "id": "i0ePpzqRuBTm"
      },
      "source": [
        "Outra maneira de adicionar elemento é com a função __insert__: além do elemento, ele recebe a posição do novo elemento, onde o primeiro parâmetro é a posição, e a segundo é o valor:"
      ]
    },
    {
      "cell_type": "code",
      "execution_count": null,
      "metadata": {
        "id": "b0YpfQzB8yiE"
      },
      "outputs": [],
      "source": []
    },
    {
      "cell_type": "markdown",
      "metadata": {
        "id": "pSGrM8Hi8yiE"
      },
      "source": [
        "Note que o valor que ocupava a posição anteriormente não é substituído, mas \"empurrado\" para a próxima posição.\n",
        "\n"
      ]
    },
    {
      "cell_type": "markdown",
      "metadata": {
        "id": "eeALYBUj8yiF"
      },
      "source": [
        "## "
      ]
    },
    {
      "cell_type": "markdown",
      "metadata": {
        "id": "k-apXhuvuHtX"
      },
      "source": [
        "### remove e pop - Removendo elementos\n",
        "\n",
        "\n",
        "Pode-se  remover um determinado elemento de 2 jeitos: pelo valor utilizando o __remove__ ou pela posição com o __pop__. \n",
        "\n",
        "O __remove__ irá remover o primeiro elemento encontrado na lista com um dado valor. Ex:"
      ]
    },
    {
      "cell_type": "code",
      "execution_count": null,
      "metadata": {
        "id": "MFx6PgZb8yiH"
      },
      "outputs": [],
      "source": []
    },
    {
      "cell_type": "markdown",
      "metadata": {
        "id": "Yi1XhB3BuLhL"
      },
      "source": [
        "Já a função __pop__ remove o elemento que estiver em uma dada posição, independentemente de seu valor:"
      ]
    },
    {
      "cell_type": "code",
      "execution_count": null,
      "metadata": {
        "id": "JYjV_XRN8yiI"
      },
      "outputs": [],
      "source": []
    },
    {
      "cell_type": "markdown",
      "metadata": {
        "id": "dKqTBWvg8yiJ"
      },
      "source": [
        "Se nenhum valor for passado no pop, ele irá remover necessariamente o último elemento da lista.\n",
        "\n"
      ]
    },
    {
      "cell_type": "markdown",
      "metadata": {
        "id": "uNus4kSt8yiJ"
      },
      "source": [
        "## "
      ]
    },
    {
      "cell_type": "markdown",
      "metadata": {
        "id": "dDIr4hJ8uOi0"
      },
      "source": [
        "### sort -  Ordenando listas\n",
        "\n",
        "\n",
        "Podemos ordenar uma lista facilmente utilizando a função __sort__ para listas:"
      ]
    },
    {
      "cell_type": "code",
      "execution_count": null,
      "metadata": {
        "id": "5TfPZuqn8yiK"
      },
      "outputs": [],
      "source": []
    },
    {
      "cell_type": "markdown",
      "metadata": {
        "id": "u2wglRuluSaE"
      },
      "source": [
        "Para ordenar a lista de maior para o menor, ou seja, de forma decrescente para passar o parâmetro `reverse = True`:"
      ]
    },
    {
      "cell_type": "code",
      "execution_count": null,
      "metadata": {
        "id": "ErYrodKn8yiL"
      },
      "outputs": [],
      "source": []
    },
    {
      "cell_type": "markdown",
      "metadata": {
        "id": "8LjwBryj8yiL"
      },
      "source": [
        "> Importante: o sort só irá funcionar caso sua lista possua apenas elementos que podem ser comparados entre si (apenas strings ou apenas números, por exemplo). Se uma lista contém tanto strings quanto números, o sort não saberá o que vem primeiro."
      ]
    },
    {
      "cell_type": "markdown",
      "metadata": {
        "id": "8z5oBjgwuulZ"
      },
      "source": [
        "Um problema do __sort__ é que ele irá reordenar a própria lista. Muitas vezes precisamos preservar a lista original, e obter uma nova com a ordenação desejada. Neste caso, podemos utilizar o __sorted__:"
      ]
    },
    {
      "cell_type": "code",
      "execution_count": null,
      "metadata": {
        "id": "QfnADxip8yiM"
      },
      "outputs": [],
      "source": []
    },
    {
      "cell_type": "markdown",
      "metadata": {
        "id": "GeBtWtxvuyJi"
      },
      "source": [
        "O sorted também aceita o parâmetro reverse para aplicar ordem decrescente.\n",
        "\n",
        "Aliás a respeito de ordenar decrescentemente, é possível simplesmente inverter a ordem dos elementos de uma lista utilizando a função __reverse__:"
      ]
    },
    {
      "cell_type": "code",
      "execution_count": null,
      "metadata": {
        "id": "EsaUKjvm8yiO"
      },
      "outputs": [],
      "source": []
    },
    {
      "cell_type": "markdown",
      "metadata": {
        "id": "DLla7R-S8yiP"
      },
      "source": [
        "## "
      ]
    },
    {
      "cell_type": "markdown",
      "metadata": {
        "id": "7HI0YooWu6xm"
      },
      "source": [
        "### index - Buscar um elemento\n",
        "\n",
        "\n",
        "Pode-se buscar um determinado elemento (descobrir sua posição) utilizando a função __index__. Ela irá informar a primeira posição onde um elemento for encontrado:"
      ]
    },
    {
      "cell_type": "code",
      "execution_count": null,
      "metadata": {
        "id": "Tvv_onzJ8yiP"
      },
      "outputs": [],
      "source": []
    },
    {
      "cell_type": "markdown",
      "metadata": {
        "id": "5AG4mJom8yiQ"
      },
      "source": [
        "> Atenção: caso o elemento buscado não exista, a função index dará erro. Considere utilizar o in para verificar se o elemento existe na lista antes de usar o index."
      ]
    },
    {
      "cell_type": "markdown",
      "metadata": {
        "id": "Cpj_wIut8yiQ"
      },
      "source": [
        "## "
      ]
    },
    {
      "cell_type": "markdown",
      "metadata": {
        "id": "0K_xNqefu87X"
      },
      "source": [
        "### Propriedades das Listas\n",
        "\n",
        "Assim como já vimo a função __len__ que retorna o tamanho da lista verificada, existem outras funções que por exemplo devolvem o maior valor (__max__) ou o menor (__min__)."
      ]
    },
    {
      "cell_type": "code",
      "execution_count": null,
      "metadata": {
        "id": "lckvFlJw8yiQ"
      },
      "outputs": [],
      "source": []
    },
    {
      "cell_type": "markdown",
      "metadata": {
        "id": "tv4T7HEt8yiR"
      },
      "source": [
        "## "
      ]
    },
    {
      "cell_type": "markdown",
      "metadata": {
        "id": "QNPNw5nwvrmh"
      },
      "source": [
        "### Enumerate\n",
        "\n",
        "\n",
        "Considere um problema qualquer onde o índice importa. Por exemplo, suponha que você possua uma lista de números e gostaria de criar uma regra em relação aos índices. Se o índice for par, eu multiplico o número por 2 e se for ímpar eu soma em uma unidade, para fins de `print`.\n",
        "\n",
        "A lógica desse problema poderia ser resolvida usando índice: "
      ]
    },
    {
      "cell_type": "code",
      "execution_count": null,
      "metadata": {
        "id": "DWKPpHna8yiR"
      },
      "outputs": [],
      "source": []
    },
    {
      "cell_type": "markdown",
      "metadata": {
        "id": "CEj5TlMHv137"
      },
      "source": [
        "Existe uma ferramenta em Python que pode nos ajudar a escrever de maneira mais *pythonica*, sem precisar acessar lista por índice: o **enumerate**. Vamos entender o que ele faz primeiro, e em seguida veremos como deixar o código mais limpo:"
      ]
    },
    {
      "cell_type": "code",
      "execution_count": null,
      "metadata": {
        "id": "YuA6iC2b8yiS"
      },
      "outputs": [],
      "source": []
    },
    {
      "cell_type": "markdown",
      "metadata": {
        "id": "jhz99yxRv6W2"
      },
      "source": [
        "O **enumerate** montou uma estrutura onde cada elemento é uma tupla (uma espécie de lista imutável), sendo o primeiro elemento da tupla um índice da lista, e o segundo o valor associado àquele índice. Ao tratar a tupla como se fosse mais de uma variável, temos o que chamamos de **desempacotamento de tupla**: cada valor da tupla é atribuido para uma variável. \n",
        "\n"
      ]
    },
    {
      "cell_type": "code",
      "execution_count": null,
      "metadata": {
        "id": "0Y0Us6BL8yiT"
      },
      "outputs": [],
      "source": []
    },
    {
      "cell_type": "markdown",
      "metadata": {
        "id": "ojNgCKpzwMcH"
      },
      "source": [
        "\n",
        "Aplicando o desempacotamento de tupla no *for*, podemos ter, simultaneamente, índice e valor em variáveis separadas, na prática percorrendo a lista tanto por índice quanto por valor. Refazendo o exemplo das maiúsculas/minúsculas:"
      ]
    },
    {
      "cell_type": "code",
      "execution_count": null,
      "metadata": {
        "id": "EV0N33RQ8yiU"
      },
      "outputs": [],
      "source": []
    },
    {
      "cell_type": "markdown",
      "metadata": {
        "id": "jmyQaSgM8yiU"
      },
      "source": [
        "## "
      ]
    },
    {
      "cell_type": "markdown",
      "metadata": {
        "id": "msYqsmkgwXg0"
      },
      "source": [
        "### Zip\n",
        "\n",
        "\n",
        "Vamos pensar em um problema onde precisamos percorrer duas listas simultaneamente. Por exemplo, considere que temos uma lista com os nomes de todos os alunos de uma turma, e outra com as notas, na mesma ordem. Como faríamos para acessar, simultaneamente, o nome de um aluno e a sua nota?\n",
        "\n",
        "Esse é um problema onde, a princípio, utilizaríamos índice. Se usarmos o mesmo índice nas duas listas, estamos na prática percorrendo ambas as listas simultaneamente:"
      ]
    },
    {
      "cell_type": "code",
      "execution_count": null,
      "metadata": {
        "id": "Tlj317Fe8yiU"
      },
      "outputs": [],
      "source": []
    },
    {
      "cell_type": "markdown",
      "metadata": {
        "id": "vq2l3_rQwcT6"
      },
      "source": [
        "Vamos ver agora o **zip** em ação para compreender como ele funciona:\n"
      ]
    },
    {
      "cell_type": "code",
      "execution_count": null,
      "metadata": {
        "id": "Wxt5meX78yiV"
      },
      "outputs": [],
      "source": []
    },
    {
      "cell_type": "markdown",
      "metadata": {
        "id": "X-ma2qSFwgA5"
      },
      "source": [
        "Assim como no **enumerate**, o **zip** montou tuplas. Cada tupla representa 1 posição das listas originais, e cada posição dentro da tupla representa o dado de uma das listas. Ou seja, cada elemento do **zip** contém 1 elemento de cada lista original, na ordem que eles apareceram nas listas originais. Logo, ele permite percorrer 2 listas simultaneamente.\n",
        "\n",
        "Novamente podemos aplicar desempacotamento de tuplas em nosso loop acessar os dados de cada lista individualmente de maneira legível:"
      ]
    },
    {
      "cell_type": "code",
      "execution_count": null,
      "metadata": {
        "id": "VUSutFb58yiV"
      },
      "outputs": [],
      "source": []
    },
    {
      "cell_type": "markdown",
      "metadata": {
        "id": "0zRJCt3M8yiV"
      },
      "source": [
        "## "
      ]
    },
    {
      "cell_type": "markdown",
      "metadata": {
        "id": "87O9AiH88yiW"
      },
      "source": [
        "## 5. Funções"
      ]
    },
    {
      "cell_type": "markdown",
      "metadata": {
        "id": "Ip-Gt4Nj8yiW"
      },
      "source": [
        "__Funções__ em _Python_ é uma aplicação que auxilia na repetitividade de trechos de código. Então, vamos imaginar aquele primeiro exemplo onde pedia as notas das 3 provas de um aluno e depois devolvia o valor da média. Vamos refazer pela última vez este exercício aqui:"
      ]
    },
    {
      "cell_type": "code",
      "execution_count": null,
      "metadata": {
        "id": "Hcb62pou8yiW"
      },
      "outputs": [],
      "source": []
    },
    {
      "cell_type": "markdown",
      "metadata": {
        "id": "i30StOR78yiW"
      },
      "source": [
        "A função é um \"pedaço de código\" a parte do que estamos desenvolvendo que podemos chamar toda a vez que quiser repetir ou executar determinada função. Então vamos monta uma função nomeada como `calcula_media`:"
      ]
    },
    {
      "cell_type": "code",
      "execution_count": null,
      "metadata": {
        "id": "RkMpEvWV8yiW"
      },
      "outputs": [],
      "source": []
    },
    {
      "cell_type": "markdown",
      "metadata": {
        "id": "-A7wLJmg8yiX"
      },
      "source": [
        "Agora, vamos acionar a nossa função:"
      ]
    },
    {
      "cell_type": "code",
      "execution_count": null,
      "metadata": {
        "id": "HLhdaTQe8yiX"
      },
      "outputs": [],
      "source": []
    },
    {
      "cell_type": "markdown",
      "metadata": {
        "id": "-6wD3DkR8yiX"
      },
      "source": [
        "Dessa forma, agora pode-se utilizar a função quantas vezes a gente quiser. Note, o que foi definido dentro da função é privado a ela, ou seja, não é possível acessar elementos criados dentro dela. Siga o exemplo abaixo:"
      ]
    },
    {
      "cell_type": "code",
      "execution_count": null,
      "metadata": {
        "id": "Z3M8iMWj8yiX"
      },
      "outputs": [],
      "source": []
    },
    {
      "cell_type": "markdown",
      "metadata": {
        "id": "wCz4ZxKV8yiX"
      },
      "source": [
        "Mas para que isso seja válido, é necessário definir um __retorno da função__ que foi criada. Vamos retomar o exemplo agora:"
      ]
    },
    {
      "cell_type": "code",
      "execution_count": null,
      "metadata": {
        "id": "AJIhQWFk8yiY"
      },
      "outputs": [],
      "source": []
    },
    {
      "cell_type": "markdown",
      "metadata": {
        "id": "krAefyJL8yiY"
      },
      "source": [
        "Podemos até refazer o exercícios das médias onde iremos receber uma __lista de notas__ e iremos devolver para o aluno o valor da média:"
      ]
    },
    {
      "cell_type": "code",
      "execution_count": null,
      "metadata": {
        "id": "Zaq1kHIh8yiZ"
      },
      "outputs": [],
      "source": []
    },
    {
      "cell_type": "code",
      "execution_count": null,
      "metadata": {
        "id": "2nrfLZVq8yiZ"
      },
      "outputs": [],
      "source": []
    },
    {
      "cell_type": "code",
      "execution_count": null,
      "metadata": {
        "id": "TFCUxXcm8yiZ"
      },
      "outputs": [],
      "source": []
    },
    {
      "cell_type": "markdown",
      "metadata": {
        "id": "ii0elrXp8yiZ"
      },
      "source": [
        "## "
      ]
    },
    {
      "cell_type": "markdown",
      "metadata": {
        "id": "r36SEhVd8yia"
      },
      "source": [
        "### Recursividade\n",
        "\n",
        "__Recursividade__ é quando uma função do _Python_ chama outra função dentro do desenvolvimento dela:"
      ]
    },
    {
      "cell_type": "code",
      "execution_count": null,
      "metadata": {
        "id": "WK0bJWZ28yia"
      },
      "outputs": [],
      "source": []
    },
    {
      "cell_type": "code",
      "execution_count": null,
      "metadata": {
        "id": "yEFpxbGp8yib"
      },
      "outputs": [],
      "source": []
    },
    {
      "cell_type": "markdown",
      "metadata": {
        "id": "fUwAgtwF8yib"
      },
      "source": [
        "Mas e se uma função referenciasse ela mesma? Isso também funciona, e chama-se **função recursiva**, ou **recursão**. \n",
        "\n",
        "A ideia vem da matemática. Vejamos um exemplo. Considere a função fatorial. O fatorial de um número n qualquer é igual ao produto entre n e todos os seus antecessores inteiros positivos: n! = n x (n-1) x (n-2) x ... x 2 x 1. \n",
        "\n",
        "Considere o fatorial de 5:\n",
        "5! = 5x**4x3x2x1**\n",
        "\n",
        "Pense agora no fatorial de 4:\n",
        "4! = 4x3x2x1\n",
        "\n",
        "Note que temos destacado em negrito a expressão completa do fatorial de 4 dentro do fatorial de 5. Então é possível reescrecer o fatorial de 5 em função do fatorial de 4:\n",
        "\n",
        "5! = 5x(4!)\n",
        "\n",
        "Porém, dentro do fatorial de 4, temos o fatorial de 3, e assim sucessivamente. Podemos generalizar da seguinte maneira:\n",
        "\n",
        "f(n) = \n",
        "* 1, se n = 1\n",
        "* n * f(n-1), se x > 1\n",
        "\n",
        "Ou seja, imagine que você queira calcular f(4). Como 4 > 1, teremos:\n",
        "f(4) = 4 * f(3)\n",
        "\n",
        "Precisamos expandir f(3):\n",
        "f(4) = 4 * (3 * f(2))\n",
        "\n",
        "E assim sucessivamente:\n",
        "f(4) = 4 * (3 * (2 * f(1)))\n",
        "\n",
        "Opa, f(1) nós conhecemos: está definido lá em cima como 1.\n",
        "Portanto:\n",
        "f(4) = 4 * 3 * 2 * 1\n",
        "f(4) = 24\n",
        "\n",
        "Note que nós decompomos um problema em várias instâncias \"menores\" do problema. Quebramos a formulação de uma multiplicação enorme por vários casos de n x f(n-1). Chamamos essa estratégia de _dividir para conquistar_, e ela envolve identificar 2 etapas bastante claras do problema:\n",
        "* Caso base: é um caso para o qual temos um valor conhecido (no exemplo acima, f(1) = 1)\n",
        "* Caso geral: é a chamada recursiva, onde faremos referência à própria função. \n",
        "\n",
        "Note também que esse comportamento tem o comportamento de _pilha_: se colocamos 3 pratos empilhados sobre a mesa, precisamos tirar primeiro o último que colocamos, certo? Caso contrário, a pilha toda tomba. No caso da recursão, para obter f(4) caímos em f(3), depois f(2), depois f(1), depois f(0) e foi para ele que obtivemos a primeira resposta, que em seguida usamos para calcular f(1), depois calcular f(2), depois f(3) e só então chegamos em f(4). O primeiro passo do problema foi o último a ser resolvido.\n",
        "\n",
        "Em Python, nossa função ficaria assim:"
      ]
    },
    {
      "cell_type": "code",
      "execution_count": null,
      "metadata": {
        "id": "Zn_I5ymV8yic"
      },
      "outputs": [],
      "source": []
    },
    {
      "cell_type": "code",
      "execution_count": null,
      "metadata": {
        "id": "rzlPmGLY8yic"
      },
      "outputs": [],
      "source": []
    },
    {
      "cell_type": "markdown",
      "metadata": {
        "id": "vMa9cUXc8yid"
      },
      "source": [
        "## "
      ]
    },
    {
      "cell_type": "markdown",
      "metadata": {
        "id": "6t7MOGVlwvSG"
      },
      "source": [
        "## Exercícios"
      ]
    },
    {
      "cell_type": "markdown",
      "metadata": {
        "id": "Or_UCuc58yie"
      },
      "source": [
        "__1)__ Normalização de Dados, também conhecido na estatística como Z-Score, é quando temos uma distribuição de dados quaisquer em determinada escala e gostariamos de converter-los para uma distribuição com o comportamento de uma distrbuição Normal (também conhecida como Gaussiana).\n",
        "\n",
        "Para fazer a normalização dos dados devemos converte-los de acordo com a seguinte fórmula:\n",
        "\n",
        "$$ Z = \\frac{x - \\mu}{\\sigma} $$\n",
        "\n",
        "Onde $x$ é um dado da nossa distribuição, $\\mu$ é a média desta distribuição e $\\sigma$ é o desvio padrão da distribuição.\n",
        "\n",
        "Vamos dividir o exercício nos seguintes itens:"
      ]
    },
    {
      "cell_type": "markdown",
      "metadata": {
        "id": "n3Q8C7_08yif"
      },
      "source": [
        "__1.1)__ Desenvolva uma função para calcular a média e o desvio padrão para uma lista de tamanho qualquer (1 ponto)"
      ]
    },
    {
      "cell_type": "code",
      "execution_count": null,
      "metadata": {
        "id": "1CPcDhiq8yif"
      },
      "outputs": [],
      "source": []
    },
    {
      "cell_type": "markdown",
      "metadata": {
        "id": "-KE76F5h8yig"
      },
      "source": [
        "__1.2)__ Desenvolva uma função que faça a normalização segundo a formula do Z e retorne a lista de dados normalizados. (1 ponto)"
      ]
    },
    {
      "cell_type": "code",
      "execution_count": null,
      "metadata": {
        "id": "_0KwYloK8yig"
      },
      "outputs": [],
      "source": []
    },
    {
      "cell_type": "markdown",
      "metadata": {
        "id": "mAgKrPsH8yig"
      },
      "source": [
        "__2)__ O _MinMaxScaler_ é uma técnica de reescalonamento de um conjunto de dados parecida com a normalização ou no caso Z-score. A diferença é que ao invés de utilizar média e desvio padrão, utiliza-se os valores extremos (máximo e mínino), segundo a equação a seguir:\n",
        "\n",
        "$$ S = \\frac{x - min}{max - min} $$\n",
        "\n",
        "Onde X é um determinado elemento da lista, $min$ é o menor valor da lista e $max$ e o maior valor da lista.\n",
        "\n",
        "Desenvolva uma função que ao receber uma lista de dados quaisquer converta para a escala segundo o _MinMaxScaler_ (2 pontos)"
      ]
    },
    {
      "cell_type": "code",
      "execution_count": null,
      "metadata": {
        "id": "aOZep7sQ8yih"
      },
      "outputs": [],
      "source": []
    },
    {
      "cell_type": "markdown",
      "metadata": {
        "id": "2TdEq3bj8yih"
      },
      "source": [
        "__3)__ A regressão linear simples é uma ferramenta estatística onde dados um conjunto de dados x e y, o objetivo é encontrar a melhor equação de reta que descreve aquele conjunto de dados. Para aproximar  essa reta aos dados, pode-se seguir a equação abaixo para aproximar os coeficientes $\\beta_0$ e $\\beta_1$:\n",
        "\n",
        "<br>\n",
        "\n",
        "$$\n",
        "\\large\n",
        "\\begin{cases}\n",
        "\\hat{\\beta}_1=\\frac{\\sum_{i=1}^n (x_i- \\bar{x})(y_i - \\bar{y})}{\\sum_{i=1}^n (x_i - \\bar{x})^2} = \\frac{\\sigma_{xy}}{\\sigma_{xx}} = \\frac{covar(x, y)}{var(x)}\\\\\n",
        "\\hat{\\beta}_0= \\bar{y}-\\hat{\\beta_1}\\bar{x}\n",
        "\\end{cases}\n",
        "$$\n",
        "\n",
        "<br>\n",
        "\n",
        "Onde:\n",
        "- **Covariância** ou variância conjunta, que indica o grau de interdependência entre duas variáveis;\n",
        "- **Variância** é uam medida de o quão disperso está os dados, ou seja o quão distante está cada valor desse conjunto do valor médio;\n",
        "\n",
        "Desenvolva uma função `linear_regression` que recebe duas listas x e y e devolva os valores dos coeficientes $\\beta_0$ e $\\beta_1$ (2 pontos)"
      ]
    },
    {
      "cell_type": "code",
      "execution_count": null,
      "metadata": {
        "id": "tfzVbWon8yih"
      },
      "outputs": [],
      "source": []
    },
    {
      "cell_type": "markdown",
      "metadata": {
        "id": "g7BY7TP48yii"
      },
      "source": [
        "Quando fala-se sobre métricas de posição, existem outras métricas além da média que ganham destaque, como por exemplo a __mediana__ e a __moda__\n",
        "\n",
        "__4.1)__ A **mediana** de uma variável é um número tal que há o mesmo número de observações maiores e menores do que ele, ocupando assim a **posição central** da série de observações.\n",
        "\n",
        "Assim, para calcularmos a mediana, basta **ordenarmos os dados, do menor pro maior**, e contar o que está no meio dos dados ordenados (se houver número par de dados, pega-se a média entre os dados que estão \"no meio\")\n",
        "\n",
        "- *Exemplo*\n",
        "\n",
        "i) 3,4,**7**,8,8 **mediana = 7**       (CASO ÍMPAR)\n",
        "\n",
        "ii) 3,4,**7**,**8**,8,9 **mediana = (7+8)/2 = 7,5**   (CASO PAR)\n",
        "\n",
        "<br>\n",
        "\n",
        "Logo, podemos definir: \n",
        "\n",
        "- Mediana de $X = X_{\\frac{n+1}{2}}$ `Se tamanho da amostra ímpar`\n",
        "\n",
        "\n",
        "- Mediana de $X = \\frac{X_{\\frac{n}{2}}+ X_{\\frac{n+1}{2}}}{2}$ `Se tamanho da amostra par`\n",
        "\n",
        "Desenvolva uma função que receba uma lista de tamanho qualquer e devolva o valor da mediana (1 ponto)"
      ]
    },
    {
      "cell_type": "code",
      "execution_count": null,
      "metadata": {
        "id": "D-SZySji8yii"
      },
      "outputs": [],
      "source": []
    },
    {
      "cell_type": "markdown",
      "metadata": {
        "id": "Nu3KYePK8yii"
      },
      "source": [
        "__4.2)__ A **moda** é o valor que ocorre com **maior frequencia** em um conjunto de dados. Dependendo do conjunto de dados, ele pode ser:\n",
        "\n",
        "- Sem moda: quando nenhum valor se repete \n",
        "\n",
        "- unimodal: Quando existe apenas um valor repetido com maior frequência \n",
        "\n",
        "- multimodal: quando existem mais de um valor com a mesma frequência máxima\n",
        "\n",
        "Desenvolva uma função que receba uma lista de tamanho qualquer e devolva o valor da mediana, caso haja uma (1 ponto)"
      ]
    },
    {
      "cell_type": "code",
      "execution_count": null,
      "metadata": {
        "id": "3uXPdEXS8yij"
      },
      "outputs": [],
      "source": []
    },
    {
      "cell_type": "markdown",
      "metadata": {
        "id": "npHgt37c8yij"
      },
      "source": [
        "__5)__ Vamos repetir o exercício da distância euclidiana mas agora para o caso de um vetor n dimensional. Ou seja, dados os pontos A e B, temos que:\n",
        "\n",
        "<br>\n",
        "\n",
        "$$ d = \\sqrt{(x_{1,A} - x_{1,B})^2 + (x_{2,A} - x_{2,B})^2 + (x_{3,A} - x_{3,B})^2 + ... + (x_{n,A} - x_{n,B})^2}$$\n",
        "\n",
        "<br>\n",
        "\n",
        "Então dada a equação da distância euclidiana n-dimensional, desenvolva uma função que receba dois vetores distintos A e B com a mesma quantidade de elementos e calcule a distância euclidiana entre eles (2 pontos)"
      ]
    },
    {
      "cell_type": "code",
      "execution_count": null,
      "metadata": {
        "id": "_Dlkhm6v8yij"
      },
      "outputs": [],
      "source": []
    }
  ],
  "metadata": {
    "colab": {
      "collapsed_sections": [
        "lJZFySIgtmBr",
        "hNe7Z9KMtuFG",
        "k-apXhuvuHtX",
        "dDIr4hJ8uOi0",
        "7HI0YooWu6xm",
        "0K_xNqefu87X",
        "QNPNw5nwvrmh",
        "msYqsmkgwXg0"
      ],
      "provenance": []
    },
    "kernelspec": {
      "display_name": "Python 3 (ipykernel)",
      "language": "python",
      "name": "python3"
    },
    "language_info": {
      "codemirror_mode": {
        "name": "ipython",
        "version": 3
      },
      "file_extension": ".py",
      "mimetype": "text/x-python",
      "name": "python",
      "nbconvert_exporter": "python",
      "pygments_lexer": "ipython3",
      "version": "3.9.12"
    }
  },
  "nbformat": 4,
  "nbformat_minor": 0
}