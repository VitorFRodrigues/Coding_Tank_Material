{
 "cells": [
  {
   "cell_type": "markdown",
   "metadata": {},
   "source": [
    "## Aula 05 - Listas\n",
    "\n",
    "Nesta aula, serão discutidos os seguintes tópicos:\n",
    "- Listas;\n",
    "- Slicing;\n",
    "- Loop em listas;\n",
    "- Operador in;\n",
    "- Funções para Listas;\n",
    "- Funções;"
   ]
  },
  {
   "cell_type": "markdown",
   "metadata": {
    "id": "T8jBDHjIsiwu"
   },
   "source": [
    "## 1. Listas\n",
    "\n",
    "Note que ao longo das aulas anteriores, sempre que precisavamos de dados, era solicitado ao usuário esses tipos de informações. Por exemplo, mas criar um programa para calcular a média de prova de um aluno:"
   ]
  },
  {
   "cell_type": "code",
   "execution_count": null,
   "metadata": {},
   "outputs": [],
   "source": []
  },
  {
   "cell_type": "markdown",
   "metadata": {
    "id": "JvUwQy5usm6F"
   },
   "source": [
    "Sempre pareceu muito simples certo? Agora imagine para um professor que da aula em 3 turnos numa escola e precisa calcular rapidamente a média de 80 alunos. Começa a ser inviável a utilização de `inputs` para este serviço.\n",
    "\n",
    "Neste ponto, que será introduzido as __listas__.\n",
    "\n",
    "A lista é uma coleção de objetos do _Python_, trazendo de maneira bem simplificada, ~soa variáveis que comportam diversos valores ao mesmo tempo.\n",
    "\n",
    "Abaixo temos algumas formas de criar listas em _Python_:"
   ]
  },
  {
   "cell_type": "code",
   "execution_count": null,
   "metadata": {},
   "outputs": [],
   "source": []
  },
  {
   "cell_type": "code",
   "execution_count": null,
   "metadata": {},
   "outputs": [],
   "source": []
  },
  {
   "cell_type": "code",
   "execution_count": null,
   "metadata": {},
   "outputs": [],
   "source": []
  },
  {
   "cell_type": "markdown",
   "metadata": {},
   "source": [
    "Note que as listas, suportam diferentes tipos de objetos ao mesmo tempo, como no exemplo acima temos que a lista contenha 2 __inteiros__, 1 __float__ e 2 __strings__."
   ]
  },
  {
   "cell_type": "markdown",
   "metadata": {
    "id": "VQEek59Ds5YY"
   },
   "source": [
    "Uma característica bem importante das listas é sua __indexação__, onde pode-se acessar cada elemento individualmente devido a posição deste elemento estar associada a um __índice__, lembrando que em _Python_, índices começam sempre na posição zero. Vamos retomar ao exemplo anterior na tabela abaixo:\n",
    "\n",
    "<br>\n",
    "\n",
    "|  Lista | 1 | 'Sandro' | 8.5 | 70 | 'Data Science' |\n",
    "|:------:|:-:|:--------:|:---:|:--:|:--------------:|\n",
    "| Índice | 0 |     1    |  2  |  3 |        4       |\n",
    "\n",
    "<br>\n",
    "\n",
    "Portanto, para acessar cada um dos elementos basta utilizar os índices associados:"
   ]
  },
  {
   "cell_type": "code",
   "execution_count": null,
   "metadata": {},
   "outputs": [],
   "source": []
  },
  {
   "cell_type": "markdown",
   "metadata": {
    "id": "r77HmAA1tOwb"
   },
   "source": [
    "Ainda sobre os índices, não precisamos saber os índices de todos os elementos quando queremos apenas trazer os últimos da lista (imagine que isso seja inviável quando temos uma lista muito grande). Mas pode-se acessar esses elementos utilizando o sinal negativo:"
   ]
  },
  {
   "cell_type": "code",
   "execution_count": null,
   "metadata": {},
   "outputs": [],
   "source": []
  },
  {
   "cell_type": "markdown",
   "metadata": {},
   "source": [
    " Uma última característica da estrutura da lista é que seus elementos são __mutável__, então pode-se alterar determinado valor de uma lista já criada:"
   ]
  },
  {
   "cell_type": "code",
   "execution_count": null,
   "metadata": {},
   "outputs": [],
   "source": []
  },
  {
   "cell_type": "markdown",
   "metadata": {},
   "source": [
    "## "
   ]
  },
  {
   "cell_type": "markdown",
   "metadata": {
    "id": "AVnLooiztS31"
   },
   "source": [
    "## 2. Slicing\n",
    "\n",
    "O __Slicing__ (em português fatiamento) é uma operação bem comum quando se trabalha com listas , onde a partir de uma lista original pode-se pegar subconjuntos ,ou fatias destes dados. Veja o exemplo abaixo:"
   ]
  },
  {
   "cell_type": "code",
   "execution_count": null,
   "metadata": {},
   "outputs": [],
   "source": []
  },
  {
   "cell_type": "code",
   "execution_count": null,
   "metadata": {},
   "outputs": [],
   "source": []
  },
  {
   "cell_type": "markdown",
   "metadata": {},
   "source": [
    "Fizemos uma repartição onde retirou os elementos do índice 3 ao 6 (sendo o 6 excludente, sempre bom ressaltar isto!). Uma outra forma de repartir, onde queremos todos os elementos até determinado ponto, é utilizado os `:`"
   ]
  },
  {
   "cell_type": "code",
   "execution_count": null,
   "metadata": {},
   "outputs": [],
   "source": []
  },
  {
   "cell_type": "code",
   "execution_count": null,
   "metadata": {},
   "outputs": [],
   "source": []
  },
  {
   "cell_type": "markdown",
   "metadata": {
    "id": "u7cpe5ckta9O"
   },
   "source": [
    "Além dos índices inicial e final, pode-se também passar um passo para os índices. Veja o exemplo a seguir:"
   ]
  },
  {
   "cell_type": "code",
   "execution_count": null,
   "metadata": {},
   "outputs": [],
   "source": []
  },
  {
   "cell_type": "code",
   "execution_count": null,
   "metadata": {},
   "outputs": [],
   "source": []
  },
  {
   "cell_type": "markdown",
   "metadata": {},
   "source": [
    "## "
   ]
  },
  {
   "cell_type": "markdown",
   "metadata": {
    "id": "lJZFySIgtmBr"
   },
   "source": [
    "## 3. Looping em Listas\n",
    "\n",
    "\n",
    "\n",
    "Vimos como acessar cada elemento de uma lista individualmente, mas não precisamos fazer desta forma já que sabemos como utilizar loopings como por exemplo o _for_.\n",
    "\n",
    "O maior desafio aqui será entender por quanto tempo o looping irá precisar percorrer a lista. Para isso, utiliza-se a função `len()`:"
   ]
  },
  {
   "cell_type": "code",
   "execution_count": null,
   "metadata": {},
   "outputs": [],
   "source": []
  },
  {
   "cell_type": "code",
   "execution_count": null,
   "metadata": {},
   "outputs": [],
   "source": []
  },
  {
   "cell_type": "markdown",
   "metadata": {},
   "source": [
    "Ou seja, a função `len()` retorna a quantidade de elementos dentro de uma lista. Pode-se combinar isto com a função `range` e assim percorrer todos os elementos na nossa lista:"
   ]
  },
  {
   "cell_type": "code",
   "execution_count": null,
   "metadata": {},
   "outputs": [],
   "source": []
  },
  {
   "cell_type": "markdown",
   "metadata": {},
   "source": [
    "Pórem, existe uma forma ainda mais fácil de percorrer os elementos de uma lista, sem se preocupar o índice de fato. O _for_ não serve apenas para percorrer sequências mas também percorrer elementos de coleções. Dessa forma, pode-se trocar o `range` pela própria lista:"
   ]
  },
  {
   "cell_type": "code",
   "execution_count": null,
   "metadata": {},
   "outputs": [],
   "source": []
  },
  {
   "cell_type": "markdown",
   "metadata": {},
   "source": [
    "> O for serve, primariamente, para percorrer coleções. Ou seja, para iterar coleções. O range age, na prática, como se fosse uma lista contendo os valores determinados por seu parâmetro. Dizemos que a função range gera um iterável, ou seja, um tipo especial de dado que pode ser percorrido através de um loop."
   ]
  },
  {
   "cell_type": "markdown",
   "metadata": {},
   "source": [
    "## "
   ]
  },
  {
   "cell_type": "markdown",
   "metadata": {
    "id": "hNe7Z9KMtuFG"
   },
   "source": [
    "## 4. Operador in\n",
    "\n",
    "O operador __in__ costuma aparecer no _for_ para indicar a lista ou sequência a ser percorrida, mas ele também possui uma funcionalidade de verificar de determinado elemento pertence ou não a uma lista. Observe a saída do código abaixo."
   ]
  },
  {
   "cell_type": "code",
   "execution_count": null,
   "metadata": {},
   "outputs": [],
   "source": []
  },
  {
   "cell_type": "markdown",
   "metadata": {
    "id": "LEP6lJCYt2ce"
   },
   "source": [
    "Normalmente utilizamos esse comando junto de um if quando precisamos checar se um elemento existe:\n",
    "\n"
   ]
  },
  {
   "cell_type": "code",
   "execution_count": null,
   "metadata": {},
   "outputs": [],
   "source": []
  },
  {
   "cell_type": "markdown",
   "metadata": {},
   "source": [
    "## "
   ]
  },
  {
   "cell_type": "markdown",
   "metadata": {
    "id": "dx6tuwNvt5UY"
   },
   "source": [
    "## 4. Funções para Listas\n",
    "\n",
    "\n",
    "As listas possuem diversas funções próprias batante úteis e que facilitam a vida no dia a dia de desenvolvimento com _Python_. A seguir iremos comentar sobre algumas das principais funções:\n",
    "\n",
    "<br>\n",
    "\n",
    "### append e insert - Adicionando elementos\n",
    "\n",
    "Podemos adicionar novos elementos na lista de duas maneiras. A primeira delas, mais simples, é o append. Ele adiciona um elemento ao final da lista. Veja o exemplo abaixo:"
   ]
  },
  {
   "cell_type": "code",
   "execution_count": null,
   "metadata": {},
   "outputs": [],
   "source": []
  },
  {
   "cell_type": "markdown",
   "metadata": {
    "id": "SibHjanftfXf"
   },
   "source": [
    "__Observação:__ deve-se tomar bastante cuidado ao utilizar listas como por exemplo, ao atribuir uma lista a uma variável:"
   ]
  },
  {
   "cell_type": "code",
   "execution_count": null,
   "metadata": {},
   "outputs": [],
   "source": []
  },
  {
   "cell_type": "code",
   "execution_count": null,
   "metadata": {},
   "outputs": [],
   "source": []
  },
  {
   "cell_type": "markdown",
   "metadata": {},
   "source": [
    "Quando atribui-se uma lista a outra variável, a lista __não é copiada__. Dessa forma, qualquer modificação na variável impacta também na lista original:"
   ]
  },
  {
   "cell_type": "code",
   "execution_count": null,
   "metadata": {},
   "outputs": [],
   "source": []
  },
  {
   "cell_type": "markdown",
   "metadata": {
    "id": "782xhjCkthm0"
   },
   "source": [
    "Modificações aplicadas em `lista2` também afetarão a `lista1`. \n",
    "\n",
    "Isso ocorre porque não foi criada uma nova lista. O _Python_ apenas fez com que ambas as variáveis (`lista1` e `lista2`) referenciassem a mesma estrutura na memória. Quando utilizamos _slices_, isso não ocorre. O _Python_ cria uma lista contendo os valores restritos pelos índices. Sendo assim, uma estratégia fácil para copiar uma lista para outra é utilizar um slice indo da primeira à última posição:"
   ]
  },
  {
   "cell_type": "code",
   "execution_count": null,
   "metadata": {},
   "outputs": [],
   "source": []
  },
  {
   "cell_type": "markdown",
   "metadata": {
    "id": "i0ePpzqRuBTm"
   },
   "source": [
    "Outra maneira de adicionar elemento é com a função __insert__: além do elemento, ele recebe a posição do novo elemento, onde o primeiro parâmetro é a posição, e a segundo é o valor:"
   ]
  },
  {
   "cell_type": "code",
   "execution_count": null,
   "metadata": {},
   "outputs": [],
   "source": []
  },
  {
   "cell_type": "markdown",
   "metadata": {},
   "source": [
    "Note que o valor que ocupava a posição anteriormente não é substituído, mas \"empurrado\" para a próxima posição.\n",
    "\n"
   ]
  },
  {
   "cell_type": "markdown",
   "metadata": {},
   "source": [
    "## "
   ]
  },
  {
   "cell_type": "markdown",
   "metadata": {
    "id": "k-apXhuvuHtX"
   },
   "source": [
    "### remove e pop - Removendo elementos\n",
    "\n",
    "\n",
    "Pode-se  remover um determinado elemento de 2 jeitos: pelo valor utilizando o __remove__ ou pela posição com o __pop__. \n",
    "\n",
    "O __remove__ irá remover o primeiro elemento encontrado na lista com um dado valor. Ex:"
   ]
  },
  {
   "cell_type": "code",
   "execution_count": null,
   "metadata": {},
   "outputs": [],
   "source": []
  },
  {
   "cell_type": "markdown",
   "metadata": {
    "id": "Yi1XhB3BuLhL"
   },
   "source": [
    "Já a função __pop__ remove o elemento que estiver em uma dada posição, independentemente de seu valor:"
   ]
  },
  {
   "cell_type": "code",
   "execution_count": null,
   "metadata": {},
   "outputs": [],
   "source": []
  },
  {
   "cell_type": "markdown",
   "metadata": {},
   "source": [
    "Se nenhum valor for passado no pop, ele irá remover necessariamente o último elemento da lista.\n",
    "\n"
   ]
  },
  {
   "cell_type": "markdown",
   "metadata": {},
   "source": [
    "## "
   ]
  },
  {
   "cell_type": "markdown",
   "metadata": {
    "id": "dDIr4hJ8uOi0"
   },
   "source": [
    "### sort -  Ordenando listas\n",
    "\n",
    "\n",
    "Podemos ordenar uma lista facilmente utilizando a função __sort__ para listas:"
   ]
  },
  {
   "cell_type": "code",
   "execution_count": null,
   "metadata": {},
   "outputs": [],
   "source": []
  },
  {
   "cell_type": "markdown",
   "metadata": {
    "id": "u2wglRuluSaE"
   },
   "source": [
    "Para ordenar a lista de maior para o menor, ou seja, de forma decrescente para passar o parâmetro `reverse = True`:"
   ]
  },
  {
   "cell_type": "code",
   "execution_count": null,
   "metadata": {},
   "outputs": [],
   "source": []
  },
  {
   "cell_type": "markdown",
   "metadata": {},
   "source": [
    "> Importante: o sort só irá funcionar caso sua lista possua apenas elementos que podem ser comparados entre si (apenas strings ou apenas números, por exemplo). Se uma lista contém tanto strings quanto números, o sort não saberá o que vem primeiro."
   ]
  },
  {
   "cell_type": "markdown",
   "metadata": {
    "id": "8z5oBjgwuulZ"
   },
   "source": [
    "Um problema do __sort__ é que ele irá reordenar a própria lista. Muitas vezes precisamos preservar a lista original, e obter uma nova com a ordenação desejada. Neste caso, podemos utilizar o __sorted__:"
   ]
  },
  {
   "cell_type": "code",
   "execution_count": null,
   "metadata": {},
   "outputs": [],
   "source": []
  },
  {
   "cell_type": "markdown",
   "metadata": {
    "id": "GeBtWtxvuyJi"
   },
   "source": [
    "O sorted também aceita o parâmetro reverse para aplicar ordem decrescente.\n",
    "\n",
    "Aliás a respeito de ordenar decrescentemente, é possível simplesmente inverter a ordem dos elementos de uma lista utilizando a função __reverse__:"
   ]
  },
  {
   "cell_type": "code",
   "execution_count": null,
   "metadata": {},
   "outputs": [],
   "source": []
  },
  {
   "cell_type": "markdown",
   "metadata": {},
   "source": [
    "## "
   ]
  },
  {
   "cell_type": "markdown",
   "metadata": {
    "id": "7HI0YooWu6xm"
   },
   "source": [
    "### index - Buscar um elemento\n",
    "\n",
    "\n",
    "Pode-se buscar um determinado elemento (descobrir sua posição) utilizando a função __index__. Ela irá informar a primeira posição onde um elemento for encontrado:"
   ]
  },
  {
   "cell_type": "code",
   "execution_count": null,
   "metadata": {},
   "outputs": [],
   "source": []
  },
  {
   "cell_type": "markdown",
   "metadata": {},
   "source": [
    "> Atenção: caso o elemento buscado não exista, a função index dará erro. Considere utilizar o in para verificar se o elemento existe na lista antes de usar o index."
   ]
  },
  {
   "cell_type": "markdown",
   "metadata": {},
   "source": [
    "## "
   ]
  },
  {
   "cell_type": "markdown",
   "metadata": {
    "id": "0K_xNqefu87X"
   },
   "source": [
    "### Propriedades das Listas\n",
    "\n",
    "Assim como já vimo a função __len__ que retorna o tamanho da lista verificada, existem outras funções que por exemplo devolvem o maior valor (__max__) ou o menor (__min__)."
   ]
  },
  {
   "cell_type": "code",
   "execution_count": null,
   "metadata": {},
   "outputs": [],
   "source": []
  },
  {
   "cell_type": "markdown",
   "metadata": {},
   "source": [
    "## "
   ]
  },
  {
   "cell_type": "markdown",
   "metadata": {
    "id": "QNPNw5nwvrmh"
   },
   "source": [
    "### Enumerate\n",
    "\n",
    "\n",
    "Considere um problema qualquer onde o índice importa. Por exemplo, suponha que você possua uma lista de números e gostaria de criar uma regra em relação aos índices. Se o índice for par, eu multiplico o número por 2 e se for ímpar eu soma em uma unidade, para fins de `print`.\n",
    "\n",
    "A lógica desse problema poderia ser resolvida usando índice: "
   ]
  },
  {
   "cell_type": "code",
   "execution_count": null,
   "metadata": {},
   "outputs": [],
   "source": []
  },
  {
   "cell_type": "markdown",
   "metadata": {
    "id": "CEj5TlMHv137"
   },
   "source": [
    "Existe uma ferramenta em Python que pode nos ajudar a escrever de maneira mais *pythonica*, sem precisar acessar lista por índice: o **enumerate**. Vamos entender o que ele faz primeiro, e em seguida veremos como deixar o código mais limpo:"
   ]
  },
  {
   "cell_type": "code",
   "execution_count": null,
   "metadata": {},
   "outputs": [],
   "source": []
  },
  {
   "cell_type": "markdown",
   "metadata": {
    "id": "jhz99yxRv6W2"
   },
   "source": [
    "O **enumerate** montou uma estrutura onde cada elemento é uma tupla (uma espécie de lista imutável), sendo o primeiro elemento da tupla um índice da lista, e o segundo o valor associado àquele índice. Ao tratar a tupla como se fosse mais de uma variável, temos o que chamamos de **desempacotamento de tupla**: cada valor da tupla é atribuido para uma variável. \n",
    "\n"
   ]
  },
  {
   "cell_type": "code",
   "execution_count": null,
   "metadata": {},
   "outputs": [],
   "source": []
  },
  {
   "cell_type": "markdown",
   "metadata": {
    "id": "ojNgCKpzwMcH"
   },
   "source": [
    "\n",
    "Aplicando o desempacotamento de tupla no *for*, podemos ter, simultaneamente, índice e valor em variáveis separadas, na prática percorrendo a lista tanto por índice quanto por valor. Refazendo o exemplo das maiúsculas/minúsculas:"
   ]
  },
  {
   "cell_type": "code",
   "execution_count": null,
   "metadata": {},
   "outputs": [],
   "source": []
  },
  {
   "cell_type": "markdown",
   "metadata": {},
   "source": [
    "## "
   ]
  },
  {
   "cell_type": "markdown",
   "metadata": {
    "id": "msYqsmkgwXg0"
   },
   "source": [
    "### Zip\n",
    "\n",
    "\n",
    "Vamos pensar em um problema onde precisamos percorrer duas listas simultaneamente. Por exemplo, considere que temos uma lista com os nomes de todos os alunos de uma turma, e outra com as notas, na mesma ordem. Como faríamos para acessar, simultaneamente, o nome de um aluno e a sua nota?\n",
    "\n",
    "Esse é um problema onde, a princípio, utilizaríamos índice. Se usarmos o mesmo índice nas duas listas, estamos na prática percorrendo ambas as listas simultaneamente:"
   ]
  },
  {
   "cell_type": "code",
   "execution_count": null,
   "metadata": {},
   "outputs": [],
   "source": []
  },
  {
   "cell_type": "markdown",
   "metadata": {
    "id": "vq2l3_rQwcT6"
   },
   "source": [
    "Vamos ver agora o **zip** em ação para compreender como ele funciona:\n"
   ]
  },
  {
   "cell_type": "code",
   "execution_count": null,
   "metadata": {},
   "outputs": [],
   "source": []
  },
  {
   "cell_type": "markdown",
   "metadata": {
    "id": "X-ma2qSFwgA5"
   },
   "source": [
    "Assim como no **enumerate**, o **zip** montou tuplas. Cada tupla representa 1 posição das listas originais, e cada posição dentro da tupla representa o dado de uma das listas. Ou seja, cada elemento do **zip** contém 1 elemento de cada lista original, na ordem que eles apareceram nas listas originais. Logo, ele permite percorrer 2 listas simultaneamente.\n",
    "\n",
    "Novamente podemos aplicar desempacotamento de tuplas em nosso loop acessar os dados de cada lista individualmente de maneira legível:"
   ]
  },
  {
   "cell_type": "code",
   "execution_count": null,
   "metadata": {},
   "outputs": [],
   "source": []
  },
  {
   "cell_type": "markdown",
   "metadata": {},
   "source": [
    "## "
   ]
  },
  {
   "cell_type": "markdown",
   "metadata": {},
   "source": [
    "## 5. Funções"
   ]
  },
  {
   "cell_type": "markdown",
   "metadata": {},
   "source": [
    "__Funções__ em _Python_ é uma aplicação que auxilia na repetitividade de trechos de código. Então, vamos imaginar aquele primeiro exemplo onde pedia as notas das 3 provas de um aluno e depois devolvia o valor da média. Vamos refazer pela última vez este exercício aqui:"
   ]
  },
  {
   "cell_type": "code",
   "execution_count": null,
   "metadata": {},
   "outputs": [],
   "source": []
  },
  {
   "cell_type": "markdown",
   "metadata": {},
   "source": [
    "A função é um \"pedaço de código\" a parte do que estamos desenvolvendo que podemos chamar toda a vez que quiser repetir ou executar determinada função. Então vamos monta uma função nomeada como `calcula_media`:"
   ]
  },
  {
   "cell_type": "code",
   "execution_count": null,
   "metadata": {},
   "outputs": [],
   "source": []
  },
  {
   "cell_type": "markdown",
   "metadata": {},
   "source": [
    "Agora, vamos acionar a nossa função:"
   ]
  },
  {
   "cell_type": "code",
   "execution_count": null,
   "metadata": {},
   "outputs": [],
   "source": []
  },
  {
   "cell_type": "markdown",
   "metadata": {},
   "source": [
    "Dessa forma, agora pode-se utilizar a função quantas vezes a gente quiser. Note, o que foi definido dentro da função é privado a ela, ou seja, não é possível acessar elementos criados dentro dela. Siga o exemplo abaixo:"
   ]
  },
  {
   "cell_type": "code",
   "execution_count": null,
   "metadata": {},
   "outputs": [],
   "source": []
  },
  {
   "cell_type": "markdown",
   "metadata": {},
   "source": [
    "Mas para que isso seja válido, é necessário definir um __retorno da função__ que foi criada. Vamos retomar o exemplo agora:"
   ]
  },
  {
   "cell_type": "code",
   "execution_count": null,
   "metadata": {},
   "outputs": [],
   "source": []
  },
  {
   "cell_type": "markdown",
   "metadata": {},
   "source": [
    "Podemos até refazer o exercícios das médias onde iremos receber uma __lista de notas__ e iremos devolver para o aluno o valor da média:"
   ]
  },
  {
   "cell_type": "code",
   "execution_count": null,
   "metadata": {},
   "outputs": [],
   "source": []
  },
  {
   "cell_type": "code",
   "execution_count": null,
   "metadata": {},
   "outputs": [],
   "source": []
  },
  {
   "cell_type": "code",
   "execution_count": null,
   "metadata": {},
   "outputs": [],
   "source": []
  },
  {
   "cell_type": "markdown",
   "metadata": {},
   "source": [
    "## "
   ]
  },
  {
   "cell_type": "markdown",
   "metadata": {},
   "source": [
    "### Recursividade\n",
    "\n",
    "__Recursividade__ é quando uma função do _Python_ chama outra função dentro do desenvolvimento dela:"
   ]
  },
  {
   "cell_type": "code",
   "execution_count": null,
   "metadata": {},
   "outputs": [],
   "source": []
  },
  {
   "cell_type": "code",
   "execution_count": null,
   "metadata": {},
   "outputs": [],
   "source": []
  },
  {
   "cell_type": "markdown",
   "metadata": {},
   "source": [
    "Mas e se uma função referenciasse ela mesma? Isso também funciona, e chama-se **função recursiva**, ou **recursão**. \n",
    "\n",
    "A ideia vem da matemática. Vejamos um exemplo. Considere a função fatorial. O fatorial de um número n qualquer é igual ao produto entre n e todos os seus antecessores inteiros positivos: n! = n x (n-1) x (n-2) x ... x 2 x 1. \n",
    "\n",
    "Considere o fatorial de 5:\n",
    "5! = 5x**4x3x2x1**\n",
    "\n",
    "Pense agora no fatorial de 4:\n",
    "4! = 4x3x2x1\n",
    "\n",
    "Note que temos destacado em negrito a expressão completa do fatorial de 4 dentro do fatorial de 5. Então é possível reescrecer o fatorial de 5 em função do fatorial de 4:\n",
    "\n",
    "5! = 5x(4!)\n",
    "\n",
    "Porém, dentro do fatorial de 4, temos o fatorial de 3, e assim sucessivamente. Podemos generalizar da seguinte maneira:\n",
    "\n",
    "f(n) = \n",
    "* 1, se n = 1\n",
    "* n * f(n-1), se x > 1\n",
    "\n",
    "Ou seja, imagine que você queira calcular f(4). Como 4 > 1, teremos:\n",
    "f(4) = 4 * f(3)\n",
    "\n",
    "Precisamos expandir f(3):\n",
    "f(4) = 4 * (3 * f(2))\n",
    "\n",
    "E assim sucessivamente:\n",
    "f(4) = 4 * (3 * (2 * f(1)))\n",
    "\n",
    "Opa, f(1) nós conhecemos: está definido lá em cima como 1.\n",
    "Portanto:\n",
    "f(4) = 4 * 3 * 2 * 1\n",
    "f(4) = 24\n",
    "\n",
    "Note que nós decompomos um problema em várias instâncias \"menores\" do problema. Quebramos a formulação de uma multiplicação enorme por vários casos de n x f(n-1). Chamamos essa estratégia de _dividir para conquistar_, e ela envolve identificar 2 etapas bastante claras do problema:\n",
    "* Caso base: é um caso para o qual temos um valor conhecido (no exemplo acima, f(1) = 1)\n",
    "* Caso geral: é a chamada recursiva, onde faremos referência à própria função. \n",
    "\n",
    "Note também que esse comportamento tem o comportamento de _pilha_: se colocamos 3 pratos empilhados sobre a mesa, precisamos tirar primeiro o último que colocamos, certo? Caso contrário, a pilha toda tomba. No caso da recursão, para obter f(4) caímos em f(3), depois f(2), depois f(1), depois f(0) e foi para ele que obtivemos a primeira resposta, que em seguida usamos para calcular f(1), depois calcular f(2), depois f(3) e só então chegamos em f(4). O primeiro passo do problema foi o último a ser resolvido.\n",
    "\n",
    "Em Python, nossa função ficaria assim:"
   ]
  },
  {
   "cell_type": "code",
   "execution_count": null,
   "metadata": {},
   "outputs": [],
   "source": []
  },
  {
   "cell_type": "code",
   "execution_count": null,
   "metadata": {},
   "outputs": [],
   "source": []
  },
  {
   "cell_type": "markdown",
   "metadata": {},
   "source": [
    "## "
   ]
  },
  {
   "cell_type": "markdown",
   "metadata": {
    "id": "6t7MOGVlwvSG"
   },
   "source": [
    "## Exercícios"
   ]
  },
  {
   "cell_type": "markdown",
   "metadata": {},
   "source": [
    "__1)__ Normalização de Dados, também conhecido na estatística como Z-Score, é quando temos uma distribuição de dados quaisquer em determinada escala e gostariamos de converter-los para uma distribuição com o comportamento de uma distrbuição Normal (também conhecida como Gaussiana).\n",
    "\n",
    "Para fazer a normalização dos dados devemos converte-los de acordo com a seguinte fórmula:\n",
    "\n",
    "$$ Z = \\frac{x - \\mu}{\\sigma} $$\n",
    "\n",
    "Onde $x$ é um dado da nossa distribuição, $\\mu$ é a média desta distribuição e $\\sigma$ é o desvio padrão da distribuição.\n",
    "\n",
    "Vamos dividir o exercício nos seguintes itens:"
   ]
  },
  {
   "cell_type": "markdown",
   "metadata": {},
   "source": [
    "__1.1)__ Desenvolva uma função para calcular a média e o desvio padrão para uma lista de tamanho qualquer (1 ponto)"
   ]
  },
  {
   "cell_type": "code",
   "execution_count": null,
   "metadata": {},
   "outputs": [],
   "source": []
  },
  {
   "cell_type": "markdown",
   "metadata": {},
   "source": [
    "__1.2)__ Desenvolva uma função que faça a normalização segundo a formula do Z e retorne a lista de dados normalizados. (1 ponto)"
   ]
  },
  {
   "cell_type": "code",
   "execution_count": null,
   "metadata": {},
   "outputs": [],
   "source": []
  },
  {
   "cell_type": "markdown",
   "metadata": {},
   "source": [
    "__2)__ O _MinMaxScaler_ é uma técnica de reescalonamento de um conjunto de dados parecida com a normalização ou no caso Z-score. A diferença é que ao invés de utilizar média e desvio padrão, utiliza-se os valores extremos (máximo e mínino), segundo a equação a seguir:\n",
    "\n",
    "$$ S = \\frac{x - min}{max - min} $$\n",
    "\n",
    "Onde X é um determinado elemento da lista, $min$ é o menor valor da lista e $max$ e o maior valor da lista.\n",
    "\n",
    "Desenvolva uma função que ao receber uma lista de dados quaisquer converta para a escala segundo o _MinMaxScaler_ (2 pontos)"
   ]
  },
  {
   "cell_type": "code",
   "execution_count": null,
   "metadata": {},
   "outputs": [],
   "source": []
  },
  {
   "cell_type": "markdown",
   "metadata": {},
   "source": [
    "__3)__ A regressão linear simples é uma ferramenta estatística onde dados um conjunto de dados x e y, o objetivo é encontrar a melhor equação de reta que descreve aquele conjunto de dados. Para aproximar  essa reta aos dados, pode-se seguir a equação abaixo para aproximar os coeficientes $\\beta_0$ e $\\beta_1$:\n",
    "\n",
    "<br>\n",
    "\n",
    "$$\n",
    "\\large\n",
    "\\begin{cases}\n",
    "\\hat{\\beta}_1=\\frac{\\sum_{i=1}^n (x_i- \\bar{x})(y_i - \\bar{y})}{\\sum_{i=1}^n (x_i - \\bar{x})^2} = \\frac{\\sigma_{xy}}{\\sigma_{xx}} = \\frac{covar(x, y)}{var(x)}\\\\\n",
    "\\hat{\\beta}_0= \\bar{y}-\\hat{\\beta_1}\\bar{x}\n",
    "\\end{cases}\n",
    "$$\n",
    "\n",
    "<br>\n",
    "\n",
    "Onde:\n",
    "- **Covariância** ou variância conjunta, que indica o grau de interdependência entre duas variáveis;\n",
    "- **Variância** é uam medida de o quão disperso está os dados, ou seja o quão distante está cada valor desse conjunto do valor médio;\n",
    "\n",
    "Desenvolva uma função `linear_regression` que recebe duas listas x e y e devolva os valores dos coeficientes $\\beta_0$ e $\\beta_1$ (2 pontos)"
   ]
  },
  {
   "cell_type": "code",
   "execution_count": null,
   "metadata": {},
   "outputs": [],
   "source": []
  },
  {
   "cell_type": "markdown",
   "metadata": {},
   "source": [
    "Quando fala-se sobre métricas de posição, existem outras métricas além da média que ganham destaque, como por exemplo a __mediana__ e a __moda__\n",
    "\n",
    "__4.1)__ A **mediana** de uma variável é um número tal que há o mesmo número de observações maiores e menores do que ele, ocupando assim a **posição central** da série de observações.\n",
    "\n",
    "Assim, para calcularmos a mediana, basta **ordenarmos os dados, do menor pro maior**, e contar o que está no meio dos dados ordenados (se houver número par de dados, pega-se a média entre os dados que estão \"no meio\")\n",
    "\n",
    "- *Exemplo*\n",
    "\n",
    "i) 3,4,**7**,8,8 **mediana = 7**       (CASO ÍMPAR)\n",
    "\n",
    "ii) 3,4,**7**,**8**,8,9 **mediana = (7+8)/2 = 7,5**   (CASO PAR)\n",
    "\n",
    "<br>\n",
    "\n",
    "Logo, podemos definir: \n",
    "\n",
    "- Mediana de $X = X_{\\frac{n+1}{2}}$ `Se tamanho da amostra ímpar`\n",
    "\n",
    "\n",
    "- Mediana de $X = \\frac{X_{\\frac{n}{2}}+ X_{\\frac{n+1}{2}}}{2}$ `Se tamanho da amostra par`\n",
    "\n",
    "Desenvolva uma função que receba uma lista de tamanho qualquer e devolva o valor da mediana (1 ponto)"
   ]
  },
  {
   "cell_type": "code",
   "execution_count": null,
   "metadata": {},
   "outputs": [],
   "source": []
  },
  {
   "cell_type": "markdown",
   "metadata": {},
   "source": [
    "__4.2)__ A **moda** é o valor que ocorre com **maior frequencia** em um conjunto de dados. Dependendo do conjunto de dados, ele pode ser:\n",
    "\n",
    "- Sem moda: quando nenhum valor se repete \n",
    "\n",
    "- unimodal: Quando existe apenas um valor repetido com maior frequência \n",
    "\n",
    "- multimodal: quando existem mais de um valor com a mesma frequência máxima\n",
    "\n",
    "Desenvolva uma função que receba uma lista de tamanho qualquer e devolva o valor da mediana, caso haja uma (1 ponto)"
   ]
  },
  {
   "cell_type": "code",
   "execution_count": null,
   "metadata": {},
   "outputs": [],
   "source": []
  },
  {
   "cell_type": "markdown",
   "metadata": {},
   "source": [
    "__5)__ Vamos repetir o exercício da distância euclidiana mas agora para o caso de um vetor n dimensional. Ou seja, dados os pontos A e B, temos que:\n",
    "\n",
    "<br>\n",
    "\n",
    "$$ d = \\sqrt{(x_{1,A} - x_{1,B})^2 + (x_{2,A} - x_{2,B})^2 + (x_{3,A} - x_{3,B})^2 + ... + (x_{n,A} - x_{n,B})^2}$$\n",
    "\n",
    "<br>\n",
    "\n",
    "Então dada a equação da distância euclidiana n-dimensional, desenvolva uma função que receba dois vetores distintos A e B com a mesma quantidade de elementos e calcule a distância euclidiana entre eles (2 pontos)"
   ]
  },
  {
   "cell_type": "code",
   "execution_count": null,
   "metadata": {},
   "outputs": [],
   "source": []
  }
 ],
 "metadata": {
  "colab": {
   "collapsed_sections": [
    "lJZFySIgtmBr",
    "hNe7Z9KMtuFG",
    "k-apXhuvuHtX",
    "dDIr4hJ8uOi0",
    "7HI0YooWu6xm",
    "0K_xNqefu87X",
    "QNPNw5nwvrmh",
    "msYqsmkgwXg0"
   ],
   "provenance": []
  },
  "kernelspec": {
   "display_name": "Python 3 (ipykernel)",
   "language": "python",
   "name": "python3"
  },
  "language_info": {
   "codemirror_mode": {
    "name": "ipython",
    "version": 3
   },
   "file_extension": ".py",
   "mimetype": "text/x-python",
   "name": "python",
   "nbconvert_exporter": "python",
   "pygments_lexer": "ipython3",
   "version": "3.9.12"
  }
 },
 "nbformat": 4,
 "nbformat_minor": 1
}
