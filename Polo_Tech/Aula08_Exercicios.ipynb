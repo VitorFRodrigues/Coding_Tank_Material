{
  "cells": [
    {
      "cell_type": "markdown",
      "id": "17ada4d0",
      "metadata": {
        "id": "17ada4d0"
      },
      "source": [
        "## Aula 08 - Exercícios de Revisão\n",
        "\n",
        "\n",
        "A aula será exclusivamente para realizar exercícios de revisão para a prova. Vocês terão 2h para desenvolver com calma os exercícios e na hora final da aula o professor irá resolvê-los em sala.\n",
        "\n",
        "<br>"
      ]
    },
    {
      "cell_type": "markdown",
      "id": "63078723",
      "metadata": {
        "id": "63078723"
      },
      "source": [
        "## __Progressão Aritmética__"
      ]
    },
    {
      "cell_type": "markdown",
      "id": "06dd3b6e",
      "metadata": {
        "id": "06dd3b6e"
      },
      "source": [
        "A progressão aritmética (PA) é uma sequência de números onde a diferença entre dois consecutivos é sempre a mesma. Um exemplo de uma PA pode ser dada com a sequência de números impares ou pares no exemplo (1, 3, 5, 7,..) e (2, 4, 6, ...) respectivamente.\n",
        "\n",
        "Uma PA segue a seguinte equação:\n",
        "\n",
        "$$ a_n = a_1 + (n - 1)r $$\n",
        "\n",
        "onde, $ a_n$ é o n-ésimo elemento da PA, $a_1$ é o primeiro elemento da sequência, n é a quantidade de elementos considerada e $r$ a razão ou ordem de grandeza que aumenta de um elemento ao outro.\n",
        "\n",
        "O Objetivo do exercício será desenvolver uma função nomeada `progressao_aritmetica` onde receberá como parâmetros $a_1$, $n$ e $r$ e a função deve printar o elemento $a_n$ e printar todos os elementos da PA em $a_1$ e $a_n$"
      ]
    },
    {
      "cell_type": "code",
      "execution_count": null,
      "id": "df960e95",
      "metadata": {
        "id": "df960e95"
      },
      "outputs": [],
      "source": [
        "# Exemplo\n",
        "# progressao_aritmetica(a1 = 5, n = 10, r = 5)\n",
        "\n",
        "# Resultado\n",
        "# an = 50\n",
        "# Sequencia = [5, 10, 15, 20, 25, 30, 35, 40, 45, 50]"
      ]
    },
    {
      "cell_type": "code",
      "execution_count": 1,
      "id": "7014e86d",
      "metadata": {
        "id": "7014e86d"
      },
      "outputs": [],
      "source": [
        "def progressao_aritmetica(a1, n, r):\n",
        "  seq = []\n",
        "  for i in range(1,n+1):\n",
        "    seq.append(a1+(i-1)*r)\n",
        "  print(f'an = {seq[-1]}\\nSequencia = {seq}')"
      ]
    },
    {
      "cell_type": "code",
      "execution_count": 2,
      "id": "7ee70e84",
      "metadata": {
        "colab": {
          "base_uri": "https://localhost:8080/"
        },
        "id": "7ee70e84",
        "outputId": "53f18186-794c-4206-c49e-ce0fea30cf66"
      },
      "outputs": [
        {
          "output_type": "stream",
          "name": "stdout",
          "text": [
            "an = 50\n",
            "Sequencia = [5, 10, 15, 20, 25, 30, 35, 40, 45, 50]\n"
          ]
        }
      ],
      "source": [
        "progressao_aritmetica(5, 10, 5)"
      ]
    },
    {
      "cell_type": "markdown",
      "id": "13b1ec40",
      "metadata": {
        "id": "13b1ec40"
      },
      "source": [
        "## "
      ]
    },
    {
      "cell_type": "markdown",
      "id": "f7410e45",
      "metadata": {
        "id": "f7410e45"
      },
      "source": [
        "## Média Geométrica"
      ]
    },
    {
      "cell_type": "markdown",
      "id": "60b2fa62",
      "metadata": {
        "id": "60b2fa62"
      },
      "source": [
        "A __média geométrica__ é dada pela média de um conjunto de dados quaisquer utilizando da seguinte fórmula:\n",
        "\n",
        "$$\\sqrt[n]{x_1 * x_2 * x_3 * ... *x_n}$$\n",
        "\n",
        "Note que para a média geométrica, será necessário pelo menos um conjunto de dados com 2 elementos até $n$ elementos que queira usar.\n",
        "\n",
        "O objetvo desse exercício será dividido em algumas partes:"
      ]
    },
    {
      "cell_type": "markdown",
      "id": "c41be8bc",
      "metadata": {
        "id": "c41be8bc"
      },
      "source": [
        "- Desenvolva uma função para calcular a __média aritmética__ e outra para __média geométrica__ dado como parâmetro uma lista de números inteiros:"
      ]
    },
    {
      "cell_type": "code",
      "execution_count": 4,
      "id": "9799c797",
      "metadata": {
        "id": "9799c797"
      },
      "outputs": [],
      "source": [
        "def med_arit(lista):\n",
        "  soma = 0\n",
        "  for i in lista:\n",
        "    soma += i\n",
        "  return soma/len(lista)"
      ]
    },
    {
      "cell_type": "code",
      "execution_count": 7,
      "id": "5056fc5f",
      "metadata": {
        "id": "5056fc5f"
      },
      "outputs": [],
      "source": [
        "def med_geo(lista):\n",
        "  produto = 1\n",
        "  for i in lista:\n",
        "    produto *= i\n",
        "  return produto ** (1/len(lista))"
      ]
    },
    {
      "cell_type": "code",
      "execution_count": 8,
      "id": "525f1fa4",
      "metadata": {
        "colab": {
          "base_uri": "https://localhost:8080/"
        },
        "id": "525f1fa4",
        "outputId": "5c85702c-7202-41da-eddc-8a5a2afc1937"
      },
      "outputs": [
        {
          "output_type": "stream",
          "name": "stdout",
          "text": [
            "Arit: 19.0\n",
            "Geo: 18.894443627691185\n"
          ]
        }
      ],
      "source": [
        "lista = [21, 17]\n",
        "arit = med_arit(lista)\n",
        "geo = med_geo(lista)\n",
        "\n",
        "print(f'Arit: {arit}\\nGeo: {geo}')"
      ]
    },
    {
      "cell_type": "markdown",
      "id": "32700a56",
      "metadata": {
        "id": "32700a56"
      },
      "source": [
        "- Crie uma lista aleatória com 10 elementos variando eles entre 10 e 40 (utilize a biblioteca random):"
      ]
    },
    {
      "cell_type": "code",
      "execution_count": 9,
      "id": "a695c5b5",
      "metadata": {
        "colab": {
          "base_uri": "https://localhost:8080/"
        },
        "id": "a695c5b5",
        "outputId": "fb02740d-aee0-4e59-ceee-1740cc0c60b5"
      },
      "outputs": [
        {
          "output_type": "stream",
          "name": "stdout",
          "text": [
            "[38, 37, 21, 40, 21, 12, 10, 12, 30, 16]\n"
          ]
        }
      ],
      "source": [
        "import random\n",
        "lista_aleatoria = []\n",
        "for _ in range(10):\n",
        "  lista_aleatoria.append(random.randint(10, 40))\n",
        "print(lista_aleatoria)"
      ]
    },
    {
      "cell_type": "markdown",
      "id": "3d6a043e",
      "metadata": {
        "id": "3d6a043e"
      },
      "source": [
        "- Vamos avaliar a como cada uma das médias evolui ao longo da quntidade de elementos que utilizar. Então crie uma malha de repetição que irá calcular ambas as médias e mostrar os resultados utilizando inicialmente os dois primeiros números e ir aumentando progressivamente até utilizar todos eles:"
      ]
    },
    {
      "cell_type": "code",
      "execution_count": null,
      "id": "f40b76da",
      "metadata": {
        "id": "f40b76da"
      },
      "outputs": [],
      "source": [
        "# Exemplo\n",
        "# Lista = [21, 17, 23, 35, 34, 15, 21, 36, 14, 26]\n",
        "\n",
        "# Resultado:\n",
        "#Quantidade de elementos:  2\n",
        "#Lista utilizada:  [21, 17]\n",
        "#Média Aritmética:  19.0\n",
        "#Media Geométrica:  18.894443627691185\n",
        "#----------------------------------\n",
        "#Quantidade de elementos:  3\n",
        "#Lista utilizada:  [21, 17, 23]\n",
        "#Média Aritmética:  20.333333333333332\n",
        "#Media Geométrica:  20.174309725802953\n",
        "# e assim or diante até o 10"
      ]
    },
    {
      "cell_type": "code",
      "execution_count": 12,
      "id": "8936e213",
      "metadata": {
        "colab": {
          "base_uri": "https://localhost:8080/"
        },
        "id": "8936e213",
        "outputId": "fcceb507-e645-4882-cc42-c72cca9f78e0"
      },
      "outputs": [
        {
          "output_type": "stream",
          "name": "stdout",
          "text": [
            "Quantidade de elementos: 2\n",
            "Lista utilizada: [38, 37]\n",
            "Média Aritmética: 37.5\n",
            "Média Geométrica: 37.49666651850535\n",
            "----------------------------------------------------------------------------------------------------------------------------------------------------------------\n",
            "Quantidade de elementos: 3\n",
            "Lista utilizada: [38, 37, 21]\n",
            "Média Aritmética: 32.0\n",
            "Média Geométrica: 30.907807957653837\n",
            "----------------------------------------------------------------------------------------------------------------------------------------------------------------\n",
            "Quantidade de elementos: 4\n",
            "Lista utilizada: [38, 37, 21, 40]\n",
            "Média Aritmética: 34.0\n",
            "Média Geométrica: 32.96599221154699\n",
            "----------------------------------------------------------------------------------------------------------------------------------------------------------------\n",
            "Quantidade de elementos: 5\n",
            "Lista utilizada: [38, 37, 21, 40, 21]\n",
            "Média Aritmética: 31.4\n",
            "Média Geométrica: 30.12290001653299\n",
            "----------------------------------------------------------------------------------------------------------------------------------------------------------------\n",
            "Quantidade de elementos: 6\n",
            "Lista utilizada: [38, 37, 21, 40, 21, 12]\n",
            "Média Aritmética: 28.166666666666668\n",
            "Média Geométrica: 25.83910844163781\n",
            "----------------------------------------------------------------------------------------------------------------------------------------------------------------\n",
            "Quantidade de elementos: 7\n",
            "Lista utilizada: [38, 37, 21, 40, 21, 12, 10]\n",
            "Média Aritmética: 25.571428571428573\n",
            "Média Geométrica: 22.562163151034962\n",
            "----------------------------------------------------------------------------------------------------------------------------------------------------------------\n",
            "Quantidade de elementos: 8\n",
            "Lista utilizada: [38, 37, 21, 40, 21, 12, 10, 12]\n",
            "Média Aritmética: 23.875\n",
            "Média Geométrica: 20.849987512268818\n",
            "----------------------------------------------------------------------------------------------------------------------------------------------------------------\n",
            "Quantidade de elementos: 9\n",
            "Lista utilizada: [38, 37, 21, 40, 21, 12, 10, 12, 30]\n",
            "Média Aritmética: 24.555555555555557\n",
            "Média Geométrica: 21.710162394185733\n",
            "----------------------------------------------------------------------------------------------------------------------------------------------------------------\n",
            "Quantidade de elementos: 10\n",
            "Lista utilizada: [38, 37, 21, 40, 21, 12, 10, 12, 30, 16]\n",
            "Média Aritmética: 23.7\n",
            "Média Geométrica: 21.05759473017655\n",
            "----------------------------------------------------------------------------------------------------------------------------------------------------------------\n"
          ]
        }
      ],
      "source": [
        "for i in range(2, len(lista_aleatoria)+1):\n",
        "  print(f'Quantidade de elementos: {i}')\n",
        "  print(f'Lista utilizada: {lista_aleatoria[:i]}')\n",
        "  print(f'Média Aritmética: {med_arit(lista_aleatoria[:i])}')\n",
        "  print(f'Média Geométrica: {med_geo(lista_aleatoria[:i])}')\n",
        "  print('--------'*20)\n",
        "  "
      ]
    },
    {
      "cell_type": "markdown",
      "id": "48f81750",
      "metadata": {
        "id": "48f81750"
      },
      "source": [
        "## "
      ]
    },
    {
      "cell_type": "markdown",
      "id": "cede3e34",
      "metadata": {
        "id": "cede3e34"
      },
      "source": [
        "## Frequência de Notas\n",
        "\n",
        "Após aplicar a prova para 40 alunos do módulo de técnicas de programação, o professor gostaria de avaliar qual foi a nota mais frequente e quantos alunos tiraram essa nota. Para isso, você deve desenvolver uma função nomeada `nota_mais_frequente`, onde será recebido uma __lista com 40 notas de alunos__ e a função deve retornar uma __lista__ com respectivamente a indicação de __qual é a nota mais frequente__ e o valor de __quantas vezes ocorreu essa nota__.\n",
        "\n",
        "Importante destacar que as notas são valores positivos e inteiros que variam entre 0 e 10. Além disso, caso 2 ou mais notas sejam a mais frequente, o retorno da função deve ser a __menor nota__."
      ]
    },
    {
      "cell_type": "code",
      "execution_count": null,
      "id": "4aa43a51",
      "metadata": {
        "id": "4aa43a51"
      },
      "outputs": [],
      "source": []
    },
    {
      "cell_type": "code",
      "execution_count": null,
      "id": "5ceaafab",
      "metadata": {
        "id": "5ceaafab"
      },
      "outputs": [],
      "source": []
    },
    {
      "cell_type": "code",
      "execution_count": null,
      "id": "310d570a",
      "metadata": {
        "id": "310d570a"
      },
      "outputs": [],
      "source": []
    },
    {
      "cell_type": "markdown",
      "id": "13151ae9",
      "metadata": {
        "id": "13151ae9"
      },
      "source": [
        "## "
      ]
    },
    {
      "cell_type": "markdown",
      "id": "ef26b258",
      "metadata": {
        "id": "ef26b258"
      },
      "source": [
        "## Palindromo"
      ]
    },
    {
      "cell_type": "markdown",
      "id": "45b191d1",
      "metadata": {
        "id": "45b191d1"
      },
      "source": [
        "Palíndromo é a característica de uma palavra ser igualmente escrita na ordem normal e reversa, como por exemplo ana e arara. O objetivo deste exercício é criar uma função nomeada `palindromo`, onde a função recebe uma lista de palavras e a saída será a __quantidade de palindromos dentro da lista__."
      ]
    },
    {
      "cell_type": "code",
      "execution_count": null,
      "id": "cb263361",
      "metadata": {
        "id": "cb263361"
      },
      "outputs": [],
      "source": [
        "lista = [\"reler\", \"reter\", \"ovo\", \"oco\", \"mirim\", \"sopapos\"]\n",
        "\n",
        "# palindromos = 6"
      ]
    },
    {
      "cell_type": "code",
      "execution_count": null,
      "id": "0dc714ac",
      "metadata": {
        "id": "0dc714ac"
      },
      "outputs": [],
      "source": []
    },
    {
      "cell_type": "code",
      "execution_count": null,
      "id": "1cc052e6",
      "metadata": {
        "id": "1cc052e6"
      },
      "outputs": [],
      "source": []
    },
    {
      "cell_type": "markdown",
      "id": "355a9991",
      "metadata": {
        "id": "355a9991"
      },
      "source": [
        "## "
      ]
    },
    {
      "cell_type": "markdown",
      "id": "f4c1f511",
      "metadata": {
        "id": "f4c1f511"
      },
      "source": [
        "## Conversão de Número para Binário\n",
        "\n",
        "O Sistema binário é uma representação da matemática onde a base de referência para a construção dos números é o 2 ao invés do 10 comum na base decimal. Por exemplo o binário `1001` na base decimal será igual $ 1001 = 1*2^3 + 0*2^2 + 0*2^1 + 1*2^0 = 9 $. O objetivo deste exercício é desenvolver uma função nomeada como `conversor_numero`, onde irá receber um valor númerico inteiro na base decimal e converter para um valor na base binária."
      ]
    },
    {
      "cell_type": "code",
      "execution_count": null,
      "id": "eddb66ec",
      "metadata": {
        "id": "eddb66ec"
      },
      "outputs": [],
      "source": [
        "# Formula geral do binario para numero decimal\n",
        "# binario -> numero = (0 ou 1)*2^(n-1)\n",
        "# 9 |___2\n",
        "# 1  4  |___2\n",
        "#    0   2   |__ 2\n",
        "#        0    1   |__ 2\n",
        "#             1    0"
      ]
    },
    {
      "cell_type": "code",
      "execution_count": null,
      "id": "9e31fa00",
      "metadata": {
        "id": "9e31fa00"
      },
      "outputs": [],
      "source": []
    },
    {
      "cell_type": "code",
      "execution_count": null,
      "id": "e759d94e",
      "metadata": {
        "id": "e759d94e"
      },
      "outputs": [],
      "source": []
    },
    {
      "cell_type": "markdown",
      "id": "0dd5fc83",
      "metadata": {
        "id": "0dd5fc83"
      },
      "source": [
        "## "
      ]
    }
  ],
  "metadata": {
    "kernelspec": {
      "display_name": "Python 3 (ipykernel)",
      "language": "python",
      "name": "python3"
    },
    "language_info": {
      "codemirror_mode": {
        "name": "ipython",
        "version": 3
      },
      "file_extension": ".py",
      "mimetype": "text/x-python",
      "name": "python",
      "nbconvert_exporter": "python",
      "pygments_lexer": "ipython3",
      "version": "3.9.12"
    },
    "colab": {
      "provenance": []
    }
  },
  "nbformat": 4,
  "nbformat_minor": 5
}