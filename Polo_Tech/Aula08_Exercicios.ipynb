{
 "cells": [
  {
   "cell_type": "markdown",
   "id": "17ada4d0",
   "metadata": {},
   "source": [
    "## Aula 08 - Exercícios de Revisão\n",
    "\n",
    "\n",
    "A aula será exclusivamente para realizar exercícios de revisão para a prova. Vocês terão 2h para desenvolver com calma os exercícios e na hora final da aula o professor irá resolvê-los em sala.\n",
    "\n",
    "<br>"
   ]
  },
  {
   "cell_type": "markdown",
   "id": "63078723",
   "metadata": {},
   "source": [
    "## __Progressão Aritmética__"
   ]
  },
  {
   "cell_type": "markdown",
   "id": "06dd3b6e",
   "metadata": {},
   "source": [
    "A progressão aritmética (PA) é uma sequência de números onde a diferença entre dois consecutivos é sempre a mesma. Um exemplo de uma PA pode ser dada com a sequência de números impares ou pares no exemplo (1, 3, 5, 7,..) e (2, 4, 6, ...) respectivamente.\n",
    "\n",
    "Uma PA segue a seguinte equação:\n",
    "\n",
    "$$ a_n = a_1 + (n - 1)r $$\n",
    "\n",
    "onde, $ a_n$ é o n-ésimo elemento da PA, $a_1$ é o primeiro elemento da sequência, n é a quantidade de elementos considerada e $r$ a razão ou ordem de grandeza que aumenta de um elemento ao outro.\n",
    "\n",
    "O Objetivo do exercício será desenvolver uma função nomeada `progressao_aritmetica` onde receberá como parâmetros $a_1$, $n$ e $r$ e a função deve printar o elemento $a_n$ e printar todos os elementos da PA em $a_1$ e $a_n$"
   ]
  },
  {
   "cell_type": "code",
   "execution_count": null,
   "id": "df960e95",
   "metadata": {},
   "outputs": [],
   "source": [
    "# Exemplo\n",
    "# progressao_aritmetica(a1 = 5, n = 10, r = 5)\n",
    "\n",
    "# Resultado\n",
    "# an = 50\n",
    "# Sequencia = [5, 10, 15, 20, 25, 30, 35, 40, 45, 50]"
   ]
  },
  {
   "cell_type": "code",
   "execution_count": null,
   "id": "7014e86d",
   "metadata": {},
   "outputs": [],
   "source": []
  },
  {
   "cell_type": "code",
   "execution_count": null,
   "id": "7ee70e84",
   "metadata": {},
   "outputs": [],
   "source": []
  },
  {
   "cell_type": "code",
   "execution_count": null,
   "id": "8e974a53",
   "metadata": {},
   "outputs": [],
   "source": []
  },
  {
   "cell_type": "markdown",
   "id": "13b1ec40",
   "metadata": {},
   "source": [
    "## "
   ]
  },
  {
   "cell_type": "markdown",
   "id": "f7410e45",
   "metadata": {},
   "source": [
    "## Média Geométrica"
   ]
  },
  {
   "cell_type": "markdown",
   "id": "60b2fa62",
   "metadata": {},
   "source": [
    "A __média geométrica__ é dada pela média de um conjunto de dados quaisquer utilizando da seguinte fórmula:\n",
    "\n",
    "$$\\sqrt[n]{x_1 * x_2 * x_3 * ... *x_n}$$\n",
    "\n",
    "Note que para a média geométrica, será necessário pelo menos um conjunto de dados com 2 elementos até $n$ elementos que queira usar.\n",
    "\n",
    "O objetvo desse exercício será dividido em algumas partes:"
   ]
  },
  {
   "cell_type": "markdown",
   "id": "c41be8bc",
   "metadata": {},
   "source": [
    "- Desenvolva uma função para calcular a __média aritmética__ e outra para __média geométrica__ dado como parâmetro uma lista de números inteiros:"
   ]
  },
  {
   "cell_type": "code",
   "execution_count": null,
   "id": "9799c797",
   "metadata": {},
   "outputs": [],
   "source": []
  },
  {
   "cell_type": "code",
   "execution_count": null,
   "id": "5056fc5f",
   "metadata": {},
   "outputs": [],
   "source": []
  },
  {
   "cell_type": "code",
   "execution_count": null,
   "id": "525f1fa4",
   "metadata": {},
   "outputs": [],
   "source": []
  },
  {
   "cell_type": "markdown",
   "id": "32700a56",
   "metadata": {},
   "source": [
    "- Crie uma lista aleatória com 10 elementos variando eles entre 10 e 40 (utilize a biblioteca random):"
   ]
  },
  {
   "cell_type": "code",
   "execution_count": null,
   "id": "a695c5b5",
   "metadata": {},
   "outputs": [],
   "source": []
  },
  {
   "cell_type": "code",
   "execution_count": null,
   "id": "71c3fca0",
   "metadata": {},
   "outputs": [],
   "source": []
  },
  {
   "cell_type": "code",
   "execution_count": null,
   "id": "40dcd523",
   "metadata": {},
   "outputs": [],
   "source": []
  },
  {
   "cell_type": "markdown",
   "id": "3d6a043e",
   "metadata": {},
   "source": [
    "- Vamos avaliar a como cada uma das médias evolui ao longo da quntidade de elementos que utilizar. Então crie uma malha de repetição que irá calcular ambas as médias e mostrar os resultados utilizando inicialmente os dois primeiros números e ir aumentando progressivamente até utilizar todos eles:"
   ]
  },
  {
   "cell_type": "code",
   "execution_count": null,
   "id": "f40b76da",
   "metadata": {},
   "outputs": [],
   "source": [
    "# Exemplo\n",
    "# Lista = [21, 17, 23, 35, 34, 15, 21, 36, 14, 26]\n",
    "\n",
    "# Resultado:\n",
    "#Quantidade de elementos:  2\n",
    "#Lista utilizada:  [21, 17]\n",
    "#Média Aritmética:  19.0\n",
    "#Media Geométrica:  18.894443627691185\n",
    "#----------------------------------\n",
    "#Quantidade de elementos:  3\n",
    "#Lista utilizada:  [21, 17, 23]\n",
    "#Média Aritmética:  20.333333333333332\n",
    "#Media Geométrica:  20.174309725802953\n",
    "# e assim or diante até o 10"
   ]
  },
  {
   "cell_type": "code",
   "execution_count": null,
   "id": "8936e213",
   "metadata": {},
   "outputs": [],
   "source": []
  },
  {
   "cell_type": "code",
   "execution_count": null,
   "id": "3ba8835d",
   "metadata": {},
   "outputs": [],
   "source": []
  },
  {
   "cell_type": "code",
   "execution_count": null,
   "id": "276779f6",
   "metadata": {},
   "outputs": [],
   "source": []
  },
  {
   "cell_type": "markdown",
   "id": "48f81750",
   "metadata": {},
   "source": [
    "## "
   ]
  },
  {
   "cell_type": "markdown",
   "id": "cede3e34",
   "metadata": {},
   "source": [
    "## Frequência de Notas\n",
    "\n",
    "Após aplicar a prova para 40 alunos do módulo de técnicas de programação, o professor gostaria de avaliar qual foi a nota mais frequente e quantos alunos tiraram essa nota. Para isso, você deve desenvolver uma função nomeada `nota_mais_frequente`, onde será recebido uma __lista com 40 notas de alunos__ e a função deve retornar uma __lista__ com respectivamente a indicação de __qual é a nota mais frequente__ e o valor de __quantas vezes ocorreu essa nota__.\n",
    "\n",
    "Importante destacar que as notas são valores positivos e inteiros que variam entre 0 e 10. Além disso, caso 2 ou mais notas sejam a mais frequente, o retorno da função deve ser a __menor nota__."
   ]
  },
  {
   "cell_type": "code",
   "execution_count": null,
   "id": "4aa43a51",
   "metadata": {},
   "outputs": [],
   "source": []
  },
  {
   "cell_type": "code",
   "execution_count": null,
   "id": "5ceaafab",
   "metadata": {},
   "outputs": [],
   "source": []
  },
  {
   "cell_type": "code",
   "execution_count": null,
   "id": "310d570a",
   "metadata": {},
   "outputs": [],
   "source": []
  },
  {
   "cell_type": "markdown",
   "id": "13151ae9",
   "metadata": {},
   "source": [
    "## "
   ]
  },
  {
   "cell_type": "markdown",
   "id": "ef26b258",
   "metadata": {},
   "source": [
    "## Palindromo"
   ]
  },
  {
   "cell_type": "markdown",
   "id": "45b191d1",
   "metadata": {},
   "source": [
    "Palíndromo é a característica de uma palavra ser igualmente escrita na ordem normal e reversa, como por exemplo ana e arara. O objetivo deste exercício é criar uma função nomeada `palindromo`, onde a função recebe uma lista de palavras e a saída será a __quantidade de palindromos dentro da lista__."
   ]
  },
  {
   "cell_type": "code",
   "execution_count": null,
   "id": "cb263361",
   "metadata": {},
   "outputs": [],
   "source": [
    "lista = [\"reler\", \"reter\", \"ovo\", \"oco\", \"mirim\", \"sopapos\"]\n",
    "\n",
    "# palindromos = 6"
   ]
  },
  {
   "cell_type": "code",
   "execution_count": null,
   "id": "0dc714ac",
   "metadata": {},
   "outputs": [],
   "source": []
  },
  {
   "cell_type": "code",
   "execution_count": null,
   "id": "1cc052e6",
   "metadata": {},
   "outputs": [],
   "source": []
  },
  {
   "cell_type": "markdown",
   "id": "355a9991",
   "metadata": {},
   "source": [
    "## "
   ]
  },
  {
   "cell_type": "markdown",
   "id": "f4c1f511",
   "metadata": {},
   "source": [
    "## Conversão de Número para Binário\n",
    "\n",
    "O Sistema binário é uma representação da matemática onde a base de referência para a construção dos números é o 2 ao invés do 10 comum na base decimal. Por exemplo o binário `1001` na base decimal será igual $ 1001 = 1*2^3 + 0*2^2 + 0*2^1 + 1*2^0 = 9 $. O objetivo deste exercício é desenvolver uma função nomeada como `conversor_numero`, onde irá receber um valor númerico inteiro na base decimal e converter para um valor na base binária."
   ]
  },
  {
   "cell_type": "code",
   "execution_count": null,
   "id": "eddb66ec",
   "metadata": {},
   "outputs": [],
   "source": [
    "# Formula geral do binario para numero decimal\n",
    "# binario -> numero = (0 ou 1)*2^(n-1)\n",
    "# 9 |___2\n",
    "# 1  4  |___2\n",
    "#    0   2   |__ 2\n",
    "#        0    1   |__ 2\n",
    "#             1    0"
   ]
  },
  {
   "cell_type": "code",
   "execution_count": null,
   "id": "9e31fa00",
   "metadata": {},
   "outputs": [],
   "source": []
  },
  {
   "cell_type": "code",
   "execution_count": null,
   "id": "e759d94e",
   "metadata": {},
   "outputs": [],
   "source": []
  },
  {
   "cell_type": "markdown",
   "id": "0dd5fc83",
   "metadata": {},
   "source": [
    "## "
   ]
  }
 ],
 "metadata": {
  "kernelspec": {
   "display_name": "Python 3 (ipykernel)",
   "language": "python",
   "name": "python3"
  },
  "language_info": {
   "codemirror_mode": {
    "name": "ipython",
    "version": 3
   },
   "file_extension": ".py",
   "mimetype": "text/x-python",
   "name": "python",
   "nbconvert_exporter": "python",
   "pygments_lexer": "ipython3",
   "version": "3.9.12"
  }
 },
 "nbformat": 4,
 "nbformat_minor": 5
}
