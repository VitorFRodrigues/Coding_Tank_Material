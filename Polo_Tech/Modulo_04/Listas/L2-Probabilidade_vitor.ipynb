{
  "cells": [
    {
      "cell_type": "markdown",
      "id": "ab3dfefb",
      "metadata": {
        "id": "ab3dfefb"
      },
      "source": [
        "# Exercícios - Probabilidade"
      ]
    },
    {
      "cell_type": "markdown",
      "id": "65123c45",
      "metadata": {
        "id": "65123c45"
      },
      "source": [
        "### Questão 1"
      ]
    },
    {
      "cell_type": "markdown",
      "id": "f36953b8",
      "metadata": {
        "id": "f36953b8"
      },
      "source": [
        "Um teste para COVID-19 possui uma taxa de 5% de falso positivo e 1% de falso negativo, ou seja, em 5% dos não-infectados acusa como infectados, e em 1% dos infectados acusa como não infectados. Sabendo que atualmente 1% da população está infectada, calcule a probabilidade de um paciente cujo teste apontou positivo estar realmente infectado."
      ]
    },
    {
      "cell_type": "markdown",
      "source": [
        "|                | Pessoa Doente | Pessoa Não Doente |\n",
        "|----------------|---------------|-------------------|\n",
        "| Teste positivo | **99 %** (TP) | 5 % (FP)          |\n",
        "| Teste Negativo | 1 % (FN)      | **95 %** (TN)     |"
      ],
      "metadata": {
        "id": "Z_Kc-BGZmn8w"
      },
      "id": "Z_Kc-BGZmn8w"
    },
    {
      "cell_type": "markdown",
      "source": [
        "|                | Pessoa Doente              | Pessoa Não Doente            |\n",
        "|----------------|----------------------------|------------------------------|\n",
        "| Teste positivo | **99 %** x 1% = 0,99% (TP) | 5 % x 99% = 4,95% (FP)       |\n",
        "| Teste Negativo | 1 % x 1% = 0,01% (FN)      | **95 %** x 99% = 94,05% (TN) |"
      ],
      "metadata": {
        "id": "BkePuCwAoZke"
      },
      "id": "BkePuCwAoZke"
    },
    {
      "cell_type": "markdown",
      "source": [
        "Probabilidade de Teste positivo realmente estar infectado:"
      ],
      "metadata": {
        "id": "C882-OKYqYbl"
      },
      "id": "C882-OKYqYbl"
    },
    {
      "cell_type": "code",
      "source": [
        "0.99/(0.99 + 4.95) * 100"
      ],
      "metadata": {
        "id": "Ftnfr9GGqX72",
        "outputId": "a679358d-4465-4587-8be9-1fcc13354c6c",
        "colab": {
          "base_uri": "https://localhost:8080/"
        }
      },
      "id": "Ftnfr9GGqX72",
      "execution_count": 11,
      "outputs": [
        {
          "output_type": "execute_result",
          "data": {
            "text/plain": [
              "16.666666666666664"
            ]
          },
          "metadata": {},
          "execution_count": 11
        }
      ]
    },
    {
      "cell_type": "markdown",
      "id": "e1e8b03b",
      "metadata": {
        "id": "e1e8b03b"
      },
      "source": [
        "### Questão 2"
      ]
    },
    {
      "cell_type": "markdown",
      "id": "9b42655a",
      "metadata": {
        "id": "9b42655a"
      },
      "source": [
        "A probabilidade de dado honesto é conhecido e igual a $1/6$, mas quando vamos testar isso com um dado físico, não necessariamente vai cair uma vez cada face do dado (se eu lançar ele 6 vezes). A ideia é que conforme fazermos vários testes a tendência é que a probabilidade de cada face irá convergir pro valor esperado. \n",
        "\n",
        "Vamos testar este conceito utilizando da programação seguintes os itens abaixo:]\n",
        "\n",
        "__A)__ Desenvolva uma função que receba um valor n, onde n é a quantidade de elementos e o objetivo da função é retorna uma _Series_ com n elementos sendo esses elementos números variando de 1 e 6;\n",
        "\n",
        "__B)__ Teste a função para n igual a 10, 100, 1.000, 10.000 e 100.000 casos e para cada um deles calcule a proporção de vezes que aparece cada número;\n",
        "\n",
        "__Dica.:__ utilize a função do _Pandas_ `.value_counts`\n",
        "\n",
        "__C)__ O que podermos dizer sobre a afirmação do enunciado, a tendência é que as probabilidades irão convergir para $1/6$?"
      ]
    },
    {
      "cell_type": "markdown",
      "source": [
        "---"
      ],
      "metadata": {
        "id": "qi4KPqn-sT4x"
      },
      "id": "qi4KPqn-sT4x"
    },
    {
      "cell_type": "markdown",
      "source": [
        "__A)__ Desenvolva uma função que receba um valor n, onde n é a quantidade de elementos e o objetivo da função é retorna uma _Series_ com n elementos sendo esses elementos números variando de 1 e 6;"
      ],
      "metadata": {
        "id": "XkZmNTBNsQvL"
      },
      "id": "XkZmNTBNsQvL"
    },
    {
      "cell_type": "code",
      "execution_count": 17,
      "id": "200494e5",
      "metadata": {
        "id": "200494e5"
      },
      "outputs": [],
      "source": [
        "import numpy as np\n",
        "import pandas as pd\n",
        "def vetor(n):\n",
        "  array = np.random.randint(1, 6+1, n)\n",
        "  return pd.DataFrame(array)"
      ]
    },
    {
      "cell_type": "markdown",
      "source": [
        "__B)__ Teste a função para n igual a 10, 100, 1.000, 10.000 e 100.000 casos e para cada um deles calcule a proporção de vezes que aparece cada número;\n",
        "\n",
        "__Dica.:__ utilize a função do _Pandas_ `.value_counts`"
      ],
      "metadata": {
        "id": "XMBcnq8CsZTq"
      },
      "id": "XMBcnq8CsZTq"
    },
    {
      "cell_type": "code",
      "source": [
        "for i in [10, 100, 1000, 10000, 100000]:\n",
        "  x = vetor(i)\n",
        "  print(f'Para {i}: \\n{x.value_counts().sort_index() / x.value_counts().sum()}')\n",
        "  print('-'*50)"
      ],
      "metadata": {
        "id": "_Ju35tXdt5PN",
        "outputId": "255087ad-5dfe-4ee3-bf04-b7e6cc7c881f",
        "colab": {
          "base_uri": "https://localhost:8080/"
        }
      },
      "id": "_Ju35tXdt5PN",
      "execution_count": 30,
      "outputs": [
        {
          "output_type": "stream",
          "name": "stdout",
          "text": [
            "Para 10: \n",
            "1    0.2\n",
            "2    0.1\n",
            "3    0.1\n",
            "4    0.3\n",
            "5    0.2\n",
            "6    0.1\n",
            "dtype: float64\n",
            "--------------------------------------------------\n",
            "Para 100: \n",
            "1    0.17\n",
            "2    0.11\n",
            "3    0.17\n",
            "4    0.15\n",
            "5    0.22\n",
            "6    0.18\n",
            "dtype: float64\n",
            "--------------------------------------------------\n",
            "Para 1000: \n",
            "1    0.172\n",
            "2    0.182\n",
            "3    0.154\n",
            "4    0.154\n",
            "5    0.162\n",
            "6    0.176\n",
            "dtype: float64\n",
            "--------------------------------------------------\n",
            "Para 10000: \n",
            "1    0.1629\n",
            "2    0.1664\n",
            "3    0.1689\n",
            "4    0.1695\n",
            "5    0.1647\n",
            "6    0.1676\n",
            "dtype: float64\n",
            "--------------------------------------------------\n",
            "Para 100000: \n",
            "1    0.16458\n",
            "2    0.16709\n",
            "3    0.16884\n",
            "4    0.16670\n",
            "5    0.16520\n",
            "6    0.16759\n",
            "dtype: float64\n",
            "--------------------------------------------------\n"
          ]
        }
      ]
    },
    {
      "cell_type": "markdown",
      "source": [
        "__C)__ O que podermos dizer sobre a afirmação do enunciado, a tendência é que as probabilidades irão convergir para $1/6$?"
      ],
      "metadata": {
        "id": "G2XCqkaFvRIo"
      },
      "id": "G2XCqkaFvRIo"
    },
    {
      "cell_type": "markdown",
      "source": [
        "Conforme o número de valores aleatórios são aumentados, as chances vão convergindo para 0.1666666 o equivalente a probabilidade indicada de $1/6$."
      ],
      "metadata": {
        "id": "SkQKhqlJvSLw"
      },
      "id": "SkQKhqlJvSLw"
    },
    {
      "cell_type": "markdown",
      "id": "8ed593e2",
      "metadata": {
        "id": "8ed593e2"
      },
      "source": [
        "### Questão 3"
      ]
    },
    {
      "cell_type": "markdown",
      "id": "f9102e3c",
      "metadata": {
        "id": "f9102e3c"
      },
      "source": [
        "Na casa de Luiza e Rafael tem um pote de balas de diferentes cores. Certo dia a mamãe deles contou quantas balas tinha de cada uma das cores:\n",
        "\n",
        "- 14 balas azuis;\n",
        "- 22 balas vermelhas;\n",
        "- 17 balas amarelas.\n",
        "\n",
        "A mamãe deles deixou que cada um pegasse 3 balas começando pela Luiza e depois o Rafael. Dado isso resolva os item abaixo:\n",
        "\n",
        "__A)__ Qual a probabilidade da Luiza pegar uma bala de cada na ordem da contagem e o Rafael pegar 2 azuis e uma vermelha, dado que é um evento sem reposição?\n",
        "\n",
        "__B)__ Luiza decidiu ficar só com a bala amarela e devolveu as demais para o pote antes que o Rafael pegasse suas balas. Como que ficaria a probabilidade para o Rafael agora?"
      ]
    },
    {
      "cell_type": "code",
      "execution_count": null,
      "id": "8567d548",
      "metadata": {
        "id": "8567d548"
      },
      "outputs": [],
      "source": []
    },
    {
      "cell_type": "markdown",
      "id": "efcd759a",
      "metadata": {
        "id": "efcd759a"
      },
      "source": [
        "### Questão 4"
      ]
    },
    {
      "cell_type": "markdown",
      "id": "8180ee4e",
      "metadata": {
        "id": "8180ee4e"
      },
      "source": [
        "Um programa de computador gera uma pontuação aleatória para cada usuário, sendo que:\n",
        "\n",
        "- Em 1/2 dos casos, gera 0.5;\n",
        "- Em 1/4 dos casos, gera 0.25;\n",
        "- Em 1/8 dos casos, gera 0.125.\n",
        "\n",
        "E essa lógica segue assim por diante. Resolva os itens a seguir:\n",
        "\n",
        "__A)__ Calcule o __valor esperado__ utilizando apenas os 3 primeiros casos;\n",
        "\n",
        "__B)__ Faça um _loop_ para calcular o __valor esperado__ para 100 casos e avalie se só com os 3 primeiros casos temos uma boa aproximação ou não."
      ]
    },
    {
      "cell_type": "code",
      "execution_count": null,
      "id": "f1f8bbe4",
      "metadata": {
        "id": "f1f8bbe4"
      },
      "outputs": [],
      "source": []
    },
    {
      "cell_type": "markdown",
      "id": "57a9dba0",
      "metadata": {
        "id": "57a9dba0"
      },
      "source": [
        "### Questão 5"
      ]
    },
    {
      "cell_type": "markdown",
      "id": "03ce87d4",
      "metadata": {
        "id": "03ce87d4"
      },
      "source": [
        "Em um programa de auditório, havia 3 portas (A, B, C), dentro da qual uma continha um prêmio. O participante escolheu a porta A e antes de abrir a porta o apresentador abriu a porta C, na qual não havia nada. O participante aumentará a probabilidade de acertar a porta caso mude a escolha dele da porta A para a B?"
      ]
    },
    {
      "cell_type": "code",
      "execution_count": null,
      "id": "cb736e05",
      "metadata": {
        "id": "cb736e05"
      },
      "outputs": [],
      "source": []
    }
  ],
  "metadata": {
    "kernelspec": {
      "display_name": "Python 3 (ipykernel)",
      "language": "python",
      "name": "python3"
    },
    "language_info": {
      "codemirror_mode": {
        "name": "ipython",
        "version": 3
      },
      "file_extension": ".py",
      "mimetype": "text/x-python",
      "name": "python",
      "nbconvert_exporter": "python",
      "pygments_lexer": "ipython3",
      "version": "3.9.7"
    },
    "varInspector": {
      "cols": {
        "lenName": 16,
        "lenType": 16,
        "lenVar": 40
      },
      "kernels_config": {
        "python": {
          "delete_cmd_postfix": "",
          "delete_cmd_prefix": "del ",
          "library": "var_list.py",
          "varRefreshCmd": "print(var_dic_list())"
        },
        "r": {
          "delete_cmd_postfix": ") ",
          "delete_cmd_prefix": "rm(",
          "library": "var_list.r",
          "varRefreshCmd": "cat(var_dic_list()) "
        }
      },
      "types_to_exclude": [
        "module",
        "function",
        "builtin_function_or_method",
        "instance",
        "_Feature"
      ],
      "window_display": false
    },
    "colab": {
      "provenance": []
    }
  },
  "nbformat": 4,
  "nbformat_minor": 5
}