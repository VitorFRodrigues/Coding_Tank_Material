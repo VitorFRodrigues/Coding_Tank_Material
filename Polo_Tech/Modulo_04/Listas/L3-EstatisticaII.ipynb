{
  "cells": [
    {
      "cell_type": "markdown",
      "id": "615f2026",
      "metadata": {
        "id": "615f2026"
      },
      "source": [
        "# Exercícios - Estatística II"
      ]
    },
    {
      "cell_type": "markdown",
      "id": "b3fd867e",
      "metadata": {
        "id": "b3fd867e"
      },
      "source": [
        "### Questão 1"
      ]
    },
    {
      "cell_type": "markdown",
      "id": "1a47d0ed",
      "metadata": {
        "id": "1a47d0ed"
      },
      "source": [
        "Uma relação bem importante entre uma população e uma amostra, é que uma amostra pode ser significativa daquela população (ou seja, podemos inferir que a média e variância da amostra será bem próximo do valor real da população), isto quando essa amostra for grande o suficiente para isso. Vamos fazer algumas simulações utilizando o _Python_ para testar esses conceicos, resolvendo os itens a seguir:\n",
        "\n",
        "__A)__ Crie uma lista com número aleatórios entre 20 e 50 e que essa lista contenham 1 milhão de elementos;"
      ]
    },
    {
      "cell_type": "code",
      "source": [
        "# Import das Libs\n",
        "import numpy as np\n",
        "import pandas as pd"
      ],
      "metadata": {
        "id": "18q2LcSY8sYY"
      },
      "id": "18q2LcSY8sYY",
      "execution_count": 1,
      "outputs": []
    },
    {
      "cell_type": "code",
      "source": [
        "# Define uma semente aleatória\n",
        "np.random.seed(42)\n",
        "\n",
        "# tamanho da população\n",
        "n = 1000000\n",
        "\n",
        "# Criando a população\n",
        "pop = list(np.random.randint(20, 50, size = n))\n",
        "\n",
        "# Print de 5 elementos da população\n",
        "pop[:5]"
      ],
      "metadata": {
        "id": "c3qbYBux86OB",
        "outputId": "4305ac20-f05e-4ed3-8d97-fc4ecd7fb21a",
        "colab": {
          "base_uri": "https://localhost:8080/"
        }
      },
      "id": "c3qbYBux86OB",
      "execution_count": 2,
      "outputs": [
        {
          "output_type": "execute_result",
          "data": {
            "text/plain": [
              "[26, 39, 48, 34, 30]"
            ]
          },
          "metadata": {},
          "execution_count": 2
        }
      ]
    },
    {
      "cell_type": "markdown",
      "source": [
        "__B)__ Calcule a média e a variância para essa lista;"
      ],
      "metadata": {
        "id": "v8l2e5YR8lC0"
      },
      "id": "v8l2e5YR8lC0"
    },
    {
      "cell_type": "code",
      "source": [
        "# Print das metricas da população\n",
        "print(\"Métricas da População: \")\n",
        "print('Média:     ', np.round(np.mean(pop),2))\n",
        "print('Variância: ', np.round(np.var(pop),2))"
      ],
      "metadata": {
        "id": "sUl-QYgn8s2C",
        "outputId": "f0ff43ca-3666-40e1-fcc5-b39f95fa8859",
        "colab": {
          "base_uri": "https://localhost:8080/"
        }
      },
      "id": "sUl-QYgn8s2C",
      "execution_count": 3,
      "outputs": [
        {
          "output_type": "stream",
          "name": "stdout",
          "text": [
            "Métricas da População: \n",
            "Média:      34.49\n",
            "Variância:  74.89\n"
          ]
        }
      ]
    },
    {
      "cell_type": "markdown",
      "source": [
        "__C)__ Faça amostra aleatórias de diversos tamanhos (10, 100, 1.000 e 10.000 elementos) e calcule as mesmas métricas que o item anterior, para avaliar o conceito proposto no enunciado"
      ],
      "metadata": {
        "id": "o5gcUx9D8k8q"
      },
      "id": "o5gcUx9D8k8q"
    },
    {
      "cell_type": "code",
      "execution_count": 4,
      "id": "0e93f872",
      "metadata": {
        "id": "0e93f872",
        "outputId": "37fce884-a69f-4c1f-a54d-9c7aafb46127",
        "colab": {
          "base_uri": "https://localhost:8080/"
        }
      },
      "outputs": [
        {
          "output_type": "stream",
          "name": "stdout",
          "text": [
            "Amostra com 10 elementos\n",
            "Média:      33.7\n",
            "Variância:  21.61\n",
            "=================================\n",
            "Amostra com 100 elementos\n",
            "Média:      34.26\n",
            "Variância:  60.47\n",
            "=================================\n",
            "Amostra com 1000 elementos\n",
            "Média:      34.26\n",
            "Variância:  76.9\n",
            "=================================\n",
            "Amostra com 10000 elementos\n",
            "Média:      34.32\n",
            "Variância:  74.17\n",
            "=================================\n"
          ]
        }
      ],
      "source": [
        "# Import da biblioteca random para os samples\n",
        "import random\n",
        "\n",
        "# Cria uma lista com os diversos tamanhos de amostras\n",
        "n_amostras = [10, 100, 1000, 10000]\n",
        "\n",
        "# Loop para fazer a amostra aleatória e calcular as métricas\n",
        "for n in n_amostras:\n",
        "    amostra = list(random.sample(pop, n))\n",
        "    print('Amostra com {} elementos'.format(n))\n",
        "    print('Média:     ', np.round(np.mean(amostra),2))\n",
        "    print('Variância: ', np.round(np.var(amostra),2))\n",
        "    print('=================================')"
      ]
    },
    {
      "cell_type": "markdown",
      "source": [
        "Note que a partir de 1000 elementos já temos valores bem próximos com a realidade da população onde os 1000 elementos representam apesar 0,1% da população, corroborando com o conceito de amostragem dito no enunciado."
      ],
      "metadata": {
        "id": "fzDdqs-x9WUv"
      },
      "id": "fzDdqs-x9WUv"
    },
    {
      "cell_type": "markdown",
      "source": [
        "### Solução Alternativa"
      ],
      "metadata": {
        "id": "Z1bYXUxN9dFj"
      },
      "id": "Z1bYXUxN9dFj"
    },
    {
      "cell_type": "code",
      "source": [
        "# Import da biblioteca random para os samples\n",
        "import random\n",
        "df = pd.DataFrame(data=[np.round(np.mean(amostra),2), np.round(np.var(amostra),2)], index=['Média', 'Variância'], columns=[('população','value')])\n",
        "\n",
        "# Cria uma lista com os diversos tamanhos de amostras\n",
        "n_amostras = [10, 100, 1000, 10000]\n",
        "df\n",
        "# Loop para fazer a amostra aleatória e calcular as métricas\n",
        "for n in n_amostras:\n",
        "    amostra = list(random.sample(pop, n))\n",
        "    df[(f'{n} elementos', 'value')] = [np.round(np.mean(amostra),2), np.round(np.var(amostra),2)]\n",
        "    df[(f'{n} elementos', 'error')] = [np.round(np.mean(amostra),2)-df[('população','value')]['Média'], np.round(np.var(amostra),2)-df[('população','value')]['Variância']]\n",
        "\n",
        "df.columns = pd.MultiIndex.from_tuples(df.columns)\n",
        "df"
      ],
      "metadata": {
        "id": "QJWtlPUD9W61",
        "outputId": "4baf5842-01b8-463b-dd06-15ff081e57b9",
        "colab": {
          "base_uri": "https://localhost:8080/",
          "height": 143
        }
      },
      "id": "QJWtlPUD9W61",
      "execution_count": 5,
      "outputs": [
        {
          "output_type": "execute_result",
          "data": {
            "text/plain": [
              "          população 10 elementos        100 elementos       1000 elementos  \\\n",
              "              value        value  error         value error          value   \n",
              "Média         34.32        34.50   0.18         35.60  1.28          34.27   \n",
              "Variância     74.17       102.45  28.28         73.96 -0.21          77.14   \n",
              "\n",
              "                10000 elementos        \n",
              "          error           value error  \n",
              "Média     -0.05           34.19 -0.13  \n",
              "Variância  2.97           74.98  0.81  "
            ],
            "text/html": [
              "\n",
              "  <div id=\"df-a8335d16-861b-4120-999a-fb2910a4f8de\">\n",
              "    <div class=\"colab-df-container\">\n",
              "      <div>\n",
              "<style scoped>\n",
              "    .dataframe tbody tr th:only-of-type {\n",
              "        vertical-align: middle;\n",
              "    }\n",
              "\n",
              "    .dataframe tbody tr th {\n",
              "        vertical-align: top;\n",
              "    }\n",
              "\n",
              "    .dataframe thead tr th {\n",
              "        text-align: left;\n",
              "    }\n",
              "</style>\n",
              "<table border=\"1\" class=\"dataframe\">\n",
              "  <thead>\n",
              "    <tr>\n",
              "      <th></th>\n",
              "      <th>população</th>\n",
              "      <th colspan=\"2\" halign=\"left\">10 elementos</th>\n",
              "      <th colspan=\"2\" halign=\"left\">100 elementos</th>\n",
              "      <th colspan=\"2\" halign=\"left\">1000 elementos</th>\n",
              "      <th colspan=\"2\" halign=\"left\">10000 elementos</th>\n",
              "    </tr>\n",
              "    <tr>\n",
              "      <th></th>\n",
              "      <th>value</th>\n",
              "      <th>value</th>\n",
              "      <th>error</th>\n",
              "      <th>value</th>\n",
              "      <th>error</th>\n",
              "      <th>value</th>\n",
              "      <th>error</th>\n",
              "      <th>value</th>\n",
              "      <th>error</th>\n",
              "    </tr>\n",
              "  </thead>\n",
              "  <tbody>\n",
              "    <tr>\n",
              "      <th>Média</th>\n",
              "      <td>34.32</td>\n",
              "      <td>34.50</td>\n",
              "      <td>0.18</td>\n",
              "      <td>35.60</td>\n",
              "      <td>1.28</td>\n",
              "      <td>34.27</td>\n",
              "      <td>-0.05</td>\n",
              "      <td>34.19</td>\n",
              "      <td>-0.13</td>\n",
              "    </tr>\n",
              "    <tr>\n",
              "      <th>Variância</th>\n",
              "      <td>74.17</td>\n",
              "      <td>102.45</td>\n",
              "      <td>28.28</td>\n",
              "      <td>73.96</td>\n",
              "      <td>-0.21</td>\n",
              "      <td>77.14</td>\n",
              "      <td>2.97</td>\n",
              "      <td>74.98</td>\n",
              "      <td>0.81</td>\n",
              "    </tr>\n",
              "  </tbody>\n",
              "</table>\n",
              "</div>\n",
              "      <button class=\"colab-df-convert\" onclick=\"convertToInteractive('df-a8335d16-861b-4120-999a-fb2910a4f8de')\"\n",
              "              title=\"Convert this dataframe to an interactive table.\"\n",
              "              style=\"display:none;\">\n",
              "        \n",
              "  <svg xmlns=\"http://www.w3.org/2000/svg\" height=\"24px\"viewBox=\"0 0 24 24\"\n",
              "       width=\"24px\">\n",
              "    <path d=\"M0 0h24v24H0V0z\" fill=\"none\"/>\n",
              "    <path d=\"M18.56 5.44l.94 2.06.94-2.06 2.06-.94-2.06-.94-.94-2.06-.94 2.06-2.06.94zm-11 1L8.5 8.5l.94-2.06 2.06-.94-2.06-.94L8.5 2.5l-.94 2.06-2.06.94zm10 10l.94 2.06.94-2.06 2.06-.94-2.06-.94-.94-2.06-.94 2.06-2.06.94z\"/><path d=\"M17.41 7.96l-1.37-1.37c-.4-.4-.92-.59-1.43-.59-.52 0-1.04.2-1.43.59L10.3 9.45l-7.72 7.72c-.78.78-.78 2.05 0 2.83L4 21.41c.39.39.9.59 1.41.59.51 0 1.02-.2 1.41-.59l7.78-7.78 2.81-2.81c.8-.78.8-2.07 0-2.86zM5.41 20L4 18.59l7.72-7.72 1.47 1.35L5.41 20z\"/>\n",
              "  </svg>\n",
              "      </button>\n",
              "      \n",
              "  <style>\n",
              "    .colab-df-container {\n",
              "      display:flex;\n",
              "      flex-wrap:wrap;\n",
              "      gap: 12px;\n",
              "    }\n",
              "\n",
              "    .colab-df-convert {\n",
              "      background-color: #E8F0FE;\n",
              "      border: none;\n",
              "      border-radius: 50%;\n",
              "      cursor: pointer;\n",
              "      display: none;\n",
              "      fill: #1967D2;\n",
              "      height: 32px;\n",
              "      padding: 0 0 0 0;\n",
              "      width: 32px;\n",
              "    }\n",
              "\n",
              "    .colab-df-convert:hover {\n",
              "      background-color: #E2EBFA;\n",
              "      box-shadow: 0px 1px 2px rgba(60, 64, 67, 0.3), 0px 1px 3px 1px rgba(60, 64, 67, 0.15);\n",
              "      fill: #174EA6;\n",
              "    }\n",
              "\n",
              "    [theme=dark] .colab-df-convert {\n",
              "      background-color: #3B4455;\n",
              "      fill: #D2E3FC;\n",
              "    }\n",
              "\n",
              "    [theme=dark] .colab-df-convert:hover {\n",
              "      background-color: #434B5C;\n",
              "      box-shadow: 0px 1px 3px 1px rgba(0, 0, 0, 0.15);\n",
              "      filter: drop-shadow(0px 1px 2px rgba(0, 0, 0, 0.3));\n",
              "      fill: #FFFFFF;\n",
              "    }\n",
              "  </style>\n",
              "\n",
              "      <script>\n",
              "        const buttonEl =\n",
              "          document.querySelector('#df-a8335d16-861b-4120-999a-fb2910a4f8de button.colab-df-convert');\n",
              "        buttonEl.style.display =\n",
              "          google.colab.kernel.accessAllowed ? 'block' : 'none';\n",
              "\n",
              "        async function convertToInteractive(key) {\n",
              "          const element = document.querySelector('#df-a8335d16-861b-4120-999a-fb2910a4f8de');\n",
              "          const dataTable =\n",
              "            await google.colab.kernel.invokeFunction('convertToInteractive',\n",
              "                                                     [key], {});\n",
              "          if (!dataTable) return;\n",
              "\n",
              "          const docLinkHtml = 'Like what you see? Visit the ' +\n",
              "            '<a target=\"_blank\" href=https://colab.research.google.com/notebooks/data_table.ipynb>data table notebook</a>'\n",
              "            + ' to learn more about interactive tables.';\n",
              "          element.innerHTML = '';\n",
              "          dataTable['output_type'] = 'display_data';\n",
              "          await google.colab.output.renderOutput(dataTable, element);\n",
              "          const docLink = document.createElement('div');\n",
              "          docLink.innerHTML = docLinkHtml;\n",
              "          element.appendChild(docLink);\n",
              "        }\n",
              "      </script>\n",
              "    </div>\n",
              "  </div>\n",
              "  "
            ]
          },
          "metadata": {},
          "execution_count": 5
        }
      ]
    },
    {
      "cell_type": "markdown",
      "id": "3502aea3",
      "metadata": {
        "id": "3502aea3"
      },
      "source": [
        "### Questão 2"
      ]
    },
    {
      "cell_type": "markdown",
      "id": "97416ea6",
      "metadata": {
        "id": "97416ea6"
      },
      "source": [
        "Neste exercício vamos demonstrar a importância de uma amostragem estratificada quando temos grupos significantes dentro da população. Faça os seguintes itens:\n",
        "\n",
        "__A)__ Crie 3 listas de números aleatórios sendo elas:\n",
        "- uma lista com números aleatórios entre 40 e 50 contendo 10.000 elementos;\n",
        "- uma lista com números aleatórios entre 10 e 20 contendo 6.000 elementos;\n",
        "- uma lista com números aleatórios entre 80 e 90 contendo 4.000 elementos."
      ]
    },
    {
      "cell_type": "code",
      "source": [
        "# Import das Libs\n",
        "import numpy as np\n",
        "import pandas as pd"
      ],
      "metadata": {
        "id": "-SuSz8fX93lr"
      },
      "id": "-SuSz8fX93lr",
      "execution_count": 6,
      "outputs": []
    },
    {
      "cell_type": "code",
      "source": [
        "# Define uma semente aleatória\n",
        "np.random.seed(42)\n",
        "\n",
        "# tamanho das listas\n",
        "n1 = 10000\n",
        "n2 = 6000\n",
        "n3 = 4000\n",
        "\n",
        "# Criando as listas\n",
        "lista1 = list(np.random.randint(40, 50, size = n1))\n",
        "lista2 = list(np.random.randint(10, 20, size = n2))\n",
        "lista3 = list(np.random.randint(80, 90, size = n3))\n",
        "\n",
        "\n",
        "# Print de 5 elementos das listas\n",
        "print('Listas: ')\n",
        "print('Lista 1 - Tamanho: {}, 5 Elementos: {}'.format(len(lista1), lista1[:5]))\n",
        "print('Lista 2 - Tamanho: {}, 5 Elementos: {}'.format(len(lista2), lista2[:5]))\n",
        "print('Lista 3 - Tamanho: {}, 5 Elementos: {}'.format(len(lista3), lista3[:5]))"
      ],
      "metadata": {
        "id": "BvpISnvz-Ckw",
        "outputId": "df9c5fe6-f6da-4564-95bc-e662a8f06c3d",
        "colab": {
          "base_uri": "https://localhost:8080/"
        }
      },
      "id": "BvpISnvz-Ckw",
      "execution_count": 7,
      "outputs": [
        {
          "output_type": "stream",
          "name": "stdout",
          "text": [
            "Listas: \n",
            "Lista 1 - Tamanho: 10000, 5 Elementos: [46, 43, 47, 44, 46]\n",
            "Lista 2 - Tamanho: 6000, 5 Elementos: [12, 14, 12, 19, 16]\n",
            "Lista 3 - Tamanho: 4000, 5 Elementos: [82, 84, 84, 84, 83]\n"
          ]
        }
      ]
    },
    {
      "cell_type": "markdown",
      "source": [
        "__B)__ Calcule a média e a variância para cada uma das 3 listas;"
      ],
      "metadata": {
        "id": "ZCaCJ_sD9i98"
      },
      "id": "ZCaCJ_sD9i98"
    },
    {
      "cell_type": "code",
      "source": [
        "# Calculo métricas lista 1\n",
        "mean1 = np.round(np.mean(lista1),2)\n",
        "var1  = np.round(np.var(lista1),2)\n",
        "\n",
        "# Calculo métricas lista 2\n",
        "mean2 = np.round(np.mean(lista2),2)\n",
        "var2  = np.round(np.var(lista2),2)\n",
        "\n",
        "# Calculo métricas lista 3\n",
        "mean3 = np.round(np.mean(lista3),2)\n",
        "var3  = np.round(np.var(lista3),2)\n",
        "\n",
        "# Print dos resultados\n",
        "print('Métricas - Lista 1: ')\n",
        "print('Amostra com {} elementos'.format(n1))\n",
        "print('Média:     ', mean1)\n",
        "print('Variância: ', var1)\n",
        "print('=================================')\n",
        "print('Métricas - Lista 2: ')\n",
        "print('Amostra com {} elementos'.format(n2))\n",
        "print('Média:     ', mean2)\n",
        "print('Variância: ', var2)\n",
        "print('=================================')\n",
        "print('Métricas - Lista 3: ')\n",
        "print('Amostra com {} elementos'.format(n3))\n",
        "print('Média:     ', mean3)\n",
        "print('Variância: ', var3)\n",
        "print('=================================')"
      ],
      "metadata": {
        "id": "1Q0L-6Bc94CV",
        "outputId": "940ca120-7d02-4f01-af5b-72e163344c45",
        "colab": {
          "base_uri": "https://localhost:8080/"
        }
      },
      "id": "1Q0L-6Bc94CV",
      "execution_count": 8,
      "outputs": [
        {
          "output_type": "stream",
          "name": "stdout",
          "text": [
            "Métricas - Lista 1: \n",
            "Amostra com 10000 elementos\n",
            "Média:      44.5\n",
            "Variância:  8.37\n",
            "=================================\n",
            "Métricas - Lista 2: \n",
            "Amostra com 6000 elementos\n",
            "Média:      14.52\n",
            "Variância:  8.19\n",
            "=================================\n",
            "Métricas - Lista 3: \n",
            "Amostra com 4000 elementos\n",
            "Média:      84.5\n",
            "Variância:  8.4\n",
            "=================================\n"
          ]
        }
      ]
    },
    {
      "cell_type": "markdown",
      "source": [
        "__C)__ Calcule a média e a variância para a população, onde a população seja as 3 listas juntas;\n",
        "\n",
        "\n",
        "__Dica.:__ Neste caso, temos que trabalhar com média e variância ponderada!"
      ],
      "metadata": {
        "id": "DeV5VFkC9i11"
      },
      "id": "DeV5VFkC9i11"
    },
    {
      "cell_type": "markdown",
      "source": [
        "Para calcular a média ponderada devemos seguir a fórmula abaixo:\n",
        "    \n",
        "$$\\overline{x}_{p} = \\sum_{i=1}^{k} p_i \\overline{x}_i$$\n",
        "\n",
        "onde $k$ e o número de grupos dentro da população e $p_i$ os pesos de cada grupo definido por $p_i = n_i/N$\n",
        "\n",
        "Já para o variância ponderada, deve-se calcular da seguinte forma:\n",
        "\n",
        "$$S_{p}^{2} = \\sum_{i=1}^{k} S_{i}^{2}$$"
      ],
      "metadata": {
        "id": "cSHWbpbB-PBT"
      },
      "id": "cSHWbpbB-PBT"
    },
    {
      "cell_type": "code",
      "source": [
        "# Total da população\n",
        "N = n1 + n2 + n3\n",
        "\n",
        "# peso 1\n",
        "p1 = n1/N\n",
        "\n",
        "# peso 2\n",
        "p2 = n2/N\n",
        "\n",
        "# peso 3\n",
        "p3 = n3/N\n",
        "\n",
        "# Média Ponderada das listas\n",
        "mean_N = p1*mean1 + p2*mean2 + p3*mean3\n",
        "\n",
        "# Variância Ponderada das listas\n",
        "var_N = var1 + var2 + var3\n",
        "\n",
        "# Print das métricas da população\n",
        "print('Métricas da População: ')\n",
        "print('Amostra com {} elementos'.format(N))\n",
        "print('Média Ponderada:     ', mean_N)\n",
        "print('Variância Ponderada: ', var_N)"
      ],
      "metadata": {
        "id": "cMmvsOwB94i8",
        "outputId": "7896d59c-3206-43d6-b13b-b24d595ffa2b",
        "colab": {
          "base_uri": "https://localhost:8080/"
        }
      },
      "id": "cMmvsOwB94i8",
      "execution_count": 9,
      "outputs": [
        {
          "output_type": "stream",
          "name": "stdout",
          "text": [
            "Métricas da População: \n",
            "Amostra com 20000 elementos\n",
            "Média Ponderada:      43.506\n",
            "Variância Ponderada:  24.96\n"
          ]
        }
      ]
    },
    {
      "cell_type": "markdown",
      "source": [
        "__D)__ Una as 3 listas em uma só e retire uma amostra de 1% da lista resultante. Calcule a média e a variância para esta amostra;"
      ],
      "metadata": {
        "id": "iJjpOeIr9itq"
      },
      "id": "iJjpOeIr9itq"
    },
    {
      "cell_type": "code",
      "source": [
        "# Cria a população\n",
        "pop = lista1 + lista2 + lista3\n",
        "\n",
        "# Tamanho da população\n",
        "len(pop)"
      ],
      "metadata": {
        "id": "pVcgc47o949R",
        "outputId": "a7bc94ed-79e5-4291-9e5d-3d590fde1915",
        "colab": {
          "base_uri": "https://localhost:8080/"
        }
      },
      "id": "pVcgc47o949R",
      "execution_count": 10,
      "outputs": [
        {
          "output_type": "execute_result",
          "data": {
            "text/plain": [
              "20000"
            ]
          },
          "metadata": {},
          "execution_count": 10
        }
      ]
    },
    {
      "cell_type": "code",
      "source": [
        "# Define a amostra de uma população\n",
        "amostra = list(random.sample(pop, 200))\n",
        "\n",
        "# Print das metricas da amostra\n",
        "print('Amostra com {} elementos'.format(200))\n",
        "print('Média:     ', np.round(np.mean(amostra),2))\n",
        "print('Variância: ', np.round(np.var(amostra),2))\n",
        "print('=================================')"
      ],
      "metadata": {
        "id": "MKIYUnn8-W_s",
        "outputId": "7095cb21-3368-48bd-d010-02b5b661884f",
        "colab": {
          "base_uri": "https://localhost:8080/"
        }
      },
      "id": "MKIYUnn8-W_s",
      "execution_count": 11,
      "outputs": [
        {
          "output_type": "stream",
          "name": "stdout",
          "text": [
            "Amostra com 200 elementos\n",
            "Média:      45.02\n",
            "Variância:  658.3\n",
            "=================================\n"
          ]
        }
      ]
    },
    {
      "cell_type": "markdown",
      "source": [
        "__E)__ Por fim, faça uma amostra estratificada da seguinte forma: faça uma amostra aleatória de 1% de cada uma das 3 listas e em seguida calcule a média e a variância para a amostra estratificada (será necessário utilizar a média e variância ponderada!)."
      ],
      "metadata": {
        "id": "KCCi_TCt9imS"
      },
      "id": "KCCi_TCt9imS"
    },
    {
      "cell_type": "code",
      "source": [
        "# Amostra 1\n",
        "# Define a amostra de uma população\n",
        "amostra1 = list(random.sample(lista1, 100))\n",
        "\n",
        "# Metricas amostra 1\n",
        "mean_amostra1 = np.round(np.mean(amostra1),2)\n",
        "var_amostra1 = np.round(np.var(amostra1),2)\n",
        "\n",
        "# Print das metricas da amostra\n",
        "print('Amostra 1 com {} elementos'.format(100))\n",
        "print('Média:     ', mean_amostra1)\n",
        "print('Variância: ', var_amostra1)\n",
        "print('=================================')\n",
        "\n",
        "# Amostra 2\n",
        "# Define a amostra de uma população\n",
        "amostra2 = list(random.sample(lista2, 60))\n",
        "\n",
        "# Metricas amostra 1\n",
        "mean_amostra2 = np.round(np.mean(amostra2),2)\n",
        "var_amostra2 = np.round(np.var(amostra2),2)\n",
        "\n",
        "# Print das metricas da amostra\n",
        "print('Amostra 2 com {} elementos'.format(60))\n",
        "print('Média:     ', mean_amostra2)\n",
        "print('Variância: ', var_amostra2)\n",
        "print('=================================')\n",
        "\n",
        "# Amostra3\n",
        "# Define a amostra de uma população\n",
        "amostra3 = list(random.sample(lista3, 40))\n",
        "\n",
        "# Metricas amostra 1\n",
        "mean_amostra3 = np.round(np.mean(amostra3),2)\n",
        "var_amostra3 = np.round(np.var(amostra3),2)\n",
        "\n",
        "# Print das metricas da amostra\n",
        "print('Amostra 3 com {} elementos'.format(40))\n",
        "print('Média:     ', mean_amostra3)\n",
        "print('Variância: ', var_amostra3)\n",
        "print('=================================')"
      ],
      "metadata": {
        "id": "xD9iQ8rQ95Up",
        "outputId": "f06066b9-33bc-463f-afb0-dc71764a8767",
        "colab": {
          "base_uri": "https://localhost:8080/"
        }
      },
      "id": "xD9iQ8rQ95Up",
      "execution_count": 12,
      "outputs": [
        {
          "output_type": "stream",
          "name": "stdout",
          "text": [
            "Amostra 1 com 100 elementos\n",
            "Média:      44.82\n",
            "Variância:  7.71\n",
            "=================================\n",
            "Amostra 2 com 60 elementos\n",
            "Média:      13.87\n",
            "Variância:  7.38\n",
            "=================================\n",
            "Amostra 3 com 40 elementos\n",
            "Média:      84.88\n",
            "Variância:  8.26\n",
            "=================================\n"
          ]
        }
      ]
    },
    {
      "cell_type": "code",
      "source": [
        "# Média Ponderada das listas\n",
        "mean_amostra_N = p1*mean_amostra1 + p2*mean_amostra2 + p3*mean_amostra3\n",
        "\n",
        "# Variância Ponderada das listas\n",
        "var_amostra_N = var_amostra1 + var_amostra2 + var_amostra3\n",
        "\n",
        "# Print das métricas da população\n",
        "print('Métricas da Amostra total: ')\n",
        "print('Amostra com {} elementos'.format(200))\n",
        "print('Média Ponderada:     ', mean_amostra_N)\n",
        "print('Variância Ponderada: ', var_amostra_N)"
      ],
      "metadata": {
        "id": "egfiD4if-hls",
        "outputId": "7d284339-92f9-45c9-cf89-6d97b7396f92",
        "colab": {
          "base_uri": "https://localhost:8080/"
        }
      },
      "id": "egfiD4if-hls",
      "execution_count": 13,
      "outputs": [
        {
          "output_type": "stream",
          "name": "stdout",
          "text": [
            "Métricas da Amostra total: \n",
            "Amostra com 200 elementos\n",
            "Média Ponderada:      43.547\n",
            "Variância Ponderada:  23.35\n"
          ]
        }
      ]
    },
    {
      "cell_type": "markdown",
      "source": [
        "__F)__ Compare o resultado das métricas para a amostra e a amostra estratificada com o valor das métricas da população."
      ],
      "metadata": {
        "id": "LrUIS8os9ie9"
      },
      "id": "LrUIS8os9ie9"
    },
    {
      "cell_type": "markdown",
      "source": [
        "Os resultados para amostras estratificada ficou bem mais próximo do que para uma maostragem simples, principalmente levando em consideração a variância. O que demonstra a importância de levarmos em consideração uma amostra estratificada quando sabemos que tem grupos bem definidos e distintos dentro da população."
      ],
      "metadata": {
        "id": "RKp5cKyz-j9h"
      },
      "id": "RKp5cKyz-j9h"
    },
    {
      "cell_type": "markdown",
      "id": "2e3a7b3a",
      "metadata": {
        "id": "2e3a7b3a"
      },
      "source": [
        "### Questão 3"
      ]
    },
    {
      "cell_type": "markdown",
      "id": "8d8b9db9",
      "metadata": {
        "id": "8d8b9db9"
      },
      "source": [
        " Uma máquina de sorvete está regulada de modo a servir uma média de 120g por casquinha. Se a quantidade servida por casquinha seguir uma distribuição normal com desvio padrão de 18g, determine a porcentagem de casquinhas que conterão mais de 150g de sorvete."
      ]
    },
    {
      "cell_type": "markdown",
      "source": [
        "Sabendo que as casquinhas seguem uma distribuição normal, temos que:\n",
        "\n",
        "$$\n",
        "P(X \\geq 150) = P\\left( \\frac{X-\\mu}{\\sigma}\\geq \\frac{150-\\mu}{\\sigma}\\right) = P\\left( Z \\geq \\frac{150-\\mu}{\\sigma}\\right) = 1 - P\\left( Z < \\frac{150-\\mu}{\\sigma}\\right)\n",
        "$$"
      ],
      "metadata": {
        "id": "9tkZ6UKH-qe_"
      },
      "id": "9tkZ6UKH-qe_"
    },
    {
      "cell_type": "code",
      "execution_count": 14,
      "id": "3b3ff14e",
      "metadata": {
        "id": "3b3ff14e",
        "outputId": "2ea96240-524a-4817-f807-f0b24897e063",
        "colab": {
          "base_uri": "https://localhost:8080/"
        }
      },
      "outputs": [
        {
          "output_type": "stream",
          "name": "stdout",
          "text": [
            "A probabilidade de ter mais que 150g é igual a:  4.78 %\n"
          ]
        }
      ],
      "source": [
        "import scipy.stats as st\n",
        "import numpy as np\n",
        "\n",
        "# Definindo as metricas\n",
        "media = 120\n",
        "dp = 18\n",
        "\n",
        "# Calculand o valor Z para o nosso caso\n",
        "z = (150-media)/dp\n",
        "\n",
        "print('A probabilidade de ter mais que 150g é igual a: ', np.round((1-st.norm.cdf(z))*100, 2), '%')"
      ]
    },
    {
      "cell_type": "markdown",
      "id": "18951732",
      "metadata": {
        "id": "18951732"
      },
      "source": [
        "### Questão 4"
      ]
    },
    {
      "cell_type": "markdown",
      "id": "91d33a4a",
      "metadata": {
        "id": "91d33a4a"
      },
      "source": [
        "O peso médio de 500 estudantes do sexo masculino de uma determinada universidade é 71 Kg e o desvio padrão é 5,3 Kg. Admitindo que os pesos são normalmente distribuídos, determine a oercentagem de estudantes que pesam entre 65 e 72,5 kg"
      ]
    },
    {
      "cell_type": "markdown",
      "source": [
        "Sabendo que os pesos dos estudantes seguem uma distribuição normal, temos que:\n",
        "\n",
        "$$\n",
        "P(65 \\leq X \\leq 72,5) = P\\left(\\frac{65-\\mu}{\\sigma} \\leq \\frac{X-\\mu}{\\sigma} \\leq \\frac{72,5-\\mu}{\\sigma}\\right)=P\\left(\\frac{65-\\mu}{\\sigma} \\leq Z \\leq \\frac{72,5-\\mu}{\\sigma}\\right) = \n",
        "$$\n",
        "$$\n",
        "= P\\left(Z \\leq \\frac{72,5-\\mu}{\\sigma}\\right)-P\\left( Z \\leq \\frac{65-\\mu}{\\sigma}\\right)\n",
        "$$"
      ],
      "metadata": {
        "id": "ekzsTTXh-v7F"
      },
      "id": "ekzsTTXh-v7F"
    },
    {
      "cell_type": "code",
      "execution_count": 15,
      "id": "9dcf53ee",
      "metadata": {
        "id": "9dcf53ee",
        "outputId": "d883e695-4ac9-4e54-fd51-fc4b4965f23b",
        "colab": {
          "base_uri": "https://localhost:8080/"
        }
      },
      "outputs": [
        {
          "output_type": "stream",
          "name": "stdout",
          "text": [
            "Probabilidade: 48.26 %\n"
          ]
        }
      ],
      "source": [
        "# importando as bilbiotecas\n",
        "import scipy.stats as st\n",
        "import numpy as np\n",
        "\n",
        "# Definindo as métricas\n",
        "media = 71\n",
        "dp = 5.3\n",
        "\n",
        "#Calculando Z1 e Z2\n",
        "z1 = (65-media)/dp\n",
        "z2 = (72.5-media)/dp\n",
        "\n",
        "# Print do resultado\n",
        "print('Probabilidade:',np.round((st.norm.cdf(z2)-st.norm.cdf(z1))*100, 2), '%')"
      ]
    },
    {
      "cell_type": "markdown",
      "id": "49a54c36",
      "metadata": {
        "id": "49a54c36"
      },
      "source": [
        "### Questão 5"
      ]
    },
    {
      "cell_type": "markdown",
      "id": "ad7af421",
      "metadata": {
        "id": "ad7af421"
      },
      "source": [
        "Uma fábrica anuncia que o índice de cafeína em um refrigerante de uma dada marca é igual a 20 mg por lata. Um laboratório realiza 20 análises do índice obtendo: 22, 19, 21, 22, 20, 18, 27, 20, 21, 19, 20, 22, 17, 20, 21,18, 25, 16, 20, 21. Sabe-se que o índice de cafeína do refrigerante dessa marca se distribui normalmente com variância 4 mg$^2$. Pode-se aceitar a afirmação do fabricante, ao nível de 5%?"
      ]
    },
    {
      "cell_type": "markdown",
      "source": [
        "Teremos um teste de hipótese para uma distribuição que seguem o comportamento de uma distribuição normal, onde as hipóteses a serem testadas são:\n",
        "\n",
        "$H_0: \\mu = 20$<br>\n",
        "$H_1: \\mu > 20$"
      ],
      "metadata": {
        "id": "i9dy9rIF-1C_"
      },
      "id": "i9dy9rIF-1C_"
    },
    {
      "cell_type": "code",
      "source": [
        "# Import das libs\n",
        "import numpy as np\n",
        "import matplotlib.pyplot as plt"
      ],
      "metadata": {
        "id": "m8jFqcxd-0zF"
      },
      "id": "m8jFqcxd-0zF",
      "execution_count": 16,
      "outputs": []
    },
    {
      "cell_type": "code",
      "execution_count": 17,
      "id": "46281c0d",
      "metadata": {
        "id": "46281c0d",
        "outputId": "aadfadfd-1a29-4159-86fb-fd1e2913a287",
        "colab": {
          "base_uri": "https://localhost:8080/",
          "height": 307
        }
      },
      "outputs": [
        {
          "output_type": "display_data",
          "data": {
            "text/plain": [
              "<Figure size 576x288 with 1 Axes>"
            ],
            "image/png": "[encoded data removed]"
          },
          "metadata": {
            "needs_background": "light"
          }
        }
      ],
      "source": [
        "# Define uma semente aleatória\n",
        "np.random.seed(0)\n",
        "\n",
        "# Define os parâmetros\n",
        "mu = 20    # hipotese a ser testada\n",
        "sigma = 2  # desvio padrao populacional\n",
        "n = 20     # tamanho da amostra\n",
        "Ns = 1000  # numero de simulacoes\n",
        "Xm=[]      # distribuicao da media amostral\n",
        "\n",
        "# loop para gerar diversas amostras para o nosso teste\n",
        "for s in range(1, Ns):\n",
        "    x = np.random.normal(mu, sigma, n) # sorteia uma amostra de tamanho n\n",
        "    Xm.append(np.mean(x))\n",
        "\n",
        "# Define o tamanho do gráfico    \n",
        "plt.figure(figsize=(8,4))\n",
        "\n",
        "# Plot do histograma\n",
        "a = plt.hist(x=Xm, bins=20, color='#0504aa', alpha=0.7, rwidth=0.85, label = str(Ns), density=True)\n",
        "\n",
        "# Plot da linha média\n",
        "plt.axvline(x=mu, color='r', linestyle='--', label = 'Media')\n",
        "\n",
        "# cria um titulo\n",
        "plt.title('Simulação - Distribuição do Sorvete')\n",
        "\n",
        "# Nome do eixo X\n",
        "plt.xlabel(r'$\\bar{X}$', fontsize=20)\n",
        "\n",
        "# nome do eixo Y\n",
        "plt.ylabel(r'$P(\\bar{X})$', fontsize=20)\n",
        "\n",
        "# Mostra o gráfico\n",
        "plt.show()  "
      ]
    },
    {
      "cell_type": "markdown",
      "source": [
        "Depois de gerar as amostras, vamos verificar a fração de observações que permitem que verifiquemos $H_0$."
      ],
      "metadata": {
        "id": "lV7PmuJq-8Mz"
      },
      "id": "lV7PmuJq-8Mz"
    },
    {
      "cell_type": "code",
      "source": [
        "# Amostra\n",
        "X = [22, 19, 21, 22, 20, 18, 27, 20, 21, 19, 20, 22, 17, 20, 21,18, 25, 16, 20, 21]\n",
        "\n",
        "# Média Amostra\n",
        "xobs = np.mean(X)\n",
        "\n",
        "# Intervalo de confiança\n",
        "alpha = 95\n",
        "\n",
        "# Valor Crítico\n",
        "xc = np.percentile(Xm, alpha)\n",
        "print('Xc=', xc, '  Xobs = ', xobs)\n",
        "\n",
        "# Verifica se acieta ou rejeita H0\n",
        "if(xobs < xc):\n",
        "    print(\"Aceitamos H0\")\n",
        "else:\n",
        "    print(\"Rejeitamos H0\")"
      ],
      "metadata": {
        "id": "dxwc_kNN-9Q9",
        "outputId": "218f8474-dda5-4785-e648-6cec729a5726",
        "colab": {
          "base_uri": "https://localhost:8080/"
        }
      },
      "id": "dxwc_kNN-9Q9",
      "execution_count": 18,
      "outputs": [
        {
          "output_type": "stream",
          "name": "stdout",
          "text": [
            "Xc= 20.730112413622226   Xobs =  20.45\n",
            "Aceitamos H0\n"
          ]
        }
      ]
    },
    {
      "cell_type": "markdown",
      "source": [
        "Podemos ainda ver esse resultado na figura."
      ],
      "metadata": {
        "id": "9vDmw1qT_CXa"
      },
      "id": "9vDmw1qT_CXa"
    },
    {
      "cell_type": "code",
      "source": [
        "# Define o tamanho do gráfico    \n",
        "plt.figure(figsize=(8,4))\n",
        "\n",
        "# Plot do histograma\n",
        "a = plt.hist(x=Xm, bins=20, color='#0504aa', alpha=0.7, rwidth=0.85, label = str(Ns), density=True)\n",
        "\n",
        "# Plot da linha critica e observada\n",
        "plt.axvline(x=xc, color='red', linestyle='--', label = 'xc1')\n",
        "plt.axvline(x=xobs, color='green', linestyle='--', label = 'xobs')\n",
        "\n",
        "# cria um titulo\n",
        "plt.title('Simulação - Distribuição do Sorvete')\n",
        "\n",
        "# Nome do eixo X\n",
        "plt.xlabel(r'$\\bar{X}$', fontsize=20)\n",
        "\n",
        "# nome do eixo Y\n",
        "plt.ylabel(r'$P(\\bar{X})$', fontsize=20)\n",
        "\n",
        "#Cria a legenda\n",
        "plt.legend()\n",
        "\n",
        "# Mostra o gráfico\n",
        "plt.show()  "
      ],
      "metadata": {
        "id": "rW8U6iOR_EIZ",
        "outputId": "cecbd1a7-6e82-416a-ccc2-82493ad6e908",
        "colab": {
          "base_uri": "https://localhost:8080/",
          "height": 307
        }
      },
      "id": "rW8U6iOR_EIZ",
      "execution_count": 19,
      "outputs": [
        {
          "output_type": "display_data",
          "data": {
            "text/plain": [
              "<Figure size 576x288 with 1 Axes>"
            ],
            "image/png": "[encoded data removed]"
          },
          "metadata": {
            "needs_background": "light"
          }
        }
      ]
    }
  ],
  "metadata": {
    "kernelspec": {
      "display_name": "Python 3 (ipykernel)",
      "language": "python",
      "name": "python3"
    },
    "language_info": {
      "codemirror_mode": {
        "name": "ipython",
        "version": 3
      },
      "file_extension": ".py",
      "mimetype": "text/x-python",
      "name": "python",
      "nbconvert_exporter": "python",
      "pygments_lexer": "ipython3",
      "version": "3.9.7"
    },
    "varInspector": {
      "cols": {
        "lenName": 16,
        "lenType": 16,
        "lenVar": 40
      },
      "kernels_config": {
        "python": {
          "delete_cmd_postfix": "",
          "delete_cmd_prefix": "del ",
          "library": "var_list.py",
          "varRefreshCmd": "print(var_dic_list())"
        },
        "r": {
          "delete_cmd_postfix": ") ",
          "delete_cmd_prefix": "rm(",
          "library": "var_list.r",
          "varRefreshCmd": "cat(var_dic_list()) "
        }
      },
      "types_to_exclude": [
        "module",
        "function",
        "builtin_function_or_method",
        "instance",
        "_Feature"
      ],
      "window_display": false
    },
    "colab": {
      "provenance": []
    }
  },
  "nbformat": 4,
  "nbformat_minor": 5
}