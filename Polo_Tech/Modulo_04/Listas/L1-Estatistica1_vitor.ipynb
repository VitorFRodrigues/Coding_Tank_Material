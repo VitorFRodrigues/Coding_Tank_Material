{
  "cells": [
    {
      "cell_type": "markdown",
      "id": "bf41096b",
      "metadata": {
        "id": "bf41096b"
      },
      "source": [
        "# Exercícios - Estatística I"
      ]
    },
    {
      "cell_type": "markdown",
      "id": "dc9efb9e",
      "metadata": {
        "id": "dc9efb9e"
      },
      "source": [
        "### Questão 1"
      ]
    },
    {
      "cell_type": "markdown",
      "id": "f0f7505b",
      "metadata": {
        "id": "f0f7505b"
      },
      "source": [
        "Os exercícios de 1 a 5 serão desenvolvidos utilizando o _dataset_ `Titanic.csv`:\n",
        "    \n",
        "Calcule a frequência absoluta para os sobreviventes no _Titanic_.\n",
        "\n",
        "__Dica.:__ Utilize a função `.value_counts()`"
      ]
    },
    {
      "cell_type": "markdown",
      "id": "02cce555",
      "metadata": {
        "id": "02cce555"
      },
      "source": [
        "Carregando as principais bibliotecas que iremos utilizar:"
      ]
    },
    {
      "cell_type": "code",
      "execution_count": 1,
      "id": "35fab489",
      "metadata": {
        "ExecuteTime": {
          "end_time": "2021-10-08T18:56:44.331870Z",
          "start_time": "2021-10-08T18:56:39.679403Z"
        },
        "id": "35fab489",
        "outputId": "35cd9914-22cd-445b-c673-a78baf73aadc",
        "colab": {
          "base_uri": "https://localhost:8080/",
          "height": 206
        }
      },
      "outputs": [
        {
          "output_type": "execute_result",
          "data": {
            "text/plain": [
              "   survived  pclass     sex   age  sibsp  parch     fare embarked  class  \\\n",
              "0         0       3    male  22.0      1      0   7.2500        S  Third   \n",
              "1         1       1  female  38.0      1      0  71.2833        C  First   \n",
              "2         1       3  female  26.0      0      0   7.9250        S  Third   \n",
              "3         1       1  female  35.0      1      0  53.1000        S  First   \n",
              "4         0       3    male  35.0      0      0   8.0500        S  Third   \n",
              "\n",
              "     who  adult_male deck  embark_town alive  alone  \n",
              "0    man        True  NaN  Southampton    no  False  \n",
              "1  woman       False    C    Cherbourg   yes  False  \n",
              "2  woman       False  NaN  Southampton   yes   True  \n",
              "3  woman       False    C  Southampton   yes  False  \n",
              "4    man        True  NaN  Southampton    no   True  "
            ],
            "text/html": [
              "\n",
              "  <div id=\"df-3170483c-5a4f-4e55-bb21-666f86f3e047\">\n",
              "    <div class=\"colab-df-container\">\n",
              "      <div>\n",
              "<style scoped>\n",
              "    .dataframe tbody tr th:only-of-type {\n",
              "        vertical-align: middle;\n",
              "    }\n",
              "\n",
              "    .dataframe tbody tr th {\n",
              "        vertical-align: top;\n",
              "    }\n",
              "\n",
              "    .dataframe thead th {\n",
              "        text-align: right;\n",
              "    }\n",
              "</style>\n",
              "<table border=\"1\" class=\"dataframe\">\n",
              "  <thead>\n",
              "    <tr style=\"text-align: right;\">\n",
              "      <th></th>\n",
              "      <th>survived</th>\n",
              "      <th>pclass</th>\n",
              "      <th>sex</th>\n",
              "      <th>age</th>\n",
              "      <th>sibsp</th>\n",
              "      <th>parch</th>\n",
              "      <th>fare</th>\n",
              "      <th>embarked</th>\n",
              "      <th>class</th>\n",
              "      <th>who</th>\n",
              "      <th>adult_male</th>\n",
              "      <th>deck</th>\n",
              "      <th>embark_town</th>\n",
              "      <th>alive</th>\n",
              "      <th>alone</th>\n",
              "    </tr>\n",
              "  </thead>\n",
              "  <tbody>\n",
              "    <tr>\n",
              "      <th>0</th>\n",
              "      <td>0</td>\n",
              "      <td>3</td>\n",
              "      <td>male</td>\n",
              "      <td>22.0</td>\n",
              "      <td>1</td>\n",
              "      <td>0</td>\n",
              "      <td>7.2500</td>\n",
              "      <td>S</td>\n",
              "      <td>Third</td>\n",
              "      <td>man</td>\n",
              "      <td>True</td>\n",
              "      <td>NaN</td>\n",
              "      <td>Southampton</td>\n",
              "      <td>no</td>\n",
              "      <td>False</td>\n",
              "    </tr>\n",
              "    <tr>\n",
              "      <th>1</th>\n",
              "      <td>1</td>\n",
              "      <td>1</td>\n",
              "      <td>female</td>\n",
              "      <td>38.0</td>\n",
              "      <td>1</td>\n",
              "      <td>0</td>\n",
              "      <td>71.2833</td>\n",
              "      <td>C</td>\n",
              "      <td>First</td>\n",
              "      <td>woman</td>\n",
              "      <td>False</td>\n",
              "      <td>C</td>\n",
              "      <td>Cherbourg</td>\n",
              "      <td>yes</td>\n",
              "      <td>False</td>\n",
              "    </tr>\n",
              "    <tr>\n",
              "      <th>2</th>\n",
              "      <td>1</td>\n",
              "      <td>3</td>\n",
              "      <td>female</td>\n",
              "      <td>26.0</td>\n",
              "      <td>0</td>\n",
              "      <td>0</td>\n",
              "      <td>7.9250</td>\n",
              "      <td>S</td>\n",
              "      <td>Third</td>\n",
              "      <td>woman</td>\n",
              "      <td>False</td>\n",
              "      <td>NaN</td>\n",
              "      <td>Southampton</td>\n",
              "      <td>yes</td>\n",
              "      <td>True</td>\n",
              "    </tr>\n",
              "    <tr>\n",
              "      <th>3</th>\n",
              "      <td>1</td>\n",
              "      <td>1</td>\n",
              "      <td>female</td>\n",
              "      <td>35.0</td>\n",
              "      <td>1</td>\n",
              "      <td>0</td>\n",
              "      <td>53.1000</td>\n",
              "      <td>S</td>\n",
              "      <td>First</td>\n",
              "      <td>woman</td>\n",
              "      <td>False</td>\n",
              "      <td>C</td>\n",
              "      <td>Southampton</td>\n",
              "      <td>yes</td>\n",
              "      <td>False</td>\n",
              "    </tr>\n",
              "    <tr>\n",
              "      <th>4</th>\n",
              "      <td>0</td>\n",
              "      <td>3</td>\n",
              "      <td>male</td>\n",
              "      <td>35.0</td>\n",
              "      <td>0</td>\n",
              "      <td>0</td>\n",
              "      <td>8.0500</td>\n",
              "      <td>S</td>\n",
              "      <td>Third</td>\n",
              "      <td>man</td>\n",
              "      <td>True</td>\n",
              "      <td>NaN</td>\n",
              "      <td>Southampton</td>\n",
              "      <td>no</td>\n",
              "      <td>True</td>\n",
              "    </tr>\n",
              "  </tbody>\n",
              "</table>\n",
              "</div>\n",
              "      <button class=\"colab-df-convert\" onclick=\"convertToInteractive('df-3170483c-5a4f-4e55-bb21-666f86f3e047')\"\n",
              "              title=\"Convert this dataframe to an interactive table.\"\n",
              "              style=\"display:none;\">\n",
              "        \n",
              "  <svg xmlns=\"http://www.w3.org/2000/svg\" height=\"24px\"viewBox=\"0 0 24 24\"\n",
              "       width=\"24px\">\n",
              "    <path d=\"M0 0h24v24H0V0z\" fill=\"none\"/>\n",
              "    <path d=\"M18.56 5.44l.94 2.06.94-2.06 2.06-.94-2.06-.94-.94-2.06-.94 2.06-2.06.94zm-11 1L8.5 8.5l.94-2.06 2.06-.94-2.06-.94L8.5 2.5l-.94 2.06-2.06.94zm10 10l.94 2.06.94-2.06 2.06-.94-2.06-.94-.94-2.06-.94 2.06-2.06.94z\"/><path d=\"M17.41 7.96l-1.37-1.37c-.4-.4-.92-.59-1.43-.59-.52 0-1.04.2-1.43.59L10.3 9.45l-7.72 7.72c-.78.78-.78 2.05 0 2.83L4 21.41c.39.39.9.59 1.41.59.51 0 1.02-.2 1.41-.59l7.78-7.78 2.81-2.81c.8-.78.8-2.07 0-2.86zM5.41 20L4 18.59l7.72-7.72 1.47 1.35L5.41 20z\"/>\n",
              "  </svg>\n",
              "      </button>\n",
              "      \n",
              "  <style>\n",
              "    .colab-df-container {\n",
              "      display:flex;\n",
              "      flex-wrap:wrap;\n",
              "      gap: 12px;\n",
              "    }\n",
              "\n",
              "    .colab-df-convert {\n",
              "      background-color: #E8F0FE;\n",
              "      border: none;\n",
              "      border-radius: 50%;\n",
              "      cursor: pointer;\n",
              "      display: none;\n",
              "      fill: #1967D2;\n",
              "      height: 32px;\n",
              "      padding: 0 0 0 0;\n",
              "      width: 32px;\n",
              "    }\n",
              "\n",
              "    .colab-df-convert:hover {\n",
              "      background-color: #E2EBFA;\n",
              "      box-shadow: 0px 1px 2px rgba(60, 64, 67, 0.3), 0px 1px 3px 1px rgba(60, 64, 67, 0.15);\n",
              "      fill: #174EA6;\n",
              "    }\n",
              "\n",
              "    [theme=dark] .colab-df-convert {\n",
              "      background-color: #3B4455;\n",
              "      fill: #D2E3FC;\n",
              "    }\n",
              "\n",
              "    [theme=dark] .colab-df-convert:hover {\n",
              "      background-color: #434B5C;\n",
              "      box-shadow: 0px 1px 3px 1px rgba(0, 0, 0, 0.15);\n",
              "      filter: drop-shadow(0px 1px 2px rgba(0, 0, 0, 0.3));\n",
              "      fill: #FFFFFF;\n",
              "    }\n",
              "  </style>\n",
              "\n",
              "      <script>\n",
              "        const buttonEl =\n",
              "          document.querySelector('#df-3170483c-5a4f-4e55-bb21-666f86f3e047 button.colab-df-convert');\n",
              "        buttonEl.style.display =\n",
              "          google.colab.kernel.accessAllowed ? 'block' : 'none';\n",
              "\n",
              "        async function convertToInteractive(key) {\n",
              "          const element = document.querySelector('#df-3170483c-5a4f-4e55-bb21-666f86f3e047');\n",
              "          const dataTable =\n",
              "            await google.colab.kernel.invokeFunction('convertToInteractive',\n",
              "                                                     [key], {});\n",
              "          if (!dataTable) return;\n",
              "\n",
              "          const docLinkHtml = 'Like what you see? Visit the ' +\n",
              "            '<a target=\"_blank\" href=https://colab.research.google.com/notebooks/data_table.ipynb>data table notebook</a>'\n",
              "            + ' to learn more about interactive tables.';\n",
              "          element.innerHTML = '';\n",
              "          dataTable['output_type'] = 'display_data';\n",
              "          await google.colab.output.renderOutput(dataTable, element);\n",
              "          const docLink = document.createElement('div');\n",
              "          docLink.innerHTML = docLinkHtml;\n",
              "          element.appendChild(docLink);\n",
              "        }\n",
              "      </script>\n",
              "    </div>\n",
              "  </div>\n",
              "  "
            ]
          },
          "metadata": {},
          "execution_count": 1
        }
      ],
      "source": [
        "import pandas as pd\n",
        "import numpy as np\n",
        "import matplotlib.pyplot as plt\n",
        "import seaborn as sns\n",
        "\n",
        "dados = sns.load_dataset('titanic')\n",
        "dados.head()"
      ]
    },
    {
      "cell_type": "code",
      "source": [
        "# Frequencia Absoluta\n",
        "for col in dados.query(\"survived == 1\").columns[1:]:\n",
        "  print(dados.query(\"survived == 1\")[col].value_counts())\n",
        "  print('-'*50)"
      ],
      "metadata": {
        "id": "vxatArx0l4tj",
        "outputId": "d531ae5c-b449-4764-a606-057756b7c637",
        "colab": {
          "base_uri": "https://localhost:8080/"
        }
      },
      "id": "vxatArx0l4tj",
      "execution_count": 2,
      "outputs": [
        {
          "output_type": "stream",
          "name": "stdout",
          "text": [
            "1    136\n",
            "3    119\n",
            "2     87\n",
            "Name: pclass, dtype: int64\n",
            "--------------------------------------------------\n",
            "female    233\n",
            "male      109\n",
            "Name: sex, dtype: int64\n",
            "--------------------------------------------------\n",
            "24.00    15\n",
            "36.00    11\n",
            "35.00    11\n",
            "27.00    11\n",
            "22.00    11\n",
            "         ..\n",
            "55.00     1\n",
            "32.50     1\n",
            "12.00     1\n",
            "0.92      1\n",
            "47.00     1\n",
            "Name: age, Length: 65, dtype: int64\n",
            "--------------------------------------------------\n",
            "0    210\n",
            "1    112\n",
            "2     13\n",
            "3      4\n",
            "4      3\n",
            "Name: sibsp, dtype: int64\n",
            "--------------------------------------------------\n",
            "0    233\n",
            "1     65\n",
            "2     40\n",
            "3      3\n",
            "5      1\n",
            "Name: parch, dtype: int64\n",
            "--------------------------------------------------\n",
            "13.0000     16\n",
            "26.0000     15\n",
            "7.7500      12\n",
            "10.5000      9\n",
            "26.5500      8\n",
            "            ..\n",
            "55.4417      1\n",
            "75.2500      1\n",
            "108.9000     1\n",
            "247.5208     1\n",
            "24.0000      1\n",
            "Name: fare, Length: 153, dtype: int64\n",
            "--------------------------------------------------\n",
            "S    217\n",
            "C     93\n",
            "Q     30\n",
            "Name: embarked, dtype: int64\n",
            "--------------------------------------------------\n",
            "First     136\n",
            "Third     119\n",
            "Second     87\n",
            "Name: class, dtype: int64\n",
            "--------------------------------------------------\n",
            "woman    205\n",
            "man       88\n",
            "child     49\n",
            "Name: who, dtype: int64\n",
            "--------------------------------------------------\n",
            "False    254\n",
            "True      88\n",
            "Name: adult_male, dtype: int64\n",
            "--------------------------------------------------\n",
            "B    35\n",
            "C    35\n",
            "D    25\n",
            "E    24\n",
            "F     8\n",
            "A     7\n",
            "G     2\n",
            "Name: deck, dtype: int64\n",
            "--------------------------------------------------\n",
            "Southampton    217\n",
            "Cherbourg       93\n",
            "Queenstown      30\n",
            "Name: embark_town, dtype: int64\n",
            "--------------------------------------------------\n",
            "yes    342\n",
            "Name: alive, dtype: int64\n",
            "--------------------------------------------------\n",
            "False    179\n",
            "True     163\n",
            "Name: alone, dtype: int64\n",
            "--------------------------------------------------\n"
          ]
        }
      ]
    },
    {
      "cell_type": "markdown",
      "id": "70fbcc9a",
      "metadata": {
        "id": "70fbcc9a"
      },
      "source": [
        "### Questão 2"
      ]
    },
    {
      "cell_type": "markdown",
      "id": "26ebb4fc",
      "metadata": {
        "id": "26ebb4fc"
      },
      "source": [
        "Os exercícios de 1 a 5 serão desenvolvidos utilizando o _dataset_ `Titanic.csv`:\n",
        "    \n",
        "Calcule a frequência relativa, relativa percentual e acumulativa para os sobreviventes no _Titanic_.\n",
        "\n",
        "__Dica.:__ Utilize a função `.value_counts()`"
      ]
    },
    {
      "cell_type": "code",
      "execution_count": 3,
      "id": "1b111474",
      "metadata": {
        "id": "1b111474",
        "outputId": "c39096e2-c2fe-42f5-803e-780c1ba4e681",
        "colab": {
          "base_uri": "https://localhost:8080/"
        }
      },
      "outputs": [
        {
          "output_type": "stream",
          "name": "stdout",
          "text": [
            "1    0.397661\n",
            "3    0.347953\n",
            "2    0.254386\n",
            "Name: pclass, dtype: float64\n",
            "--------------------------------------------------\n",
            "female    0.681287\n",
            "male      0.318713\n",
            "Name: sex, dtype: float64\n",
            "--------------------------------------------------\n",
            "24.00    0.051724\n",
            "36.00    0.037931\n",
            "35.00    0.037931\n",
            "27.00    0.037931\n",
            "22.00    0.037931\n",
            "           ...   \n",
            "55.00    0.003448\n",
            "32.50    0.003448\n",
            "12.00    0.003448\n",
            "0.92     0.003448\n",
            "47.00    0.003448\n",
            "Name: age, Length: 65, dtype: float64\n",
            "--------------------------------------------------\n",
            "0    0.614035\n",
            "1    0.327485\n",
            "2    0.038012\n",
            "3    0.011696\n",
            "4    0.008772\n",
            "Name: sibsp, dtype: float64\n",
            "--------------------------------------------------\n",
            "0    0.681287\n",
            "1    0.190058\n",
            "2    0.116959\n",
            "3    0.008772\n",
            "5    0.002924\n",
            "Name: parch, dtype: float64\n",
            "--------------------------------------------------\n",
            "13.0000     0.046784\n",
            "26.0000     0.043860\n",
            "7.7500      0.035088\n",
            "10.5000     0.026316\n",
            "26.5500     0.023392\n",
            "              ...   \n",
            "55.4417     0.002924\n",
            "75.2500     0.002924\n",
            "108.9000    0.002924\n",
            "247.5208    0.002924\n",
            "24.0000     0.002924\n",
            "Name: fare, Length: 153, dtype: float64\n",
            "--------------------------------------------------\n",
            "S    0.638235\n",
            "C    0.273529\n",
            "Q    0.088235\n",
            "Name: embarked, dtype: float64\n",
            "--------------------------------------------------\n",
            "First     0.397661\n",
            "Third     0.347953\n",
            "Second    0.254386\n",
            "Name: class, dtype: float64\n",
            "--------------------------------------------------\n",
            "woman    0.599415\n",
            "man      0.257310\n",
            "child    0.143275\n",
            "Name: who, dtype: float64\n",
            "--------------------------------------------------\n",
            "False    0.74269\n",
            "True     0.25731\n",
            "Name: adult_male, dtype: float64\n",
            "--------------------------------------------------\n",
            "B    0.257353\n",
            "C    0.257353\n",
            "D    0.183824\n",
            "E    0.176471\n",
            "F    0.058824\n",
            "A    0.051471\n",
            "G    0.014706\n",
            "Name: deck, dtype: float64\n",
            "--------------------------------------------------\n",
            "Southampton    0.638235\n",
            "Cherbourg      0.273529\n",
            "Queenstown     0.088235\n",
            "Name: embark_town, dtype: float64\n",
            "--------------------------------------------------\n",
            "yes    1.0\n",
            "Name: alive, dtype: float64\n",
            "--------------------------------------------------\n",
            "False    0.523392\n",
            "True     0.476608\n",
            "Name: alone, dtype: float64\n",
            "--------------------------------------------------\n"
          ]
        }
      ],
      "source": [
        "# Frequencia Relativa\n",
        "for col in dados.query(\"survived == 1\").columns[1:]:\n",
        "  print(dados.query(\"survived == 1\")[col].value_counts() / dados.query(\"survived == 1\")[col].value_counts().sum())\n",
        "  print('-'*50)"
      ]
    },
    {
      "cell_type": "code",
      "source": [
        "# Frequencia Relativa Percentual\n",
        "for col in dados.query(\"survived == 1\").columns[1:]:\n",
        "  print(dados.query(\"survived == 1\")[col].value_counts() / dados.query(\"survived == 1\")[col].value_counts().sum() * 100)\n",
        "  print('-'*50)"
      ],
      "metadata": {
        "id": "hjt3sEdhqlPW",
        "outputId": "dee01ee5-1f00-4140-f244-1bca2b60349f",
        "colab": {
          "base_uri": "https://localhost:8080/"
        }
      },
      "id": "hjt3sEdhqlPW",
      "execution_count": 4,
      "outputs": [
        {
          "output_type": "stream",
          "name": "stdout",
          "text": [
            "1    39.766082\n",
            "3    34.795322\n",
            "2    25.438596\n",
            "Name: pclass, dtype: float64\n",
            "--------------------------------------------------\n",
            "female    68.128655\n",
            "male      31.871345\n",
            "Name: sex, dtype: float64\n",
            "--------------------------------------------------\n",
            "24.00    5.172414\n",
            "36.00    3.793103\n",
            "35.00    3.793103\n",
            "27.00    3.793103\n",
            "22.00    3.793103\n",
            "           ...   \n",
            "55.00    0.344828\n",
            "32.50    0.344828\n",
            "12.00    0.344828\n",
            "0.92     0.344828\n",
            "47.00    0.344828\n",
            "Name: age, Length: 65, dtype: float64\n",
            "--------------------------------------------------\n",
            "0    61.403509\n",
            "1    32.748538\n",
            "2     3.801170\n",
            "3     1.169591\n",
            "4     0.877193\n",
            "Name: sibsp, dtype: float64\n",
            "--------------------------------------------------\n",
            "0    68.128655\n",
            "1    19.005848\n",
            "2    11.695906\n",
            "3     0.877193\n",
            "5     0.292398\n",
            "Name: parch, dtype: float64\n",
            "--------------------------------------------------\n",
            "13.0000     4.678363\n",
            "26.0000     4.385965\n",
            "7.7500      3.508772\n",
            "10.5000     2.631579\n",
            "26.5500     2.339181\n",
            "              ...   \n",
            "55.4417     0.292398\n",
            "75.2500     0.292398\n",
            "108.9000    0.292398\n",
            "247.5208    0.292398\n",
            "24.0000     0.292398\n",
            "Name: fare, Length: 153, dtype: float64\n",
            "--------------------------------------------------\n",
            "S    63.823529\n",
            "C    27.352941\n",
            "Q     8.823529\n",
            "Name: embarked, dtype: float64\n",
            "--------------------------------------------------\n",
            "First     39.766082\n",
            "Third     34.795322\n",
            "Second    25.438596\n",
            "Name: class, dtype: float64\n",
            "--------------------------------------------------\n",
            "woman    59.941520\n",
            "man      25.730994\n",
            "child    14.327485\n",
            "Name: who, dtype: float64\n",
            "--------------------------------------------------\n",
            "False    74.269006\n",
            "True     25.730994\n",
            "Name: adult_male, dtype: float64\n",
            "--------------------------------------------------\n",
            "B    25.735294\n",
            "C    25.735294\n",
            "D    18.382353\n",
            "E    17.647059\n",
            "F     5.882353\n",
            "A     5.147059\n",
            "G     1.470588\n",
            "Name: deck, dtype: float64\n",
            "--------------------------------------------------\n",
            "Southampton    63.823529\n",
            "Cherbourg      27.352941\n",
            "Queenstown      8.823529\n",
            "Name: embark_town, dtype: float64\n",
            "--------------------------------------------------\n",
            "yes    100.0\n",
            "Name: alive, dtype: float64\n",
            "--------------------------------------------------\n",
            "False    52.339181\n",
            "True     47.660819\n",
            "Name: alone, dtype: float64\n",
            "--------------------------------------------------\n"
          ]
        }
      ]
    },
    {
      "cell_type": "code",
      "source": [
        "# Frequencia Cumulativa\n",
        "for col in dados.query(\"survived == 1\").columns[1:]:\n",
        "  print(dados.query(\"survived == 1\")[col].value_counts().cumsum())\n",
        "  print('-'*50)"
      ],
      "metadata": {
        "id": "cZRIcEjPy-Vr",
        "outputId": "03e538be-82d4-4d81-f565-d230f25bba42",
        "colab": {
          "base_uri": "https://localhost:8080/"
        }
      },
      "id": "cZRIcEjPy-Vr",
      "execution_count": 5,
      "outputs": [
        {
          "output_type": "stream",
          "name": "stdout",
          "text": [
            "1    136\n",
            "3    255\n",
            "2    342\n",
            "Name: pclass, dtype: int64\n",
            "--------------------------------------------------\n",
            "female    233\n",
            "male      342\n",
            "Name: sex, dtype: int64\n",
            "--------------------------------------------------\n",
            "24.00     15\n",
            "36.00     26\n",
            "35.00     37\n",
            "27.00     48\n",
            "22.00     59\n",
            "        ... \n",
            "55.00    286\n",
            "32.50    287\n",
            "12.00    288\n",
            "0.92     289\n",
            "47.00    290\n",
            "Name: age, Length: 65, dtype: int64\n",
            "--------------------------------------------------\n",
            "0    210\n",
            "1    322\n",
            "2    335\n",
            "3    339\n",
            "4    342\n",
            "Name: sibsp, dtype: int64\n",
            "--------------------------------------------------\n",
            "0    233\n",
            "1    298\n",
            "2    338\n",
            "3    341\n",
            "5    342\n",
            "Name: parch, dtype: int64\n",
            "--------------------------------------------------\n",
            "13.0000      16\n",
            "26.0000      31\n",
            "7.7500       43\n",
            "10.5000      52\n",
            "26.5500      60\n",
            "           ... \n",
            "55.4417     338\n",
            "75.2500     339\n",
            "108.9000    340\n",
            "247.5208    341\n",
            "24.0000     342\n",
            "Name: fare, Length: 153, dtype: int64\n",
            "--------------------------------------------------\n",
            "S    217\n",
            "C    310\n",
            "Q    340\n",
            "Name: embarked, dtype: int64\n",
            "--------------------------------------------------\n",
            "First     136\n",
            "Third     255\n",
            "Second    342\n",
            "Name: class, dtype: int64\n",
            "--------------------------------------------------\n",
            "woman    205\n",
            "man      293\n",
            "child    342\n",
            "Name: who, dtype: int64\n",
            "--------------------------------------------------\n",
            "False    254\n",
            "True     342\n",
            "Name: adult_male, dtype: int64\n",
            "--------------------------------------------------\n",
            "B     35\n",
            "C     70\n",
            "D     95\n",
            "E    119\n",
            "F    127\n",
            "A    134\n",
            "G    136\n",
            "Name: deck, dtype: int64\n",
            "--------------------------------------------------\n",
            "Southampton    217\n",
            "Cherbourg      310\n",
            "Queenstown     340\n",
            "Name: embark_town, dtype: int64\n",
            "--------------------------------------------------\n",
            "yes    342\n",
            "Name: alive, dtype: int64\n",
            "--------------------------------------------------\n",
            "False    179\n",
            "True     342\n",
            "Name: alone, dtype: int64\n",
            "--------------------------------------------------\n"
          ]
        }
      ]
    },
    {
      "cell_type": "markdown",
      "id": "a1490edd",
      "metadata": {
        "id": "a1490edd"
      },
      "source": [
        "### Questão 3"
      ]
    },
    {
      "cell_type": "markdown",
      "id": "045b0f2a",
      "metadata": {
        "id": "045b0f2a"
      },
      "source": [
        "Os exercícios de 1 a 5 serão desenvolvidos utilizando o _dataset_ `Titanic.csv`:\n",
        "    \n",
        "Utilizando a coluna `Age` do _dataset Titanic_, defina as principais métricas estatísticas para essa variável tais como:\n",
        "- Média;\n",
        "- Desvio Padrão;\n",
        "- Mínimo;\n",
        "- Primeiro Quartil;\n",
        "- Segundo Quartil (Mediana);\n",
        "- Terceiro Quartil;\n",
        "- Distância Interquartil (IQR);\n",
        "- Máximo;\n",
        "- Skewness;\n",
        "- Moda."
      ]
    },
    {
      "cell_type": "code",
      "execution_count": 8,
      "id": "70c58f1a",
      "metadata": {
        "id": "70c58f1a",
        "outputId": "44d3a113-76fc-4973-e18a-4ab83878284a",
        "colab": {
          "base_uri": "https://localhost:8080/"
        }
      },
      "outputs": [
        {
          "output_type": "stream",
          "name": "stdout",
          "text": [
            "Media: 29.69911764705882\n",
            "Desvio Padrão: 14.526497332334042\n",
            "Minimo: 0.42\n",
            "Primeiro quartil: 20.125\n",
            "Segundo quartil: 28.0\n",
            "Ou Mediana: 28.0\n",
            "Terceiro quartil: 38.0\n",
            "Distância Interquartil (IQR): 17.875\n",
            "Minimo: 80.0\n",
            "Skewness: 0.38910778230082704\n",
            "Moda: 0    24.0\n",
            "dtype: float64\n"
          ]
        }
      ],
      "source": [
        "age = dados['age']\n",
        "print(f\"Media: {age.mean()}\")\n",
        "print(f\"Desvio Padrão: {age.std()}\")\n",
        "print(f\"Minimo: {age.min()}\")\n",
        "print(f\"Primeiro quartil: {age.quantile(.25)}\")\n",
        "print(f\"Segundo quartil: {age.quantile(.5)}\\nOu Mediana: {age.median()}\")\n",
        "print(f\"Terceiro quartil: {age.quantile(.75)}\")\n",
        "print(f\"Distância Interquartil (IQR): {age.quantile(.75) - age.quantile(.25)}\")\n",
        "print(f\"Minimo: {age.max()}\")\n",
        "print(f\"Skewness: {age.skew()}\")\n",
        "print(f\"Moda: {age.mode()}\")"
      ]
    },
    {
      "cell_type": "markdown",
      "id": "0c48d8bc",
      "metadata": {
        "id": "0c48d8bc"
      },
      "source": [
        "### Questão 4"
      ]
    },
    {
      "cell_type": "markdown",
      "id": "02b13cc4",
      "metadata": {
        "id": "02b13cc4"
      },
      "source": [
        "Os exercícios de 1 a 5 serão desenvolvidos utilizando o _dataset_ `Titanic.csv`:\n",
        "    \n",
        "Crie um gráfico da dispersão das idades dos passageiros do _Titanic_ e identifique os pontos onde se encontram a média, mediana e moda das idades."
      ]
    },
    {
      "cell_type": "code",
      "execution_count": 12,
      "id": "379adf78",
      "metadata": {
        "id": "379adf78",
        "outputId": "a40a1db2-ad81-4eda-c4cb-c3b96441a038",
        "colab": {
          "base_uri": "https://localhost:8080/"
        }
      },
      "outputs": [
        {
          "output_type": "execute_result",
          "data": {
            "text/plain": [
              "177"
            ]
          },
          "metadata": {},
          "execution_count": 12
        }
      ],
      "source": [
        "age.isna().sum()"
      ]
    },
    {
      "cell_type": "code",
      "source": [
        "age_sem_nan = age.dropna()\n",
        "len(age_sem_nan)"
      ],
      "metadata": {
        "id": "WRFGz2eb79AD",
        "outputId": "ddbadb9f-689c-4fc2-c97a-6d821d7173a6",
        "colab": {
          "base_uri": "https://localhost:8080/"
        }
      },
      "id": "WRFGz2eb79AD",
      "execution_count": 21,
      "outputs": [
        {
          "output_type": "execute_result",
          "data": {
            "text/plain": [
              "714"
            ]
          },
          "metadata": {},
          "execution_count": 21
        }
      ]
    },
    {
      "cell_type": "code",
      "source": [
        "media = age_sem_nan.mean()\n",
        "array_media = np.ones(len(age_sem_nan), dtype=float)*media\n",
        "mediana = age_sem_nan.median()\n",
        "array_mediana = np.ones(len(age_sem_nan), dtype=float)*mediana\n",
        "moda = age_sem_nan.mode()[0]\n",
        "array_moda = np.ones(len(age_sem_nan), dtype=float)*moda\n",
        "\n",
        "x = np.arange(1, len(age_sem_nan)+1)"
      ],
      "metadata": {
        "id": "LfwcJQzg754i"
      },
      "id": "LfwcJQzg754i",
      "execution_count": 40,
      "outputs": []
    },
    {
      "cell_type": "code",
      "source": [
        "plt.figure(figsize=(10, 6))\n",
        "plt.scatter(x, age_sem_nan)\n",
        "plt.plot(array_media, color='red')\n",
        "plt.plot(array_mediana, color='cyan')\n",
        "plt.plot(array_moda, color='green')\n",
        "plt.title('Dispersão das idades dos passageiros do Titanic')\n",
        "plt.ylabel('idade')\n",
        "plt.legend(['Media', 'Mediana', 'Moda'])\n",
        "plt.show()"
      ],
      "metadata": {
        "id": "FwiyhAlA8GoN",
        "outputId": "4243f7ea-603d-46e7-ae82-7eb35c829c66",
        "colab": {
          "base_uri": "https://localhost:8080/",
          "height": 390
        }
      },
      "id": "FwiyhAlA8GoN",
      "execution_count": 57,
      "outputs": [
        {
          "output_type": "display_data",
          "data": {
            "text/plain": [
              "<Figure size 720x432 with 1 Axes>"
            ],
            "image/png": "[encoded data removed]"
          },
          "metadata": {
            "needs_background": "light"
          }
        }
      ]
    },
    {
      "cell_type": "markdown",
      "id": "43458232",
      "metadata": {
        "id": "43458232"
      },
      "source": [
        "### Questão 5"
      ]
    },
    {
      "cell_type": "markdown",
      "id": "a722484e",
      "metadata": {
        "id": "a722484e"
      },
      "source": [
        "Os exercícios de 1 a 5 serão desenvolvidos utilizando o _dataset_ `Titanic.csv`:\n",
        "    \n",
        "Ainda trabalhando com os valores das idades crie três _Boxplots_:\n",
        "- _Boxplot_ das idades para todos os passageiros;\n",
        "- _Boxplot_ das idades dos passageiros separados pelo sexo.\n",
        "- _Boxplot_ das idades dos passageiros separados pelo sexo e por sobreviventes."
      ]
    },
    {
      "cell_type": "code",
      "execution_count": 6,
      "id": "2924a6b8",
      "metadata": {
        "id": "2924a6b8"
      },
      "outputs": [],
      "source": []
    },
    {
      "cell_type": "markdown",
      "id": "d0eda9fb",
      "metadata": {
        "ExecuteTime": {
          "end_time": "2021-10-08T18:58:25.038529Z",
          "start_time": "2021-10-08T18:58:25.027559Z"
        },
        "id": "d0eda9fb"
      },
      "source": [
        "Com o dataset `penguins`, responda as questões abaixo:\n",
        "\n",
        "sns.load_dataset('penguins')"
      ]
    },
    {
      "cell_type": "markdown",
      "id": "9060a1ca",
      "metadata": {
        "id": "9060a1ca"
      },
      "source": [
        "### Questão 6"
      ]
    },
    {
      "cell_type": "markdown",
      "id": "e8e2272c",
      "metadata": {
        "id": "e8e2272c"
      },
      "source": [
        "Classifique o tipo de dado de cada coluna"
      ]
    },
    {
      "cell_type": "code",
      "execution_count": 6,
      "id": "6c8561b5",
      "metadata": {
        "id": "6c8561b5"
      },
      "outputs": [],
      "source": []
    },
    {
      "cell_type": "markdown",
      "id": "cd8fe357",
      "metadata": {
        "id": "cd8fe357"
      },
      "source": [
        "### Questão 7\n",
        "Calcule a frequência absoluta para cada espécie de pinguim"
      ]
    },
    {
      "cell_type": "code",
      "execution_count": 6,
      "id": "820b61a5",
      "metadata": {
        "id": "820b61a5"
      },
      "outputs": [],
      "source": []
    },
    {
      "cell_type": "markdown",
      "id": "620b2761",
      "metadata": {
        "ExecuteTime": {
          "end_time": "2021-10-08T19:01:38.859000Z",
          "start_time": "2021-10-08T19:01:38.844322Z"
        },
        "id": "620b2761"
      },
      "source": [
        "### Questão 8\n",
        "Calcule a frequência relativa, relativa percentual e acumulativa para os sobreviventes no Titanic"
      ]
    },
    {
      "cell_type": "code",
      "execution_count": 6,
      "id": "4e52e2ba",
      "metadata": {
        "id": "4e52e2ba"
      },
      "outputs": [],
      "source": []
    },
    {
      "cell_type": "markdown",
      "id": "8c784572",
      "metadata": {
        "id": "8c784572"
      },
      "source": [
        "### Questão 9\n",
        "Utilizando a coluna `body_mass_g` do dataset Penguins, defina as principais métricas estatísticas para essa variável tais como:\n",
        "\n",
        "- Média;\n",
        "- Desvio Padrão;\n",
        "- Mínimo;\n",
        "- Primeiro Quartil;\n",
        "- Segundo Quartil (Mediana);\n",
        "- Terceiro Quartil;\n",
        "- Distância Interquartil (IQR);\n",
        "- Máximo;\n",
        "- Skewness;\n",
        "- Moda."
      ]
    },
    {
      "cell_type": "markdown",
      "id": "13c53261",
      "metadata": {
        "id": "13c53261"
      },
      "source": [
        "### Questão 10\n",
        "Crie um gráfico da dispersão da massa dos pinguins e identifique os pontos onde se encontram a média, mediana e moda das idades."
      ]
    },
    {
      "cell_type": "code",
      "execution_count": 6,
      "id": "10ac9d4d",
      "metadata": {
        "id": "10ac9d4d"
      },
      "outputs": [],
      "source": []
    },
    {
      "cell_type": "markdown",
      "id": "312a2d79",
      "metadata": {
        "ExecuteTime": {
          "end_time": "2021-10-08T19:07:27.672797Z",
          "start_time": "2021-10-08T19:07:27.657230Z"
        },
        "id": "312a2d79"
      },
      "source": [
        "### Questão 11\n",
        "Ainda trabalhando com os valores das massas dos pinguins crie três Boxplots:\n",
        "\n",
        "- Boxplot das massas para todos os pinguins\n",
        "- Boxplot das massas dos pinguins separados pelo sexo.\n",
        "- Boxplot das massas dos pinguins separados pelo sexo e pela espécies."
      ]
    },
    {
      "cell_type": "code",
      "execution_count": 6,
      "id": "c82a0953",
      "metadata": {
        "id": "c82a0953"
      },
      "outputs": [],
      "source": []
    }
  ],
  "metadata": {
    "kernelspec": {
      "display_name": "Python 3 (ipykernel)",
      "language": "python",
      "name": "python3"
    },
    "language_info": {
      "codemirror_mode": {
        "name": "ipython",
        "version": 3
      },
      "file_extension": ".py",
      "mimetype": "text/x-python",
      "name": "python",
      "nbconvert_exporter": "python",
      "pygments_lexer": "ipython3",
      "version": "3.9.7"
    },
    "varInspector": {
      "cols": {
        "lenName": 16,
        "lenType": 16,
        "lenVar": 40
      },
      "kernels_config": {
        "python": {
          "delete_cmd_postfix": "",
          "delete_cmd_prefix": "del ",
          "library": "var_list.py",
          "varRefreshCmd": "print(var_dic_list())"
        },
        "r": {
          "delete_cmd_postfix": ") ",
          "delete_cmd_prefix": "rm(",
          "library": "var_list.r",
          "varRefreshCmd": "cat(var_dic_list()) "
        }
      },
      "types_to_exclude": [
        "module",
        "function",
        "builtin_function_or_method",
        "instance",
        "_Feature"
      ],
      "window_display": false
    },
    "colab": {
      "provenance": []
    }
  },
  "nbformat": 4,
  "nbformat_minor": 5
}