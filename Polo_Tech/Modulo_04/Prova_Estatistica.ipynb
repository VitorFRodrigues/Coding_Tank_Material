{
  "nbformat": 4,
  "nbformat_minor": 0,
  "metadata": {
    "colab": {
      "provenance": [],
      "authorship_tag": "ABX9TyM+3umCQAalba2Dd0/qqyf8",
      "include_colab_link": true
    },
    "kernelspec": {
      "name": "python3",
      "display_name": "Python 3"
    },
    "language_info": {
      "name": "python"
    }
  },
  "cells": [
    {
      "cell_type": "markdown",
      "metadata": {
        "id": "view-in-github",
        "colab_type": "text"
      },
      "source": [
        "<a href=\"https://colab.research.google.com/github/VitorFRodrigues/Polo_Tech_Americanas/blob/main/Polo_Tech/Modulo_04/Prova_Estatistica.ipynb\" target=\"_parent\"><img src=\"https://colab.research.google.com/assets/colab-badge.svg\" alt=\"Open In Colab\"/></a>"
      ]
    },
    {
      "cell_type": "markdown",
      "source": [
        "__1.__ Identifique nas alternativas abaixo, a opção que contenha apenas métricas de posição:\n",
        "\n",
        "- [ ] média, desvio padrão\n",
        "- [ ] desvio padrão, variância\n",
        "- [ ] mediana, moda\n",
        "- [ ] variância, mediana\n",
        "- [ ] média, correlação de Pearson"
      ],
      "metadata": {
        "id": "wWC9s-cVNa5p"
      }
    },
    {
      "cell_type": "code",
      "source": [],
      "metadata": {
        "id": "PDt5YusSQxD-"
      },
      "execution_count": null,
      "outputs": []
    },
    {
      "cell_type": "markdown",
      "source": [
        "__2.__ Dado o boxplot conforme a figura abaixo:\n",
        "\n",
        "![image.png](data:image/png;base64,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)\n",
        "\n",
        "Como é definida a fórmula para os limites superior e inferior do boxplot que separa os dados da distribuição dos prováveis outliers?\n",
        "\n",
        "- [ ] Q1 + 1.5(Q3 - Q1), Q3 - 1.5(Q3 - Q1)\n",
        "- [ ] Q3 + 1(Q3 - Q1), Q1 - 1(Q3 - Q1)\n",
        "- [ ] Q3 - 1.5(Q3 - Q1), Q1 + 1.5(Q3 - Q1)\n",
        "- [ ] Q3 + 1.5(Q3 - Q1), Q1 - 1.5(Q3 - Q1)\n",
        "- [ ] 1.5Q3 + (Q3 - Q1), 1.5Q1 - (Q3 - Q1)\n"
      ],
      "metadata": {
        "id": "LwpLjHLSNr2n"
      }
    },
    {
      "cell_type": "code",
      "source": [],
      "metadata": {
        "id": "1ZOsSDvAQwPb"
      },
      "execution_count": null,
      "outputs": []
    },
    {
      "cell_type": "markdown",
      "source": [
        "__3.__ Rafael queria levar dinheiro na escola para comprar balas, mas sua mãe só deixou que ele levasse duas moedas para a escola. Sabendo que dentro do cofre do Rafael, temos as seguintes moedas:\n",
        "\n",
        "- 10 centavos = 5 moedas\n",
        "- 25 centavos = 3 moedas\n",
        "- 50 centavos = 10 moedas\n",
        "- 01 real = 2 moedas\n",
        "\n",
        "Qual a probabilidade de Rafael retirar respectivamente uma moeda de 1 real e uma moeda de 25 centavos?\n",
        "\n",
        "- [ ] 30,0 %\n",
        "- [ ] 10,0 %\n",
        "- [ ] 1,6 %\n",
        "- [ ] 15,8 %\n",
        "- [ ] 5,3 %"
      ],
      "metadata": {
        "id": "6586k2t6ONtV"
      }
    },
    {
      "cell_type": "code",
      "source": [],
      "metadata": {
        "id": "RDEeEDM3Qvkp"
      },
      "execution_count": null,
      "outputs": []
    },
    {
      "cell_type": "markdown",
      "source": [
        "__4.__ Em uma filial de um banco, 40% dos clientes que vão ao caixa eletrônico sacam dinheiro do caixa. Utilizando de uma distribuição binomial, qual é a probabilidade de no máximo 12 clientes sacarem dinheiro em um dia que tivemos 30 clientes no caixa eletrônico?\n",
        "\n",
        "- [ ] 57,8 %\n",
        "- [ ] 52,2 %\n",
        "- [ ] 42,2 %\n",
        "- [ ] 47,8 %\n",
        "- [ ] 40,0 %"
      ],
      "metadata": {
        "id": "_NREuCpkOnB2"
      }
    },
    {
      "cell_type": "code",
      "source": [],
      "metadata": {
        "id": "piRHHLcRQvF2"
      },
      "execution_count": null,
      "outputs": []
    },
    {
      "cell_type": "markdown",
      "source": [
        "__5.__ Em um centro de distribuição logístico da Amazon, chegam cerca de 1.440 produtos por dia. Sabendo que segue uma distribuição de Poisson, qual a probabilidade de que em um minuto cheguem 3 produtos?\n",
        "\n",
        "- [ ] 36,8 %\n",
        "- [ ] 55,2 %\n",
        "- [ ] 24,5 %\n",
        "- [ ] 6,1 %\n",
        "- [ ] 18,4 %"
      ],
      "metadata": {
        "id": "Fb3d9aP7Oz_0"
      }
    },
    {
      "cell_type": "code",
      "source": [],
      "metadata": {
        "id": "6-kr0hkXQuqR"
      },
      "execution_count": null,
      "outputs": []
    },
    {
      "cell_type": "markdown",
      "source": [
        "__6.__ Suponha que 60% das mulheres que compram kits de gravidez instantâneos estejam, de fato, grávidas. Para um kit de uma marca específica, se a mulher estiver grávida, o teste fornecerá resultado positivo 96% das vezes e negativo 4% das vezes (um “falso negativo\"). Se ela não estiver grávida, o teste resultará positivo em 1% das vezes (um “falso positivo”) e negativo 99% das vezes . Suponha que um teste resulte positivo. Qual a probabilidade de que a mulher esteja realmente grávida?\n",
        "\n",
        "- [ ] 77,7 %\n",
        "- [ ] 63,2 %\n",
        "- [ ] 39,4 %\n",
        "- [ ] 86,4 %\n",
        "- [ ] 99,3 %"
      ],
      "metadata": {
        "id": "J1KmKHtwO_mh"
      }
    },
    {
      "cell_type": "code",
      "source": [],
      "metadata": {
        "id": "Udd_NiyDQuPD"
      },
      "execution_count": null,
      "outputs": []
    },
    {
      "cell_type": "markdown",
      "source": [
        "__7.__ Uma máquina de sorvete está regulada de modo a servir uma média de 80g por casquinha. Se a quantidade servida por casquinha seguir uma distribuição normal com desvio padrão de 8g, qual a porcentagem de casquinhas que conterão mais de 90g de sorvete?\n",
        "\n",
        "- [ ] 26,6 %\n",
        "- [ ] 73,4 %\n",
        "- [ ] 10,6 %\n",
        "- [ ] 50,0 %\n",
        "- [ ] 89,4 %"
      ],
      "metadata": {
        "id": "PAVIk-zDPKmA"
      }
    },
    {
      "cell_type": "code",
      "source": [],
      "metadata": {
        "id": "1tGMDZkIQtzk"
      },
      "execution_count": null,
      "outputs": []
    },
    {
      "cell_type": "markdown",
      "source": [
        "__8.__ O tempo para fabricar um perfume em uma empresa é descrito por uma variável aleatória X, medida em horas, com distribuição normal de média mu = 7 e desvio padrão sigma = 2. Qual a probabilidade de que um perfume será finalizado entre 4 e 11 horas?\n",
        "\n",
        "- [ ] 91,0 %\n",
        "- [ ] 93,4 %\n",
        "- [ ] 9,0 %\n",
        "- [ ] 97,7 %\n",
        "- [ ] 2,3 %"
      ],
      "metadata": {
        "id": "FhxatDjsPVF1"
      }
    },
    {
      "cell_type": "code",
      "source": [],
      "metadata": {
        "id": "pyrqIqH_QtPR"
      },
      "execution_count": null,
      "outputs": []
    },
    {
      "cell_type": "markdown",
      "source": [
        "__9.__ Dados os tipos de amostragem e as definições dos mesmos, assinale a alternativa que indique cada tipo de amostragem com a respectiva definição:\n",
        "\n",
        "Tipos de Amostragem:\n",
        "\n",
        "1 - Amostragem Aleatória Simples\n",
        "\n",
        "2 - Amostragem Estratificada\n",
        "\n",
        "3 - Amostragem por Conglomerado\n",
        "\n",
        "Definições:\n",
        "\n",
        "I - Método de amostragem onde a população é dividida em grupos (estratos) segundo algumas características conhecidas sobre a população em estudo;\n",
        "\n",
        "II - Método de amostragem que divide em subpopulações (conglomerados), onde escolhem aleatóriamente por amostragem simples as subpopulações e todos os elementos de uma subpopulação irão fazer parte da amostra;\n",
        "\n",
        "III - Método de amostragem mais simples onde serão escolhidos aleatoriamente elementos com ou sem reposição.\n",
        "\n",
        "Alternativas\n",
        "- [ ] 1-II, 2-I, 3-III\n",
        "- [ ] 1-II, 2-III, 3-I\n",
        "- [ ] 1-III, 2-I, 3-II\n",
        "- [ ] 1-I, 2-II, 3-III\n",
        "- [ ] 1-III, 2-II, 3-I"
      ],
      "metadata": {
        "id": "Q3wyyeZbPhmA"
      }
    },
    {
      "cell_type": "code",
      "source": [],
      "metadata": {
        "id": "6U2WVb5gQsj2"
      },
      "execution_count": null,
      "outputs": []
    },
    {
      "cell_type": "markdown",
      "source": [
        "__10.__ Um fabricante de refrigerante anunciou que o índice de cafeína do seu refrigerante de cola não é maior do que 35mg por lata. Um laboratório realizou 20 análises do índice de cafeína obtendo os resultados (37, 34, 36, 37, 35, 32, 30, 35, 34, 36, 39, 38, 34, 35, 31, 30, 33, 35, 36, 31). Sabe-se que o índice de cafeína do refrigerante de cola dessa marca se distribui normalmente com variância igual a 4. Qual é, respectivamente, a conclusão do teste e o valor crítico para este teste com nível de significância de 5%? Utilize a suposição de que queremos identificar se a média de cafeína, caso não seja 35mg, seja maior que esse valor (caso unicaudal do teste). Obs.: não utilize a função ztest ou t.\n",
        "\n",
        "Alternativas\n",
        "\n",
        "- [ ] Não Rejeita H0, X_critico = 34,40 mg\n",
        "- [ ] Rejeita H0, X_critico = 34,40 mg\n",
        "- [ ] Não Rejeita H0, X_critico = 35,74 mg\n",
        "- [ ] Rejeita H0, X_critico = 35,74 mg"
      ],
      "metadata": {
        "id": "K0JYQR31Px76"
      }
    },
    {
      "cell_type": "code",
      "source": [],
      "metadata": {
        "id": "_fiLmuzNQsJ1"
      },
      "execution_count": null,
      "outputs": []
    },
    {
      "cell_type": "markdown",
      "source": [
        "__11.__ Para que uma série temporal seja considerada estacionária ou parcialmente estacionária, qual das alternativas abaixo deve ser verdadeira?\n",
        "\n",
        "Alternativas\n",
        "- [ ] Média e Variância constante\n",
        "- [ ] Nenhuma das anteriores\n",
        "- [ ] Média constante\n",
        "- [ ] Variância constante"
      ],
      "metadata": {
        "id": "ypAYw7waP9Q8"
      }
    },
    {
      "cell_type": "code",
      "source": [],
      "metadata": {
        "id": "GHw8AM2zQrtF"
      },
      "execution_count": null,
      "outputs": []
    },
    {
      "cell_type": "markdown",
      "source": [
        "__12.__ Escolha nas alternativas abaixo, qual é a componente de uma série temporal identificada como qualquer alteração irregular e inexplicável?\n",
        "\n",
        "Alternativas\n",
        "- [ ] Ciclos\n",
        "- [ ] Sazonalidade\n",
        "- [ ] Tendência\n",
        "- [ ] Ruído Aleatório"
      ],
      "metadata": {
        "id": "oasAM1B3QGUl"
      }
    },
    {
      "cell_type": "code",
      "execution_count": 1,
      "metadata": {
        "id": "ydpiN0npNUln"
      },
      "outputs": [],
      "source": [
        "a=10"
      ]
    }
  ]
}