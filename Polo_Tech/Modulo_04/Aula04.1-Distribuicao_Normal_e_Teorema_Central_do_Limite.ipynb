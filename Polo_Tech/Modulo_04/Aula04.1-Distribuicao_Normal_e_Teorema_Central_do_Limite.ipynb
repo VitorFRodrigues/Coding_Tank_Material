{
  "cells": [
    {
      "cell_type": "markdown",
      "id": "ae3011b8",
      "metadata": {
        "id": "ae3011b8"
      },
      "source": [
        "# 04 - Distribuição Normal e Teorema Central do Limite\n",
        "\n",
        "Nessa aula, iremos tratar dos seguintes conteúdos:\n",
        "- Distribuição Normal\n",
        "- Teorema Central do Limite"
      ]
    },
    {
      "cell_type": "markdown",
      "id": "a03399f7",
      "metadata": {
        "id": "a03399f7"
      },
      "source": [
        "<img src = \"https://miro.medium.com/max/1200/1*IdGgdrY_n_9_YfkaCh-dag.png\" width=800>"
      ]
    },
    {
      "cell_type": "markdown",
      "id": "9c40097b",
      "metadata": {
        "id": "9c40097b"
      },
      "source": [
        "## "
      ]
    },
    {
      "cell_type": "markdown",
      "id": "8d3345d1",
      "metadata": {
        "id": "8d3345d1"
      },
      "source": [
        "## Distribuição Normal"
      ]
    },
    {
      "cell_type": "markdown",
      "id": "b2e195c1",
      "metadata": {
        "id": "b2e195c1"
      },
      "source": [
        "A distribuição normal é uma das distribuições mais conhecidas da estatística/probabilidade! Ela é  representada por uma **curva simétrica em torno do seu ponto médio**, apresentando assim seu famoso formato de **sino** (bell shape).  \n",
        "\n",
        "A curva de distribuição normal representa o comportamento de **diversos processos e fenômenos comuns**, como por exemplo: altura ou peso de uma população, a pressão sanguínea de um grupo de pessoas, o tempo que um grupo de estudantes gasta para realizar uma prova, etc.\n",
        "\n",
        "A distribuição normal serve também como base para a inferência estatística clássica, sendo a premissa em diversos modelos e métodos.\n",
        "\n",
        "<br><br>\n",
        "\n",
        "### Definição Matemática\n",
        "\n",
        "A Variável aleatória contínua $X$ que tome todos os valores na reta real $-\\infty < X < \\infty$ segue uma distribuição normal (ou Gaussiana) se sua função de densidade de probabilidade é dada por:\n",
        "\n",
        "$$ f(x) = \\frac{1}{\\sigma\\sqrt{2\\pi}}e^{\\frac{-(x - \\mu)^2}{2\\sigma^2}} $$\n",
        "\n",
        "Onde respectivamente temos como __valor esperado__ e __variância__ da distribuição normal:\n",
        "\n",
        "- __Valor esperado:__ $E[X] = \\mu$\n",
        "\n",
        "- __Variância:__ $V[X] = \\sigma^2$\n",
        "\n",
        "\n",
        "<br>\n",
        "\n",
        "Usualmente aplicamos a notação X ~ N($\\mu$,$\\sigma^2$) para representar uma variável aleatória **com distribuição normal** de valor esperado/média $\\mu$ e variância $\\sigma^2$.\n",
        "\n",
        "<img src=\"https://upload.wikimedia.org/wikipedia/commons/thumb/7/74/Normal_Distribution_PDF.svg/1280px-Normal_Distribution_PDF.svg.png\" width=500>\n",
        "\n",
        "\n",
        "Em uma distribuição normal a média, mediana e moda dos dados possuem o mesmo valor. \n",
        "\n",
        "<img src=\"https://dietassessmentprimer.cancer.gov/images/learn/distribution1.jpg\">\n"
      ]
    },
    {
      "cell_type": "markdown",
      "id": "8ec34fc6",
      "metadata": {
        "id": "8ec34fc6"
      },
      "source": [
        "Vamos ver algumas formas de gerarmos valores de acordo com uma distribuição Normal:"
      ]
    },
    {
      "cell_type": "code",
      "execution_count": 1,
      "id": "49561226",
      "metadata": {
        "ExecuteTime": {
          "end_time": "2023-03-01T23:01:41.451224Z",
          "start_time": "2023-03-01T23:01:41.433154Z"
        },
        "id": "49561226"
      },
      "outputs": [],
      "source": [
        "import numpy as np\n",
        "import pandas as pd\n",
        "import matplotlib.pyplot as plt\n",
        "import seaborn as sns\n",
        "import math as math"
      ]
    },
    {
      "cell_type": "code",
      "execution_count": 2,
      "id": "290023ed",
      "metadata": {
        "ExecuteTime": {
          "end_time": "2023-03-01T23:18:36.907184Z",
          "start_time": "2023-03-01T23:18:36.472910Z"
        },
        "id": "290023ed",
        "outputId": "0a4d2931-2e05-4a3e-f9e5-ed4ed1c0ae6b",
        "colab": {
          "base_uri": "https://localhost:8080/",
          "height": 404
        }
      },
      "outputs": [
        {
          "output_type": "display_data",
          "data": {
            "text/plain": [
              "<Figure size 720x432 with 1 Axes>"
            ],
            "image/png": "[encoded data removed]"
          },
          "metadata": {
            "needs_background": "light"
          }
        }
      ],
      "source": [
        "# função densidade de probabilidade da normal\n",
        "def normal_dist(x, mu, sigma):\n",
        "    prob_density = (1/(sigma*(math.sqrt(2*np.pi)))) * \\\n",
        "        np.exp(-0.5*((x - mu)/sigma)**2)\n",
        "    return prob_density\n",
        "\n",
        "# define valores para a média e desvio padrão (obs.: sigma = sqrt(variancia))\n",
        "mu = 75\n",
        "sigma = 20\n",
        "\n",
        "# Número de amostras geradas\n",
        "N = 10000\n",
        "\n",
        "# Define um vetor X com os valores aleaórios da distribuição normal segundo o mu e sigma\n",
        "X = np.random.normal(mu, sigma, N)\n",
        "\n",
        "\n",
        "# Define o tamanho de uma figura para o gráfico\n",
        "plt.figure(figsize=(10, 6))\n",
        "\n",
        "# Plot do histograma dos valores aleatórios\n",
        "Pk, bins, ignored = plt.hist(X,\n",
        "                             bins='auto',\n",
        "                             density=True,\n",
        "                             color='#0504aa',\n",
        "                             alpha=0.7,\n",
        "                             rwidth=0.9)\n",
        "\n",
        "# define os valores de x entre o mínimo e máximo para gerarmos a curva normal\n",
        "x = np.linspace(np.min(X), np.max(X), 200)\n",
        "\n",
        "# Dados para a curva normal\n",
        "pdf = normal_dist(x, mu, sigma)\n",
        "\n",
        "# Cria um título\n",
        "plt.title('Distribuição Normal')\n",
        "\n",
        "# Plot da curva normal\n",
        "plt.plot(x, pdf, color='red')\n",
        "\n",
        "# Label X\n",
        "plt.xlabel('Data points')\n",
        "\n",
        "# Label Y\n",
        "plt.ylabel('Probability Density')\n",
        "\n",
        "# Mostrao Gráfico\n",
        "plt.show()"
      ]
    },
    {
      "cell_type": "code",
      "execution_count": 3,
      "id": "d68ed299",
      "metadata": {
        "ExecuteTime": {
          "end_time": "2023-03-01T23:20:37.379357Z",
          "start_time": "2023-03-01T23:20:37.087664Z"
        },
        "id": "d68ed299",
        "outputId": "c7e84c89-6f84-46d6-f811-7d4de7789ba6",
        "colab": {
          "base_uri": "https://localhost:8080/",
          "height": 404
        }
      },
      "outputs": [
        {
          "output_type": "display_data",
          "data": {
            "text/plain": [
              "<Figure size 720x432 with 1 Axes>"
            ],
            "image/png": "[encoded data removed]"
          },
          "metadata": {
            "needs_background": "light"
          }
        }
      ],
      "source": [
        "import scipy\n",
        "\n",
        "# Gerando a mesma curva normal a partir de uma função do scipy\n",
        "y = scipy.stats.norm(loc = mu, scale = sigma).pdf(x)\n",
        "\n",
        "# Define o tamanho de uma figura para o gráfico\n",
        "plt.figure(figsize=(10,6))\n",
        "\n",
        "#Cria um titulo\n",
        "plt.title('Distribuição Normal')\n",
        "\n",
        "# Plot da curva normal\n",
        "plt.plot(x, y, color = 'red')\n",
        "\n",
        "# Label X\n",
        "plt.xlabel('Data points')\n",
        "\n",
        "# Label Y\n",
        "plt.ylabel('Probability Density')\n",
        "\n",
        "# Mostra o Gráfico\n",
        "plt.show()"
      ]
    },
    {
      "cell_type": "markdown",
      "id": "5ef56aee",
      "metadata": {
        "id": "5ef56aee"
      },
      "source": [
        "## "
      ]
    },
    {
      "cell_type": "markdown",
      "id": "feaf2968",
      "metadata": {
        "id": "feaf2968"
      },
      "source": [
        "## Normalização ou Z-Score\n",
        "<br>\n",
        "\n",
        "Imagine ter que calcular a probabilidade de uma distribuição normal de um determinado evento, utilizando a função de densidade de probabilidade. Seria bastante trabalho e nem um pouco usual! \n",
        "\n",
        "Para isso então que existe uma relação conhecida como normalização ou __Z-Score__, onde este parâmetro nada mais é que __o número de desvios padrões que a observação está com relação à média__:\n",
        "\n",
        "$$ z = \\frac{x - \\mu}{\\sigma} $$\n",
        "\n",
        "$$ z \\sigma = x - \\mu $$\n",
        "\n",
        "\n",
        "<img src = \"https://miro.medium.com/max/1200/1*IdGgdrY_n_9_YfkaCh-dag.png\" width=800>\n",
        "<br>\n",
        "\n",
        "Como vimos acima, em uma distribuição normal, 99.73% das observações são esperadas de estar entre 3 desvios-padrão da média. Assim, obervações para além desta faixa são muito improváveis de ocorrer (0.27% de chance), de forma que podem ser consideradas outliers. Assim, é comum considerar outliers os pontos tais que $|z| > 3$ (embora seja comum também variar este z-score limite, para 2.5 o, 3.5, etc.)\n",
        "\n",
        "<br>\n",
        "\n",
        "**OBS.: naturalmente, este método é altamente dependente da hipótese de que seus dados são normalmente distribuídos! Por isso, funciona apenas aproximadamente para outros casos. Mas é uma boa aproximação, em geral.**\n",
        "\n",
        "\n",
        "\n",
        "onde o objetivo é convertermos os dados para uma distribuição normal na forma X ~ N($\\mu$, $\\sigma^2$) "
      ]
    },
    {
      "cell_type": "markdown",
      "id": "af1bebd1",
      "metadata": {
        "id": "af1bebd1"
      },
      "source": [
        "**Exemplo**: Se $X \\sim  \\mathcal{N}(\\mu=165,\\,\\sigma^{2}=9)$, calcule $P(X<162)$."
      ]
    },
    {
      "cell_type": "code",
      "execution_count": 4,
      "id": "7d5b557d",
      "metadata": {
        "ExecuteTime": {
          "end_time": "2023-03-01T23:38:54.646267Z",
          "start_time": "2023-03-01T23:38:54.624468Z"
        },
        "id": "7d5b557d",
        "outputId": "8790e7a5-a259-498c-d572-ac3476eae31d",
        "colab": {
          "base_uri": "https://localhost:8080/"
        }
      },
      "outputs": [
        {
          "output_type": "stream",
          "name": "stdout",
          "text": [
            "Z-score:  -1.0\n",
            "Probabilidade : 0.15865525393145707\n"
          ]
        }
      ],
      "source": [
        "# função para calcular a probabilidade a partir do Z Score\n",
        "import scipy.stats as st\n",
        "\n",
        "# média\n",
        "mu = 165\n",
        "\n",
        "# Desvio padrão\n",
        "sigma = np.sqrt(9)\n",
        "\n",
        "# Z score para 162\n",
        "z = (162 - mu)/sigma\n",
        "\n",
        "print('Z-score: ', z)\n",
        "print('Probabilidade :', st.norm.cdf(z))"
      ]
    },
    {
      "cell_type": "markdown",
      "id": "2cb1b68b",
      "metadata": {
        "id": "2cb1b68b"
      },
      "source": [
        "**Exemplo**: Se $X \\sim  \\mathcal{N}(\\mu=10,\\,\\sigma^{2}=4)$, calcule $P(X>13)$.\n",
        "\n",
        "Obs.: Lembrando que para calcular essa probabilidade temos que fazer da seguinte forma:\n",
        "\n",
        "$$ P(X > 13) = 1 - P( X \\leq 13) $$"
      ]
    },
    {
      "cell_type": "code",
      "execution_count": 5,
      "id": "72b80649",
      "metadata": {
        "ExecuteTime": {
          "end_time": "2023-03-01T23:45:44.746950Z",
          "start_time": "2023-03-01T23:45:44.726371Z"
        },
        "id": "72b80649",
        "outputId": "cdff8aea-7c73-405a-9e0a-2ef190e9bc7e",
        "colab": {
          "base_uri": "https://localhost:8080/"
        }
      },
      "outputs": [
        {
          "output_type": "stream",
          "name": "stdout",
          "text": [
            "Z - Score:  1.5\n",
            "Probabilidade:  0.06680720126885809\n"
          ]
        }
      ],
      "source": [
        "# função para calcular a probabilidade a partir do Z Score\n",
        "import scipy.stats as st\n",
        "\n",
        "# Média\n",
        "mu = 10\n",
        "\n",
        "# Desvio Padrão\n",
        "sigma = np.sqrt(4)\n",
        "\n",
        "# Z Score para 13\n",
        "z = (13 - mu)/sigma\n",
        "\n",
        "# Print do Z Score e da probabilidade\n",
        "print('Z - Score: ', z)\n",
        "print('Probabilidade: ', 1 - st.norm.cdf(z))"
      ]
    },
    {
      "cell_type": "markdown",
      "id": "2384dbec",
      "metadata": {
        "id": "2384dbec"
      },
      "source": [
        "**Exemplo:** O peso médio de 500 estudantes do sexo masculino de uma determinada universidade é 75,5 Kg e o desvio padrão é 7,5 Kg. Admitindo que os pesos são normalmente distribuídos, determine a percentagem de estudantes que pesam:"
      ]
    },
    {
      "cell_type": "markdown",
      "id": "002108a9",
      "metadata": {
        "id": "002108a9"
      },
      "source": [
        "a) entre 60 e 77,5 Kg.\n",
        "\n",
        "$$\n",
        "P(60 \\leq X \\leq 77,5) = P\\left(\\frac{60-\\mu}{\\sigma} \\leq \\frac{X-\\mu}{\\sigma} \\leq \\frac{77,5-\\mu}{\\sigma}\\right)=P\\left(\\frac{60-\\mu}{\\sigma} \\leq Z \\leq \\frac{77,5-\\mu}{\\sigma}\\right) = \n",
        "$$\n",
        "$$\n",
        "= P\\left(Z \\leq \\frac{77,5-\\mu}{\\sigma}\\right)-P\\left( Z \\leq \\frac{60-\\mu}{\\sigma}\\right)\n",
        "$$ \n"
      ]
    },
    {
      "cell_type": "code",
      "execution_count": 6,
      "id": "7dbed2ab",
      "metadata": {
        "ExecuteTime": {
          "end_time": "2023-03-01T23:48:54.256440Z",
          "start_time": "2023-03-01T23:48:54.242896Z"
        },
        "id": "7dbed2ab",
        "outputId": "312337bb-9175-4072-dda7-9ec3ca206a2a",
        "colab": {
          "base_uri": "https://localhost:8080/"
        }
      },
      "outputs": [
        {
          "output_type": "stream",
          "name": "stdout",
          "text": [
            "Z - Score para 60 kg:    -2.066666666666667\n",
            "Z - Score para 77.5 kg:  0.26666666666666666\n",
            "Probabilidade:  0.5857543024471563\n"
          ]
        }
      ],
      "source": [
        "# função para calcular a probabilidade a partir do Z Score\n",
        "import scipy.stats as st\n",
        "\n",
        "# Média\n",
        "mu = 75.5\n",
        "\n",
        "# Desvio Padrão\n",
        "sigma = 7.5\n",
        "\n",
        "# Calculando Z1 para 60 kg\n",
        "z1 = (60 - mu)/sigma\n",
        "\n",
        "# Calculando Z2 para 77.5 kg\n",
        "z2 = (77.5 - mu)/sigma\n",
        "\n",
        "# Print do Z Score e da probabilidade\n",
        "print('Z - Score para 60 kg:   ', z1)\n",
        "print('Z - Score para 77.5 kg: ', z2)\n",
        "print('Probabilidade: ', st.norm.cdf(z2) - st.norm.cdf(z1))"
      ]
    },
    {
      "cell_type": "markdown",
      "id": "3bd35bff",
      "metadata": {
        "id": "3bd35bff"
      },
      "source": [
        "Podemos também resolver este item simulando os resultados:"
      ]
    },
    {
      "cell_type": "code",
      "execution_count": 7,
      "id": "56d23094",
      "metadata": {
        "ExecuteTime": {
          "end_time": "2023-03-01T23:54:30.026966Z",
          "start_time": "2023-03-01T23:54:29.244184Z"
        },
        "id": "56d23094",
        "outputId": "f9ad7cc3-fee7-4bdc-dc2a-0100a1a525d7",
        "colab": {
          "base_uri": "https://localhost:8080/"
        }
      },
      "outputs": [
        {
          "output_type": "stream",
          "name": "stdout",
          "text": [
            "Probabilidade (simulação): 0.586349\n"
          ]
        }
      ],
      "source": [
        "# métricas mu e sigma\n",
        "mu = 75.5\n",
        "sigma = 7.5\n",
        "\n",
        "# tamanho da amostra\n",
        "N = 1000000\n",
        "\n",
        "# fixar uma semente\n",
        "np.random.seed(2)\n",
        "\n",
        "# Gerar uma amostra com mu e sigma para os N valores\n",
        "X = np.random.normal(mu, sigma, N)\n",
        "\n",
        "# Loop para o cálculo da probabilidade\n",
        "m = 0\n",
        "for x in X:\n",
        "    if x >= 60 and x <= 77.5:\n",
        "        m = m + 1\n",
        "print('Probabilidade (simulação):', m/N)"
      ]
    },
    {
      "cell_type": "markdown",
      "id": "45d62dc9",
      "metadata": {
        "id": "45d62dc9"
      },
      "source": [
        "b) mais do que 92,5 Kg. \n",
        "$$\n",
        "P(X > 92,5) = P\\left( \\frac{X-\\mu}{\\sigma}\\geq \\frac{92,5-\\mu}{\\sigma}\\right) = P\\left( Z \\geq \\frac{92,5-\\mu}{\\sigma}\\right) = 1 - P\\left( Z < \\frac{92,5-\\mu}{\\sigma}\\right)\n",
        "$$"
      ]
    },
    {
      "cell_type": "code",
      "execution_count": 8,
      "id": "abc340e5",
      "metadata": {
        "ExecuteTime": {
          "end_time": "2023-03-01T23:56:12.438617Z",
          "start_time": "2023-03-01T23:56:12.422262Z"
        },
        "id": "abc340e5",
        "outputId": "127a92b1-2811-4011-e850-5b62e95082f7",
        "colab": {
          "base_uri": "https://localhost:8080/"
        }
      },
      "outputs": [
        {
          "output_type": "stream",
          "name": "stdout",
          "text": [
            "Z - Score:  2.2666666666666666\n",
            "Probabilidade:  0.011705298080558313\n"
          ]
        }
      ],
      "source": [
        "# função para calcular a probabilidade a partir do Z Score\n",
        "import scipy.stats as st\n",
        "\n",
        "# Média\n",
        "mu = 75.5\n",
        "\n",
        "# Desvio Padrão\n",
        "sigma = 7.5\n",
        "\n",
        "# Z Score para 92.5 kg\n",
        "z = (92.5 - mu)/sigma\n",
        "\n",
        "# Print do Z Score e da probabilidade\n",
        "print('Z - Score: ', z)\n",
        "print('Probabilidade: ', 1 - st.norm.cdf(z))"
      ]
    },
    {
      "cell_type": "markdown",
      "id": "251e2af0",
      "metadata": {
        "id": "251e2af0"
      },
      "source": [
        "Simulando:"
      ]
    },
    {
      "cell_type": "code",
      "execution_count": 9,
      "id": "2fe6e197",
      "metadata": {
        "ExecuteTime": {
          "end_time": "2023-03-01T23:56:49.955054Z",
          "start_time": "2023-03-01T23:56:49.933039Z"
        },
        "id": "2fe6e197",
        "outputId": "e6378a7b-11ae-4851-ea9b-bc667b481e6b",
        "colab": {
          "base_uri": "https://localhost:8080/"
        }
      },
      "outputs": [
        {
          "output_type": "stream",
          "name": "stdout",
          "text": [
            "Probabilidade (simulação): 0.017\n"
          ]
        }
      ],
      "source": [
        "# métrica mu e sigma\n",
        "mu = 75.5\n",
        "sigma = 7.5\n",
        "\n",
        "# tamanho da amostra\n",
        "N = 1000\n",
        "\n",
        "# fixa a semente aleatória\n",
        "np.random.seed(2)\n",
        "\n",
        "# Gera uma amostra com mu e sigma para os N valores\n",
        "X = np.random.normal(mu, sigma, N)\n",
        "\n",
        "\n",
        "# Loop para o calculo da probabilidade\n",
        "m = 0\n",
        "for x in X:\n",
        "    if x > 92.5:\n",
        "        m = m + 1\n",
        "print('Probabilidade (simulação):', m/N)"
      ]
    },
    {
      "cell_type": "markdown",
      "id": "777e6bc7",
      "metadata": {
        "id": "777e6bc7"
      },
      "source": [
        "Uma forma mais tradicional também para calcular a probabilidade a partir de uma distribuição normal seria justamente utilizar de valores tabelados para o __Z-Score__:"
      ]
    },
    {
      "cell_type": "markdown",
      "id": "3c9e5ed7",
      "metadata": {
        "id": "3c9e5ed7"
      },
      "source": [
        "<img src = \"https://media.cheggcdn.com/media/70e/70ea2b20-f693-43d1-aa34-33289a97d606/phpqH8k6j\" width = 800>"
      ]
    },
    {
      "cell_type": "markdown",
      "id": "6700bb86",
      "metadata": {
        "id": "6700bb86"
      },
      "source": [
        "## "
      ]
    },
    {
      "cell_type": "markdown",
      "id": "0c886806",
      "metadata": {
        "id": "0c886806"
      },
      "source": [
        "## Teorema Central do Limite (TCL)"
      ]
    },
    {
      "cell_type": "markdown",
      "id": "7ad0bfd6",
      "metadata": {
        "id": "7ad0bfd6"
      },
      "source": [
        "Esse é um dos teoremas mais poderosos e fundamentais da estatística, porque ele é usado **como base para muitos outros resultados**. \n",
        "\n",
        "A ideia é que muitos dos resultados de inferência estatística são válidos assumindo como hipótese que os dados sob análise (**mais precisamente, os estimadores pontuais**) seguem uma distribuição normal. \n",
        "\n",
        "No entanto, há muitos casos de interesse em que a **distribuição populacional não é normal** -- e, na verdade, não temos como saber com segurança qual é a distribuição populacional, dado que temos apenas acesso às amostras!\n",
        "\n",
        "Assim, a priori, muitos dos resultados e métodos da inferência estatística seriam invalidados, dado que não podemos assegurar qual é a distribuição populacional dos dados que estamos analisando.\n",
        "\n",
        "E é neste contexto que o TLC mostra seu poder e importância, pois ele mostra que **estimadores pontuais de parâmetros populacionais serão normalmente distribuídos, INDEPENDENTE DA DISTRIBUIÇÃO POPULACIONAL!**\n",
        "\n",
        "Vamos enunciá-lo, como:\n"
      ]
    },
    {
      "cell_type": "markdown",
      "id": "eb8fa0be",
      "metadata": {
        "id": "eb8fa0be"
      },
      "source": [
        "Seja uma amostra aleatória $(X_1,X_2,\\ldots,X_n)$ retiradas de uma população com média $\\mu$ e desvio padrão $\\sigma$. A distribuição amostral de $\\bar{X}$ aproxima-se, para n grande ($n > 30$), de uma distribuição normal com média $E[\\bar{X}]=\\mu$ e variância $\\sigma^2/n$.<br>."
      ]
    },
    {
      "cell_type": "code",
      "execution_count": 10,
      "id": "6edc7081",
      "metadata": {
        "ExecuteTime": {
          "end_time": "2023-03-02T00:20:01.915781Z",
          "start_time": "2023-03-02T00:20:01.570622Z"
        },
        "id": "6edc7081",
        "outputId": "fc14f28c-9c62-4706-d32d-ebc521faa2e2",
        "colab": {
          "base_uri": "https://localhost:8080/",
          "height": 369
        }
      },
      "outputs": [
        {
          "output_type": "display_data",
          "data": {
            "text/plain": [
              "<Figure size 360x360 with 1 Axes>"
            ],
            "image/png": "[encoded data removed]"
          },
          "metadata": {
            "needs_background": "light"
          }
        }
      ],
      "source": [
        "# tamanho da amostra\n",
        "N = 100\n",
        "\n",
        "# Gera a amostra de acordo com a distribuição normal\n",
        "amostra_normal = np.random.normal(0, 1, N)\n",
        "\n",
        "# Gera o gráfico\n",
        "sns.displot(amostra_normal)\n",
        "\n",
        "# Mostra o gráfico\n",
        "plt.show()"
      ]
    },
    {
      "cell_type": "code",
      "execution_count": 11,
      "id": "229446a8",
      "metadata": {
        "ExecuteTime": {
          "end_time": "2023-03-02T00:22:08.118135Z",
          "start_time": "2023-03-02T00:22:07.707424Z"
        },
        "id": "229446a8",
        "outputId": "7bef600b-65b2-43a1-a0c8-34e77c8f9867",
        "colab": {
          "base_uri": "https://localhost:8080/",
          "height": 369
        }
      },
      "outputs": [
        {
          "output_type": "display_data",
          "data": {
            "text/plain": [
              "<Figure size 360x360 with 1 Axes>"
            ],
            "image/png": "[encoded data removed]"
          },
          "metadata": {
            "needs_background": "light"
          }
        }
      ],
      "source": [
        "# tamanho da amostra\n",
        "N = 1000\n",
        "\n",
        "# Gera a amostra de acordo com a distribuição normal\n",
        "amostra_normal = np.random.normal(0, 1, N)\n",
        "\n",
        "# Gera o gráfico\n",
        "sns.displot(amostra_normal)\n",
        "\n",
        "# Mostra o gráfico\n",
        "plt.show()"
      ]
    },
    {
      "cell_type": "code",
      "execution_count": 12,
      "id": "f6026563",
      "metadata": {
        "ExecuteTime": {
          "end_time": "2023-03-02T00:22:33.103745Z",
          "start_time": "2023-03-02T00:22:32.551567Z"
        },
        "scrolled": false,
        "id": "f6026563",
        "outputId": "312d8756-1958-4c89-c674-b084a790d262",
        "colab": {
          "base_uri": "https://localhost:8080/",
          "height": 369
        }
      },
      "outputs": [
        {
          "output_type": "display_data",
          "data": {
            "text/plain": [
              "<Figure size 360x360 with 1 Axes>"
            ],
            "image/png": "[encoded data removed]"
          },
          "metadata": {
            "needs_background": "light"
          }
        }
      ],
      "source": [
        "# tamanho da amostra\n",
        "N = 10000\n",
        "\n",
        "# Gera a amostra de acordo com a distribuição normal\n",
        "amostra_normal = np.random.normal(0, 1, N)\n",
        "\n",
        "# Gera o gráfico\n",
        "sns.displot(amostra_normal)\n",
        "\n",
        "# Mostra o gráfico\n",
        "plt.show()"
      ]
    },
    {
      "cell_type": "markdown",
      "id": "d9282deb",
      "metadata": {
        "id": "d9282deb"
      },
      "source": [
        "**Exemplo:** Seja a variável aleatória com distribuição de probabilidade: P(X=3)=0,4; P(X=6)=0,3; P(X=8)=0,3. Uma amostra com 40 observações é sorteada. Qual é a probabilidade de que a média amostral ser maior do que 5?"
      ]
    },
    {
      "cell_type": "code",
      "execution_count": 14,
      "id": "1f09f221",
      "metadata": {
        "ExecuteTime": {
          "end_time": "2023-03-02T00:29:33.439608Z",
          "start_time": "2023-03-02T00:29:33.425657Z"
        },
        "id": "1f09f221",
        "outputId": "8ddba7b0-a9f4-4e0e-f064-8e02130cb7f6",
        "colab": {
          "base_uri": "https://localhost:8080/"
        }
      },
      "outputs": [
        {
          "output_type": "stream",
          "name": "stdout",
          "text": [
            "Esperança:  5.4\n",
            "Variância:  4.439999999999991\n"
          ]
        }
      ],
      "source": [
        "# Função para a esperança\n",
        "def esperanca(X, P):\n",
        "    E = 0\n",
        "    for i in range(0, len(X)):\n",
        "        E = E + X[i] * P[i]\n",
        "    return E\n",
        "\n",
        "\n",
        "# Função para a variância\n",
        "def variancia(X, P):\n",
        "    E = 0\n",
        "    E2 = 0\n",
        "    for i in range(0, len(X)):\n",
        "        E = E + X[i] * P[i]\n",
        "        E2 = E2 + (X[i]**2) * P[i]\n",
        "    \n",
        "    V = E2 - E**2\n",
        "    return V\n",
        "\n",
        "\n",
        "# Vetor de Eventos\n",
        "X = [3, 6, 8]\n",
        "\n",
        "# Vetor de Probabilidades\n",
        "P = [0.4, 0.3, 0.3]\n",
        "\n",
        "# Calculo da Esperança\n",
        "E = esperanca(X, P)\n",
        "\n",
        "# Calculo da Variância\n",
        "V = variancia(X, P)\n",
        "\n",
        "# Print das métricas\n",
        "print(\"Esperança: \", E)\n",
        "print(\"Variância: \", V)"
      ]
    },
    {
      "cell_type": "markdown",
      "id": "b1fc8590",
      "metadata": {
        "id": "b1fc8590"
      },
      "source": [
        "Valor teórico a partir do Z-Score:"
      ]
    },
    {
      "cell_type": "code",
      "execution_count": 15,
      "id": "c9e32172",
      "metadata": {
        "ExecuteTime": {
          "end_time": "2023-03-02T00:32:39.992294Z",
          "start_time": "2023-03-02T00:32:39.977860Z"
        },
        "id": "c9e32172",
        "outputId": "85e31e34-8994-4e14-c448-67ef8fc61e18",
        "colab": {
          "base_uri": "https://localhost:8080/"
        }
      },
      "outputs": [
        {
          "output_type": "stream",
          "name": "stdout",
          "text": [
            "Probabilidade:  0.885046886863795\n"
          ]
        }
      ],
      "source": [
        "# Considerando distribuição normal = SIMMMMM - teorema do limite central\n",
        "\n",
        "# Função para calcular a probabilidade pelo Z Score\n",
        "import scipy.stats as st\n",
        "\n",
        "# Define a média\n",
        "mu = E\n",
        "\n",
        "# Define o desvio padrão\n",
        "sigma = np.sqrt(V)\n",
        "\n",
        "# Tamanho da amostra\n",
        "n = 40\n",
        "\n",
        "# X a verificar\n",
        "x = 5\n",
        "\n",
        "# Z-score\n",
        "Z = (x - mu) / (sigma / np.sqrt(n))\n",
        "\n",
        "# Calculo da probabilidade\n",
        "prob = 1 - st.norm.cdf(Z)\n",
        "\n",
        "# PRint da probabilidade\n",
        "print('Probabilidade: ', prob)"
      ]
    },
    {
      "cell_type": "markdown",
      "id": "28dec461",
      "metadata": {
        "id": "28dec461"
      },
      "source": [
        "Vamos sortear várias amostras de tamanho n = 40 e verificar qual a probabilidade da média dessa amostra ser maior do que 5."
      ]
    },
    {
      "cell_type": "code",
      "execution_count": 16,
      "id": "df00e3eb",
      "metadata": {
        "ExecuteTime": {
          "end_time": "2023-03-02T00:34:16.061738Z",
          "start_time": "2023-03-02T00:34:14.818012Z"
        },
        "id": "df00e3eb",
        "outputId": "79d395c6-88be-4f0c-b367-2b83d2344146",
        "colab": {
          "base_uri": "https://localhost:8080/",
          "height": 438
        }
      },
      "outputs": [
        {
          "output_type": "display_data",
          "data": {
            "text/plain": [
              "<Figure size 576x432 with 1 Axes>"
            ],
            "image/png": "[encoded data removed]"
          },
          "metadata": {
            "needs_background": "light"
          }
        },
        {
          "output_type": "stream",
          "name": "stdout",
          "text": [
            "Media das amostras:  5.40765\n",
            "Media da população:  5.4\n"
          ]
        }
      ],
      "source": [
        "# Tamanho de amostras\n",
        "n = 40\n",
        "\n",
        "# numero de simulações\n",
        "ns = 1000\n",
        "\n",
        "# Vetor vazio para armazenar a media amostral\n",
        "vx = []  # armazena a media amostral\n",
        "\n",
        "# Loop para as simulações\n",
        "for s in range(0, ns):\n",
        "    A = np.random.choice(X, n, p=P)\n",
        "    vx.append(np.mean(A))\n",
        "\n",
        "# Plot do gráfico\n",
        "plt.figure(figsize=(8, 6))\n",
        "plt.hist(x=vx,\n",
        "         bins='auto',\n",
        "         color='#0504aa',\n",
        "         alpha=0.7,\n",
        "         rwidth=0.85,\n",
        "         density=True)\n",
        "plt.xlabel(r'$\\bar{X}$', fontsize=20)\n",
        "plt.ylabel(r'$P(\\bar{X})$', fontsize=20)\n",
        "plt.show()\n",
        "\n",
        "# Print das metricas\n",
        "print(\"Media das amostras: \", np.mean(vx))\n",
        "print(\"Media da população: \", E)"
      ]
    },
    {
      "cell_type": "markdown",
      "id": "079ea058",
      "metadata": {
        "id": "079ea058"
      },
      "source": [
        "A probabilidade de ser maior do que 5:"
      ]
    },
    {
      "cell_type": "code",
      "execution_count": 17,
      "id": "f6b6a0b0",
      "metadata": {
        "ExecuteTime": {
          "end_time": "2023-03-02T00:35:52.687105Z",
          "start_time": "2023-03-02T00:35:52.670315Z"
        },
        "id": "f6b6a0b0",
        "outputId": "79348f98-ca6e-4f1e-cf27-63b5e41d5d8e",
        "colab": {
          "base_uri": "https://localhost:8080/"
        }
      },
      "outputs": [
        {
          "output_type": "stream",
          "name": "stdout",
          "text": [
            "Probabilidade > 5:  0.893\n",
            "Valor teórico    :  0.885046886863795\n"
          ]
        }
      ],
      "source": [
        "prob_s = 0\n",
        "\n",
        "for i in range(0, len(vx)):\n",
        "    if (vx[i] > 5):\n",
        "        prob_s = prob_s + 1\n",
        "\n",
        "prob_s = prob_s / len(vx)\n",
        "\n",
        "print(\"Probabilidade > 5: \", prob_s)\n",
        "print(\"Valor teórico    : \", prob)"
      ]
    },
    {
      "cell_type": "code",
      "execution_count": 18,
      "id": "1581a4e8",
      "metadata": {
        "ExecuteTime": {
          "end_time": "2023-03-02T00:36:23.505502Z",
          "start_time": "2023-03-02T00:36:23.491250Z"
        },
        "id": "1581a4e8",
        "outputId": "0185d4e2-b4d6-495b-91ba-218e38b805d8",
        "colab": {
          "base_uri": "https://localhost:8080/"
        }
      },
      "outputs": [
        {
          "output_type": "execute_result",
          "data": {
            "text/plain": [
              "0.9910939382573292"
            ]
          },
          "metadata": {},
          "execution_count": 18
        }
      ],
      "source": [
        "prob/prob_s"
      ]
    },
    {
      "cell_type": "markdown",
      "id": "5e64f528",
      "metadata": {
        "id": "5e64f528"
      },
      "source": [
        "## "
      ]
    },
    {
      "cell_type": "markdown",
      "id": "e21f417c",
      "metadata": {
        "id": "e21f417c"
      },
      "source": [
        "## Exercícios"
      ]
    },
    {
      "cell_type": "code",
      "source": [
        "import scipy.stats as st\n",
        "import numpy as np"
      ],
      "metadata": {
        "id": "IOfeNR7JbuMS"
      },
      "id": "IOfeNR7JbuMS",
      "execution_count": 19,
      "outputs": []
    },
    {
      "cell_type": "markdown",
      "id": "8a9f5a35",
      "metadata": {
        "id": "8a9f5a35"
      },
      "source": [
        "**1)** Uma máquina de bebidas está regulada de modo a servir uma média de 150ml por copo. Se a quantidade servida por copo seguir uma distribuição normal com desvio padrão de 20 ml, determine a percentagem de copos que conterão mais de 175ml de bebida."
      ]
    },
    {
      "cell_type": "code",
      "source": [
        "media = 150\n",
        "dp = 20\n",
        "z = (175-media)/dp\n",
        "print((1-st.norm.cdf(z))*100,'%')"
      ],
      "metadata": {
        "id": "vdgvlHBRbtqY",
        "outputId": "f823efe6-4a65-4779-c925-03146dc4a837",
        "colab": {
          "base_uri": "https://localhost:8080/"
        }
      },
      "id": "vdgvlHBRbtqY",
      "execution_count": 20,
      "outputs": [
        {
          "output_type": "stream",
          "name": "stdout",
          "text": [
            "10.564977366685536 %\n"
          ]
        }
      ]
    },
    {
      "cell_type": "markdown",
      "id": "79f701bd",
      "metadata": {
        "id": "79f701bd"
      },
      "source": [
        "__2)__ O tempo para desenvolver um servidor web em uma empresa é descrito por uma variável aleatória X, medida em dias, com distribuição normal de média $\\mu$ = 45 e variância $\\sigma^2$ = 400. Calcule a probabilidade de que um novo servidor web será finalizado entre 30 e 40 dias."
      ]
    },
    {
      "cell_type": "code",
      "source": [
        "media = 45\n",
        "dp = np.sqrt(400)\n",
        "z1 = (30-media)/dp\n",
        "z2 = (40-media)/dp\n",
        "print((st.norm.cdf(z2)-(st.norm.cdf(z1)))*100,'%')"
      ],
      "metadata": {
        "id": "UmlMov0Ob63j",
        "outputId": "6235400f-0113-42f4-f98e-2844ae11785b",
        "colab": {
          "base_uri": "https://localhost:8080/"
        }
      },
      "id": "UmlMov0Ob63j",
      "execution_count": 22,
      "outputs": [
        {
          "output_type": "stream",
          "name": "stdout",
          "text": [
            "17.46663219402081 %\n"
          ]
        }
      ]
    },
    {
      "cell_type": "code",
      "source": [
        "# função para calcular a probabilidade a partir do Z Score\n",
        "import scipy.stats as st\n",
        "\n",
        "# Média\n",
        "mu = 45\n",
        "\n",
        "# Desvio Padrão\n",
        "sigma = np.sqrt(400)\n",
        "\n",
        "# Calculando Z1 para 30 dias\n",
        "z1 = (30 - mu)/sigma\n",
        "\n",
        "# Calculando Z2 para 40 dias\n",
        "z2 = (40 - mu)/sigma\n",
        "\n",
        "# Print do Z Score e da probabilidade\n",
        "print('Z - Score para 30 dias: ', z1)\n",
        "print('Z - Score para 40 dias: ', z2)\n",
        "print('Probabilidade         : ', st.norm.cdf(z2) - st.norm.cdf(z1))"
      ],
      "metadata": {
        "id": "VQKYJD9lcX-e",
        "outputId": "bd9ea7f7-e5c4-42e9-cb0c-4ed89c3a02d9",
        "colab": {
          "base_uri": "https://localhost:8080/"
        }
      },
      "id": "VQKYJD9lcX-e",
      "execution_count": 23,
      "outputs": [
        {
          "output_type": "stream",
          "name": "stdout",
          "text": [
            "Z - Score para 30 dias:  -0.75\n",
            "Z - Score para 40 dias:  -0.25\n",
            "Probabilidade         :  0.1746663219402081\n"
          ]
        }
      ]
    },
    {
      "cell_type": "markdown",
      "id": "8654430b",
      "metadata": {
        "id": "8654430b"
      },
      "source": [
        "__3)__ Uma população é descrita pela seguinte distribuição de probabilidades:\n",
        "    \n",
        "- 𝑃(𝑋 = 2) = 0,2;\n",
        "- 𝑃(𝑋 = 4) = 0,4;\n",
        "- 𝑃(𝑋 = 6) = 0,4\n",
        "\n",
        "Uma amostra com 50 observações é sorteada. Calcule a probabilidade de que a média dessa amostra seja maior do que 4.5"
      ]
    },
    {
      "cell_type": "code",
      "source": [
        "# Função para a esperança\n",
        "def esperanca(X, P):\n",
        "    E = 0\n",
        "    for i in range(0, len(X)):\n",
        "        E = E + X[i]*P[i]\n",
        "    return E\n",
        "    \n",
        "# Função para a variância\n",
        "def variancia(X ,P):\n",
        "    E = 0; E2 = 0\n",
        "    for i in range(0, len(X)):\n",
        "        E = E + X[i]*P[i]\n",
        "        E2 = E2 + (X[i]**2)*P[i]\n",
        "    V = E2-E**2\n",
        "    return V\n",
        "\n",
        "# Vetor de Eventos\n",
        "X = [2, 4, 6]\n",
        "\n",
        "# Vetor de Probabilidades\n",
        "P = [0.2, 0.4, 0.4]\n",
        "\n",
        "# Calculo da Esperança\n",
        "E = esperanca(X,P)\n",
        "\n",
        "# Calculo da Variância\n",
        "V = variancia(X,P)\n",
        "\n",
        "# Print das métricas\n",
        "print(\"Esperança: \", E)\n",
        "print(\"Variância: \", V)"
      ],
      "metadata": {
        "id": "aEyE3mEvcmRM",
        "outputId": "9e847259-bb32-4413-f601-49e674458095",
        "colab": {
          "base_uri": "https://localhost:8080/"
        }
      },
      "id": "aEyE3mEvcmRM",
      "execution_count": 24,
      "outputs": [
        {
          "output_type": "stream",
          "name": "stdout",
          "text": [
            "Esperança:  4.4\n",
            "Variância:  2.2399999999999984\n"
          ]
        }
      ]
    },
    {
      "cell_type": "markdown",
      "source": [
        "Valor teórico a partir do Z-Score:"
      ],
      "metadata": {
        "id": "F1MuSkmzcyGI"
      },
      "id": "F1MuSkmzcyGI"
    },
    {
      "cell_type": "code",
      "source": [
        "# Função para calcaur a probabilidade pelo Z Score\n",
        "import scipy.stats as st\n",
        "\n",
        "# Define a média\n",
        "mu = E\n",
        "\n",
        "# Define o desvio padrão\n",
        "sigma = np.sqrt(V)\n",
        "\n",
        "# Tamanho da amostra\n",
        "n = 50\n",
        "\n",
        "# X a verificar\n",
        "x = 4.5\n",
        "\n",
        "# Z-score\n",
        "Z = (x - mu)/(sigma/np.sqrt(n))\n",
        "\n",
        "# Calculo da probabilidade\n",
        "prob = 1-st.norm.cdf(Z)\n",
        "\n",
        "# PRint da probabilidade\n",
        "print(\"Z Score :\", Z)\n",
        "print('Probabilidade: ', prob)"
      ],
      "metadata": {
        "id": "QeaoIMXtcvaS",
        "outputId": "00e368ac-6460-494c-8407-8c321e8d6f91",
        "colab": {
          "base_uri": "https://localhost:8080/"
        }
      },
      "id": "QeaoIMXtcvaS",
      "execution_count": 25,
      "outputs": [
        {
          "output_type": "stream",
          "name": "stdout",
          "text": [
            "Z Score : 0.4724555912615326\n",
            "Probabilidade:  0.31830081628180096\n"
          ]
        }
      ]
    },
    {
      "cell_type": "markdown",
      "id": "acfcc8f1",
      "metadata": {
        "id": "acfcc8f1"
      },
      "source": [
        "__4)__ Em uma empresa de vendas planos de internet, a duração de conversas telefônicas (em minutos), segue o modelo de uma distribuição exponencial com parâmetro $\\lambda = \\frac{1}{5}$. Observando-se uma amostra aleatória de 50 dessas chamadas, qual será a probabilidade de que tais amostras em média não ultrapassem 6 minutos?"
      ]
    },
    {
      "cell_type": "markdown",
      "source": [
        "---\n",
        "Para a distribuição exponencial, temos que:\n",
        "    \n",
        "$$ E[X] = \\frac{1}{\\lambda} = 5$$\n",
        "\n",
        "<br>\n",
        "\n",
        "$$ V[X] = \\frac{1}{\\lambda^2} = 25 $$\n",
        "\n",
        "<br>\n",
        "\n",
        "Queremos calcular $P(\\bar{X} < 6)$, portanto utilizando o Teorema do Limite Central:\n",
        "\n",
        "$$\n",
        "P(\\bar{X} \\leq 6) = P\\left(\\frac{\\bar{X}-\\mu}{\\frac{\\sigma}{\\sqrt{n}}} \\leq \\frac{6-\\mu}{\\frac{\\sigma}{\\sqrt{n}}}\\right)\n",
        "$$"
      ],
      "metadata": {
        "id": "Weq-12AKdGuI"
      },
      "id": "Weq-12AKdGuI"
    },
    {
      "cell_type": "code",
      "source": [
        "# Função para calcaur a probabilidade pelo Z Score\n",
        "import scipy.stats as st\n",
        "\n",
        "# Define a média\n",
        "mu = 5\n",
        "\n",
        "# Define o desvio padrão\n",
        "sigma = np.sqrt(25)\n",
        "\n",
        "# Tamanho da amostra\n",
        "n = 50\n",
        "\n",
        "# X a verificar\n",
        "x = 6\n",
        "\n",
        "# Z-score\n",
        "Z = (x - mu)/(sigma/np.sqrt(n))\n",
        "\n",
        "# Calculo da probabilidade\n",
        "prob = st.norm.cdf(Z)\n",
        "\n",
        "# PRint da probabilidade\n",
        "print('Z-Score:       ', Z)\n",
        "print('Probabilidade: ', prob)"
      ],
      "metadata": {
        "id": "yXUkIWavc67p",
        "outputId": "c46d5ffb-fa36-4be3-8ed8-eb4c74dc84ac",
        "colab": {
          "base_uri": "https://localhost:8080/"
        }
      },
      "id": "yXUkIWavc67p",
      "execution_count": 26,
      "outputs": [
        {
          "output_type": "stream",
          "name": "stdout",
          "text": [
            "Z-Score:        1.4142135623730951\n",
            "Probabilidade:  0.9213503964748575\n"
          ]
        }
      ]
    }
  ],
  "metadata": {
    "kernelspec": {
      "display_name": "Python 3 (ipykernel)",
      "language": "python",
      "name": "python3"
    },
    "language_info": {
      "codemirror_mode": {
        "name": "ipython",
        "version": 3
      },
      "file_extension": ".py",
      "mimetype": "text/x-python",
      "name": "python",
      "nbconvert_exporter": "python",
      "pygments_lexer": "ipython3",
      "version": "3.10.9"
    },
    "varInspector": {
      "cols": {
        "lenName": 16,
        "lenType": 16,
        "lenVar": 40
      },
      "kernels_config": {
        "python": {
          "delete_cmd_postfix": "",
          "delete_cmd_prefix": "del ",
          "library": "var_list.py",
          "varRefreshCmd": "print(var_dic_list())"
        },
        "r": {
          "delete_cmd_postfix": ") ",
          "delete_cmd_prefix": "rm(",
          "library": "var_list.r",
          "varRefreshCmd": "cat(var_dic_list()) "
        }
      },
      "types_to_exclude": [
        "module",
        "function",
        "builtin_function_or_method",
        "instance",
        "_Feature"
      ],
      "window_display": false
    },
    "colab": {
      "provenance": []
    }
  },
  "nbformat": 4,
  "nbformat_minor": 5
}