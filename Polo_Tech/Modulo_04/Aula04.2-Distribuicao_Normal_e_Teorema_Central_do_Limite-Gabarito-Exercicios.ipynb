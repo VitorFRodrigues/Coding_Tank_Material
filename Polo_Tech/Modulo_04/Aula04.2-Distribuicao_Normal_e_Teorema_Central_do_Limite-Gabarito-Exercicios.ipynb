{
  "cells": [
    {
      "cell_type": "markdown",
      "id": "ae3011b8",
      "metadata": {
        "id": "ae3011b8"
      },
      "source": [
        "# 04 - Distribuição Normal e Teorema Central do Limite\n",
        "\n",
        "Nessa aula, iremos tratar dos seguintes conteúdos:\n",
        "- Distribuição Normal\n",
        "- Teorema Central do Limite"
      ]
    },
    {
      "cell_type": "markdown",
      "id": "a03399f7",
      "metadata": {
        "id": "a03399f7"
      },
      "source": [
        "<img src = \"https://miro.medium.com/max/1200/1*IdGgdrY_n_9_YfkaCh-dag.png\" width=800>"
      ]
    },
    {
      "cell_type": "markdown",
      "id": "9c40097b",
      "metadata": {
        "id": "9c40097b"
      },
      "source": [
        "## "
      ]
    },
    {
      "cell_type": "markdown",
      "id": "e21f417c",
      "metadata": {
        "id": "e21f417c"
      },
      "source": [
        "## Exercícios"
      ]
    },
    {
      "cell_type": "code",
      "execution_count": 1,
      "id": "fe5619a1",
      "metadata": {
        "id": "fe5619a1"
      },
      "outputs": [],
      "source": [
        "import scipy.stats as st\n",
        "import numpy as np"
      ]
    },
    {
      "cell_type": "markdown",
      "id": "8a9f5a35",
      "metadata": {
        "id": "8a9f5a35"
      },
      "source": [
        "**1)** Uma máquina de bebidas está regulada de modo a servir uma média de 150ml por copo. Se a quantidade servida por copo seguir uma distribuição normal com desvio padrão de 20 ml, determine a percentagem de copos que conterão mais de 175ml de bebida."
      ]
    },
    {
      "cell_type": "markdown",
      "id": "8ab5d35a",
      "metadata": {
        "id": "8ab5d35a"
      },
      "source": [
        "$$\n",
        "P(X \\geq 175) = P\\left( \\frac{X-\\mu}{\\sigma}\\geq \\frac{175-\\mu}{\\sigma}\\right) = P\\left( Z \\geq \\frac{175-\\mu}{\\sigma}\\right) = 1 - P\\left( Z < \\frac{175-\\mu}{\\sigma}\\right)\n",
        "$$"
      ]
    },
    {
      "cell_type": "code",
      "execution_count": 2,
      "id": "1d85ab28",
      "metadata": {
        "id": "1d85ab28",
        "outputId": "660942e8-41e2-4295-9604-bbbccbbabe97",
        "colab": {
          "base_uri": "https://localhost:8080/"
        }
      },
      "outputs": [
        {
          "output_type": "stream",
          "name": "stdout",
          "text": [
            "10.564977366685536 %\n"
          ]
        }
      ],
      "source": [
        "media = 150\n",
        "dp = 20\n",
        "z = (175-media)/dp\n",
        "print((1-st.norm.cdf(z))*100,'%')"
      ]
    },
    {
      "cell_type": "markdown",
      "id": "79f701bd",
      "metadata": {
        "id": "79f701bd"
      },
      "source": [
        "__2)__ O tempo para desenvolver um servidor web em uma empresa é descrito por uma variável aleatória X, medida em dias, com distribuição normal de média $\\mu$ = 45 e variância $\\sigma^2$ = 400. Calcule a probabilidade de que um novo servidor web será finalizado entre 30 e 40 dias."
      ]
    },
    {
      "cell_type": "markdown",
      "id": "2843619e",
      "metadata": {
        "id": "2843619e"
      },
      "source": [
        "$$\n",
        "P(30 \\leq X \\leq 40) = P\\left(\\frac{30-\\mu}{\\sigma} \\leq \\frac{X-\\mu}{\\sigma} \\leq \\frac{40-\\mu}{\\sigma}\\right)=P\\left(\\frac{30-\\mu}{\\sigma} \\leq Z \\leq \\frac{40-\\mu}{\\sigma}\\right) = \n",
        "$$\n",
        "$$\n",
        "= P\\left(Z \\leq \\frac{40-\\mu}{\\sigma}\\right)-P\\left( Z \\leq \\frac{30-\\mu}{\\sigma}\\right)\n",
        "$$"
      ]
    },
    {
      "cell_type": "code",
      "execution_count": 3,
      "id": "44996be6",
      "metadata": {
        "id": "44996be6",
        "outputId": "41ef1565-f357-455c-de56-249e8b484421",
        "colab": {
          "base_uri": "https://localhost:8080/"
        }
      },
      "outputs": [
        {
          "output_type": "stream",
          "name": "stdout",
          "text": [
            "Z - Score para 30 dias:  -0.75\n",
            "Z - Score para 40 dias:  -0.25\n",
            "Probabilidade         :  0.1746663219402081\n"
          ]
        }
      ],
      "source": [
        "# função para calcular a probabilidade a partir do Z Score\n",
        "import scipy.stats as st\n",
        "\n",
        "# Média\n",
        "mu = 45\n",
        "\n",
        "# Desvio Padrão\n",
        "sigma = np.sqrt(400)\n",
        "\n",
        "# Calculando Z1 para 30 dias\n",
        "z1 = (30 - mu)/sigma\n",
        "\n",
        "# Calculando Z2 para 40 dias\n",
        "z2 = (40 - mu)/sigma\n",
        "\n",
        "# Print do Z Score e da probabilidade\n",
        "print('Z - Score para 30 dias: ', z1)\n",
        "print('Z - Score para 40 dias: ', z2)\n",
        "print('Probabilidade         : ', st.norm.cdf(z2) - st.norm.cdf(z1))"
      ]
    },
    {
      "cell_type": "markdown",
      "id": "8654430b",
      "metadata": {
        "id": "8654430b"
      },
      "source": [
        "__3)__ Uma população é descrita pela seguinte distribuição de probabilidades:\n",
        "    \n",
        "- 𝑃(𝑋 = 2) = 0,2;\n",
        "- 𝑃(𝑋 = 4) = 0,4;\n",
        "- 𝑃(𝑋 = 6) = 0,4\n",
        "\n",
        "Uma amostra com 50 observações é sorteada. Calcule a probabilidade de que a média dessa amostra seja maior do que 4.5"
      ]
    },
    {
      "cell_type": "code",
      "execution_count": 4,
      "id": "92306626",
      "metadata": {
        "id": "92306626",
        "outputId": "0b03931c-e6c9-493e-f411-549358cd83ae",
        "colab": {
          "base_uri": "https://localhost:8080/"
        }
      },
      "outputs": [
        {
          "output_type": "stream",
          "name": "stdout",
          "text": [
            "Esperança:  4.4\n",
            "Variância:  2.2399999999999984\n"
          ]
        }
      ],
      "source": [
        "# Função para a esperança\n",
        "def esperanca(X, P):\n",
        "    E = 0\n",
        "    for i in range(0, len(X)):\n",
        "        E = E + X[i]*P[i]\n",
        "    return E\n",
        "    \n",
        "# Função para a variância\n",
        "def variancia(X ,P):\n",
        "    E = 0; E2 = 0\n",
        "    for i in range(0, len(X)):\n",
        "        E = E + X[i]*P[i]\n",
        "        E2 = E2 + (X[i]**2)*P[i]\n",
        "    V = E2-E**2\n",
        "    return V\n",
        "\n",
        "# Vetor de Eventos\n",
        "X = [2, 4, 6]\n",
        "\n",
        "# Vetor de Probabilidades\n",
        "P = [0.2, 0.4, 0.4]\n",
        "\n",
        "# Calculo da Esperança\n",
        "E = esperanca(X,P)\n",
        "\n",
        "# Calculo da Variância\n",
        "V = variancia(X,P)\n",
        "\n",
        "# Print das métricas\n",
        "print(\"Esperança: \", E)\n",
        "print(\"Variância: \", V)"
      ]
    },
    {
      "cell_type": "markdown",
      "id": "f22bd360",
      "metadata": {
        "id": "f22bd360"
      },
      "source": [
        "Valor teórico a partir do Z-Score:"
      ]
    },
    {
      "cell_type": "code",
      "execution_count": 5,
      "id": "2db29817",
      "metadata": {
        "id": "2db29817",
        "outputId": "5de5424c-8da2-48d7-f6bd-507b83e6b9d1",
        "colab": {
          "base_uri": "https://localhost:8080/"
        }
      },
      "outputs": [
        {
          "output_type": "stream",
          "name": "stdout",
          "text": [
            "Z Score : 0.4724555912615326\n",
            "Probabilidade:  0.31830081628180096\n"
          ]
        }
      ],
      "source": [
        "# Função para calcaur a probabilidade pelo Z Score\n",
        "import scipy.stats as st\n",
        "\n",
        "# Define a média\n",
        "mu = E\n",
        "\n",
        "# Define o desvio padrão\n",
        "sigma = np.sqrt(V)\n",
        "\n",
        "# Tamanho da amostra\n",
        "n = 50\n",
        "\n",
        "# X a verificar\n",
        "x = 4.5\n",
        "\n",
        "# Z-score\n",
        "Z = (x - mu)/(sigma/np.sqrt(n))\n",
        "\n",
        "# Calculo da probabilidade\n",
        "prob = 1-st.norm.cdf(Z)\n",
        "\n",
        "# PRint da probabilidade\n",
        "print(\"Z Score :\", Z)\n",
        "print('Probabilidade: ', prob)"
      ]
    },
    {
      "cell_type": "markdown",
      "id": "acfcc8f1",
      "metadata": {
        "id": "acfcc8f1"
      },
      "source": [
        "__4)__ Em uma empresa de vendas planos de internet, a duração de conversas telefônicas (em minutos), segue o modelo de uma distribuição exponencial com parâmetro $\\lambda = \\frac{1}{5}$. Observando-se uma amostra aleatória de 50 dessas chamadas, qual será a probabilidade de que tais amostras em média não ultrapassem 6 minutos?"
      ]
    },
    {
      "cell_type": "markdown",
      "id": "4d440286",
      "metadata": {
        "id": "4d440286"
      },
      "source": [
        "Para a distribuição exponencial, temos que:\n",
        "    \n",
        "$$ E[X] = \\frac{1}{\\lambda} = 5$$\n",
        "\n",
        "<br>\n",
        "\n",
        "$$ V[X] = \\frac{1}{\\lambda^2} = 25 $$\n",
        "\n",
        "<br>\n",
        "\n",
        "Queremos calcular $P(\\bar{X} < 6)$, portanto utilizando o Teorema do Limite Central:\n",
        "\n",
        "$$\n",
        "P(\\bar{X} \\leq 6) = P\\left(\\frac{\\bar{X}-\\mu}{\\frac{\\sigma}{\\sqrt{n}}} \\leq \\frac{6-\\mu}{\\frac{\\sigma}{\\sqrt{n}}}\\right)\n",
        "$$\n"
      ]
    },
    {
      "cell_type": "code",
      "execution_count": 6,
      "id": "e69dba68",
      "metadata": {
        "id": "e69dba68",
        "outputId": "53d36de8-3ba3-4d65-95f2-a917724c4400",
        "colab": {
          "base_uri": "https://localhost:8080/"
        }
      },
      "outputs": [
        {
          "output_type": "stream",
          "name": "stdout",
          "text": [
            "Z-Score:        1.4142135623730951\n",
            "Probabilidade:  0.9213503964748575\n"
          ]
        }
      ],
      "source": [
        "# Função para calcaur a probabilidade pelo Z Score\n",
        "import scipy.stats as st\n",
        "\n",
        "# Define a média\n",
        "mu = 5\n",
        "\n",
        "# Define o desvio padrão\n",
        "sigma = np.sqrt(25)\n",
        "\n",
        "# Tamanho da amostra\n",
        "n = 50\n",
        "\n",
        "# X a verificar\n",
        "x = 6\n",
        "\n",
        "# Z-score\n",
        "Z = (x - mu)/(sigma/np.sqrt(n))\n",
        "\n",
        "# Calculo da probabilidade\n",
        "prob = st.norm.cdf(Z)\n",
        "\n",
        "# PRint da probabilidade\n",
        "print('Z-Score:       ', Z)\n",
        "print('Probabilidade: ', prob)"
      ]
    }
  ],
  "metadata": {
    "kernelspec": {
      "display_name": "Python 3 (ipykernel)",
      "language": "python",
      "name": "python3"
    },
    "language_info": {
      "codemirror_mode": {
        "name": "ipython",
        "version": 3
      },
      "file_extension": ".py",
      "mimetype": "text/x-python",
      "name": "python",
      "nbconvert_exporter": "python",
      "pygments_lexer": "ipython3",
      "version": "3.8.11"
    },
    "colab": {
      "provenance": []
    }
  },
  "nbformat": 4,
  "nbformat_minor": 5
}