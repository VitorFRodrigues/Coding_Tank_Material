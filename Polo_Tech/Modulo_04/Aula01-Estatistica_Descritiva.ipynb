{
  "cells": [
    {
      "cell_type": "markdown",
      "id": "4cb05e73",
      "metadata": {
        "id": "4cb05e73"
      },
      "source": [
        "#  Apresentação"
      ]
    },
    {
      "cell_type": "markdown",
      "id": "baec4148",
      "metadata": {
        "id": "baec4148"
      },
      "source": [
        "Renata Martins Marchese\n",
        "\n",
        "- https://www.linkedin.com/in/renatamarchese/\n",
        "- Email: renata.marchese@ada.tech\n",
        "- Material: https://github.com/renatapink/DS_Americanas_922\n",
        "\n",
        "- Material no class\n",
        "- Chat do class\n",
        "\n",
        "- Procurar por Collab do Google, Try Jupyter, deepnote, kaggle e muitos outros (jupyter online)"
      ]
    },
    {
      "cell_type": "markdown",
      "id": "6b467f05",
      "metadata": {
        "id": "6b467f05"
      },
      "source": [
        "Calendário"
      ]
    },
    {
      "cell_type": "markdown",
      "id": "5b54dc1c",
      "metadata": {
        "id": "5b54dc1c"
      },
      "source": [
        "# Estatística Descritiva\n",
        "\n",
        "Nessa aula, iremos tratar dos seguintes conteúdos:\n",
        "- Introdução\n",
        "- Tipos de Variáveis\n",
        "- Estatística Descritiva\n",
        "- Métricas de Posição\n",
        "- Boxplot\n",
        "- Outliers\n",
        "- Métricas de Dispersão\n",
        "- Correlação\n",
        "- Assimetria\n",
        "- Tabela de Frequências"
      ]
    },
    {
      "cell_type": "markdown",
      "id": "a943b1c6",
      "metadata": {
        "id": "a943b1c6"
      },
      "source": [
        "Nessa e na próxima aula iniciaremos nossa introdução a **Probabilidade e Estatística**.\n",
        "\n",
        "Essas duas áreas são extremamente amplas, e fornecem toda a base da __ciência de dados__. Por isso, vamos dar uma olhada nos principais conceitos. A probabilidade e estatística podem ser divididas nos seguintes três pilares:\n",
        "\n",
        "**Probabilidade**: é a teoria matemática utilizada para se estudar a incerteza oriundas de `fenômenos de caráter aleátorio`.\n",
        "\n",
        "**Estatística Descritiva**: Etapa inicial da análise estatística, tendo como objetivo tirar informações prévias de modo informal e direto. A ideia é obter informações que `resumam` o conjuto de dados, a fim que estes possam ser `descritos`, e conclusões iniciais possam ser tiradas.\n",
        "\n",
        "**Inferência Estatística**: É o conjunto de técnicas que possibilitam a extrapolação de conclusões tiradas a partir de um conjunto pequeno de dados (denominado `amostra`) para todo o universo sob análise denominado (`população`).\n",
        "\n",
        "<img src=\"https://phhp-faculty-cantrell.sites.medinfo.ufl.edu/files/2012/07/mod10-big_picture_inference.gif\" width=\"600\">"
      ]
    },
    {
      "cell_type": "markdown",
      "id": "753772a6",
      "metadata": {
        "id": "753772a6"
      },
      "source": [
        "## Tipos de Variáveis \n",
        "\n",
        "Antes de explorarmos a estatística descritiva é importante formalizarmos os **tipos de dados** com os quais normalmente trabalhamos:\n",
        "\n",
        "- **Variavél qualitativa** \n",
        "-- *Nominal* \n",
        "\n",
        "Valores que expressam **atributos sem nenhum tipo de ordem**. Ex : sexo, estado civil, país de origem, ser fumante ou não, etc.\n",
        "\n",
        "    - São representados por strings\n",
        "\n",
        "\n",
        "- **Variavél qualitativa** \n",
        "-- *Ordinal* \n",
        "\n",
        "Valores que expressam **atributos com algum tipo de ordem ou grau**. Ex: escolaridade, resposta de um paciente(piora, igual, melhora), classe social(alta, média,baixa), classe do navio, etc.\n",
        "\n",
        "    - São representados por strings\n",
        "    \n",
        "\n",
        "- **Variavél quantitativa** \n",
        "-- *Discreta*  \n",
        "\n",
        "Valores numéricos inteiros. Ex: idade em anos inteiros, número de banheiros em uma casa, número de filhos, etc.\n",
        "\n",
        "    - São representados por ints\n",
        "    \n",
        "\n",
        "- **Variavél quantitativa** \n",
        "-- *Contínua*  \n",
        "\n",
        "Valores numéricos racionais. Ex: salário, preço, temperatura, gorjeta, etc.\n",
        "\n",
        "    - São representados por floats"
      ]
    },
    {
      "cell_type": "markdown",
      "id": "9c7d7051",
      "metadata": {
        "id": "9c7d7051"
      },
      "source": [
        "## Métricas de Posição\n",
        "\n",
        "Como mencionamos anteriormente, o principal objetivo da estatística descritiva é gerar **medidas que resumam** o conjunto de dados que estamos analisando, ou seja, medidas que descrevam **a distribuição** dos dados, de forma quantitativa. Temos dois tipos de métricas disponíveis: as métricas de __posição__ e __dispersão__. Vamos conhecer melhor essas métricas a seguir:\n",
        "\n",
        "__Métricas de Posição:__ Estas são medidas que **resumem** algumas propriedades do conjunto de dados:\n",
        "\n",
        "<img src=\"https://i.pinimg.com/originals/3e/8a/90/3e8a90c122ad25240cc46ac075cb0f4c.png\" width=200>\n",
        "\n",
        "### Média\n",
        "\n",
        "Seja $X$ uma variável quantitativa e $x_1,x_2,x_3, ...$ os valores assumidos por X. Define-se média de $\\overline{X}$ como sendo :\n",
        "\n",
        "$$\\overline{X} = \\frac{\\sum_{i=1}^{n}x_i}{n}= \\frac{x_1+ x_2 + x_3 +... +x_n}{n}$$"
      ]
    },
    {
      "cell_type": "code",
      "execution_count": 1,
      "id": "57065925",
      "metadata": {
        "ExecuteTime": {
          "end_time": "2023-02-16T00:17:31.056193Z",
          "start_time": "2023-02-16T00:17:20.955846Z"
        },
        "id": "57065925"
      },
      "outputs": [],
      "source": [
        "# Import das Principais Bibliotecas\n",
        "import pandas as pd\n",
        "import numpy as np\n",
        "\n",
        "import matplotlib.pyplot as plt\n",
        "import seaborn as sns"
      ]
    },
    {
      "cell_type": "code",
      "execution_count": 2,
      "id": "308ee219",
      "metadata": {
        "ExecuteTime": {
          "end_time": "2023-02-16T00:29:10.406524Z",
          "start_time": "2023-02-16T00:29:10.383122Z"
        },
        "id": "308ee219",
        "outputId": "67667bbe-f66e-4d41-d69a-b65066e31a27",
        "colab": {
          "base_uri": "https://localhost:8080/"
        }
      },
      "outputs": [
        {
          "output_type": "stream",
          "name": "stdout",
          "text": [
            "Dados: [ 7 15 11  8  7 19 11 11  4  8  3  2]\n",
            "\n",
            "Média dos dados: 8.833333333333334\n"
          ]
        }
      ],
      "source": [
        "# Define uma semente randômica\n",
        "np.random.seed(42) # garantir que todos que copiarem esse código tenha a mesma amostra aleatória\n",
        "\n",
        "# Vamos criar uma amostra aleatória de numéros inteiros\n",
        "amostra = np.random.randint(1, 20, 12) # 12 valores entre 1 e 19 (não entra o 20)\n",
        "\n",
        "# Print da amostra\n",
        "print(\"Dados:\", amostra)\n",
        "\n",
        "# Print da Média da Amostra\n",
        "print(\"\\nMédia dos dados:\", amostra.mean())"
      ]
    },
    {
      "cell_type": "markdown",
      "id": "aeb7b8c9",
      "metadata": {
        "id": "aeb7b8c9"
      },
      "source": [
        "Sempre olhe a documentação: https://numpy.org/doc/stable/reference/random/generated/numpy.random.randint.html"
      ]
    },
    {
      "cell_type": "markdown",
      "id": "de730334",
      "metadata": {
        "id": "de730334"
      },
      "source": [
        "### Mediana\n",
        "\n",
        "A **mediana** de uma variável é um número tal que há o mesmo número de observações maiores e menores do que ele, ocupando assim a **posição central** da série de observações.\n",
        "\n",
        "Assim, para calcularmos a mediana, basta **ordenarmos os dados, do menor pro maior**, e contar o que está no meio dos dados ordenados (se houver número par de dados, pega-se a média entre os dados que estão \"no meio\")\n",
        "\n",
        "- *Exemplo*\n",
        "\n",
        "i) 3,4,**7**,8,8 **mediana = 7**       (CASO ÍMPAR)\n",
        "\n",
        "ii) 3,4,**7**,**8**,8,9 **mediana = (7+8)/2 = 7,5**   (CASO PAR)\n",
        "\n",
        "<br>\n",
        "\n",
        "Logo, podemos definir: \n",
        "\n",
        "- Mediana de $X = X_{\\frac{n+1}{2}}$ `Se tamanho da amostra ímpar`\n",
        "\n",
        "\n",
        "- Mediana de $X = \\frac{X_{\\frac{n}{2}}+ X_{\\frac{n+1}{2}}}{2}$ `Se tamanho da amostra par`\n",
        "\n",
        "Como os valores de **indice no python** começam em `0`, devemos nos atentar que a equação acima deve ficar como:\n",
        "\n",
        "- Mediana de $X = X_{\\frac{n}{2}}$ `Se tamanho da amostra ímpar`\n",
        "\n",
        "\n",
        "- Mediana de $X = \\frac{X_{\\frac{n-1}{2}}+ X_{\\frac{n}{2}}}{2}$ `Se tamanho da amostra par`"
      ]
    },
    {
      "cell_type": "code",
      "execution_count": 3,
      "id": "179e2dd9",
      "metadata": {
        "ExecuteTime": {
          "end_time": "2023-02-16T00:40:26.822355Z",
          "start_time": "2023-02-16T00:40:26.801782Z"
        },
        "id": "179e2dd9",
        "outputId": "cc63ce92-d6b5-4271-eb84-857e80dac22f",
        "colab": {
          "base_uri": "https://localhost:8080/"
        }
      },
      "outputs": [
        {
          "output_type": "stream",
          "name": "stdout",
          "text": [
            "Dados: [ 7 15 11  8  7 19 11 11  4  8  3  2 12]\n",
            "\n",
            "Dados ordenados: [2, 3, 4, 7, 7, 8, 8, 11, 11, 11, 12, 15, 19]\n",
            "\n",
            "Mediana dos dados: 8.0\n"
          ]
        }
      ],
      "source": [
        "# Define a semente randômica\n",
        "np.random.seed(42)\n",
        "\n",
        "# Cria uma amostra de números aleatórios\n",
        "amostra = np.random.randint(1, 20, 13)\n",
        "\n",
        "# Print da Amostra\n",
        "print(\"Dados:\", amostra)\n",
        "\n",
        "# Print da Amostra Ordenada\n",
        "print(\"\\nDados ordenados:\", sorted(amostra))\n",
        "\n",
        "# Print do Valor da Mediana\n",
        "print(\"\\nMediana dos dados:\", np.median(amostra))"
      ]
    },
    {
      "cell_type": "markdown",
      "id": "76ea30bc",
      "metadata": {
        "id": "76ea30bc"
      },
      "source": [
        "### Quartis (Q1, Q2 e Q3)\n",
        "\n",
        "São valores dados a partir do conjunto de observações ordenado em ordem crescente, que dividem os dados **em quatro partes iguais**. \n",
        "\n",
        "- O primeiro quartil, Q1, é o número que deixa 25% das observações abaixo e 75% acima;\n",
        "- O segundo quartil, Q2 é a **mediana**, deixa 50% das observações abaixo e 50% das observações acima;\n",
        "- O terceiro quartil, Q3, deixa 75% das observações abaixo e 25% acima;\n",
        "\n",
        "\n",
        "<img src=\"https://aprendendogestao.com.br/wp-content/uploads/2016/07/QE-Figura-1.png\" width=\"700\" height=\"700\" />"
      ]
    },
    {
      "cell_type": "code",
      "execution_count": 4,
      "id": "7b699a86",
      "metadata": {
        "ExecuteTime": {
          "end_time": "2023-02-16T00:47:41.832304Z",
          "start_time": "2023-02-16T00:47:41.817389Z"
        },
        "id": "7b699a86",
        "outputId": "b343c661-bd6b-4222-c852-73545d4bb5cf",
        "colab": {
          "base_uri": "https://localhost:8080/"
        }
      },
      "outputs": [
        {
          "output_type": "stream",
          "name": "stdout",
          "text": [
            "Dados: [ 7 15 11  8  7 19 11 11  4  8  3  2 12]\n",
            "\n",
            "Dados Ordenados: [2, 3, 4, 7, 7, 8, 8, 11, 11, 11, 12, 15, 19]\n",
            "\n",
            "Q1: 7.0\n",
            "\n",
            "Q2: 8.0\n",
            "\n",
            "Q3: 11.0\n",
            "\n",
            "0.1-quantile: 3.2\n"
          ]
        }
      ],
      "source": [
        "# Print da Amostra\n",
        "print(\"Dados:\", amostra)\n",
        "\n",
        "# Print da Amostra Ordenada\n",
        "print(\"\\nDados Ordenados:\", sorted(amostra))\n",
        "\n",
        "# Print dos Quartis\n",
        "print(\"\\nQ1:\", np.quantile(amostra, 0.25))\n",
        "print(\"\\nQ2:\", np.quantile(amostra, 0.50))\n",
        "print(\"\\nQ3:\", np.quantile(amostra, 0.75))\n",
        "print(\"\\n0.1-quantile:\", np.quantile(amostra, 0.1))"
      ]
    },
    {
      "cell_type": "markdown",
      "id": "a5c5c049",
      "metadata": {
        "id": "a5c5c049"
      },
      "source": [
        "### Intervalo Interquartil (IQR)\n",
        "\n",
        "Por construção, aproximadamente metade dos dados estão entre o 1º e o 3º quartil, isto é, este também pode ser interpretado como **um intervalo de valores tipicamente assumidos pelas observações**, e também é uma **medida de dispersão**, pois nos dá uma ideia da variação que existe entre o Q1 e o Q3."
      ]
    },
    {
      "cell_type": "code",
      "execution_count": 5,
      "id": "78ac8fb2",
      "metadata": {
        "ExecuteTime": {
          "end_time": "2023-02-16T00:55:18.281969Z",
          "start_time": "2023-02-16T00:55:18.259174Z"
        },
        "id": "78ac8fb2",
        "outputId": "9cc46164-4abf-4b86-d54f-84c2eeb0d204",
        "colab": {
          "base_uri": "https://localhost:8080/"
        }
      },
      "outputs": [
        {
          "output_type": "stream",
          "name": "stdout",
          "text": [
            "Dados: [ 7 15 11  8  7 19 11 11  4  8  3  2 12]\n",
            "\n",
            "Dados ordenados: [2, 3, 4, 7, 7, 8, 8, 11, 11, 11, 12, 15, 19]\n",
            "\n",
            "IQR: 4.0\n"
          ]
        }
      ],
      "source": [
        "# Print da Amostra\n",
        "print(\"Dados:\", amostra)\n",
        "\n",
        "# Print da Amostra Ordenada\n",
        "print(\"\\nDados ordenados:\", sorted(amostra))\n",
        "\n",
        "# Calcula o intervalo interquartil\n",
        "iqr = np.quantile(amostra, 0.75) - np.quantile(amostra, 0.25)\n",
        "\n",
        "# Print do IQR\n",
        "print(\"\\nIQR:\", iqr)"
      ]
    },
    {
      "cell_type": "markdown",
      "id": "b7b50374",
      "metadata": {
        "id": "b7b50374"
      },
      "source": [
        "### Moda\n",
        "\n",
        "A **moda** é o valor que ocorre com **maior frequencia** em um conjunto de dados. Dependendo do conjunto de dados, ele pode ser:\n",
        "\n",
        "- Sem moda: quando nenhum valor se repete \n",
        "\n",
        "- unimodal: Quando existe apenas um valor repetido com maior frequência \n",
        "\n",
        "- multimodal: quando existem mais de um valor com a mesma frequência máxima"
      ]
    },
    {
      "cell_type": "code",
      "execution_count": 6,
      "id": "fc86092a",
      "metadata": {
        "ExecuteTime": {
          "end_time": "2023-02-16T00:55:19.122052Z",
          "start_time": "2023-02-16T00:55:19.111472Z"
        },
        "id": "fc86092a",
        "outputId": "686ce379-c75f-4222-f0fe-1dcd2819ad1b",
        "colab": {
          "base_uri": "https://localhost:8080/"
        }
      },
      "outputs": [
        {
          "output_type": "stream",
          "name": "stdout",
          "text": [
            "Dados: [ 7 15 11  8  7 19 11 11  4  8  3  2 12]\n",
            "\n",
            "Moda dos dados: 11\n"
          ]
        }
      ],
      "source": [
        "# Print da Amostra\n",
        "print(\"Dados:\", amostra)\n",
        "\n",
        "# não existe método np.mode(), temos que transformar os dados em uma série\n",
        "print(\"\\nModa dos dados:\", pd.Series(amostra).mode()[0])"
      ]
    },
    {
      "cell_type": "markdown",
      "id": "2e1d9505",
      "metadata": {
        "id": "2e1d9505"
      },
      "source": [
        "Se construirmos uma série do pandas, é possível ter as estatísticas descritivas todas de uma vez, com o describe():"
      ]
    },
    {
      "cell_type": "code",
      "execution_count": 7,
      "id": "6db4d323",
      "metadata": {
        "ExecuteTime": {
          "end_time": "2023-02-16T00:56:19.261795Z",
          "start_time": "2023-02-16T00:56:19.223163Z"
        },
        "id": "6db4d323",
        "outputId": "b5ec0e05-a5ff-47cc-d702-435cb0d0bd91",
        "colab": {
          "base_uri": "https://localhost:8080/",
          "height": 520
        }
      },
      "outputs": [
        {
          "output_type": "stream",
          "name": "stdout",
          "text": [
            "Dados na forma de série:\n"
          ]
        },
        {
          "output_type": "display_data",
          "data": {
            "text/plain": [
              "0      7\n",
              "1     15\n",
              "2     11\n",
              "3      8\n",
              "4      7\n",
              "5     19\n",
              "6     11\n",
              "7     11\n",
              "8      4\n",
              "9      8\n",
              "10     3\n",
              "11     2\n",
              "12    12\n",
              "dtype: int64"
            ]
          },
          "metadata": {}
        },
        {
          "output_type": "stream",
          "name": "stdout",
          "text": [
            "Estatísticas descritivas dos dados:\n"
          ]
        },
        {
          "output_type": "display_data",
          "data": {
            "text/plain": [
              "count    13.000000\n",
              "mean      9.076923\n",
              "std       4.803845\n",
              "min       2.000000\n",
              "25%       7.000000\n",
              "50%       8.000000\n",
              "75%      11.000000\n",
              "max      19.000000\n",
              "dtype: float64"
            ]
          },
          "metadata": {}
        },
        {
          "output_type": "stream",
          "name": "stdout",
          "text": [
            "\n",
            "A moda fica de fora... Mas é fácil de obter:\n"
          ]
        },
        {
          "output_type": "display_data",
          "data": {
            "text/plain": [
              "0    11\n",
              "dtype: int64"
            ]
          },
          "metadata": {}
        }
      ],
      "source": [
        "# Cria uma Serie da amostra gerada anteriormente\n",
        "amostra_serie = pd.Series(amostra)\n",
        "\n",
        "# Print da Série\n",
        "print(\"Dados na forma de série:\")\n",
        "display(amostra_serie)\n",
        "\n",
        "# Print do Sumário Estatístico\n",
        "print(\"Estatísticas descritivas dos dados:\")\n",
        "display(amostra_serie.describe())\n",
        "\n",
        "# Cálculo da Moda\n",
        "print(\"\\nA moda fica de fora... Mas é fácil de obter:\")\n",
        "display(amostra_serie.mode())"
      ]
    },
    {
      "cell_type": "markdown",
      "id": "9c861c1f",
      "metadata": {
        "id": "9c861c1f"
      },
      "source": [
        "### Box Plot\n",
        "\n",
        "O boxplot (gráfico de caixa) é um gráfico utilizado para avaliar a distribuição empírica do dados. O boxplot é formado pelo primeiro e terceiro quartil e pela mediana. As hastes conhecidos como bigodes (**whiskers**) inferiores e superiores se estendem, respectivamente, do quartil inferior até o menor valor não inferior ao limite inferior e do quartil superior até o maior valor não superior ao limite superior. Os limites são calculados da forma abaixo:\n",
        "\n",
        "Limite inferior: $ \\max\\{\\min(\\text{dados});Q_1-1,5(Q_3-Q_1)\\} $.\n",
        "\n",
        "Limite superior: $ \\min\\{\\max(\\text{dados});Q_3+1,5(Q_3-Q_1)\\} $.\n",
        "\n",
        "Para este caso, os pontos fora destes limites são considerados valores discrepantes (Outliers) e são denotados por asterisco (*). A Figura  a seguir apresenta um exemplo do formato de um boxplot.\n",
        "\n",
        "<img src=https://miro.medium.com/max/8000/1*0MPDTLn8KoLApoFvI0P2vQ.png width=500>\n",
        "\n",
        "O boxplot pode ainda ser utilizado para uma comparação visual entre dois ou mais grupos. Por exemplo, duas ou mais caixas são colocadas lado a lado e se compara a variabilidade entre elas, a mediana e assim por diante. Outro ponto importante é a diferença entre os quartis $ (Q_3 - Q_1) $ que é uma medida da variabilidade dos dados.\n",
        "\n",
        "### Outliers\n",
        "\n",
        "**Outliers** ou **discrepantes** referem-se a obsevações **extremas**, que se deslocam em muito das outras observações em um conjunto de dados, ou seja, que **destoam do padrão da distribuição** dos dados. Outliers podem existir por motivos diferentes, alguns dos quais são:\n",
        "\n",
        "- erro na entrada de dados (erro humano);\n",
        "- erro na medição/coleta dos dados (erro instrumental);\n",
        "- erros experimentais (planejamento/execução dos experimentos);\n",
        "- outliers naturais (não decorrente de erros)\n",
        "\n",
        "<img src=\"https://miro.medium.com/max/700/1*J5Xm0X-phCJJ-DKZMZ_88w.png\">\n",
        "\n",
        "No caso dos erros, é importante que os outliers sejam tratados (comumente são removidos). Por outro lado, outliers naturais são importantes constituintes dos dados, de modo que não devem ser eliminados mas, muitas vezes, devem ser tratados.\n",
        "\n",
        "De qualquer modo, antes de começarmos a pensar em como **tratar** os outliers, o primeiro passo é **identificá-los** e a melhor forma para isso é utilizar dos boxplots."
      ]
    },
    {
      "cell_type": "markdown",
      "id": "c38850cc",
      "metadata": {
        "id": "c38850cc"
      },
      "source": [
        "### Medidas de Dispersão\n",
        "\n",
        "Estas são **medidas de variabilidade**, que indicam o quanto as observações variam ao redor de alguma medida de centralidade (média, mediana, etc.). Em outras palavras, indicam **o quão longe podemos esperar que uma observação esteja do valor típico para aquela variável**. \n",
        "\n",
        "Existem diversas medidas de variabilidade, algumas das quais apresentamos a seguir."
      ]
    },
    {
      "cell_type": "markdown",
      "id": "cb0f7e12",
      "metadata": {
        "id": "cb0f7e12"
      },
      "source": [
        "### Amplitude\n",
        "\n",
        "A amplitude é a **diferença entre o maior e o menor valor observado**. Algo bem importante a salientar sobre a amplitude é:\n",
        "\n",
        "- **Fortemente influenciada** por valores extremos nas observações, como outliers. "
      ]
    },
    {
      "cell_type": "code",
      "execution_count": 8,
      "id": "301fecb9",
      "metadata": {
        "id": "301fecb9",
        "outputId": "20c09688-0667-4ab1-e328-864212d2e43a",
        "colab": {
          "base_uri": "https://localhost:8080/"
        }
      },
      "outputs": [
        {
          "output_type": "execute_result",
          "data": {
            "text/plain": [
              "array([ 2,  3,  4,  7,  7,  8,  8, 11, 11, 11, 12, 15, 19, 87])"
            ]
          },
          "metadata": {},
          "execution_count": 8
        }
      ],
      "source": [
        "# Define um array de amostra\n",
        "amostra2 = np.array([2, 3, 4, 7, 7, 8, 8, 11, 11, 11, 12, 15, 19, 87])\n",
        "\n",
        "amostra2"
      ]
    },
    {
      "cell_type": "code",
      "source": [
        "sns.histplot(amostra2)"
      ],
      "metadata": {
        "id": "KXiyC9nwZzid",
        "outputId": "79d3a482-37e5-47df-8a2f-1bd01357df6c",
        "colab": {
          "base_uri": "https://localhost:8080/",
          "height": 282
        }
      },
      "id": "KXiyC9nwZzid",
      "execution_count": 9,
      "outputs": [
        {
          "output_type": "execute_result",
          "data": {
            "text/plain": [
              "<AxesSubplot:ylabel='Count'>"
            ]
          },
          "metadata": {},
          "execution_count": 9
        },
        {
          "output_type": "display_data",
          "data": {
            "text/plain": [
              "<Figure size 432x288 with 1 Axes>"
            ],
            "image/png": "[encoded data removed]"
          },
          "metadata": {
            "needs_background": "light"
          }
        }
      ]
    },
    {
      "cell_type": "code",
      "source": [
        "# Print dos dados da amostra\n",
        "print(\"Dados:\", amostra2)\n",
        "\n",
        "# Print dos dados ordenados\n",
        "print(\"\\nDados ordenados:\", sorted(amostra2))\n",
        "\n",
        "# Print do Valor da Amplitude\n",
        "print(\"\\nAmplitude:\", amostra2.max()-amostra2.min())"
      ],
      "metadata": {
        "id": "wbglH1SQZ3EV",
        "outputId": "df153ee2-da5f-4729-e481-2e1df6fb02b4",
        "colab": {
          "base_uri": "https://localhost:8080/"
        }
      },
      "id": "wbglH1SQZ3EV",
      "execution_count": 10,
      "outputs": [
        {
          "output_type": "stream",
          "name": "stdout",
          "text": [
            "Dados: [ 2  3  4  7  7  8  8 11 11 11 12 15 19 87]\n",
            "\n",
            "Dados ordenados: [2, 3, 4, 7, 7, 8, 8, 11, 11, 11, 12, 15, 19, 87]\n",
            "\n",
            "Amplitude: 85\n"
          ]
        }
      ]
    },
    {
      "cell_type": "markdown",
      "id": "c1561358",
      "metadata": {
        "id": "c1561358"
      },
      "source": [
        "### Variância \n",
        "\n",
        "A variância representa **o quanto os dados se afastam da média, em geral**. Por definição, tomamos a média dos **desvios quadráticos da média**:\n",
        "\n",
        "$$ Var(X) = \\sum_{i=1}^{n}\\frac{(x-\\overline{x})^{2}}{n-1} = \\frac{(x_1-\\overline{x})^{2}}{n-1} + \\frac{(x_2-\\overline{x})^{2}}{n-1} + \\cdots$$"
      ]
    },
    {
      "cell_type": "code",
      "execution_count": 11,
      "id": "2e4c88b9",
      "metadata": {
        "id": "2e4c88b9",
        "outputId": "b1171d8f-3f24-4cf7-9473-c21ccb2ab12a",
        "colab": {
          "base_uri": "https://localhost:8080/"
        }
      },
      "outputs": [
        {
          "output_type": "stream",
          "name": "stdout",
          "text": [
            "Dados: [ 2  3  4  7  7  8  8 11 11 11 12 15 19 87]\n",
            "\n",
            "Variância: 422.51530612244903\n"
          ]
        }
      ],
      "source": [
        "# Print dos Dados\n",
        "print(\"Dados:\", amostra2)\n",
        "\n",
        "# Print do Valor da Variância\n",
        "print(\"\\nVariância:\", np.var(amostra2))"
      ]
    },
    {
      "cell_type": "markdown",
      "id": "5873dd32",
      "metadata": {
        "ExecuteTime": {
          "end_time": "2023-02-16T00:01:00.510434Z",
          "start_time": "2023-02-16T00:01:00.487303Z"
        },
        "id": "5873dd32"
      },
      "source": [
        "### Desvio padrão\n",
        "\n",
        "Note que, da forma como foi definida, a variância é um valor **quadrático** nos dados. Para evitar isso, é comum tirar a raiz quadrada da variância, o que define o **desvio padrão**:\n",
        "\n",
        "$$ \\sigma(X) \\equiv \\sqrt{Var(X)} = \\sqrt{\\sum_{i=1}^{n}\\frac{(x-\\overline{x})^{2}}{n - 1}}$$"
      ]
    },
    {
      "cell_type": "code",
      "execution_count": 12,
      "id": "b04620aa",
      "metadata": {
        "id": "b04620aa",
        "outputId": "a99e295e-2535-4b79-dfa1-60df6507072b",
        "colab": {
          "base_uri": "https://localhost:8080/"
        }
      },
      "outputs": [
        {
          "output_type": "stream",
          "name": "stdout",
          "text": [
            "Dados: [ 2  3  4  7  7  8  8 11 11 11 12 15 19 87]\n",
            "20.55517711240769\n",
            "\n",
            "Desvio Padrão: 20.55517711240769\n"
          ]
        }
      ],
      "source": [
        "# Print da Amostra\n",
        "print(\"Dados:\", amostra2)\n",
        "\n",
        "print(np.sqrt(np.var(amostra2)))\n",
        "\n",
        "#Print do Desvio Padrão\n",
        "print(\"\\nDesvio Padrão:\", np.std(amostra2))"
      ]
    }
  ],
  "metadata": {
    "kernelspec": {
      "display_name": "Python 3 (ipykernel)",
      "language": "python",
      "name": "python3"
    },
    "language_info": {
      "codemirror_mode": {
        "name": "ipython",
        "version": 3
      },
      "file_extension": ".py",
      "mimetype": "text/x-python",
      "name": "python",
      "nbconvert_exporter": "python",
      "pygments_lexer": "ipython3",
      "version": "3.10.9"
    },
    "varInspector": {
      "cols": {
        "lenName": 16,
        "lenType": 16,
        "lenVar": 40
      },
      "kernels_config": {
        "python": {
          "delete_cmd_postfix": "",
          "delete_cmd_prefix": "del ",
          "library": "var_list.py",
          "varRefreshCmd": "print(var_dic_list())"
        },
        "r": {
          "delete_cmd_postfix": ") ",
          "delete_cmd_prefix": "rm(",
          "library": "var_list.r",
          "varRefreshCmd": "cat(var_dic_list()) "
        }
      },
      "types_to_exclude": [
        "module",
        "function",
        "builtin_function_or_method",
        "instance",
        "_Feature"
      ],
      "window_display": false
    },
    "colab": {
      "provenance": []
    }
  },
  "nbformat": 4,
  "nbformat_minor": 5
}