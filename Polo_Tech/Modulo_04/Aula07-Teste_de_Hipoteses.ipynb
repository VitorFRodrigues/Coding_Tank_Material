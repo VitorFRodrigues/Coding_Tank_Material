{
  "cells": [
    {
      "cell_type": "markdown",
      "id": "948dcd6e",
      "metadata": {
        "id": "948dcd6e"
      },
      "source": [
        "# 07 - Teste de Hipóteses\n",
        "\n",
        "Nessa aula, iremos tratar dos seguintes conteúdos:\n",
        "\n",
        "- Teste de Hipóteses\n",
        "- Valor p\n",
        "- Comparação entre duas médias"
      ]
    },
    {
      "cell_type": "markdown",
      "id": "4d4c932a",
      "metadata": {
        "id": "4d4c932a"
      },
      "source": [
        "## "
      ]
    },
    {
      "cell_type": "code",
      "execution_count": 1,
      "id": "f1e64f5e",
      "metadata": {
        "ExecuteTime": {
          "end_time": "2023-03-06T23:33:21.294821Z",
          "start_time": "2023-03-06T23:33:06.766439Z"
        },
        "id": "f1e64f5e"
      },
      "outputs": [],
      "source": [
        "import pandas as pd\n",
        "import numpy as np\n",
        "import matplotlib.pyplot as plt\n",
        "import seaborn as sns\n",
        "\n",
        "# função para calcular a probabilidade a partir do Z Score\n",
        "import scipy.stats as st"
      ]
    },
    {
      "cell_type": "markdown",
      "id": "7b722abd",
      "metadata": {
        "id": "7b722abd"
      },
      "source": [
        "![image.png](attachment:image.png)"
      ]
    },
    {
      "cell_type": "markdown",
      "id": "68acb14d",
      "metadata": {
        "id": "68acb14d"
      },
      "source": [
        "## "
      ]
    },
    {
      "cell_type": "markdown",
      "id": "9e6672f6",
      "metadata": {
        "id": "9e6672f6"
      },
      "source": [
        "## Teste de Hipóteses"
      ]
    },
    {
      "cell_type": "markdown",
      "id": "f4d271f8",
      "metadata": {
        "id": "f4d271f8"
      },
      "source": [
        "O __Teste de Hipóteses__ é a principal ferramenta para tirarmos conclusões a partir de uma dada amostra e extrapolar (ou inferir) conclusões sobre a população. Uma hipótese será uma declaração sobre um parâmetro da população, ou seja para dado $\\mu$, $\\sigma^2$ e $p$ da população usaremos estimadores como $\\overline{X}$, $S^2$ e $\\hat{p}$ para as amostras. Os cálculos desses estimadores são dados da seguinte forma:\n",
        "\n",
        "$$\\overline{X} = \\sum_{i = 1}^{n} \\frac{X_{i}}{n}$$\n",
        "\n",
        "<br>\n",
        "\n",
        "$$ S^{2}  = \\frac{1}{n - 1} \\sum_{i = 1}^{n} (X_{i} - \\overline{X})^2$$\n",
        "\n",
        "<br>\n",
        "\n",
        "$$ \\hat{p} = \\frac{1}{n} \\sum_{i = 1}^{n} I_{i} $$\n",
        "\n",
        "No caso para a proporção $\\hat{p}$, o valor de $I_{i}$ é igual a 1 se a observação tem a característica de interesse, ou seja $I_{i} \\in \\{0, 1\\}$\n",
        "\n",
        "<br>\n",
        "\n",
        "Quando vamos aplicar o teste de hipóteses queremos testar alguma informação relevante sobre um atributo da população, de maneira a aceitar ou rejeitar esta informação. Para isto é que formulamos as chamadas __hipótese nula__ ($ H_{0}$) e a __hipótese alternativa__ ($H_{a}$ ou $H_{1}$), sendo a hipótese alternativa normalmente a rejeição da hipótese nula.\n",
        "\n",
        "Ao testar essas hipóteses podemos cair nos seguintes casos:\n",
        "\n"
      ]
    },
    {
      "cell_type": "markdown",
      "id": "c6d598b7",
      "metadata": {
        "id": "c6d598b7"
      },
      "source": [
        "| Hipóteses | $H_{0}$ é verdadeira | $H_{0}$ é falsa |\n",
        "|-----------|----------------------|-----------------|\n",
        "| Rejeitar $H_{0}$ | Erro tipo I ($\\alpha$) | Sem erro |\n",
        "| Aceitar $H_{0}$  | Sem erro | Erro tipo II ($\\beta$) |\n",
        "\n",
        "<br>\n",
        "\n",
        "Partindo para as distribuições podemos interpretar cada um dos erros também como a figura a seguir:\n",
        "\n",
        "<img src=\"data:image/png;base64,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\" width=800>\n",
        "\n",
        "<br>\n",
        "\n",
        "Usualmente aplicamos teste de hipótese para diminuir a chance de ocorre o erro do Tipo I, ou seja costuma-se trabalhar com o nível de significância $\\alpha$."
      ]
    },
    {
      "cell_type": "markdown",
      "id": "486fdba7",
      "metadata": {
        "id": "486fdba7"
      },
      "source": [
        "![image.png](attachment:image.png)"
      ]
    },
    {
      "cell_type": "markdown",
      "id": "be212826",
      "metadata": {
        "id": "be212826"
      },
      "source": [
        "**Exemplo 1**: Uma fábrica anuncia que o índice de nicotina dos cigarros de uma dada marca é igual a 20 mg por cigarro. Um laboratório realiza 20 análises do índice obtendo: 22, 19, 21, 22, 20, 18, 27, 20, 21, 19, 20, 22, 17, 20, 21,18, 25, 16, 20, 21. Sabe-se que o índice de nicotina dos cigarros dessa marca se distribui normalmente com variância 4 mg$^2$. Pode-se aceitar a afirmação do fabricante, ao nível de 5%?"
      ]
    },
    {
      "cell_type": "markdown",
      "id": "843ff74a",
      "metadata": {
        "id": "843ff74a"
      },
      "source": [
        "$H_0: \\mu = 20$<br>\n",
        "$H_1: \\mu > 20$"
      ]
    },
    {
      "cell_type": "markdown",
      "id": "b97d7727",
      "metadata": {
        "id": "b97d7727"
      },
      "source": [
        "### Resolução Teórica:"
      ]
    },
    {
      "cell_type": "markdown",
      "id": "93f8db29",
      "metadata": {
        "id": "93f8db29"
      },
      "source": [
        "Vamos calcular o valor crítico para o teste e assim conseguir saber se aceitamos ou rejeitamos $H_{0}$:"
      ]
    },
    {
      "cell_type": "markdown",
      "id": "bbed0ef8",
      "metadata": {
        "id": "bbed0ef8"
      },
      "source": [
        "$$ P\\left(Z <\\frac{\\overline{X}_{c} - \\mu}{\\frac{\\sigma}{\\sqrt{n}}} | \\mu =20 \\right) = 1 - \\alpha =  0.95 $$"
      ]
    },
    {
      "cell_type": "markdown",
      "id": "0aada849",
      "metadata": {
        "ExecuteTime": {
          "end_time": "2023-03-06T23:33:21.341689Z",
          "start_time": "2023-03-06T23:33:21.318650Z"
        },
        "id": "0aada849"
      },
      "source": [
        "![image.png](attachment:image.png)"
      ]
    },
    {
      "cell_type": "code",
      "execution_count": 2,
      "id": "64cad37b",
      "metadata": {
        "ExecuteTime": {
          "end_time": "2023-03-06T23:45:42.733252Z",
          "start_time": "2023-03-06T23:45:42.716772Z"
        },
        "id": "64cad37b",
        "outputId": "bb44904f-d819-454e-bb6c-190ec5efa878",
        "colab": {
          "base_uri": "https://localhost:8080/"
        }
      },
      "outputs": [
        {
          "output_type": "stream",
          "name": "stdout",
          "text": [
            "Probabilidade para 95%:  1.6448536269514722\n",
            "Valor crítico:  20.735600904580114  mg\n",
            "Valor médio observado:  20.45  mg\n",
            "Teste de Hipótese: \n",
            "Aceitamos H0\n"
          ]
        }
      ],
      "source": [
        "# Calculo da probabilidade\n",
        "prob = st.norm.ppf(0.95)\n",
        "print(\"Probabilidade para 95%: \", prob)\n",
        "\n",
        "# Parametros para o teste\n",
        "mu = 20\n",
        "\n",
        "sigma = np.sqrt(4)\n",
        "\n",
        "n = 20\n",
        "\n",
        "# Calculo do valor critico\n",
        "Xc = mu + (sigma/np.sqrt(n))*prob\n",
        "print(\"Valor crítico: \", Xc, \" mg\")\n",
        "\n",
        "# Aplicando as observações\n",
        "X = [22, 19, 21, 22, 20, 18, 27, 20, 21, 19,\n",
        "     20, 22, 17, 20, 21, 18, 25, 16, 20, 21]\n",
        "\n",
        "Xobs = np.mean(X)\n",
        "\n",
        "print(\"Valor médio observado: \", Xobs, \" mg\")\n",
        "\n",
        "# verificando o teste\n",
        "print(\"Teste de Hipótese: \")\n",
        "if(Xobs < Xc):\n",
        "    print(\"Aceitamos H0\")\n",
        "else:\n",
        "    print(\"Rejeitamos H0\")"
      ]
    },
    {
      "cell_type": "markdown",
      "id": "3f001c94",
      "metadata": {
        "id": "3f001c94"
      },
      "source": [
        "### Resolução por Simulação:"
      ]
    },
    {
      "cell_type": "code",
      "execution_count": 3,
      "id": "69aac2b0",
      "metadata": {
        "ExecuteTime": {
          "end_time": "2023-03-06T23:45:45.036435Z",
          "start_time": "2023-03-06T23:45:43.743014Z"
        },
        "id": "69aac2b0",
        "outputId": "63796e59-4199-4807-b96a-edc838926f18",
        "colab": {
          "base_uri": "https://localhost:8080/",
          "height": 291
        }
      },
      "outputs": [
        {
          "output_type": "display_data",
          "data": {
            "text/plain": [
              "<Figure size 576x288 with 1 Axes>"
            ],
            "image/png": "[encoded data removed]"
          },
          "metadata": {
            "needs_background": "light"
          }
        }
      ],
      "source": [
        "# media\n",
        "mu = 20\n",
        "\n",
        "# desvio padrao\n",
        "sigma = 2\n",
        "\n",
        "# tamanho da amostra\n",
        "n = 20\n",
        "\n",
        "# numero de simulações\n",
        "Ns = 1000\n",
        "\n",
        "# Vetor para as medias amostrais\n",
        "Xm = []\n",
        "\n",
        "# Loop paragerar as medias\n",
        "for s in range(1, Ns):\n",
        "    x = np.random.normal(mu, sigma, n)  # sorteia uma amostra de tamanho n\n",
        "    Xm.append(np.mean(x))\n",
        "\n",
        "# Plot da figura\n",
        "plt.figure(figsize=(8, 4))\n",
        "a = plt.hist(x=Xm, bins=20, color='#0504aa', alpha=0.7,\n",
        "             rwidth=0.85, label=str(Ns), density=True)\n",
        "plt.axvline(x=mu, color='r', linestyle='--', label='Media')\n",
        "plt.xlabel(r'$\\bar{X}$', fontsize=20)\n",
        "plt.ylabel(r'$P(\\bar{X})$', fontsize=20)\n",
        "plt.show()"
      ]
    },
    {
      "cell_type": "markdown",
      "id": "0f5826b5",
      "metadata": {
        "id": "0f5826b5"
      },
      "source": [
        "Depois de gerar as amostras, vamos verificar a fração de observações que permitem que aceitemos $H_0$:"
      ]
    },
    {
      "cell_type": "code",
      "execution_count": 4,
      "id": "32c57285",
      "metadata": {
        "ExecuteTime": {
          "end_time": "2023-03-06T23:45:48.237206Z",
          "start_time": "2023-03-06T23:45:48.215859Z"
        },
        "id": "32c57285",
        "outputId": "1568a656-fbd6-4f3d-a932-c066d10ed0da",
        "colab": {
          "base_uri": "https://localhost:8080/"
        }
      },
      "outputs": [
        {
          "output_type": "stream",
          "name": "stdout",
          "text": [
            "Xc= 20.71545824125789   Xobs =  20.45\n",
            "Aceitamos H0\n"
          ]
        }
      ],
      "source": [
        "# Valores observados\n",
        "X = [22, 19, 21, 22, 20, 18, 27, 20, 21, 19,\n",
        "     20, 22, 17, 20, 21, 18, 25, 16, 20, 21]\n",
        "xobs = np.mean(X)\n",
        "\n",
        "# Avaliando o teste de hipotese\n",
        "alpha = 95\n",
        "xc = np.percentile(Xm, alpha)\n",
        "print('Xc=', xc, '  Xobs = ', xobs)\n",
        "if(xobs < xc):\n",
        "    print(\"Aceitamos H0\")\n",
        "else:\n",
        "    print(\"Rejeitamos H0\")"
      ]
    },
    {
      "cell_type": "markdown",
      "id": "494908ea",
      "metadata": {
        "id": "494908ea"
      },
      "source": [
        "Podemos ainda ver esse resultado na figura."
      ]
    },
    {
      "cell_type": "code",
      "execution_count": 5,
      "id": "f0db0121",
      "metadata": {
        "ExecuteTime": {
          "end_time": "2023-03-06T23:46:28.291151Z",
          "start_time": "2023-03-06T23:46:27.762212Z"
        },
        "id": "f0db0121",
        "outputId": "32de28ad-4c63-4837-f845-7fd2aab8566a",
        "colab": {
          "base_uri": "https://localhost:8080/",
          "height": 291
        }
      },
      "outputs": [
        {
          "output_type": "display_data",
          "data": {
            "text/plain": [
              "<Figure size 576x288 with 1 Axes>"
            ],
            "image/png": "[encoded data removed]"
          },
          "metadata": {
            "needs_background": "light"
          }
        }
      ],
      "source": [
        "# plot da figura\n",
        "plt.figure(figsize=(8, 4))\n",
        "a = plt.hist(x=Xm, bins=20, color='#0504aa',\n",
        "             alpha=0.7, rwidth=0.85, density=True)\n",
        "plt.axvline(x=xc, color='red', linestyle='--', label='xc1')\n",
        "plt.axvline(x=xobs, color='green', linestyle='--', label='xobs')\n",
        "plt.xlabel(r'$\\bar{X}$', fontsize=20)\n",
        "plt.ylabel(r'$P(\\bar{X})$', fontsize=20)\n",
        "plt.legend()\n",
        "plt.show()"
      ]
    },
    {
      "cell_type": "markdown",
      "id": "6fdc7e81",
      "metadata": {
        "id": "6fdc7e81"
      },
      "source": [
        "**Exemplo 2**: Um pesquisador deseja estudar o efeito de certa substância no tempo de reação de seres vivos a um certo tipo de estímulo. Um experimento é desenvolvido com cobaias, que são inoculadas com a substância e submetidas a um estímulo elétrico, com seus tempos de reação (em segundos) anotados. Os seguintes valores foram obtidos:\n",
        "T = [9.1, 9.3, 7.2, 13.3, 10.9, 7.2, 9.9, 8.0, 8.6, 7.5]<br>\n",
        "Admite-se que, em geral,  o tempo de reação tem distribuição Normal com média 8 segundos e desvio padrão 2 segundos. Entretanto, o pesquisador desconfia que o tempo médio sofre alteração por influência da substância. Verifique ao nível 6% se o tempo de reação das cobaias submetidas à substância foi alterado."
      ]
    },
    {
      "cell_type": "markdown",
      "id": "300a8b7a",
      "metadata": {
        "id": "300a8b7a"
      },
      "source": [
        "$H_0: \\mu = 8$<br>\n",
        "$H_1: \\mu \\neq 8$"
      ]
    },
    {
      "cell_type": "code",
      "execution_count": 6,
      "id": "6d78650f",
      "metadata": {
        "ExecuteTime": {
          "end_time": "2023-03-07T00:18:26.276009Z",
          "start_time": "2023-03-07T00:18:26.266482Z"
        },
        "id": "6d78650f",
        "outputId": "eb58aff8-f0e0-4eb9-c204-f62ffbea3d51",
        "colab": {
          "base_uri": "https://localhost:8080/"
        }
      },
      "outputs": [
        {
          "output_type": "execute_result",
          "data": {
            "text/plain": [
              "-1.880793608151251"
            ]
          },
          "metadata": {},
          "execution_count": 6
        }
      ],
      "source": [
        "prob1 = st.norm.ppf(0.03) # calcular Z a partir da probabilidade\n",
        "prob1"
      ]
    },
    {
      "cell_type": "code",
      "execution_count": 7,
      "id": "59cc0aee",
      "metadata": {
        "ExecuteTime": {
          "end_time": "2023-03-07T00:18:46.378437Z",
          "start_time": "2023-03-07T00:18:46.367562Z"
        },
        "id": "59cc0aee",
        "outputId": "543aaf82-1668-480b-f043-1c5d061d72ce",
        "colab": {
          "base_uri": "https://localhost:8080/"
        }
      },
      "outputs": [
        {
          "output_type": "execute_result",
          "data": {
            "text/plain": [
              "1.8807936081512509"
            ]
          },
          "metadata": {},
          "execution_count": 7
        }
      ],
      "source": [
        "prob2 = st.norm.ppf(0.97) # calcular Z a partir da probabilidade\n",
        "prob2"
      ]
    },
    {
      "cell_type": "code",
      "execution_count": 8,
      "id": "ef567719",
      "metadata": {
        "ExecuteTime": {
          "end_time": "2023-03-07T00:21:34.066882Z",
          "start_time": "2023-03-07T00:21:34.038500Z"
        },
        "id": "ef567719",
        "outputId": "2c39519d-d35c-4834-9b03-e9809a12641d",
        "colab": {
          "base_uri": "https://localhost:8080/"
        }
      },
      "outputs": [
        {
          "output_type": "execute_result",
          "data": {
            "text/plain": [
              "9.1"
            ]
          },
          "metadata": {},
          "execution_count": 8
        }
      ],
      "source": [
        "np.mean([9.1, 9.3, 7.2, 13.3, 10.9, 7.2, 9.9, 8.0, 8.6, 7.5])"
      ]
    },
    {
      "cell_type": "markdown",
      "id": "bc90d742",
      "metadata": {
        "id": "bc90d742"
      },
      "source": [
        "![image.png](attachment:image.png)"
      ]
    },
    {
      "cell_type": "markdown",
      "id": "7edc9ec2",
      "metadata": {
        "id": "7edc9ec2"
      },
      "source": [
        "### Resolução Teórica:"
      ]
    },
    {
      "cell_type": "markdown",
      "id": "96856bd5",
      "metadata": {
        "id": "96856bd5"
      },
      "source": [
        "Precisamos primeiramente definir a região crítica para o teste de hipótese:"
      ]
    },
    {
      "cell_type": "markdown",
      "id": "1358212f",
      "metadata": {
        "id": "1358212f"
      },
      "source": [
        "$\\alpha$ = P(rejeitar $H_{0}$ | $H_{0}$ é verdadeira) = 0.06, ou seja:\n",
        "\n",
        "$$ P\\left(\\overline{X} < \\overline{X}_{c1} \\cup \\overline{X} > \\overline{X}_{c2} | \\mu = 8 \\right) = 0.06 $$\n",
        "\n",
        "<br>\n",
        "\n",
        "Para o caso do teste bicaudal, temos que a probabilidade para cada um dos casos será igual a $\\alpha/2$:\n",
        "\n",
        "$$ P\\left(\\overline{X} < \\overline{X}_{c1} | \\mu = 8 \\right) = 0.03 $$\n",
        "\n",
        "$$ P\\left(\\overline{X} > \\overline{X}_{c2} | \\mu = 8 \\right) = 0.03 $$\n",
        "\n",
        "<br>\n",
        "\n",
        "Por fim ajustando a probabilidade para o caso crítico 2:\n",
        "\n",
        "$$ P\\left(\\overline{X} < \\overline{X}_{c1} | \\mu = 8 \\right) = 0.03 $$\n",
        "\n",
        "$$ P\\left(\\overline{X} < \\overline{X}_{c2} | \\mu = 8 \\right) = 0.97 $$\n"
      ]
    },
    {
      "cell_type": "code",
      "execution_count": 9,
      "id": "aca38dbc",
      "metadata": {
        "ExecuteTime": {
          "end_time": "2023-03-07T00:26:05.539269Z",
          "start_time": "2023-03-07T00:26:05.515453Z"
        },
        "id": "aca38dbc",
        "outputId": "edc45445-538d-4efb-f014-22959f4b7c13",
        "colab": {
          "base_uri": "https://localhost:8080/"
        }
      },
      "outputs": [
        {
          "output_type": "stream",
          "name": "stdout",
          "text": [
            "Caso crítico 1\n",
            "Probabilidade caso crítico 1:  -1.880793608151251\n",
            "Valor crítico 1:  6.810481677911164  s\n",
            "==================================================\n",
            "Caso crítico 2\n",
            "Probabilidade caso crítico 2:  1.8807936081512509\n",
            "Valor crítico 2:  9.189518322088837  s\n",
            "==================================================\n",
            "Valor médio observado:  9.1  s\n",
            "Teste de Hipótese: \n",
            "Aceitamos H0\n"
          ]
        }
      ],
      "source": [
        "# nivel de significancia\n",
        "alpha = 0.06\n",
        "\n",
        "#Caso critico 1\n",
        "print(\"Caso crítico 1\")\n",
        "\n",
        "# Calculo da probabilidade 1\n",
        "prob1 = st.norm.ppf(alpha/2)\n",
        "print(\"Probabilidade caso crítico 1: \", prob1)\n",
        "\n",
        "# Parametros do enunciado\n",
        "mu = 8\n",
        "sigma = 2\n",
        "n = 10\n",
        "\n",
        "# Valor critico 1\n",
        "Xc1 = mu + (sigma/np.sqrt(n))*prob1\n",
        "print(\"Valor crítico 1: \", Xc1, \" s\")\n",
        "print(\"==================================================\")\n",
        "\n",
        "#Caso critico 2\n",
        "print(\"Caso crítico 2\")\n",
        "\n",
        "# Probabilidade 2\n",
        "prob2 = st.norm.ppf(1 - alpha/2)\n",
        "print(\"Probabilidade caso crítico 2: \", prob2)\n",
        "\n",
        "# valor critico 2\n",
        "Xc2 = mu + (sigma/np.sqrt(n))*prob2\n",
        "print(\"Valor crítico 2: \", Xc2, \" s\")\n",
        "print(\"==================================================\")\n",
        "\n",
        "# Valores observados\n",
        "X = [9.1, 9.3, 7.2, 13.3, 10.9, 7.2, 9.9, 8.0, 8.6, 7.5]\n",
        "\n",
        "# Valor medio das observações\n",
        "Xobs = np.mean(X)\n",
        "print(\"Valor médio observado: \", Xobs, \" s\")\n",
        "\n",
        "# teste de Hipoteses\n",
        "print(\"Teste de Hipótese: \")\n",
        "if(Xobs < Xc1 or Xobs > Xc2):\n",
        "    print(\"Rejeitamos H0\")\n",
        "else:\n",
        "    print(\"Aceitamos H0\")"
      ]
    },
    {
      "cell_type": "markdown",
      "id": "cf98aeac",
      "metadata": {
        "id": "cf98aeac"
      },
      "source": [
        "### Resolução por Simulação:"
      ]
    },
    {
      "cell_type": "code",
      "execution_count": 10,
      "id": "8f1a5345",
      "metadata": {
        "ExecuteTime": {
          "end_time": "2023-03-07T00:26:19.105837Z",
          "start_time": "2023-03-07T00:26:16.942992Z"
        },
        "id": "8f1a5345",
        "outputId": "e4dd07c3-5dbc-4c07-85d8-372ad57204ab",
        "colab": {
          "base_uri": "https://localhost:8080/",
          "height": 291
        }
      },
      "outputs": [
        {
          "output_type": "display_data",
          "data": {
            "text/plain": [
              "<Figure size 576x288 with 1 Axes>"
            ],
            "image/png": "[encoded data removed]"
          },
          "metadata": {
            "needs_background": "light"
          }
        }
      ],
      "source": [
        "# PArametros\n",
        "# media\n",
        "mu = 8\n",
        "\n",
        "# desvio padrao\n",
        "sigma = 2\n",
        "\n",
        "# tamanho da amostra\n",
        "n = 10\n",
        "\n",
        "# numero de simulações\n",
        "Ns = 10000\n",
        "\n",
        "# Vetor para as medias amostrais\n",
        "Xm = []\n",
        "\n",
        "# Loop das simulações\n",
        "for s in range(1,Ns):\n",
        "    x = np.random.normal(mu, sigma, n) # sorteia uma amostra de tamanho n\n",
        "    Xm.append(np.mean(x))\n",
        "    \n",
        "# Plot do Histograma\n",
        "plt.figure(figsize=(8,4))\n",
        "a = plt.hist(x=Xm, bins=20, color='#0504aa', alpha=0.7, rwidth=0.85, label = str(Ns), density=True)\n",
        "plt.axvline(x=mu, color='r', linestyle='--', label = 'Media')\n",
        "plt.xlabel(r'$\\bar{X}$', fontsize=20)\n",
        "plt.ylabel(r'$P(\\bar{X})$', fontsize=20)\n",
        "plt.show()  "
      ]
    },
    {
      "cell_type": "code",
      "execution_count": 11,
      "id": "e3060eaa",
      "metadata": {
        "ExecuteTime": {
          "end_time": "2023-03-07T00:26:23.900183Z",
          "start_time": "2023-03-07T00:26:23.876792Z"
        },
        "id": "e3060eaa",
        "outputId": "f0be3944-d8ac-4ca9-9ed4-d3db5d44c961",
        "colab": {
          "base_uri": "https://localhost:8080/"
        }
      },
      "outputs": [
        {
          "output_type": "stream",
          "name": "stdout",
          "text": [
            "Xc1= 6.84114634734012   Xc2= 9.21761137445551   Xobs =  9.1\n",
            "Aceitamos H0\n"
          ]
        }
      ],
      "source": [
        "# Observações\n",
        "X = [9.1,9.3,7.2,13.3,10.9,7.2,9.9,8.0,8.6,7.5]\n",
        "xobs = np.mean(X)\n",
        "\n",
        "# teste de Hipotese\n",
        "alpha = 3\n",
        "xc1 = np.percentile(Xm, alpha)\n",
        "xc2 = np.percentile(Xm, 100-alpha)\n",
        "print('Xc1=',xc1, '  Xc2=', xc2, '  Xobs = ', xobs)\n",
        "if(xobs < xc1 or xobs > xc2):\n",
        "    print(\"Rejeitamos H0\")\n",
        "else:\n",
        "    print(\"Aceitamos H0\")"
      ]
    },
    {
      "cell_type": "code",
      "execution_count": 12,
      "id": "811fad04",
      "metadata": {
        "id": "811fad04",
        "outputId": "3288f7b9-6dc7-47c3-f6a2-07fdae1b82c2",
        "colab": {
          "base_uri": "https://localhost:8080/",
          "height": 291
        }
      },
      "outputs": [
        {
          "output_type": "display_data",
          "data": {
            "text/plain": [
              "<Figure size 576x288 with 1 Axes>"
            ],
            "image/png": "[encoded data removed]"
          },
          "metadata": {
            "needs_background": "light"
          }
        }
      ],
      "source": [
        "# Figura com os valores\n",
        "plt.figure(figsize=(8,4))\n",
        "a = plt.hist(x=Xm, bins=20, color='#0504aa', alpha=0.7, rwidth=0.85, density=True)\n",
        "plt.axvline(x=xc1, color='red', linestyle='--', label = 'xc1')\n",
        "plt.axvline(x=xc2, color='orange', linestyle='--', label = 'xc2')\n",
        "plt.axvline(x=xobs, color='green', linestyle='--', label = 'xobs')\n",
        "plt.xlabel(r'$\\bar{X}$', fontsize=20)\n",
        "plt.ylabel(r'$P(\\bar{X})$', fontsize=20)\n",
        "plt.legend()\n",
        "plt.show() "
      ]
    },
    {
      "cell_type": "markdown",
      "id": "fcd10964",
      "metadata": {
        "id": "fcd10964"
      },
      "source": [
        "### Teste bicaudal vs unicaudal\n",
        "\n",
        "\n",
        "<img src=\"https://caelum-online-public.s3.amazonaws.com/1229-estatistica-parte3/01/img002.png\" weight=50%>"
      ]
    },
    {
      "cell_type": "markdown",
      "id": "28fcf392",
      "metadata": {
        "id": "28fcf392"
      },
      "source": [
        "## "
      ]
    },
    {
      "cell_type": "markdown",
      "id": "e12f402b",
      "metadata": {
        "id": "e12f402b"
      },
      "source": [
        "## Valor p"
      ]
    },
    {
      "cell_type": "markdown",
      "id": "159cbbf9",
      "metadata": {
        "id": "159cbbf9"
      },
      "source": [
        "Nos casos anteriores, o que fizemos para realizar o teste foi fixar a probabilidade do erro tipo I, dessa forma a aceitação ou não de $H_{0}$ depende do valor de $\\alpha$.\n",
        "\n",
        "Uma outra forma de realizarmos o teste será __calculando a probabilidade de significância__ (nível descritivo) mais conhecido como __p-value__ (valor p).\n",
        "\n",
        "A principal diferença com relação aos casos anteriores consiste em não construir a região crítica, o que se faz é indicar a probabilidade de ocorrer valores de estatística mais extremos do que o observado caso a hipótese seja verdadeira. \n",
        "\n",
        "O exemplo a seguir vai mostra justamente essa transição entre aceitação e rejeição da $H_{0}$:"
      ]
    },
    {
      "cell_type": "markdown",
      "id": "fb8f2fb9",
      "metadata": {
        "id": "fb8f2fb9"
      },
      "source": [
        "__Exemplo:__ Vamos considerar as seguintes hipóteses:<br>\n",
        "\n",
        "$H_0: \\mu = 10$<br>\n",
        "$H_1: \\mu < 10$<br>\n",
        "\n",
        "Assumimos que a população tem distribuição normal com desvio padrão $\\sigma$, definido abaixo:"
      ]
    },
    {
      "cell_type": "code",
      "execution_count": 13,
      "id": "70e0d5e9",
      "metadata": {
        "ExecuteTime": {
          "end_time": "2023-03-07T00:36:22.254976Z",
          "start_time": "2023-03-07T00:36:21.588915Z"
        },
        "id": "70e0d5e9",
        "outputId": "89b853b7-62fc-4f6c-8be4-f6481eea4af1",
        "colab": {
          "base_uri": "https://localhost:8080/",
          "height": 291
        }
      },
      "outputs": [
        {
          "output_type": "display_data",
          "data": {
            "text/plain": [
              "<Figure size 576x288 with 1 Axes>"
            ],
            "image/png": "[encoded data removed]"
          },
          "metadata": {
            "needs_background": "light"
          }
        }
      ],
      "source": [
        "# PArametros\n",
        "mu = 10\n",
        "sigma = 2\n",
        "\n",
        "# tamanho da amostra\n",
        "n = 50\n",
        "\n",
        "# Numero de simulações\n",
        "Ns = 10000\n",
        "\n",
        "# Vetor com as medias amostrais\n",
        "Xm=[]\n",
        "\n",
        "# Loop para as simulaçoes\n",
        "for s in range(1,Ns):\n",
        "    x = np.random.normal(mu, sigma, n) # sorteia uma amostra de tamanho n\n",
        "    Xm.append(np.mean(x))\n",
        "    \n",
        "# plot do histograma\n",
        "plt.figure(figsize=(8,4))\n",
        "a = plt.hist(x=Xm, bins=20, color='#0504aa', alpha=0.7, rwidth=0.85, label = str(Ns), density=True)\n",
        "plt.axvline(x=mu, color='r', linestyle='--', label = 'Media')\n",
        "plt.xlabel(r'$\\bar{X}$', fontsize=20)\n",
        "plt.ylabel(r'$P(\\bar{X})$', fontsize=20)\n",
        "plt.show()  "
      ]
    },
    {
      "cell_type": "markdown",
      "id": "f136c8e3",
      "metadata": {
        "id": "f136c8e3"
      },
      "source": [
        "Vamos supor que conhecemos o valor médio observado $\\bar{x}_{obs}$.\n",
        "\n",
        "De acordo com o nível de significância, podemos aceitar ou rejeitar $H_0$, conforme veremos a seguir:"
      ]
    },
    {
      "cell_type": "code",
      "execution_count": 14,
      "id": "90e1b7d4",
      "metadata": {
        "ExecuteTime": {
          "end_time": "2023-03-07T00:37:29.786226Z",
          "start_time": "2023-03-07T00:37:26.179862Z"
        },
        "scrolled": false,
        "id": "90e1b7d4",
        "outputId": "2489c276-84c1-48df-90e6-c2d12492234d",
        "colab": {
          "base_uri": "https://localhost:8080/",
          "height": 1000
        }
      },
      "outputs": [
        {
          "output_type": "display_data",
          "data": {
            "text/plain": [
              "<Figure size 432x216 with 1 Axes>"
            ],
            "image/png": "[encoded data removed]"
          },
          "metadata": {
            "needs_background": "light"
          }
        },
        {
          "output_type": "display_data",
          "data": {
            "text/plain": [
              "<Figure size 432x216 with 1 Axes>"
            ],
            "image/png": "[encoded data removed]"
          },
          "metadata": {
            "needs_background": "light"
          }
        },
        {
          "output_type": "display_data",
          "data": {
            "text/plain": [
              "<Figure size 432x216 with 1 Axes>"
            ],
            "image/png": "[encoded data removed]"
          },
          "metadata": {
            "needs_background": "light"
          }
        },
        {
          "output_type": "display_data",
          "data": {
            "text/plain": [
              "<Figure size 432x216 with 1 Axes>"
            ],
            "image/png": "[encoded data removed]"
          },
          "metadata": {
            "needs_background": "light"
          }
        },
        {
          "output_type": "display_data",
          "data": {
            "text/plain": [
              "<Figure size 432x216 with 1 Axes>"
            ],
            "image/png": "[encoded data removed]"
          },
          "metadata": {
            "needs_background": "light"
          }
        },
        {
          "output_type": "display_data",
          "data": {
            "text/plain": [
              "<Figure size 432x216 with 1 Axes>"
            ],
            "image/png": "[encoded data removed]"
          },
          "metadata": {
            "needs_background": "light"
          }
        }
      ],
      "source": [
        "# Valor observado\n",
        "xobs = 9.8\n",
        "\n",
        "# Alphas a serem testados\n",
        "alphas = [5, 10, 20, 25, 30, 40]\n",
        "\n",
        "# Loop para criar um grafico para cada alpha\n",
        "for alpha in alphas:\n",
        "    xc = np.percentile(Xm, alpha)\n",
        "    plt.figure(figsize=(6, 3))\n",
        "    a = plt.hist(x=Xm, bins=20, color='#0504aa',\n",
        "                 alpha=0.7, rwidth=0.85, density=True)\n",
        "    plt.axvline(x=xc, color='red', linestyle='--', label='xc1')\n",
        "    plt.axvline(x=xobs, color='green', linestyle='--', label='xobs')\n",
        "    plt.xlabel(r'$\\bar{X}$', fontsize=20)\n",
        "    plt.ylabel(r'$P(\\bar{X})$', fontsize=20)\n",
        "    plt.legend()\n",
        "    if(xobs < xc):\n",
        "        plt.title(\"Rejeitamos H0\"+r' $\\alpha$ = ' + str(alpha/100))\n",
        "    else:\n",
        "        plt.title(\"Aceitamos H0\"+r' $\\alpha$ = ' + str(alpha/100))\n",
        "    plt.show(True)"
      ]
    },
    {
      "cell_type": "markdown",
      "id": "7295baab",
      "metadata": {
        "id": "7295baab"
      },
      "source": [
        "O valor de $\\alpha$ em que há a transição entre aceitar ou rejeitar $H_0$ é o valor p."
      ]
    },
    {
      "cell_type": "code",
      "execution_count": 15,
      "id": "9f8d35f4",
      "metadata": {
        "ExecuteTime": {
          "end_time": "2023-03-07T00:39:20.284530Z",
          "start_time": "2023-03-07T00:39:19.912167Z"
        },
        "id": "9f8d35f4",
        "outputId": "e528e35d-7816-45e1-e071-d344eeae8abd",
        "colab": {
          "base_uri": "https://localhost:8080/",
          "height": 288
        }
      },
      "outputs": [
        {
          "output_type": "display_data",
          "data": {
            "text/plain": [
              "<Figure size 576x288 with 1 Axes>"
            ],
            "image/png": "[encoded data removed]"
          },
          "metadata": {
            "needs_background": "light"
          }
        }
      ],
      "source": [
        "# Alphas e valores criticos\n",
        "xobs = 9.8\n",
        "xcs = []\n",
        "alphas = []\n",
        "\n",
        "# Determina os valores criticos\n",
        "for alpha in np.arange(1,100,2):\n",
        "    xc = np.percentile(Xm, alpha)\n",
        "    xcs.append(xc)\n",
        "    alphas.append(alpha)\n",
        "    \n",
        "# Grafico\n",
        "plt.figure(figsize=(8,4))\n",
        "plt.plot(alphas,xcs)\n",
        "plt.axhline(y=xobs, color='r', linestyle='--', label = 'Media')\n",
        "plt.xlabel(r'$\\alpha$', fontsize=20)\n",
        "plt.ylabel(r'$\\bar{X}$', fontsize=20)\n",
        "plt.grid()\n",
        "plt.show()"
      ]
    },
    {
      "cell_type": "markdown",
      "id": "0ad7fbbe",
      "metadata": {
        "id": "0ad7fbbe"
      },
      "source": [
        "Podemos calcular o valor p: $P(\\bar{X} > \\bar{x}_{obs}|\\mu=\\mu_0) = \\alpha$:"
      ]
    },
    {
      "cell_type": "code",
      "execution_count": 16,
      "id": "11e8d02d",
      "metadata": {
        "ExecuteTime": {
          "end_time": "2023-03-07T00:39:59.330529Z",
          "start_time": "2023-03-07T00:39:59.311860Z"
        },
        "id": "11e8d02d",
        "outputId": "0a56ea6a-8991-416b-ec1e-769b8bbfb9cd",
        "colab": {
          "base_uri": "https://localhost:8080/"
        }
      },
      "outputs": [
        {
          "output_type": "stream",
          "name": "stdout",
          "text": [
            "P-valor:  0.24102410241024103\n"
          ]
        }
      ],
      "source": [
        "# Inicializa o p value\n",
        "pvalue = 0\n",
        "\n",
        "# Loop para o calculo do p value\n",
        "for i in range(0, len(Xm)):\n",
        "    if(Xm[i] < xobs):\n",
        "        pvalue = pvalue + 1\n",
        "pvalue = pvalue/len(Xm)\n",
        "print('P-valor: ', pvalue)"
      ]
    },
    {
      "cell_type": "markdown",
      "id": "cc41d42d",
      "metadata": {
        "id": "cc41d42d"
      },
      "source": [
        "Mostrando no gráfico anterior:"
      ]
    },
    {
      "cell_type": "code",
      "execution_count": 17,
      "id": "8f6aea9a",
      "metadata": {
        "ExecuteTime": {
          "end_time": "2023-03-07T00:40:33.577500Z",
          "start_time": "2023-03-07T00:40:33.212614Z"
        },
        "scrolled": false,
        "id": "8f6aea9a",
        "outputId": "6dc73a67-13c0-4bff-ceb3-141a80d60f89",
        "colab": {
          "base_uri": "https://localhost:8080/",
          "height": 288
        }
      },
      "outputs": [
        {
          "output_type": "display_data",
          "data": {
            "text/plain": [
              "<Figure size 576x288 with 1 Axes>"
            ],
            "image/png": "[encoded data removed]"
          },
          "metadata": {
            "needs_background": "light"
          }
        }
      ],
      "source": [
        "# Alphas e valores criticos\n",
        "xobs = 9.8\n",
        "xcs = []\n",
        "alphas = []\n",
        "\n",
        "# Determina os valores criticos\n",
        "for alpha in np.arange(1,100,2):\n",
        "    xc = np.percentile(Xm, alpha)\n",
        "    xcs.append(xc)\n",
        "    alphas.append(alpha)\n",
        "    \n",
        "# Grafico   \n",
        "plt.figure(figsize=(8,4))\n",
        "plt.plot(alphas,xcs)\n",
        "plt.axhline(y=xobs, color='red', linestyle='--', label = 'xobs')\n",
        "plt.axvline(x=pvalue*100, color='blue', linestyle='--', label = 'p-valor')\n",
        "plt.xlabel(r'$\\alpha$', fontsize=20)\n",
        "plt.ylabel(r'$\\bar{X}$', fontsize=20)\n",
        "plt.legend()\n",
        "plt.grid()\n",
        "plt.show()"
      ]
    },
    {
      "cell_type": "markdown",
      "id": "e3c6c445",
      "metadata": {
        "id": "e3c6c445"
      },
      "source": [
        "O que podemos concluir sobre o __valor p__ é que ele representa o __menor nível de significância $\\alpha$ no qual é possível rejeitar a hipótese nula__ ou em outras palavras, a probabilidade de observar os dados se a hipótese nula for verdadeira.\n",
        "\n",
        "Quanto melhor o valor p, maior é a evidência contra a aceitação da hipótese nula. Vamos avaliar alguns exemplos diretos:\n",
        "\n",
        "- $p = 0.01$, significa que em 1 de cada 100 experimentos, a $H_{0}$ Será verdadeira;\n",
        "- $p = 0.1$, significa que em 10 de cada 100 experimentos, a $H_{0}$ Será verdadeira;\n",
        "- $p = 0.5$, significa que em 50 de cada 100 experimentos, a $H_{0}$ Será verdadeira;\n",
        "- $p = 0.9$, significa que em 90 de cada 100 experimentos, a $H_{0}$ Será verdadeira.\n",
        "\n",
        "Usualmente costuma-se avaliar o nível de significância de acordo com a tabela abaixo:\n",
        "\n",
        "| Nível de significância | Decisão |\n",
        "|------------------------|---------|\n",
        "| $p < 0.01$ | Evidência muit forte contra $H_{0}$ |\n",
        "| $0.01 < p < 0.05$ | Forte evidência contra $H_{0}$ |\n",
        "| $0.05 < p < 0.1$ | Fraca evidência contra $H_{0}$ |\n",
        "| $p > 0.1$ | Pouquíssima ou nenhuma evidência contra $H_{0}$ |"
      ]
    },
    {
      "cell_type": "markdown",
      "id": "04240644",
      "metadata": {
        "id": "04240644"
      },
      "source": [
        "__Exemplo:__ Uma companhia de ônibus planejou uma nova rota. Um estudo preliminar afirma que a duração da viagem pode ser considerada uma variável aleatória com distribuição normal com $\\mu$ = 300 minutos e $\\sigma$ = 30 minutos. As 10 primeiras viagens resultaram em uma média igual a 314 minutos. Esse resultado comprova ou não o estudo preliminar?"
      ]
    },
    {
      "cell_type": "markdown",
      "id": "6f8a2ecf",
      "metadata": {
        "ExecuteTime": {
          "end_time": "2023-03-07T00:54:21.584957Z",
          "start_time": "2023-03-07T00:54:21.556795Z"
        },
        "id": "6f8a2ecf"
      },
      "source": [
        "$H_0: \\mu = 300$ min<br>\n",
        "$H_1: \\mu > 300$ min"
      ]
    },
    {
      "cell_type": "code",
      "execution_count": 18,
      "id": "3cc058cd",
      "metadata": {
        "ExecuteTime": {
          "end_time": "2023-03-07T00:52:33.465064Z",
          "start_time": "2023-03-07T00:52:33.445508Z"
        },
        "id": "3cc058cd",
        "outputId": "dfdbb9b3-f7f2-46f0-b5cd-3a1bfc43e37e",
        "colab": {
          "base_uri": "https://localhost:8080/"
        }
      },
      "outputs": [
        {
          "output_type": "execute_result",
          "data": {
            "text/plain": [
              "1.4757295747452437"
            ]
          },
          "metadata": {},
          "execution_count": 18
        }
      ],
      "source": [
        "z = (314-300)/(30/np.sqrt(10))\n",
        "z"
      ]
    },
    {
      "cell_type": "code",
      "execution_count": 19,
      "id": "82aee9be",
      "metadata": {
        "ExecuteTime": {
          "end_time": "2023-03-07T00:52:45.424451Z",
          "start_time": "2023-03-07T00:52:45.400421Z"
        },
        "id": "82aee9be",
        "outputId": "8304f3ff-f79f-479e-e6c0-e5bf056834e3",
        "colab": {
          "base_uri": "https://localhost:8080/"
        }
      },
      "outputs": [
        {
          "output_type": "execute_result",
          "data": {
            "text/plain": [
              "0.9299917484014155"
            ]
          },
          "metadata": {},
          "execution_count": 19
        }
      ],
      "source": [
        "st.norm.cdf(z) # calcular a probabilidade a partir de z"
      ]
    },
    {
      "cell_type": "code",
      "execution_count": 20,
      "id": "e6ef9a0f",
      "metadata": {
        "ExecuteTime": {
          "end_time": "2023-03-07T00:53:26.611563Z",
          "start_time": "2023-03-07T00:53:26.588917Z"
        },
        "id": "e6ef9a0f",
        "outputId": "8dc48ca2-027f-4985-a86e-5cb886178adf",
        "colab": {
          "base_uri": "https://localhost:8080/"
        }
      },
      "outputs": [
        {
          "output_type": "execute_result",
          "data": {
            "text/plain": [
              "0.07000825159858448"
            ]
          },
          "metadata": {},
          "execution_count": 20
        }
      ],
      "source": [
        "p_value = 1 - st.norm.cdf(z)\n",
        "p_value"
      ]
    },
    {
      "cell_type": "markdown",
      "id": "19ef3d9f",
      "metadata": {
        "id": "19ef3d9f"
      },
      "source": [
        "![image.png](attachment:image.png)"
      ]
    },
    {
      "cell_type": "markdown",
      "id": "2c3f97ce",
      "metadata": {
        "ExecuteTime": {
          "end_time": "2023-03-07T00:53:57.347975Z",
          "start_time": "2023-03-07T00:53:57.335271Z"
        },
        "id": "2c3f97ce"
      },
      "source": [
        "Poucas evidência para rejeitar Ho"
      ]
    },
    {
      "cell_type": "markdown",
      "id": "35f05b0f",
      "metadata": {
        "id": "35f05b0f"
      },
      "source": [
        "$H_0: \\mu = 300$ min<br>\n",
        "$H_1: \\mu > 300$ min"
      ]
    },
    {
      "cell_type": "markdown",
      "id": "1ab3399d",
      "metadata": {
        "id": "1ab3399d"
      },
      "source": [
        "$$ P\\left(\\overline{X} > 314 | \\mu = 300\\right) = P\\left(\\frac{\\overline{X} - \\mu}{\\frac{\\sigma}{\\sqrt{n}}} > \\frac{314 - \\mu}{\\frac{\\sigma}{\\sqrt{n}}}\\right) = P\\left(\\frac{\\overline{X} - \\mu}{\\frac{\\sigma}{\\sqrt{n}}} > \\frac{314 - 300}{\\frac{30}{\\sqrt{10}}}\\right) = P(Z > 1,48)$$\n",
        "\n",
        "Lembrando que $P(Z > 1,48) = 1 - P(Z < 1,48)$:"
      ]
    },
    {
      "cell_type": "code",
      "execution_count": 21,
      "id": "61d0bae3",
      "metadata": {
        "id": "61d0bae3",
        "outputId": "406253b0-655f-4a4f-cc80-d9a62eac45bb",
        "colab": {
          "base_uri": "https://localhost:8080/"
        }
      },
      "outputs": [
        {
          "output_type": "stream",
          "name": "stdout",
          "text": [
            "Z - Score:  1.4757295747452437\n",
            "Probabilidade:  0.07000825159858448\n"
          ]
        }
      ],
      "source": [
        "# Parametros\n",
        "Xobs = 314\n",
        "mu = 300\n",
        "sigma = 30\n",
        "n = 10\n",
        "\n",
        "# Calculo do Z Score\n",
        "z = (Xobs - mu)/(sigma/np.sqrt(n))\n",
        "\n",
        "# Print do Z Score e da probabilidade\n",
        "print('Z - Score: ', z)\n",
        "print('Probabilidade: ', 1 - st.norm.cdf(z))"
      ]
    },
    {
      "cell_type": "markdown",
      "id": "95b21df0",
      "metadata": {
        "id": "95b21df0"
      },
      "source": [
        "Como o valor p não é tão pequeno, podemos dizer que há poucas evidências para rejeitar $H_{0}$."
      ]
    },
    {
      "cell_type": "markdown",
      "id": "db223489",
      "metadata": {
        "id": "db223489"
      },
      "source": [
        "## "
      ]
    },
    {
      "cell_type": "markdown",
      "id": "3eea09da",
      "metadata": {
        "id": "3eea09da"
      },
      "source": [
        "## Comparação entre duas médias"
      ]
    },
    {
      "cell_type": "markdown",
      "id": "1f18b159",
      "metadata": {
        "id": "1f18b159"
      },
      "source": [
        "Uma das principais aplicações do teste de hipóteses é na seleção de atributos. Vamos comparar duas distribuições e verificar se elas possuem a mesma média. Vamos formular as hipóteses:\n",
        "$$\n",
        "H_0: \\mu_1 = \\mu_2\n",
        "$$\n",
        "$$\n",
        "H_a: \\mu_1 \\neq \\mu_2\n",
        "$$"
      ]
    },
    {
      "cell_type": "code",
      "execution_count": 22,
      "id": "cb15ad30",
      "metadata": {
        "ExecuteTime": {
          "end_time": "2023-03-07T01:03:49.646721Z",
          "start_time": "2023-03-07T01:03:49.240794Z"
        },
        "id": "cb15ad30",
        "outputId": "134c01e7-ec4c-4fb8-c9dd-a904c8ee6966",
        "colab": {
          "base_uri": "https://localhost:8080/",
          "height": 265
        }
      },
      "outputs": [
        {
          "output_type": "display_data",
          "data": {
            "text/plain": [
              "<Figure size 576x288 with 1 Axes>"
            ],
            "image/png": "[encoded data removed]"
          },
          "metadata": {
            "needs_background": "light"
          }
        }
      ],
      "source": [
        "# Parametros para a curva 1\n",
        "n = 1000\n",
        "mu1 = 0\n",
        "sigma1 = 2\n",
        "x1 = np.random.normal(mu1, sigma1, n) # sorteia uma amostra de tamanho n\n",
        "\n",
        "# Parametros para a curva 2\n",
        "mu2 = 0\n",
        "sigma2 = 2\n",
        "x2 = np.random.normal(mu2, sigma2, n) # sorteia uma amostra de tamanho n\n",
        "\n",
        "# Histograma das distribuições\n",
        "plt.figure(figsize=(8,4))\n",
        "a1 = plt.hist(x=x1, bins=20, color='blue', alpha=0.7, rwidth=0.85, density=True)\n",
        "a2 = plt.hist(x=x2, bins=20, color='red', alpha=0.7, rwidth=0.85, density=True)\n",
        "plt.show(True)  "
      ]
    },
    {
      "cell_type": "markdown",
      "id": "ec4a05e2",
      "metadata": {
        "id": "ec4a05e2"
      },
      "source": [
        "Para resolver a comparação entre médias, a forma que vamos utilizar para fazer será com o teste [T de Student](https://pt.wikipedia.org/wiki/Teste_t_de_Student):"
      ]
    },
    {
      "cell_type": "markdown",
      "id": "868fb723",
      "metadata": {
        "id": "868fb723"
      },
      "source": [
        "## Student's t-distribution\n",
        "\n",
        "A [distribuição t de Student](https://en.wikipedia.org/wiki/Student%27s_t-distribution) é uma distribuição simétrica e semelhante à curva normal padrão, porém com caudas mais largas, ou seja, uma simulação da t de Student pode **gerar valores mais extremos** que uma simulação da normal.\n",
        "\n",
        "<img src=\"https://upload.wikimedia.org/wikipedia/commons/thumb/4/41/Student_t_pdf.svg/325px-Student_t_pdf.svg.png\">\n",
        "\n",
        "onde $\\nu$ é o número de **graus de liberdade**, comumente tomado como $n-1$ para nossos objetivos.\n",
        "\n",
        "Note que para $\\nu \\rightarrow \\infty$, recuperamos a distribuição normal!"
      ]
    },
    {
      "cell_type": "code",
      "execution_count": 23,
      "id": "70530fbd",
      "metadata": {
        "ExecuteTime": {
          "end_time": "2023-03-07T01:04:02.843944Z",
          "start_time": "2023-03-07T01:04:02.832292Z"
        },
        "id": "70530fbd",
        "outputId": "cd5d2fa8-7e6f-4934-d62b-bed962e0420c",
        "colab": {
          "base_uri": "https://localhost:8080/"
        }
      },
      "outputs": [
        {
          "output_type": "stream",
          "name": "stdout",
          "text": [
            "t=0.25884405248777825, p=0.7957822299139509\n"
          ]
        }
      ],
      "source": [
        "# Import dos stats do scipy\n",
        "from scipy import stats\n",
        "\n",
        "# Aplicando o t-Student\n",
        "t_stat, p = stats.ttest_ind(x1, x2)\n",
        "print(f't={t_stat}, p={p}')"
      ]
    },
    {
      "cell_type": "markdown",
      "id": "c59561e9",
      "metadata": {
        "id": "c59561e9"
      },
      "source": [
        "Ou seja, como o valor p é alto, podemos concluir que as distribuições possuem a mesma média (aceitamos $H_0$)"
      ]
    },
    {
      "cell_type": "markdown",
      "id": "903f4729",
      "metadata": {
        "id": "903f4729"
      },
      "source": [
        "Vamos agora considerar duas distribuições com médias distintas."
      ]
    },
    {
      "cell_type": "code",
      "execution_count": 24,
      "id": "4cb7433f",
      "metadata": {
        "ExecuteTime": {
          "end_time": "2023-03-07T01:05:51.438982Z",
          "start_time": "2023-03-07T01:05:51.058735Z"
        },
        "id": "4cb7433f",
        "outputId": "806bf93a-228e-4d92-a33d-a2c90c17775d",
        "colab": {
          "base_uri": "https://localhost:8080/",
          "height": 265
        }
      },
      "outputs": [
        {
          "output_type": "display_data",
          "data": {
            "text/plain": [
              "<Figure size 576x288 with 1 Axes>"
            ],
            "image/png": "[encoded data removed]"
          },
          "metadata": {
            "needs_background": "light"
          }
        }
      ],
      "source": [
        "# PArametros da curva 1\n",
        "n = 1000\n",
        "mu1 = 0\n",
        "sigma1 = 2\n",
        "x1 = np.random.normal(mu1, sigma1, n) # sorteia uma amostra de tamanho n\n",
        "\n",
        "# PArametros da curva 2\n",
        "mu2 = 5\n",
        "sigma2 = 2\n",
        "x2 = np.random.normal(mu2, sigma2, n) # sorteia uma amostra de tamanho n\n",
        "\n",
        "# Histograma das distribuições\n",
        "plt.figure(figsize=(8,4))\n",
        "a1 = plt.hist(x=x1, bins=20, color='blue', alpha=0.7, rwidth=0.85, density=True)\n",
        "a2 = plt.hist(x=x2, bins=20, color='red', alpha=0.7, rwidth=0.85, density=True)\n",
        "plt.show(True)  "
      ]
    },
    {
      "cell_type": "code",
      "execution_count": 25,
      "id": "6e9874a6",
      "metadata": {
        "ExecuteTime": {
          "end_time": "2023-03-07T01:06:10.392028Z",
          "start_time": "2023-03-07T01:06:10.375280Z"
        },
        "id": "6e9874a6",
        "outputId": "fc056b62-4f5c-4f31-d05d-ef1a2b4655d9",
        "colab": {
          "base_uri": "https://localhost:8080/"
        }
      },
      "outputs": [
        {
          "output_type": "stream",
          "name": "stdout",
          "text": [
            "t=-58.46737022619038, p=0.0\n"
          ]
        }
      ],
      "source": [
        "# Calculo do t-student\n",
        "t_stat, p = stats.ttest_ind(x1,x2)\n",
        "print(f't={t_stat}, p={p}')"
      ]
    },
    {
      "cell_type": "markdown",
      "id": "6fbe0fed",
      "metadata": {
        "id": "6fbe0fed"
      },
      "source": [
        "Nesse segundo caso, vemos que o valor p é igual a zero, o que nos permite rejeitar $H_0$"
      ]
    },
    {
      "cell_type": "markdown",
      "id": "b72dfd44",
      "metadata": {
        "id": "b72dfd44"
      },
      "source": [
        "Portanto, podemos usar o teste de hipóteses para realizar uma seleção de atributos, onde atributos que não conseguem discriminar duas classes, devem ser removidos do conjunto de dados."
      ]
    },
    {
      "cell_type": "markdown",
      "id": "dfbddaaf",
      "metadata": {
        "id": "dfbddaaf"
      },
      "source": [
        "## "
      ]
    },
    {
      "cell_type": "markdown",
      "id": "f6a55c4b",
      "metadata": {
        "id": "f6a55c4b"
      },
      "source": [
        "## Exercícios"
      ]
    },
    {
      "cell_type": "markdown",
      "id": "52bace06",
      "metadata": {
        "id": "52bace06"
      },
      "source": [
        "__1)__ Suponha que os pesos das sacas de soja de uma indústria alimentícia se distribuem aproximadamente como uma normal de desvio padrão populacional igual a 570 g. Selecionada uma amostra aleatória de 25 sacas de um lote específico, obteve-se um peso médio de 27.215 g. Construa um intervalo de confiança para a **média populacional** assumindo um **nível de significância de 10%**."
      ]
    },
    {
      "cell_type": "code",
      "execution_count": 26,
      "id": "eec94665",
      "metadata": {
        "id": "eec94665",
        "outputId": "f5e14c29-8cd7-4059-b267-983ab1bb81c0",
        "colab": {
          "base_uri": "https://localhost:8080/"
        }
      },
      "outputs": [
        {
          "output_type": "stream",
          "name": "stdout",
          "text": [
            "Z-score:  1.6449\n",
            "Erro inferencial:  187.5133\n",
            "Intervalo de confiança pela fórmula:  (27027.486686527533, 27402.513313472467)\n",
            "Intervalo de confiança usando o SciPy:  (27027.486686527533, 27402.513313472467)\n"
          ]
        }
      ],
      "source": [
        "# Carregando as funções para distribuição normal do SciPy\n",
        "from scipy.stats import norm\n",
        "\n",
        "# Parametros\n",
        "X = 27215              # media amostral\n",
        "desvpad = 570         # desvio padrão populacional\n",
        "alpha = 0.10          # nivel de significancia\n",
        "conf = 1 - alpha      # nivel de confiança\n",
        "n = 25                # tamanho da amostra\n",
        "\n",
        "# Calculando a probabilidade\n",
        "prob = conf + (alpha / 2)\n",
        "\n",
        "# Calculando o Z-score para a probabilidade\n",
        "z = norm.ppf(prob)\n",
        "print(\"Z-score: \", np.round(z, 4))\n",
        "\n",
        "# Definindo o erro inferencial\n",
        "e = (z * desvpad) / np.sqrt(n)\n",
        "print(\"Erro inferencial: \", np.round(e,4))\n",
        "\n",
        "\n",
        "# Definindo o intervalo de confiança de duas formas\n",
        "print(\"Intervalo de confiança pela fórmula: \", (X - e, X + e))\n",
        "print(\"Intervalo de confiança usando o SciPy: \", norm.interval(conf, loc = X, scale = desvpad / np.sqrt(n)))"
      ]
    },
    {
      "cell_type": "markdown",
      "id": "61274931",
      "metadata": {
        "id": "61274931"
      },
      "source": [
        "__2)__ Um estudo a respeito do rendimento mensal dos chefes de domicílios no Brasil, determinou que o __erro máximo em relação a média seja de R$\\$$ 370,00__. Sabendo que o desvio padrão populacional deste grupo de trabalhadores é de **R$\\$$ 2.516,28**. Para um __nível de confiança de 99%__, qual deve ser o tamanho da amostra de nosso estudo?"
      ]
    },
    {
      "cell_type": "code",
      "execution_count": 27,
      "id": "dde2e87a",
      "metadata": {
        "id": "dde2e87a",
        "outputId": "6a7636fd-b0f9-4f6e-db3b-317de1a64494",
        "colab": {
          "base_uri": "https://localhost:8080/"
        }
      },
      "outputs": [
        {
          "output_type": "stream",
          "name": "stdout",
          "text": [
            "Tamanho da amostra será:  307.0\n"
          ]
        }
      ],
      "source": [
        "# parametros\n",
        "desvpad = 2516.28 #desvio padrão\n",
        "e = 370      #erro inferencial\n",
        "conf = 0.99        # nivel de confiança\n",
        "alpha = 1- conf    # nivel de significancia\n",
        "\n",
        "# Calculando o Z-Score\n",
        "z = norm.ppf(conf + (alpha / 2))\n",
        "\n",
        "# Determinando o tamanho da amostra\n",
        "n = ((z * desvpad) / e)**2\n",
        "\n",
        "# Valor da amostra\n",
        "print(\"Tamanho da amostra será: \", np.round(n, 0))"
      ]
    },
    {
      "cell_type": "markdown",
      "id": "45b69a93",
      "metadata": {
        "id": "45b69a93"
      },
      "source": [
        "__3)__ Um fabricante de lajotas de cerâmica introduz um novo material em sua fabricação e acredita que aumentará a resistência média, que é de 206 kg. A resistência das lajotas tem distribuição normal com desvio padrão de 12 kg. Retira-se uma amostra de 30 lajotas, obtendo $\\overline{X}_{obs}$ = 210 kg. Ao nível de 10%, pode o fabricante aceitar que a resistência média de suas lajotas tenha aumentado?"
      ]
    },
    {
      "cell_type": "code",
      "execution_count": 28,
      "id": "0ea56a5a",
      "metadata": {
        "id": "0ea56a5a",
        "outputId": "762e6cee-0d2e-43e1-9348-3c56e8156a4f",
        "colab": {
          "base_uri": "https://localhost:8080/"
        }
      },
      "outputs": [
        {
          "output_type": "stream",
          "name": "stdout",
          "text": [
            "Z Score para 90%:  1.2815515655446004\n",
            "Valor crítico:  208.80773880421935  kg\n",
            "Valor médio observado:  210  kg\n",
            "Teste de Hipótese: \n",
            "Rejeitamos H0\n"
          ]
        }
      ],
      "source": [
        "# Calculo da Z score\n",
        "z = st.norm.ppf(0.9)\n",
        "print(\"Z Score para 90%: \", z)\n",
        "\n",
        "# Parametros\n",
        "mu = 206\n",
        "sigma = 12\n",
        "n = 30\n",
        "\n",
        "# Valor critico\n",
        "Xc = mu + (sigma/np.sqrt(n))*z\n",
        "print(\"Valor crítico: \", Xc, \" kg\")\n",
        "\n",
        "# Valor observado\n",
        "Xobs = 210\n",
        "print(\"Valor médio observado: \", Xobs, \" kg\")\n",
        "\n",
        "# teste de Hipotese\n",
        "print(\"Teste de Hipótese: \")\n",
        "if(Xobs < Xc):\n",
        "    print(\"Aceitamos H0\")\n",
        "else:\n",
        "    print(\"Rejeitamos H0\")"
      ]
    },
    {
      "cell_type": "markdown",
      "id": "0b270298",
      "metadata": {
        "id": "0b270298"
      },
      "source": [
        "__4)__ Uma fábrica de automóveis anuncia que seus carros consomem, em média, 11 litros por 100 km, com desvio padrão de 0,8 litro. Uma revista decide testar essa afirmação e analisa 35 carros dessa marca, obtendo 11,4 litros por 100 km, como consumo médio. Admitindo que o consumo tenha distribuição normal, ao nível de 5%, o que a revista concluirá sobre o anúncio da fábrica?"
      ]
    },
    {
      "cell_type": "code",
      "execution_count": 25,
      "id": "7eddfbf6",
      "metadata": {
        "id": "7eddfbf6"
      },
      "outputs": [],
      "source": [
        "# Define o alpha\n",
        "alpha = 0.05\n",
        "\n",
        "#Caso critico 1\n",
        "print(\"Caso crítico 1\")\n",
        "\n",
        "# Z Score caso 1\n",
        "z1 = st.norm.ppf(alpha/2)\n",
        "print(\"Z Score caso crítico 1: \", z1)\n",
        "\n",
        "# Parametros\n",
        "mu = 11\n",
        "sigma = 0.8\n",
        "n = 35\n",
        "\n",
        "# Valor critico 1\n",
        "Xc1 = mu + (sigma/np.sqrt(n))*z1\n",
        "print(\"Valor crítico 1: \", Xc1, \" litros por 100 km\")\n",
        "print(\"==================================================\")\n",
        "\n",
        "#Caso critico 2\n",
        "print(\"Caso crítico 2\")\n",
        "\n",
        "# Z Score caso 2\n",
        "z2 = st.norm.ppf(1 - alpha/2)\n",
        "print(\"Z Score caso crítico 2: \", z2)\n",
        "\n",
        "# Valor critico 2\n",
        "Xc2 = mu + (sigma/np.sqrt(n))*z2\n",
        "print(\"Valor crítico 2: \", Xc2, \" litros por 100 km\")\n",
        "print(\"==================================================\")\n",
        "\n",
        "# Valores observados\n",
        "Xobs = 11.4\n",
        "print(\"Valor médio observado: \", Xobs, \" litros por 100 km\")\n",
        "\n",
        "# teste de Hipotese\n",
        "print(\"Teste de Hipótese: \")\n",
        "if(Xobs < Xc1 or Xobs > Xc2):\n",
        "    print(\"Rejeitamos H0\")\n",
        "else:\n",
        "    print(\"Aceitamos H0\")"
      ]
    },
    {
      "cell_type": "markdown",
      "id": "8a4b22f8",
      "metadata": {
        "id": "8a4b22f8"
      },
      "source": [
        "__5)__ Os novos operários de uma empresa são treinados a operarem uma máquina, cujo tempo X (em horas) de aprendizado é anotado. Observou-se que X segue de perto a distribuição normal N(25; 100). Uma nova técnica de ensino, que deve melhorar o tempo de aprendizado, foi testada em 16 novos empregados, os quais apresentaram 20.5 horas como tempo médio de aprendizado. Usando o p-valor, você diria que a nova técnica é melhor que a anterior?"
      ]
    },
    {
      "cell_type": "code",
      "execution_count": 29,
      "id": "90628da7",
      "metadata": {
        "id": "90628da7",
        "outputId": "664927bb-f928-4ed5-b161-4f35f85a4628",
        "colab": {
          "base_uri": "https://localhost:8080/"
        }
      },
      "outputs": [
        {
          "output_type": "stream",
          "name": "stdout",
          "text": [
            "Z - Score:  -1.8\n",
            "Probabilidade:  0.03593031911292579\n"
          ]
        }
      ],
      "source": [
        "# Parametros\n",
        "Xobs = 20.5\n",
        "mu = 25\n",
        "sigma = np.sqrt(100)\n",
        "n = 16\n",
        "\n",
        "# Calculo do Z-score\n",
        "z = (Xobs - mu)/(sigma/np.sqrt(n))\n",
        "\n",
        "# Print do Z Score e da probabilidade\n",
        "print('Z - Score: ', z)\n",
        "print('Probabilidade: ', st.norm.cdf(z))"
      ]
    },
    {
      "cell_type": "markdown",
      "id": "5b9399f4",
      "metadata": {
        "id": "5b9399f4"
      },
      "source": [
        "## "
      ]
    }
  ],
  "metadata": {
    "kernelspec": {
      "display_name": "Python 3 (ipykernel)",
      "language": "python",
      "name": "python3"
    },
    "language_info": {
      "codemirror_mode": {
        "name": "ipython",
        "version": 3
      },
      "file_extension": ".py",
      "mimetype": "text/x-python",
      "name": "python",
      "nbconvert_exporter": "python",
      "pygments_lexer": "ipython3",
      "version": "3.10.9"
    },
    "varInspector": {
      "cols": {
        "lenName": 16,
        "lenType": 16,
        "lenVar": 40
      },
      "kernels_config": {
        "python": {
          "delete_cmd_postfix": "",
          "delete_cmd_prefix": "del ",
          "library": "var_list.py",
          "varRefreshCmd": "print(var_dic_list())"
        },
        "r": {
          "delete_cmd_postfix": ") ",
          "delete_cmd_prefix": "rm(",
          "library": "var_list.r",
          "varRefreshCmd": "cat(var_dic_list()) "
        }
      },
      "types_to_exclude": [
        "module",
        "function",
        "builtin_function_or_method",
        "instance",
        "_Feature"
      ],
      "window_display": false
    },
    "colab": {
      "provenance": []
    }
  },
  "nbformat": 4,
  "nbformat_minor": 5
}