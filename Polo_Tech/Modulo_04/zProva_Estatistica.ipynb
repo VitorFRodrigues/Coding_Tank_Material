{
  "cells": [
    {
      "cell_type": "markdown",
      "metadata": {
        "colab_type": "text",
        "id": "view-in-github"
      },
      "source": [
        "<a href=\"https://colab.research.google.com/github/VitorFRodrigues/Polo_Tech_Americanas/blob/main/Polo_Tech/Modulo_04/Prova_Estatistica.ipynb\" target=\"_parent\"><img src=\"https://colab.research.google.com/assets/colab-badge.svg\" alt=\"Open In Colab\"/></a>"
      ]
    },
    {
      "attachments": {},
      "cell_type": "markdown",
      "metadata": {
        "id": "wWC9s-cVNa5p"
      },
      "source": [
        "__1.__ Identifique nas alternativas abaixo, a opção que contenha apenas métricas de posição:\n",
        "\n",
        "- [ ] média, desvio padrão\n",
        "- [ ] desvio padrão, variância\n",
        "- [ ] mediana, moda\n",
        "- [ ] variância, mediana\n",
        "- [ ] média, correlação de Pearson"
      ]
    },
    {
      "cell_type": "code",
      "execution_count": null,
      "metadata": {
        "id": "PDt5YusSQxD-"
      },
      "outputs": [],
      "source": []
    },
    {
      "attachments": {},
      "cell_type": "markdown",
      "metadata": {
        "id": "LwpLjHLSNr2n"
      },
      "source": [
        "__2.__ Dado o boxplot conforme a figura abaixo:\n",
        "\n",
        "![BoxPlot](./imgs/BoxPlot.PNG)\n",
        "\n",
        "Como é definida a fórmula para os limites superior e inferior do boxplot que separa os dados da distribuição dos prováveis outliers?\n",
        "\n",
        "- [ ] Q1 + 1.5(Q3 - Q1), Q3 - 1.5(Q3 - Q1)\n",
        "- [ ] Q3 + 1(Q3 - Q1), Q1 - 1(Q3 - Q1)\n",
        "- [ ] Q3 - 1.5(Q3 - Q1), Q1 + 1.5(Q3 - Q1)\n",
        "- [ ] Q3 + 1.5(Q3 - Q1), Q1 - 1.5(Q3 - Q1)\n",
        "- [ ] 1.5Q3 + (Q3 - Q1), 1.5Q1 - (Q3 - Q1)\n"
      ]
    },
    {
      "cell_type": "code",
      "execution_count": null,
      "metadata": {
        "id": "1ZOsSDvAQwPb"
      },
      "outputs": [],
      "source": []
    },
    {
      "cell_type": "markdown",
      "metadata": {
        "id": "6586k2t6ONtV"
      },
      "source": [
        "__3.__ Rafael queria levar dinheiro na escola para comprar balas, mas sua mãe só deixou que ele levasse duas moedas para a escola. Sabendo que dentro do cofre do Rafael, temos as seguintes moedas:\n",
        "\n",
        "- 10 centavos = 5 moedas\n",
        "- 25 centavos = 3 moedas\n",
        "- 50 centavos = 10 moedas\n",
        "- 01 real = 2 moedas\n",
        "\n",
        "Qual a probabilidade de Rafael retirar respectivamente uma moeda de 1 real e uma moeda de 25 centavos?\n",
        "\n",
        "- [ ] 30,0 %\n",
        "- [ ] 10,0 %\n",
        "- [ ] 1,6 %\n",
        "- [ ] 15,8 %\n",
        "- [ ] 5,3 %"
      ]
    },
    {
      "cell_type": "code",
      "execution_count": null,
      "metadata": {
        "id": "RDEeEDM3Qvkp"
      },
      "outputs": [],
      "source": []
    },
    {
      "cell_type": "markdown",
      "metadata": {
        "id": "_NREuCpkOnB2"
      },
      "source": [
        "__4.__ Em uma filial de um banco, 40% dos clientes que vão ao caixa eletrônico sacam dinheiro do caixa. Utilizando de uma distribuição binomial, qual é a probabilidade de no máximo 12 clientes sacarem dinheiro em um dia que tivemos 30 clientes no caixa eletrônico?\n",
        "\n",
        "- [ ] 57,8 %\n",
        "- [ ] 52,2 %\n",
        "- [ ] 42,2 %\n",
        "- [ ] 47,8 %\n",
        "- [ ] 40,0 %"
      ]
    },
    {
      "cell_type": "code",
      "execution_count": null,
      "metadata": {
        "id": "piRHHLcRQvF2"
      },
      "outputs": [],
      "source": []
    },
    {
      "cell_type": "markdown",
      "metadata": {
        "id": "Fb3d9aP7Oz_0"
      },
      "source": [
        "__5.__ Em um centro de distribuição logístico da Amazon, chegam cerca de 1.440 produtos por dia. Sabendo que segue uma distribuição de Poisson, qual a probabilidade de que em um minuto cheguem 3 produtos?\n",
        "\n",
        "- [ ] 36,8 %\n",
        "- [ ] 55,2 %\n",
        "- [ ] 24,5 %\n",
        "- [ ] 6,1 %\n",
        "- [ ] 18,4 %"
      ]
    },
    {
      "cell_type": "code",
      "execution_count": null,
      "metadata": {
        "id": "6-kr0hkXQuqR"
      },
      "outputs": [],
      "source": []
    },
    {
      "cell_type": "markdown",
      "metadata": {
        "id": "J1KmKHtwO_mh"
      },
      "source": [
        "__6.__ Suponha que 60% das mulheres que compram kits de gravidez instantâneos estejam, de fato, grávidas. Para um kit de uma marca específica, se a mulher estiver grávida, o teste fornecerá resultado positivo 96% das vezes e negativo 4% das vezes (um “falso negativo\"). Se ela não estiver grávida, o teste resultará positivo em 1% das vezes (um “falso positivo”) e negativo 99% das vezes . Suponha que um teste resulte positivo. Qual a probabilidade de que a mulher esteja realmente grávida?\n",
        "\n",
        "- [ ] 77,7 %\n",
        "- [ ] 63,2 %\n",
        "- [ ] 39,4 %\n",
        "- [ ] 86,4 %\n",
        "- [ ] 99,3 %"
      ]
    },
    {
      "cell_type": "code",
      "execution_count": null,
      "metadata": {
        "id": "Udd_NiyDQuPD"
      },
      "outputs": [],
      "source": []
    },
    {
      "cell_type": "markdown",
      "metadata": {
        "id": "PAVIk-zDPKmA"
      },
      "source": [
        "__7.__ Uma máquina de sorvete está regulada de modo a servir uma média de 80g por casquinha. Se a quantidade servida por casquinha seguir uma distribuição normal com desvio padrão de 8g, qual a porcentagem de casquinhas que conterão mais de 90g de sorvete?\n",
        "\n",
        "- [ ] 26,6 %\n",
        "- [ ] 73,4 %\n",
        "- [ ] 10,6 %\n",
        "- [ ] 50,0 %\n",
        "- [ ] 89,4 %"
      ]
    },
    {
      "cell_type": "code",
      "execution_count": null,
      "metadata": {
        "id": "1tGMDZkIQtzk"
      },
      "outputs": [],
      "source": []
    },
    {
      "cell_type": "markdown",
      "metadata": {
        "id": "FhxatDjsPVF1"
      },
      "source": [
        "__8.__ O tempo para fabricar um perfume em uma empresa é descrito por uma variável aleatória X, medida em horas, com distribuição normal de média mu = 7 e desvio padrão sigma = 2. Qual a probabilidade de que um perfume será finalizado entre 4 e 11 horas?\n",
        "\n",
        "- [ ] 91,0 %\n",
        "- [ ] 93,4 %\n",
        "- [ ] 9,0 %\n",
        "- [ ] 97,7 %\n",
        "- [ ] 2,3 %"
      ]
    },
    {
      "cell_type": "code",
      "execution_count": null,
      "metadata": {
        "id": "pyrqIqH_QtPR"
      },
      "outputs": [],
      "source": []
    },
    {
      "cell_type": "markdown",
      "metadata": {
        "id": "Q3wyyeZbPhmA"
      },
      "source": [
        "__9.__ Dados os tipos de amostragem e as definições dos mesmos, assinale a alternativa que indique cada tipo de amostragem com a respectiva definição:\n",
        "\n",
        "Tipos de Amostragem:\n",
        "\n",
        "1 - Amostragem Aleatória Simples\n",
        "\n",
        "2 - Amostragem Estratificada\n",
        "\n",
        "3 - Amostragem por Conglomerado\n",
        "\n",
        "Definições:\n",
        "\n",
        "I - Método de amostragem onde a população é dividida em grupos (estratos) segundo algumas características conhecidas sobre a população em estudo;\n",
        "\n",
        "II - Método de amostragem que divide em subpopulações (conglomerados), onde escolhem aleatóriamente por amostragem simples as subpopulações e todos os elementos de uma subpopulação irão fazer parte da amostra;\n",
        "\n",
        "III - Método de amostragem mais simples onde serão escolhidos aleatoriamente elementos com ou sem reposição.\n",
        "\n",
        "Alternativas\n",
        "- [ ] 1-II, 2-I, 3-III\n",
        "- [ ] 1-II, 2-III, 3-I\n",
        "- [ ] 1-III, 2-I, 3-II\n",
        "- [ ] 1-I, 2-II, 3-III\n",
        "- [ ] 1-III, 2-II, 3-I"
      ]
    },
    {
      "cell_type": "code",
      "execution_count": null,
      "metadata": {
        "id": "6U2WVb5gQsj2"
      },
      "outputs": [],
      "source": []
    },
    {
      "cell_type": "markdown",
      "metadata": {
        "id": "K0JYQR31Px76"
      },
      "source": [
        "__10.__ Um fabricante de refrigerante anunciou que o índice de cafeína do seu refrigerante de cola não é maior do que 35mg por lata. Um laboratório realizou 20 análises do índice de cafeína obtendo os resultados (37, 34, 36, 37, 35, 32, 30, 35, 34, 36, 39, 38, 34, 35, 31, 30, 33, 35, 36, 31). Sabe-se que o índice de cafeína do refrigerante de cola dessa marca se distribui normalmente com variância igual a 4. Qual é, respectivamente, a conclusão do teste e o valor crítico para este teste com nível de significância de 5%? Utilize a suposição de que queremos identificar se a média de cafeína, caso não seja 35mg, seja maior que esse valor (caso unicaudal do teste). Obs.: não utilize a função ztest ou t.\n",
        "\n",
        "Alternativas\n",
        "\n",
        "- [ ] Não Rejeita H0, X_critico = 34,40 mg\n",
        "- [ ] Rejeita H0, X_critico = 34,40 mg\n",
        "- [ ] Não Rejeita H0, X_critico = 35,74 mg\n",
        "- [ ] Rejeita H0, X_critico = 35,74 mg"
      ]
    },
    {
      "cell_type": "code",
      "execution_count": null,
      "metadata": {
        "id": "_fiLmuzNQsJ1"
      },
      "outputs": [],
      "source": []
    },
    {
      "cell_type": "markdown",
      "metadata": {
        "id": "ypAYw7waP9Q8"
      },
      "source": [
        "__11.__ Para que uma série temporal seja considerada estacionária ou parcialmente estacionária, qual das alternativas abaixo deve ser verdadeira?\n",
        "\n",
        "Alternativas\n",
        "- [ ] Média e Variância constante\n",
        "- [ ] Nenhuma das anteriores\n",
        "- [ ] Média constante\n",
        "- [ ] Variância constante"
      ]
    },
    {
      "cell_type": "code",
      "execution_count": null,
      "metadata": {
        "id": "GHw8AM2zQrtF"
      },
      "outputs": [],
      "source": []
    },
    {
      "cell_type": "markdown",
      "metadata": {
        "id": "oasAM1B3QGUl"
      },
      "source": [
        "__12.__ Escolha nas alternativas abaixo, qual é a componente de uma série temporal identificada como qualquer alteração irregular e inexplicável?\n",
        "\n",
        "Alternativas\n",
        "- [ ] Ciclos\n",
        "- [ ] Sazonalidade\n",
        "- [ ] Tendência\n",
        "- [ ] Ruído Aleatório"
      ]
    },
    {
      "cell_type": "code",
      "execution_count": 1,
      "metadata": {
        "id": "ydpiN0npNUln"
      },
      "outputs": [],
      "source": []
    }
  ],
  "metadata": {
    "colab": {
      "authorship_tag": "ABX9TyM+3umCQAalba2Dd0/qqyf8",
      "include_colab_link": true,
      "provenance": []
    },
    "kernelspec": {
      "display_name": "Python 3",
      "name": "python3"
    },
    "language_info": {
      "name": "python"
    }
  },
  "nbformat": 4,
  "nbformat_minor": 0
}
