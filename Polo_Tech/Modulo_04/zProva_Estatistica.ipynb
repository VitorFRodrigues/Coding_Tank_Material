{
  "cells": [
    {
      "cell_type": "markdown",
      "metadata": {
        "id": "view-in-github",
        "colab_type": "text"
      },
      "source": [
        "<a href=\"https://colab.research.google.com/github/VitorFRodrigues/Polo_Tech_Americanas/blob/main/Polo_Tech/Modulo_04/zProva_Estatistica.ipynb\" target=\"_parent\"><img src=\"https://colab.research.google.com/assets/colab-badge.svg\" alt=\"Open In Colab\"/></a>"
      ]
    },
    {
      "cell_type": "markdown",
      "metadata": {
        "id": "wWC9s-cVNa5p"
      },
      "source": [
        "__1.__ Identifique nas alternativas abaixo, a opção que contenha apenas métricas de posição:\n",
        "\n",
        "- [ ] média, desvio padrão\n",
        "- [ ] desvio padrão, variância\n",
        "- [x] mediana, moda\n",
        "- [ ] variância, mediana\n",
        "- [ ] média, correlação de Pearson"
      ]
    },
    {
      "cell_type": "markdown",
      "source": [
        "## \n",
        "\n",
        "O principal objetivo da estatística descritiva é gerar **medidas que resumam** o conjunto de dados que estamos analisando, ou seja, medidas que descrevam **a distribuição** dos dados, de forma quantitativa. Temos dois tipos de métricas disponíveis: as métricas de **posição** e **dispersão**. Vamos conhecer melhor essas métricas a seguir:\n",
        "\n",
        "**Métricas de Posição**: Estas são medidas que resumem algumas propriedades do conjunto de dados:\n",
        "\n",
        "- Média\n",
        "- Mediana\n",
        "- Moda\n",
        "- Quartis\n",
        "\n",
        "\n",
        "---"
      ],
      "metadata": {
        "id": "6vMUKdcnbLdB"
      }
    },
    {
      "cell_type": "markdown",
      "metadata": {
        "id": "LwpLjHLSNr2n"
      },
      "source": [
        "__2.__ Dado o boxplot conforme a figura abaixo:\n",
        "\n",
        "![BoxPlot](https://github.com/VitorFRodrigues/Polo_Tech_Americanas/blob/main/Polo_Tech/Modulo_04/imgs/BoxPlot.PNG?raw=1)\n",
        "\n",
        "Como é definida a fórmula para os limites superior e inferior do boxplot que separa os dados da distribuição dos prováveis outliers?\n",
        "\n",
        "- [ ] Q1 + 1.5(Q3 - Q1), Q3 - 1.5(Q3 - Q1)\n",
        "- [ ] Q3 + 1(Q3 - Q1), Q1 - 1(Q3 - Q1)\n",
        "- [ ] Q3 - 1.5(Q3 - Q1), Q1 + 1.5(Q3 - Q1)\n",
        "- [x] Q3 + 1.5(Q3 - Q1), Q1 - 1.5(Q3 - Q1)\n",
        "- [ ] 1.5Q3 + (Q3 - Q1), 1.5Q1 - (Q3 - Q1)\n"
      ]
    },
    {
      "cell_type": "markdown",
      "source": [
        "## \n",
        "\n",
        "![IQR](https://github.com/VitorFRodrigues/Polo_Tech_Americanas/blob/main/Polo_Tech/Modulo_04/imgs/IQR.png?raw=1)\n",
        "\n",
        "---"
      ],
      "metadata": {
        "id": "l0vCLOGAcDEt"
      }
    },
    {
      "cell_type": "markdown",
      "metadata": {
        "id": "6586k2t6ONtV"
      },
      "source": [
        "__3.__ Rafael queria levar dinheiro na escola para comprar balas, mas sua mãe só deixou que ele levasse duas moedas para a escola. Sabendo que dentro do cofre do Rafael, temos as seguintes moedas:\n",
        "\n",
        "- 10 centavos = 5 moedas\n",
        "- 25 centavos = 3 moedas\n",
        "- 50 centavos = 10 moedas\n",
        "- 01 real = 2 moedas\n",
        "\n",
        "Qual a probabilidade de Rafael retirar respectivamente uma moeda de 1 real e uma moeda de 25 centavos?\n",
        "\n",
        "- [ ] 30,0 %\n",
        "- [ ] 10,0 %\n",
        "- [x] 1,6 %\n",
        "- [ ] 15,8 %\n",
        "- [ ] 5,3 %"
      ]
    },
    {
      "cell_type": "code",
      "execution_count": 4,
      "metadata": {
        "id": "RDEeEDM3Qvkp",
        "colab": {
          "base_uri": "https://localhost:8080/"
        },
        "outputId": "671439af-90e5-491b-c088-6e1e562f6ea6"
      },
      "outputs": [
        {
          "output_type": "stream",
          "name": "stdout",
          "text": [
            "Probabilidade para retirar 25 cent dado que foi retirado 1 real:\n",
            "P(.25|1) = 1.6%\n"
          ]
        }
      ],
      "source": [
        "# Probabilidade\n",
        "P_1Real = 2/(5+3+10+2)\n",
        "\n",
        "# Retirar 25 Cent depois que foi removido 1 Real \n",
        "P_25cent = 3/(5+3+10+1)\n",
        "\n",
        "P_tot = P_1Real * P_25cent\n",
        "print(f'Probabilidade para retirar 25 cent dado que foi retirado 1 real:\\nP(.25|1) = {round(P_tot*100,1)}%')"
      ]
    },
    {
      "cell_type": "markdown",
      "source": [
        "Pelo método convencional:\n",
        "```python\n",
        "# Espaço Amostral\n",
        "S = {.10, .10, .10, .10, .10, .25, .25, .25, .50, .50, .50, .50, .50, .50, .50, .50, .50, .50, 1, 1}\n",
        "\n",
        "# Probabilidade de retirar 1 real\n",
        "P(1) = 2/(5+3+10+1) = 2/20 = 1/10\n",
        "\n",
        "# Aqui calculamos a partir da probabilidade condicional\n",
        "P(A ∩ B) = P(B | A)P(A) = P(0.25 | 1)P(1)\n",
        "\n",
        "P(0.25 | 1) = 3/(5+3+10+1) = 3/19\n",
        "\n",
        "P(A ∩ B) = P(B | A)P(A) = 3/19 * 1/10 = 3/190 = 1,6%\n",
        "```\n",
        "---"
      ],
      "metadata": {
        "id": "i90ouPpqfxj3"
      }
    },
    {
      "cell_type": "markdown",
      "metadata": {
        "id": "_NREuCpkOnB2"
      },
      "source": [
        "__4.__ Em uma filial de um banco, 40% dos clientes que vão ao caixa eletrônico sacam dinheiro do caixa. Utilizando de uma distribuição binomial, qual é a probabilidade de no máximo 12 clientes sacarem dinheiro em um dia que tivemos 30 clientes no caixa eletrônico?\n",
        "\n",
        "- [x] 57,8 %\n",
        "- [ ] 52,2 %\n",
        "- [ ] 42,2 %\n",
        "- [ ] 47,8 %\n",
        "- [ ] 40,0 %"
      ]
    },
    {
      "cell_type": "code",
      "execution_count": 10,
      "metadata": {
        "id": "piRHHLcRQvF2"
      },
      "outputs": [],
      "source": [
        "from math import factorial\n",
        "import numpy as np\n",
        "\n",
        "def binomial(n, p, k):\n",
        "    C = (factorial(n) / (factorial(n - k) * factorial(k)))\n",
        "    return C * np.power(p, k) * np.power(1 - p, n - k)"
      ]
    },
    {
      "cell_type": "code",
      "source": [
        "# número de clientes:\n",
        "n = 30\n",
        "\n",
        "# probabilidade de saque no caixa\n",
        "p = 40/100\n",
        "\n",
        "# número máximo de saque em dinheiro\n",
        "k_max = 12\n",
        "\n",
        "prob = 0\n",
        "for k in range(0,k_max+1):\n",
        "  prob += binomial(n, p, k)\n",
        "\n",
        "# print do resultado teorico\n",
        "print(f\"P(0<=k<=12): {np.round(prob*100, 1)}%\")"
      ],
      "metadata": {
        "colab": {
          "base_uri": "https://localhost:8080/"
        },
        "id": "EQ-09-1UiVCs",
        "outputId": "7a1dc7df-91d1-4590-c636-54f5e226ea34"
      },
      "execution_count": 17,
      "outputs": [
        {
          "output_type": "stream",
          "name": "stdout",
          "text": [
            "P(0<=k<=12): 57.8%\n"
          ]
        }
      ]
    },
    {
      "cell_type": "markdown",
      "metadata": {
        "id": "Fb3d9aP7Oz_0"
      },
      "source": [
        "__5.__ Em um centro de distribuição logístico da Amazon, chegam cerca de 1.440 produtos por dia. Sabendo que segue uma distribuição de Poisson, qual a probabilidade de que em um minuto cheguem 3 produtos?\n",
        "\n",
        "- [ ] 36,8 %\n",
        "- [ ] 55,2 %\n",
        "- [ ] 24,5 %\n",
        "- [x] 6,1 %\n",
        "- [ ] 18,4 %"
      ]
    },
    {
      "cell_type": "code",
      "execution_count": 16,
      "metadata": {
        "id": "6-kr0hkXQuqR",
        "colab": {
          "base_uri": "https://localhost:8080/"
        },
        "outputId": "603564d4-4422-4e91-e694-456c6e77598b"
      },
      "outputs": [
        {
          "output_type": "stream",
          "name": "stdout",
          "text": [
            "P(k = 3) = 6.1%\n"
          ]
        }
      ],
      "source": [
        "def Poisson(lbd, k):\n",
        "    return np.exp(-lbd) * (lbd**k) / factorial(k)\n",
        "\n",
        "lbd = 1440/(24*60) # 1440 produtos/dia * 1 dia/24hr * 1hr/60min = 1440/(24*60) produtos/min\n",
        "\n",
        "# frequência procurada\n",
        "k = 3 # produtos/min\n",
        "\n",
        "# print do resultado:\n",
        "print(f\"P(k = 3) = {round(Poisson(lbd,k)*100, 1)}%\")"
      ]
    },
    {
      "cell_type": "markdown",
      "metadata": {
        "id": "J1KmKHtwO_mh"
      },
      "source": [
        "__6.__ Suponha que 60% das mulheres que compram kits de gravidez instantâneos estejam, de fato, grávidas. Para um kit de uma marca específica, se a mulher estiver grávida, o teste fornecerá resultado positivo 96% das vezes e negativo 4% das vezes (um “falso negativo\"). Se ela não estiver grávida, o teste resultará positivo em 1% das vezes (um “falso positivo”) e negativo 99% das vezes . Suponha que um teste resulte positivo. Qual a probabilidade de que a mulher esteja realmente grávida?\n",
        "\n",
        "- [ ] 77,7 %\n",
        "- [ ] 63,2 %\n",
        "- [ ] 39,4 %\n",
        "- [ ] 86,4 %\n",
        "- [x] 99,3 %"
      ]
    },
    {
      "cell_type": "markdown",
      "source": [
        "__Resolução:__\n",
        "\n",
        "> Consideremos que 60% das pessoas estejam de fato grávidas: $P(C) = 0.6$\n",
        "\n",
        "> Logo, 40% das pessoas não estão: $P(¬C) = 0.4$\n",
        "\n",
        "Os Falsos positivos são 1%, ou seja 1% dos testes positivos na verdade não estão grávidas. Já o caso dos falsos negativos são 4%, ou seja 4% dos testes negativos na verdade a pessoa está grávida. Vamos ver esse resumo na tabela abaixo:\n",
        "\n",
        "\n",
        "|                | Mulher Grávida | Mulher Não Grávida |\n",
        "|----------------|----------------|--------------------|\n",
        "| Teste positivo | 96 %           | 1 %                |\n",
        "| Teste Negativo |  4 %           | 99 %               |\n",
        "\n",
        "\n",
        "Fazendo os cálculos de acordo com a suposição:\n",
        "\n",
        "\n",
        "|                    | Mulher Grávida                              | Mulher Não Grávida                               |\n",
        "|--------------------|---------------------------------------------|--------------------------------------------------|\n",
        "| **Teste positivo** | Prob. Gráv. e teste pos: 60% × 96% = 57,6%  | Prob Não Gráv. e teste pos: 40% × 1% = 0,4%      |\n",
        "| **Teste Negativo** | Prob Gráv. e teste neg: 60% × 4% = 2,4%     | Prob Não Gráv. e teste neg: 40% × 99% = 39,6%    |\n",
        "\n",
        "\n",
        "O evento desejado é um Verdadeiro positivo, ou seja, **teste positivo e a mulher grávida**.\n",
        "\n",
        "O **total de possibilidades com relação ao teste positivo** seria a **soma da probabilidade de “grávida e teste pos”** (verdadeiro positivo) com **“não grávida e teste pos” (falso positivo)**, que resultará em 57,6% + 0,4%, igual a 58%.\n",
        "\n",
        "Portanto, a chance de estar grávida se temos um teste positivo é de **57,6%/58% = 99,3%**. \n",
        "\n",
        "---"
      ],
      "metadata": {
        "id": "ocNJvTclrr0Y"
      }
    },
    {
      "cell_type": "markdown",
      "metadata": {
        "id": "PAVIk-zDPKmA"
      },
      "source": [
        "__7.__ Uma máquina de sorvete está regulada de modo a servir uma média de 80g por casquinha. Se a quantidade servida por casquinha seguir uma distribuição normal com desvio padrão de 8g, qual a porcentagem de casquinhas que conterão mais de 90g de sorvete?\n",
        "\n",
        "- [ ] 26,6 %\n",
        "- [ ] 73,4 %\n",
        "- [x] 10,6 %\n",
        "- [ ] 50,0 %\n",
        "- [ ] 89,4 %"
      ]
    },
    {
      "cell_type": "code",
      "execution_count": 23,
      "metadata": {
        "id": "1tGMDZkIQtzk",
        "colab": {
          "base_uri": "https://localhost:8080/"
        },
        "outputId": "a545da28-b028-4fe1-f488-92da8a606676"
      },
      "outputs": [
        {
          "output_type": "stream",
          "name": "stdout",
          "text": [
            "Probabilidade de casquinha < 90g: 89.4%\n",
            "Probabilidade de casquinha com >= 90g: 10.6%\n"
          ]
        }
      ],
      "source": [
        "# função para calcular a probabilidade a partir do Z Score\n",
        "import scipy.stats as st\n",
        "\n",
        "# Média\n",
        "mu = 80\n",
        "\n",
        "# Desvio Padrão\n",
        "sigma = 8\n",
        "\n",
        "# Calculando Z para 90g\n",
        "z = (90 - mu)/sigma\n",
        "\n",
        "# Print do Z Score e da probabilidade\n",
        "print(f'Probabilidade de casquinha < 90g: {round(st.norm.cdf(z)*100,1)}%')\n",
        "print(f'Probabilidade de casquinha com >= 90g: {round((1 - st.norm.cdf(z))*100,1)}%')"
      ]
    },
    {
      "cell_type": "markdown",
      "metadata": {
        "id": "FhxatDjsPVF1"
      },
      "source": [
        "__8.__ O tempo para fabricar um perfume em uma empresa é descrito por uma variável aleatória X, medida em horas, com distribuição normal de média mu = 7 e desvio padrão sigma = 2. Qual a probabilidade de que um perfume será finalizado entre 4 e 11 horas?\n",
        "\n",
        "- [x] 91,0 %\n",
        "- [ ] 93,4 %\n",
        "- [ ] 9,0 %\n",
        "- [ ] 97,7 %\n",
        "- [ ] 2,3 %"
      ]
    },
    {
      "cell_type": "code",
      "execution_count": 22,
      "metadata": {
        "id": "pyrqIqH_QtPR",
        "colab": {
          "base_uri": "https://localhost:8080/"
        },
        "outputId": "84814783-9c8a-4010-fed5-ba16790a7d6d"
      },
      "outputs": [
        {
          "output_type": "stream",
          "name": "stdout",
          "text": [
            "Z - Score para 4 horas  : -150.0%\n",
            "Z - Score para 11 horas : 200.0%\n",
            "Probabilidade           : 91.0%\n"
          ]
        }
      ],
      "source": [
        "# função para calcular a probabilidade a partir do Z Score\n",
        "import scipy.stats as st\n",
        "\n",
        "# Média\n",
        "mu = 7\n",
        "\n",
        "# Desvio Padrão\n",
        "sigma = 2\n",
        "\n",
        "# Calculando Z1 para 4 horas\n",
        "z1 = (4 - mu)/sigma\n",
        "\n",
        "# Calculando Z2 para 11 horas\n",
        "z2 = (11 - mu)/sigma\n",
        "\n",
        "# Print do Z Score e da probabilidade\n",
        "print(f'Z - Score para 4 horas  : {round(z1*100,1)}%')\n",
        "print(f'Z - Score para 11 horas : {round(z2*100,1)}%')\n",
        "print(f'Probabilidade           : {round((st.norm.cdf(z2) - st.norm.cdf(z1))*100,1)}%')"
      ]
    },
    {
      "cell_type": "markdown",
      "metadata": {
        "id": "Q3wyyeZbPhmA"
      },
      "source": [
        "__9.__ Dados os tipos de amostragem e as definições dos mesmos, assinale a alternativa que indique cada tipo de amostragem com a respectiva definição:\n",
        "\n",
        "Tipos de Amostragem:\n",
        "\n",
        "1 - Amostragem Aleatória Simples\n",
        "\n",
        "2 - Amostragem Estratificada\n",
        "\n",
        "3 - Amostragem por Conglomerado\n",
        "\n",
        "Definições:\n",
        "\n",
        "I - Método de amostragem onde a população é dividida em grupos (estratos) segundo algumas características conhecidas sobre a população em estudo;\n",
        "\n",
        "II - Método de amostragem que divide em subpopulações (conglomerados), onde escolhem aleatóriamente por amostragem simples as subpopulações e todos os elementos de uma subpopulação irão fazer parte da amostra;\n",
        "\n",
        "III - Método de amostragem mais simples onde serão escolhidos aleatoriamente elementos com ou sem reposição.\n",
        "\n",
        "Alternativas\n",
        "- [ ] 1-II, 2-I, 3-III\n",
        "- [ ] 1-II, 2-III, 3-I\n",
        "- [x] 1-III, 2-I, 3-II\n",
        "- [ ] 1-I, 2-II, 3-III\n",
        "- [ ] 1-III, 2-II, 3-I"
      ]
    },
    {
      "cell_type": "markdown",
      "source": [
        "## \n",
        "\n",
        "1 - Amostragem Aleatória Simples:\n",
        "\n",
        ">III - Método de amostragem mais simples onde serão escolhidos aleatoriamente elementos com ou sem reposição.\n",
        "\n",
        "2 - Amostragem Estratificada\n",
        ">I - Método de amostragem onde a população é dividida em grupos (estratos) segundo algumas características conhecidas sobre a população em estudo;\n",
        "\n",
        "3 - Amostragem por Conglomerado\n",
        ">II - Método de amostragem que divide em subpopulações (conglomerados), onde escolhem aleatóriamente por amostragem simples as subpopulações e todos os elementos de uma subpopulação irão fazer parte da amostra;\n",
        "\n",
        "---"
      ],
      "metadata": {
        "id": "6AfEJkEL9Oaa"
      }
    },
    {
      "cell_type": "markdown",
      "metadata": {
        "id": "K0JYQR31Px76"
      },
      "source": [
        "__10.__ Um fabricante de refrigerante anunciou que o índice de cafeína do seu refrigerante de cola não é maior do que 35mg por lata. Um laboratório realizou 20 análises do índice de cafeína obtendo os resultados (37, 34, 36, 37, 35, 32, 30, 35, 34, 36, 39, 38, 34, 35, 31, 30, 33, 35, 36, 31). Sabe-se que o índice de cafeína do refrigerante de cola dessa marca se distribui normalmente com variância igual a 4. Qual é, respectivamente, a conclusão do teste e o valor crítico para este teste com nível de significância de 5%? Utilize a suposição de que queremos identificar se a média de cafeína, caso não seja 35mg, seja maior que esse valor (caso unicaudal do teste). Obs.: não utilize a função ztest ou t.\n",
        "\n",
        "Alternativas\n",
        "\n",
        "- [ ] Não Rejeita H0, X_critico = 34,40 mg\n",
        "- [ ] Rejeita H0, X_critico = 34,40 mg\n",
        "- [x] Não Rejeita H0, X_critico = 35,74 mg\n",
        "- [ ] Rejeita H0, X_critico = 35,74 mg"
      ]
    },
    {
      "cell_type": "code",
      "source": [
        "# Calculo da probabilidade\n",
        "alpha = 0.05\n",
        "conf = 1-alpha\n",
        "prob = st.norm.ppf(conf)\n",
        "print(f\"Probabilidade para {conf*100}%: {prob}\")\n",
        "\n",
        "# Parametros para o teste\n",
        "mu = 35\n",
        "\n",
        "sigma = np.sqrt(4)\n",
        "\n",
        "n = 20\n",
        "\n",
        "# Calculo do valor critico\n",
        "Xc = mu + (sigma/np.sqrt(n))*prob\n",
        "print(\"Valor crítico: \", round(Xc,2), \" mg\")\n",
        "\n",
        "# Aplicando as observações\n",
        "X = [37, 34, 36, 37, 35, 32, 30, 35, 34, 36, 39, 38, 34, 35, 31, 30, 33, 35, 36, 31]\n",
        "\n",
        "Xobs = np.mean(X)\n",
        "\n",
        "print(\"Valor médio observado: \", round(Xobs,2), \" mg\")\n",
        "\n",
        "# verificando o teste\n",
        "print(\"Teste de Hipótese: \")\n",
        "# H0: mu>35\n",
        "if(Xobs < Xc):\n",
        "    print(\"Aceitamos H0\")\n",
        "else:\n",
        "    print(\"Rejeitamos H0\")"
      ],
      "metadata": {
        "colab": {
          "base_uri": "https://localhost:8080/"
        },
        "id": "9_RK95mZLhNb",
        "outputId": "9e7d33cd-8ccc-4ce3-835f-6d613924bbf1"
      },
      "execution_count": 33,
      "outputs": [
        {
          "output_type": "stream",
          "name": "stdout",
          "text": [
            "Probabilidade para 95.0%: 1.6448536269514722\n",
            "Valor crítico:  35.74  mg\n",
            "Valor médio observado:  34.4  mg\n",
            "Teste de Hipótese: \n",
            "Aceitamos H0\n"
          ]
        }
      ]
    },
    {
      "cell_type": "markdown",
      "metadata": {
        "id": "ypAYw7waP9Q8"
      },
      "source": [
        "__11.__ Para que uma série temporal seja considerada estacionária ou parcialmente estacionária, qual das alternativas abaixo deve ser verdadeira?\n",
        "\n",
        "Alternativas\n",
        "- [x] Média e Variância constante\n",
        "- [ ] Nenhuma das anteriores\n",
        "- [ ] Média constante\n",
        "- [ ] Variância constante"
      ]
    },
    {
      "cell_type": "markdown",
      "source": [
        "## \n",
        "\n",
        "A diferença entre uma série temporal **estacionária** e **não estacionária** é que para as séries estacionárias, o valor de **média** e **variância** da série é **constante** ao longo do tempo, diferente do caso das 'series não estacionárias.\n",
        "\n",
        "---"
      ],
      "metadata": {
        "id": "trh6Rwx7-VtG"
      }
    },
    {
      "cell_type": "markdown",
      "metadata": {
        "id": "oasAM1B3QGUl"
      },
      "source": [
        "__12.__ Escolha nas alternativas abaixo, qual é a componente de uma série temporal identificada como qualquer alteração irregular e inexplicável?\n",
        "\n",
        "Alternativas\n",
        "- [ ] Ciclos\n",
        "- [ ] Sazonalidade\n",
        "- [ ] Tendência\n",
        "- [x] Ruído Aleatório"
      ]
    },
    {
      "cell_type": "markdown",
      "source": [
        "## \n",
        "\n",
        "- **Ruído Aleatório**: ou erro no período **t** são variações irregulares ou flutuações inexplicáveis, resultado de fatos fortuitos e inesperados.\n",
        "\n",
        "---"
      ],
      "metadata": {
        "id": "rKdTj0Gu-4Kl"
      }
    },
    {
      "cell_type": "code",
      "execution_count": null,
      "metadata": {
        "id": "ydpiN0npNUln"
      },
      "outputs": [],
      "source": []
    }
  ],
  "metadata": {
    "colab": {
      "provenance": [],
      "include_colab_link": true
    },
    "kernelspec": {
      "display_name": "Python 3",
      "name": "python3"
    },
    "language_info": {
      "codemirror_mode": {
        "name": "ipython",
        "version": 3
      },
      "file_extension": ".py",
      "mimetype": "text/x-python",
      "name": "python",
      "nbconvert_exporter": "python",
      "pygments_lexer": "ipython3",
      "version": "3.8.8"
    }
  },
  "nbformat": 4,
  "nbformat_minor": 0
}