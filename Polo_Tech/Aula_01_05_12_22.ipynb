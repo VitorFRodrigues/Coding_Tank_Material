{
  "cells": [
    {
      "cell_type": "markdown",
      "metadata": {
        "id": "view-in-github",
        "colab_type": "text"
      },
      "source": [
        "<a href=\"https://colab.research.google.com/github/VitorFRodrigues/Polo_Tech_Americanas/blob/main/Polo_Tech/Aula_01_05_12_22.ipynb\" target=\"_parent\"><img src=\"https://colab.research.google.com/assets/colab-badge.svg\" alt=\"Open In Colab\"/></a>"
      ]
    },
    {
      "cell_type": "markdown",
      "metadata": {
        "id": "gYl1li2uYOFK"
      },
      "source": [
        "# Aula 01 - Variáveis, Input e Outputs, Operações Aritméticas\n",
        "\n",
        "Nesta aula, serão discutidos os seguintes tópicos:\n",
        "- Variáveis;\n",
        "- Tipos de Variáveis;\n",
        "- Entradas e Saídas;\n",
        "- Conversão de Dados ou Coerção de Tipo;\n",
        "- Operações Aritméticas."
      ]
    },
    {
      "cell_type": "markdown",
      "metadata": {
        "id": "QrHO2VhJYOFV"
      },
      "source": [
        "## "
      ]
    },
    {
      "cell_type": "markdown",
      "metadata": {
        "id": "LZUB97aqYOFW"
      },
      "source": [
        "## 1. Variáveis\n",
        "\n",
        "<br>\n",
        "\n",
        "As __variáveis__ são objetos muito comum na programação onde pode-se armazenar um dado qualquer, ou seja, algum tipo de informação útil. Este tipo de informação é armazenada temporariamente na __memória do computador__ durante a execução do código, pois se fechar o programa ou mesmo desligar/reiniciar o computador, esta informação acaba se perdendo.\n",
        "\n",
        "A definição de uma variável é dada sempre atribuindo um __nome__ ao valor que será armazenado:\n",
        "\n",
        "<br>\n",
        "\n",
        "```python\n",
        "media = 6\n",
        "```\n",
        "<br>"
      ]
    },
    {
      "cell_type": "code",
      "execution_count": null,
      "metadata": {
        "id": "9C2_7SvD4a5v"
      },
      "outputs": [],
      "source": [
        "media = 6"
      ]
    },
    {
      "cell_type": "markdown",
      "metadata": {
        "id": "SRW6BG6-YOFZ"
      },
      "source": [
        "No exemplo acima, criou uma variável chamada de __media__ onde foi atribuido e armazenado o valor 6 a variável.\n",
        "\n",
        "<br>\n",
        "\n",
        "Importante ressaltar que para definir os nomes das variáveis é permitido utilizar de letras (MAIUSCÚLAS e minuscúlas), número e o simbolo _underscore_ ( _ ), mas não podem começar por números.\n",
        "\n",
        "Não existem regras para a nomeação de variáveis, mas algumas convenções costumam ser utilizadas como por exemplo o __camel case__ e o __snake case__:\n",
        "\n",
        "<br>\n",
        "\n",
        "```python\n",
        "# Variáveis em Camel Case\n",
        "mediaDaProva\n",
        "numeroAlunos\n",
        "qntdeTransacoes\n",
        "\n",
        "# Variáveis em Snake Case\n",
        "media_da_prova\n",
        "numero_alunos\n",
        "qntde_transacoes\n",
        "```\n"
      ]
    },
    {
      "cell_type": "markdown",
      "metadata": {
        "id": "azN1iw1IYOFa"
      },
      "source": [
        "## "
      ]
    },
    {
      "cell_type": "markdown",
      "metadata": {
        "id": "n529v0Sy46Zr"
      },
      "source": [
        "## 2. Tipos de Variáveis\n",
        "\n",
        "Os tipos das variáveis está relacionado a qual informmação ela irá armazenar e o quanto de memória será utilizada. Os principais tipos de variáveis utilizadas em _Python_ são as descritas a seguir:\n",
        "\n",
        "<br>\n",
        "\n",
        "* **int**: números inteiros, ou seja, números sem parte decimal: 1, 2, 3, -50, -100, 100000\n",
        "* **float**: números reais, ou seja, números com parte decimal: 3.14, -1., 2.52\n",
        "* **str**: cadeias de caracteres (_strings_), ou seja, dados textuais: \"Hello World\", \"Esse é o meu primeiro programa em Python\"\n",
        "* **bool**: valores lógicos (booleanos), ou seja, apenas um entre dois valores possíveis: True ou False\n",
        "\n",
        "<br>"
      ]
    },
    {
      "cell_type": "code",
      "execution_count": null,
      "metadata": {
        "colab": {
          "base_uri": "https://localhost:8080/"
        },
        "id": "2tur4j0cYOFd",
        "outputId": "bd3914f7-f461-472b-c146-540ced50cfe2"
      },
      "outputs": [
        {
          "output_type": "stream",
          "name": "stdout",
          "text": [
            "hoje \\n é necessário\n"
          ]
        }
      ],
      "source": [
        "print(\"hoje \\\\n é necessário\")"
      ]
    },
    {
      "cell_type": "code",
      "execution_count": null,
      "metadata": {
        "id": "ccYrjqStYOFg"
      },
      "outputs": [],
      "source": [
        "idade = 30\n"
      ]
    },
    {
      "cell_type": "code",
      "execution_count": null,
      "metadata": {
        "id": "M-7p10qSYOFh"
      },
      "outputs": [],
      "source": []
    },
    {
      "cell_type": "code",
      "execution_count": null,
      "metadata": {
        "id": "yzCOrqL8YOFi"
      },
      "outputs": [],
      "source": []
    },
    {
      "cell_type": "markdown",
      "metadata": {
        "id": "nDkAm7VvYOFj"
      },
      "source": [
        "## "
      ]
    },
    {
      "cell_type": "markdown",
      "metadata": {
        "id": "XrMoRqDH5Ya2"
      },
      "source": [
        "## 3. Entradas e Saídas\n",
        "\n",
        "As entradas são o tipo de informações que são fornecidas pelo usuário e armazenada no código. Para que o solicite e armazene a informação de entrada, utiliza-se a função __input__:\n",
        "\n",
        "<br>\n",
        "\n",
        "```python\n",
        "\n",
        "nome = input('Escreva o seu primeiro nome: ')\n",
        "\n",
        "```\n",
        "\n",
        "<br>"
      ]
    },
    {
      "cell_type": "code",
      "execution_count": null,
      "metadata": {
        "id": "y8psVGAgYOFl"
      },
      "outputs": [],
      "source": []
    },
    {
      "cell_type": "code",
      "execution_count": null,
      "metadata": {
        "id": "fNTHweucYOFl"
      },
      "outputs": [],
      "source": []
    },
    {
      "cell_type": "markdown",
      "metadata": {
        "id": "z6xM90fpYOFm"
      },
      "source": [
        "Já no caso das __saídas__ do nosso programa, as informações geradas e processadas pelo código podem ser fornecidas ao usuário também. A função em _Python_ utilizada para isso é o __print__:\n",
        "\n",
        "<br>\n",
        "\n",
        "```python\n",
        "nome = input('Escreva o seu primeiro nome: ')\n",
        "print('O seu primeiro nome é ', nome)\n",
        "```\n",
        "\n",
        "<br>"
      ]
    },
    {
      "cell_type": "code",
      "execution_count": null,
      "metadata": {
        "id": "QukrgBBoYOFn"
      },
      "outputs": [],
      "source": []
    },
    {
      "cell_type": "markdown",
      "metadata": {
        "id": "xr64mWgCYOFn"
      },
      "source": [
        "Outros exemplos do retorno dos dados pelo código: "
      ]
    },
    {
      "cell_type": "code",
      "execution_count": null,
      "metadata": {
        "id": "nC52yTyGYOFo"
      },
      "outputs": [],
      "source": []
    },
    {
      "cell_type": "markdown",
      "metadata": {
        "id": "AdSEiPm-YOFp"
      },
      "source": [
        "No caso da função __print__ existem algumas variações de como pode-se utilizar:\n",
        "\n",
        "<br>\n",
        "\n",
        "```python\n",
        "# Utilizando a variável no final do preenchimento\n",
        "print(\"Seu nome é \", nome)\n",
        "\n",
        "# Inserção no meio de uma frase ou string\n",
        "print(\"Seu nome é \", nome, \" e você têm \", idade, \" anos\")\n",
        "\n",
        "# Inserção no meio de uma frase ou string utilizando a f-string\n",
        "print(f'Seu nome é {nome} e você tem {idade} anos')\n",
        "```\n",
        "    \n",
        "<br>"
      ]
    },
    {
      "cell_type": "code",
      "execution_count": null,
      "metadata": {
        "id": "ygNAYFGlYOFq"
      },
      "outputs": [],
      "source": []
    },
    {
      "cell_type": "markdown",
      "metadata": {
        "id": "0YL3ebb05-F5"
      },
      "source": [
        "Note que os dados aparecem com um espaçamento autom´tico, além de ao utilizar dois _prints_ seguidos ocorre uma quebra de linha entre eles.Pode passar alguns parâmetros para a função _print_ como o **sep** e **end** que ajudam a ajustar a forma de saída de um determinado _print_, conforme o exemplo a seguir:"
      ]
    },
    {
      "cell_type": "code",
      "execution_count": null,
      "metadata": {
        "id": "RaxN-o8y6AEx"
      },
      "outputs": [],
      "source": []
    },
    {
      "cell_type": "code",
      "execution_count": null,
      "metadata": {
        "id": "AXxN_W2RYOFs"
      },
      "outputs": [],
      "source": []
    },
    {
      "cell_type": "markdown",
      "metadata": {
        "id": "Q50GtI7CYOFs"
      },
      "source": [
        "## "
      ]
    },
    {
      "cell_type": "markdown",
      "metadata": {
        "id": "dMJAxUrH6Oft"
      },
      "source": [
        "## 4. Conversão de Dados ou Coerção de Tipo\n",
        "\n",
        "Ao trabalhar com valores de entrada dados pelo usuário é importante observar a adequação do tipo de variável a utilidade proposta. Por exemplo, monte um programa onde será dado o dia de hoje e ele calcula quantos dias faltam para a véspera de Natal:"
      ]
    },
    {
      "cell_type": "code",
      "execution_count": null,
      "metadata": {
        "id": "F473vtvKYOFs"
      },
      "outputs": [],
      "source": []
    },
    {
      "cell_type": "markdown",
      "metadata": {
        "id": "uWiiJJltYOFs"
      },
      "source": [
        "Todo o tipo de informação fornecida pelo usuário é entendida pelo código na forma de texto, ou seja, _strings_. Dessa forma, para evitar erros de inadequação da variável é necessário especificar para qual tipo de variável será transforada a entrada:"
      ]
    },
    {
      "cell_type": "code",
      "execution_count": null,
      "metadata": {
        "id": "tN_s_OTUYOFt"
      },
      "outputs": [],
      "source": []
    },
    {
      "cell_type": "markdown",
      "metadata": {
        "id": "fc_3akHlYOFt"
      },
      "source": [
        "Este processo de especificar o tipo de variável é chamado de __coerção de tipo__ ou conversão de dados. Este é um tópico importante pois, ao programar utilizando informações oferecidas pelo usuário, é necessário garantir que os dados que foram fornecidos sejam adequados, pois no exemplo acima pode-se digitar qualquer outra tipo de informação:"
      ]
    },
    {
      "cell_type": "code",
      "execution_count": null,
      "metadata": {
        "id": "DwsZ3HnWYOFt"
      },
      "outputs": [],
      "source": []
    },
    {
      "cell_type": "markdown",
      "metadata": {
        "id": "-S9QtRfjYOFt"
      },
      "source": [
        "Por enquanto, ainda não temos ferramenta e nem vamos nos preocupar com isso neste momento, mas é importante deixar em mente que o usuário pode ser imprevisível.\n",
        "\n",
        "Outro ponto na coerção de dados é quando converte-se dados númericos para diferentes formatos:"
      ]
    },
    {
      "cell_type": "code",
      "execution_count": null,
      "metadata": {
        "id": "AfQn_Ec1YOFu"
      },
      "outputs": [],
      "source": []
    },
    {
      "cell_type": "markdown",
      "metadata": {
        "id": "qRu7K1usYOFv"
      },
      "source": [
        "No caso da conversão de tipos numéricos de _float_ para _int_, note-se que não há arredondamento, na verdade a parte decimal é ignorada e removida na conversão. Então deve-se tomar bastante cuidado ao utilizar estes tipos de conversões."
      ]
    },
    {
      "cell_type": "markdown",
      "metadata": {
        "id": "3OXix0JiYOFv"
      },
      "source": [
        "## "
      ]
    },
    {
      "cell_type": "markdown",
      "metadata": {
        "id": "hrzwoNpN6xtA"
      },
      "source": [
        "## 5. Operações Aritméticas\n",
        "\n",
        "A programação em _Python_ funciona de maneira bem intuitiva, onde consegue-se realizar operações aritméticas de forma bem simples e direta. As operações que são suportadas pelo _Python_ e o seu respectivo símbolo estão destacadas a seguir:\n",
        "\n",
        "* __Soma__: +\n",
        "* __Subtração__: -\n",
        "* __Multiplicação__: *\n",
        "* __Divisão__: /\n",
        "* __Divisão inteira__: //\n",
        "* __Resto da divisão__: %\n",
        "* __Potência__: **"
      ]
    },
    {
      "cell_type": "code",
      "execution_count": null,
      "metadata": {
        "colab": {
          "base_uri": "https://localhost:8080/"
        },
        "id": "cYLe1KW0YOFy",
        "outputId": "7f59142e-131d-4da1-abcd-a2f297c29703"
      },
      "outputs": [
        {
          "output_type": "stream",
          "name": "stdout",
          "text": [
            "\n",
            "adad\n",
            "adad\n",
            "\n"
          ]
        }
      ],
      "source": [
        "print('''\n",
        "adad\n",
        "adad\n",
        "''')"
      ]
    },
    {
      "cell_type": "code",
      "execution_count": null,
      "metadata": {
        "id": "StSrNO_nYOFz"
      },
      "outputs": [],
      "source": []
    },
    {
      "cell_type": "code",
      "execution_count": null,
      "metadata": {
        "id": "iTCBhMZ26-zI",
        "scrolled": true
      },
      "outputs": [],
      "source": []
    },
    {
      "cell_type": "markdown",
      "metadata": {
        "id": "e1mBH-dxYOFz"
      },
      "source": [
        "## "
      ]
    },
    {
      "cell_type": "markdown",
      "metadata": {
        "id": "fvI4BCOy7Mes"
      },
      "source": [
        "### Revisão sobre operadores de Divisão\n",
        "\n",
        "Note que temos 3 operadores de divisão. O que seria cada um deles? Vamos supor que numero1 seja 15 e numero2 seja 6.\n",
        "```\n",
        "15 |__ 6\n",
        "```\n",
        "Quantas vezes o número 6 cabe dentro do 15? Um bom primeiro \"chute\" é 2:\n",
        "```\n",
        " 15 |__ 6\n",
        "     2\n",
        "```\n",
        "Podemos multiplicar 6 por 2, que dará 12. E então subtraímos esse valor de 15:\n",
        "\n",
        "```\n",
        " 15 |__ 6\n",
        "-12     2\n",
        "---\n",
        " 03\n",
        " ```\n",
        "\n",
        "Note que, considerando apenas números inteiros, não conseguimos mais prosseguir com a divisão. Neste caso, a **divisão inteira** (`numero1 // numero2`) dará 2. Já o **resto da divisão** (`numero1 % numero2`) dará 3.\n",
        "\n",
        "Porém, considerando casas decimais é possível prosseguir com a divisão:\n",
        "\n",
        "```\n",
        "15 |__ 6 \n",
        "-12     2.5\n",
        "---\n",
        " 03\n",
        "  30\n",
        "- 30\n",
        "----\n",
        "   0\n",
        "```\n",
        "\n",
        "Portanto, a **divisão real** (`numero1 / numero2`) dará 2.5.\n",
        "\n",
        "> **Atenção**: números reais em Python usam ponto para separar as casas decimais, não vírgula:\n",
        "> \n",
        "> * **Errado**: 2,5\n",
        "> * **Correto**: 2.5"
      ]
    },
    {
      "cell_type": "markdown",
      "metadata": {
        "id": "h108o17vYOF0"
      },
      "source": [
        "## "
      ]
    },
    {
      "cell_type": "markdown",
      "metadata": {
        "id": "SvaTQP5ZYOF0"
      },
      "source": [
        "## Lista de Exercícios\n",
        "\n",
        "Os exercícios a seguir devem ser desenvolvidos e entregue as soluções através do Class. Utilize apenas o conteúdo visto em aula para resolver os exercícios!"
      ]
    },
    {
      "cell_type": "markdown",
      "metadata": {
        "id": "d2_3VQwbYOF1"
      },
      "source": [
        "__1)__ Crie um código que receba o __nome do aluno__, o ano de nascimento, o dia de hoje e a cidade onde mora. E o programa deve retornar o nome, a __idade__ em 2022, quantos dias faltam para o Natal (25), quantos dias que faltam para a véspera de ano novo (31) e a cidade."
      ]
    },
    {
      "cell_type": "code",
      "execution_count": null,
      "metadata": {
        "colab": {
          "base_uri": "https://localhost:8080/"
        },
        "id": "bQ8WUEkpYOF1",
        "outputId": "3ca05505-bb4b-4fd1-88f5-8814038f572c"
      },
      "outputs": [
        {
          "output_type": "stream",
          "name": "stdout",
          "text": [
            "Digite o seu nome: Vitor\n",
            "Digite ano de seu nascimento: 1993\n",
            "Digite o dia de hoje: 5\n",
            "Digite a cidade em que moras: Recife\n",
            "\n",
            "Olá Vitor! \n",
            "Você tem 29 anos. \n",
            "Faltam 20 dias para o natal. \n",
            "Faltam 26 dias para a véspera de ano novo. \n",
            "Você mora em Recife. \n",
            "Até mais!\n"
          ]
        }
      ],
      "source": [
        "nome = input('Digite o seu nome: ')\n",
        "ano = int(input('Digite ano de seu nascimento: '))\n",
        "dia = int(input('Digite o dia de hoje: '))\n",
        "cidade = input('Digite a cidade em que moras: ')\n",
        "\n",
        "idade = 2022 - ano\n",
        "dias_para_natal = 25 - dia\n",
        "dias_para_ano_novo = 31 - dia\n",
        "\n",
        "print(f'\\nOlá {nome}! \\nVocê tem {idade} anos. \\nFaltam {dias_para_natal} dias para o natal. \\nFaltam {dias_para_ano_novo} dias para a véspera de ano novo. \\nVocê mora em {cidade}. \\nAté mais!')"
      ]
    },
    {
      "cell_type": "markdown",
      "metadata": {
        "id": "8rQJ-oWBYOF1"
      },
      "source": [
        "__2)__ Crie um código onde irá receber do usuário a nota de 5 provas realizadas (as notas variam entre 0 e 10 podendo ser um número decimal) e retorne o valor da média nas provas."
      ]
    },
    {
      "cell_type": "code",
      "execution_count": null,
      "metadata": {
        "colab": {
          "base_uri": "https://localhost:8080/"
        },
        "id": "yuMfwP3ZYOF1",
        "outputId": "9c3a674b-3573-4aa0-9e14-36d711232d7b"
      },
      "outputs": [
        {
          "output_type": "stream",
          "name": "stdout",
          "text": [
            "Digite 5 notas variando de 0 a 10\n",
            "Digite nota 1: 10\n",
            "Digite nota 2: 9\n",
            "Digite nota 3: 8\n",
            "Digite nota 4: 7\n",
            "Digite nota 5: 6\n",
            "A média das notas é: 8.00\n"
          ]
        }
      ],
      "source": [
        "print('Digite 5 notas variando de 0 a 10')\n",
        "\n",
        "nota_1 = float(input('Digite nota 1: '))\n",
        "nota_2 = float(input('Digite nota 2: '))\n",
        "nota_3 = float(input('Digite nota 3: '))\n",
        "nota_4 = float(input('Digite nota 4: '))\n",
        "nota_5 = float(input('Digite nota 5: '))\n",
        "\n",
        "media = (nota_1 + nota_2 + nota_3 + nota_4 + nota_5) / 5\n",
        "\n",
        "print(f'A média das notas é: {media}')"
      ]
    },
    {
      "cell_type": "markdown",
      "metadata": {
        "id": "VZUBIGWDYOF2"
      },
      "source": [
        "__3)__ A __média ponderada__ funciona de forma parecida a média aritmética, as levando em consideração o peso de cada número utilizado no cálculo. O objetivo do exercício será montar um código para o cálculo da média ponderada conforme a equação abaixo:\n",
        "\n",
        "<br>\n",
        "\n",
        "$$ \\bar{x} = \\frac{w1*P + w2*L + w3*T}{w1 + w2 + w3}$$\n",
        "\n",
        "<br>\n",
        "\n",
        "Onde $P$ é a média de 3 provas, L é a nota em relção a entrega das Listas de exercicios (onde cada lista entregue conta como 1 ponto sendo um total de 10 listas) e T é a nota do Trabalho, onde w1, w2 e w3 são os respectivos pesos. Você deve desenvolver um código onde irá receber as notas das 3 provas (e calcular a média), irá receber quantas listas o aluno entegou entre as 10 totais e receber a nota do Trabalho. Por fim para os pesos $w1 = 0.4$, $w2 = 0.1$ e $w3 = 0.5$, devolva o valor da média ponderada do aluno."
      ]
    },
    {
      "cell_type": "code",
      "execution_count": null,
      "metadata": {
        "colab": {
          "base_uri": "https://localhost:8080/"
        },
        "id": "fEz_pjgVYOF2",
        "outputId": "26621db1-d189-42a5-c21f-5192ce99087c"
      },
      "outputs": [
        {
          "output_type": "stream",
          "name": "stdout",
          "text": [
            "Media Ponderada\n",
            "Digite nota da prova 1: 10\n",
            "Digite nota da prova 2: 9\n",
            "Digite nota da prova 3: 8\n",
            "Digite quantas listas foram entregues: 5\n",
            "Digite a nota do trabalho: 7\n",
            "A média ponderada corresponderá a: 7.6\n"
          ]
        }
      ],
      "source": [
        "print('Media Ponderada')\n",
        "P1 = float(input('Digite nota da prova 1: '))\n",
        "P2 = float(input('Digite nota da prova 2: '))\n",
        "P3 = float(input('Digite nota da prova 3: '))\n",
        "\n",
        "media_P = (P1 + P2 + P3) / 3\n",
        "\n",
        "L = int(input('Digite quantas listas foram entregues: '))\n",
        "\n",
        "T = float(input('Digite a nota do trabalho: '))\n",
        "\n",
        "w1 = 0.4\n",
        "w2 = 0.1\n",
        "w3 = 0.5\n",
        "\n",
        "med_pond = (w1 * media_P + w2 * L + w3 * T) / (w1 + w2 + w3)\n",
        "\n",
        "print(f'A média ponderada corresponderá a: {med_pond}')"
      ]
    },
    {
      "cell_type": "markdown",
      "metadata": {
        "id": "XRkKZY58YOF2"
      },
      "source": [
        "__4)__ A distância euclideana entre dois pontos é dada pela seguinte equação:\n",
        "\n",
        "<br>\n",
        "\n",
        "$$ d = \\sqrt{(x_1 - x_2)^2 + (y_1 - y_2)^2} $$\n",
        "\n",
        "<br>\n",
        "\n",
        "Monte um código onde irá receber os valores de $x_1$, $y_1$, $x_2$ e $y_2$ em metros (podendo ser valores decimais) e retorne o valor da distância euclidiana em metros também."
      ]
    },
    {
      "cell_type": "code",
      "execution_count": null,
      "metadata": {
        "colab": {
          "base_uri": "https://localhost:8080/"
        },
        "id": "JfIEzE1dYOF2",
        "outputId": "474cd703-39e4-4fb6-b2ca-87c9479f84be"
      },
      "outputs": [
        {
          "output_type": "stream",
          "name": "stdout",
          "text": [
            "Distância Euclidiana\n",
            "Digite a coordenada x1: 5\n",
            "Digite a coordenada y1: 7\n",
            "Digite a coordenada x2: 2\n",
            "Digite a coordenada y2: 8\n",
            "A distância euclidiana entre dois pontos é igual a 3.1622776601683795\n"
          ]
        }
      ],
      "source": [
        "print('Distância Euclidiana')\n",
        "x1 = float(input('Digite a coordenada x1: '))\n",
        "y1 = float(input('Digite a coordenada y1: '))\n",
        "x2 = float(input('Digite a coordenada x2: '))\n",
        "y2 = float(input('Digite a coordenada y2: '))\n",
        "\n",
        "d = ((x1 - x2)**2 + (y1 - y2)**2) ** 0.5\n",
        "\n",
        "print(f'A distância euclidiana entre dois pontos é igual a {d}')"
      ]
    },
    {
      "cell_type": "markdown",
      "metadata": {
        "id": "PPhWHBRKYOF2"
      },
      "source": [
        "__5)__ O desvio padrão é uma métrica de dispersão onde avalia o espalhamento dos dados em uma determinada distribuição. A equação para o cálculo do desvio padrão é dada por:\n",
        "\n",
        "<br>\n",
        "\n",
        "$$ \\sigma = \\sqrt{\\frac{\\Sigma_{i = 1}^n{(x_i - \\bar{x})^2}}{n - 1}}$$\n",
        "\n",
        "<br>\n",
        "\n",
        "Monte um código que receba 10 valores inteiros que variem entre 1 e 10, e retorne os valores da média e desvio padrão destes 10 valores. Para auxiliar no desenvolvimento, siga os passos a seguir:\n",
        "- Receba os 10 números inteiros;\n",
        "- Calcular a média dos múmeros;\n",
        "- Calcule as diferenças em relação a média ao quadrado;\n",
        "- Cacule a soma das diferenças;\n",
        "- Calcule o desvio padrão."
      ]
    },
    {
      "cell_type": "code",
      "execution_count": null,
      "metadata": {
        "colab": {
          "base_uri": "https://localhost:8080/"
        },
        "id": "dJost72AYOF3",
        "outputId": "66db6a8d-6b62-4e35-fbe5-6f48c98ed052"
      },
      "outputs": [
        {
          "output_type": "stream",
          "name": "stdout",
          "text": [
            "Desvio padrão. Digite 10 valores inteiros de 1 a 10:\n",
            "valor 1: 1\n",
            "valor 2: 4\n",
            "valor 3: 6\n",
            "valor 4: 8\n",
            "valor 5: 10\n",
            "valor 6: 12\n",
            "valor 7: 14\n",
            "valor 8: 16\n",
            "valor 9: 18\n",
            "valor 10: 20\n",
            "\n",
            "\n",
            "Média: 10.9\n",
            "Somatório das diferenças em relação a média ao quadrado: 348.9\n",
            "Desvio padrão: 6.226288353960702\n"
          ]
        }
      ],
      "source": [
        "print('Desvio padrão. Digite 10 valores inteiros de 1 a 10:')\n",
        "v1 = int(input('valor 1: '))\n",
        "v2 = int(input('valor 2: '))\n",
        "v3 = int(input('valor 3: '))\n",
        "v4 = int(input('valor 4: '))\n",
        "v5 = int(input('valor 5: '))\n",
        "v6 = int(input('valor 6: '))\n",
        "v7 = int(input('valor 7: '))\n",
        "v8 = int(input('valor 8: '))\n",
        "v9 = int(input('valor 9: '))\n",
        "v10 = int(input('valor 10: '))\n",
        "\n",
        "media = (v1 + v2 + v3 + v4 + v5 + v6 + v7 + v8 + v9 + v10) / 10\n",
        "\n",
        "somatorio = (v1 - media) ** 2 + (v2 - media) ** 2 + (v3 - media) ** 2 + (v4 - media) ** 2 + (v5 - media) ** 2 + (v6 - media) ** 2 + (v7 - media) ** 2 + (v8 - media) ** 2 + (v9 - media) ** 2 + (v10 - media) ** 2\n",
        "\n",
        "desv_padrao = (somatorio / (10-1))**0.5\n",
        "\n",
        "print('\\n')\n",
        "print(f'Média: {media}')\n",
        "print(f'Somatório das diferenças em relação a média ao quadrado: {somatorio}')\n",
        "print(f'Desvio padrão: {desv_padrao}')"
      ]
    },
    {
      "cell_type": "markdown",
      "metadata": {
        "id": "_bUQ-uW7YOF3"
      },
      "source": [
        "## "
      ]
    }
  ],
  "metadata": {
    "colab": {
      "provenance": [],
      "include_colab_link": true
    },
    "kernelspec": {
      "display_name": "Python 3 (ipykernel)",
      "language": "python",
      "name": "python3"
    },
    "language_info": {
      "codemirror_mode": {
        "name": "ipython",
        "version": 3
      },
      "file_extension": ".py",
      "mimetype": "text/x-python",
      "name": "python",
      "nbconvert_exporter": "python",
      "pygments_lexer": "ipython3",
      "version": "3.9.12"
    },
    "vscode": {
      "interpreter": {
        "hash": "ad2bdc8ecc057115af97d19610ffacc2b4e99fae6737bb82f5d7fb13d2f2c186"
      }
    }
  },
  "nbformat": 4,
  "nbformat_minor": 0
}