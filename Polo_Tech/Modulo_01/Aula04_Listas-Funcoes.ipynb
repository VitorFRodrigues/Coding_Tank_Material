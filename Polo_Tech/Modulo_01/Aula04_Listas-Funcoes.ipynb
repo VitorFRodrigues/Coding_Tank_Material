{
  "cells": [
    {
      "cell_type": "markdown",
      "metadata": {
        "id": "10Zmdj048yhW"
      },
      "source": [
        "## Aula 04 - Listas\n",
        "\n",
        "Nesta aula, serão discutidos os seguintes tópicos:\n",
        "- Listas;\n",
        "- Slicing;\n",
        "- Loop em listas;\n",
        "- Operador in;\n",
        "- Funções para Listas;\n",
        "- Funções;"
      ]
    },
    {
      "cell_type": "markdown",
      "metadata": {
        "id": "T8jBDHjIsiwu"
      },
      "source": [
        "## 1. Listas\n",
        "\n",
        "Note que ao longo das aulas anteriores, sempre que precisavamos de dados, era solicitado ao usuário esses tipos de informações. Por exemplo, mas criar um programa para calcular a média de prova de um aluno:"
      ]
    },
    {
      "cell_type": "code",
      "execution_count": null,
      "metadata": {
        "colab": {
          "base_uri": "https://localhost:8080/"
        },
        "id": "TswGogQw8yhl",
        "outputId": "f8385228-d471-482a-851d-0326d426767a"
      },
      "outputs": [
        {
          "output_type": "stream",
          "name": "stdout",
          "text": [
            "Digite a nota de sua prova: 8\n",
            "Digite a nota da outra prova: 7\n",
            "A sua média é: 7.5\n"
          ]
        }
      ],
      "source": [
        "# Digitar as notas\n",
        "nota1 = float(input('Digite a nota de sua prova: '))\n",
        "nota2 = float(input('Digite a nota da outra prova: '))\n",
        "\n",
        "# Calcula a media\n",
        "media = (nota1 + nota2) / 2\n",
        "\n",
        "print(f'A sua média é: {media}')"
      ]
    },
    {
      "cell_type": "markdown",
      "metadata": {
        "id": "JvUwQy5usm6F"
      },
      "source": [
        "Sempre pareceu muito simples certo? Agora imagine para um professor que da aula em 3 turnos numa escola e precisa calcular rapidamente a média de 80 alunos. Começa a ser inviável a utilização de `inputs` para este serviço.\n",
        "\n",
        "Neste ponto, que será introduzido as __listas__.\n",
        "\n",
        "A lista é uma coleção de objetos do _Python_, trazendo de maneira bem simplificada, ~soa variáveis que comportam diversos valores ao mesmo tempo.\n",
        "\n",
        "Abaixo temos algumas formas de criar listas em _Python_:"
      ]
    },
    {
      "cell_type": "code",
      "execution_count": null,
      "metadata": {
        "id": "6PxSPIOe8yho"
      },
      "outputs": [],
      "source": [
        "# Duas formas de criar Listas vazias\n",
        "lista1 = []\n",
        "\n",
        "lista2 = list()"
      ]
    },
    {
      "cell_type": "code",
      "execution_count": null,
      "metadata": {
        "colab": {
          "base_uri": "https://localhost:8080/"
        },
        "id": "-_1-ggWD8yho",
        "outputId": "e2085984-037e-4907-a15d-d352cb88e1a2"
      },
      "outputs": [
        {
          "output_type": "execute_result",
          "data": {
            "text/plain": [
              "[1, 'Sandro', 6.5, 80, 'Data Science']"
            ]
          },
          "metadata": {},
          "execution_count": 4
        }
      ],
      "source": [
        "# Criar lista com elementos diferentes\n",
        "lista3 = [1, 'Sandro', 6.5, 80, 'Data Science']\n",
        "lista3"
      ]
    },
    {
      "cell_type": "code",
      "execution_count": null,
      "metadata": {
        "colab": {
          "base_uri": "https://localhost:8080/"
        },
        "id": "bTGIVKhY8yhp",
        "outputId": "e97a7152-1911-4da7-f66e-b9ce3a3ec7fd"
      },
      "outputs": [
        {
          "output_type": "stream",
          "name": "stdout",
          "text": [
            "[1, 'Sandro', 6.5, 80, 'Data Science']\n"
          ]
        }
      ],
      "source": [
        "print(lista3)"
      ]
    },
    {
      "cell_type": "markdown",
      "metadata": {
        "id": "4_ZBA8Jl8yhq"
      },
      "source": [
        "Note que as listas, suportam diferentes tipos de objetos ao mesmo tempo, como no exemplo acima temos que a lista contenha 2 __inteiros__, 1 __float__ e 2 __strings__."
      ]
    },
    {
      "cell_type": "markdown",
      "metadata": {
        "id": "VQEek59Ds5YY"
      },
      "source": [
        "Uma característica bem importante das listas é sua __indexação__, onde pode-se acessar cada elemento individualmente devido a posição deste elemento estar associada a um __índice__, lembrando que em _Python_, índices começam sempre na posição zero. Vamos retomar ao exemplo anterior na tabela abaixo:\n",
        "\n",
        "<br>\n",
        "\n",
        "|  Lista | 1 | 'Sandro' | 8.5 | 70 | 'Data Science' |\n",
        "|:------:|:-:|:--------:|:---:|:--:|:--------------:|\n",
        "| Índice | 0 |     1    |  2  |  3 |        4       |\n",
        "\n",
        "<br>\n",
        "\n",
        "Portanto, para acessar cada um dos elementos basta utilizar os índices associados:"
      ]
    },
    {
      "cell_type": "code",
      "execution_count": null,
      "metadata": {
        "colab": {
          "base_uri": "https://localhost:8080/"
        },
        "id": "fvYQ7rfW8yhu",
        "outputId": "b3d1b53d-5e80-48b0-b37d-59a8680d78c3"
      },
      "outputs": [
        {
          "output_type": "stream",
          "name": "stdout",
          "text": [
            "1\n",
            "Sandro\n",
            "80\n"
          ]
        }
      ],
      "source": [
        "print(lista3[0])\n",
        "print(lista3[1])\n",
        "print(lista3[3])"
      ]
    },
    {
      "cell_type": "markdown",
      "metadata": {
        "id": "r77HmAA1tOwb"
      },
      "source": [
        "Ainda sobre os índices, não precisamos saber os índices de todos os elementos quando queremos apenas trazer os últimos da lista (imagine que isso seja inviável quando temos uma lista muito grande). Mas pode-se acessar esses elementos utilizando o sinal negativo:"
      ]
    },
    {
      "cell_type": "code",
      "execution_count": null,
      "metadata": {
        "colab": {
          "base_uri": "https://localhost:8080/"
        },
        "id": "EMV6DCf_8yhv",
        "outputId": "79e376d7-7f37-4def-d488-2f17a9ee8e1e"
      },
      "outputs": [
        {
          "output_type": "stream",
          "name": "stdout",
          "text": [
            "Data Science\n",
            "80\n",
            "6.5\n"
          ]
        }
      ],
      "source": [
        "print(lista3[-1])\n",
        "print(lista3[-2])\n",
        "print(lista3[-3])"
      ]
    },
    {
      "cell_type": "markdown",
      "metadata": {
        "id": "nPTsm49f8yhw"
      },
      "source": [
        " Uma última característica da estrutura da lista é que seus elementos são __mutável__, então pode-se alterar determinado valor de uma lista já criada:"
      ]
    },
    {
      "cell_type": "code",
      "execution_count": null,
      "metadata": {
        "colab": {
          "base_uri": "https://localhost:8080/"
        },
        "id": "jiIrMooW8yhw",
        "outputId": "e3d2fb39-270f-45b9-fdff-c3a700405789"
      },
      "outputs": [
        {
          "output_type": "stream",
          "name": "stdout",
          "text": [
            "Lista original: [1, 'Sandro', 6.5, 80, 'Data Science']\n"
          ]
        }
      ],
      "source": [
        "print(f'Lista original: {lista3}')"
      ]
    },
    {
      "cell_type": "code",
      "source": [
        "lista3[-1] = 'Machine Learning'"
      ],
      "metadata": {
        "id": "gyurPhEpCqen"
      },
      "execution_count": null,
      "outputs": []
    },
    {
      "cell_type": "code",
      "source": [
        "print(f'Lista alterada: {lista3}')"
      ],
      "metadata": {
        "colab": {
          "base_uri": "https://localhost:8080/"
        },
        "id": "JXhknioqCqWS",
        "outputId": "9294f8aa-b332-4472-d84b-df2483136b57"
      },
      "execution_count": null,
      "outputs": [
        {
          "output_type": "stream",
          "name": "stdout",
          "text": [
            "Lista alterada: [1, 'Sandro', 6.5, 80, 'Machine Learning']\n"
          ]
        }
      ]
    },
    {
      "cell_type": "markdown",
      "metadata": {
        "id": "BeQ6HNq48yhx"
      },
      "source": [
        "## "
      ]
    },
    {
      "cell_type": "markdown",
      "metadata": {
        "id": "AVnLooiztS31"
      },
      "source": [
        "## 2. Slicing\n",
        "\n",
        "O __Slicing__ (em português fatiamento) é uma operação bem comum quando se trabalha com listas , onde a partir de uma lista original pode-se pegar subconjuntos ,ou fatias destes dados. Veja o exemplo abaixo:"
      ]
    },
    {
      "cell_type": "code",
      "execution_count": null,
      "metadata": {
        "id": "uKJS2bHM8yhy"
      },
      "outputs": [],
      "source": [
        "# Lista de números pares\n",
        "pares = [0, 2, 4, 6, 8, 10, 12, 14, 16, 18]"
      ]
    },
    {
      "cell_type": "code",
      "execution_count": null,
      "metadata": {
        "colab": {
          "base_uri": "https://localhost:8080/"
        },
        "id": "331dXYhS8yhz",
        "outputId": "1eb0561e-e401-484e-9a00-b7ddac104e6f"
      },
      "outputs": [
        {
          "output_type": "stream",
          "name": "stdout",
          "text": [
            "[6, 8, 10]\n"
          ]
        }
      ],
      "source": [
        "slice1 = pares[3:6]\n",
        "print(slice1)"
      ]
    },
    {
      "cell_type": "markdown",
      "metadata": {
        "id": "4_B4Bznj8yhz"
      },
      "source": [
        "Fizemos uma repartição onde retirou os elementos do índice 3 ao 6 (sendo o 6 excludente, sempre bom ressaltar isto!). Uma outra forma de repartir, onde queremos todos os elementos até determinado ponto, é utilizado os `:`"
      ]
    },
    {
      "cell_type": "code",
      "execution_count": null,
      "metadata": {
        "colab": {
          "base_uri": "https://localhost:8080/"
        },
        "id": "Uftvffhv8yh0",
        "outputId": "855d58f1-8e3c-457b-8e07-5ed456445980"
      },
      "outputs": [
        {
          "output_type": "execute_result",
          "data": {
            "text/plain": [
              "[0, 2, 4, 6, 8]"
            ]
          },
          "metadata": {},
          "execution_count": 18
        }
      ],
      "source": [
        "metade1 = pares[:5]\n",
        "metade1"
      ]
    },
    {
      "cell_type": "code",
      "execution_count": null,
      "metadata": {
        "colab": {
          "base_uri": "https://localhost:8080/"
        },
        "id": "_BBTmrqs8yh0",
        "outputId": "fd93f73c-cc3d-4f27-afb1-e99413dbfe8e"
      },
      "outputs": [
        {
          "output_type": "execute_result",
          "data": {
            "text/plain": [
              "[10, 12, 14, 16, 18]"
            ]
          },
          "metadata": {},
          "execution_count": 20
        }
      ],
      "source": [
        "metade2 = pares[5:]\n",
        "metade2"
      ]
    },
    {
      "cell_type": "markdown",
      "metadata": {
        "id": "u7cpe5ckta9O"
      },
      "source": [
        "Além dos índices inicial e final, pode-se também passar um passo para os índices. Veja o exemplo a seguir:"
      ]
    },
    {
      "cell_type": "code",
      "execution_count": null,
      "metadata": {
        "colab": {
          "base_uri": "https://localhost:8080/"
        },
        "id": "tahuBMtG8yh1",
        "outputId": "7df90d7b-85b1-46b5-93d5-7720fb84b44a"
      },
      "outputs": [
        {
          "output_type": "execute_result",
          "data": {
            "text/plain": [
              "[0, 1, 2, 3, 4, 5, 6, 7, 8, 9, 10, 11, 12, 13, 14, 15]"
            ]
          },
          "metadata": {},
          "execution_count": 21
        }
      ],
      "source": [
        "nums = [0, 1, 2, 3, 4, 5, 6, 7, 8, 9, 10, 11, 12, 13, 14, 15]\n",
        "nums"
      ]
    },
    {
      "cell_type": "code",
      "execution_count": null,
      "metadata": {
        "colab": {
          "base_uri": "https://localhost:8080/"
        },
        "id": "PMIVKmmp8yh1",
        "outputId": "b3369ce8-d75a-4f1b-93fb-c631f15218ef"
      },
      "outputs": [
        {
          "output_type": "execute_result",
          "data": {
            "text/plain": [
              "[3, 6, 9]"
            ]
          },
          "metadata": {},
          "execution_count": 22
        }
      ],
      "source": [
        "multiplos3ate10 = nums[3:10:3]\n",
        "multiplos3ate10"
      ]
    },
    {
      "cell_type": "markdown",
      "metadata": {
        "id": "nID-iDLY8yh1"
      },
      "source": [
        "## "
      ]
    },
    {
      "cell_type": "markdown",
      "metadata": {
        "id": "lJZFySIgtmBr"
      },
      "source": [
        "## 3. Looping em Listas\n",
        "\n",
        "\n",
        "\n",
        "Vimos como acessar cada elemento de uma lista individualmente, mas não precisamos fazer desta forma já que sabemos como utilizar loopings como por exemplo o _for_.\n",
        "\n",
        "O maior desafio aqui será entender por quanto tempo o looping irá precisar percorrer a lista. Para isso, utiliza-se a função `len()`:"
      ]
    },
    {
      "cell_type": "code",
      "execution_count": null,
      "metadata": {
        "colab": {
          "base_uri": "https://localhost:8080/"
        },
        "id": "uvNCwbO68yh2",
        "outputId": "0cfbda0c-de3e-4c2c-8e11-436bdea20ab2"
      },
      "outputs": [
        {
          "output_type": "execute_result",
          "data": {
            "text/plain": [
              "[1, 3, 5, 7, 9, 11]"
            ]
          },
          "metadata": {},
          "execution_count": 23
        }
      ],
      "source": [
        "impares = [1, 3, 5, 7, 9, 11]\n",
        "impares"
      ]
    },
    {
      "cell_type": "code",
      "execution_count": null,
      "metadata": {
        "colab": {
          "base_uri": "https://localhost:8080/"
        },
        "id": "Ge7yDtom8yh2",
        "outputId": "b3a23ba7-8ad0-4863-9dc0-8b89a8cb89b5"
      },
      "outputs": [
        {
          "output_type": "execute_result",
          "data": {
            "text/plain": [
              "6"
            ]
          },
          "metadata": {},
          "execution_count": 24
        }
      ],
      "source": [
        "len(impares)"
      ]
    },
    {
      "cell_type": "markdown",
      "metadata": {
        "id": "FjBB7B8s8yh2"
      },
      "source": [
        "Ou seja, a função `len()` retorna a quantidade de elementos dentro de uma lista. Pode-se combinar isto com a função `range` e assim percorrer todos os elementos na nossa lista:"
      ]
    },
    {
      "cell_type": "code",
      "execution_count": null,
      "metadata": {
        "colab": {
          "base_uri": "https://localhost:8080/"
        },
        "id": "hRAd-IbZ8yh2",
        "outputId": "d48f0b51-a643-4f9c-abdf-cf5b6df58c42"
      },
      "outputs": [
        {
          "output_type": "stream",
          "name": "stdout",
          "text": [
            "Indice 0 | Elemento: 1\n",
            "Indice 1 | Elemento: 3\n",
            "Indice 2 | Elemento: 5\n",
            "Indice 3 | Elemento: 7\n",
            "Indice 4 | Elemento: 9\n",
            "Indice 5 | Elemento: 11\n"
          ]
        }
      ],
      "source": [
        "for i in range(len(impares)):\n",
        "  print(f'Indice {i} | Elemento: {impares[i]}')"
      ]
    },
    {
      "cell_type": "code",
      "source": [
        "for i in range(len(impares)):\n",
        "  print(impares[i])"
      ],
      "metadata": {
        "colab": {
          "base_uri": "https://localhost:8080/"
        },
        "id": "bBqJ7j6rGKXb",
        "outputId": "204684f6-f814-4b6b-f851-312c5f06e691"
      },
      "execution_count": null,
      "outputs": [
        {
          "output_type": "stream",
          "name": "stdout",
          "text": [
            "1\n",
            "3\n",
            "5\n",
            "7\n",
            "9\n",
            "11\n"
          ]
        }
      ]
    },
    {
      "cell_type": "markdown",
      "metadata": {
        "id": "DCN4XMzC8yh3"
      },
      "source": [
        "Pórem, existe uma forma ainda mais fácil de percorrer os elementos de uma lista, sem se preocupar o índice de fato. O _for_ não serve apenas para percorrer sequências mas também percorrer elementos de coleções. Dessa forma, pode-se trocar o `range` pela própria lista:"
      ]
    },
    {
      "cell_type": "code",
      "execution_count": null,
      "metadata": {
        "colab": {
          "base_uri": "https://localhost:8080/"
        },
        "id": "-HEt5kIJ8yh3",
        "outputId": "00327280-550c-49df-e35f-6c3fe57bf300"
      },
      "outputs": [
        {
          "output_type": "stream",
          "name": "stdout",
          "text": [
            "1\n",
            "3\n",
            "5\n",
            "7\n",
            "9\n",
            "11\n"
          ]
        }
      ],
      "source": [
        "for num in impares:\n",
        "  print(num)"
      ]
    },
    {
      "cell_type": "markdown",
      "metadata": {
        "id": "LMXvsyN78yh3"
      },
      "source": [
        "> O for serve, primariamente, para percorrer coleções. Ou seja, para iterar coleções. O range age, na prática, como se fosse uma lista contendo os valores determinados por seu parâmetro. Dizemos que a função range gera um iterável, ou seja, um tipo especial de dado que pode ser percorrido através de um loop."
      ]
    },
    {
      "cell_type": "markdown",
      "metadata": {
        "id": "PZ8dGTwb8yh4"
      },
      "source": [
        "## "
      ]
    },
    {
      "cell_type": "markdown",
      "metadata": {
        "id": "hNe7Z9KMtuFG"
      },
      "source": [
        "## 4. Operador in\n",
        "\n",
        "O operador __in__ costuma aparecer no _for_ para indicar a lista ou sequência a ser percorrida, mas ele também possui uma funcionalidade de verificar de determinado elemento pertence ou não a uma lista. Observe a saída do código abaixo."
      ]
    },
    {
      "cell_type": "code",
      "execution_count": null,
      "metadata": {
        "colab": {
          "base_uri": "https://localhost:8080/"
        },
        "id": "skJcMgUl8yh5",
        "outputId": "cd3d0707-494f-4246-e2e3-d7a1af0a7011"
      },
      "outputs": [
        {
          "output_type": "execute_result",
          "data": {
            "text/plain": [
              "['Python', 'Spark', 'R', 'SQL']"
            ]
          },
          "metadata": {},
          "execution_count": 29
        }
      ],
      "source": [
        "lingprog = ['Python', 'Spark', 'R', 'SQL']\n",
        "lingprog"
      ]
    },
    {
      "cell_type": "code",
      "source": [
        "existe_python = 'Python' in lingprog\n",
        "existe_java = 'Java' in lingprog"
      ],
      "metadata": {
        "id": "yfsw38LlG_ez"
      },
      "execution_count": null,
      "outputs": []
    },
    {
      "cell_type": "code",
      "source": [
        "print(f'Python: {existe_python}')\n",
        "print(f'Java: {existe_java}')"
      ],
      "metadata": {
        "colab": {
          "base_uri": "https://localhost:8080/"
        },
        "id": "viBQWB_oG_Ls",
        "outputId": "08648813-ed8a-4e8b-9e1f-b0d8e9293e15"
      },
      "execution_count": null,
      "outputs": [
        {
          "output_type": "stream",
          "name": "stdout",
          "text": [
            "Python: True\n",
            "Java: False\n"
          ]
        }
      ]
    },
    {
      "cell_type": "markdown",
      "metadata": {
        "id": "LEP6lJCYt2ce"
      },
      "source": [
        "Normalmente utilizamos esse comando junto de um if quando precisamos checar se um elemento existe:\n",
        "\n"
      ]
    },
    {
      "cell_type": "code",
      "execution_count": null,
      "metadata": {
        "colab": {
          "base_uri": "https://localhost:8080/"
        },
        "id": "lArU-yMn8yh7",
        "outputId": "e5926cdf-23b0-4876-e7f2-f64ce36748e9"
      },
      "outputs": [
        {
          "output_type": "stream",
          "name": "stdout",
          "text": [
            "Digite a linguagem que você quer aprender: Ruby\n",
            "Infelizmente não temos curso dessa linguagem\n"
          ]
        }
      ],
      "source": [
        "linguagem_desejada = input('Digite a linguagem que você quer aprender: ')\n",
        "\n",
        "if linguagem_desejada not in lingprog:\n",
        "  print('Infelizmente não temos curso dessa linguagem')\n",
        "else:\n",
        "  print('Temos curso desta linguagem =)')"
      ]
    },
    {
      "cell_type": "markdown",
      "metadata": {
        "id": "H8hB7EzM8yh7"
      },
      "source": [
        "## "
      ]
    },
    {
      "cell_type": "markdown",
      "metadata": {
        "id": "dx6tuwNvt5UY"
      },
      "source": [
        "## 4. Funções para Listas\n",
        "\n",
        "\n",
        "As listas possuem diversas funções próprias batante úteis e que facilitam a vida no dia a dia de desenvolvimento com _Python_. A seguir iremos comentar sobre algumas das principais funções:\n",
        "\n",
        "<br>\n",
        "\n",
        "### append e insert - Adicionando elementos\n",
        "\n",
        "Podemos adicionar novos elementos na lista de duas maneiras. A primeira delas, mais simples, é o append. Ele adiciona um elemento ao final da lista. Veja o exemplo abaixo:"
      ]
    },
    {
      "cell_type": "code",
      "execution_count": null,
      "metadata": {
        "colab": {
          "base_uri": "https://localhost:8080/"
        },
        "id": "XXLy8LFF8yh9",
        "outputId": "c0d82c11-428f-4f83-d95d-bedf9bd518ca"
      },
      "outputs": [
        {
          "output_type": "execute_result",
          "data": {
            "text/plain": [
              "[0, 2, 4, 6, 8]"
            ]
          },
          "metadata": {},
          "execution_count": 34
        }
      ],
      "source": [
        "pares = [0, 2, 4, 6, 8]\n",
        "pares"
      ]
    },
    {
      "cell_type": "markdown",
      "metadata": {
        "id": "SibHjanftfXf"
      },
      "source": [
        "__Observação:__ deve-se tomar bastante cuidado ao utilizar listas como por exemplo, ao atribuir uma lista a uma variável:"
      ]
    },
    {
      "cell_type": "code",
      "execution_count": null,
      "metadata": {
        "colab": {
          "base_uri": "https://localhost:8080/"
        },
        "id": "K-8MG5vZ8yh-",
        "outputId": "5332ebb5-be59-4d65-a7fb-9da084c74a28"
      },
      "outputs": [
        {
          "output_type": "execute_result",
          "data": {
            "text/plain": [
              "[0, 2, 4, 6, 8, 10]"
            ]
          },
          "metadata": {},
          "execution_count": 35
        }
      ],
      "source": [
        "pares.append(10)\n",
        "pares"
      ]
    },
    {
      "cell_type": "code",
      "execution_count": null,
      "metadata": {
        "colab": {
          "base_uri": "https://localhost:8080/"
        },
        "id": "dRdauLYT8yh-",
        "outputId": "dc8845aa-32f0-4a26-fbba-981d18e59b52"
      },
      "outputs": [
        {
          "output_type": "execute_result",
          "data": {
            "text/plain": [
              "[1, 2, 3]"
            ]
          },
          "metadata": {},
          "execution_count": 36
        }
      ],
      "source": [
        "lista1 = [1, 2, 3]\n",
        "lista1"
      ]
    },
    {
      "cell_type": "code",
      "source": [
        "lista2 = lista1\n",
        "lista2"
      ],
      "metadata": {
        "colab": {
          "base_uri": "https://localhost:8080/"
        },
        "id": "zMn-hur0I7ic",
        "outputId": "faa390f1-a5c6-4664-fcfa-c309615875a5"
      },
      "execution_count": null,
      "outputs": [
        {
          "output_type": "execute_result",
          "data": {
            "text/plain": [
              "[1, 2, 3]"
            ]
          },
          "metadata": {},
          "execution_count": 37
        }
      ]
    },
    {
      "cell_type": "markdown",
      "metadata": {
        "id": "nsfVpYkZ8yh_"
      },
      "source": [
        "Quando atribui-se uma lista a outra variável, a lista __não é copiada__. Dessa forma, qualquer modificação na variável impacta também na lista original:"
      ]
    },
    {
      "cell_type": "code",
      "execution_count": null,
      "metadata": {
        "colab": {
          "base_uri": "https://localhost:8080/"
        },
        "id": "g8JjFI1p8yh_",
        "outputId": "6eca0a2b-7b52-43a3-dc47-40af552f0813"
      },
      "outputs": [
        {
          "output_type": "stream",
          "name": "stdout",
          "text": [
            "[1, 2, 3, 4]\n",
            "[1, 2, 3, 4]\n"
          ]
        }
      ],
      "source": [
        "lista2.append(4)\n",
        "print(lista1)\n",
        "print(lista2)"
      ]
    },
    {
      "cell_type": "markdown",
      "metadata": {
        "id": "782xhjCkthm0"
      },
      "source": [
        "Modificações aplicadas em `lista2` também afetarão a `lista1`. \n",
        "\n",
        "Isso ocorre porque não foi criada uma nova lista. O _Python_ apenas fez com que ambas as variáveis (`lista1` e `lista2`) referenciassem a mesma estrutura na memória. Quando utilizamos _slices_, isso não ocorre. O _Python_ cria uma lista contendo os valores restritos pelos índices. Sendo assim, uma estratégia fácil para copiar uma lista para outra é utilizar um slice indo da primeira à última posição:"
      ]
    },
    {
      "cell_type": "code",
      "execution_count": null,
      "metadata": {
        "colab": {
          "base_uri": "https://localhost:8080/"
        },
        "id": "ET4C5xwu8yiC",
        "outputId": "6bfd9e3f-a30c-4c4a-eaa3-e861a2ae6d34"
      },
      "outputs": [
        {
          "output_type": "stream",
          "name": "stdout",
          "text": [
            "[1, 2, 3]\n",
            "[1, 2, 3, 4]\n"
          ]
        }
      ],
      "source": [
        "lista1 = [1, 2, 3]\n",
        "# lista2 = lista1.copy()\n",
        "lista2 = lista1[:]\n",
        "\n",
        "lista2.append(4)\n",
        "print(lista1)\n",
        "print(lista2)"
      ]
    },
    {
      "cell_type": "markdown",
      "metadata": {
        "id": "i0ePpzqRuBTm"
      },
      "source": [
        "Outra maneira de adicionar elemento é com a função __insert__: além do elemento, ele recebe a posição do novo elemento, onde o primeiro parâmetro é a posição, e a segundo é o valor:"
      ]
    },
    {
      "cell_type": "code",
      "execution_count": null,
      "metadata": {
        "colab": {
          "base_uri": "https://localhost:8080/"
        },
        "id": "b0YpfQzB8yiE",
        "outputId": "49ac4c3a-00b4-4bca-f384-74b7fb797059"
      },
      "outputs": [
        {
          "output_type": "execute_result",
          "data": {
            "text/plain": [
              "[0, 2, 4, 8, 10]"
            ]
          },
          "metadata": {},
          "execution_count": 42
        }
      ],
      "source": [
        "pares = [0, 2, 4, 8, 10]\n",
        "pares"
      ]
    },
    {
      "cell_type": "code",
      "source": [
        "pares.insert(3, 6)\n",
        "pares"
      ],
      "metadata": {
        "colab": {
          "base_uri": "https://localhost:8080/"
        },
        "id": "EZAygTWBKU0O",
        "outputId": "60d4614f-f347-4fda-bf37-a8ccda1d4d90"
      },
      "execution_count": null,
      "outputs": [
        {
          "output_type": "execute_result",
          "data": {
            "text/plain": [
              "[0, 2, 4, 6, 8, 10]"
            ]
          },
          "metadata": {},
          "execution_count": 43
        }
      ]
    },
    {
      "cell_type": "markdown",
      "metadata": {
        "id": "pSGrM8Hi8yiE"
      },
      "source": [
        "Note que o valor que ocupava a posição anteriormente não é substituído, mas \"empurrado\" para a próxima posição.\n",
        "\n"
      ]
    },
    {
      "cell_type": "markdown",
      "metadata": {
        "id": "eeALYBUj8yiF"
      },
      "source": [
        "## "
      ]
    },
    {
      "cell_type": "markdown",
      "metadata": {
        "id": "k-apXhuvuHtX"
      },
      "source": [
        "### remove e pop - Removendo elementos\n",
        "\n",
        "\n",
        "Pode-se  remover um determinado elemento de 2 jeitos: pelo valor utilizando o __remove__ ou pela posição com o __pop__. \n",
        "\n",
        "O __remove__ irá remover o primeiro elemento encontrado na lista com um dado valor. Ex:"
      ]
    },
    {
      "cell_type": "code",
      "execution_count": null,
      "metadata": {
        "colab": {
          "base_uri": "https://localhost:8080/"
        },
        "id": "MFx6PgZb8yiH",
        "outputId": "33b99db7-64d6-4163-f642-0e081a5f2cac"
      },
      "outputs": [
        {
          "output_type": "execute_result",
          "data": {
            "text/plain": [
              "[1, 3, 5, 7, 3, 9]"
            ]
          },
          "metadata": {},
          "execution_count": 44
        }
      ],
      "source": [
        "impares = [1, 3, 5, 7, 3, 9]\n",
        "impares"
      ]
    },
    {
      "cell_type": "code",
      "execution_count": null,
      "metadata": {
        "colab": {
          "base_uri": "https://localhost:8080/"
        },
        "id": "JYjV_XRN8yiI",
        "outputId": "bf83631a-2f55-4565-e844-0d3b9e94e6c3"
      },
      "outputs": [
        {
          "output_type": "execute_result",
          "data": {
            "text/plain": [
              "[1, 5, 7, 3, 9]"
            ]
          },
          "metadata": {},
          "execution_count": 45
        }
      ],
      "source": [
        "impares.remove(3)\n",
        "impares"
      ]
    },
    {
      "cell_type": "markdown",
      "metadata": {
        "id": "Yi1XhB3BuLhL"
      },
      "source": [
        "Já a função __pop__ remove o elemento que estiver em uma dada posição, independentemente de seu valor:"
      ]
    },
    {
      "cell_type": "code",
      "source": [
        "impares = [1, 3, 5, 7, 8, 9]\n",
        "impares"
      ],
      "metadata": {
        "colab": {
          "base_uri": "https://localhost:8080/"
        },
        "id": "5sWlY6nmK98t",
        "outputId": "2e9a4728-96ad-4228-e75b-d35bc9b374a0"
      },
      "execution_count": null,
      "outputs": [
        {
          "output_type": "execute_result",
          "data": {
            "text/plain": [
              "[1, 3, 5, 7, 8, 9]"
            ]
          },
          "metadata": {},
          "execution_count": 46
        }
      ]
    },
    {
      "cell_type": "code",
      "source": [
        "impares.pop(4)\n",
        "impares"
      ],
      "metadata": {
        "colab": {
          "base_uri": "https://localhost:8080/"
        },
        "id": "bVKSpErELBoN",
        "outputId": "7a06d8eb-5505-45e5-b0b5-fdd5dc3fd910"
      },
      "execution_count": null,
      "outputs": [
        {
          "output_type": "execute_result",
          "data": {
            "text/plain": [
              "[1, 3, 5, 7, 9]"
            ]
          },
          "metadata": {},
          "execution_count": 47
        }
      ]
    },
    {
      "cell_type": "markdown",
      "metadata": {
        "id": "dKqTBWvg8yiJ"
      },
      "source": [
        "Se nenhum valor for passado no pop, ele irá remover necessariamente o último elemento da lista.\n",
        "\n"
      ]
    },
    {
      "cell_type": "markdown",
      "metadata": {
        "id": "uNus4kSt8yiJ"
      },
      "source": [
        "## "
      ]
    },
    {
      "cell_type": "markdown",
      "metadata": {
        "id": "dDIr4hJ8uOi0"
      },
      "source": [
        "### sort -  Ordenando listas\n",
        "\n",
        "\n",
        "Podemos ordenar uma lista facilmente utilizando a função __sort__ para listas:"
      ]
    },
    {
      "cell_type": "code",
      "execution_count": null,
      "metadata": {
        "colab": {
          "base_uri": "https://localhost:8080/"
        },
        "id": "5TfPZuqn8yiK",
        "outputId": "9b67b29c-0e52-466c-bc39-28d02b4064bb"
      },
      "outputs": [
        {
          "output_type": "execute_result",
          "data": {
            "text/plain": [
              "[8, 1, 5, 13, 1, 3, 2]"
            ]
          },
          "metadata": {},
          "execution_count": 48
        }
      ],
      "source": [
        "fibonacci = [8, 1, 5, 13, 1, 3, 2]\n",
        "fibonacci"
      ]
    },
    {
      "cell_type": "code",
      "source": [
        "fibonacci.sort()\n",
        "fibonacci"
      ],
      "metadata": {
        "colab": {
          "base_uri": "https://localhost:8080/"
        },
        "id": "2SXvAVTCM2rI",
        "outputId": "f2f53c3c-100c-49ec-ff6e-26bcb7a891c5"
      },
      "execution_count": null,
      "outputs": [
        {
          "output_type": "execute_result",
          "data": {
            "text/plain": [
              "[1, 1, 2, 3, 5, 8, 13]"
            ]
          },
          "metadata": {},
          "execution_count": 49
        }
      ]
    },
    {
      "cell_type": "markdown",
      "metadata": {
        "id": "u2wglRuluSaE"
      },
      "source": [
        "Para ordenar a lista de maior para o menor, ou seja, de forma decrescente para passar o parâmetro `reverse = True`:"
      ]
    },
    {
      "cell_type": "code",
      "execution_count": null,
      "metadata": {
        "colab": {
          "base_uri": "https://localhost:8080/"
        },
        "id": "ErYrodKn8yiL",
        "outputId": "a9e1947f-969f-49d1-d451-fcce9c9dde0a"
      },
      "outputs": [
        {
          "output_type": "execute_result",
          "data": {
            "text/plain": [
              "[13, 8, 5, 3, 2, 1, 1]"
            ]
          },
          "metadata": {},
          "execution_count": 52
        }
      ],
      "source": [
        "fibonacci.sort(reverse = True)\n",
        "fibonacci"
      ]
    },
    {
      "cell_type": "markdown",
      "metadata": {
        "id": "8LjwBryj8yiL"
      },
      "source": [
        "> Importante: o sort só irá funcionar caso sua lista possua apenas elementos que podem ser comparados entre si (apenas strings ou apenas números, por exemplo). Se uma lista contém tanto strings quanto números, o sort não saberá o que vem primeiro."
      ]
    },
    {
      "cell_type": "markdown",
      "metadata": {
        "id": "8z5oBjgwuulZ"
      },
      "source": [
        "Um problema do __sort__ é que ele irá reordenar a própria lista. Muitas vezes precisamos preservar a lista original, e obter uma nova com a ordenação desejada. Neste caso, podemos utilizar o __sorted__:"
      ]
    },
    {
      "cell_type": "code",
      "execution_count": null,
      "metadata": {
        "colab": {
          "base_uri": "https://localhost:8080/"
        },
        "id": "QfnADxip8yiM",
        "outputId": "78f0f369-480a-4be2-cd8c-b856a6348f46"
      },
      "outputs": [
        {
          "output_type": "stream",
          "name": "stdout",
          "text": [
            "[8, 1, 5, 13, 1, 3, 2]\n",
            "[1, 1, 2, 3, 5, 8, 13]\n"
          ]
        }
      ],
      "source": [
        "fibonacci = [8, 1, 5, 13, 1, 3, 2]\n",
        "fibonacci_ordenado = sorted(fibonacci)\n",
        "print(fibonacci)\n",
        "print(fibonacci_ordenado)"
      ]
    },
    {
      "cell_type": "markdown",
      "metadata": {
        "id": "GeBtWtxvuyJi"
      },
      "source": [
        "O sorted também aceita o parâmetro reverse para aplicar ordem decrescente.\n",
        "\n",
        "Aliás a respeito de ordenar decrescentemente, é possível simplesmente inverter a ordem dos elementos de uma lista utilizando a função __reverse__:"
      ]
    },
    {
      "cell_type": "code",
      "execution_count": null,
      "metadata": {
        "colab": {
          "base_uri": "https://localhost:8080/"
        },
        "id": "EsaUKjvm8yiO",
        "outputId": "1f9c5e73-c090-4c2c-9634-6d55f11dfe4d"
      },
      "outputs": [
        {
          "output_type": "stream",
          "name": "stdout",
          "text": [
            "[1, 5, 'dois', 4, 3.14]\n",
            "[3.14, 4, 'dois', 5, 1]\n"
          ]
        }
      ],
      "source": [
        "lista = [1, 5, 'dois', 4, 3.14]\n",
        "print(lista)\n",
        "lista.reverse()\n",
        "print(lista)"
      ]
    },
    {
      "cell_type": "markdown",
      "metadata": {
        "id": "DLla7R-S8yiP"
      },
      "source": [
        "## "
      ]
    },
    {
      "cell_type": "markdown",
      "metadata": {
        "id": "7HI0YooWu6xm"
      },
      "source": [
        "### index - Buscar um elemento\n",
        "\n",
        "\n",
        "Pode-se buscar um determinado elemento (descobrir sua posição) utilizando a função __index__. Ela irá informar a primeira posição onde um elemento for encontrado:"
      ]
    },
    {
      "cell_type": "code",
      "execution_count": null,
      "metadata": {
        "colab": {
          "base_uri": "https://localhost:8080/"
        },
        "id": "Tvv_onzJ8yiP",
        "outputId": "7a425533-471b-40c0-bd09-fb22e2f4c6dd"
      },
      "outputs": [
        {
          "output_type": "execute_result",
          "data": {
            "text/plain": [
              "4"
            ]
          },
          "metadata": {},
          "execution_count": 57
        }
      ],
      "source": [
        "pi = [3, 1, 4, 1, 5, 9, 2, 6, 5]\n",
        "posicao = pi.index(5)\n",
        "posicao"
      ]
    },
    {
      "cell_type": "markdown",
      "metadata": {
        "id": "5AG4mJom8yiQ"
      },
      "source": [
        "> Atenção: caso o elemento buscado não exista, a função index dará erro. Considere utilizar o in para verificar se o elemento existe na lista antes de usar o index."
      ]
    },
    {
      "cell_type": "markdown",
      "metadata": {
        "id": "Cpj_wIut8yiQ"
      },
      "source": [
        "## "
      ]
    },
    {
      "cell_type": "markdown",
      "metadata": {
        "id": "0K_xNqefu87X"
      },
      "source": [
        "### Propriedades das Listas\n",
        "\n",
        "Assim como já vimo a função __len__ que retorna o tamanho da lista verificada, existem outras funções que por exemplo devolvem o maior valor (__max__) ou o menor (__min__)."
      ]
    },
    {
      "cell_type": "code",
      "execution_count": null,
      "metadata": {
        "colab": {
          "base_uri": "https://localhost:8080/"
        },
        "id": "lckvFlJw8yiQ",
        "outputId": "eab012ce-6788-482f-cdf8-2330bc0dbd08"
      },
      "outputs": [
        {
          "output_type": "stream",
          "name": "stdout",
          "text": [
            "9 9 1\n"
          ]
        }
      ],
      "source": [
        "pi = [3, 1, 4, 1, 5, 9, 2, 6, 5]\n",
        "tamanho = len(pi)\n",
        "maior = max(pi)\n",
        "menor = min(pi)\n",
        "print(tamanho, maior, menor)"
      ]
    },
    {
      "cell_type": "markdown",
      "metadata": {
        "id": "tv4T7HEt8yiR"
      },
      "source": [
        "## "
      ]
    },
    {
      "cell_type": "markdown",
      "metadata": {
        "id": "QNPNw5nwvrmh"
      },
      "source": [
        "### Enumerate\n",
        "\n",
        "\n",
        "Considere um problema qualquer onde o índice importa. Por exemplo, suponha que você possua uma lista de números e gostaria de criar uma regra em relação aos índices. Se o índice for par, eu multiplico o número por 2 e se for ímpar eu soma em uma unidade, para fins de `print`.\n",
        "\n",
        "A lógica desse problema poderia ser resolvida usando índice: "
      ]
    },
    {
      "cell_type": "code",
      "execution_count": null,
      "metadata": {
        "colab": {
          "base_uri": "https://localhost:8080/"
        },
        "id": "DWKPpHna8yiR",
        "outputId": "8e87ba38-112b-450a-91f5-662b58794e7c"
      },
      "outputs": [
        {
          "output_type": "stream",
          "name": "stdout",
          "text": [
            "2\n",
            "3\n",
            "6\n",
            "5\n",
            "10\n",
            "7\n",
            "14\n",
            "9\n",
            "18\n",
            "11\n"
          ]
        }
      ],
      "source": [
        "lista_numeros = [1, 2, 3, 4, 5, 6 ,7, 8, 9, 10]\n",
        "\n",
        "for i in range(len(lista_numeros)):\n",
        "  if i % 2 == 0:\n",
        "    print(lista_numeros[i]*2)\n",
        "  else:\n",
        "    print(lista_numeros[i] + 1)"
      ]
    },
    {
      "cell_type": "markdown",
      "metadata": {
        "id": "CEj5TlMHv137"
      },
      "source": [
        "Existe uma ferramenta em Python que pode nos ajudar a escrever de maneira mais *pythonica*, sem precisar acessar lista por índice: o **enumerate**. Vamos entender o que ele faz primeiro, e em seguida veremos como deixar o código mais limpo:"
      ]
    },
    {
      "cell_type": "code",
      "execution_count": null,
      "metadata": {
        "colab": {
          "base_uri": "https://localhost:8080/"
        },
        "id": "YuA6iC2b8yiS",
        "outputId": "7175de18-81bb-4933-fc95-4e9040598590"
      },
      "outputs": [
        {
          "output_type": "stream",
          "name": "stdout",
          "text": [
            "(0, 1)\n",
            "(1, 2)\n",
            "(2, 3)\n",
            "(3, 4)\n",
            "(4, 5)\n",
            "(5, 6)\n",
            "(6, 7)\n",
            "(7, 8)\n",
            "(8, 9)\n",
            "(9, 10)\n"
          ]
        }
      ],
      "source": [
        "for x in enumerate(lista_numeros):\n",
        "  print(x)"
      ]
    },
    {
      "cell_type": "markdown",
      "metadata": {
        "id": "jhz99yxRv6W2"
      },
      "source": [
        "O **enumerate** montou uma estrutura onde cada elemento é uma tupla (uma espécie de lista imutável), sendo o primeiro elemento da tupla um índice da lista, e o segundo o valor associado àquele índice. Ao tratar a tupla como se fosse mais de uma variável, temos o que chamamos de **desempacotamento de tupla**: cada valor da tupla é atribuido para uma variável. \n",
        "\n"
      ]
    },
    {
      "cell_type": "code",
      "execution_count": null,
      "metadata": {
        "colab": {
          "base_uri": "https://localhost:8080/"
        },
        "id": "0Y0Us6BL8yiT",
        "outputId": "9da5def3-da60-4bab-f722-d5af7c51d31f"
      },
      "outputs": [
        {
          "output_type": "execute_result",
          "data": {
            "text/plain": [
              "(1, 3, 5, 7)"
            ]
          },
          "metadata": {},
          "execution_count": 62
        }
      ],
      "source": [
        "tupla = (1, 3, 5, 7)\n",
        "tupla"
      ]
    },
    {
      "cell_type": "code",
      "source": [
        "a, b, c, d = tupla\n",
        "print(a)\n",
        "print(b)\n",
        "print(c)\n",
        "print(d)"
      ],
      "metadata": {
        "colab": {
          "base_uri": "https://localhost:8080/"
        },
        "id": "NhvJDtG5PtrA",
        "outputId": "a5673785-862a-4a74-dd26-76bafe3f6fd9"
      },
      "execution_count": null,
      "outputs": [
        {
          "output_type": "stream",
          "name": "stdout",
          "text": [
            "1\n",
            "3\n",
            "5\n",
            "7\n"
          ]
        }
      ]
    },
    {
      "cell_type": "markdown",
      "metadata": {
        "id": "ojNgCKpzwMcH"
      },
      "source": [
        "\n",
        "Aplicando o desempacotamento de tupla no *for*, podemos ter, simultaneamente, índice e valor em variáveis separadas, na prática percorrendo a lista tanto por índice quanto por valor. Refazendo o exemplo das maiúsculas/minúsculas:"
      ]
    },
    {
      "cell_type": "code",
      "execution_count": null,
      "metadata": {
        "colab": {
          "base_uri": "https://localhost:8080/"
        },
        "id": "EV0N33RQ8yiU",
        "outputId": "299a036a-61de-45b3-93af-63467e4964fc"
      },
      "outputs": [
        {
          "output_type": "stream",
          "name": "stdout",
          "text": [
            "2\n",
            "3\n",
            "6\n",
            "5\n",
            "10\n",
            "7\n",
            "14\n",
            "9\n",
            "18\n",
            "11\n"
          ]
        }
      ],
      "source": [
        "for i, vlr in enumerate(lista_numeros):\n",
        "  if i % 2 == 0:\n",
        "    print(vlr*2)\n",
        "  else:\n",
        "    print(vlr + 1)"
      ]
    },
    {
      "cell_type": "markdown",
      "metadata": {
        "id": "jmyQaSgM8yiU"
      },
      "source": [
        "## "
      ]
    },
    {
      "cell_type": "markdown",
      "metadata": {
        "id": "msYqsmkgwXg0"
      },
      "source": [
        "### Zip\n",
        "\n",
        "\n",
        "Vamos pensar em um problema onde precisamos percorrer duas listas simultaneamente. Por exemplo, considere que temos uma lista com os nomes de todos os alunos de uma turma, e outra com as notas, na mesma ordem. Como faríamos para acessar, simultaneamente, o nome de um aluno e a sua nota?\n",
        "\n",
        "Esse é um problema onde, a princípio, utilizaríamos índice. Se usarmos o mesmo índice nas duas listas, estamos na prática percorrendo ambas as listas simultaneamente:"
      ]
    },
    {
      "cell_type": "code",
      "execution_count": null,
      "metadata": {
        "colab": {
          "base_uri": "https://localhost:8080/"
        },
        "id": "Tlj317Fe8yiU",
        "outputId": "49acc8a6-2ddc-4396-838d-b6df1185ec91"
      },
      "outputs": [
        {
          "output_type": "stream",
          "name": "stdout",
          "text": [
            "Aluno: Leandro: 10\n",
            "Aluno: Maisa: 8.5\n",
            "Aluno: Bernardo: 8\n",
            "Aluno: Vivian: 9\n"
          ]
        }
      ],
      "source": [
        "alunos = ['Leandro', 'Maisa', 'Bernardo', 'Vivian']\n",
        "notas = [10, 8.5, 8, 9]\n",
        "\n",
        "for i in range(len(alunos)):\n",
        "  print(f'Aluno: {alunos[i]}: {notas[i]}')"
      ]
    },
    {
      "cell_type": "markdown",
      "metadata": {
        "id": "vq2l3_rQwcT6"
      },
      "source": [
        "Vamos ver agora o **zip** em ação para compreender como ele funciona:\n"
      ]
    },
    {
      "cell_type": "code",
      "execution_count": null,
      "metadata": {
        "colab": {
          "base_uri": "https://localhost:8080/"
        },
        "id": "Wxt5meX78yiV",
        "outputId": "e2580ad2-cd9d-4a74-c04f-41ca8d9e6233"
      },
      "outputs": [
        {
          "output_type": "stream",
          "name": "stdout",
          "text": [
            "('Leandro', 10)\n",
            "('Maisa', 8.5)\n",
            "('Bernardo', 8)\n",
            "('Vivian', 9)\n"
          ]
        }
      ],
      "source": [
        "for x in zip(alunos, notas):\n",
        "  print(x)"
      ]
    },
    {
      "cell_type": "markdown",
      "metadata": {
        "id": "X-ma2qSFwgA5"
      },
      "source": [
        "Assim como no **enumerate**, o **zip** montou tuplas. Cada tupla representa 1 posição das listas originais, e cada posição dentro da tupla representa o dado de uma das listas. Ou seja, cada elemento do **zip** contém 1 elemento de cada lista original, na ordem que eles apareceram nas listas originais. Logo, ele permite percorrer 2 listas simultaneamente.\n",
        "\n",
        "Novamente podemos aplicar desempacotamento de tuplas em nosso loop acessar os dados de cada lista individualmente de maneira legível:"
      ]
    },
    {
      "cell_type": "code",
      "execution_count": null,
      "metadata": {
        "colab": {
          "base_uri": "https://localhost:8080/"
        },
        "id": "VUSutFb58yiV",
        "outputId": "40298f44-dac4-4b38-cffd-1571eb74cdfb"
      },
      "outputs": [
        {
          "output_type": "stream",
          "name": "stdout",
          "text": [
            "Aluno Leandro: 10\n",
            "Aluno Maisa: 8.5\n",
            "Aluno Bernardo: 8\n",
            "Aluno Vivian: 9\n"
          ]
        }
      ],
      "source": [
        "for aluno, nota in zip(alunos, notas):\n",
        "  print(f'Aluno {aluno}: {nota}')"
      ]
    },
    {
      "cell_type": "markdown",
      "metadata": {
        "id": "0zRJCt3M8yiV"
      },
      "source": [
        "## "
      ]
    },
    {
      "cell_type": "markdown",
      "metadata": {
        "id": "87O9AiH88yiW"
      },
      "source": [
        "## 5. Funções"
      ]
    },
    {
      "cell_type": "markdown",
      "metadata": {
        "id": "Ip-Gt4Nj8yiW"
      },
      "source": [
        "__Funções__ em _Python_ é uma aplicação que auxilia na repetitividade de trechos de código. Então, vamos imaginar aquele primeiro exemplo onde pedia as notas das 3 provas de um aluno e depois devolvia o valor da média. Vamos refazer pela última vez este exercício aqui:"
      ]
    },
    {
      "cell_type": "code",
      "execution_count": null,
      "metadata": {
        "colab": {
          "base_uri": "https://localhost:8080/"
        },
        "id": "Hcb62pou8yiW",
        "outputId": "872dbeb5-a7b9-4c74-c02f-8640afe70761"
      },
      "outputs": [
        {
          "output_type": "stream",
          "name": "stdout",
          "text": [
            "Digite a primeira nota: 7\n",
            "Digite a segunda nota: 8\n",
            "Digite a terceira nota: 9\n",
            "Média: 8.0\n"
          ]
        }
      ],
      "source": [
        "# Digitar as notas\n",
        "nota1 = float(input('Digite a primeira nota: '))\n",
        "nota2 = float(input('Digite a segunda nota: '))\n",
        "nota3 = float(input('Digite a terceira nota: '))\n",
        "\n",
        "# Calcula a media\n",
        "media = (nota1 + nota2 + nota3) / 3\n",
        "\n",
        "print(f'Média: {media}')"
      ]
    },
    {
      "cell_type": "markdown",
      "metadata": {
        "id": "i30StOR78yiW"
      },
      "source": [
        "A função é um \"pedaço de código\" a parte do que estamos desenvolvendo que podemos chamar toda a vez que quiser repetir ou executar determinada função. Então vamos monta uma função nomeada como `calcula_media`:"
      ]
    },
    {
      "cell_type": "code",
      "execution_count": null,
      "metadata": {
        "id": "RkMpEvWV8yiW"
      },
      "outputs": [],
      "source": [
        "def calcula_media():\n",
        "  # Digitar as notas\n",
        "  nota1 = float(input('Digite a primeira nota: '))\n",
        "  nota2 = float(input('Digite a segunda nota: '))\n",
        "  nota3 = float(input('Digite a terceira nota: '))\n",
        "\n",
        "  # Calcula a media\n",
        "  media = (nota1 + nota2 + nota3) / 3\n",
        "\n",
        "  print(f'Média: {media}')"
      ]
    },
    {
      "cell_type": "markdown",
      "metadata": {
        "id": "-A7wLJmg8yiX"
      },
      "source": [
        "Agora, vamos acionar a nossa função:"
      ]
    },
    {
      "cell_type": "code",
      "execution_count": null,
      "metadata": {
        "colab": {
          "base_uri": "https://localhost:8080/"
        },
        "id": "HLhdaTQe8yiX",
        "outputId": "2bd65edf-3a2a-4930-fc2c-4870d9fe642e"
      },
      "outputs": [
        {
          "output_type": "stream",
          "name": "stdout",
          "text": [
            "Digite a primeira nota: 7\n",
            "Digite a segunda nota: 8\n",
            "Digite a terceira nota: 9\n",
            "Média: 8.0\n"
          ]
        }
      ],
      "source": [
        "calcula_media()"
      ]
    },
    {
      "cell_type": "markdown",
      "metadata": {
        "id": "-6wD3DkR8yiX"
      },
      "source": [
        "Dessa forma, agora pode-se utilizar a função quantas vezes a gente quiser. Note, o que foi definido dentro da função é privado a ela, ou seja, não é possível acessar elementos criados dentro dela. Siga o exemplo abaixo:"
      ]
    },
    {
      "cell_type": "code",
      "execution_count": null,
      "metadata": {
        "id": "Z3M8iMWj8yiX"
      },
      "outputs": [],
      "source": [
        "def soma1(a, b, c):\n",
        "  resultado = a + b + c"
      ]
    },
    {
      "cell_type": "code",
      "source": [
        "soma1(5, 6, 7)"
      ],
      "metadata": {
        "id": "iJf-ZNDdXyNx"
      },
      "execution_count": null,
      "outputs": []
    },
    {
      "cell_type": "markdown",
      "metadata": {
        "id": "wCz4ZxKV8yiX"
      },
      "source": [
        "Mas para que isso seja válido, é necessário definir um __retorno da função__ que foi criada. Vamos retomar o exemplo agora:"
      ]
    },
    {
      "cell_type": "code",
      "execution_count": null,
      "metadata": {
        "colab": {
          "base_uri": "https://localhost:8080/"
        },
        "id": "AJIhQWFk8yiY",
        "outputId": "ea2edd5f-54d4-4ef2-aa29-d34fe9fcf267"
      },
      "outputs": [
        {
          "output_type": "stream",
          "name": "stdout",
          "text": [
            "18\n",
            "6.0\n"
          ]
        }
      ],
      "source": [
        "def soma2(a, b, c):\n",
        "  soma = a + b + c\n",
        "  return soma\n",
        "\n",
        "s = soma2(5, 6, 7)\n",
        "print(s)\n",
        "media = s/3\n",
        "print(media)"
      ]
    },
    {
      "cell_type": "code",
      "source": [
        "def soma3(a=1, b=2, c=3):\n",
        "  soma = a + b + c\n",
        "  return soma"
      ],
      "metadata": {
        "id": "ZYjyATXMZw3l"
      },
      "execution_count": null,
      "outputs": []
    },
    {
      "cell_type": "code",
      "source": [
        "print(soma3())"
      ],
      "metadata": {
        "colab": {
          "base_uri": "https://localhost:8080/"
        },
        "id": "ysHkXKjNZ2un",
        "outputId": "fe95359d-3e73-4d59-ad64-6f209bdc0424"
      },
      "execution_count": null,
      "outputs": [
        {
          "output_type": "stream",
          "name": "stdout",
          "text": [
            "6\n"
          ]
        }
      ]
    },
    {
      "cell_type": "code",
      "source": [
        "print()"
      ],
      "metadata": {
        "id": "MwNvSsAqZ5yM"
      },
      "execution_count": null,
      "outputs": []
    },
    {
      "cell_type": "markdown",
      "metadata": {
        "id": "krAefyJL8yiY"
      },
      "source": [
        "Podemos até refazer o exercícios das médias onde iremos receber uma __lista de notas__ e iremos devolver para o aluno o valor da média:"
      ]
    },
    {
      "cell_type": "code",
      "execution_count": null,
      "metadata": {
        "id": "Zaq1kHIh8yiZ"
      },
      "outputs": [],
      "source": [
        "lista_notas = [9.0, 5.5, 9.5, 4.0, 7.5, 6.5]"
      ]
    },
    {
      "cell_type": "code",
      "execution_count": null,
      "metadata": {
        "id": "2nrfLZVq8yiZ"
      },
      "outputs": [],
      "source": [
        "def media_notas(lista):\n",
        "  soma = 0\n",
        "  for nota in lista:\n",
        "    soma += nota\n",
        "  media = soma / len(lista)\n",
        "  return media"
      ]
    },
    {
      "cell_type": "code",
      "execution_count": null,
      "metadata": {
        "colab": {
          "base_uri": "https://localhost:8080/"
        },
        "id": "TFCUxXcm8yiZ",
        "outputId": "362f3fe1-9b24-4963-cb59-5325e7dad207"
      },
      "outputs": [
        {
          "output_type": "execute_result",
          "data": {
            "text/plain": [
              "7.0"
            ]
          },
          "metadata": {},
          "execution_count": 80
        }
      ],
      "source": [
        "media_notas(lista_notas)"
      ]
    },
    {
      "cell_type": "code",
      "source": [
        "# Return com mais de um elemendo\n",
        "def media_notas(lista):\n",
        "  soma = 0\n",
        "  for nota in lista:\n",
        "    soma += nota\n",
        "  media = soma / len(lista)\n",
        "  return soma, len(lista), media"
      ],
      "metadata": {
        "id": "uSmqiqCDatGd"
      },
      "execution_count": null,
      "outputs": []
    },
    {
      "cell_type": "code",
      "source": [
        "soma_elementos, num_elementos, media = media_notas(lista_notas)"
      ],
      "metadata": {
        "id": "jpltbq1ba2-I"
      },
      "execution_count": null,
      "outputs": []
    },
    {
      "cell_type": "markdown",
      "metadata": {
        "id": "ii0elrXp8yiZ"
      },
      "source": [
        "## "
      ]
    },
    {
      "cell_type": "markdown",
      "metadata": {
        "id": "r36SEhVd8yia"
      },
      "source": [
        "### Recursividade\n",
        "\n",
        "__Recursividade__ é quando uma função do _Python_ chama outra função dentro do desenvolvimento dela:"
      ]
    },
    {
      "cell_type": "code",
      "execution_count": null,
      "metadata": {
        "id": "WK0bJWZ28yia"
      },
      "outputs": [],
      "source": [
        "def soma_notas(lista):\n",
        "  soma = 0\n",
        "  for nota in lista:\n",
        "    soma+=nota\n",
        "  return soma\n",
        "\n",
        "def media(lista):\n",
        "  s = soma_notas(lista)\n",
        "  return s/len(lista)"
      ]
    },
    {
      "cell_type": "code",
      "execution_count": null,
      "metadata": {
        "colab": {
          "base_uri": "https://localhost:8080/"
        },
        "id": "yEFpxbGp8yib",
        "outputId": "4153daf4-04f4-41ca-ab71-83bafc2e1ae3"
      },
      "outputs": [
        {
          "output_type": "stream",
          "name": "stdout",
          "text": [
            "7.0\n"
          ]
        }
      ],
      "source": [
        "print(media(lista_notas))"
      ]
    },
    {
      "cell_type": "markdown",
      "metadata": {
        "id": "fUwAgtwF8yib"
      },
      "source": [
        "Mas e se uma função referenciasse ela mesma? Isso também funciona, e chama-se **função recursiva**, ou **recursão**. \n",
        "\n",
        "A ideia vem da matemática. Vejamos um exemplo. Considere a função fatorial. O fatorial de um número n qualquer é igual ao produto entre n e todos os seus antecessores inteiros positivos: n! = n x (n-1) x (n-2) x ... x 2 x 1. \n",
        "\n",
        "Considere o fatorial de 5:\n",
        "5! = 5x**4x3x2x1**\n",
        "\n",
        "Pense agora no fatorial de 4:\n",
        "4! = 4x3x2x1\n",
        "\n",
        "Note que temos destacado em negrito a expressão completa do fatorial de 4 dentro do fatorial de 5. Então é possível reescrecer o fatorial de 5 em função do fatorial de 4:\n",
        "\n",
        "5! = 5x(4!)\n",
        "\n",
        "Porém, dentro do fatorial de 4, temos o fatorial de 3, e assim sucessivamente. Podemos generalizar da seguinte maneira:\n",
        "\n",
        "f(n) = \n",
        "* 1, se n = 1\n",
        "* n * f(n-1), se x > 1\n",
        "\n",
        "Ou seja, imagine que você queira calcular f(4). Como 4 > 1, teremos:\n",
        "f(4) = 4 * f(3)\n",
        "\n",
        "Precisamos expandir f(3):\n",
        "f(4) = 4 * (3 * f(2))\n",
        "\n",
        "E assim sucessivamente:\n",
        "f(4) = 4 * (3 * (2 * f(1)))\n",
        "\n",
        "Opa, f(1) nós conhecemos: está definido lá em cima como 1.\n",
        "Portanto:\n",
        "f(4) = 4 * 3 * 2 * 1\n",
        "f(4) = 24\n",
        "\n",
        "Note que nós decompomos um problema em várias instâncias \"menores\" do problema. Quebramos a formulação de uma multiplicação enorme por vários casos de n x f(n-1). Chamamos essa estratégia de _dividir para conquistar_, e ela envolve identificar 2 etapas bastante claras do problema:\n",
        "* Caso base: é um caso para o qual temos um valor conhecido (no exemplo acima, f(1) = 1)\n",
        "* Caso geral: é a chamada recursiva, onde faremos referência à própria função. \n",
        "\n",
        "Note também que esse comportamento tem o comportamento de _pilha_: se colocamos 3 pratos empilhados sobre a mesa, precisamos tirar primeiro o último que colocamos, certo? Caso contrário, a pilha toda tomba. No caso da recursão, para obter f(4) caímos em f(3), depois f(2), depois f(1), depois f(0) e foi para ele que obtivemos a primeira resposta, que em seguida usamos para calcular f(1), depois calcular f(2), depois f(3) e só então chegamos em f(4). O primeiro passo do problema foi o último a ser resolvido.\n",
        "\n",
        "Em Python, nossa função ficaria assim:"
      ]
    },
    {
      "cell_type": "code",
      "execution_count": null,
      "metadata": {
        "id": "Zn_I5ymV8yic"
      },
      "outputs": [],
      "source": [
        "def fatorial(n):\n",
        "  if n == 1:\n",
        "    return 1\n",
        "  else:\n",
        "    return n * fatorial(n-1)"
      ]
    },
    {
      "cell_type": "code",
      "execution_count": null,
      "metadata": {
        "colab": {
          "base_uri": "https://localhost:8080/"
        },
        "id": "rzlPmGLY8yic",
        "outputId": "2aacaba3-877f-4616-d7c7-cf3531234f40"
      },
      "outputs": [
        {
          "output_type": "stream",
          "name": "stdout",
          "text": [
            "6\n"
          ]
        }
      ],
      "source": [
        "print(fatorial(3))"
      ]
    },
    {
      "cell_type": "markdown",
      "metadata": {
        "id": "vMa9cUXc8yid"
      },
      "source": [
        "## "
      ]
    },
    {
      "cell_type": "markdown",
      "metadata": {
        "id": "6t7MOGVlwvSG"
      },
      "source": [
        "## Exercícios"
      ]
    },
    {
      "cell_type": "markdown",
      "metadata": {
        "id": "Or_UCuc58yie"
      },
      "source": [
        "__1)__ Normalização de Dados, também conhecido na estatística como Z-Score, é quando temos uma distribuição de dados quaisquer em determinada escala e gostariamos de converter-los para uma distribuição com o comportamento de uma distrbuição Normal (também conhecida como Gaussiana).\n",
        "\n",
        "Para fazer a normalização dos dados devemos converte-los de acordo com a seguinte fórmula:\n",
        "\n",
        "$$ Z = \\frac{x - \\mu}{\\sigma} $$\n",
        "\n",
        "Onde $x$ é um dado da nossa distribuição, $\\mu$ é a média desta distribuição e $\\sigma$ é o desvio padrão da distribuição.\n",
        "\n",
        "Vamos dividir o exercício nos seguintes itens:"
      ]
    },
    {
      "cell_type": "markdown",
      "metadata": {
        "id": "n3Q8C7_08yif"
      },
      "source": [
        "__1.1)__ Desenvolva uma função para calcular a média e o desvio padrão para uma lista de tamanho qualquer (1 ponto)"
      ]
    },
    {
      "cell_type": "code",
      "source": [
        "### FUNÇÃO #################################\n",
        "def med_devP(lista):\n",
        "  # Calculando a média\n",
        "  soma = 0\n",
        "  for i in lista:\n",
        "    soma += i\n",
        "  u = soma / len(lista)\n",
        "\n",
        "  # Calculando desvio padrão\n",
        "  somatorio_DP = 0\n",
        "  for x in lista:\n",
        "    somatorio_DP += (x - u)**2\n",
        "  devP = (somatorio_DP/(len(lista)-1))**0.5\n",
        "  return u, devP\n",
        "############################################\n",
        "# EXEMPLO #################################\n",
        "import random\n",
        "lista = random.sample(range(1, 101), 20)\n",
        "print(med_devP(lista))"
      ],
      "metadata": {
        "id": "Xftv4HWHfWhL",
        "colab": {
          "base_uri": "https://localhost:8080/"
        },
        "outputId": "5ca12dfe-b2a4-4a06-cad6-e12947a86b2e"
      },
      "execution_count": 1,
      "outputs": [
        {
          "output_type": "stream",
          "name": "stdout",
          "text": [
            "(51.45, 25.378140199786117)\n"
          ]
        }
      ]
    },
    {
      "cell_type": "markdown",
      "metadata": {
        "id": "-KE76F5h8yig"
      },
      "source": [
        "__1.2)__ Desenvolva uma função que faça a normalização segundo a formula do Z e retorne a lista de dados normalizados. (1 ponto)"
      ]
    },
    {
      "cell_type": "code",
      "execution_count": 5,
      "metadata": {
        "id": "_0KwYloK8yig",
        "colab": {
          "base_uri": "https://localhost:8080/"
        },
        "outputId": "cca08253-7bd4-4808-ef0a-a857a56bf890"
      },
      "outputs": [
        {
          "output_type": "stream",
          "name": "stdout",
          "text": [
            "[0.9279639805992747, -1.830315367254196, 0.2580961389777175, 0.29750012966133854, 0.5339240737630646, 1.5190238408535899, -1.751507385886954, 0.9673679712828958, -0.25415573990935564, 1.3220038874354847, -0.4905796840110817, -0.9240235815309128, 0.3763081110285805, 0.021672194875991445, -1.0816395442653968, -0.45117569332746066, -1.318063488367123, 0.06107618555961245, 0.5733280644466856, 1.2431959060682427]\n"
          ]
        }
      ],
      "source": [
        "### FUNÇÃO #################################\n",
        "def z_score(lista):\n",
        "  u, sigma = med_devP(lista) # Vide questão anterior onde mostra como esta função foi feita\n",
        "  z = []\n",
        "  for x in lista:\n",
        "    z.append((x-u)/sigma)\n",
        "  return z\n",
        "############################################\n",
        "# EXEMPLOS #################################\n",
        "# exemplo 0\n",
        "lista = random.sample(range(1, 101), 20)\n",
        "z = z_score(lista)\n",
        "print(z)\n",
        "\n",
        "# exemplo 1\n",
        "Vetor = [10, 7, 17, 2, 7, 9, 4, 10, 6, 11]\n",
        "# Resultado = [0.4081959811176985,\n",
        "# -0.31214986791353444,\n",
        "# 2.0890029621905755,\n",
        "# -1.5127262829655894,\n",
        "# -0.31214986791353444,\n",
        "# 0.1680806981072875,\n",
        "# -1.0324957169447675,\n",
        "# 0.4081959811176985,\n",
        "# -0.5522651509239455,\n",
        "# 0.6483112641281095]\n",
        "z = z_score(Vetor)\n",
        "print(z)\n",
        "\n",
        "# exemplo 2\n",
        "vetor = [3, 20, 14, 6, 4, 1]\n",
        "# resultado = [-0.675429033697874,\n",
        "# 1.6210296808748976,\n",
        "# 0.8105148404374488,\n",
        "# -0.2701716134791496,\n",
        "# -0.5403432269582992,\n",
        "# -0.9456006471770236]\n",
        "z = z_score(vetor)\n",
        "print(z)"
      ]
    },
    {
      "cell_type": "code",
      "source": [
        "# exemplo 1\n",
        "Vetor = [10, 7, 17, 2, 7, 9, 4, 10, 6, 11]\n",
        "# Resultado = [0.4081959811176985,\n",
        "# -0.31214986791353444,\n",
        "# 2.0890029621905755,\n",
        "# -1.5127262829655894,\n",
        "# -0.31214986791353444,\n",
        "# 0.1680806981072875,\n",
        "# -1.0324957169447675,\n",
        "# 0.4081959811176985,\n",
        "# -0.5522651509239455,\n",
        "# 0.6483112641281095]\n",
        "z = z_score(Vetor)\n",
        "print(z)"
      ],
      "metadata": {
        "colab": {
          "base_uri": "https://localhost:8080/"
        },
        "id": "qT_nWnMyPwBy",
        "outputId": "dc00f3b9-3b8e-4429-f382-ffc49da957c6"
      },
      "execution_count": 7,
      "outputs": [
        {
          "output_type": "stream",
          "name": "stdout",
          "text": [
            "[0.4081959811176985, -0.31214986791353444, 2.0890029621905755, -1.5127262829655894, -0.31214986791353444, 0.1680806981072875, -1.0324957169447675, 0.4081959811176985, -0.5522651509239455, 0.6483112641281095]\n"
          ]
        }
      ]
    },
    {
      "cell_type": "code",
      "source": [
        "# exemplo 2\n",
        "vetor = [3, 20, 14, 6, 4, 1]\n",
        "# resultado = [-0.675429033697874,\n",
        "# 1.6210296808748976,\n",
        "# 0.8105148404374488,\n",
        "# -0.2701716134791496,\n",
        "# -0.5403432269582992,\n",
        "# -0.9456006471770236]\n",
        "z = z_score(vetor)\n",
        "print(z)"
      ],
      "metadata": {
        "colab": {
          "base_uri": "https://localhost:8080/"
        },
        "id": "KORTZzp5QCPw",
        "outputId": "4720622f-38df-4a5c-9252-8e91b93b6a2e"
      },
      "execution_count": 8,
      "outputs": [
        {
          "output_type": "stream",
          "name": "stdout",
          "text": [
            "[-0.675429033697874, 1.6210296808748976, 0.8105148404374488, -0.2701716134791496, -0.5403432269582992, -0.9456006471770236]\n"
          ]
        }
      ]
    },
    {
      "cell_type": "markdown",
      "metadata": {
        "id": "mAgKrPsH8yig"
      },
      "source": [
        "__2)__ O _MinMaxScaler_ é uma técnica de reescalonamento de um conjunto de dados parecida com a normalização ou no caso Z-score. A diferença é que ao invés de utilizar média e desvio padrão, utiliza-se os valores extremos (máximo e mínino), segundo a equação a seguir:\n",
        "\n",
        "$$ S = \\frac{x - min}{max - min} $$\n",
        "\n",
        "Onde X é um determinado elemento da lista, $min$ é o menor valor da lista e $max$ e o maior valor da lista.\n",
        "\n",
        "Desenvolva uma função que ao receber uma lista de dados quaisquer converta para a escala segundo o _MinMaxScaler_ (2 pontos)"
      ]
    },
    {
      "cell_type": "code",
      "execution_count": 6,
      "metadata": {
        "id": "aOZep7sQ8yih",
        "colab": {
          "base_uri": "https://localhost:8080/"
        },
        "outputId": "b9c2c099-c7b8-4c48-a0da-d4a01422d3a4"
      },
      "outputs": [
        {
          "output_type": "stream",
          "name": "stdout",
          "text": [
            "[0.8235294117647058, 0.0, 0.6235294117647059, 0.6352941176470588, 0.7058823529411765, 1.0, 0.023529411764705882, 0.8352941176470589, 0.47058823529411764, 0.9411764705882353, 0.4, 0.27058823529411763, 0.6588235294117647, 0.5529411764705883, 0.2235294117647059, 0.4117647058823529, 0.15294117647058825, 0.5647058823529412, 0.7176470588235294, 0.9176470588235294]\n"
          ]
        }
      ],
      "source": [
        "### FUNÇÃO #################################\n",
        "def MinMaxScaler(lista):\n",
        "  s = []\n",
        "  max_s = max(lista)\n",
        "  min_s = min(lista)\n",
        "  for x in lista:\n",
        "    s.append((x - min_s)/(max_s - min_s))\n",
        "  return s\n",
        "############################################\n",
        "# EXEMPLOS #################################\n",
        "# Exemplo 0\n",
        "lista = random.sample(range(1, 101), 20)\n",
        "s = MinMaxScaler(lista)\n",
        "print(s)\n",
        "\n",
        "# Exemplo 1:\n",
        "Vetor = [15, 7, 16, 1, 3, 15, 17, 9, 11, 1]\n",
        "# Resultado = [0.875, 0.375, 0.9375, 0.0, 0.125, 0.875, 1.0, 0.5, 0.625, 0.0]\n",
        "s = MinMaxScaler(Vetor)\n",
        "print(s)"
      ]
    },
    {
      "cell_type": "code",
      "source": [
        "# Exemplo 1:\n",
        "Vetor = [15, 7, 16, 1, 3, 15, 17, 9, 11, 1]\n",
        "# Resultado = [0.875, 0.375, 0.9375, 0.0, 0.125, 0.875, 1.0, 0.5, 0.625, 0.0]\n",
        "\n",
        "s = MinMaxScaler(Vetor)\n",
        "print(s)"
      ],
      "metadata": {
        "colab": {
          "base_uri": "https://localhost:8080/"
        },
        "id": "Z86LIdSfQM3c",
        "outputId": "2076c7c0-e134-46a8-9064-38a1ee39b9b1"
      },
      "execution_count": 9,
      "outputs": [
        {
          "output_type": "stream",
          "name": "stdout",
          "text": [
            "[0.875, 0.375, 0.9375, 0.0, 0.125, 0.875, 1.0, 0.5, 0.625, 0.0]\n"
          ]
        }
      ]
    },
    {
      "cell_type": "markdown",
      "metadata": {
        "id": "2TdEq3bj8yih"
      },
      "source": [
        "__3)__ A regressão linear simples é uma ferramenta estatística onde dados um conjunto de dados x e y, o objetivo é encontrar a melhor equação de reta que descreve aquele conjunto de dados. Para aproximar  essa reta aos dados, pode-se seguir a equação abaixo para aproximar os coeficientes $\\beta_0$ e $\\beta_1$:\n",
        "\n",
        "<br>\n",
        "\n",
        "$$\n",
        "\\large\n",
        "\\begin{cases}\n",
        "\\hat{\\beta}_1=\\frac{\\sum_{i=1}^n (x_i- \\bar{x})(y_i - \\bar{y})}{\\sum_{i=1}^n (x_i - \\bar{x})^2} = \\frac{\\sigma_{xy}}{\\sigma_{xx}} = \\frac{covar(x, y)}{var(x)}\\\\\n",
        "\\hat{\\beta}_0= \\bar{y}-\\hat{\\beta_1}\\bar{x}\n",
        "\\end{cases}\n",
        "$$\n",
        "\n",
        "<br>\n",
        "\n",
        "Onde:\n",
        "- **Covariância** ou variância conjunta, que indica o grau de interdependência entre duas variáveis;\n",
        "- **Variância** é uam medida de o quão disperso está os dados, ou seja o quão distante está cada valor desse conjunto do valor médio;\n",
        "\n",
        "Desenvolva uma função `linear_regression` que recebe duas listas x e y e devolva os valores dos coeficientes $\\beta_0$ e $\\beta_1$ (2 pontos)"
      ]
    },
    {
      "cell_type": "code",
      "source": [
        "### FUNÇÕES #################################\n",
        "def media(lista):\n",
        "  soma = 0\n",
        "  for i in lista:\n",
        "    soma += i\n",
        "  return soma/len(lista)\n",
        "\n",
        "def linear_regression(x,y):\n",
        "  # Calculo das médias de x e y\n",
        "  x_bar = media(x)\n",
        "  y_bar = media(y)  \n",
        "\n",
        "  # Cálculo de Covariância e Variância\n",
        "  covar_xy = 0\n",
        "  var_x = 0\n",
        "  for i in range(len(x)):\n",
        "    covar_xy += (x[i] - x_bar)*(y[i] - y_bar)\n",
        "    var_x += (x[i] - x_bar) ** 2\n",
        "  \n",
        "  # Calculando coeficientes\n",
        "  beta1 = covar_xy / var_x\n",
        "  beta0 = y_bar - beta1*x_bar\n",
        "\n",
        "  return beta1, beta0\n",
        "############################################\n",
        "# EXEMPLOS #################################\n",
        "# Exemplo 0\n",
        "x = random.sample(range(1, 101), 20)\n",
        "y = random.sample(range(1, 101), 20)\n",
        "\n",
        "beta1, beta0 = linear_regression(x,y)\n",
        "print(f'beta1: {beta1}\\nbeta0: {beta0}')\n",
        "\n",
        "# Exemplo 1\n",
        "X = [ 0,  1,  2,  3,  4,  5,  6,  7,  8,  9, 10, 11, 12, 13, 14, 15, 16, 17, 18, 19]\n",
        "y = [-1.,  2.5,  2.,  4.5,  5.,  6.5,  8.,  8.5, 11., 10.5, 14., 12.5, 17., 14.5, 20., 16.5, 23., 18.5, 26., 20.5]\n",
        "# b_0 = 0.2857142857142865\n",
        "# b_1 = 1.2330827067669172\n",
        "\n",
        "beta1, beta0 = linear_regression(X,y)\n",
        "print(f'beta1: {beta1}\\nbeta0: {beta0}')\n",
        "\n",
        "# Exemplo 2\n",
        "X = [8, 9, 10, 3, 17, 19, 4, 8, 16, 10]\n",
        "y = [14, 1, 16, 15, 15, 11, 18, 20, 15, 10]\n",
        "# b_0 = 15.190402476780186\n",
        "# b_1 = -0.1625386996904025\n",
        "\n",
        "beta1, beta0 = linear_regression(X,y)\n",
        "print(f'beta1: {beta1}\\nbeta0: {beta0}')"
      ],
      "metadata": {
        "id": "T0Q15bakB7MH"
      },
      "execution_count": 13,
      "outputs": []
    },
    {
      "cell_type": "code",
      "execution_count": 16,
      "metadata": {
        "id": "tfzVbWon8yih",
        "colab": {
          "base_uri": "https://localhost:8080/"
        },
        "outputId": "a438ed27-cc64-4d65-e50e-5cc261c377b2"
      },
      "outputs": [
        {
          "output_type": "stream",
          "name": "stdout",
          "text": [
            "beta1: 0.19104526816805065\n",
            "beta0: 40.28967403622278\n"
          ]
        }
      ],
      "source": [
        "x = random.sample(range(1, 101), 20)\n",
        "y = random.sample(range(1, 101), 20)\n",
        "\n",
        "beta1, beta0 = linear_regression(x,y)\n",
        "print(f'beta1: {beta1}\\nbeta0: {beta0}')"
      ]
    },
    {
      "cell_type": "code",
      "source": [
        "# Exemplo 1\n",
        "X = [ 0,  1,  2,  3,  4,  5,  6,  7,  8,  9, 10, 11, 12, 13, 14, 15, 16, 17, 18, 19]\n",
        "y = [-1.,  2.5,  2.,  4.5,  5.,  6.5,  8.,  8.5, 11., 10.5, 14., 12.5, 17., 14.5, 20., 16.5, 23., 18.5, 26., 20.5]\n",
        "# b_0 = 0.2857142857142865\n",
        "# b_1 = 1.2330827067669172\n",
        "\n",
        "beta1, beta0 = linear_regression(X,y)\n",
        "print(f'beta1: {beta1}\\nbeta0: {beta0}')"
      ],
      "metadata": {
        "colab": {
          "base_uri": "https://localhost:8080/"
        },
        "id": "otQRHmiBQrZn",
        "outputId": "79fbcdb4-910f-4655-c90f-fabd48e21c0f"
      },
      "execution_count": 14,
      "outputs": [
        {
          "output_type": "stream",
          "name": "stdout",
          "text": [
            "beta1: 1.2330827067669172\n",
            "beta0: 0.2857142857142865\n"
          ]
        }
      ]
    },
    {
      "cell_type": "code",
      "source": [
        "# Exemplo 2\n",
        "X = [8, 9, 10, 3, 17, 19, 4, 8, 16, 10]\n",
        "y = [14, 1, 16, 15, 15, 11, 18, 20, 15, 10]\n",
        "# b_0 = 15.190402476780186\n",
        "# b_1 = -0.1625386996904025\n",
        "\n",
        "beta1, beta0 = linear_regression(X,y)\n",
        "print(f'beta1: {beta1}\\nbeta0: {beta0}')"
      ],
      "metadata": {
        "colab": {
          "base_uri": "https://localhost:8080/"
        },
        "id": "Q5lwKnKUQrPy",
        "outputId": "74daaa37-6578-460f-adbd-07b41c2dd716"
      },
      "execution_count": 15,
      "outputs": [
        {
          "output_type": "stream",
          "name": "stdout",
          "text": [
            "beta1: -0.1625386996904025\n",
            "beta0: 15.190402476780186\n"
          ]
        }
      ]
    },
    {
      "cell_type": "markdown",
      "metadata": {
        "id": "g7BY7TP48yii"
      },
      "source": [
        "Quando fala-se sobre métricas de posição, existem outras métricas além da média que ganham destaque, como por exemplo a __mediana__ e a __moda__\n",
        "\n",
        "__4.1)__ A **mediana** de uma variável é um número tal que há o mesmo número de observações maiores e menores do que ele, ocupando assim a **posição central** da série de observações.\n",
        "\n",
        "Assim, para calcularmos a mediana, basta **ordenarmos os dados, do menor pro maior**, e contar o que está no meio dos dados ordenados (se houver número par de dados, pega-se a média entre os dados que estão \"no meio\")\n",
        "\n",
        "- *Exemplo*\n",
        "\n",
        "i) 3,4,**7**,8,8 **mediana = 7**       (CASO ÍMPAR)\n",
        "\n",
        "ii) 3,4,**7**,**8**,8,9 **mediana = (7+8)/2 = 7,5**   (CASO PAR)\n",
        "\n",
        "<br>\n",
        "\n",
        "Logo, podemos definir: \n",
        "\n",
        "- Mediana de $X = X_{\\frac{n+1}{2}}$ `Se tamanho da amostra ímpar`\n",
        "\n",
        "\n",
        "- Mediana de $X = \\frac{X_{\\frac{n}{2}}+ X_{\\frac{n+1}{2}}}{2}$ `Se tamanho da amostra par`\n",
        "\n",
        "Desenvolva uma função que receba uma lista de tamanho qualquer e devolva o valor da mediana (1 ponto)"
      ]
    },
    {
      "cell_type": "code",
      "execution_count": 18,
      "metadata": {
        "id": "D-SZySji8yii"
      },
      "outputs": [],
      "source": [
        "### FUNÇÃO #################################\n",
        "def calc_mediana(lista):\n",
        "  X = sorted(lista)\n",
        "  n = len(X)\n",
        "  if n % 2 == 0:\n",
        "    casa1 = int(n/2)\n",
        "    casa2 = int(n/2) + 1\n",
        "    mediana = (X[casa1 - 1] + X[casa2 - 1]) / 2\n",
        "  else:\n",
        "    casa = int((n+1)/2)\n",
        "    mediana = X[casa-1]\n",
        "  return mediana\n",
        "############################################\n",
        "# EXEMPLOS #################################\n",
        "# Exemplo 0\n",
        "lista = [3, 4, 7, 8, 8, 9]\n",
        "mediana = calc_mediana(lista)\n",
        "print(f'Mediana: {mediana}')\n",
        "\n",
        "# Exemplo 1\n",
        "Vetor = [15, 3, 14, 8, 16, 3, 7, 9, 17, 1]\n",
        "# mediana = 8.5\n",
        "mediana = calc_mediana(Vetor)\n",
        "print(f'Mediana: {mediana}')\n",
        "\n",
        "# exemplo 2\n",
        "Vetor = [12, 5, 1, 16, 2, 19, 15, 18, 13, 2, 6]\n",
        "# mediana = 12\n",
        "mediana = calc_mediana(Vetor)\n",
        "print(f'Mediana: {mediana}')"
      ]
    },
    {
      "cell_type": "code",
      "source": [
        "# lista = random.sample(range(1, 101), 20)\n",
        "# lista = [3, 4, 7, 8, 8]\n",
        "lista = [3, 4, 7, 8, 8, 9]\n",
        "mediana = calc_mediana(lista)\n",
        "print(f'Mediana: {mediana}')"
      ],
      "metadata": {
        "colab": {
          "base_uri": "https://localhost:8080/"
        },
        "id": "HGULA62BJNjg",
        "outputId": "1bd13019-e723-449b-cec5-6ec8974cc5e6"
      },
      "execution_count": 19,
      "outputs": [
        {
          "output_type": "stream",
          "name": "stdout",
          "text": [
            "Mediana: 7.5\n"
          ]
        }
      ]
    },
    {
      "cell_type": "code",
      "source": [
        "# Exemplo 1\n",
        "Vetor = [15, 3, 14, 8, 16, 3, 7, 9, 17, 1]\n",
        "# mediana = 8.5\n",
        "\n",
        "mediana = calc_mediana(Vetor)\n",
        "print(f'Mediana: {mediana}')"
      ],
      "metadata": {
        "colab": {
          "base_uri": "https://localhost:8080/"
        },
        "id": "s2DCWvGARI0L",
        "outputId": "658a5e20-07fe-4aec-fd00-fe3e7c44e5e5"
      },
      "execution_count": 20,
      "outputs": [
        {
          "output_type": "stream",
          "name": "stdout",
          "text": [
            "Mediana: 8.5\n"
          ]
        }
      ]
    },
    {
      "cell_type": "code",
      "source": [
        "# exemplo 2\n",
        "Vetor = [12, 5, 1, 16, 2, 19, 15, 18, 13, 2, 6]\n",
        "# mediana = 12\n",
        "\n",
        "mediana = calc_mediana(Vetor)\n",
        "print(f'Mediana: {mediana}')"
      ],
      "metadata": {
        "colab": {
          "base_uri": "https://localhost:8080/"
        },
        "id": "sLjqK3eLRKH-",
        "outputId": "cdc5cf5b-fbcb-4c18-8627-dea3d4c1aed8"
      },
      "execution_count": 21,
      "outputs": [
        {
          "output_type": "stream",
          "name": "stdout",
          "text": [
            "Mediana: 12\n"
          ]
        }
      ]
    },
    {
      "cell_type": "markdown",
      "metadata": {
        "id": "Nu3KYePK8yii"
      },
      "source": [
        "__4.2)__ A **moda** é o valor que ocorre com **maior frequencia** em um conjunto de dados. Dependendo do conjunto de dados, ele pode ser:\n",
        "\n",
        "- Sem moda: quando nenhum valor se repete \n",
        "\n",
        "- unimodal: Quando existe apenas um valor repetido com maior frequência \n",
        "\n",
        "- multimodal: quando existem mais de um valor com a mesma frequência máxima\n",
        "\n",
        "Desenvolva uma função que receba uma lista de tamanho qualquer e devolva o valor da primeira moda, caso haja uma (1 ponto)"
      ]
    },
    {
      "cell_type": "code",
      "execution_count": 84,
      "metadata": {
        "id": "3uXPdEXS8yij"
      },
      "outputs": [],
      "source": [
        "### FUNÇÃO #################################\n",
        "def moda(lista):\n",
        "  X = sorted(lista)\n",
        "  n = len(X)\n",
        "  \n",
        "  # Primeiro bloco de for: feito para gerar uma lista relatando o valor e sua respectiva frequencia. Será impresso em tela para vizualização\n",
        "  freq = 0\n",
        "  rel_freq = []\n",
        "  for i in range(0, n):\n",
        "    for j in range(0,n):\n",
        "      if X[j] == X[i]:\n",
        "        freq += 1\n",
        "    rel_freq.append(freq)\n",
        "    freq = 0\n",
        "  \n",
        "  maior = max(rel_freq)\n",
        "\n",
        "  # Segundo bloco de for varre rel_freq e indica a(as) moda(as)\n",
        "  moda = []\n",
        "  for i, vlr in enumerate(rel_freq):\n",
        "    if ((vlr == maior) and (X[i] not in moda)):\n",
        "      moda.append(X[i])\n",
        "\n",
        "  print(f'Lista ordenada: {X}')\n",
        "  print(f'Lista frequências: {rel_freq}')\n",
        "  \n",
        "  if maior == 1:\n",
        "    return None\n",
        "  else:\n",
        "    return moda\n",
        "############################################\n",
        "# EXEMPLOS #################################\n",
        "# Exemplo 0\n",
        "# USAR RANDOM SAMPLE GERA VALORES ÚNICOS! SERÁ UTILIZADO FOR DE RANDINT PARA POSSIBILITAR AQUISIÇÃO DE VALORES REPETIDOS\n",
        "lista = random.sample(range(1, 101), 20)\n",
        "\n",
        "modas = moda(lista)\n",
        "print(f'Lista: {lista}\\nModa(s): {modas}')\n",
        "\n",
        "# Exemplo 1\n",
        "import random\n",
        "lista = []\n",
        "for _ in range(20):\n",
        "  lista.append(random.randint(1, 11))\n",
        "modas = moda(lista)\n",
        "print(f'Lista: {lista}\\nModa(s): {modas}')\n",
        "\n",
        "# Exemplo 2\n",
        "Vetor = [5, 4, 3, 4, 20, 17, 5, 14, 13, 18, 4, 1]\n",
        "# Moda = 4\n",
        "modas = moda(Vetor)\n",
        "print(f'Lista: {Vetor}\\nModa(s): {modas}')\n",
        "\n",
        "# Exemplo 3\n",
        "Vetor = [18, 7, 1, 19, 3, 3, 19, 14, 11, 20, 6, 2]\n",
        "# Moda = 3 (e 19)\n",
        "modas = moda(Vetor)\n",
        "print(f'Lista: {Vetor}\\nModa(s): {modas}')"
      ]
    },
    {
      "cell_type": "code",
      "source": [
        "# USAR RANDOM SAMPLE GERA VALORES ÚNICOS! SERÁ UTILIZADO FOR DE RANDINT PARA POSSIBILITAR AQUISIÇÃO DE VALORES REPETIDOS\n",
        "lista = random.sample(range(1, 101), 20)\n",
        "\n",
        "modas = moda(lista)\n",
        "print(f'Lista: {lista}\\nModa(s): {modas}')"
      ],
      "metadata": {
        "colab": {
          "base_uri": "https://localhost:8080/"
        },
        "id": "2cPZziYZn1_O",
        "outputId": "0e118451-ec13-41ec-9f88-f50e5db803d4"
      },
      "execution_count": 85,
      "outputs": [
        {
          "output_type": "stream",
          "name": "stdout",
          "text": [
            "Lista ordenada: [4, 8, 11, 26, 27, 28, 32, 35, 37, 41, 43, 47, 56, 72, 73, 76, 77, 92, 94, 95]\n",
            "Lista frequências: [1, 1, 1, 1, 1, 1, 1, 1, 1, 1, 1, 1, 1, 1, 1, 1, 1, 1, 1, 1]\n",
            "Lista: [56, 72, 4, 94, 41, 73, 47, 28, 11, 95, 43, 8, 35, 32, 26, 77, 27, 37, 76, 92]\n",
            "Moda(s): None\n"
          ]
        }
      ]
    },
    {
      "cell_type": "code",
      "source": [
        "import random\n",
        "lista = []\n",
        "for _ in range(20):\n",
        "  lista.append(random.randint(1, 11))\n",
        "\n",
        "modas = moda(lista)\n",
        "print(f'Lista: {lista}\\nModa(s): {modas}')"
      ],
      "metadata": {
        "id": "m8yN_p9cQzDk",
        "outputId": "aa7182f5-ee44-4cdf-8069-3701b43ff4c3",
        "colab": {
          "base_uri": "https://localhost:8080/"
        }
      },
      "execution_count": 86,
      "outputs": [
        {
          "output_type": "stream",
          "name": "stdout",
          "text": [
            "Lista ordenada: [1, 1, 1, 2, 2, 2, 3, 5, 5, 5, 6, 8, 8, 9, 9, 10, 10, 11, 11, 11]\n",
            "Lista frequências: [3, 3, 3, 3, 3, 3, 1, 3, 3, 3, 1, 2, 2, 2, 2, 2, 2, 3, 3, 3]\n",
            "Lista: [9, 2, 11, 10, 11, 8, 6, 10, 8, 1, 11, 1, 5, 9, 1, 5, 5, 2, 3, 2]\n",
            "Moda(s): [1, 2, 5, 11]\n"
          ]
        }
      ]
    },
    {
      "cell_type": "code",
      "source": [
        "# Exemplo 1\n",
        "Vetor = [5, 4, 3, 4, 20, 17, 5, 14, 13, 18, 4, 1]\n",
        "# Moda = 4\n",
        "\n",
        "modas = moda(Vetor)\n",
        "print(f'Lista: {Vetor}\\nModa(s): {modas}')"
      ],
      "metadata": {
        "colab": {
          "base_uri": "https://localhost:8080/"
        },
        "id": "VgM9d7xORfFu",
        "outputId": "7419f66b-3970-4b5a-f4bb-b8f7d63f3690"
      },
      "execution_count": 87,
      "outputs": [
        {
          "output_type": "stream",
          "name": "stdout",
          "text": [
            "Lista ordenada: [1, 3, 4, 4, 4, 5, 5, 13, 14, 17, 18, 20]\n",
            "Lista frequências: [1, 1, 3, 3, 3, 2, 2, 1, 1, 1, 1, 1]\n",
            "Lista: [5, 4, 3, 4, 20, 17, 5, 14, 13, 18, 4, 1]\n",
            "Moda(s): [4]\n"
          ]
        }
      ]
    },
    {
      "cell_type": "code",
      "source": [
        "# Exemplo 2\n",
        "Vetor = [18, 7, 1, 19, 3, 3, 19, 14, 11, 20, 6, 2]\n",
        "# Moda = 3 (e 19)\n",
        "\n",
        "modas = moda(Vetor)\n",
        "print(f'Lista: {Vetor}\\nModa(s): {modas}')"
      ],
      "metadata": {
        "colab": {
          "base_uri": "https://localhost:8080/"
        },
        "id": "l0xMK0zeRe5l",
        "outputId": "d1d4c7f3-c222-4205-b70e-9e3b50afc5cd"
      },
      "execution_count": 88,
      "outputs": [
        {
          "output_type": "stream",
          "name": "stdout",
          "text": [
            "Lista ordenada: [1, 2, 3, 3, 6, 7, 11, 14, 18, 19, 19, 20]\n",
            "Lista frequências: [1, 1, 2, 2, 1, 1, 1, 1, 1, 2, 2, 1]\n",
            "Lista: [18, 7, 1, 19, 3, 3, 19, 14, 11, 20, 6, 2]\n",
            "Moda(s): [3, 19]\n"
          ]
        }
      ]
    },
    {
      "cell_type": "markdown",
      "metadata": {
        "id": "npHgt37c8yij"
      },
      "source": [
        "__5)__ Vamos repetir o exercício da distância euclidiana mas agora para o caso de um vetor n dimensional. Ou seja, dados os pontos A e B, temos que:\n",
        "\n",
        "<br>\n",
        "\n",
        "$$ d = \\sqrt{(x_{1,A} - x_{1,B})^2 + (x_{2,A} - x_{2,B})^2 + (x_{3,A} - x_{3,B})^2 + ... + (x_{n,A} - x_{n,B})^2}$$\n",
        "\n",
        "<br>\n",
        "\n",
        "Então dada a equação da distância euclidiana n-dimensional, desenvolva uma função que receba dois vetores distintos A e B com a mesma quantidade de elementos e calcule a distância euclidiana entre eles (2 pontos)"
      ]
    },
    {
      "cell_type": "code",
      "source": [
        "### FUNÇÃO #################################\n",
        "def dist_eucli(A, B):\n",
        "  somatorio = 0\n",
        "  for i in range(len(A)):\n",
        "    somatorio += (A[i] - B[i])**2\n",
        "  d = somatorio ** 0.5\n",
        "  return d\n",
        "############################################\n",
        "# EXEMPLOS #################################\n",
        "# Exemplo 0\n",
        "A = random.sample(range(1, 101), 20)\n",
        "B = random.sample(range(1, 101), 20)\n",
        "d = dist_eucli(A, B)\n",
        "print(f'Distância euclidiana: {d}')\n",
        "\n",
        "# Exemplo 1\n",
        "A = [1, 11, 20, 18, 16, 3, 5, 5, 18, 3, 18, 13]\n",
        "B = [15, 3, 1, 19, 14, 14, 3, 20, 19, 17, 2, 12]\n",
        "# d = 37.815340802378074\n",
        "d = dist_eucli(A, B)\n",
        "print(f'Distância euclidiana: {d}')\n",
        "\n",
        "# Exemplo 2\n",
        "A = [17, 11, 18, 20, 17, 13, 3, 19, 17, 16, 15, 15, 6, 17, 12, 8, 18, 15, 5, 10]\n",
        "B = [10, 4, 10, 13, 6, 7, 2, 15, 15, 10, 10, 2, 3, 18, 1, 16, 16, 1, 5, 3]\n",
        "# d = 32.60368077380221\n",
        "d = dist_eucli(A, B)\n",
        "print(f'Distância euclidiana: {d}')"
      ],
      "metadata": {
        "id": "aF8rjXC1OtSz"
      },
      "execution_count": 27,
      "outputs": []
    },
    {
      "cell_type": "code",
      "execution_count": 28,
      "metadata": {
        "id": "_Dlkhm6v8yij",
        "colab": {
          "base_uri": "https://localhost:8080/"
        },
        "outputId": "e8d66bb5-8b47-4385-ebca-8d112bcd9a38"
      },
      "outputs": [
        {
          "output_type": "stream",
          "name": "stdout",
          "text": [
            "Distância euclidiana: 236.07202290826416\n"
          ]
        }
      ],
      "source": [
        "A = random.sample(range(1, 101), 20)\n",
        "B = random.sample(range(1, 101), 20)\n",
        "\n",
        "d = dist_eucli(A, B)\n",
        "print(f'Distância euclidiana: {d}')"
      ]
    },
    {
      "cell_type": "code",
      "source": [
        "# Exemplo 1\n",
        "A = [1, 11, 20, 18, 16, 3, 5, 5, 18, 3, 18, 13]\n",
        "B = [15, 3, 1, 19, 14, 14, 3, 20, 19, 17, 2, 12]\n",
        "# d = 37.815340802378074\n",
        "\n",
        "d = dist_eucli(A, B)\n",
        "print(f'Distância euclidiana: {d}')"
      ],
      "metadata": {
        "colab": {
          "base_uri": "https://localhost:8080/"
        },
        "id": "Ep1aXyapSFrY",
        "outputId": "0024920e-3de4-46c7-f077-c33d3bfa687b"
      },
      "execution_count": 29,
      "outputs": [
        {
          "output_type": "stream",
          "name": "stdout",
          "text": [
            "Distância euclidiana: 37.815340802378074\n"
          ]
        }
      ]
    },
    {
      "cell_type": "code",
      "source": [
        "# Exemplo 2\n",
        "A = [17, 11, 18, 20, 17, 13, 3, 19, 17, 16, 15, 15, 6, 17, 12, 8, 18, 15, 5, 10]\n",
        "B = [10, 4, 10, 13, 6, 7, 2, 15, 15, 10, 10, 2, 3, 18, 1, 16, 16, 1, 5, 3]\n",
        "# d = 32.60368077380221\n",
        "\n",
        "d = dist_eucli(A, B)\n",
        "print(f'Distância euclidiana: {d}')"
      ],
      "metadata": {
        "colab": {
          "base_uri": "https://localhost:8080/"
        },
        "id": "awa5LsvVSFib",
        "outputId": "e2e08683-16b2-4884-ca18-c4790ed01c75"
      },
      "execution_count": 30,
      "outputs": [
        {
          "output_type": "stream",
          "name": "stdout",
          "text": [
            "Distância euclidiana: 32.60368077380221\n"
          ]
        }
      ]
    }
  ],
  "metadata": {
    "colab": {
      "collapsed_sections": [
        "lJZFySIgtmBr",
        "hNe7Z9KMtuFG",
        "k-apXhuvuHtX",
        "dDIr4hJ8uOi0",
        "7HI0YooWu6xm",
        "0K_xNqefu87X",
        "QNPNw5nwvrmh",
        "msYqsmkgwXg0"
      ],
      "provenance": []
    },
    "kernelspec": {
      "display_name": "Python 3 (ipykernel)",
      "language": "python",
      "name": "python3"
    },
    "language_info": {
      "codemirror_mode": {
        "name": "ipython",
        "version": 3
      },
      "file_extension": ".py",
      "mimetype": "text/x-python",
      "name": "python",
      "nbconvert_exporter": "python",
      "pygments_lexer": "ipython3",
      "version": "3.9.12"
    }
  },
  "nbformat": 4,
  "nbformat_minor": 0
}
