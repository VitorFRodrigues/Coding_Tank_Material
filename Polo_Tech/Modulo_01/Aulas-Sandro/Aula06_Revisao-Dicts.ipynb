{
 "cells": [
  {
   "cell_type": "markdown",
   "id": "02bc5165",
   "metadata": {},
   "source": [
    "## Aula 06 - Revisão Exercícios e Dicionários\n",
    "\n",
    "Nesta aula, serão discutidos os seguintes tópicos:\n",
    "- Revisão dos Exercícios;\n",
    "- Dicionários;\n",
    "- Funções para Dicionários."
   ]
  },
  {
   "cell_type": "markdown",
   "id": "3f784db9",
   "metadata": {},
   "source": [
    "## "
   ]
  },
  {
   "cell_type": "markdown",
   "id": "1222d883",
   "metadata": {},
   "source": [
    "## 1. Revisão Exercícios"
   ]
  },
  {
   "cell_type": "markdown",
   "id": "549bc01b",
   "metadata": {},
   "source": [
    "## Lista 4"
   ]
  },
  {
   "cell_type": "markdown",
   "id": "e1d92070",
   "metadata": {},
   "source": [
    "__1)__ Normalização de Dados, também conhecido na estatística como Z-Score, é quando temos uma distribuição de dados quaisquer em determinada escala e gostariamos de converter-los para uma distribuição com o comportamento de uma distrbuição Normal (também conhecida como Gaussiana).\n",
    "\n",
    "Para fazer a normalização dos dados devemos converte-los de acordo com a seguinte fórmula:\n",
    "\n",
    "$$ Z = \\frac{x - \\mu}{\\sigma} $$\n",
    "\n",
    "Onde $x$ é um dado da nossa distribuição, $\\mu$ é a média desta distribuição e $\\sigma$ é o desvio padrão da distribuição.\n",
    "\n",
    "Vamos dividir o exercício nos seguintes itens:"
   ]
  },
  {
   "cell_type": "markdown",
   "id": "af9f5542",
   "metadata": {},
   "source": [
    "__1.1)__ Desenvolva uma função para calcular a média e o desvio padrão para uma lista de tamanho qualquer (1 ponto)"
   ]
  },
  {
   "cell_type": "code",
   "execution_count": null,
   "id": "c4006e81",
   "metadata": {},
   "outputs": [],
   "source": [
    "import random"
   ]
  },
  {
   "cell_type": "code",
   "execution_count": null,
   "id": "111f56bc",
   "metadata": {},
   "outputs": [],
   "source": [
    "# Quantidade de elementos na lista\n",
    "n = 10\n",
    "\n",
    "lista_aleatoria = []\n",
    "\n",
    "for i in range(n):\n",
    "    num_random = random.randint(1, 20)\n",
    "    lista_aleatoria.append(num_random)\n",
    "    \n",
    "lista_aleatoria"
   ]
  },
  {
   "cell_type": "code",
   "execution_count": null,
   "id": "a36d25f4",
   "metadata": {},
   "outputs": [],
   "source": []
  },
  {
   "cell_type": "markdown",
   "id": "a9255484",
   "metadata": {},
   "source": [
    "__1.2)__ Desenvolva uma função que faça a normalização segundo a formula do Z e retorne a lista de dados normalizados. (1 ponto)"
   ]
  },
  {
   "cell_type": "code",
   "execution_count": null,
   "id": "8d0d555c",
   "metadata": {},
   "outputs": [],
   "source": [
    "# exemplo 1\n",
    "# Vetor = [10, 7, 17, 2, 7, 9, 4, 10, 6, 11]\n",
    "# Resultado = [0.4081959811176985,\n",
    "# -0.31214986791353444,\n",
    "# 2.0890029621905755,\n",
    "# -1.5127262829655894,\n",
    "# -0.31214986791353444,\n",
    "# 0.1680806981072875,\n",
    "# -1.0324957169447675,\n",
    "# 0.4081959811176985,\n",
    "# -0.5522651509239455,\n",
    "# 0.6483112641281095]"
   ]
  },
  {
   "cell_type": "code",
   "execution_count": null,
   "id": "660dd51e",
   "metadata": {},
   "outputs": [],
   "source": [
    "# exemplo 2\n",
    "# vetor = [3, 20, 14, 6, 4, 1]\n",
    "# resultado = [-0.675429033697874,\n",
    "# 1.6210296808748976,\n",
    "# 0.8105148404374488,\n",
    "# -0.2701716134791496,\n",
    "# -0.5403432269582992,\n",
    "# -0.9456006471770236]"
   ]
  },
  {
   "cell_type": "code",
   "execution_count": null,
   "id": "c6e88275",
   "metadata": {},
   "outputs": [],
   "source": []
  },
  {
   "cell_type": "code",
   "execution_count": null,
   "id": "80c0309a",
   "metadata": {},
   "outputs": [],
   "source": []
  },
  {
   "cell_type": "markdown",
   "id": "614aec7d",
   "metadata": {},
   "source": [
    "__3)__ A regressão linear simples é uma ferramenta estatística onde dados um conjunto de dados x e y, o objetivo é encontrar a melhor equação de reta que descreve aquele conjunto de dados. Para aproximar  essa reta aos dados, pode-se seguir a equação abaixo para aproximar os coeficientes $\\beta_0$ e $\\beta_1$:\n",
    "\n",
    "<br>\n",
    "\n",
    "$$\n",
    "\\large\n",
    "\\begin{cases}\n",
    "\\hat{\\beta}_1=\\frac{\\sum_{i=1}^n (x_i- \\bar{x})(y_i - \\bar{y})}{\\sum_{i=1}^n (x_i - \\bar{x})^2} = \\frac{\\sigma_{xy}}{\\sigma_{xx}} = \\frac{covar(x, y)}{var(x)}\\\\\n",
    "\\hat{\\beta}_0= \\bar{y}-\\hat{\\beta_1}\\bar{x}\n",
    "\\end{cases}\n",
    "$$\n",
    "\n",
    "<br>\n",
    "\n",
    "Onde:\n",
    "- **Covariância** ou variância conjunta, que indica o grau de interdependência entre duas variáveis;\n",
    "- **Variância** é uam medida de o quão disperso está os dados, ou seja o quão distante está cada valor desse conjunto do valor médio;\n",
    "\n",
    "Desenvolva uma função `linear_regression` que recebe duas listas x e y e devolva os valores dos coeficientes $\\beta_0$ e $\\beta_1$ (2 pontos)"
   ]
  },
  {
   "cell_type": "code",
   "execution_count": null,
   "id": "ad34079c",
   "metadata": {},
   "outputs": [],
   "source": [
    "# Exemplo 1\n",
    "# X = [ 0,  1,  2,  3,  4,  5,  6,  7,  8,  9, 10, 11, 12, 13, 14, 15, 16, 17, 18, 19]\n",
    "# y = [-1.,  2.5,  2.,  4.5,  5.,  6.5,  8.,  8.5, 11., 10.5, 14., 12.5, 17., 14.5, 20., 16.5, 23., 18.5, 26., 20.5]\n",
    "# b_0 = 0.2857142857142865\n",
    "# b_1 = 1.2330827067669172\n",
    "\n",
    "# Exemplo 2\n",
    "# X = [8, 9, 10, 3, 17, 19, 4, 8, 16, 10]\n",
    "# y = [14, 1, 16, 15, 15, 11, 18, 20, 15, 10]\n",
    "# b_0 = 15.190402476780186\n",
    "# b_1 = -0.1625386996904025"
   ]
  },
  {
   "cell_type": "code",
   "execution_count": null,
   "id": "e5cb8eb7",
   "metadata": {},
   "outputs": [],
   "source": []
  },
  {
   "cell_type": "code",
   "execution_count": null,
   "id": "18dd37ee",
   "metadata": {},
   "outputs": [],
   "source": []
  },
  {
   "cell_type": "markdown",
   "id": "d626f644",
   "metadata": {},
   "source": [
    "## "
   ]
  },
  {
   "cell_type": "markdown",
   "id": "461651d7",
   "metadata": {},
   "source": [
    "## 2. Dicionários"
   ]
  },
  {
   "cell_type": "markdown",
   "id": "62da181e",
   "metadata": {},
   "source": [
    "Assim como as listas, os __dicionários__ são coleções de objeto do _Python_, onde pode-se dizer que sua organização é de forma não ordenada (lembra bastante a estrutura do _json_). Os dicionários dividem-se em basicamente dois elementos na estrutura:\n",
    "\n",
    "- __chaves__ (_keys_ em inglês) : elemento de indexação dentro do dicionários onde cada chave aciona e posiciona um elemento dentro do dicionário;\n",
    "- __valores__ (_values_ em inglês) : são os valores armazenados no dicionário podendo ser na forma de inteiros, _strings_, listas, dicionários e etc.\n",
    "\n",
    "O dicionário têm uma síntaxe um pouco diferente , onde atribui-se chaves para a sua determinas {}:\n",
    "\n",
    "<br>\n",
    "\n",
    "```python\n",
    "dict = {'key': 'value'}\n",
    "```\n",
    "\n",
    "<br>\n",
    "\n",
    "Exemplos:"
   ]
  },
  {
   "cell_type": "code",
   "execution_count": null,
   "id": "27166f89",
   "metadata": {},
   "outputs": [],
   "source": []
  },
  {
   "cell_type": "code",
   "execution_count": null,
   "id": "441828a2",
   "metadata": {},
   "outputs": [],
   "source": []
  },
  {
   "cell_type": "markdown",
   "id": "12ae88ec",
   "metadata": {},
   "source": [
    "## "
   ]
  },
  {
   "cell_type": "markdown",
   "id": "fad753f3",
   "metadata": {},
   "source": [
    "### Construindo Dicionários\n",
    "\n",
    "Vamos ver algumas formas de construir os dicionários:\n",
    "\n",
    "- Força simples e direta utilizando Chaves `{}`:\n"
   ]
  },
  {
   "cell_type": "code",
   "execution_count": null,
   "id": "e08651bd",
   "metadata": {},
   "outputs": [],
   "source": []
  },
  {
   "cell_type": "code",
   "execution_count": null,
   "id": "894d4321",
   "metadata": {},
   "outputs": [],
   "source": []
  },
  {
   "cell_type": "markdown",
   "id": "7e9f5fa7",
   "metadata": {},
   "source": [
    "- Usando a função `dict` nativa do próprio _Python_:"
   ]
  },
  {
   "cell_type": "code",
   "execution_count": null,
   "id": "0a1de7d4",
   "metadata": {},
   "outputs": [],
   "source": []
  },
  {
   "cell_type": "code",
   "execution_count": null,
   "id": "3e6b0f43",
   "metadata": {},
   "outputs": [],
   "source": []
  },
  {
   "cell_type": "markdown",
   "id": "294329d6",
   "metadata": {},
   "source": [
    "- Utilizando o combinado da função `dict` com `zip` para agregar chave valores:"
   ]
  },
  {
   "cell_type": "code",
   "execution_count": null,
   "id": "7a49e67a",
   "metadata": {},
   "outputs": [],
   "source": []
  },
  {
   "cell_type": "code",
   "execution_count": null,
   "id": "372e23d7",
   "metadata": {},
   "outputs": [],
   "source": []
  },
  {
   "cell_type": "markdown",
   "id": "15d40de3",
   "metadata": {},
   "source": [
    "- Por fim, passando uma lista de tuplas para identificar os pares de valores:"
   ]
  },
  {
   "cell_type": "code",
   "execution_count": null,
   "id": "24ae9b06",
   "metadata": {},
   "outputs": [],
   "source": []
  },
  {
   "cell_type": "code",
   "execution_count": null,
   "id": "f13b2b6a",
   "metadata": {},
   "outputs": [],
   "source": []
  },
  {
   "cell_type": "markdown",
   "id": "a4315a0e",
   "metadata": {},
   "source": [
    "## "
   ]
  },
  {
   "cell_type": "markdown",
   "id": "5e635ec6",
   "metadata": {},
   "source": [
    "### Acessando elemento do Dicionário"
   ]
  },
  {
   "cell_type": "markdown",
   "id": "bd54ac26",
   "metadata": {},
   "source": [
    "Os valores podem facilmente ser acessados nos dicionários través de suas chaves:"
   ]
  },
  {
   "cell_type": "code",
   "execution_count": null,
   "id": "9ac8940d",
   "metadata": {},
   "outputs": [],
   "source": []
  },
  {
   "cell_type": "code",
   "execution_count": null,
   "id": "79649d82",
   "metadata": {},
   "outputs": [],
   "source": []
  },
  {
   "cell_type": "code",
   "execution_count": null,
   "id": "6066e557",
   "metadata": {},
   "outputs": [],
   "source": []
  },
  {
   "cell_type": "code",
   "execution_count": null,
   "id": "447fda2a",
   "metadata": {},
   "outputs": [],
   "source": []
  },
  {
   "cell_type": "code",
   "execution_count": null,
   "id": "e4c91fc5",
   "metadata": {},
   "outputs": [],
   "source": []
  },
  {
   "cell_type": "markdown",
   "id": "b988f3d9",
   "metadata": {},
   "source": [
    "Qando uma lista é atribuída a uma chave de um dicionário, após consultar a chave, pode-se acessar os valores da listas usando as propriedades das próprias listas:"
   ]
  },
  {
   "cell_type": "code",
   "execution_count": null,
   "id": "be6c88a9",
   "metadata": {},
   "outputs": [],
   "source": []
  },
  {
   "cell_type": "code",
   "execution_count": null,
   "id": "1898e41f",
   "metadata": {},
   "outputs": [],
   "source": []
  },
  {
   "cell_type": "markdown",
   "id": "6ca73b59",
   "metadata": {},
   "source": [
    "Outra forma que pode-se acessar os elementos a partir da chave de um dicionário, e utilizando a função `get`:"
   ]
  },
  {
   "cell_type": "code",
   "execution_count": null,
   "id": "8245ad9f",
   "metadata": {},
   "outputs": [],
   "source": []
  },
  {
   "cell_type": "markdown",
   "id": "d4e68bcc",
   "metadata": {},
   "source": [
    "Pode-se também definir um valor _default_ para caso a chave não seja encontrada: "
   ]
  },
  {
   "cell_type": "code",
   "execution_count": null,
   "id": "a340ed27",
   "metadata": {},
   "outputs": [],
   "source": []
  },
  {
   "cell_type": "markdown",
   "id": "26a6fc9c",
   "metadata": {},
   "source": [
    "## "
   ]
  },
  {
   "cell_type": "markdown",
   "id": "32388a1a",
   "metadata": {},
   "source": [
    "## 2. Funções para Dicionários\n",
    "\n",
    "\n",
    "### Função keys e values\n",
    "\n",
    "A função `keys` e `values` retorna os respectivos elementos de chaves e valores contidos no dicionários:"
   ]
  },
  {
   "cell_type": "code",
   "execution_count": null,
   "id": "c5c2c9b4",
   "metadata": {},
   "outputs": [],
   "source": []
  },
  {
   "cell_type": "code",
   "execution_count": null,
   "id": "43b8bf4a",
   "metadata": {},
   "outputs": [],
   "source": []
  },
  {
   "cell_type": "code",
   "execution_count": null,
   "id": "8fab1aef",
   "metadata": {},
   "outputs": [],
   "source": []
  },
  {
   "cell_type": "markdown",
   "id": "63dded9c",
   "metadata": {},
   "source": [
    "E de forma análoga ao utilizado em listas pode-se gerar malhas de repetições utilizando das chaves e valores"
   ]
  },
  {
   "cell_type": "code",
   "execution_count": null,
   "id": "c333c8d2",
   "metadata": {},
   "outputs": [],
   "source": []
  },
  {
   "cell_type": "code",
   "execution_count": null,
   "id": "12f9cfda",
   "metadata": {},
   "outputs": [],
   "source": []
  },
  {
   "cell_type": "markdown",
   "id": "3316e2a7",
   "metadata": {},
   "source": [
    "E também utilizando a função `items` que devolve a tupla entre cada chave e valor relacionados nos dicionários:"
   ]
  },
  {
   "cell_type": "code",
   "execution_count": null,
   "id": "acf0d9a2",
   "metadata": {},
   "outputs": [],
   "source": []
  },
  {
   "cell_type": "markdown",
   "id": "c9e6e19e",
   "metadata": {},
   "source": [
    "Novamente, de maneira análoga pode-se fazer o desempacotamento de tuplas utilizando o _for_:"
   ]
  },
  {
   "cell_type": "code",
   "execution_count": null,
   "id": "24574fb1",
   "metadata": {},
   "outputs": [],
   "source": []
  },
  {
   "cell_type": "markdown",
   "id": "0316c58e",
   "metadata": {},
   "source": [
    "Como boas práticas na utilização de cionários, uma maneira segura de utilizar uma chave e/ou valor dentro de um dicionário e primeiramente garantir se existe esses elementos:"
   ]
  },
  {
   "cell_type": "code",
   "execution_count": null,
   "id": "1a7c3f9b",
   "metadata": {},
   "outputs": [],
   "source": []
  },
  {
   "cell_type": "markdown",
   "id": "0b8fecdc",
   "metadata": {},
   "source": [
    "## "
   ]
  },
  {
   "cell_type": "markdown",
   "id": "916a6f5f",
   "metadata": {},
   "source": [
    "### update - Adicionando e atualizando elementos no dicionário\n",
    "\n",
    "A forma mais simples e direta para isto, e chamar a própria chave e alterar um determinado valor:"
   ]
  },
  {
   "cell_type": "code",
   "execution_count": null,
   "id": "4786e7ec",
   "metadata": {},
   "outputs": [],
   "source": []
  },
  {
   "cell_type": "code",
   "execution_count": null,
   "id": "ecb7eb4e",
   "metadata": {},
   "outputs": [],
   "source": []
  },
  {
   "cell_type": "code",
   "execution_count": null,
   "id": "25d40cf0",
   "metadata": {},
   "outputs": [],
   "source": []
  },
  {
   "cell_type": "code",
   "execution_count": null,
   "id": "bc4a2cdd",
   "metadata": {},
   "outputs": [],
   "source": []
  },
  {
   "cell_type": "code",
   "execution_count": null,
   "id": "c07987a9",
   "metadata": {},
   "outputs": [],
   "source": []
  },
  {
   "cell_type": "code",
   "execution_count": null,
   "id": "2e3b5643",
   "metadata": {},
   "outputs": [],
   "source": []
  },
  {
   "cell_type": "code",
   "execution_count": null,
   "id": "1e869a8e",
   "metadata": {},
   "outputs": [],
   "source": []
  },
  {
   "cell_type": "markdown",
   "id": "cc71f921",
   "metadata": {},
   "source": [
    "Também é igualmente válido utilizar a função `update` para alterar e adicionar elmentos ao dicionário:"
   ]
  },
  {
   "cell_type": "code",
   "execution_count": null,
   "id": "b7f36bb6",
   "metadata": {},
   "outputs": [],
   "source": []
  },
  {
   "cell_type": "code",
   "execution_count": null,
   "id": "4309e91e",
   "metadata": {},
   "outputs": [],
   "source": []
  },
  {
   "cell_type": "code",
   "execution_count": null,
   "id": "173e5aca",
   "metadata": {},
   "outputs": [],
   "source": []
  },
  {
   "cell_type": "code",
   "execution_count": null,
   "id": "f83c9f0c",
   "metadata": {},
   "outputs": [],
   "source": []
  },
  {
   "cell_type": "code",
   "execution_count": null,
   "id": "e0562c6b",
   "metadata": {},
   "outputs": [],
   "source": []
  },
  {
   "cell_type": "code",
   "execution_count": null,
   "id": "84ceb697",
   "metadata": {},
   "outputs": [],
   "source": []
  },
  {
   "cell_type": "markdown",
   "id": "5f11e9be",
   "metadata": {},
   "source": [
    "## "
   ]
  },
  {
   "cell_type": "markdown",
   "id": "7b6b92db",
   "metadata": {},
   "source": [
    "###  Removendo elementos do dicionario\n",
    "\n",
    "Algumas das maneiras de remover elementos de um dicionário são:"
   ]
  },
  {
   "cell_type": "markdown",
   "id": "edd3d105",
   "metadata": {},
   "source": [
    " - utilizando a função do _Python_ `del`:"
   ]
  },
  {
   "cell_type": "code",
   "execution_count": null,
   "id": "6c6b508b",
   "metadata": {},
   "outputs": [],
   "source": []
  },
  {
   "cell_type": "code",
   "execution_count": null,
   "id": "9117b0ed",
   "metadata": {},
   "outputs": [],
   "source": []
  },
  {
   "cell_type": "code",
   "execution_count": null,
   "id": "2fe970ad",
   "metadata": {},
   "outputs": [],
   "source": []
  },
  {
   "cell_type": "markdown",
   "id": "80d02459",
   "metadata": {},
   "source": [
    "- Com o método `pop`, remove o elemento de uma chave especificada:"
   ]
  },
  {
   "cell_type": "code",
   "execution_count": null,
   "id": "a65fd415",
   "metadata": {},
   "outputs": [],
   "source": []
  },
  {
   "cell_type": "code",
   "execution_count": null,
   "id": "58c9ef92",
   "metadata": {},
   "outputs": [],
   "source": []
  },
  {
   "cell_type": "markdown",
   "id": "a2a86961",
   "metadata": {},
   "source": [
    "- Há também uma função que remove o último item em um dicionário:"
   ]
  },
  {
   "cell_type": "code",
   "execution_count": null,
   "id": "1beaa459",
   "metadata": {},
   "outputs": [],
   "source": []
  },
  {
   "cell_type": "markdown",
   "id": "bf716f37",
   "metadata": {},
   "source": [
    "## "
   ]
  },
  {
   "cell_type": "markdown",
   "id": "e02a312b",
   "metadata": {},
   "source": [
    "## Tópicos Extras\n",
    "\n",
    "Para finalizar a aprendizagem sobre dicionários, exemplificar algumas outras aplicações utilizando os dicionários:"
   ]
  },
  {
   "cell_type": "markdown",
   "id": "c405ea33",
   "metadata": {},
   "source": [
    " - Função `fromkeys` : dada uma lista de chaves e um único valor, é possivel criar um dicionário e atribuir o valor único para todas as chaves:"
   ]
  },
  {
   "cell_type": "code",
   "execution_count": null,
   "id": "38609653",
   "metadata": {},
   "outputs": [],
   "source": []
  },
  {
   "cell_type": "markdown",
   "id": "98af6c1f",
   "metadata": {},
   "source": [
    "- Usando dicionários como __args__ ou __kwargs__ para funções:"
   ]
  },
  {
   "cell_type": "code",
   "execution_count": null,
   "id": "3928eccf",
   "metadata": {},
   "outputs": [],
   "source": []
  },
  {
   "cell_type": "code",
   "execution_count": null,
   "id": "546bc09d",
   "metadata": {},
   "outputs": [],
   "source": []
  },
  {
   "cell_type": "code",
   "execution_count": null,
   "id": "24f7fc3b",
   "metadata": {},
   "outputs": [],
   "source": []
  },
  {
   "cell_type": "markdown",
   "id": "93dfafdd",
   "metadata": {},
   "source": [
    " Caso você não saiba os parâmetros a serem recebidos em uma função, pode-se utlizar um dicionário também como _Keyword Arguments_, adicionando este termo na função criada:"
   ]
  },
  {
   "cell_type": "code",
   "execution_count": null,
   "id": "a350daf4",
   "metadata": {},
   "outputs": [],
   "source": []
  },
  {
   "cell_type": "code",
   "execution_count": null,
   "id": "47fabf00",
   "metadata": {},
   "outputs": [],
   "source": []
  },
  {
   "cell_type": "markdown",
   "id": "41a43f06",
   "metadata": {},
   "source": [
    "- Dicionários de dicionários: é possivel criar um dicionários cujo cada valor contido dele seja de outro dicionário:"
   ]
  },
  {
   "cell_type": "code",
   "execution_count": null,
   "id": "265126de",
   "metadata": {},
   "outputs": [],
   "source": []
  },
  {
   "cell_type": "code",
   "execution_count": null,
   "id": "f9337162",
   "metadata": {},
   "outputs": [],
   "source": []
  },
  {
   "cell_type": "code",
   "execution_count": null,
   "id": "3d38b710",
   "metadata": {},
   "outputs": [],
   "source": []
  },
  {
   "cell_type": "code",
   "execution_count": null,
   "id": "540311fa",
   "metadata": {},
   "outputs": [],
   "source": []
  },
  {
   "cell_type": "code",
   "execution_count": null,
   "id": "853ff1eb",
   "metadata": {},
   "outputs": [],
   "source": []
  },
  {
   "cell_type": "code",
   "execution_count": null,
   "id": "6b45ec73",
   "metadata": {},
   "outputs": [],
   "source": []
  },
  {
   "cell_type": "markdown",
   "id": "cdedab9e",
   "metadata": {},
   "source": [
    "Estamos chegando próximo ao funcionamento de _Dataframes_ quando utiliza-se o _Pandas_. Inclusive pode-se criar um _Dataframe_ a partir de um dicionário:"
   ]
  },
  {
   "cell_type": "code",
   "execution_count": null,
   "id": "22bd7d51",
   "metadata": {},
   "outputs": [],
   "source": []
  },
  {
   "cell_type": "markdown",
   "id": "1a6490b0",
   "metadata": {},
   "source": [
    "## "
   ]
  },
  {
   "cell_type": "markdown",
   "id": "9cae75f0",
   "metadata": {},
   "source": [
    "## Exercícios"
   ]
  },
  {
   "cell_type": "markdown",
   "id": "3f174b0a",
   "metadata": {},
   "source": [
    "__1)__ Faça um programa que receba um dicionario simples de um número associado a uma chave e retorne o diciona inverso (onde era chave virá valor e vice-versa).\n",
    "\n",
    "Exemplos:"
   ]
  },
  {
   "cell_type": "code",
   "execution_count": null,
   "id": "3df4d01a",
   "metadata": {},
   "outputs": [],
   "source": [
    "# Exemplo 1\n",
    "# dict1 = {1: 3, 2: 5, 3: 7, 4: 0}\n",
    "\n",
    "# resultado = {3: [1], 5: [2], 7: [3], 0:[4]}\n",
    "\n",
    "\n",
    "# Exemplo 2\n",
    "# dict2 = {1: 2, 2: 0, 3: 0, 4: 2}\n",
    "\n",
    "# resultado = {0: [2, 3], 2: [1, 4]} "
   ]
  },
  {
   "cell_type": "markdown",
   "id": "ee8eddb1",
   "metadata": {},
   "source": [
    "__2)__ Desenvolva uma função que retorne uma lista com todas as chaves de um dicionário que contém o mesmo valor. Por exemplo no dicionário a seguir:\n",
    "\n",
    "<br>\n",
    "\n",
    "```python\n",
    "{'a': 3, 'b': 1, 'c': 2, 'd': 3}\n",
    "```\n",
    "\n",
    "<br>\n",
    "\n",
    "A função deve retorna os valores ['a', 'c'] caso o valor procurado seja o 2. E caso não tenha o valor procurado deve-se retornar uma lista vazia."
   ]
  },
  {
   "cell_type": "code",
   "execution_count": null,
   "id": "d74a3edf",
   "metadata": {},
   "outputs": [],
   "source": []
  },
  {
   "cell_type": "code",
   "execution_count": null,
   "id": "f0b24e5b",
   "metadata": {},
   "outputs": [],
   "source": []
  },
  {
   "cell_type": "code",
   "execution_count": null,
   "id": "57ac8bed",
   "metadata": {},
   "outputs": [],
   "source": []
  }
 ],
 "metadata": {
  "kernelspec": {
   "display_name": "Python 3 (ipykernel)",
   "language": "python",
   "name": "python3"
  },
  "language_info": {
   "codemirror_mode": {
    "name": "ipython",
    "version": 3
   },
   "file_extension": ".py",
   "mimetype": "text/x-python",
   "name": "python",
   "nbconvert_exporter": "python",
   "pygments_lexer": "ipython3",
   "version": "3.9.12"
  }
 },
 "nbformat": 4,
 "nbformat_minor": 5
}
