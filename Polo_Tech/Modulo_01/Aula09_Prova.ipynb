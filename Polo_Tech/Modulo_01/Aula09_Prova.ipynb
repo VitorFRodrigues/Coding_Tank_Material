{
  "cells": [
    {
      "cell_type": "markdown",
      "id": "b3debb91",
      "metadata": {
        "id": "b3debb91"
      },
      "source": [
        "## Prova"
      ]
    },
    {
      "cell_type": "markdown",
      "id": "1f00fc89",
      "metadata": {
        "id": "1f00fc89"
      },
      "source": [
        "__1) Cadastro de uma Empresa__ (3 pontos)\n",
        "\n",
        "Uma empresa de tecnologia teve problemas com o armazenamento das informações dos funcionários. Dessa forma, a empresa solicitou a você criar um formulário onde registre algumas das principais informações sobre o usuário como:\n",
        "\n",
        "- Nome Completo\n",
        "- Idade\n",
        "- Estado\n",
        "- Setor de Atuação (Dados, Engenharia, Dev, UX)\n",
        "- Tempo de Empresa\n",
        "- Salário\n",
        "\n",
        "Crie uma função chamada `formulario`, onde o objetivo dela é pedir essas informações como _inputs_ do Usuário (a função não vai receber parâmetros, apenas os _inputs_) (1 ponto)"
      ]
    },
    {
      "cell_type": "code",
      "execution_count": 34,
      "id": "ddb77206",
      "metadata": {
        "id": "ddb77206"
      },
      "outputs": [],
      "source": [
        "def formulario():\n",
        "  print('Cadastro Empresarial')\n",
        "  nome = input('Digite seu nome completo: ')\n",
        "  idade = int(input('Digite sua idade: '))\n",
        "  estado = input('Digite o Estado em que se encontra: ')\n",
        "  setor = input('Digite seu setor de atuação [Dados, Engenharia, Dev, UX]: ')\n",
        "  tempo = int(input('Digite seu tempo de atuação [anos]: '))\n",
        "  salario = float(input('Digite seu salário: R$'))\n",
        "  print('-'*20)\n",
        "  form = [nome, idade, estado, setor, tempo, salario]\n",
        "  return form"
      ]
    },
    {
      "cell_type": "markdown",
      "id": "b3ffccd8",
      "metadata": {
        "id": "b3ffccd8"
      },
      "source": [
        "Após criar a função `formulario`, crie uma função chamada de `armazenamento` onde essa função chamada a função `formulario` para receber os _inputs_ e depois armazena essas informações em um dicionário pré-criado (este dicionário deve servir de parâmetro para a função armazenamento) (1 ponto)"
      ]
    },
    {
      "cell_type": "code",
      "execution_count": 36,
      "id": "5b6dfaa7",
      "metadata": {
        "id": "5b6dfaa7"
      },
      "outputs": [],
      "source": [
        "def armazenamento(dicionario):\n",
        "  dados = formulario()\n",
        "  i=0\n",
        "  for keys, vlr in dicionario.items():\n",
        "    dicionario[keys].append(dados[i])\n",
        "    i+=1\n",
        "  return dicionario"
      ]
    },
    {
      "cell_type": "markdown",
      "id": "a7b7216f",
      "metadata": {
        "id": "a7b7216f"
      },
      "source": [
        "Gere o dicionário com o registro de 4 funcionários (crie os dados dos funcionários!) (1 ponto)"
      ]
    },
    {
      "cell_type": "code",
      "execution_count": 35,
      "id": "f94b7a69",
      "metadata": {
        "id": "f94b7a69"
      },
      "outputs": [],
      "source": []
    },
    {
      "cell_type": "code",
      "execution_count": 37,
      "id": "a0a9835b",
      "metadata": {
        "colab": {
          "base_uri": "https://localhost:8080/"
        },
        "id": "a0a9835b",
        "outputId": "5f37fc84-62ef-4966-b29f-6f0918b1a5ef"
      },
      "outputs": [
        {
          "output_type": "stream",
          "name": "stdout",
          "text": [
            "Cadastro Empresarial\n",
            "Digite seu nome completo: Vitor Rodrigues\n",
            "Digite sua idade: 29\n",
            "Digite o Estado em que se encontra: PE\n",
            "Digite seu setor de atuação [Dados, Engenharia, Dev, UX]: Dados\n",
            "Digite seu tempo de atuação [anos]: 1\n",
            "Digite seu salário: R$5000\n",
            "--------------------\n",
            "Cadastro Empresarial\n",
            "Digite seu nome completo: Irla Andrade\n",
            "Digite sua idade: 29\n",
            "Digite o Estado em que se encontra: PE\n",
            "Digite seu setor de atuação [Dados, Engenharia, Dev, UX]: Dev\n",
            "Digite seu tempo de atuação [anos]: 2\n",
            "Digite seu salário: R$7000\n",
            "--------------------\n",
            "Cadastro Empresarial\n",
            "Digite seu nome completo: Bernardo Abelo\n",
            "Digite sua idade: 27\n",
            "Digite o Estado em que se encontra: CE\n",
            "Digite seu setor de atuação [Dados, Engenharia, Dev, UX]: UX\n",
            "Digite seu tempo de atuação [anos]: 3\n",
            "Digite seu salário: R$6500\n",
            "--------------------\n",
            "Cadastro Empresarial\n",
            "Digite seu nome completo: George Cunha\n",
            "Digite sua idade: 22\n",
            "Digite o Estado em que se encontra: SP\n",
            "Digite seu setor de atuação [Dados, Engenharia, Dev, UX]: Engenharia\n",
            "Digite seu tempo de atuação [anos]: 3\n",
            "Digite seu salário: R$6000\n",
            "--------------------\n",
            "{'nome': ['Vitor Rodrigues', 'Irla Andrade', 'Bernardo Abelo', 'George Cunha'], 'idade': [29, 29, 27, 22], 'estado': ['PE', 'PE', 'CE', 'SP'], 'setor': ['Dados', 'Dev', 'UX', 'Engenharia'], 'tempo': [1, 2, 3, 3], 'salario': [5000.0, 7000.0, 6500.0, 6000.0]}\n"
          ]
        }
      ],
      "source": [
        "cadastro = {'nome': [],\n",
        "              'idade': [],\n",
        "              'estado': [],\n",
        "              'setor': [],\n",
        "              'tempo': [],\n",
        "              'salario': []}\n",
        "for i in range(4):\n",
        "  armazenamento(cadastro)\n",
        "\n",
        "# Retorno obitido após input:\n",
        "# cadastro = {'nome': ['Vitor Rodrigues', 'Irla Andrade', 'Bernardo Abelo', 'George Cunha'], 'idade': [29, 29, 27, 22], 'estado': ['PE', 'PE', 'CE', 'SP'], 'setor': ['Dados', 'Dev', 'UX', 'Engenharia'], 'tempo': [1, 2, 3, 3], 'salario': [5000.0, 7000.0, 6500.0, 6000.0]}\n",
        "\n",
        "# Gerando impressões após efetuação de cadastro\n",
        "print('CADASTRO EFETUADO!')\n",
        "\n",
        "for i in range(len(cadastro['nome'])):\n",
        "  print(f'Funcionário {i+1}')\n",
        "  nome = cadastro['nome'][i]\n",
        "  print(f'\\tNome Completo: {nome}')\n",
        "  idade = cadastro['idade'][i]\n",
        "  print(f'\\tIdade: {idade}')\n",
        "  estado = cadastro['estado'][i]\n",
        "  print(f'\\tEstado: {estado}')\n",
        "  setor = cadastro['setor'][i]\n",
        "  print(f'\\tSetor de Atuação [Dados, Engenharia, Dev, UX]: {setor}')\n",
        "  tempo = cadastro['tempo'][i]\n",
        "  print(f'\\tTempo de Empresa [anos]: {tempo}')\n",
        "  salario = cadastro['salario'][i]\n",
        "  print(f'\\tSalário: R${salario:.2f}')"
      ]
    },
    {
      "cell_type": "code",
      "source": [
        "print('CADASTRO EFETUADO!')\n",
        "\n",
        "for i in range(len(cadastro['nome'])):\n",
        "  print(f'Funcionário {i+1}')\n",
        "  nome = cadastro['nome'][i]\n",
        "  print(f'\\tNome Completo: {nome}')\n",
        "  idade = cadastro['idade'][i]\n",
        "  print(f'\\tIdade: {idade}')\n",
        "  estado = cadastro['estado'][i]\n",
        "  print(f'\\tEstado: {estado}')\n",
        "  setor = cadastro['setor'][i]\n",
        "  print(f'\\tSetor de Atuação [Dados, Engenharia, Dev, UX]: {setor}')\n",
        "  tempo = cadastro['tempo'][i]\n",
        "  print(f'\\tTempo de Empresa [anos]: {tempo}')\n",
        "  salario = cadastro['salario'][i]\n",
        "  print(f'\\tSalário: R${salario:.2f}')"
      ],
      "metadata": {
        "colab": {
          "base_uri": "https://localhost:8080/"
        },
        "id": "CA4R8Df0ch75",
        "outputId": "ab853f77-f0d5-4931-faaf-4a8d618b4ecc"
      },
      "id": "CA4R8Df0ch75",
      "execution_count": 68,
      "outputs": [
        {
          "output_type": "stream",
          "name": "stdout",
          "text": [
            "CADASTRO EFETUADO!\n",
            "Funcionário 1\n",
            "\tNome Completo: Vitor Rodrigues\n",
            "\tIdade: 29\n",
            "\tEstado: PE\n",
            "\tSetor de Atuação [Dados, Engenharia, Dev, UX]: Dados\n",
            "\tTempo de Empresa [anos]: 1\n",
            "\tSalário: R$5000.00\n",
            "Funcionário 2\n",
            "\tNome Completo: Irla Andrade\n",
            "\tIdade: 29\n",
            "\tEstado: PE\n",
            "\tSetor de Atuação [Dados, Engenharia, Dev, UX]: Dev\n",
            "\tTempo de Empresa [anos]: 2\n",
            "\tSalário: R$7000.00\n",
            "Funcionário 3\n",
            "\tNome Completo: Bernardo Abelo\n",
            "\tIdade: 27\n",
            "\tEstado: CE\n",
            "\tSetor de Atuação [Dados, Engenharia, Dev, UX]: UX\n",
            "\tTempo de Empresa [anos]: 3\n",
            "\tSalário: R$6500.00\n",
            "Funcionário 4\n",
            "\tNome Completo: George Cunha\n",
            "\tIdade: 22\n",
            "\tEstado: SP\n",
            "\tSetor de Atuação [Dados, Engenharia, Dev, UX]: Engenharia\n",
            "\tTempo de Empresa [anos]: 3\n",
            "\tSalário: R$6000.00\n"
          ]
        }
      ]
    },
    {
      "cell_type": "markdown",
      "id": "03051e48",
      "metadata": {
        "id": "03051e48"
      },
      "source": [
        "__2) Holerite - INSS__ (1 ponto)\n",
        "\n",
        "Para quem trabalha com carteira assinada é extremamente importante que saba como funciona as contribuições sobre o salário para o INSS e o IRRF (imposto de renda). No caso para o cálculo do INSS temos como referência a tabela abaixo:\n",
        "\n",
        "<br>\n",
        "\n",
        "|    **Salário (R$)**    | **% de Contribuição na faixa** |\n",
        "|:----------------------:|:------------------------------:|\n",
        "|      Até 1.212,00      |              7,5%              |\n",
        "| de 1.212,01 a 2.427,35 |              9,0%              |\n",
        "| de 2.427,36 a 3.641,03 |               12%              |\n",
        "| de 3.641,04 a 7.087,22 |               !4%              |\n",
        "\n",
        "<br>\n",
        "\n",
        "Mas note que o cálculo é um pouco mais complexo devido a ser __calculada sobre a faixa__, conforme alguns exemplos:\n",
        "\n",
        "- Exemplo  1 - Salário R$ 1.100,00\n",
        "\n",
        "$$ INSS = 7,5\\% * 1.100,00 = R\\$ 82,50 $$\n",
        "\n",
        "<br>\n",
        "\n",
        "- Exemplo  2 - Salário R$ 3.500,00:\n",
        "\n",
        "Como este salário encontra-se na 3 faixa, a contribuição será igual ao teto da 1ª faixa + teto da 2ª faixa + diferença na 3ª faixa, conforme o exemplo:\n",
        "\n",
        "$$ INSS = max(1ª faixa) + max(2ª faixa) + diff(3ª faixa) = 7,5\\% * (1.212,00 - 0,00) + 9,0\\% * (2.427,35 - 1.212,01) + 12\\% * (3.500,00 - 2.427,36) = 90,90 + 109,38 + 128,72 = R\\$ 328,98 $$\n",
        "\n",
        "- Exemplo 3 - Salário R$ 10.000,00\n",
        "\n",
        "Note que para salários maiores que R$ 7.087,22, o valor da contribuição será igual ao teto de todas as faixas:\n",
        "\n",
        "$$ INSS = max(1ª faixa) + max(2ª faixa) + max(3ª faixa) + max(4ª faixa) = 7,5\\% * (1.212,00 - 0,00) + 9,0\\% * (2.427,35 - 1.212,01) + 12\\% * (3.641,03 - 2.427,36) + 14\\% * (7.087,22 - 3.641,04) = 90,90 + 109,38 + 145,64 + 482,47 = R\\$ 828,39 $$\n",
        "\n",
        "O objetivo deste exercício e montar uma função nomeada como `inss` que dado o valor do salário devolva qual vai ser a contribuição salarial para o INSS.  (1 ponto)"
      ]
    },
    {
      "cell_type": "code",
      "execution_count": 94,
      "id": "c940ba92",
      "metadata": {
        "id": "c940ba92"
      },
      "outputs": [],
      "source": [
        "def inss(salario):\n",
        "  faixa = [1212.00, 2427.35, 3641.03, 7087.22]\n",
        "  i = [7.5/100, 9/100, 12/100, 14/100]\n",
        "  max = [i[0]*(faixa[0]-0), i[1]*(faixa[1]-faixa[0]), i[2]*(faixa[2]-faixa[1]), i[3]*(faixa[3]-faixa[2])]\n",
        "  if salario <= 1212.00:\n",
        "    i = 7.5/100\n",
        "    inss = i * salario\n",
        "  elif salario > 1212 and salario <= 2427.35:\n",
        "    i = 9.0/100\n",
        "    inss = max[0] + i * (salario - faixa[0])\n",
        "  elif salario > 2427.35 and salario <= 3641.03:\n",
        "    i = 12.0/100\n",
        "    inss = max[0] + max[1] + i * (salario - faixa[1])\n",
        "  elif salario > 3641.03 and salario <= 7087.22:\n",
        "    i = 14.0/100\n",
        "    inss = max[0] + max[1] + max[2] + i * (salario - faixa[2])\n",
        "  else:\n",
        "    inss = max[0] + max[1] + max[2] + max[3]\n",
        "  return inss"
      ]
    },
    {
      "cell_type": "code",
      "source": [
        "inss = inss(10000)\n",
        "print(inss)"
      ],
      "metadata": {
        "id": "8uB6MbvUirh9",
        "outputId": "36183602-0147-4295-d5e7-12f97788ef38",
        "colab": {
          "base_uri": "https://localhost:8080/"
        }
      },
      "id": "8uB6MbvUirh9",
      "execution_count": 83,
      "outputs": [
        {
          "output_type": "stream",
          "name": "stdout",
          "text": [
            "828.3897000000001\n"
          ]
        }
      ]
    },
    {
      "cell_type": "markdown",
      "id": "af01ce84",
      "metadata": {
        "id": "af01ce84"
      },
      "source": [
        "__3) Holerite - IRRF__ (1 ponto)\n",
        "\n",
        "Para quem trabalha com carteira assinada é extremamente importante que saba como funciona as contribuições sobre o salário para o INSS e o IRRF (imposto de renda). Após conhecer como que funciona a contribuição ao INSS, agora vamos desenvolver algo em relação ao imposto de renda (IRRF). Par este cálculo também precisaremos de uma tabela de referência:\n",
        "\n",
        "<br>\n",
        "\n",
        "|       **Salário**      | **% de Contribuição** | **Desconto** |\n",
        "|:----------------------:|:---------------------:|:------------:|\n",
        "|      Até 1.903,98      |           0%          |     0,00     |\n",
        "| de 1.903,99 a 2.826,65 |         7,50%         |    142,80    |\n",
        "| de 2.826,66 a 3.751,05 |         15,00%        |    354,80    |\n",
        "| de 3.751,06 a 4.664,68 |         22,50%        |    636,13    |\n",
        "|    Acima de 4.664,68   |         27,50%        |    869,36    |\n",
        "\n",
        "<br>\n",
        "\n",
        "No caso do imposto de renda, a regra é um pouco diferente pois o percentual é calculado encima de todo o salário bruto menos alguns descontos, diferente do INSS que tinha contribuição por faixas. Além disso, no caso no imposto de renda a pessoa pode declarar dependentes e a cada dependente declarado recebe um desconto de 189,59. Para definir de fato o salário a ser considerado imposto deve descontar __o valor do INSS__ e o desconto de __dependentes__. Conforme os exemplos a seguir:\n",
        "\n",
        "\n",
        "##### Exemplo  1 - Salário 1.100,00 - nenhum dependente\n",
        "\n",
        "- Salário Bruto: 1.100,00\n",
        "- INSS: 82,50\n",
        "- Dependentes: 0,00\n",
        "- Salário considerado no IRRF = 1100 - 82,50 - 0 = 1.017,50\n",
        "\n",
        "- Faixa do IRRF - Primeira Faixa\n",
        "- Contribuição IRRF: 0,00\n",
        "- Salário Líquido: 1100 - 82,50 = 1.017,50\n",
        "\n",
        "<br>\n",
        "\n",
        "##### Exemplo  2 - Salário 3.500,00 - 1 dependente\n",
        "\n",
        "- Salário Bruto: 3.500,00\n",
        "- INSS: 328,98\n",
        "- Dependentes: 1*189,59 = 189,59\n",
        "- Salário considerado no IRRF = 3500 - 328,98 - 189,59 = 2.981,43\n",
        "\n",
        "- Faixa do IRRF - Terceira Faixa (15%)\n",
        "- Contribuição IRRF: 0.15*2981,43 - 354,80 = 92,41\n",
        "- Salário Líquido: 3500 - 328,92 - 92,41 = 3.078,67\n",
        "\n",
        "<br>\n",
        "\n",
        "##### Exemplo  3 - Salário 10.000,00 - 3 dependentes\n",
        "\n",
        "- Salário Bruto: 10.000,00\n",
        "- INSS: 828,39\n",
        "- Dependentes: 3*189,59 = 568,77\n",
        "- Salário considerado no IRRF = 10000 - 828,39 - 568,77 = 8.602,84\n",
        "\n",
        "- Faixa do IRRF - Última faixa (27,5%)\n",
        "- Contribuição IRRF: 0.275*8602,84 - 869,36 = 1.496,42\n",
        "- Salário Líquido: 10000 - 828,39 - 1496,42 = 7.675,19\n",
        "\n",
        "De senvolva a função nomeada como `irrf` onde irá receber o salario bruto (sem o desconto do INSS) e a quantidade de dependentes que a pessoa tiver. E a função deve devolver respectivamente o __valor da contribuição de imposto__ e o __salário líquido__. (1 ponto)\n"
      ]
    },
    {
      "cell_type": "code",
      "execution_count": 107,
      "id": "54f0117e",
      "metadata": {
        "id": "54f0117e"
      },
      "outputs": [],
      "source": [
        "def irrf(sal_bruto, dep):\n",
        "  salario = sal_bruto\n",
        "  inss_i = inss(sal_bruto)\n",
        "  dep_tot = dep*189.59\n",
        "  irrf = sal_bruto - inss_i - dep_tot\n",
        "  \n",
        "  if salario <= 1903.98:\n",
        "    i = 0/100\n",
        "    faixa = 'Primeira Faixa'\n",
        "    desc = 0\n",
        "  elif salario > 1903.98 and salario <= 2826.65:\n",
        "    i = 7.5/100\n",
        "    faixa = f'Segunda Faixa ({i*100:.2f}%)'\n",
        "    desc = 142.80\n",
        "  elif salario > 2826.65 and salario <= 3751.05:\n",
        "    i = 15/100\n",
        "    faixa = f'Terceira Faixa ({i*100:.2f}%)'\n",
        "    desc = 354.80\n",
        "  elif salario > 3751.05 and salario <= 4664.68:\n",
        "    i = 22.50/100\n",
        "    faixa = f'Quarta Faixa ({i*100:.2f}%)'\n",
        "    desc = 636.13\n",
        "  else:\n",
        "    i = 27.50/100\n",
        "    faixa = f'Última Faixa ({i*100:.2f}%)'\n",
        "    desc = 869.36\n",
        "\n",
        "  contribuicao = i*irrf-desc\n",
        "  sal_liq = sal_bruto - inss_i - contribuicao\n",
        "  print(f'Salário Bruto: {sal_bruto:.2f}')\n",
        "  print(f'INSS: {inss_i:.2f}')\n",
        "  if salario <= 1903.98:\n",
        "    print(f'Dependentes: {dep:.2f}')\n",
        "  else:\n",
        "    print(f'Dependentes: {dep}*{189.59}={dep_tot:.2f}')\n",
        "  print(f'Salário considerado no IRRF: {sal_bruto:.2f}-{inss_i:.2f}-{dep_tot:.2f}={irrf:.2f}')\n",
        "  print(f'Faixa do IRRF - {faixa}')\n",
        "  if salario <= 1903.98:\n",
        "    print(f'Contribuição IRRF: {contribuicao:.2f}')\n",
        "  else:\n",
        "    print(f'Contribuição IRRF: {i}*{irrf:.2f} - {desc:.2f} = {contribuicao:.2f}')\n",
        "  print(f'Salário Líquido: {sal_bruto:.2f} - {inss_i:.2f} - {contribuicao:.2f} = {sal_liq:.2f}')\n",
        "  \n",
        "  return (contribuicao, sal_liq)"
      ]
    },
    {
      "cell_type": "code",
      "execution_count": 111,
      "id": "af876283",
      "metadata": {
        "colab": {
          "base_uri": "https://localhost:8080/"
        },
        "id": "af876283",
        "outputId": "db30b080-d15e-4d16-dad4-8ed26787c500"
      },
      "outputs": [
        {
          "output_type": "stream",
          "name": "stdout",
          "text": [
            "Salário Bruto: 1100.00\n",
            "INSS: 82.50\n",
            "Dependentes: 0.00\n",
            "Salário considerado no IRRF: 1100.00-82.50-0.00=1017.50\n",
            "Faixa do IRRF - Primeira Faixa\n",
            "Contribuição IRRF: 0.00\n",
            "Salário Líquido: 1100.00 - 82.50 - 0.00 = 1017.50\n",
            "(0.0, 1017.5)\n"
          ]
        }
      ],
      "source": [
        "a = irrf(1100, 0)\n",
        "print(a)"
      ]
    },
    {
      "cell_type": "code",
      "execution_count": 112,
      "id": "65493f22",
      "metadata": {
        "colab": {
          "base_uri": "https://localhost:8080/"
        },
        "id": "65493f22",
        "outputId": "59e50944-b210-4076-e8f3-05c894b05096"
      },
      "outputs": [
        {
          "output_type": "stream",
          "name": "stdout",
          "text": [
            "Salário Bruto: 3500.00\n",
            "INSS: 329.00\n",
            "Dependentes: 1*189.59=189.59\n",
            "Salário considerado no IRRF: 3500.00-329.00-189.59=2981.41\n",
            "Faixa do IRRF - Terceira Faixa (15.00%)\n",
            "Contribuição IRRF: 0.15*2981.41 - 354.80 = 92.41\n",
            "Salário Líquido: 3500.00 - 329.00 - 92.41 = 3078.59\n",
            "(92.41157499999997, 3078.588925)\n"
          ]
        }
      ],
      "source": [
        "b = irrf(3500, 1)\n",
        "print(b)"
      ]
    },
    {
      "cell_type": "code",
      "source": [
        "c = irrf(10000, 3)\n",
        "print(c)"
      ],
      "metadata": {
        "id": "z7EwzOPTr9wm",
        "outputId": "a72e096b-0c2b-4341-dfbf-8f6076461794",
        "colab": {
          "base_uri": "https://localhost:8080/"
        }
      },
      "id": "z7EwzOPTr9wm",
      "execution_count": 113,
      "outputs": [
        {
          "output_type": "stream",
          "name": "stdout",
          "text": [
            "Salário Bruto: 10000.00\n",
            "INSS: 828.39\n",
            "Dependentes: 3*189.59=568.77\n",
            "Salário considerado no IRRF: 10000.00-828.39-568.77=8602.84\n",
            "Faixa do IRRF - Última Faixa (27.50%)\n",
            "Contribuição IRRF: 0.275*8602.84 - 869.36 = 1496.42\n",
            "Salário Líquido: 10000.00 - 828.39 - 1496.42 = 7675.19\n",
            "(1496.4210825, 7675.1892175)\n"
          ]
        }
      ]
    },
    {
      "cell_type": "markdown",
      "id": "11ebde57",
      "metadata": {
        "id": "11ebde57"
      },
      "source": [
        "__4) Média Harmônica__ (2 pontos)\n",
        "\n",
        "A __média harmônica__ é dada pela média de um conjunto de dados quaisquer utilizando da seguinte fórmula:\n",
        "\n",
        "$$\\frac{n}{\\frac{1}{x_1} + \\frac{1}{x_2} + \\frac{1}{x_3} + ... + \\frac{1}{x_n}}$$\n",
        "\n",
        "Note para qualquer valor de X que fique cada vez mais próximo de zero, a tendência é que a media harmônica caia rapidamente para zero.\n",
        "\n",
        "O objetvo desse exercício será dividido em duas partes partes:"
      ]
    },
    {
      "cell_type": "markdown",
      "id": "20575075",
      "metadata": {
        "id": "20575075"
      },
      "source": [
        "- Desenvolva uma função para calcular a __média aritmética__, __média geométrica__ e __média harmonica__ dado como parâmetro uma lista de números inteiros: (1 ponto)"
      ]
    },
    {
      "cell_type": "code",
      "execution_count": 38,
      "id": "20bb6d5a",
      "metadata": {
        "id": "20bb6d5a"
      },
      "outputs": [],
      "source": [
        "def medias(lista):\n",
        "  # Para calcular as médias, basta utilizar um único for, porém, de modo a manter didática, cada média foi calculada separadamente\n",
        "  # Média Aritmética\n",
        "  soma = 0\n",
        "  for i in lista:\n",
        "    soma += i\n",
        "  med_arit = soma/len(lista)\n",
        "\n",
        "  # Média Geométrica\n",
        "  produto = 1\n",
        "  for i in lista:\n",
        "    produto *= i\n",
        "  med_geo = produto ** (1/len(lista))\n",
        "\n",
        "  # Média Harmônica\n",
        "  soma_invs = 0\n",
        "  for i in lista:\n",
        "    soma_invs += 1/i\n",
        "  med_harm = len(lista)/soma_invs\n",
        "  return (med_arit, med_geo, med_harm)"
      ]
    },
    {
      "cell_type": "code",
      "execution_count": 39,
      "id": "ddabb394",
      "metadata": {
        "colab": {
          "base_uri": "https://localhost:8080/"
        },
        "id": "ddabb394",
        "outputId": "f0e13727-66ef-4d94-f97a-f4206eb7078e"
      },
      "outputs": [
        {
          "output_type": "stream",
          "name": "stdout",
          "text": [
            "(5.5, 4.528728688116765, 3.414171521474055)\n"
          ]
        }
      ],
      "source": [
        "# Teste\n",
        "lista = [1, 2, 3, 4, 5, 6, 7, 8, 9, 10]\n",
        "print(medias(lista))"
      ]
    },
    {
      "cell_type": "markdown",
      "id": "dea22f1c",
      "metadata": {
        "id": "dea22f1c"
      },
      "source": [
        "- Crie uma lista aleatória com 10 elementos variando eles entre 1 e 10 (utilize a biblioteca random). Após isso, avalie como cada uma das médias evolui ao longo da quntidade de elementos que utilizar. Então crie uma malha de repetição que irá calcular ambas as médias e mostrar os resultados utilizando inicialmente os dois primeiros números e ir aumentando progressivamente até utilizar todos eles: (1 ponto)"
      ]
    },
    {
      "cell_type": "code",
      "execution_count": 47,
      "id": "6a3c4641",
      "metadata": {
        "colab": {
          "base_uri": "https://localhost:8080/"
        },
        "id": "6a3c4641",
        "outputId": "fc8c70ca-3827-471a-f214-9f01764e4fbb"
      },
      "outputs": [
        {
          "output_type": "stream",
          "name": "stdout",
          "text": [
            "[1, 1, 6, 1, 8, 3, 4, 6, 2, 3]\n",
            "Quantidade de elementos: 2\n",
            "Lista utilizada: [1, 1]\n",
            "Média Aritmética: 1.00000\n",
            "Média Geométrica: 1.00000\n",
            "Média Harmonica: 1.00000\n",
            "--------------------------------------------------\n",
            "Quantidade de elementos: 3\n",
            "Lista utilizada: [1, 1, 6]\n",
            "Média Aritmética: 2.66667\n",
            "Média Geométrica: 1.81712\n",
            "Média Harmonica: 1.38462\n",
            "--------------------------------------------------\n",
            "Quantidade de elementos: 4\n",
            "Lista utilizada: [1, 1, 6, 1]\n",
            "Média Aritmética: 2.25000\n",
            "Média Geométrica: 1.56508\n",
            "Média Harmonica: 1.26316\n",
            "--------------------------------------------------\n",
            "Quantidade de elementos: 5\n",
            "Lista utilizada: [1, 1, 6, 1, 8]\n",
            "Média Aritmética: 3.40000\n",
            "Média Geométrica: 2.16894\n",
            "Média Harmonica: 1.51899\n",
            "--------------------------------------------------\n",
            "Quantidade de elementos: 6\n",
            "Lista utilizada: [1, 1, 6, 1, 8, 3]\n",
            "Média Aritmética: 3.33333\n",
            "Média Geométrica: 2.28943\n",
            "Média Harmonica: 1.65517\n",
            "--------------------------------------------------\n",
            "Quantidade de elementos: 7\n",
            "Lista utilizada: [1, 1, 6, 1, 8, 3, 4]\n",
            "Média Aritmética: 3.42857\n",
            "Média Geométrica: 2.47940\n",
            "Média Harmonica: 1.80645\n",
            "--------------------------------------------------\n",
            "Quantidade de elementos: 8\n",
            "Lista utilizada: [1, 1, 6, 1, 8, 3, 4, 6]\n",
            "Média Aritmética: 3.75000\n",
            "Média Geométrica: 2.76899\n",
            "Média Harmonica: 1.97938\n",
            "--------------------------------------------------\n",
            "Quantidade de elementos: 9\n",
            "Lista utilizada: [1, 1, 6, 1, 8, 3, 4, 6, 2]\n",
            "Média Aritmética: 3.55556\n",
            "Média Geométrica: 2.67068\n",
            "Média Harmonica: 1.98165\n",
            "--------------------------------------------------\n",
            "Quantidade de elementos: 10\n",
            "Lista utilizada: [1, 1, 6, 1, 8, 3, 4, 6, 2, 3]\n",
            "Média Aritmética: 3.50000\n",
            "Média Geométrica: 2.70192\n",
            "Média Harmonica: 2.05128\n",
            "--------------------------------------------------\n"
          ]
        }
      ],
      "source": [
        "import random\n",
        "lista_aleatoria = []\n",
        "for _ in range(10):\n",
        "  lista_aleatoria.append(random.randint(1,10))\n",
        "print(lista_aleatoria)\n",
        "\n",
        "for i in range(2, len(lista_aleatoria)+1):\n",
        "  print(f'Quantidade de elementos: {i}')\n",
        "  lista_i = lista_aleatoria[:i]\n",
        "  print(f'Lista utilizada: {lista_i}')\n",
        "  print(f'Média Aritmética: {medias(lista_i)[0]:.5f}')\n",
        "  print(f'Média Geométrica: {medias(lista_i)[1]:.5f}')\n",
        "  print(f'Média Harmonica: {medias(lista_i)[2]:.5f}')\n",
        "  print('-'*50)"
      ]
    },
    {
      "cell_type": "markdown",
      "id": "a9dc00f9",
      "metadata": {
        "id": "a9dc00f9"
      },
      "source": [
        "__5) Progressão Geométrica__ (1 ponto)\n",
        "\n",
        "A progressão geométrica (PG) é uma sequência de números onde a diferença entre dois consecutivos é sempre a mesma. Um exemplo de uma PG pode ser dado pela base de múltiplos de 2 , onde temos que (2, 4, 8, 16, ...)\n",
        "\n",
        "Uma PG segue a seguinte equação:\n",
        "\n",
        "$$ a_n = a_1 * q^{n - 1} $$\n",
        "\n",
        "onde, $ a_n$ é o n-ésimo elemento da PA, $a_1$ é o primeiro elemento da sequência, n é a quantidade de elementos considerada e $q$ a razão ou ordem de grandeza que aumenta de um elemento ao outro.\n",
        "\n",
        "O Objetivo do exercício será desenvolver uma função nomeada `progressao_geometrica` onde receberá como parâmetros $a_1$, $n$ e $q$ e a função deve printar o elemento $a_n$ e printar todos os elementos da PG em $a_1$ e $a_n$"
      ]
    },
    {
      "cell_type": "code",
      "execution_count": 50,
      "id": "12aeea3b",
      "metadata": {
        "id": "12aeea3b"
      },
      "outputs": [],
      "source": [
        "def progressao_geometrica(a1, n, q):\n",
        "  seq = []\n",
        "  for i in range(1,n+1):\n",
        "    seq.append(a1*q**(i-1))\n",
        "  print(f'an = {seq[-1]}\\nSequencia = {seq}')\n",
        "\n",
        "progressao_geometrica(2, 10, 2)\n",
        "# Resultado\n",
        "# an = 1024\n",
        "# Sequencia = [2, 4, 8, 16, 32, 64, 128, 256, 512, 1024]"
      ]
    },
    {
      "cell_type": "code",
      "execution_count": 51,
      "id": "63423026",
      "metadata": {
        "colab": {
          "base_uri": "https://localhost:8080/"
        },
        "id": "63423026",
        "outputId": "fdccfe48-7078-4065-be33-61c81ab2ef94"
      },
      "outputs": [
        {
          "output_type": "stream",
          "name": "stdout",
          "text": [
            "an = 1024\n",
            "Sequencia = [2, 4, 8, 16, 32, 64, 128, 256, 512, 1024]\n"
          ]
        }
      ],
      "source": [
        "progressao_geometrica(2, 10, 2)"
      ]
    },
    {
      "cell_type": "markdown",
      "id": "c806c6d3",
      "metadata": {
        "id": "c806c6d3"
      },
      "source": [
        "__6) Conversor DNA e RNA__ (1 ponto)\n",
        "\n",
        "O código genético formado pelo DNA e RNA são compostos de alguns aminoácidos como Adenina (A), Guanina (G), Citosina (C), Timina(T) e Uracila(U). A cadeia do DNA é composto pelos aminoácidos AGCT e do RNA seria AGCU, pois ao copiar do DNA ele substitui o aminoácido Timina (T) pela Uracila (U). O objetivo deste exercício será desenvlver uma função que chamada de `tradutor_dna_to_rna` onde como entrada irá receber uma `string`com o código do DNA e deve-se devolver o código traduzido pelo RNA."
      ]
    },
    {
      "cell_type": "code",
      "execution_count": null,
      "id": "d93e0ec2",
      "metadata": {
        "id": "d93e0ec2"
      },
      "outputs": [],
      "source": [
        "# entrada\n",
        "dna = 'AGCTGGGCTTT'\n",
        "\n",
        "# saida\n",
        "rna = 'AGCUGGGCUUU'"
      ]
    },
    {
      "cell_type": "code",
      "execution_count": 54,
      "id": "49ba51a1",
      "metadata": {
        "id": "49ba51a1"
      },
      "outputs": [],
      "source": [
        "def tradutor_dna_to_rna(dna):\n",
        "  dna_lista = list(dna)\n",
        "  rna_lista = []\n",
        "  for aminoacido in dna_lista:\n",
        "    if aminoacido == 'T':\n",
        "      rna_lista.append('U')\n",
        "    else:\n",
        "      rna_lista.append(aminoacido)\n",
        "  rna = ''.join(rna_lista)\n",
        "  return rna"
      ]
    },
    {
      "cell_type": "code",
      "source": [
        "dna = 'AGCTGGGCTTT'\n",
        "rna = tradutor_dna_to_rna(dna)\n",
        "print(rna)"
      ],
      "metadata": {
        "colab": {
          "base_uri": "https://localhost:8080/"
        },
        "id": "C_UBhPmHZh-r",
        "outputId": "62120996-3802-47e3-b85a-ffd227061997"
      },
      "id": "C_UBhPmHZh-r",
      "execution_count": 55,
      "outputs": [
        {
          "output_type": "stream",
          "name": "stdout",
          "text": [
            "AGCUGGGCUUU\n"
          ]
        }
      ]
    },
    {
      "cell_type": "markdown",
      "id": "3854cfed",
      "metadata": {
        "id": "3854cfed"
      },
      "source": [
        "__7) Conversor Binario para Numero__ (2 pontos)\n",
        "\n",
        "O Sistema binário é uma representação da matemática onde a base de referência para a construção dos números é o 2 ao invés do 10 comum na base decimal. Por exemplo o binário `1001` na base decimal será igual $ 1001 = 1*2^3 + 0*2^2 + 0*2^1 + 1*2^0 = 9 $. O objetivo deste exercício é desenvolver uma função nomeada como `conversor_binario`, onde irá receber uma `string` com o número binário correspondente e a função deve devolver o respectivo número na base decimal."
      ]
    },
    {
      "cell_type": "code",
      "execution_count": 62,
      "id": "905b5c2d",
      "metadata": {
        "id": "905b5c2d"
      },
      "outputs": [],
      "source": [
        "def conversor_binario(bin):\n",
        "  # Transformando em string e puxando lista de caracteres\n",
        "  bin_lista = list(str(bin))\n",
        "  # Transformando lista de strings em lista inteiros\n",
        "  bin_lista = [int(n) for n in bin_lista]\n",
        "\n",
        "  dec = 0\n",
        "  n = len(bin_lista)-1\n",
        "  for i in bin_lista:\n",
        "    dec += i*2**n\n",
        "    n -= 1\n",
        "\n",
        "  return dec"
      ]
    },
    {
      "cell_type": "code",
      "execution_count": 63,
      "id": "0d0fd422",
      "metadata": {
        "colab": {
          "base_uri": "https://localhost:8080/"
        },
        "id": "0d0fd422",
        "outputId": "9b6af1ea-d3b2-4e8b-e58a-2ee50dc81ba8"
      },
      "outputs": [
        {
          "output_type": "stream",
          "name": "stdout",
          "text": [
            "2389\n"
          ]
        }
      ],
      "source": [
        "num_bin = 100101010101\n",
        "num_dec = conversor_binario(num_bin)\n",
        "print(num_dec)"
      ]
    },
    {
      "cell_type": "code",
      "source": [],
      "metadata": {
        "id": "L2AEWvmVcVwi"
      },
      "id": "L2AEWvmVcVwi",
      "execution_count": null,
      "outputs": []
    }
  ],
  "metadata": {
    "kernelspec": {
      "display_name": "Python 3 (ipykernel)",
      "language": "python",
      "name": "python3"
    },
    "language_info": {
      "codemirror_mode": {
        "name": "ipython",
        "version": 3
      },
      "file_extension": ".py",
      "mimetype": "text/x-python",
      "name": "python",
      "nbconvert_exporter": "python",
      "pygments_lexer": "ipython3",
      "version": "3.9.12"
    },
    "colab": {
      "provenance": []
    }
  },
  "nbformat": 4,
  "nbformat_minor": 5
}
