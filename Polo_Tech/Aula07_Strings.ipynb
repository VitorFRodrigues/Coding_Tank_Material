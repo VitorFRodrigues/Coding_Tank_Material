{
  "cells": [
    {
      "cell_type": "markdown",
      "metadata": {
        "id": "jsWfiTAswxeh"
      },
      "source": [
        "## Aula 07 - _Strings_ e Gerenciamento de Arquivos\n",
        "\n",
        "Nesta aula, serão discutidos os seguintes tópicos:\n",
        "- _Strings_;\n",
        "- Operações com _Strings_;\n",
        "- Símbolos Especiais;\n",
        "- Funções de _strings_;\n",
        "- Formatação de _strings_;\n",
        "- Gerenciamento de Arquivos (Leitura e Gravação);"
      ]
    },
    {
      "cell_type": "markdown",
      "metadata": {
        "id": "LV0bt3F_wxer"
      },
      "source": [
        "## "
      ]
    },
    {
      "cell_type": "markdown",
      "metadata": {
        "id": "AE9RSZ8hwxes"
      },
      "source": [
        "## 1. _Strings_\n",
        "\n",
        "Depois de ter introduzido os principais tipos de variáveis utilizado na programação, vamos entrar mais afundo no entendimento sobre _strings_, que na verdade pode-se entender como o conjunto de caracteres, coo se fosse uma lista mas com o objetivo de marcação textual."
      ]
    },
    {
      "cell_type": "markdown",
      "metadata": {
        "id": "UtbzV9iwwxes"
      },
      "source": [
        "Como comentamos sobre as listas, uma propriedade interessante das _strings_ é pode acessar cada caractere pela poição dentro da _string_:"
      ]
    },
    {
      "cell_type": "code",
      "execution_count": null,
      "metadata": {
        "id": "CclFMo_Qwxet"
      },
      "outputs": [],
      "source": [
        "texto = 'Let´s Code by Ada'"
      ]
    },
    {
      "cell_type": "code",
      "execution_count": null,
      "metadata": {
        "colab": {
          "base_uri": "https://localhost:8080/"
        },
        "id": "b_odz-BCwxeu",
        "outputId": "b4554c81-6098-4d6e-b037-f4d8859a4b09"
      },
      "outputs": [
        {
          "output_type": "stream",
          "name": "stdout",
          "text": [
            "L\n",
            "s\n",
            "b\n"
          ]
        }
      ],
      "source": [
        "print(texto[0])\n",
        "print(texto[4])\n",
        "print(texto[11])"
      ]
    },
    {
      "cell_type": "code",
      "execution_count": null,
      "metadata": {
        "colab": {
          "base_uri": "https://localhost:8080/"
        },
        "id": "d21yQiPmwxev",
        "outputId": "4507b672-c4e2-48a3-9b27-ff8743ec7bdb"
      },
      "outputs": [
        {
          "output_type": "stream",
          "name": "stdout",
          "text": [
            "L\n",
            "e\n",
            "t\n",
            "´\n",
            "s\n",
            " \n",
            "C\n",
            "o\n",
            "d\n",
            "e\n",
            " \n",
            "b\n",
            "y\n",
            " \n",
            "A\n",
            "d\n",
            "a\n"
          ]
        }
      ],
      "source": [
        "caracter = 'X'\n",
        "\n",
        "for caracter in texto:\n",
        "  print(caracter)"
      ]
    },
    {
      "cell_type": "markdown",
      "metadata": {
        "id": "D2QHT4mgwxew"
      },
      "source": [
        "Pode-se definir então a _string_ como de fato uma __coleção de caracteres__. Mas ao contrário da lista, as _strings_ são imutáveis, ou seja, não pode-se modificar um elemento individual da própria _string_. Como o exemplo abaixo:"
      ]
    },
    {
      "cell_type": "code",
      "execution_count": null,
      "metadata": {
        "colab": {
          "base_uri": "https://localhost:8080/",
          "height": 183
        },
        "id": "6z-16_NYwxex",
        "outputId": "d20df7d5-2a5e-4c95-f85b-8df8188b61f7"
      },
      "outputs": [
        {
          "output_type": "error",
          "ename": "TypeError",
          "evalue": "ignored",
          "traceback": [
            "\u001b[0;31m---------------------------------------------------------------------------\u001b[0m",
            "\u001b[0;31mTypeError\u001b[0m                                 Traceback (most recent call last)",
            "\u001b[0;32m<ipython-input-7-707a5c052629>\u001b[0m in \u001b[0;36m<module>\u001b[0;34m\u001b[0m\n\u001b[1;32m      1\u001b[0m \u001b[0mtexto2\u001b[0m \u001b[0;34m=\u001b[0m \u001b[0;34m'boa noite turma'\u001b[0m\u001b[0;34m\u001b[0m\u001b[0;34m\u001b[0m\u001b[0m\n\u001b[0;32m----> 2\u001b[0;31m \u001b[0mtexto2\u001b[0m\u001b[0;34m[\u001b[0m\u001b[0;36m0\u001b[0m\u001b[0;34m]\u001b[0m \u001b[0;34m=\u001b[0m \u001b[0;34m'B'\u001b[0m\u001b[0;34m\u001b[0m\u001b[0;34m\u001b[0m\u001b[0m\n\u001b[0m",
            "\u001b[0;31mTypeError\u001b[0m: 'str' object does not support item assignment"
          ]
        }
      ],
      "source": [
        "texto2 = 'boa noite turma'\n",
        "texto2[0] = 'B'"
      ]
    },
    {
      "cell_type": "markdown",
      "metadata": {
        "id": "smSdDdQywxey"
      },
      "source": [
        "## "
      ]
    },
    {
      "cell_type": "markdown",
      "metadata": {
        "id": "3LP5vzQStUXA"
      },
      "source": [
        "## 2. Operações entre strings\n",
        "\n",
        "\n",
        "### Operadores Aritméticos\n",
        "\n",
        "Alguns operadores aritméticos funcionam com strings também. Naturalmente, eles não servem para fazer contas, mas nos permitem fazer de forma intuitiva algumas operações bastante úteis.\n",
        "\n",
        "O operador + serve como um operador de concatenação de strings: unir duas strings. Observe o exemplo abaixo:"
      ]
    },
    {
      "cell_type": "code",
      "execution_count": null,
      "metadata": {
        "colab": {
          "base_uri": "https://localhost:8080/"
        },
        "id": "U_w46aKqwxe1",
        "outputId": "840da1cc-bca9-48c7-950d-41eff04f5753"
      },
      "outputs": [
        {
          "output_type": "stream",
          "name": "stdout",
          "text": [
            "OláMundo\n"
          ]
        }
      ],
      "source": [
        "string1 = 'Olá'\n",
        "string2 = 'Mundo'\n",
        "resultado = string1 + string2\n",
        "print(resultado)"
      ]
    },
    {
      "cell_type": "code",
      "execution_count": null,
      "metadata": {
        "colab": {
          "base_uri": "https://localhost:8080/"
        },
        "id": "thnDdk7nwxe1",
        "outputId": "7222b460-e80a-430b-efd0-0135479a37e0"
      },
      "outputs": [
        {
          "output_type": "stream",
          "name": "stdout",
          "text": [
            "Olá Mundo\n"
          ]
        }
      ],
      "source": [
        "string1 = 'Olá '\n",
        "string2 = 'Mundo'\n",
        "resultado = string1 + string2\n",
        "print(resultado)"
      ]
    },
    {
      "cell_type": "markdown",
      "metadata": {
        "id": "0O9DPrMVtczG"
      },
      "source": [
        "Outro operador que funciona é o operador *. Este operador não é usado entre duas strings, mas entre uma string e um valor inteiro _int_. Ele repetirá a string o número de vezes dado pelo _int_."
      ]
    },
    {
      "cell_type": "code",
      "execution_count": null,
      "metadata": {
        "colab": {
          "base_uri": "https://localhost:8080/"
        },
        "id": "3HMfVMRQwxe2",
        "outputId": "a12bb073-89a0-40ad-bc51-df75a757672b"
      },
      "outputs": [
        {
          "output_type": "stream",
          "name": "stdout",
          "text": [
            "Foi Brasil! Foi Brasil! Foi Brasil! Foi Brasil! Foi Brasil! Foi Brasil! \n"
          ]
        }
      ],
      "source": [
        "string = 'Foi Brasil! '\n",
        "multi = 6 * string\n",
        "print(multi)"
      ]
    },
    {
      "cell_type": "markdown",
      "metadata": {
        "id": "PMpKFfBowxe3"
      },
      "source": [
        "## "
      ]
    },
    {
      "cell_type": "markdown",
      "metadata": {
        "id": "b3vCgO5jwxe3"
      },
      "source": [
        "### Operadores Lógicos\n",
        "\n",
        "Os operadores lógicos (<, >, <=, =>, != e ==) também funcionam com _strings_. Esses operadores são __case sensitive__, ou seja, diferenciam maiúsculas de minúsculas.\n",
        "\n",
        "De maneira muito simplificada e desconsiderando diferenças entre maiúsculas e minúsculas, podemos dizer que eles consideram ordem alfabética: 'banana' é maior do que 'abacaxi'."
      ]
    },
    {
      "cell_type": "code",
      "execution_count": null,
      "metadata": {
        "colab": {
          "base_uri": "https://localhost:8080/"
        },
        "id": "En8VvWavwxe4",
        "outputId": "abedd9a8-5541-4158-cc6f-5503532cc708"
      },
      "outputs": [
        {
          "output_type": "stream",
          "name": "stdout",
          "text": [
            "True\n",
            "False\n"
          ]
        }
      ],
      "source": [
        "string1 = 'banana'\n",
        "string2 = 'abacaxi'\n",
        "print(string1 > string2)\n",
        "print(string1 < string2)"
      ]
    },
    {
      "cell_type": "markdown",
      "metadata": {
        "id": "Z-RgM1eEwxe4"
      },
      "source": [
        "A explicação mais completa é a seguinte: internamente, cada caractere é armazenado como um número. Quando utilizamos qualquer tipo de aplicação que irá exibir um texto (um editor de textos, navegador de internet, ou mesmo os nossos programinhas em _Python_ rodando no terminal), a aplicação usa esses números como índices em uma tabela de codificação de caracteres.\n",
        "\n",
        "Temos diversos esquemas diferentes de codificação de caracteres em uso pelo mundo, e quando você está usando um programa ou navegando por um site e você nota símbolos estranhos no texto (frequentemente onde teríamos caracteres especiais, como letras com acento), é provável que o autor do texto tenha utilizado uma tabela e o seu computador esteja usando outra.\n",
        "\n",
        "Vários programas permitem a conversão entre essas tabelas, e você já deve ter visto essa \"sopa de letrinhas\" em alguma aba ou janela de configuração em algum editor de textos: utf-8, utf-16, windows-1252 (ou cp-2152), e até mesmo alguns padrões ISO.\n",
        "\n",
        "Para ilustrar a ideia, vamos colocar aqui uma das tabelas mais simples, a tabela ASCII:\n",
        "\n",
        "![](https://upload.wikimedia.org/wikipedia/commons/thumb/1/1b/ASCII-Table-wide.svg/1200px-ASCII-Table-wide.svg.png)\n",
        "\n",
        "Fonte: https://upload.wikimedia.org/wikipedia/commons/thumb/1/1b/ASCII-Table-wide.svg/1200px-ASCII-Table-wide.svg.png\n",
        "\n",
        "Note que o caractere 'A' está no índice 65, o 'B' está no índice 66, e assim sucessivamente. Por isso, 'Abacate' < 'Banana' é verdadeiro: a primeira _string_ começa com uma letra no índice 65 da tabela, a segunda com uma letra no índice 66.\n"
      ]
    },
    {
      "cell_type": "code",
      "execution_count": null,
      "metadata": {
        "colab": {
          "base_uri": "https://localhost:8080/"
        },
        "id": "WtoMtPFkwxe6",
        "outputId": "05b3c31a-5c8a-4817-88f9-63608b9e2bfe"
      },
      "outputs": [
        {
          "output_type": "stream",
          "name": "stdout",
          "text": [
            "False\n",
            "True\n"
          ]
        }
      ],
      "source": [
        "string1 = 'Banana'\n",
        "string2 = 'abacaxi'\n",
        "\n",
        "print(string1 > string2)\n",
        "print(string1 < string2)"
      ]
    },
    {
      "cell_type": "markdown",
      "metadata": {
        "id": "Y4GPaz36wxe7"
      },
      "source": [
        "No caso de 'Abacate' e 'Abacaxi', temos um \"empate\" das 5 primeiras letras. Então é a sexta letra que vai mandar: 'x' é maior do que 't', por estar em uma posição superior na tabela.\n",
        "\n",
        "Note que a ordem não é exatamente alfabética: entre os caracteres maiúsculos, seguimos ordem alfabética. Entre os minúsculos, idem. E entre os dígitos numéricos, também temos ordem crescente correspondente aos valores. Mas todos os minúsculos são \"maiores\" do que qualquer maiúsculo, que por sua vez são \"maiores\" do que qualquer dígito numérico. Símbolos, operadores e sinais de pontuação estão em posições diversas."
      ]
    },
    {
      "cell_type": "code",
      "execution_count": null,
      "metadata": {
        "colab": {
          "base_uri": "https://localhost:8080/"
        },
        "id": "RPsO6N32wxe8",
        "outputId": "c67b7dec-ae08-4c1c-fe4f-a0a9ae3f0fb1"
      },
      "outputs": [
        {
          "output_type": "stream",
          "name": "stdout",
          "text": [
            "False\n",
            "True\n"
          ]
        }
      ],
      "source": [
        "string1 = 'Abacate'\n",
        "string2 = 'Abacaxi'\n",
        "\n",
        "print(string1 > string2)\n",
        "print(string1 < string2)"
      ]
    },
    {
      "cell_type": "markdown",
      "metadata": {
        "id": "XW5AA92Ewxe8"
      },
      "source": [
        "### Copiando por Concatenação\n",
        "\n",
        "Já resolvemos diversos problemas de somatório utilizando _loops_ como _for_ e _while_. Isto vale da mesma lógica para as _strings_:"
      ]
    },
    {
      "cell_type": "code",
      "execution_count": null,
      "metadata": {
        "colab": {
          "base_uri": "https://localhost:8080/"
        },
        "id": "6Y46FgBuwxe8",
        "outputId": "f3e607bb-5d9d-461b-a230-3608d4c2e143"
      },
      "outputs": [
        {
          "output_type": "stream",
          "name": "stdout",
          "text": [
            "Antes  \n",
            "Depois  Boa noite turma, ótima aula hoje\n"
          ]
        }
      ],
      "source": [
        "string_inicial = 'Boa noite turma, ótima aula hoje'\n",
        "string_final = ''\n",
        "\n",
        "print(\"Antes \", string_final)\n",
        "\n",
        "for caracter in string_inicial:\n",
        "  string_final += caracter\n",
        "\n",
        "print(\"Depois \", string_final)"
      ]
    },
    {
      "cell_type": "markdown",
      "metadata": {
        "id": "KrBglVBWwxe9"
      },
      "source": [
        "Isso é útil porque antes de \"somar\" cada letra à string final podemos fazer alterações (como transformar em maiúscula ou minúscula, acrescentar caracteres entre 2 letras etc.). É um jeito de fazer tratamento de _strings_. Veremos mais sobre tratamento de strings no capítulo de funções de _strings_."
      ]
    },
    {
      "cell_type": "markdown",
      "metadata": {
        "id": "uEI9qyWuwxe9"
      },
      "source": [
        "## "
      ]
    },
    {
      "cell_type": "code",
      "execution_count": null,
      "metadata": {
        "colab": {
          "base_uri": "https://localhost:8080/"
        },
        "id": "XfBoXgH0wxe-",
        "outputId": "633b8ab7-33a2-4d82-c84b-6cfbc440cd4b"
      },
      "outputs": [
        {
          "output_type": "stream",
          "name": "stdout",
          "text": [
            "True\n",
            "False\n"
          ]
        }
      ],
      "source": [
        "string1 = 'ó'\n",
        "string2 = 'o'\n",
        "\n",
        "print(string1 > string2)\n",
        "print(string1 < string2)"
      ]
    },
    {
      "cell_type": "markdown",
      "metadata": {
        "id": "V-MuaTWOuE9U"
      },
      "source": [
        "### Transformando uma string em lista\n",
        "\n",
        "\n",
        "_Strings_ são imutáveis como comentado anteriormente, e isso pode nos dar um pouco de trabalho quando queremos fazer pequenas alterações, como forçar um caractere a ser maiúsculo ou acrescentar um caractere à _string_. Uma das formas de fazer envolve a \"soma cumulativa\" apresentada acima. Outra forma envolve transformar a nossa _string_ em lista, que é uma estrutura mutável. Execute o programa abaixo:"
      ]
    },
    {
      "cell_type": "code",
      "execution_count": null,
      "metadata": {
        "colab": {
          "base_uri": "https://localhost:8080/"
        },
        "id": "ejwmw7rnwxe-",
        "outputId": "efe18f26-87e1-4aab-f65c-e21e2d0157e2"
      },
      "outputs": [
        {
          "output_type": "stream",
          "name": "stdout",
          "text": [
            "['b', 'o', 'a', ' ', 'n', 'o', 'i', 't', 'e', ' ', 't', 'u', 'r', 'm', 'a', ',', ' ', 'ó', 't', 'i', 'm', 'a', ' ', 'a', 'u', 'l', 'a', ' ', 'h', 'o', 'j', 'e']\n"
          ]
        }
      ],
      "source": [
        "string = 'boa noite turma, ótima aula hoje'\n",
        "lista = list(string)\n",
        "print(lista)"
      ]
    },
    {
      "cell_type": "code",
      "source": [
        "lista[0] = 'B'\n",
        "print(lista)"
      ],
      "metadata": {
        "colab": {
          "base_uri": "https://localhost:8080/"
        },
        "id": "4dpRIKRS4xIJ",
        "outputId": "1f818af8-bb63-4f03-9651-462b7fb91976"
      },
      "execution_count": null,
      "outputs": [
        {
          "output_type": "stream",
          "name": "stdout",
          "text": [
            "['B', 'o', 'a', ' ', 'n', 'o', 'i', 't', 'e', ' ', 't', 'u', 'r', 'm', 'a', ',', ' ', 'ó', 't', 'i', 'm', 'a', ' ', 'a', 'u', 'l', 'a', ' ', 'h', 'o', 'j', 'e']\n"
          ]
        }
      ]
    },
    {
      "cell_type": "code",
      "source": [
        "lista.append('!')\n",
        "print(lista)"
      ],
      "metadata": {
        "colab": {
          "base_uri": "https://localhost:8080/"
        },
        "id": "Z8Oemg9745PC",
        "outputId": "87c0be52-ed93-4188-cc12-dfafc4bdf883"
      },
      "execution_count": null,
      "outputs": [
        {
          "output_type": "stream",
          "name": "stdout",
          "text": [
            "['B', 'o', 'a', ' ', 'n', 'o', 'i', 't', 'e', ' ', 't', 'u', 'r', 'm', 'a', ',', ' ', 'ó', 't', 'i', 'm', 'a', ' ', 'a', 'u', 'l', 'a', ' ', 'h', 'o', 'j', 'e', '!']\n"
          ]
        }
      ]
    },
    {
      "cell_type": "code",
      "source": [
        "string_nova = str(lista)\n",
        "print(f'Nova string: {string_nova}')\n",
        "print(string_nova[2])\n"
      ],
      "metadata": {
        "colab": {
          "base_uri": "https://localhost:8080/"
        },
        "id": "7rMTnbJt5NWg",
        "outputId": "f5f94c01-9c0e-4f38-d40c-fdd7b3faffa3"
      },
      "execution_count": null,
      "outputs": [
        {
          "output_type": "stream",
          "name": "stdout",
          "text": [
            "Nova string: ['B', 'o', 'a', ' ', 'n', 'o', 'i', 't', 'e', ' ', 't', 'u', 'r', 'm', 'a', ',', ' ', 'ó', 't', 'i', 'm', 'a', ' ', 'a', 'u', 'l', 'a', ' ', 'h', 'o', 'j', 'e', '!']\n",
            "B\n"
          ]
        }
      ]
    },
    {
      "cell_type": "markdown",
      "metadata": {
        "id": "DX32242EuOO1"
      },
      "source": [
        "Como a lista é mutável, nela conseguimos alterar uma letra e adicionar um símbolo ao final sem dificuldades! Porém, infelizmente nosso resultado é uma lista, o que não ficou muito legível para o usuário. Podemos resolver isso utilizando a função join. Veremos em breve como ele realmente funciona, mas por hora podemos utilizá-lo da seguinte maneira para transformar lista em string:\n",
        "\n"
      ]
    },
    {
      "cell_type": "code",
      "source": [
        "print(lista)"
      ],
      "metadata": {
        "colab": {
          "base_uri": "https://localhost:8080/"
        },
        "id": "CG5UUIX45vFi",
        "outputId": "dbac8703-dc32-43a6-c910-7d69c5b2e055"
      },
      "execution_count": null,
      "outputs": [
        {
          "output_type": "stream",
          "name": "stdout",
          "text": [
            "['B', 'o', 'a', ' ', 'n', 'o', 'i', 't', 'e', ' ', 't', 'u', 'r', 'm', 'a', ',', ' ', 'ó', 't', 'i', 'm', 'a', ' ', 'a', 'u', 'l', 'a', ' ', 'h', 'o', 'j', 'e', '!']\n"
          ]
        }
      ]
    },
    {
      "cell_type": "code",
      "execution_count": null,
      "metadata": {
        "colab": {
          "base_uri": "https://localhost:8080/"
        },
        "id": "_FGbW4Tkwxe-",
        "outputId": "3a866b2f-b337-4498-dc71-c564650e9a17"
      },
      "outputs": [
        {
          "output_type": "stream",
          "name": "stdout",
          "text": [
            "Boa noite turma, ótima aula hoje!\n"
          ]
        }
      ],
      "source": [
        "string_final = ''.join(lista)\n",
        "print(string_final)"
      ]
    },
    {
      "cell_type": "markdown",
      "metadata": {
        "id": "rivoTlw5wxe-"
      },
      "source": [
        "## "
      ]
    },
    {
      "cell_type": "markdown",
      "metadata": {
        "id": "dNaeZ555uSPf"
      },
      "source": [
        "## 3. Símbolos especiais\n",
        "\n",
        "Além de letras, números, sinais de pontuação, símbolos matemáticos etc., uma string pode conter alguns operadores especiais de controle. Esses operadores podem indicar, por exemplo, uma quebra de linha ou uma tabulação. Vejamos os mais comuns:\n",
        "\n",
        "### Quebra de linha\n",
        "\n",
        "Uma quebra de linha indica que o programa exibindo a string deverá quebrar a linha atual e exibir o restante da string na linha seguinte, e é representada na maioria dos sistemas e na web pelo símbolo \\n. Execute o programa abaixo e veja o resultado na tela:"
      ]
    },
    {
      "cell_type": "code",
      "execution_count": null,
      "metadata": {
        "colab": {
          "base_uri": "https://localhost:8080/"
        },
        "id": "p6RWph6fwxe_",
        "outputId": "3919518b-684b-4eab-e859-39eb07507375"
      },
      "outputs": [
        {
          "output_type": "stream",
          "name": "stdout",
          "text": [
            "Olá\n",
            "Mundo\n"
          ]
        }
      ],
      "source": [
        "print('Olá\\nMundo')"
      ]
    },
    {
      "cell_type": "markdown",
      "metadata": {
        "id": "vzb92Yt0ubFF"
      },
      "source": [
        "### Tabulação\n",
        "A tabulação indica um recuo equivalente ao da tecla Tab - um recuo de início de parágrafo, ou o recuo que usamos para aninhar linhas de código em _Python_. Ela é representada pelo símbolo \\t. Verifique o resultado do exemplo abaixo:"
      ]
    },
    {
      "cell_type": "code",
      "execution_count": null,
      "metadata": {
        "colab": {
          "base_uri": "https://localhost:8080/"
        },
        "id": "jvA6TmGcwxfA",
        "outputId": "3f6e35a0-fff6-45fe-a2b8-64451e1a1fa8"
      },
      "outputs": [
        {
          "output_type": "stream",
          "name": "stdout",
          "text": [
            "Candidatos aprovados: \n",
            "\t Mario\n",
            "\t Yoshi\n",
            "\t Luigi\n",
            "Candidatos reprovados: \n",
            "\t Bowser\n",
            "\t Wario\n",
            "\t Waluigi\n"
          ]
        }
      ],
      "source": [
        "aprovados = ['Mario', 'Yoshi', 'Luigi']\n",
        "reprovados = ['Bowser', 'Wario', 'Waluigi']\n",
        "\n",
        "print('Candidatos aprovados: ')\n",
        "for nome in aprovados:\n",
        "  print(f'\\t {nome}')\n",
        "print('Candidatos reprovados: ')\n",
        "for nome in reprovados:\n",
        "  print(f'\\t {nome}')"
      ]
    },
    {
      "cell_type": "markdown",
      "metadata": {
        "id": "QQwGG9lwujaV"
      },
      "source": [
        "### Barra\n",
        "E se nós quiséssemos representar uma string que explica o significado de \\n, por exemplo, como proceder? Afinal, ao ver o símbolo \\n o programa entenderá que é uma quebra de linha e fará isso ao invés de escrever \\n na tela.\n",
        "\n",
        "Podemos utilizar 2 barras: `\\\\`. Ao fazermos isso, o programa entende que é para representar a barra na tela ao invés de interpretá-la como início de outro símbolo especial."
      ]
    },
    {
      "cell_type": "code",
      "execution_count": null,
      "metadata": {
        "colab": {
          "base_uri": "https://localhost:8080/"
        },
        "id": "5nuJ9lPqwxfB",
        "outputId": "eab78603-c0f0-4b33-9568-c155600e9f47"
      },
      "outputs": [
        {
          "output_type": "stream",
          "name": "stdout",
          "text": [
            "Utiliza-se o \\n para quebrar linhas.\n"
          ]
        }
      ],
      "source": [
        "print('Utiliza-se o \\\\n para quebrar linhas.')"
      ]
    },
    {
      "cell_type": "markdown",
      "metadata": {
        "id": "gv79Lk1eupEQ"
      },
      "source": [
        "### Aspas\n",
        "Um problema que você deve ter se deparado é que parece impossível representar o símbolo ' em uma string que foi aberta por esse símbolo, já que a segunda ocorrência dele fechará a string. Idem para o símbolo \". Podemos resolver isso da mesma forma que fizemos com a barra: `\\'` irá sempre representar o símbolo ' e `\\\"` irá sempre representar o símbolo \" ao invés de fechar uma string."
      ]
    },
    {
      "cell_type": "code",
      "execution_count": null,
      "metadata": {
        "colab": {
          "base_uri": "https://localhost:8080/"
        },
        "id": "XjhV4Cn6wxfB",
        "outputId": "de6f0514-7eb7-4150-9784-0a8115ff17ca"
      },
      "outputs": [
        {
          "output_type": "stream",
          "name": "stdout",
          "text": [
            "Aspas simples: '\n",
            "Aspas duplas: \"\n"
          ]
        }
      ],
      "source": [
        "print('Aspas simples: \\'')\n",
        "print('Aspas duplas: \\\"')"
      ]
    },
    {
      "cell_type": "markdown",
      "metadata": {
        "id": "nXNOwXcwwxfC"
      },
      "source": [
        "## "
      ]
    },
    {
      "cell_type": "markdown",
      "metadata": {
        "id": "cGDVtw4KvAZS"
      },
      "source": [
        "## 4. Funções de strings\n",
        "\n",
        "É possível fazer várias operações com strings utilizando técnicas como concatenação ou converter em listas. Porém, certas operações são muito comuns e podem ser muito trabalhosas de fazer na mão. Por isso, temos diversas funções prontas para nos ajudar.\n",
        "\n",
        "Note que como strings são imutáveis, nenhuma dessas funções irá alterar a string original. Elas sempre retornarão uma string nova com as modificações desejadas.\n",
        "\n",
        "Vejamos algumas das mais usadas.\n",
        "\n",
        "\n",
        "### Maiúsculas e minúsculas\n",
        "\n",
        "Temos algumas funções prontas para alterar a capitalização das letras. Uma delas é a função upper, que transforma todas as letras da string original em maiúsculas:"
      ]
    },
    {
      "cell_type": "code",
      "execution_count": null,
      "metadata": {
        "colab": {
          "base_uri": "https://localhost:8080/"
        },
        "id": "7wn3SPdZwxfE",
        "outputId": "db7633d9-1ae9-43b5-e497-46a35bdb72d9"
      },
      "outputs": [
        {
          "output_type": "stream",
          "name": "stdout",
          "text": [
            "OtOrRiNoLaRiNgOlOgIsTa OTORRINOLARINGOLOGISTA\n"
          ]
        }
      ],
      "source": [
        "palavra = 'OtOrRiNoLaRiNgOlOgIsTa'\n",
        "maiuscula = palavra.upper()\n",
        "print(palavra, maiuscula)"
      ]
    },
    {
      "cell_type": "markdown",
      "metadata": {
        "id": "YP1lDmjXwQfh"
      },
      "source": [
        "Analogamente, temos a função lower para transformar todas as letras em minúsculas:\n",
        "\n"
      ]
    },
    {
      "cell_type": "code",
      "execution_count": null,
      "metadata": {
        "colab": {
          "base_uri": "https://localhost:8080/"
        },
        "id": "hCAyRKk1wxfF",
        "outputId": "4904aa01-1c1b-4dbc-d797-474c8ac24607"
      },
      "outputs": [
        {
          "output_type": "stream",
          "name": "stdout",
          "text": [
            "OtOrRiNoLaRiNgOlOgIsTa otorrinolaringologista\n"
          ]
        }
      ],
      "source": [
        "minuscula = palavra.lower()\n",
        "print(palavra, minuscula)"
      ]
    },
    {
      "cell_type": "markdown",
      "metadata": {
        "id": "8Lf0PYSCxbyG"
      },
      "source": [
        "Também é possível formatar a string inteira como um nome próprio: primeira letra de cada palavra maiúscula, todo o restante em minúscula. Para isso temos a função title:\n",
        "\n"
      ]
    },
    {
      "cell_type": "code",
      "execution_count": null,
      "metadata": {
        "colab": {
          "base_uri": "https://localhost:8080/"
        },
        "id": "6FOa_g6lwxfG",
        "outputId": "9c07dbcf-a626-4a87-a674-a9e42657fd9f"
      },
      "outputs": [
        {
          "output_type": "stream",
          "name": "stdout",
          "text": [
            "Vamos Para A Aula Então\n"
          ]
        }
      ],
      "source": [
        "frase = 'vAmOs PaRa a AuLA eNTão'\n",
        "titulo = frase.title()\n",
        "print(titulo)"
      ]
    },
    {
      "cell_type": "markdown",
      "metadata": {
        "id": "GLApDgvbxjI9"
      },
      "source": [
        "E, por fim, é possível tratar nossa string como uma frase gramaticalmente correta: primeira letra maiúscula, todo o resto minúsculo. Essa função é a capitalize:\n",
        "\n"
      ]
    },
    {
      "cell_type": "code",
      "execution_count": null,
      "metadata": {
        "colab": {
          "base_uri": "https://localhost:8080/"
        },
        "id": "mgbUPMiewxfG",
        "outputId": "3c219831-dbf1-4337-85cd-13a88c74f9cb"
      },
      "outputs": [
        {
          "output_type": "stream",
          "name": "stdout",
          "text": [
            "Vamos para a aula então\n"
          ]
        }
      ],
      "source": [
        "frase_correta = frase.capitalize()\n",
        "print(frase_correta)"
      ]
    },
    {
      "cell_type": "markdown",
      "metadata": {
        "id": "Vcm2IFw_x8m7"
      },
      "source": [
        "Uma utilidade para essas funções é padronizar entrada de usuário. Quando pedimos para o usuário digitar 'sim' caso ele deseje fazer algo, ele pode digitar 'SIM', 'sim', 'Sim', 'sIm', 'siM', 'SIm', 'sIM' ou 'SiM'. Prever todas essas condições em uma condicional pode ser bastante trabalhoso, ou mesmo impossível. Imagine se fosse uma string de várias letras... Porém, podemos forçar um padrão para a entrada do usuário e comparar com esse padrão:"
      ]
    },
    {
      "cell_type": "code",
      "execution_count": null,
      "metadata": {
        "colab": {
          "base_uri": "https://localhost:8080/"
        },
        "id": "Y8wFjlU-wxfH",
        "outputId": "49494bbf-06e7-4a64-99aa-69b5023d63b4"
      },
      "outputs": [
        {
          "output_type": "stream",
          "name": "stdout",
          "text": [
            "Digite 'sim' para entrar na aulasIm\n",
            "O usuário digitou sIm\n",
            "Boa aula!\n"
          ]
        }
      ],
      "source": [
        "usuario = input(\"Digite 'sim' para entrar na aula\")\n",
        "\n",
        "print(f'O usuário digitou {usuario}')\n",
        "\n",
        "if usuario.upper() == 'SIM':\n",
        "  print('Boa aula!')\n",
        "else:\n",
        "  print('Volte sempre')"
      ]
    },
    {
      "cell_type": "markdown",
      "metadata": {
        "id": "53IVws4CwxfH"
      },
      "source": [
        "## "
      ]
    },
    {
      "cell_type": "markdown",
      "metadata": {
        "id": "yZTZhTJXyB5K"
      },
      "source": [
        "## Quebrando _Strings_\n",
        "\n",
        "É possível separar uma string em uma lista de substrings. Isso pode ser particularmente útil quando precisamos separar um texto em palavras individuais. A função que realiza essa quebra é o `split`:"
      ]
    },
    {
      "cell_type": "code",
      "execution_count": null,
      "metadata": {
        "colab": {
          "base_uri": "https://localhost:8080/"
        },
        "id": "ODlteeRzwxfH",
        "outputId": "1a52f19b-091e-4152-d9a6-816fda9533de"
      },
      "outputs": [
        {
          "output_type": "stream",
          "name": "stdout",
          "text": [
            "['Uma', 'frase', 'qualquer', 'do', 'professor']\n"
          ]
        }
      ],
      "source": [
        "frase = 'Uma frase qualquer do professor'\n",
        "palavras = frase.split()\n",
        "print(palavras)"
      ]
    },
    {
      "cell_type": "code",
      "execution_count": null,
      "metadata": {
        "colab": {
          "base_uri": "https://localhost:8080/"
        },
        "id": "rXFTnuFfwxfH",
        "outputId": "5a33fc22-2c57-400f-dbfa-a19a2482ab48"
      },
      "outputs": [
        {
          "output_type": "stream",
          "name": "stdout",
          "text": [
            "['Um', ' fr', 'se qu', 'lquer do professor']\n"
          ]
        }
      ],
      "source": [
        "frase = 'Uma frase qualquer do professor'\n",
        "palavras = frase.split('a')\n",
        "print(palavras)"
      ]
    },
    {
      "cell_type": "code",
      "source": [
        "frase = 'Uma frase qualquer do professor'\n",
        "palavras = frase.split('r')\n",
        "print(palavras)"
      ],
      "metadata": {
        "colab": {
          "base_uri": "https://localhost:8080/"
        },
        "id": "bCR65GNrB1pt",
        "outputId": "a8e737db-6ae2-45a6-b640-3b6d20c7e03d"
      },
      "execution_count": null,
      "outputs": [
        {
          "output_type": "stream",
          "name": "stdout",
          "text": [
            "['Uma f', 'ase qualque', ' do p', 'ofesso', '']\n"
          ]
        }
      ]
    },
    {
      "cell_type": "markdown",
      "metadata": {
        "id": "YOFpHHOTyIjR"
      },
      "source": [
        "O `split` é mais do que apenas uma função para separar palavras. Podemos opcionalmente passar como parâmetro uma _string_ para ser usada como critério de separação: ao invés de quebrar no espaço em branco, a _string_ principal será quebrada nos pontos onde o parâmetro aparece (e ele será apagado do resultado).\n",
        "\n",
        "Uma utilidade interessante para isso seria quando estamos interessados em ler dados formatados do teclado ou de um arquivo e pegar as informações que nos interessam. Imagine, por exemplo, que você queira que o usuário digite uma data no formato 'dd/mm/aaaa' e em seguida você precise separar dia, mês e ano em três variáveis do tipo int. Isso é possível com o `split`:"
      ]
    },
    {
      "cell_type": "code",
      "execution_count": null,
      "metadata": {
        "colab": {
          "base_uri": "https://localhost:8080/"
        },
        "id": "L8ddICinwxfI",
        "outputId": "96b3b8d1-669d-40ef-d479-bdfa01b4cdab"
      },
      "outputs": [
        {
          "output_type": "stream",
          "name": "stdout",
          "text": [
            "Digite uma data: 14/12/2022\n",
            "Dia: 14\n",
            "Mês: 12\n",
            "Ano: 2022\n"
          ]
        }
      ],
      "source": [
        "dia, mes, ano = input('Digite uma data: ').split('/')\n",
        "print(f'Dia: {dia}')\n",
        "print(f'Mês: {mes}')\n",
        "print(f'Ano: {ano}')"
      ]
    },
    {
      "cell_type": "markdown",
      "metadata": {
        "id": "UqegUIl7wxfJ"
      },
      "source": [
        "## "
      ]
    },
    {
      "cell_type": "markdown",
      "metadata": {
        "id": "u7wC2vs0yQzi"
      },
      "source": [
        "### Substituindo elementos na _string_\n",
        "\n",
        "Uma das ferramentas mais úteis em qualquer editor de texto é o localizar e substituir, onde podemos buscar por todas as ocorrências de uma expressão no texto e trocar por outra expressão. Em _Python_ temos uma função análoga, o `replace`. Ele recebe 2 parâmetros: a expressão a ser substituída e a expressão que a substituirá. Veja o exemplo:"
      ]
    },
    {
      "cell_type": "code",
      "execution_count": null,
      "metadata": {
        "colab": {
          "base_uri": "https://localhost:8080/"
        },
        "id": "i4Ps8BRCwxfJ",
        "outputId": "12ef86d2-f0ec-4296-baec-97d60482171b"
      },
      "outputs": [
        {
          "output_type": "stream",
          "name": "stdout",
          "text": [
            "Python é fácil. Por ser fácil, devemos estudar.\n"
          ]
        }
      ],
      "source": [
        "frase = 'Python é difícil. Por ser difícil, devemos estudar.'\n",
        "corrigida = frase.replace('difícil', 'fácil')\n",
        "print(corrigida)"
      ]
    },
    {
      "cell_type": "markdown",
      "metadata": {
        "id": "I50yIXASyWQW"
      },
      "source": [
        "Em _Python_ não existe uma função para deletar um pedaço de uma _string_. Porém, podemos usar o replace para substituir uma expressão por uma string vazia, o que tem o mesmo resultado:\n",
        "\n"
      ]
    },
    {
      "cell_type": "code",
      "execution_count": null,
      "metadata": {
        "colab": {
          "base_uri": "https://localhost:8080/"
        },
        "id": "BVCX1lmpwxfK",
        "outputId": "768e88b4-2c2a-4328-f0a6-f63ec4fd01d8"
      },
      "outputs": [
        {
          "output_type": "stream",
          "name": "stdout",
          "text": [
            "lbni lemnh rr bnn\n"
          ]
        }
      ],
      "source": [
        "palavra = 'albania alemanha arara banana'\n",
        "palavra_a = palavra.replace('a', '')\n",
        "print(palavra_a)"
      ]
    },
    {
      "cell_type": "markdown",
      "metadata": {
        "id": "SgP6LuF6wxfK"
      },
      "source": [
        "## "
      ]
    },
    {
      "cell_type": "markdown",
      "metadata": {
        "id": "uAryhDh8yaei"
      },
      "source": [
        "## Concatenando _strings_ em uma coleção\n",
        "\n",
        "\n",
        "Imagine que você tem uma coleção (por exemplo, uma lista) de strings e precisa unir todas elas utilizando algum símbolo padrão como separador entre elas. Para isso temos o `join`. Ele soa pouco intuitivo no começo, então convém executar o exemplo e observar com atenção seu resultado:"
      ]
    },
    {
      "cell_type": "code",
      "execution_count": null,
      "metadata": {
        "colab": {
          "base_uri": "https://localhost:8080/"
        },
        "id": "7EdhFXXQwxfK",
        "outputId": "577d36c2-1162-4dde-b13c-32d0631ce320"
      },
      "outputs": [
        {
          "output_type": "stream",
          "name": "stdout",
          "text": [
            "aMarrocoSbMarrocoSc\n"
          ]
        }
      ],
      "source": [
        "lista = ['a', 'b', 'c']\n",
        "separador = 'MarrocoS'\n",
        "resultado = separador.join(lista)\n",
        "print(resultado)"
      ]
    },
    {
      "cell_type": "markdown",
      "metadata": {
        "id": "PLcUPrSswxfK"
      },
      "source": [
        "Já vimos o join antes sendo usado para converter uma lista de volta em string. Para isso, utilizávamos uma string vazia como separador. Assim, os elementos da lista eram concatenados sem separador.\n",
        "\n",
        "Dica: um jeito de memorizar facilmente como o join funciona é pensar que o separador entrará no lugar das vírgulas na visualização da lista."
      ]
    },
    {
      "cell_type": "markdown",
      "metadata": {
        "id": "44VXUaFNylzz"
      },
      "source": [
        "\n",
        "\n",
        "## 5. Formatação de _strings_\n",
        "\n",
        "### A função _format_\n",
        "\n",
        "Todo mundo que já preencheu um contrato ou uma ficha de cadastro está familiar com textos nesse estilo:\n",
        "\n",
        "` Eu, ______, portador do CPF ________, residente no endereço _____ autorizo o procedimento.`\n",
        "\n",
        "Esse é o texto genérico que vale para todos, e cada um de nós em particular entende que deve preencher os campos em brancos com dados específicos (nome, CPF e endereço, no exemplo acima).\n",
        "\n",
        "Existe uma função em _Python_ para realizar esse tipo de preenchimento de texto: o format. Suponha que você tenha dados em diferentes variáveis e precisa que todos eles apareçam em uma _string_. Basta criar uma string com os \"espaços em branco\" para serem preenchidos e passar as variáveis para a função. Os espaços em branco são representados por chaves ({})."
      ]
    },
    {
      "cell_type": "code",
      "execution_count": null,
      "metadata": {
        "colab": {
          "base_uri": "https://localhost:8080/"
        },
        "id": "mnY4u-GNwxfL",
        "outputId": "54343959-5c13-4884-cbae-784248836f8c"
      },
      "outputs": [
        {
          "output_type": "stream",
          "name": "stdout",
          "text": [
            "Digite seu nome: aaa\n",
            "Digite seu CPF: bbb\n",
            "Digite seu endereço: ccc\n",
            "Eu, aaa, portador do CPF bbb, residente no endereço ccc autorizo o procedimento.\n"
          ]
        }
      ],
      "source": [
        "nome = input('Digite seu nome: ')\n",
        "cpf = input('Digite seu CPF: ')\n",
        "end = input('Digite seu endereço: ')\n",
        "\n",
        "contrato = 'Eu, {}, portador do CPF {}, residente no endereço {} autorizo o procedimento.'\n",
        "\n",
        "contrato_preenchido = contrato.format(nome, cpf, end)\n",
        "\n",
        "print(contrato_preenchido)"
      ]
    },
    {
      "cell_type": "markdown",
      "metadata": {
        "id": "8JocxNHsy8oi"
      },
      "source": [
        "Porém, o grande charme não está apenas em preencher - isso poderia ser feito concatenando com o operador +. Nós podemos colocar opções de formatação nos nossos dados, como número de casas em um número.\n",
        "\n",
        "Imagine que você queira exibir uma data no formato dd/mm/aaaa. Em situações normais, dias e meses inferiores a 10 apareceriam com apenas 1 casa (int não é representado com zeros à esquerda). Porém, podemos especificar no format que gostaríamos de representar um inteiro com 2 casas, preenchendo com zero casas em branco."
      ]
    },
    {
      "cell_type": "code",
      "execution_count": null,
      "metadata": {
        "colab": {
          "base_uri": "https://localhost:8080/"
        },
        "id": "MANgJahbwxfL",
        "outputId": "19a71513-e2e7-4079-eaaf-e746771ed2d4"
      },
      "outputs": [
        {
          "output_type": "stream",
          "name": "stdout",
          "text": [
            "01/02/2020\n"
          ]
        }
      ],
      "source": [
        "dia = 1\n",
        "mes = 2\n",
        "ano = 2020\n",
        "data = '{:02d}/{:02d}/{:04d}'.format(dia, mes, ano)\n",
        "print(data)"
      ]
    },
    {
      "cell_type": "markdown",
      "metadata": {
        "id": "Y9PFhhVPzCaN"
      },
      "source": [
        "Vamos entender o que está dentro das chaves: o símbolo : indica que passaremos opções. O símbolo 'd' indica que estamos representando números inteiros em base decimal (dígitos de 0 a 9). Os símbolos '2' e '4' indicam, respectivamente, 2 casas ou 4 casas. E o símbolo '0' indica que se faltar dígitos, os espaços devem ser preenchidos com zero.\n",
        "\n",
        "Vejamos outro exemplo, dessa vez com casas decimais. É normal postos de gasolina mostrarem o preço do litro com 3 casas decimais. Mas o preço final a ser cobrado deverá ter 2 casas. Porém, ao multiplicar o preço por litro pelo valor em litros, é provável que o total dê várias casas decimais. Usaremos o format para representar com apenas 2 casas."
      ]
    },
    {
      "cell_type": "code",
      "execution_count": null,
      "metadata": {
        "colab": {
          "base_uri": "https://localhost:8080/"
        },
        "id": "-9TRfdTUwxfM",
        "outputId": "f0631053-83d5-4d71-e9c3-927dc9fac7d8"
      },
      "outputs": [
        {
          "output_type": "stream",
          "name": "stdout",
          "text": [
            "1434.0963\n"
          ]
        }
      ],
      "source": [
        "preco_gas = 5.109\n",
        "litros = 280.7\n",
        "total = preco_gas * litros\n",
        "print(total)"
      ]
    },
    {
      "cell_type": "code",
      "source": [
        "print('R$ {:.2f}'.format(total))"
      ],
      "metadata": {
        "colab": {
          "base_uri": "https://localhost:8080/"
        },
        "id": "HkO-IW80H2gn",
        "outputId": "bf468ff5-1d00-46cc-a677-86c13f3d66dd"
      },
      "execution_count": null,
      "outputs": [
        {
          "output_type": "stream",
          "name": "stdout",
          "text": [
            "R$ 146.63\n"
          ]
        }
      ]
    },
    {
      "cell_type": "markdown",
      "metadata": {
        "id": "8AGwep3_zHg9"
      },
      "source": [
        "Neste caso, o 'f' indica que o número é float. Já o '.2' indica que queremos 2 casas após o ponto decimal. Note que ele não apenas descarta as casas excedentes, e sim arredonda corretamente o número.\n",
        "\n",
        "O format possui tantas opções diferentes que existe um site inteiro dedicado a explicar e dar exemplos: https://pyformat.info/\n",
        "\n",
        "<br>\n",
        "\n",
        "### f-strings\n",
        "\n",
        "A função format já se mostrou bastante poderosa, e vimos como ela facilita muito nossa vida. Ela não apenas diminui nosso trabalho para concatenar múltiplas informações em uma única string, como ainda aceita opções diversas de formatação para cada uma das informações. Mas dá para ir um passo além.\n",
        "\n",
        "Ao colocarmos o caractere f imediatamente antes de abrir aspas para criar uma string, essa string irá se comportar de maneira muito semelhante à máscara de um format, e não será necessário chamar o format. Podemos colocar o nome de variáveis entre chaves para inseri-las automaticamente na string:"
      ]
    },
    {
      "cell_type": "code",
      "execution_count": null,
      "metadata": {
        "colab": {
          "base_uri": "https://localhost:8080/"
        },
        "id": "gGJ-otV_wxfN",
        "outputId": "66e18cd7-552b-46e7-8196-52f0405ab1be"
      },
      "outputs": [
        {
          "output_type": "stream",
          "name": "stdout",
          "text": [
            "Digite seu nome: aaa\n",
            "Digite seu CPF: bbb\n",
            "Digite seu endereço: ccc\n",
            "Eu, aaa, portador do CPF bbb, residente no endereço ccc autorizo o procedimento.\n"
          ]
        }
      ],
      "source": [
        "nome = input('Digite seu nome: ')\n",
        "cpf = input('Digite seu CPF: ')\n",
        "end = input('Digite seu endereço: ')\n",
        "\n",
        "contrato = f'Eu, {nome}, portador do CPF {cpf}, residente no endereço {end} autorizo o procedimento.'\n",
        "\n",
        "print(contrato)"
      ]
    },
    {
      "cell_type": "markdown",
      "metadata": {
        "id": "tLejrR2tzPen"
      },
      "source": [
        "Inclusive podemos utilizar as mesmas opções de formatação do format diretamente nas f-strings:\n",
        "\n"
      ]
    },
    {
      "cell_type": "code",
      "execution_count": null,
      "metadata": {
        "colab": {
          "base_uri": "https://localhost:8080/"
        },
        "id": "0WESm4i-wxfO",
        "outputId": "49217924-871e-4ea9-a772-eaf3bfcc3250"
      },
      "outputs": [
        {
          "output_type": "stream",
          "name": "stdout",
          "text": [
            "R$ 1,434.10\n"
          ]
        }
      ],
      "source": [
        "print(f'R$ {total:,.2f}')"
      ]
    },
    {
      "cell_type": "code",
      "source": [
        "data = f'{dia:02d}/{mes:02d}/{ano:04d}'\n",
        "print(data)"
      ],
      "metadata": {
        "colab": {
          "base_uri": "https://localhost:8080/"
        },
        "id": "z9moLVyHJwDQ",
        "outputId": "21ad64ce-0475-4346-c7b9-21ec0b1793e3"
      },
      "execution_count": null,
      "outputs": [
        {
          "output_type": "stream",
          "name": "stdout",
          "text": [
            "01/02/2020\n"
          ]
        }
      ]
    },
    {
      "cell_type": "markdown",
      "metadata": {
        "id": "jwiDZqeowxfP"
      },
      "source": [
        "Desde o seu lançamento, as f-strings vem se tornando cada vez mais populares, tornando o uso do format menos comum."
      ]
    },
    {
      "cell_type": "markdown",
      "metadata": {
        "id": "NUfDOg-CwxfP"
      },
      "source": [
        "## "
      ]
    },
    {
      "cell_type": "markdown",
      "metadata": {
        "id": "Gwi1bGcqwxfQ"
      },
      "source": [
        "## 6. Gerenciamento de Arquivos (Leitura e Gravação)\n",
        "\n",
        "A necessidade de salvar dados em algum local e depois recuperá-los é uma das situações mais comuns em qualquer\n",
        "aplicação. Muitas vezes, esses dados são complexos e possuem relações bem definidas entre si. Nesses casos, é\n",
        "recomendável utilizarmos bancos de dados, que são sistemas capazes de armazenar essas informações em uma forma\n",
        "estruturada e de fácil acesso posterior.\n",
        "\n",
        "Em outros cenários, entretanto, podemos precisar trabalhar apenas com um conjunto muito simples de dados, tornando\n",
        "inviável o uso de uma ferramenta tão potente quanto os bancos. Então, podemos simplesmente ler e escrever as informações\n",
        "diretamente em arquivos no sistema. Veremos então quais as formas mais simples de fazer essas duas operações com Python."
      ]
    },
    {
      "cell_type": "markdown",
      "metadata": {
        "id": "ALx7lBTPwxfQ"
      },
      "source": [
        "### Escrita em Arquivos\n",
        "\n",
        "Para a primeira operação, utilizaremos a função `open()` para iniciar a abertura do arquivo e o método `write()` para\n",
        "escrever os dados nele.\n",
        "\n",
        "```python\n",
        "file = open(\"meu_arquivo.txt\", \"w\")\n",
        "file.write(\"Escrevendo dados em meu arquivo\")\n",
        "file.close()\n",
        "```\n",
        "\n",
        "O segundo argumento da função `open()` acima é o modo em que queremos abrir esse arquivo. Por padrão, o modo é o `r+`,\n",
        "significando que queremos ler e escrever no mesmo arquivo, limpando seu conteúdo primeiro, ou seja, não importa se\n",
        "executarmos várias vezes o mesmo código, teremos sempre apenas uma linha nele."
      ]
    },
    {
      "cell_type": "code",
      "execution_count": null,
      "metadata": {
        "id": "06iBJwwMwxfR"
      },
      "outputs": [],
      "source": [
        "file = open(\"meu_arquivo_de_texto.txt\", \"w\")\n",
        "file.write(\"Escrevendo o nosso primeiro arquivo de texto utilizando Python\")\n",
        "file.close()"
      ]
    },
    {
      "cell_type": "markdown",
      "metadata": {
        "id": "rs9jaMFtwxfR"
      },
      "source": [
        "Existem 4 opções \"básicas\" para o modo:\n",
        "\n",
        "| Modo | Descrição                                                                                              |\n",
        "|------|--------------------------------------------------------------------------------------------------------|\n",
        "| `w`  | Escrita de arquivos (`w` para `write`), sobrescrevendo os dados do arquivo original (se houver)        |\n",
        "| `a`  | Escrita de arquivos (`a` para `append`), adicionando os dados ao final do arquivo original (se houver) |\n",
        "| `r`  | Leitura de arquivos (`r` para `read`) e o modo padrão se esse parâmetro for omitido                    |\n",
        "| `r+` | Tanto para leitura quanto escrita de arquivos (também sobrescrevendo, sendo um `r` + `w`)  \n",
        "\n",
        "<br>\n",
        "\n",
        "Após escrevermos os dados desejados, invocamos o método `close()` para terminar a operação e realmente executar as\n",
        "operações pendentes, já que o sistema operacional possui diversos mecanismos para melhorar a performance e pode guardar\n",
        "temporariamente informações na memória, o que chamamos de _\"buffer\"_.\n",
        "\n",
        "Além disso, podemos passar outros argumentos para o método `open()`, como por exemplo configurações de _encoding_ (se\n",
        "estamos utilizando UTF-8 ou ISO-8859-1, por exemplo), modo de quebra de linha (como `\\n` ou `\\r\\n`) e outros.\n",
        "\n",
        "### Método recomendado: `with`\n",
        "\n",
        "Existe uma maneira mais simples para escrevemos em arquivos, através do código abaixo:\n",
        "\n",
        "```python\n",
        "with open(\"meu_arquivo.txt\", \"w\") as file:\n",
        "    file.write(\"Escrevendo dados em meu arquivo com with\")\n",
        "```\n",
        "\n",
        "Além de possuir menos linhas de código, a instrução `with` garante que o método `close()` sempre será invocado, mesmo\n",
        "que um erro aconteça no meio do caminho."
      ]
    },
    {
      "cell_type": "code",
      "execution_count": null,
      "metadata": {
        "id": "6b_iYzSMwxfR"
      },
      "outputs": [],
      "source": [
        "with open(\"meu_segunto_arquivo_texto.txt\", \"w\") as file:\n",
        "  file.write(\"Agora já estou craque em escrever txt com Python\")"
      ]
    },
    {
      "cell_type": "markdown",
      "metadata": {
        "id": "kA0I2AsywxfS"
      },
      "source": [
        "## "
      ]
    },
    {
      "cell_type": "markdown",
      "metadata": {
        "id": "9qVBwzXewxfS"
      },
      "source": [
        "### Checagem de Existência de Arquivos\n",
        "\n",
        "Se você quiser apenas verificar se um certo diretório ou arquivo existe, sem necessariamente ler seu conteúdo, você pode\n",
        "utilizar algumas abordagens distintas. As mais comuns são através da\n",
        "biblioteca [`os.path`](https://docs.python.org/pt-br/3/library/os.path.html).\n",
        "\n",
        "Para checar se um arquivo existe, utilize `os.path.isfile()`:\n",
        "\n",
        "```python\n",
        "from os.path import isfile\n",
        "\n",
        "if isfile(\"meu_arquivo.txt\"):\n",
        "    print(\"O arquivo meu_arquivo.txt existe\")\n",
        "else:\n",
        "    print(\"O arquivo meu_arquivo.txt não existe\")\n",
        "```"
      ]
    },
    {
      "cell_type": "code",
      "execution_count": null,
      "metadata": {
        "colab": {
          "base_uri": "https://localhost:8080/"
        },
        "id": "Nm4W0zaPwxfS",
        "outputId": "df61ce5e-08c8-437a-8e3f-22700890cf9f"
      },
      "outputs": [
        {
          "output_type": "stream",
          "name": "stdout",
          "text": [
            "O arquivo existe\n"
          ]
        }
      ],
      "source": [
        "from os.path import isfile\n",
        "\n",
        "if isfile(\"meu_segunto_arquivo_texto.txt\"):\n",
        "  print(\"O arquivo existe\")\n",
        "else:\n",
        "  print(\"Arquivo não encontrado\")"
      ]
    },
    {
      "cell_type": "markdown",
      "metadata": {
        "id": "ngXKyedYwxfS"
      },
      "source": [
        "> Nota: os códigos acima podem ser escritos com menos linhas, através do `if` ternário:\n",
        "\n",
        "```python\n",
        "print(\"O arquivo meu_arquivo.txt existe?\")\n",
        "print(\"Sim\" if isfile(\"meu_arquivo.txt\") else \"Não\")\n",
        "```"
      ]
    },
    {
      "cell_type": "code",
      "execution_count": null,
      "metadata": {
        "colab": {
          "base_uri": "https://localhost:8080/"
        },
        "id": "vzCGEdCuwxfT",
        "outputId": "540b84fb-8bdc-47fa-8a0c-b5b8a624b29e"
      },
      "outputs": [
        {
          "output_type": "stream",
          "name": "stdout",
          "text": [
            "O arquivo meu_segunto_arquivo_texto.txt existe?\n",
            "Sim\n"
          ]
        }
      ],
      "source": [
        "print('O arquivo meu_segunto_arquivo_texto.txt existe?')\n",
        "print('Sim' if isfile('meu_segunto_arquivo_texto.txt') else 'Não')"
      ]
    },
    {
      "cell_type": "markdown",
      "metadata": {
        "id": "BlnJin7dwxfT"
      },
      "source": [
        "## "
      ]
    },
    {
      "cell_type": "markdown",
      "metadata": {
        "id": "ndBFjB6rwxfU"
      },
      "source": [
        "### Leitura de Arquivos\n",
        "\n",
        "Assim como utilizamos o `write()` para escrever, iremos usar seu método análogo `read()`:\n",
        "\n",
        "```python\n",
        "with open(\"meu_arquivo.txt\", \"r\") as file:\n",
        "    conteudo = file.read()\n",
        "    # Aqui você pode lidar com a variável conteudo\n",
        "```\n"
      ]
    },
    {
      "cell_type": "code",
      "execution_count": null,
      "metadata": {
        "colab": {
          "base_uri": "https://localhost:8080/"
        },
        "id": "qNyPkiMowxfV",
        "outputId": "5a8171c6-d3e7-4810-fa2e-64fed4e472ce"
      },
      "outputs": [
        {
          "output_type": "stream",
          "name": "stdout",
          "text": [
            "Agora já estou craque em escrever txt com Python\n"
          ]
        }
      ],
      "source": [
        "with open(\"meu_segunto_arquivo_texto.txt\", \"r\") as file:\n",
        "  conteudo = file.read()\n",
        "print(conteudo)"
      ]
    },
    {
      "cell_type": "markdown",
      "metadata": {
        "id": "04AcLbGIwxfV"
      },
      "source": [
        "Mas cuidado! Como você pode ter notado, essa função irá ler o arquivo inteiro de uma vez, podendo causar problemas no\n",
        "uso de memória RAM. \n",
        "\n",
        "\n",
        "### Lendo linha por linha\n",
        "\n",
        "Se você quiser ler linha por linha do arquivo, utilize o método `readline()`:\n",
        "\n",
        "```python\n",
        "with open(\"meu_arquivo.txt\", \"r\") as file:\n",
        "    while linha := file.readline():\n",
        "        print(\"Linha:\", linha)\n",
        "```\n",
        "\n",
        "Esse código pode ser ainda mais simples, utilizando o `for`:\n",
        "\n",
        "```python\n",
        "with open(\"meu_arquivo.txt\", \"r\") as file:\n",
        "    for linha in file:\n",
        "        print(\"Linha:\", linha)\n",
        "```"
      ]
    },
    {
      "cell_type": "code",
      "execution_count": null,
      "metadata": {
        "id": "LVk7K45-wxfW"
      },
      "outputs": [],
      "source": []
    },
    {
      "cell_type": "code",
      "execution_count": null,
      "metadata": {
        "id": "Z8-Lp6gDwxfW"
      },
      "outputs": [],
      "source": []
    },
    {
      "cell_type": "markdown",
      "metadata": {
        "id": "8A9XwQrnwxfW"
      },
      "source": [
        "## "
      ]
    },
    {
      "cell_type": "markdown",
      "metadata": {
        "id": "BTYmg-6tzUU6"
      },
      "source": [
        "## Exercícios"
      ]
    },
    {
      "cell_type": "markdown",
      "metadata": {
        "id": "ysJxw4yf0-ZB"
      },
      "source": [
        "__1)__ Faça um programa que lê uma string do teclado e a exibe invertida na tela.\n",
        "\n",
        "\n",
        "Exemplo: a string \"batata\" vira \"atatab\"."
      ]
    },
    {
      "cell_type": "code",
      "execution_count": null,
      "metadata": {
        "id": "NqbbLzU91N8K",
        "colab": {
          "base_uri": "https://localhost:8080/"
        },
        "outputId": "1d0ae5f5-06e1-459e-a90a-6b6eb5401db7"
      },
      "outputs": [
        {
          "output_type": "stream",
          "name": "stdout",
          "text": [
            "Digite uma string: batata\n",
            "String invertida: atatab\n"
          ]
        }
      ],
      "source": [
        "palavra = input('Digite uma string: ')\n",
        "palavra_invertida = ''\n",
        "for i in range(len(palavra)-1, -1, -1):\n",
        "  palavra_invertida += palavra[i]\n",
        "\n",
        "print(f'String invertida: {palavra_invertida}')"
      ]
    },
    {
      "cell_type": "markdown",
      "metadata": {
        "id": "pWz2qyVb1OJP"
      },
      "source": [
        "__2)__ Faça um programa que pede para o usuário digitar 2 palavras. O seu programa deverá responder se elas são espelhadas uma da outra, ou seja, se ao inverter uma delas, temos a outra. \n",
        "\n",
        "Exemplo: as palavras \"roma\" e \"amor\" são espelhadas."
      ]
    },
    {
      "cell_type": "code",
      "execution_count": null,
      "metadata": {
        "id": "DVXd2_nd1oYu",
        "colab": {
          "base_uri": "https://localhost:8080/"
        },
        "outputId": "c2edf6a4-0f0d-4fd3-ff0e-edabaf1bfd12"
      },
      "outputs": [
        {
          "output_type": "stream",
          "name": "stdout",
          "text": [
            "Digite uma string: Roma\n",
            "Digite outra string: Amor\n",
            "As palavras Roma e Amor SÃO espelhadas\n"
          ]
        }
      ],
      "source": [
        "str1 = input('Digite uma string: ')\n",
        "str2 = input('Digite outra string: ')\n",
        "\n",
        "str1_lower = str1.lower()\n",
        "str2_lower = str2.lower()\n",
        "\n",
        "str2_inv = ''\n",
        "for i in range(len(str2_lower)-1, -1, -1):\n",
        "  str2_inv += str2_lower[i]\n",
        "\n",
        "if str1_lower == str2_inv:\n",
        "  print(f'As palavras {str1} e {str2} SÃO espelhadas')\n",
        "else:\n",
        "  print(f'As palavras {str1} e {str2} NÃO são espelhadas')"
      ]
    },
    {
      "cell_type": "markdown",
      "metadata": {
        "id": "NVyvRKFs1ooO"
      },
      "source": [
        "__3)__ Faça um programa que lê duas palavras do teclado e responde se elas são **anagramas** uma da outra, isto é, se podemos escrever uma delas apenas mudando a ordem das letras da outra.\n",
        "\n",
        "Exemplo: \"ator\" e \"rota\", \"rota\" e \"tora\", \"lama\" e \"mala\". "
      ]
    },
    {
      "cell_type": "code",
      "execution_count": null,
      "metadata": {
        "id": "36IV_E562A_V",
        "colab": {
          "base_uri": "https://localhost:8080/"
        },
        "outputId": "1c462ebf-16e4-48a4-ab5f-6ddcfbad6237"
      },
      "outputs": [
        {
          "output_type": "stream",
          "name": "stdout",
          "text": [
            "As palavras Ator e roTa SÃO anagramas.\n"
          ]
        }
      ],
      "source": [
        "str1 = input('Digite uma string: ')\n",
        "str2 = input('Digite outra string: ')\n",
        "\n",
        "str1_lower = sorted(list(str1.lower()))\n",
        "str2_lower = sorted(list(str2.lower()))\n",
        "\n",
        "check_anagrama = 0\n",
        "if len(str1_lower) == len(str2_lower):\n",
        "  for i in range(len(str1_lower)):\n",
        "    if str1_lower[i] == str2_lower[i]:\n",
        "      check_anagrama +=1\n",
        "  if check_anagrama == len(str1_lower):\n",
        "    print(f'As palavras {str1} e {str2} SÃO anagramas.')\n",
        "  else:\n",
        "    print(f'As palavras {str1} e {str2} NÃO são anagramas.')\n",
        "else:\n",
        "  print(f'As palavras {str1} e {str2} NÃO são anagramas por terem tamanhos diferentes.')"
      ]
    },
    {
      "cell_type": "markdown",
      "metadata": {
        "id": "XLLRUYKJ2Dit"
      },
      "source": [
        "__4)__ **Cifra de César**\n",
        "\n",
        "A cifra de César é uma forma rudimentar de criptografia onde todas as letras são deslocadas uma quantidade pré-determinada de vezes no alfabeto. Por exemplo, a frase \"Abra a porta\" com 3 deslocamentos vira \"Deud d sruwd\". \n",
        "\n",
        "Caso os deslocamentos estourem o tamanho do alfabeto, eles \"dão a volta\": no caso anterior, com 3 deslocamentos, se alguma palavra tivesse a letra \"z\", ela se tornaria \"c\".\n",
        "\n",
        "Faça um programa que pergunta para o usuário uma frase para ser criptografada e a quantidade de deslocamentos desejada. Seu programa irá mostrar a mensagem cifrada na tela.\n",
        "\n"
      ]
    },
    {
      "cell_type": "code",
      "source": [
        "'https://pt.stackoverflow.com/questions/274060/ascii-em-python#:~:text=Primeiro%20tem%20de%20ir%20buscar,converter%20para%20caratere%20com%20chr%20.&text=Realmente%20assim%20%C3%A9%20bem%20mais,Valeu'"
      ],
      "metadata": {
        "id": "Fg7VjAUfSbGM"
      },
      "execution_count": null,
      "outputs": []
    },
    {
      "cell_type": "code",
      "source": [
        "# FUNÇÃO ###########################################################\n",
        "def cifra_cesar(frase, desloc):\n",
        "  # alfabeto\n",
        "  alf = {'a': 1,'b': 2,'c': 3,'d': 4,'e': 5,'f': 6,'g': 7,'h': 8,'i': 9,'j': 10,'k': 11,'l': 12,'m': 13,'n': 14,'o': 15,'p': 16,'q': 17,'r': 18,'s': 19,'t': 20,'u': 21,'v': 22,'w': 23,'x': 24,'y': 25,'z': 26}\n",
        "  alf_mai = {'A': 1,'B': 2,'C': 3,'D': 4,'E': 5,'F': 6,'G': 7,'H': 8,'I': 9,'J': 10,'K': 11,'L': 12,'M': 13,'N': 14,'O': 15,'P': 16,'Q': 17,'R': 18,'S': 19,'T': 20,'U': 21,'V': 22,'W': 23,'X': 24,'Y': 25,'Z': 26}\n",
        "  \n",
        "  string = list(frase)\n",
        "  \n",
        "  str_cif_list = []\n",
        "  for char in string:\n",
        "    if char.isupper():\n",
        "      if char != ' ':\n",
        "        vlr = alf_mai[char]\n",
        "        vlr += desloc\n",
        "        if vlr > 26:\n",
        "          vlr -= 26\n",
        "        str_cif = list(alf_mai.keys())[list(alf_mai.values()).index(vlr)]\n",
        "        str_cif_list.append(str_cif)\n",
        "      else:\n",
        "        str_cif_list.append(' ')\n",
        "    else:\n",
        "      if char != ' ':\n",
        "        vlr = alf[char]\n",
        "        vlr += desloc\n",
        "        if vlr > 26:\n",
        "          vlr -= 26\n",
        "        str_cif = list(alf.keys())[list(alf.values()).index(vlr)]\n",
        "        str_cif_list.append(str_cif)\n",
        "      else:\n",
        "        str_cif_list.append(' ')\n",
        "\n",
        "  frase_cifrada = ''\n",
        "  for char in str_cif_list:\n",
        "    frase_cifrada += char\n",
        "\n",
        "  return frase_cifrada\n",
        "################################################################################\n",
        "print('Cifra de César')\n",
        "frase = input('Digite uma Frase: ')\n",
        "desloc = int(input('Digite quantos deslocamentos deseja: '))\n",
        "\n",
        "frase_cifrada = cifra_cesar(frase, desloc)\n",
        "print(f'Frase: {frase}\\nFrase Cifrada: {frase_cifrada}')"
      ],
      "metadata": {
        "id": "iVyXBA-0S6vt"
      },
      "execution_count": null,
      "outputs": []
    },
    {
      "cell_type": "code",
      "source": [
        "print('Cifra de César')\n",
        "frase = input('Digite uma Frase: ')\n",
        "desloc = int(input('Digite quantos deslocamentos deseja: '))\n",
        "\n",
        "frase_cifrada = cifra_cesar(frase, desloc)\n",
        "print(f'Frase: {frase}\\nFrase Cifrada: {frase_cifrada}')"
      ],
      "metadata": {
        "colab": {
          "base_uri": "https://localhost:8080/"
        },
        "id": "Jg_CmY0mRnYN",
        "outputId": "aa57191f-1286-4f3f-915f-10b9b0a911f7"
      },
      "execution_count": null,
      "outputs": [
        {
          "output_type": "stream",
          "name": "stdout",
          "text": [
            "Cifra de César\n",
            "Frase: AbRa a pOrTa\n",
            "Frase Cifrada: DeUd d sRuWd\n"
          ]
        }
      ]
    },
    {
      "cell_type": "code",
      "source": [
        "1/n"
      ],
      "metadata": {
        "id": "Wchvc1oCc8z7"
      },
      "execution_count": null,
      "outputs": []
    }
  ],
  "metadata": {
    "colab": {
      "provenance": []
    },
    "kernelspec": {
      "display_name": "Python 3 (ipykernel)",
      "language": "python",
      "name": "python3"
    },
    "language_info": {
      "codemirror_mode": {
        "name": "ipython",
        "version": 3
      },
      "file_extension": ".py",
      "mimetype": "text/x-python",
      "name": "python",
      "nbconvert_exporter": "python",
      "pygments_lexer": "ipython3",
      "version": "3.9.12"
    }
  },
  "nbformat": 4,
  "nbformat_minor": 0
}