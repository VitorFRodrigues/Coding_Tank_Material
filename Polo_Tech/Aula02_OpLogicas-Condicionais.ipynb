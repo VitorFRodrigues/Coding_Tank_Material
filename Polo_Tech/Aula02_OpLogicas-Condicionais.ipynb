{
  "cells": [
    {
      "cell_type": "markdown",
      "metadata": {
        "id": "lWyd0EO7rpK1"
      },
      "source": [
        "## Aula 02 - Operações Lógicas e Condicionais\n",
        "\n",
        "Nesta aula, serão discutidos os seguintes tópicos:\n",
        "- Variável booleana;\n",
        "- Operação Lógica;\n",
        "- Expressões Condicionais.\n"
      ]
    },
    {
      "cell_type": "markdown",
      "metadata": {
        "id": "97ZX8Q_erpK9"
      },
      "source": [
        "## "
      ]
    },
    {
      "cell_type": "markdown",
      "metadata": {
        "id": "M1oib8-O7Bac"
      },
      "source": [
        "## 1. Variável booleana\n",
        "\n",
        "Ao estudar os tipos de variáveis, foi apresentado o tipo de variável __booleano__, onde atribui-se apenas dois tipos de valores, `True` e `False`. Assim como os demais tipos de variáveis, é possível fazer algumas operações com as variáveis de tipo booleano, conhecidas como __operações lógicas__.\n",
        "\n",
        "Recapitulando alguns exemplos de variável com o tipo booleano:"
      ]
    },
    {
      "cell_type": "code",
      "execution_count": null,
      "metadata": {
        "id": "A3sTJWx6rpK-",
        "outputId": "e77c4ef5-c3bd-41cd-c18a-3b47d157579c",
        "colab": {
          "base_uri": "https://localhost:8080/"
        }
      },
      "outputs": [
        {
          "output_type": "stream",
          "name": "stdout",
          "text": [
            "True\n",
            "<class 'bool'>\n"
          ]
        }
      ],
      "source": [
        "# Criando uma variável com True\n",
        "bool1 = True\n",
        "print(bool1)\n",
        "print(type(bool1))"
      ]
    },
    {
      "cell_type": "code",
      "execution_count": null,
      "metadata": {
        "id": "_t2RBcyprpK_",
        "outputId": "47734c3f-3484-46a2-948c-d6eccc540cfe",
        "colab": {
          "base_uri": "https://localhost:8080/"
        }
      },
      "outputs": [
        {
          "output_type": "stream",
          "name": "stdout",
          "text": [
            "False\n",
            "<class 'bool'>\n"
          ]
        }
      ],
      "source": [
        "# Criando uma variável com False\n",
        "bool2 = False\n",
        "print(bool2)\n",
        "print(type(bool2))"
      ]
    },
    {
      "cell_type": "markdown",
      "metadata": {
        "id": "ffnP_246rpK_"
      },
      "source": [
        "## "
      ]
    },
    {
      "cell_type": "markdown",
      "metadata": {
        "id": "FcWw09v2rpK_"
      },
      "source": [
        "## 2. Operações Lógicas\n",
        "\n",
        "Nos tópicos a seguir, será discutido a respeito dos principais tipos de operações lógicas comumente utilizdas:"
      ]
    },
    {
      "cell_type": "markdown",
      "metadata": {
        "id": "pJWCf5hkrpLA"
      },
      "source": [
        "### Comparações\n",
        "\n",
        "As comparações são utilizadas quando quer se entender a relação entre duas variáveis booleanas de acordo com alguns dos operadores a seguir:\n",
        "\n",
        "<br>\n",
        "\n",
        "- Maior que: >\n",
        "- Maior ou igual: >=\n",
        "- Menor que: <\n",
        "- Menor ou igual: <=\n",
        "- Igual: ==\n",
        "- Diferente: !=\n",
        "\n",
        "<br>\n",
        "\n",
        "Para fazer as comporações, existem algumas maneiras aplicáveis conforme os exemplos a seguir:"
      ]
    },
    {
      "cell_type": "markdown",
      "metadata": {
        "id": "1mjqfGb_rpLB"
      },
      "source": [
        "- __Aplicação direta da comparação__:"
      ]
    },
    {
      "cell_type": "code",
      "execution_count": null,
      "metadata": {
        "id": "bTg29qq7rpLC",
        "outputId": "dc8eb3c8-7175-475f-e47a-05a355fa9d0c",
        "colab": {
          "base_uri": "https://localhost:8080/"
        }
      },
      "outputs": [
        {
          "output_type": "execute_result",
          "data": {
            "text/plain": [
              "False"
            ]
          },
          "metadata": {},
          "execution_count": 6
        }
      ],
      "source": [
        "5 == 3"
      ]
    },
    {
      "cell_type": "code",
      "execution_count": null,
      "metadata": {
        "id": "iv5yCkiHrpLD",
        "outputId": "fb746fd2-b639-4692-9f6f-e7cc9e9681d6",
        "colab": {
          "base_uri": "https://localhost:8080/"
        }
      },
      "outputs": [
        {
          "output_type": "execute_result",
          "data": {
            "text/plain": [
              "True"
            ]
          },
          "metadata": {},
          "execution_count": 7
        }
      ],
      "source": [
        "'rosa' != 'azul'"
      ]
    },
    {
      "cell_type": "code",
      "execution_count": null,
      "metadata": {
        "id": "wDtYQx_yrpLD",
        "outputId": "b44ead5e-e0cf-46dd-ca19-a57c89317067",
        "colab": {
          "base_uri": "https://localhost:8080/"
        }
      },
      "outputs": [
        {
          "output_type": "execute_result",
          "data": {
            "text/plain": [
              "True"
            ]
          },
          "metadata": {},
          "execution_count": 8
        }
      ],
      "source": [
        "-150 <= -140"
      ]
    },
    {
      "cell_type": "markdown",
      "metadata": {
        "id": "9ck6AYc3rpLD"
      },
      "source": [
        "- __Salvando a comparação em uma variável__:"
      ]
    },
    {
      "cell_type": "code",
      "execution_count": null,
      "metadata": {
        "id": "NXdieHBQrpLE",
        "outputId": "51f1bbaa-e57e-43c1-910a-c639c85f140f",
        "colab": {
          "base_uri": "https://localhost:8080/"
        }
      },
      "outputs": [
        {
          "output_type": "stream",
          "name": "stdout",
          "text": [
            "True\n"
          ]
        }
      ],
      "source": [
        "comparacao1 = 25 != -25\n",
        "print(comparacao1)"
      ]
    },
    {
      "cell_type": "code",
      "execution_count": null,
      "metadata": {
        "id": "5266wO6trpLE",
        "outputId": "c3c7573a-a6b7-4abe-8297-a08f140bb44f",
        "colab": {
          "base_uri": "https://localhost:8080/"
        }
      },
      "outputs": [
        {
          "output_type": "stream",
          "name": "stdout",
          "text": [
            "False\n"
          ]
        }
      ],
      "source": [
        "comparacao2 = 3 >= 4\n",
        "print(comparacao2)"
      ]
    },
    {
      "cell_type": "code",
      "execution_count": null,
      "metadata": {
        "id": "WDwfGpxSrpLE",
        "outputId": "361760bd-952a-42f0-86c2-cc70aa12ce2d",
        "colab": {
          "base_uri": "https://localhost:8080/"
        }
      },
      "outputs": [
        {
          "output_type": "stream",
          "name": "stdout",
          "text": [
            "True\n"
          ]
        }
      ],
      "source": [
        "comparacao3 = 'aac' > 'aab'\n",
        "print(comparacao3)"
      ]
    },
    {
      "cell_type": "markdown",
      "metadata": {
        "id": "cPh44DUqrpLF"
      },
      "source": [
        "- __Comparando duas variáveis diferentes__:"
      ]
    },
    {
      "cell_type": "code",
      "execution_count": null,
      "metadata": {
        "id": "uGODqdiVrpLF",
        "outputId": "3e608d03-667d-42fd-9093-a0938aa6214f",
        "colab": {
          "base_uri": "https://localhost:8080/"
        }
      },
      "outputs": [
        {
          "output_type": "stream",
          "name": "stdout",
          "text": [
            "False\n",
            "True\n",
            "True\n"
          ]
        }
      ],
      "source": [
        "var1 = 35\n",
        "var2 = 27\n",
        "\n",
        "print(var1 == var2)\n",
        "print(var1 >= var2)\n",
        "print(var1 != var2)"
      ]
    },
    {
      "cell_type": "markdown",
      "metadata": {
        "id": "TcyE1-rVrpLF"
      },
      "source": [
        "> Note que o operador para comparar se 2 valores são iguais é ==, e não =. Isso ocorre porque o operador = é o nosso operador de atribuição: ele diz que a variável à sua esquerda deve receber o valor da expressão à direita. O operador de == irá testar se o valor à sua esquerda é igual ao valor à sua direita e irá responder True ou False, como todos os outros operadores de comparação."
      ]
    },
    {
      "cell_type": "markdown",
      "metadata": {
        "id": "8NvbOpo0rpLG"
      },
      "source": [
        "## "
      ]
    },
    {
      "cell_type": "markdown",
      "metadata": {
        "id": "b5fSa7x37SBI"
      },
      "source": [
        "### Negação lógica\n",
        "\n",
        "A negação é um operador lógico bem importante onde ele inverte o resultado da expressão. Ou seja, se a resposta seria um `True` com a negação ela será um `False` e vice-versa. Para utilizar a negação lógica em _Python_ utiliza-se a expressão `not`, conforme o exemplo a seguir:"
      ]
    },
    {
      "cell_type": "code",
      "execution_count": null,
      "metadata": {
        "id": "HUpxAz7krpLG",
        "outputId": "ba971fdd-eb62-4d00-fb00-396fcb5f530f",
        "colab": {
          "base_uri": "https://localhost:8080/"
        }
      },
      "outputs": [
        {
          "output_type": "execute_result",
          "data": {
            "text/plain": [
              "True"
            ]
          },
          "metadata": {},
          "execution_count": 15
        }
      ],
      "source": [
        "4 != 2"
      ]
    },
    {
      "cell_type": "code",
      "execution_count": null,
      "metadata": {
        "id": "MwvujsH9rpLH",
        "outputId": "d3abc032-68bc-4516-8a32-103757465228",
        "colab": {
          "base_uri": "https://localhost:8080/"
        }
      },
      "outputs": [
        {
          "output_type": "execute_result",
          "data": {
            "text/plain": [
              "False"
            ]
          },
          "metadata": {},
          "execution_count": 16
        }
      ],
      "source": [
        "not 4 != 2"
      ]
    },
    {
      "cell_type": "markdown",
      "metadata": {
        "id": "dKQiQ4pJ7pSZ"
      },
      "source": [
        "PAra resumir a ideia da Negação Lógica, assim como de outros tipos de operadores, utiliza-se a __tabela-verdade__ que organiza e demonstra todos os casos possíveis. No caso da negação lógica, tem a seguinte tabela-verdade:\n",
        "\n",
        "<br>\n",
        "\n",
        "|   __A__   | __not A__ |\n",
        "|:-----:|:-----:|\n",
        "|  True | False |\n",
        "| False |  True |\n",
        "\n",
        "<br>"
      ]
    },
    {
      "cell_type": "markdown",
      "metadata": {
        "id": "5X4e9c9OrpLI"
      },
      "source": [
        "### Conjunção lógica (Operador AND | E)\n",
        "\n",
        "Foi visto como é utilizado os operadores lógicos para determinar entre duas variáveis com a condição de saída lógica. Apesar disso, ´comumente será necessário avaliar duas ou mais condições sejam __simultaneamente verdadeiras__ para que o resultado seja verdadeiro. Ou seja, tem-se uma expressão como a do exemplo:\n",
        "\n",
        "Para passar na disciplina de programação em _Python_ precisa-se que:\n",
        "- A média das atividades seja maior que 7 __E__ que a presença seja maior que 75%;\n",
        "\n",
        "Este tipo de operação que é conhecido como __conjunção lógica__ ou também como __operador E__ (no caso __operador AND__ em inglês), devido ao operador E obrigar que ambas as condições sejam verdadeiras. No caso avaliando com a tabela-verdade:\n",
        "\n",
        "<br>\n",
        "\n",
        "| **A** | **B** | **A and B** |\n",
        "|:-----:|:-----:|:-----------:|\n",
        "|  True |  True |     True    |\n",
        "|  True | False |    False    |\n",
        "| False |  True |    False    |\n",
        "| False | False |    False    |\n",
        "\n",
        "<br>\n",
        "\n",
        "Para ficar, segue o exemplo onde pede-se o valor da média das provas do aluno e sua presença e retorna `True` ou `False` para se o aluno foi aprovado:"
      ]
    },
    {
      "cell_type": "code",
      "execution_count": null,
      "metadata": {
        "id": "53Ewsn5SrpLJ",
        "outputId": "bd0bd6f4-a4cf-4438-9958-13d60853fb76",
        "colab": {
          "base_uri": "https://localhost:8080/"
        }
      },
      "outputs": [
        {
          "output_type": "stream",
          "name": "stdout",
          "text": [
            "Digite a sua media: 7\n",
            "Digite a sua presença: 0.75\n",
            "O aluno foi aprovado? False\n"
          ]
        }
      ],
      "source": [
        "media = float(input('Digite a sua media: '))\n",
        "presenca = float(input('Digite a sua presença: '))\n",
        "\n",
        "print(f'O aluno foi aprovado? {media > 7 and presenca > 0.75}')"
      ]
    },
    {
      "cell_type": "markdown",
      "metadata": {
        "id": "keJaY27srpLK"
      },
      "source": [
        "## "
      ]
    },
    {
      "cell_type": "markdown",
      "metadata": {
        "id": "HQzisikx8CCF"
      },
      "source": [
        "### Disjunção lógica (Operador OU | OR)\n",
        "\n",
        "\n",
        "A disjunção lógica ou também conhecida como operador OU (operador OR em inglês), funciona de maneira quase que análoga que a conjunção lógico, mas basta que __uma das condições__ entre várias analisadas para que a resposta do operador seja verdadeira. Seguindo pela tabela-verdade tem-se que:\n",
        "\n",
        "<br>\n",
        "\n",
        "| **A** | **B** | **A or B** |\n",
        "|:-----:|:-----:|:-----------:|\n",
        "|  True |  True |     True    |\n",
        "|  True | False |     True    |\n",
        "| False |  True |     True    |\n",
        "| False | False |    False    |\n",
        "\n",
        "<br>\n",
        "\n",
        "Pegando como exemplo uma liquidação de produtos na _Black Friday_, a promoção durante durante um período vigente (por exemplo até dia 20) __OU__ enquanto durarem os estoques (ou seja, estoque > 0). Para isso foi desenvolvido o código abaixo:"
      ]
    },
    {
      "cell_type": "code",
      "execution_count": null,
      "metadata": {
        "id": "wEOEgzMyrpLL",
        "outputId": "5e016629-d18b-498d-bb23-2ecb2e23e5a5",
        "colab": {
          "base_uri": "https://localhost:8080/"
        }
      },
      "outputs": [
        {
          "output_type": "stream",
          "name": "stdout",
          "text": [
            "Que dia é hoje? 7\n",
            "Quantos produtos temos em estoque? 0\n",
            "A promoção da Black Friday já acabou? True\n"
          ]
        }
      ],
      "source": [
        "hoje = int(input('Que dia é hoje? '))\n",
        "estoque = int(input('Quantos produtos temos em estoque? '))\n",
        "\n",
        "print(f'A promoção da Black Friday já acabou? {hoje > 20 or estoque == 0}')"
      ]
    },
    {
      "cell_type": "markdown",
      "metadata": {
        "id": "DlB-X2uarpLL"
      },
      "source": [
        "> Resumo:\n",
        "> \n",
        "> * not: inverte a expressão original\n",
        "> * and: verdadeiro apenas se ambas as condições forem verdadeiras\n",
        "> * or: falso apenas se ambas as condições forem falsas"
      ]
    },
    {
      "cell_type": "markdown",
      "metadata": {
        "id": "vJkx_a5BrpLM"
      },
      "source": [
        "## "
      ]
    },
    {
      "cell_type": "markdown",
      "metadata": {
        "id": "U48mm37R8X_Q"
      },
      "source": [
        "### Valores Truthy/Falsy\n",
        "\n",
        "Valores não-booleanos em _Python_, como inteiros ou _strings_, podem ser convertidos para booleanos utilizando a função `bool`, da mesma maneira que utilizamos `int` e `float` em exemplos anteriores para converter entradas de _string_ para número.\n",
        "\n",
        "Certos valores serão convertidos para `True`, enquanto outros serão convertidos para `False`. Em certos contextos, como expressões condicionais - que serão estudadas muito em breve - essa conversão ocorre de maneira implícita. Quando um valor pode ser interpretado como `True`, dizemos que ele é um valor __Truthy__, e quando ele pode ser interpretado como `False`, ele é conhecido como um valor __Falsy__.\n",
        "\n",
        "Valores _Falsy_ comuns são:\n",
        "\n",
        "* O valor inteiro 0;\n",
        "* O valor real 0.0;\n",
        "* Strings vazias (strings com 0 caracteres);\n",
        "* Coleções vazias (listas, tuplas, dicionários etc. com 0 elementos);\n",
        "* A constante None, que representa uma variável \"vazia\".\n",
        "\n",
        "Valores _Truthy_ comuns são:\n",
        "\n",
        "* Inteiros diferentes de 0\n",
        "* Reais diferentes de 0.0\n",
        "* Strings contendo ao menos 1 caractere\n",
        "* Coleções (listas, tuplas, dicionários etc.) com pelo menos 1 elemento"
      ]
    },
    {
      "cell_type": "markdown",
      "metadata": {
        "id": "4eBSoxI0rpLO"
      },
      "source": [
        "## "
      ]
    },
    {
      "cell_type": "markdown",
      "metadata": {
        "id": "_sSl9cm39Nea"
      },
      "source": [
        "## 3. Expressões Condicionais\n",
        "\n",
        "Visto os operadores lógicos, pode-se montar sequências de códigos estabelecendo regras de execução de acordo com os operadores lógicos necessários. Esse tipo de código é conhecido como __expressões condicionais__, onde será discutidos os principais condicionais __se__, __senão__ e __senão-se__.\n",
        "\n",
        "<br>\n",
        "\n",
        "###  Condicional IF (Se)\n",
        "\n",
        "<br>\n",
        "\n",
        "Uma condicional é uma instrução em _Python_ que decide se outras linhas serão ou não executadas dependendo do resultado de uma condição aplicando um operador lógico. Se a condição for verdadeira, as linhas são executadas, caso contrário, o trecho de código será ignorado. O condicional mais simples é o __IF__ ou __se__ em português, que irá avalia se determinada condição for verdadeira,  vai executar o trecho de código dentro do condicional. Por exemplo, será criado um código que pede a nota de 3 provas do aluno e devolve caso ele seja aprovado:"
      ]
    },
    {
      "cell_type": "code",
      "execution_count": null,
      "metadata": {
        "id": "lzJLNVQNrpLP",
        "outputId": "518b1877-2ba6-45dc-b6cd-d8dad34d116e",
        "colab": {
          "base_uri": "https://localhost:8080/"
        }
      },
      "outputs": [
        {
          "output_type": "stream",
          "name": "stdout",
          "text": [
            "Digite a nota 1: 8\n",
            "Digite a nota 2: 10\n",
            "Digite a nota 3: 10\n",
            "Média:  9.333333333333334\n",
            "Aprovado\n"
          ]
        }
      ],
      "source": [
        "nota1 = float(input('Digite a nota 1: '))\n",
        "nota2 = float(input('Digite a nota 2: '))\n",
        "nota3 = float(input('Digite a nota 3: '))\n",
        "\n",
        "media = (nota1 + nota2 + nota3)/3\n",
        "\n",
        "print('Média: ', media)\n",
        "\n",
        "# Caso a nota seja maior que 7.5, eu vou falar que foi aprovado\n",
        "if media > 7.5:\n",
        "  print('Aprovado')\n",
        "  "
      ]
    },
    {
      "cell_type": "markdown",
      "metadata": {
        "id": "9H56B6qOrpLQ"
      },
      "source": [
        "> Para dizermos que uma ou mais linhas \"pertencem\" ao  if ou qualquer outro condicional, usamos um símbolo de parágrafo (tecla \"Tab\" no teclado). O programa sabe que o if \"acabou\" quando as linhas param de ter \"tabs\". Esses tabs são chamados de indentação. Tanto no if quanto no restante das estruturas de controle que estudaremos é obrigatório ter pelo menos 1 linha indentada abaixo da linha de controle."
      ]
    },
    {
      "cell_type": "markdown",
      "metadata": {
        "id": "J5GvXNCgrpLQ"
      },
      "source": [
        "## "
      ]
    },
    {
      "cell_type": "markdown",
      "metadata": {
        "id": "5Xwftf4Z9gda"
      },
      "source": [
        "## Condicional ELSE (Senão)\n",
        "\n",
        "O ocndicional __else__ (ou senão em português), faz o papel junto com o if de devolver alternativa caso o condicional do if não seja verdadeira. Ou seja, para o exemplo das notas dos alunos, caso a média não seja maior que 7.5, o programa agora deve retorna que o aluno foi reprovado:"
      ]
    },
    {
      "cell_type": "code",
      "execution_count": null,
      "metadata": {
        "id": "Rg8vxCaRrpLR",
        "outputId": "3436cc3d-724f-419d-eae7-f95b4b4fcd0e",
        "colab": {
          "base_uri": "https://localhost:8080/"
        }
      },
      "outputs": [
        {
          "output_type": "stream",
          "name": "stdout",
          "text": [
            "Digite a nota 1: 8\n",
            "Digite a nota 2: 8\n",
            "Digite a nota 3: 9\n",
            "Média:  8.333333333333334\n",
            "Aprovado\n"
          ]
        }
      ],
      "source": [
        "nota1 = float(input('Digite a nota 1: '))\n",
        "nota2 = float(input('Digite a nota 2: '))\n",
        "nota3 = float(input('Digite a nota 3: '))\n",
        "\n",
        "media = (nota1 + nota2 + nota3)/3\n",
        "\n",
        "print('Média: ', media)\n",
        "\n",
        "# Caso a nota seja maior que 7.5, eu vou falar que foi aprovado\n",
        "if media > 7.5:\n",
        "  print('Aprovado')\n",
        "if media <= 7.5:\n",
        "  print('Reprovado')\n"
      ]
    },
    {
      "cell_type": "code",
      "source": [
        "nota1 = float(input('Digite a nota 1: '))\n",
        "nota2 = float(input('Digite a nota 2: '))\n",
        "nota3 = float(input('Digite a nota 3: '))\n",
        "\n",
        "media = (nota1 + nota2 + nota3)/3\n",
        "\n",
        "print('Média: ', media)\n",
        "\n",
        "# Caso a nota seja maior que 7.5, eu vou falar que foi aprovado\n",
        "if media > 7.5:\n",
        "  print('Aprovado')\n",
        "if media > 5:\n",
        "  print('Vai para a recuperação')\n",
        "if media <= 5:\n",
        "  print('Reprovado')"
      ],
      "metadata": {
        "id": "igBDxd0q44eJ",
        "outputId": "d5606230-0c1c-494f-f40b-ea9663ca6106",
        "colab": {
          "base_uri": "https://localhost:8080/"
        }
      },
      "execution_count": null,
      "outputs": [
        {
          "output_type": "stream",
          "name": "stdout",
          "text": [
            "Digite a nota 1: 8\n",
            "Digite a nota 2: 8\n",
            "Digite a nota 3: 8\n",
            "Média:  8.0\n",
            "Aprovado\n",
            "Vai para a recuperação\n"
          ]
        }
      ]
    },
    {
      "cell_type": "markdown",
      "metadata": {
        "id": "q9atn6cmrpLS"
      },
      "source": [
        "Importante ressaltar que o mesmo programa poderia ser montado com diversos IFs;"
      ]
    },
    {
      "cell_type": "code",
      "execution_count": null,
      "metadata": {
        "id": "L_dw3XC_rpLS",
        "outputId": "c8a95123-6c8c-4a30-a3ae-2382243594bf",
        "colab": {
          "base_uri": "https://localhost:8080/"
        }
      },
      "outputs": [
        {
          "output_type": "stream",
          "name": "stdout",
          "text": [
            "Digite a nota 1: 7\n",
            "Digite a nota 2: 7\n",
            "Digite a nota 3: 8\n",
            "Média:  7.333333333333333\n",
            "Reprovado\n"
          ]
        }
      ],
      "source": [
        "nota1 = float(input('Digite a nota 1: '))\n",
        "nota2 = float(input('Digite a nota 2: '))\n",
        "nota3 = float(input('Digite a nota 3: '))\n",
        "\n",
        "media = (nota1 + nota2 + nota3)/3\n",
        "\n",
        "print('Média: ', media)\n",
        "\n",
        "# Caso a nota seja maior que 7.5, eu vou falar que foi aprovado\n",
        "if media > 7.5:\n",
        "  print('Aprovado')\n",
        "else:\n",
        "  print('Reprovado')"
      ]
    },
    {
      "cell_type": "markdown",
      "metadata": {
        "id": "E1zdimfb92xA"
      },
      "source": [
        "O programa acima também é funcional mas no caso onde as duas situações são __mutuamente exclusivas__, ou seja, se uma acontecer consequentemente a outra não acontece, o idela será utilizar o par _if_/_else_ para evitar eventuais erros, principalmente quando começar a desenvolver códigos mais complexos."
      ]
    },
    {
      "cell_type": "code",
      "execution_count": null,
      "metadata": {
        "id": "0tH1WRmerpLS"
      },
      "outputs": [],
      "source": []
    },
    {
      "cell_type": "markdown",
      "metadata": {
        "id": "xFM5geSqrpLS"
      },
      "source": [
        "## "
      ]
    },
    {
      "cell_type": "markdown",
      "metadata": {
        "id": "DdKkqo1T-Cvz"
      },
      "source": [
        "### Aninhando Condicionais\n",
        "\n",
        "Ainhar condições seria implementar novos _if's/else's_ dentro de outros condicionais já estabelecidos no código. Seguindo o exemplo da média das 3 provas, vamos agora seguir as seguintes regras:\n",
        "\n",
        "<br>\n",
        "\n",
        "Se nota maior ou igual a 5: \n",
        "- Se a nota tiver entre 5 e 7.5, o aluno precisa entregar um trabalho complementar;\n",
        "- Senão (ou seja, nota maior 7.5) o aluno está aprovado;\n",
        "\n",
        "Senão:\n",
        "- Se nota estiver entre 3 e 5, o aluno vai para recuperação;\n",
        "- Senão o aluno será reprovado.\n",
        "\n",
        "A implementação em _Python_ segue o código abaixo:"
      ]
    },
    {
      "cell_type": "code",
      "execution_count": null,
      "metadata": {
        "id": "JW8HmYNDrpLT",
        "outputId": "262f6076-000b-4e2b-ed9a-6fc30e19e43b",
        "colab": {
          "base_uri": "https://localhost:8080/"
        }
      },
      "outputs": [
        {
          "output_type": "stream",
          "name": "stdout",
          "text": [
            "Digite a nota 1: 1\n",
            "Digite a nota 2: 1\n",
            "Digite a nota 3: 2\n",
            "Média:  1.3333333333333333\n",
            "Reprovado\n"
          ]
        }
      ],
      "source": [
        "nota1 = float(input('Digite a nota 1: '))\n",
        "nota2 = float(input('Digite a nota 2: '))\n",
        "nota3 = float(input('Digite a nota 3: '))\n",
        "\n",
        "media = (nota1 + nota2 + nota3)/3\n",
        "\n",
        "print('Média: ', media)\n",
        "\n",
        "if media >= 5:\n",
        "  if media >= 7.5:\n",
        "    print('Aprovado')\n",
        "  else:\n",
        "    print('Entregar um trabalho complementar')\n",
        "else:\n",
        "    if media >= 3:\n",
        "      print('Vai para recuperação')\n",
        "    else:\n",
        "      print('Reprovado')"
      ]
    },
    {
      "cell_type": "markdown",
      "metadata": {
        "id": "ven86FSjrpLT"
      },
      "source": [
        "## "
      ]
    },
    {
      "cell_type": "markdown",
      "metadata": {
        "id": "r7f4myFK-iJ6"
      },
      "source": [
        "### Condicional ELIF  (SENÃO-SE)\n",
        "\n",
        "Conforme é construída a lógica do código com vários condicionais _if/else_ aninhados, o código começa a ficar confuso e não tão legível de fato, formando a estrutura de uma escada:\n",
        "\n",
        "<br>\n",
        "\n",
        "```\n",
        "Se\n",
        "Senão:\n",
        "    Se\n",
        "    Senão:\n",
        "        Se\n",
        "        Senão:\n",
        "            Se:\n",
        "            Senão:\n",
        "                Se:\n",
        "                 ...\n",
        "                 \n",
        "```\n",
        "\n",
        "<br>\n",
        "\n",
        "Isso pode tornar o código bastante complexo e difícil de atualizar ou corrigir erros posteriormente. Para evitar iso, no _Python_ existe um condicional composto chamado __elif__ (ou seja, em pôrtugues senão-se), que funciona de form análoga além de ajudar na organização do código.\n",
        "\n",
        "A lógica do _elif_ consiste em executar o primeiro _elif_ apenas se o _if_ inicial não for satisfeito, funcionando assim como um _else_, mas também existe uma condição intrínseca do próprio _elif_ (funcionando como um _if_ também).\n",
        "\n",
        "Vamos reescrever o código com os condicionais anteriores agora utilizando também _elif_:"
      ]
    },
    {
      "cell_type": "code",
      "execution_count": null,
      "metadata": {
        "id": "aQJw7v8srpLT",
        "outputId": "a521cd42-1353-4250-c0fe-6f348f4287dd",
        "colab": {
          "base_uri": "https://localhost:8080/"
        }
      },
      "outputs": [
        {
          "output_type": "stream",
          "name": "stdout",
          "text": [
            "Digite a nota 1: 2\n",
            "Digite a nota 2: 2\n",
            "Digite a nota 3: 2\n",
            "Média:  2.0\n",
            "Reprovado\n"
          ]
        }
      ],
      "source": [
        "nota1 = float(input('Digite a nota 1: '))\n",
        "nota2 = float(input('Digite a nota 2: '))\n",
        "nota3 = float(input('Digite a nota 3: '))\n",
        "\n",
        "media = (nota1 + nota2 + nota3)/3\n",
        "\n",
        "print('Média: ', media)\n",
        "\n",
        "if media > 7.5:\n",
        "  print('Aprovado')\n",
        "elif media >= 5:\n",
        "  print('Vai entregar um trabalho complementar')\n",
        "elif media >= 3:\n",
        "  print('Vai para recuperação')\n",
        "else:\n",
        "  print('Reprovado')"
      ]
    },
    {
      "cell_type": "markdown",
      "metadata": {
        "id": "j8eI9NJTrpLT"
      },
      "source": [
        "O _else_ no final do bloco de código é opcional no caso, podendo não ser utilizado. E em relação ao _elif's_, pode-se ter quantos forem necessários dentro do código, onde caso um _elif_ seja verdadeiro, os demais no código seram ignorados."
      ]
    },
    {
      "cell_type": "markdown",
      "metadata": {
        "id": "_ZhSuim0rpLU"
      },
      "source": [
        "## "
      ]
    },
    {
      "cell_type": "markdown",
      "metadata": {
        "id": "i1IB40kJAzWh"
      },
      "source": [
        "## Exercícios"
      ]
    },
    {
      "cell_type": "markdown",
      "metadata": {
        "id": "fdsckC4SrpLU"
      },
      "source": [
        "__1)__ Desenvolva um código que recebe o valor de peso (em kgs) e a altura (em metros) de uma pessoa e devolva um print do IMC e em qual categoria de IMC ela se encontra. Para calcular deve-se utilizar a fórmula a seguir:\n",
        "\n",
        "<br>\n",
        "\n",
        "$$ IMC = \\frac{peso}{(altura)^2} $$\n",
        "\n",
        "<br>\n",
        "\n",
        "E as faixas de IMC são classificadas segundo a tabela abaixo:\n",
        "\n",
        "<br>\n",
        "\n",
        "|      **IMC**      |      **Faixa**     |\n",
        "|:-----------------:|:------------------:|\n",
        "|       < 18,5      |       Subpeso      |\n",
        "| entre 18,6 e 24,9 |     Peso Ideal     |\n",
        "| entre 25,0 e 29,9 |    Acima do Peso   |\n",
        "| entre 30,0 e 34,9 |  Obesidade grau I  |\n",
        "| entre 35,0 e 39,9 |  Obesidade grau II |\n",
        "|      >= 40,0      | Obesidade grau III |"
      ]
    },
    {
      "cell_type": "code",
      "execution_count": null,
      "metadata": {
        "id": "9KjJcneFrpLU"
      },
      "outputs": [],
      "source": [
        "# Exemplos\n",
        "# Teste 1 = peso = 130 kg e altura = 1,72 m \n",
        "# Resultado : IMC = 43,9, Obesidade grau III\n",
        "\n",
        "# teste II = peso = 79 kg e altura = 1,69 m\n",
        "# resultado: IMC = 27,6, Acima do Peso\n",
        "\n",
        "# Não precisa se preocupar em arredondar os valores, pode trazer com todas as casas!"
      ]
    },
    {
      "cell_type": "code",
      "execution_count": null,
      "metadata": {
        "id": "sdq75CXprpLV",
        "outputId": "1dd162e1-63c6-487d-8fa4-91031466ab1d",
        "colab": {
          "base_uri": "https://localhost:8080/"
        }
      },
      "outputs": [
        {
          "output_type": "stream",
          "name": "stdout",
          "text": [
            "Digite o seu peso [kg]: 79\n",
            "Digite sua altura [m]: 1.69\n",
            "IMC: 27.660095935016283\n",
            "Faixa: Acima do peso\n"
          ]
        }
      ],
      "source": [
        "peso = float(input('Digite o seu peso [kg]: '))\n",
        "altura = float(input('Digite sua altura [m]: '))\n",
        "\n",
        "imc = peso / (altura)**2\n",
        "\n",
        "print(f'IMC: {imc}')\n",
        "\n",
        "if imc < 18.5:\n",
        "  print('Faixa: Subpeso')\n",
        "elif imc >= 18.6 and imc < 25:\n",
        "  print('Faixa: Peso ideal')\n",
        "elif imc >= 25.0 and imc < 30:\n",
        "  print('Faixa: Acima do peso')\n",
        "elif imc >= 30.0 and imc < 35:\n",
        "  print('Faixa: Obesidade grau I')\n",
        "elif imc >= 35.0 and imc < 40:\n",
        "  print('Faixa: Obesidade grau II')\n",
        "else:\n",
        "  print('Faixa: Obesidade grau III')"
      ]
    },
    {
      "cell_type": "markdown",
      "metadata": {
        "id": "BQ1qCw2yrpLV"
      },
      "source": [
        "_2)_ Desenvolva um código onde o programa irá recebe do usuário 3 números inteiros entre 1 e 30, e devolva os números em ordena númerica do menor para o maior. O exercício deve ser resolvido utilizando if/else/elif."
      ]
    },
    {
      "cell_type": "code",
      "execution_count": null,
      "metadata": {
        "id": "pfn9NdmQrpLV"
      },
      "outputs": [],
      "source": [
        "# Exemplos:\n",
        "# Teste 1: Entrada = 25, 12, 17\n",
        "# Resultado: 12, 17, 25\n",
        "\n",
        "# Teste 2: Entrada = 14, 22, 20\n",
        "# Resultado 14, 20, 22"
      ]
    },
    {
      "cell_type": "code",
      "execution_count": null,
      "metadata": {
        "id": "bs5kG1GprpLV",
        "outputId": "fc7e60e1-5cb7-42d5-bd5c-5701e3f4f203",
        "colab": {
          "base_uri": "https://localhost:8080/"
        }
      },
      "outputs": [
        {
          "output_type": "stream",
          "name": "stdout",
          "text": [
            "Digite números inteiros entre 1 e 30\n",
            "Número 1: 14\n",
            "Número 2: 20\n",
            "Número 3: 22\n",
            "14 < 20 < 22\n"
          ]
        }
      ],
      "source": [
        "print('Digite números inteiros entre 1 e 30')\n",
        "num1 = int(input('Número 1: '))\n",
        "num2 = int(input('Número 2: '))\n",
        "num3 = int(input('Número 3: '))\n",
        "\n",
        "if num1 > num2:\n",
        "  num1,num2 = num2,num1\n",
        "if num1 > num3:\n",
        "  num1, num3 = num3, num1\n",
        "if num2 > num3:\n",
        "  num2, num3 = num3, num2\n",
        "\n",
        "print(f'{num1} < {num2} < {num3}')"
      ]
    },
    {
      "cell_type": "markdown",
      "metadata": {
        "id": "DBjbBzO8rpLV"
      },
      "source": [
        "__3 ao 5)__ O colégio Schmalkalden tem um dos sistemas mais rigorosos e complexos para a avaliação dos alunos, onde até os alunos tem dificuldades para entender realmente se de fato foram aprovados ou ficaram devendo alguma coisa. Para isso, você deverá desenvolver um código que auxilie os alunos a saberem se foram aprovados ou não. O programa deverá receber como input dos alunos as seguintes informações:\n",
        "\n",
        "<br>\n",
        "\n",
        "- Se o aluno é bolsista ou não?\n",
        "- Qual a nota das 4 provas bimestrais que o aluno tirou? (Aqui serão 4 inputs de notas que variam entre 0 e 10, podendo ser decimal);\n",
        "- Quantas listas de exercícios oram entregues ao longo do ano? (de um total de 20 listas no ano)\n",
        "- Qual foi a nota no trabalho anual desenvolvido pelo aluno?\n",
        "- Quantas faltas o aluno teve ao longo do ano?\n",
        "\n",
        "<br>\n",
        "\n",
        "Para calcular a média dos alunos, deve-se seguir a mesma regra do exercício da aula passada, conforme a equação abaixo:\n",
        "\n",
        "<br>\n",
        "\n",
        "$$ \\bar{x} = \\frac{w1*P + w2*L + w3*T}{w1 + w2 + w3}$$\n",
        "\n",
        "<br>\n",
        "\n",
        "Onde P é a média aritmética das 4 provas que o aluno fez, L vai ser a nota em relação as entregas das listas de exercícios (cada lista entregue vale 0,5 ponto) e T é a nota do trabalho. Agora, os critérios de avaliação dos alunos são conforme descrito abaixo:\n",
        "\n",
        "- __Alunos Bolsistas__: \n",
        "- Os pesos serão respectivamente $w1 = 7$, $w2 = 6$ e $w3 = 9$\n",
        "- Deve ter menos do que 5 faltas para ser aprovado, se tiver entre 5 e 10 faltas o aluno deve entregar um trabalho complementar, e por fim mais de 10 faltas reprovado diretamente\n",
        "- A média das provas tem que ser maior do 8.5 para ser aprovado, entre 6.5 e 8.5 deve fazer uma prova de recuperação e menor que 6.5, reprovado por prova;\n",
        "- As listas devem ter mais de 75% entregue para aprovado em listas, entre 10 e 15 listas o aluno deve entregar uma lista complementar, e se tiver menos que 10 listas entregues reprovado por lista;\n",
        "- A nota do trabalho deve ser maior que 6 para ser aprovado, caso contrário será reprovado por trabalho;\n",
        "\n",
        "- __Alunos Não Bolsistas__: \n",
        "- Os pesos serão respectivamente $w1 = 3$, $w2 = 8$ e $w3 = 2$\n",
        "- Deve ter menos do que 10 faltas para ser aprovado, se tiver entre 10 e 15 faltas o aluno deve entregar um trabalho complementar, e por fim mais de 15 faltas reprovado diretamente\n",
        "- A média das provas tem que ser maior do 6.5 para ser aprovado, entre 4.5 e 6.5 deve fazer uma prova de recuperação e menor que 4.5, reprovado por prova;\n",
        "- As listas devem ter mais de 50% entregue para aprovado em listas, entre 5 e 10 listas o aluno deve entregar uma lista complementar, e se tiver menos que 5 listas entregues reprovado por lista;\n",
        "- A nota do trabalho deve ser maior que 6 para ser aprovado, caso contrário será reprovado por trabalho;\n",
        "\n",
        "Então depois de todos os inputs dado pelo o aluno, o seu programa deve retornar:\n",
        "- Média das provas\n",
        "- Status da Prova (Aprovado, Prova de Recuperação ou Reprovado por Prova)\n",
        "- Status da Presença (Aprovado em Presença, Trabalho COmplementar ou Reprovado por Presença)\n",
        "- Nota das Listas\n",
        "- Status das Listas ( Aprovado, Entrega de Lista COmplementar ou Reprovado Por Lista)\n",
        "- Status do Trabalho (aprovado ou reprovado)\n",
        "- Média Geral\n"
      ]
    },
    {
      "cell_type": "markdown",
      "metadata": {
        "id": "TO7U7fN1rpLW"
      },
      "source": [
        "__3)__ Fazer o desenvolvimento do código apenas utilizando _if/else_"
      ]
    },
    {
      "cell_type": "code",
      "execution_count": 1,
      "metadata": {
        "id": "uRBnsuh1rpLW",
        "outputId": "b7ec9846-996f-476e-d7dd-3c5071dc95b3",
        "colab": {
          "base_uri": "https://localhost:8080/"
        }
      },
      "outputs": [
        {
          "output_type": "stream",
          "name": "stdout",
          "text": [
            "*** ENTRADAS ***\n",
            "Aluno bolsista? [Sim/Não]: Não\n",
            "Notas das Provas Bimestrais\n",
            "Nota 1: 8\n",
            "Nota 2: 7\n",
            "Nota 3: 5\n",
            "Nota 4: 10\n",
            "Listas de exercicios ao longo do ano\n",
            "Digite quantidade de listas entregues ao longo do ano [max 20]: 15\n",
            "Trabalho anual\n",
            "Digite a nota do trabalho anual: 7.5\n",
            "Faltas ao longo do ano\n",
            "Digite o número de faltas ao longo do ano: 4\n",
            "\n",
            "*** SAÍDAS ***\n",
            "Média das provas: 7.5\n",
            "Status da Prova (Aprovado, Prova de Recuperação ou Reprovado por Prova): Aprovado\n",
            "Status da Presença (Aprovado em Presença, Trabalho Complementar ou Reprovado por Presença): Aprovado em Presença\n",
            "Nota das Listas: 7.5\n",
            "Status das Listas (Aprovado, Entrega de Lista Complementar ou Reprovado Por Lista): Aprovado\n",
            "Status do Trabalho (aprovado ou reprovado): Aprovado\n",
            "Média Geral: 7.5\n"
          ]
        }
      ],
      "source": [
        "print('*** ENTRADAS ***')\n",
        "\n",
        "# Definição do Bolsista\n",
        "bolsista = input('Aluno bolsista? [Sim/Não]: ')\n",
        "if bolsista == 'Sim':\n",
        "  bolsista = True\n",
        "else:\n",
        "  bolsista = False\n",
        "\n",
        "# Recebimento de notas\n",
        "print('Notas das Provas Bimestrais')\n",
        "nota1 = float(input('Nota 1: '))\n",
        "nota2 = float(input('Nota 2: '))\n",
        "nota3 = float(input('Nota 3: '))\n",
        "nota4 = float(input('Nota 4: '))\n",
        "\n",
        "P = (nota1 + nota2 + nota3 + nota4) / 4\n",
        "\n",
        "# Recebimento de Listas\n",
        "print('Listas de exercicios ao longo do ano')\n",
        "\n",
        "lista = int(input('Digite quantidade de listas entregues ao longo do ano [max 20]: '))\n",
        "\n",
        "L = lista * 0.5\n",
        "\n",
        "# Trabalho Anual\n",
        "print('Trabalho anual')\n",
        "\n",
        "T = float(input('Digite a nota do trabalho anual: '))\n",
        "\n",
        "# Faltas ao longo do ano\n",
        "print('Faltas ao longo do ano')\n",
        "\n",
        "faltas = float(input('Digite o número de faltas ao longo do ano: '))\n",
        "\n",
        "# INICIO DO CÓDIGO\n",
        "\n",
        "# Caso o aluno seja bolsista\n",
        "if bolsista:\n",
        "  w1=7 \n",
        "  w2=6\n",
        "  w3=9\n",
        "\n",
        "  # Check faltas\n",
        "  if faltas > 10:\n",
        "    status_faltas = 'Reprovado por Presença'\n",
        "  else:\n",
        "    if faltas >= 5:\n",
        "      status_faltas = 'Trabalho Complementar'\n",
        "    else:\n",
        "      status_faltas = 'Aprovado em Presença'\n",
        "\n",
        "  # Check média provas\n",
        "  if P > 8.5:\n",
        "    status_P = 'Aprovado'\n",
        "  else:\n",
        "    if P >= 6.5:\n",
        "      status_P = 'Prova de Recuperação'\n",
        "    else:\n",
        "      status_P = 'Reprovado por Prova'\n",
        "\n",
        "  # Check Listas\n",
        "  lista75 = 20 * 0.75 # 75% da lista = 15\n",
        "  if lista > lista75:\n",
        "    status_lista = 'Aprovado' \n",
        "  else:\n",
        "    if lista >= 10:\n",
        "      status_lista = 'Entrega de Lista Complementar'\n",
        "    else:\n",
        "      status_lista = 'Reprovado Por Lista' \n",
        "\n",
        "  # Check Trabalho\n",
        "  if T > 6:\n",
        "    status_trabalho = 'Aprovado' \n",
        "  else:\n",
        "    status_trabalho = 'Reprovado' \n",
        "\n",
        "# Caso o aluno NÃO seja bolsista\n",
        "else:\n",
        "  w1=3\n",
        "  w2=8\n",
        "  w3=2\n",
        "\n",
        "  # Check faltas\n",
        "  if faltas > 15:\n",
        "    status_faltas = 'Reprovado por Presença'\n",
        "  else:\n",
        "    if faltas >= 10:\n",
        "      status_faltas = 'Trabalho Complementar'\n",
        "    else:\n",
        "      status_faltas = 'Aprovado em Presença'\n",
        "\n",
        "  # Check média provas\n",
        "  if P > 6.5:\n",
        "    status_P = 'Aprovado'\n",
        "  else:\n",
        "    if P >= 4.5:\n",
        "      status_P = 'Prova de Recuperação'\n",
        "    else:\n",
        "      status_P = 'Reprovado por Prova'\n",
        "\n",
        "  # Check Listas\n",
        "  lista50 = 20 * 0.50 # 50% da lista = 10\n",
        "  if lista > lista50:\n",
        "    status_lista = 'Aprovado' \n",
        "  else:\n",
        "    if lista >= 5:\n",
        "      status_lista = 'Entrega de Lista Complementar'\n",
        "    else:\n",
        "      status_lista = 'Reprovado Por Lista' \n",
        "\n",
        "  # Check Trabalho\n",
        "  if T > 6:\n",
        "    status_trabalho = 'Aprovado' \n",
        "  else:\n",
        "    status_trabalho = 'Reprovado' \n",
        "\n",
        "# Média Geral\n",
        "x_bar = (w1*P + w2*L + w3*T) / (w1 + w2 + w3)\n",
        "\n",
        "print('\\n*** SAÍDAS ***')\n",
        "print(f'Média das provas: {P}')\n",
        "print(f'Status da Prova (Aprovado, Prova de Recuperação ou Reprovado por Prova): {status_P}')\n",
        "print(f'Status da Presença (Aprovado em Presença, Trabalho Complementar ou Reprovado por Presença): {status_faltas}')\n",
        "print(f'Nota das Listas: {L}')\n",
        "print(f'Status das Listas (Aprovado, Entrega de Lista Complementar ou Reprovado Por Lista): {status_lista}')\n",
        "print(f'Status do Trabalho (aprovado ou reprovado): {status_trabalho}')\n",
        "print(f'Média Geral: {x_bar}')"
      ]
    },
    {
      "cell_type": "markdown",
      "metadata": {
        "id": "fhyE26xLrpLW"
      },
      "source": [
        "__4)__ Fazer o desenvolvimento do código agora utilizando o _elif_"
      ]
    },
    {
      "cell_type": "code",
      "execution_count": null,
      "metadata": {
        "id": "l8ikM-JWrpLW",
        "outputId": "389416aa-1f38-4802-8b7f-4e3a0b789b9c",
        "colab": {
          "base_uri": "https://localhost:8080/"
        }
      },
      "outputs": [
        {
          "output_type": "stream",
          "name": "stdout",
          "text": [
            "*** ENTRADAS ***\n",
            "Aluno bolsista? [Sim/Não]: Sim\n",
            "Notas das Provas Bimestrais\n",
            "Nota 1: 10\n",
            "Nota 2: 6.5\n",
            "Nota 3: 5\n",
            "Nota 4: 10\n",
            "Listas de exercicios ao longo do ano\n",
            "Digite quantidade de listas entregues ao longo do ano [max 20]: 15\n",
            "Trabalho anual\n",
            "Digite a nota do trabalho anual: 7.5\n",
            "Faltas ao longo do ano\n",
            "Digite o número de faltas ao longo do ano: 5\n",
            "\n",
            "*** SAÍDAS ***\n",
            "Média das provas: 7.875\n",
            "Status da Prova (Aprovado, Prova de Recuperação ou Reprovado por Prova): Reprovado por Prova\n",
            "Status da Presença (Aprovado em Presença, Trabalho Complementar ou Reprovado por Presença): Trabalho Complementar\n",
            "Nota das Listas: 7.5\n",
            "Status das Listas (Aprovado, Entrega de Lista Complementar ou Reprovado Por Lista): Entrega de Lista Complementar\n",
            "Status do Trabalho (aprovado ou reprovado): Aprovado\n",
            "Média Geral: 7.619318181818182\n"
          ]
        }
      ],
      "source": [
        "print('*** ENTRADAS ***')\n",
        "\n",
        "# Definição do Bolsista\n",
        "bolsista = input('Aluno bolsista? [Sim/Não]: ')\n",
        "if bolsista == 'Sim':\n",
        "  bolsista = True\n",
        "else:\n",
        "  bolsista = False\n",
        "\n",
        "# Recebimento de notas\n",
        "print('Notas das Provas Bimestrais')\n",
        "nota1 = float(input('Nota 1: '))\n",
        "nota2 = float(input('Nota 2: '))\n",
        "nota3 = float(input('Nota 3: '))\n",
        "nota4 = float(input('Nota 4: '))\n",
        "\n",
        "P = (nota1 + nota2 + nota3 + nota4) / 4\n",
        "\n",
        "# Recebimento de Listas\n",
        "print('Listas de exercicios ao longo do ano')\n",
        "\n",
        "lista = int(input('Digite quantidade de listas entregues ao longo do ano [max 20]: '))\n",
        "\n",
        "L = lista * 0.5\n",
        "\n",
        "# Trabalho Anual\n",
        "print('Trabalho anual')\n",
        "\n",
        "T = float(input('Digite a nota do trabalho anual: '))\n",
        "\n",
        "# Faltas ao longo do ano\n",
        "print('Faltas ao longo do ano')\n",
        "\n",
        "faltas = float(input('Digite o número de faltas ao longo do ano: '))\n",
        "\n",
        "# INICIO DO CÓDIGO\n",
        "\n",
        "# Caso o aluno seja bolsista\n",
        "if bolsista:\n",
        "  w1=7 \n",
        "  w2=6\n",
        "  w3=9\n",
        "\n",
        "  # Check faltas\n",
        "  if faltas < 5:\n",
        "    status_faltas = 'Aprovado em Presença'\n",
        "  elif faltas >= 5 and faltas <= 10:\n",
        "    status_faltas = 'Trabalho Complementar'\n",
        "  else:\n",
        "    status_faltas = 'Reprovado por Presença'\n",
        "\n",
        "  # Check média provas\n",
        "  if P > 8.5:\n",
        "    status_P = 'Aprovado'\n",
        "  elif P >= 8.5 and P <= 6.5:\n",
        "    status_P = 'Prova de Recuperação'\n",
        "  else:\n",
        "    status_P = 'Reprovado por Prova'\n",
        "\n",
        "  # Check Listas\n",
        "  lista75 = 20 * 0.75 # 75% da lista = 15\n",
        "  if lista > lista75:\n",
        "    status_lista = 'Aprovado' \n",
        "  elif lista <= lista75 and lista >= 10:\n",
        "    status_lista = 'Entrega de Lista Complementar'\n",
        "  else:\n",
        "    status_lista = 'Reprovado Por Lista' \n",
        "\n",
        "  # Check Trabalho\n",
        "  if T > 6:\n",
        "    status_trabalho = 'Aprovado' \n",
        "  else:\n",
        "    status_trabalho = 'Reprovado' \n",
        "\n",
        "# Caso o aluno NÃO seja bolsista\n",
        "else:\n",
        "  w1=3\n",
        "  w2=8\n",
        "  w3=2\n",
        "\n",
        "  # Check faltas\n",
        "  if faltas < 10:\n",
        "    status_faltas = 'Aprovado em Presença'\n",
        "  elif faltas >= 10 and faltas <= 15:\n",
        "    status_faltas = 'Trabalho Complementar'\n",
        "  else:\n",
        "    status_faltas = 'Reprovado por Presença'\n",
        "\n",
        "  # Check média provas\n",
        "  if P > 6.5:\n",
        "    status_P = 'Aprovado'\n",
        "  elif P <= 6.5 and P >= 4.5:\n",
        "    status_P = 'Prova de Recuperação'\n",
        "  else:\n",
        "    status_P = 'Reprovado por Prova'\n",
        "\n",
        "  # Check Listas\n",
        "  lista50 = 20 * 0.50 # 50% da lista = 10\n",
        "  if lista > lista50:\n",
        "    status_lista = 'Aprovado' \n",
        "  elif lista <= lista50 and lista >= 5:\n",
        "    status_lista = 'Entrega de Lista Complementar'\n",
        "  else:\n",
        "    status_lista = 'Reprovado Por Lista' \n",
        "\n",
        "  # Check Trabalho\n",
        "  if T > 6:\n",
        "    status_trabalho = 'Aprovado' \n",
        "  else:\n",
        "    status_trabalho = 'Reprovado' \n",
        "\n",
        "# Média Geral\n",
        "x_bar = (w1*P + w2*L + w3*T) / (w1 + w2 + w3)\n",
        "\n",
        "print('\\n*** SAÍDAS ***')\n",
        "print(f'Média das provas: {P}')\n",
        "print(f'Status da Prova (Aprovado, Prova de Recuperação ou Reprovado por Prova): {status_P}')\n",
        "print(f'Status da Presença (Aprovado em Presença, Trabalho Complementar ou Reprovado por Presença): {status_faltas}')\n",
        "print(f'Nota das Listas: {L}')\n",
        "print(f'Status das Listas (Aprovado, Entrega de Lista Complementar ou Reprovado Por Lista): {status_lista}')\n",
        "print(f'Status do Trabalho (aprovado ou reprovado): {status_trabalho}')\n",
        "print(f'Média Geral: {x_bar}')"
      ]
    },
    {
      "cell_type": "markdown",
      "metadata": {
        "id": "IjmXZyZCrpLW"
      },
      "source": [
        "__5)__ Explique o que você acha sobre fazer esse exercício apenas utilizando _ifs_? É possível chegar na resultados para todos os casos? (Caso queira, você pode tentar fazer este código para exemplificar)"
      ]
    },
    {
      "cell_type": "markdown",
      "source": [
        "Sim, é possível chegar a todos os resultados, no entanto, é necessário raciocinar bem todos os condicionantes de modo a abranger todo eixo de valores (especialmente os limites) de modo que nenhum valor inserido pelo usuário seja desconsiderado.\n",
        "\n",
        "Além disso, é necessário averiguar e testar os limites com mais afinco de modo que o condicionante atual não sobreponha o anterior. Vide exemplo abaixo:\n"
      ],
      "metadata": {
        "id": "QTW6CPpF3wwD"
      }
    },
    {
      "cell_type": "code",
      "execution_count": null,
      "metadata": {
        "id": "bc6B2jYyrpLW",
        "outputId": "230610d1-91a6-483e-fec3-580bb011423e",
        "colab": {
          "base_uri": "https://localhost:8080/"
        }
      },
      "outputs": [
        {
          "output_type": "stream",
          "name": "stdout",
          "text": [
            "Média:  8\n",
            "Aprovado\n",
            "Vai para a recuperação\n"
          ]
        }
      ],
      "source": [
        "media = 8\n",
        "\n",
        "print('Média: ', media)\n",
        "\n",
        "# Caso a nota seja maior que 7.5, eu vou falar que foi aprovado\n",
        "if media > 7.5:\n",
        "  print('Aprovado')\n",
        "if media > 5:\n",
        "  print('Vai para a recuperação')\n",
        "if media <= 5:\n",
        "  print('Reprovado')"
      ]
    },
    {
      "cell_type": "markdown",
      "source": [
        "Neste caso, temos que o primeiro e segundo *ifs* são validados ocasionando o erro de status de aluno para Aprovação e Recuperação ao mesmo tempo.\n",
        "\n",
        "Segue abaixo código apenas com *ifs*:"
      ],
      "metadata": {
        "id": "6lsU_kZ75GTD"
      }
    },
    {
      "cell_type": "code",
      "source": [
        "print('*** ENTRADAS ***')\n",
        "\n",
        "# Definição do Bolsista\n",
        "bolsista = input('Aluno bolsista? [Sim/Não]: ')\n",
        "if bolsista == 'Sim':\n",
        "  bolsista = True\n",
        "if bolsista == 'Não':\n",
        "  bolsista = False\n",
        "\n",
        "# Recebimento de notas\n",
        "print('Notas das Provas Bimestrais')\n",
        "nota1 = float(input('Nota 1: '))\n",
        "nota2 = float(input('Nota 2: '))\n",
        "nota3 = float(input('Nota 3: '))\n",
        "nota4 = float(input('Nota 4: '))\n",
        "\n",
        "P = (nota1 + nota2 + nota3 + nota4) / 4\n",
        "\n",
        "# Recebimento de Listas\n",
        "print('Listas de exercicios ao longo do ano')\n",
        "\n",
        "lista = int(input('Digite quantidade de listas entregues ao longo do ano [max 20]: '))\n",
        "\n",
        "L = lista * 0.5\n",
        "\n",
        "# Trabalho Anual\n",
        "print('Trabalho anual')\n",
        "\n",
        "T = float(input('Digite a nota do trabalho anual: '))\n",
        "\n",
        "# Faltas ao longo do ano\n",
        "print('Faltas ao longo do ano')\n",
        "\n",
        "faltas = float(input('Digite o número de faltas ao longo do ano: '))\n",
        "\n",
        "# INICIO DO CÓDIGO\n",
        "\n",
        "# Caso o aluno seja bolsista\n",
        "if bolsista:\n",
        "  w1=7 \n",
        "  w2=6\n",
        "  w3=9\n",
        "\n",
        "  # Check faltas\n",
        "  if faltas > 10:\n",
        "    status_faltas = 'Reprovado por Presença'\n",
        "  if faltas <= 10:\n",
        "    status_faltas = 'Trabalho Complementar'\n",
        "  if faltas < 5:\n",
        "    status_faltas = 'Aprovado em Presença'\n",
        "\n",
        "  # Check média provas\n",
        "  if P > 8.5:\n",
        "    status_P = 'Aprovado'\n",
        "  if P <= 8.5:\n",
        "    status_P = 'Prova de Recuperação'\n",
        "  if P < 6.5:\n",
        "    status_P = 'Reprovado por Prova'\n",
        "\n",
        "  # Check Listas\n",
        "  lista75 = 20 * 0.75 # 75% da lista = 15\n",
        "  if lista > lista75:\n",
        "    status_lista = 'Aprovado' \n",
        "  if lista <= lista75:\n",
        "    status_lista = 'Entrega de Lista Complementar'\n",
        "  if lista < 10:\n",
        "    status_lista = 'Reprovado Por Lista' \n",
        "\n",
        "  # Check Trabalho\n",
        "  if T > 6:\n",
        "    status_trabalho = 'Aprovado' \n",
        "  if T <= 6:\n",
        "    status_trabalho = 'Reprovado' \n",
        "\n",
        "# Caso o aluno NÃO seja bolsista\n",
        "if bolsista == False:\n",
        "  w1=3\n",
        "  w2=8\n",
        "  w3=2\n",
        "\n",
        "  # Check faltas\n",
        "  if faltas > 15:\n",
        "    status_faltas = 'Reprovado por Presença'\n",
        "  if faltas <= 15:\n",
        "    status_faltas = 'Trabalho Complementar'\n",
        "  if faltas < 10:\n",
        "    status_faltas = 'Aprovado em Presença'\n",
        "\n",
        "  # Check média provas\n",
        "  if P > 6.5:\n",
        "    status_P = 'Aprovado'\n",
        "  if P <= 6.5:\n",
        "    status_P = 'Prova de Recuperação'\n",
        "  if P < 4.5:\n",
        "    status_P = 'Reprovado por Prova'\n",
        "\n",
        "  # Check Listas\n",
        "  lista50 = 20 * 0.50 # 50% da lista = 10\n",
        "  if lista > lista50:\n",
        "    status_lista = 'Aprovado' \n",
        "  if lista <= lista50:\n",
        "    status_lista = 'Entrega de Lista Complementar'\n",
        "  if lista < 5:\n",
        "    status_lista = 'Reprovado Por Lista' \n",
        "\n",
        "  # Check Trabalho\n",
        "  if T > 6:\n",
        "    status_trabalho = 'Aprovado' \n",
        "  if T <= 6:\n",
        "    status_trabalho = 'Reprovado' \n",
        "\n",
        "# Média Geral\n",
        "x_bar = (w1*P + w2*L + w3*T) / (w1 + w2 + w3)\n",
        "\n",
        "print('\\n*** SAÍDAS ***')\n",
        "print(f'Média das provas: {P}')\n",
        "print(f'Status da Prova (Aprovado, Prova de Recuperação ou Reprovado por Prova): {status_P}')\n",
        "print(f'Status da Presença (Aprovado em Presença, Trabalho Complementar ou Reprovado por Presença): {status_faltas}')\n",
        "print(f'Nota das Listas: {L}')\n",
        "print(f'Status das Listas (Aprovado, Entrega de Lista Complementar ou Reprovado Por Lista): {status_lista}')\n",
        "print(f'Status do Trabalho (aprovado ou reprovado): {status_trabalho}')\n",
        "print(f'Média Geral: {x_bar}')"
      ],
      "metadata": {
        "id": "iTw-Vknt6O-I"
      },
      "execution_count": null,
      "outputs": []
    }
  ],
  "metadata": {
    "colab": {
      "provenance": []
    },
    "kernelspec": {
      "display_name": "Python 3 (ipykernel)",
      "language": "python",
      "name": "python3"
    },
    "language_info": {
      "codemirror_mode": {
        "name": "ipython",
        "version": 3
      },
      "file_extension": ".py",
      "mimetype": "text/x-python",
      "name": "python",
      "nbconvert_exporter": "python",
      "pygments_lexer": "ipython3",
      "version": "3.9.12"
    }
  },
  "nbformat": 4,
  "nbformat_minor": 0
}