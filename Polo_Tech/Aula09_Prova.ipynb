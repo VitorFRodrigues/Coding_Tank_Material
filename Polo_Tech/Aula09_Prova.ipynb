{
 "cells": [
  {
   "cell_type": "markdown",
   "id": "b3debb91",
   "metadata": {},
   "source": [
    "## Prova"
   ]
  },
  {
   "cell_type": "markdown",
   "id": "1f00fc89",
   "metadata": {},
   "source": [
    "__1) Cadastro de uma Empresa__ (3 pontos)\n",
    "\n",
    "Uma empresa de tecnologia teve problemas com o armazenamento das informações dos funcionários. Dessa forma, a empresa solicitou a você criar um formulário onde registre algumas das principais informações sobre o usuário como:\n",
    "\n",
    "- Nome Completo\n",
    "- Idade\n",
    "- Estado\n",
    "- Setor de Atuação (Dados, Engenharia, Dev, UX)\n",
    "- Tempo de Empresa\n",
    "- Salário\n",
    "\n",
    "Crie uma função chamada `formulario`, onde o objetivo dela é pedir essas informações como _inputs_ do Usuário (a função não vai receber parâmetros, apenas os _inputs_) (1 ponto)"
   ]
  },
  {
   "cell_type": "code",
   "execution_count": null,
   "id": "7d218411",
   "metadata": {},
   "outputs": [],
   "source": []
  },
  {
   "cell_type": "code",
   "execution_count": null,
   "id": "ddb77206",
   "metadata": {},
   "outputs": [],
   "source": []
  },
  {
   "cell_type": "code",
   "execution_count": null,
   "id": "d49e5359",
   "metadata": {},
   "outputs": [],
   "source": []
  },
  {
   "cell_type": "markdown",
   "id": "b3ffccd8",
   "metadata": {},
   "source": [
    "Após criar a função `formulario`, crie uma função chamada de `armazenamento` onde essa função chamada a função `formulario` para receber os _inputs_ e depois armazena essas informações em um dicionário pré-criado (este dicionário deve servir de parâmetro para a função armazenamento) (1 ponto)"
   ]
  },
  {
   "cell_type": "code",
   "execution_count": null,
   "id": "f94b7a69",
   "metadata": {},
   "outputs": [],
   "source": []
  },
  {
   "cell_type": "code",
   "execution_count": null,
   "id": "5b6dfaa7",
   "metadata": {},
   "outputs": [],
   "source": []
  },
  {
   "cell_type": "code",
   "execution_count": null,
   "id": "dca1bb9f",
   "metadata": {},
   "outputs": [],
   "source": []
  },
  {
   "cell_type": "markdown",
   "id": "a7b7216f",
   "metadata": {},
   "source": [
    "Gere o dicionário com o registro de 4 funcionários (crie os dados dos funcionários!) (1 ponto)"
   ]
  },
  {
   "cell_type": "code",
   "execution_count": null,
   "id": "a0a9835b",
   "metadata": {},
   "outputs": [],
   "source": []
  },
  {
   "cell_type": "code",
   "execution_count": null,
   "id": "56bcfba5",
   "metadata": {},
   "outputs": [],
   "source": []
  },
  {
   "cell_type": "code",
   "execution_count": null,
   "id": "9f82aa19",
   "metadata": {},
   "outputs": [],
   "source": []
  },
  {
   "cell_type": "markdown",
   "id": "03051e48",
   "metadata": {},
   "source": [
    "__2) Holerite - INSS__ (1 ponto)\n",
    "\n",
    "Para quem trabalha com carteira assinada é extremamente importante que saba como funciona as contribuições sobre o salário para o INSS e o IRRF (imposto de renda). No caso para o cálculo do INSS temos como referência a tabela abaixo:\n",
    "\n",
    "<br>\n",
    "\n",
    "|    **Salário (R$)**    | **% de Contribuição na faixa** |\n",
    "|:----------------------:|:------------------------------:|\n",
    "|      Até 1.212,00      |              7,5%              |\n",
    "| de 1.212,01 a 2.427,35 |              9,0%              |\n",
    "| de 2.427,36 a 3.641,03 |               12%              |\n",
    "| de 3.641,04 a 7.087,22 |               !4%              |\n",
    "\n",
    "<br>\n",
    "\n",
    "Mas note que o cálculo é um pouco mais complexo devido a ser __calculada sobre a faixa__, conforme alguns exemplos:\n",
    "\n",
    "- Exemplo  1 - Salário R$ 1.100,00\n",
    "\n",
    "$$ INSS = 7,5\\% * 1.100,00 = R\\$ 82,50 $$\n",
    "\n",
    "<br>\n",
    "\n",
    "- Exemplo  2 - Salário R$ 3.500,00:\n",
    "\n",
    "Como este salário encontra-se na 3 faixa, a contribuição será igual ao teto da 1ª faixa + teto da 2ª faixa + diferença na 3ª faixa, conforme o exemplo:\n",
    "\n",
    "$$ INSS = max(1ª faixa) + max(2ª faixa) + diff(3ª faixa) = 7,5\\% * (1.212,00 - 0,00) + 9,0\\% * (2.427,35 - 1.212,01) + 12\\% * (3.500,00 - 2.427,36) = 90,90 + 109,38 + 128,72 = R\\$ 328,98 $$\n",
    "\n",
    "- Exemplo 3 - Salário R$ 10.000,00\n",
    "\n",
    "Note que para salários maiores que R$ 7.087,22, o valor da contribuição será igual ao teto de todas as faixas:\n",
    "\n",
    "$$ INSS = max(1ª faixa) + max(2ª faixa) + max(3ª faixa) + max(4ª faixa) = 7,5\\% * (1.212,00 - 0,00) + 9,0\\% * (2.427,35 - 1.212,01) + 12\\% * (3.641,03 - 2.427,36) + 14\\% * (7.087,22 - 3.641,04) = 90,90 + 109,38 + 145,64 + 482,47 = R\\$ 828,39 $$\n",
    "\n",
    "O objetivo deste exercício e montar uma função nomeada como `inss` que dado o valor do salário devolva qual vai ser a contribuição salarial para o INSS.  (1 ponto)"
   ]
  },
  {
   "cell_type": "code",
   "execution_count": null,
   "id": "c940ba92",
   "metadata": {},
   "outputs": [],
   "source": []
  },
  {
   "cell_type": "code",
   "execution_count": null,
   "id": "b5b0cb45",
   "metadata": {},
   "outputs": [],
   "source": []
  },
  {
   "cell_type": "code",
   "execution_count": null,
   "id": "58a58e3d",
   "metadata": {},
   "outputs": [],
   "source": []
  },
  {
   "cell_type": "markdown",
   "id": "af01ce84",
   "metadata": {},
   "source": [
    "__3) Holerite - IRRF__ (1 ponto)\n",
    "\n",
    "Para quem trabalha com carteira assinada é extremamente importante que saba como funciona as contribuições sobre o salário para o INSS e o IRRF (imposto de renda). Após conhecer como que funciona a contribuição ao INSS, agora vamos desenvolver algo em relação ao imposto de renda (IRRF). Par este cálculo também precisaremos de uma tabela de referência:\n",
    "\n",
    "<br>\n",
    "\n",
    "|       **Salário**      | **% de Contribuição** | **Desconto** |\n",
    "|:----------------------:|:---------------------:|:------------:|\n",
    "|      Até 1.903,98      |           0%          |     0,00     |\n",
    "| de 1.903,99 a 2.826,65 |         7,50%         |    142,80    |\n",
    "| de 2.826,66 a 3.751,05 |         15,00%        |    354,80    |\n",
    "| de 3.751,06 a 4.664,68 |         22,50%        |    636,13    |\n",
    "|    Acima de 4.664,68   |         27,50%        |    869,36    |\n",
    "\n",
    "<br>\n",
    "\n",
    "No caso do imposto de renda, a regra é um pouco diferente pois o percentual é calculado encima de todo o salário bruto menos alguns descontos, diferente do INSS que tinha contribuição por faixas. Além disso, no caso no imposto de renda a pessoa pode declarar dependentes e a cada dependente declarado recebe um desconto de 189,59. Para definir de fato o salário a ser considerado imposto deve descontar __o valor do INSS__ e o desconto de __dependentes__. Conforme os exemplos a seguir:\n",
    "\n",
    "\n",
    "##### Exemplo  1 - Salário 1.100,00 - nenhum dependente\n",
    "\n",
    "- Salário Bruto: 1.100,00\n",
    "- INSS: 82,50\n",
    "- Dependentes: 0,00\n",
    "- Salário considerado no IRRF = 1100 - 82,50 - 0 = 1.017,50\n",
    "\n",
    "- Faixa do IRRF - Primeira Faixa\n",
    "- Contribuição IRRF: 0,00\n",
    "- Salário Líquido: 1100 - 82,50 = 1.017,50\n",
    "\n",
    "<br>\n",
    "\n",
    "##### Exemplo  2 - Salário 3.500,00 - 1 dependente\n",
    "\n",
    "- Salário Bruto: 3.500,00\n",
    "- INSS: 328,98\n",
    "- Dependentes: 1*189,59 = 189,59\n",
    "- Salário considerado no IRRF = 3500 - 328,98 - 189,59 = 2.981,43\n",
    "\n",
    "- Faixa do IRRF - Terceira Faixa (15%)\n",
    "- Contribuição IRRF: 0.15*2981,43 - 354,80 = 92,41\n",
    "- Salário Líquido: 3500 - 328,92 - 92,41 = 3.078,67\n",
    "\n",
    "<br>\n",
    "\n",
    "##### Exemplo  3 - Salário 10.000,00 - 3 dependentes\n",
    "\n",
    "- Salário Bruto: 10.000,00\n",
    "- INSS: 828,39\n",
    "- Dependentes: 3*189,59 = 568,77\n",
    "- Salário considerado no IRRF = 10000 - 828,39 - 568,77 = 8.602,84\n",
    "\n",
    "- Faixa do IRRF - Última faixa (27,5%)\n",
    "- Contribuição IRRF: 0.275*8602,84 - 869,36 = 1.496,42\n",
    "- Salário Líquido: 10000 - 828,39 - 1496,42 = 7.675,19\n",
    "\n",
    "De senvolva a função nomeada como `irrf` onde irá receber o salario bruto (sem o desconto do INSS) e a quantidade de dependentes que a pessoa tiver. E a função deve devolver respectivamente o __valor da contribuição de imposto__ e o __salário líquido__. (1 ponto)\n"
   ]
  },
  {
   "cell_type": "code",
   "execution_count": null,
   "id": "54f0117e",
   "metadata": {},
   "outputs": [],
   "source": []
  },
  {
   "cell_type": "code",
   "execution_count": null,
   "id": "af876283",
   "metadata": {},
   "outputs": [],
   "source": []
  },
  {
   "cell_type": "code",
   "execution_count": null,
   "id": "65493f22",
   "metadata": {},
   "outputs": [],
   "source": []
  },
  {
   "cell_type": "markdown",
   "id": "11ebde57",
   "metadata": {},
   "source": [
    "__4) Média Harmônica__ (2 pontos)\n",
    "\n",
    "A __média harmônica__ é dada pela média de um conjunto de dados quaisquer utilizando da seguinte fórmula:\n",
    "\n",
    "$$\\frac{n}{\\frac{1}{x_1} + \\frac{1}{x_2} + \\frac{1}{x_3} + ... + \\frac{1}{x_n}}$$\n",
    "\n",
    "Note para qualquer valor de X que fique cada vez mais próximo de zero, a tendência é que a media harmônica caia rapidamente para zero.\n",
    "\n",
    "O objetvo desse exercício será dividido em duas partes partes:"
   ]
  },
  {
   "cell_type": "markdown",
   "id": "20575075",
   "metadata": {},
   "source": [
    "- Desenvolva uma função para calcular a __média aritmética__, __média geométrica__ e __média harmonica__ dado como parâmetro uma lista de números inteiros: (1 ponto)"
   ]
  },
  {
   "cell_type": "code",
   "execution_count": null,
   "id": "20bb6d5a",
   "metadata": {},
   "outputs": [],
   "source": []
  },
  {
   "cell_type": "code",
   "execution_count": null,
   "id": "ddabb394",
   "metadata": {},
   "outputs": [],
   "source": []
  },
  {
   "cell_type": "code",
   "execution_count": null,
   "id": "65e581e5",
   "metadata": {},
   "outputs": [],
   "source": []
  },
  {
   "cell_type": "markdown",
   "id": "dea22f1c",
   "metadata": {},
   "source": [
    "- Crie uma lista aleatória com 10 elementos variando eles entre 1 e 10 (utilize a biblioteca random). Após isso, avalie como cada uma das médias evolui ao longo da quntidade de elementos que utilizar. Então crie uma malha de repetição que irá calcular ambas as médias e mostrar os resultados utilizando inicialmente os dois primeiros números e ir aumentando progressivamente até utilizar todos eles: (1 ponto)"
   ]
  },
  {
   "cell_type": "code",
   "execution_count": null,
   "id": "6a3c4641",
   "metadata": {},
   "outputs": [],
   "source": []
  },
  {
   "cell_type": "code",
   "execution_count": null,
   "id": "f543fc3d",
   "metadata": {},
   "outputs": [],
   "source": []
  },
  {
   "cell_type": "code",
   "execution_count": null,
   "id": "17760642",
   "metadata": {},
   "outputs": [],
   "source": []
  },
  {
   "cell_type": "markdown",
   "id": "a9dc00f9",
   "metadata": {},
   "source": [
    "__5) Progressão Geométrica__ (1 ponto)\n",
    "\n",
    "A progressão geométrica (PG) é uma sequência de números onde a diferença entre dois consecutivos é sempre a mesma. Um exemplo de uma PG pode ser dado pela base de múltiplos de 2 , onde temos que (2, 4, 8, 16, ...)\n",
    "\n",
    "Uma PG segue a seguinte equação:\n",
    "\n",
    "$$ a_n = a_1 * q^{n - 1} $$\n",
    "\n",
    "onde, $ a_n$ é o n-ésimo elemento da PA, $a_1$ é o primeiro elemento da sequência, n é a quantidade de elementos considerada e $q$ a razão ou ordem de grandeza que aumenta de um elemento ao outro.\n",
    "\n",
    "O Objetivo do exercício será desenvolver uma função nomeada `progressao_geometrica` onde receberá como parâmetros $a_1$, $n$ e $q$ e a função deve printar o elemento $a_n$ e printar todos os elementos da PG em $a_1$ e $a_n$"
   ]
  },
  {
   "cell_type": "code",
   "execution_count": null,
   "id": "12aeea3b",
   "metadata": {},
   "outputs": [],
   "source": []
  },
  {
   "cell_type": "code",
   "execution_count": null,
   "id": "63423026",
   "metadata": {},
   "outputs": [],
   "source": []
  },
  {
   "cell_type": "code",
   "execution_count": null,
   "id": "ad05fc4a",
   "metadata": {},
   "outputs": [],
   "source": []
  },
  {
   "cell_type": "markdown",
   "id": "c806c6d3",
   "metadata": {},
   "source": [
    "__6) Conversor DNA e RNA__ (1 ponto)\n",
    "\n",
    "O código genético formado pelo DNA e RNA são compostos de alguns aminoácidos como Adenina (A), Guanina (G), Citosina (C), Timina(T) e Uracila(U). A cadeia do DNA é composto pelos aminoácidos AGCT e do RNA seria AGCU, pois ao copiar do DNA ele substitui o aminoácido Timina (T) pela Uracila (U). O objetivo deste exercício será desenvlver uma função que chamada de `tradutor_dna_to_rna` onde como entrada irá receber uma `string`com o código do DNA e deve-se devolver o código traduzido pelo RNA."
   ]
  },
  {
   "cell_type": "code",
   "execution_count": null,
   "id": "d93e0ec2",
   "metadata": {},
   "outputs": [],
   "source": [
    "# entrada\n",
    "dna = 'AGCTGGGCTTT'\n",
    "\n",
    "# saida\n",
    "rna = 'AGCUGGGCUUU'"
   ]
  },
  {
   "cell_type": "code",
   "execution_count": null,
   "id": "49ba51a1",
   "metadata": {},
   "outputs": [],
   "source": []
  },
  {
   "cell_type": "code",
   "execution_count": null,
   "id": "af8d92d6",
   "metadata": {},
   "outputs": [],
   "source": []
  },
  {
   "cell_type": "markdown",
   "id": "3854cfed",
   "metadata": {},
   "source": [
    "__7) Conversor Binario para Numero__ (2 pontos)\n",
    "\n",
    "O Sistema binário é uma representação da matemática onde a base de referência para a construção dos números é o 2 ao invés do 10 comum na base decimal. Por exemplo o binário `1001` na base decimal será igual $ 1001 = 1*2^3 + 0*2^2 + 0*2^1 + 1*2^0 = 9 $. O objetivo deste exercício é desenvolver uma função nomeada como `conversor_binario`, onde irá receber uma `string` com o número binário correspondente e a função deve devolver o respectivo número na base decimal."
   ]
  },
  {
   "cell_type": "code",
   "execution_count": null,
   "id": "905b5c2d",
   "metadata": {},
   "outputs": [],
   "source": []
  },
  {
   "cell_type": "code",
   "execution_count": null,
   "id": "d94cabab",
   "metadata": {},
   "outputs": [],
   "source": []
  },
  {
   "cell_type": "code",
   "execution_count": null,
   "id": "0d0fd422",
   "metadata": {},
   "outputs": [],
   "source": []
  }
 ],
 "metadata": {
  "kernelspec": {
   "display_name": "Python 3 (ipykernel)",
   "language": "python",
   "name": "python3"
  },
  "language_info": {
   "codemirror_mode": {
    "name": "ipython",
    "version": 3
   },
   "file_extension": ".py",
   "mimetype": "text/x-python",
   "name": "python",
   "nbconvert_exporter": "python",
   "pygments_lexer": "ipython3",
   "version": "3.9.12"
  }
 },
 "nbformat": 4,
 "nbformat_minor": 5
}
