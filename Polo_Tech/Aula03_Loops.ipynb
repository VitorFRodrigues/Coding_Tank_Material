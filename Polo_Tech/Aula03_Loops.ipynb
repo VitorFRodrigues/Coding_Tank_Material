{
  "cells": [
    {
      "cell_type": "markdown",
      "metadata": {
        "id": "UJh9hxYRyLLf"
      },
      "source": [
        "## Aula 03 - Looping While e For\n",
        "\n",
        "Nesta aula, serão discutidos os seguintes tópicos:\n",
        "- Malhas de Repetição (Loopings);\n",
        "- While;\n",
        "- Comandos de Manipulação de Fluxo;\n",
        "- For;\n"
      ]
    },
    {
      "cell_type": "markdown",
      "metadata": {
        "id": "a6F2BnnoyLLt"
      },
      "source": [
        "## "
      ]
    },
    {
      "cell_type": "markdown",
      "metadata": {
        "id": "F-Y_jHR2OUPs"
      },
      "source": [
        "## 1. Malhas de Repetição (Loopings)\n",
        "\n",
        "<br>\n",
        "\n",
        "Como vimos em exemplos anteriores, em algumas ocasiões do código será necessário repetir inúmeras vezes um mesmo passo. Por exemplo, imagine que seja pedido para gera o print dos números inteiros em ordem do 1 ao 100, se utilizar apenas a função `print`, temos que o código ficaria da seguinte forma:\n",
        "\n",
        "<br> \n",
        "\n",
        "```python\n",
        "print(1)\n",
        "print(2)\n",
        "print(3)\n",
        "...\n",
        "print(98)\n",
        "print(99)\n",
        "print(100)\n",
        "```\n",
        "\n",
        "<br>\n",
        "\n",
        "Note que por mais que o problema seja fixo até o 100, já ficaria complicado demais resolver apenas com o `print` devida as inúmeras repetições necessárias para copiar o código. Neste exemplo ainda, poderia ser que o usuário que define o ponto de parada dos `prints`, tonra mais complicado a execução do exercício.\n",
        "\n",
        "Outro ponto de falha no que aprendemos até hoje é sobre __a garantia que o usuário sempre irá digitar corretamente__ o que foi pedido, o que em problemas do mundo real dificilmente acontece. Pegando o exemplo do usuário inserir a sua idade em um `input`, onde está idade deve ser validada entre 0 e 100 anos:"
      ]
    },
    {
      "cell_type": "code",
      "execution_count": null,
      "metadata": {
        "colab": {
          "base_uri": "https://localhost:8080/"
        },
        "id": "JtDNDH3ayLLx",
        "outputId": "ead3e2a6-dd88-4798-deed-f4e21509e64f"
      },
      "outputs": [
        {
          "output_type": "stream",
          "name": "stdout",
          "text": [
            "Digite a sua idade: -30\n",
            "Valor de idade inválida\n"
          ]
        }
      ],
      "source": [
        "idade = int(input('Digite a sua idade: '))\n",
        "if idade < 0 or idade > 100:\n",
        "  print('Valor de idade inválida')"
      ]
    },
    {
      "cell_type": "markdown",
      "metadata": {
        "id": "jC6vt713yLLz"
      },
      "source": [
        "Neste exemplo, note que é possível validar o que foi digitado pelo usuário, mas não dá a oportunidade que seja digitado novamente até que o usuário acerte.\n",
        "\n",
        "Todos estes problemas têm algo em comum que são as __repetições condicionadas__, um recurso essencial para o desenvolvimento dos códigos em diferentes aplicações. Vamos começar a falar sobre algumas malhas de repetição, sendo a primeiro o __while__ (enquanto)."
      ]
    },
    {
      "cell_type": "markdown",
      "metadata": {
        "id": "plgDgNa6yLL0"
      },
      "source": [
        "## "
      ]
    },
    {
      "cell_type": "markdown",
      "metadata": {
        "id": "jYF75EDOyLL1"
      },
      "source": [
        "## 2. While (Enquanto)\n",
        "\n",
        "O __while__ (em português enquanto) é uma malha de repetição com condicional, funcionando de forma bem parecida com o _if_, pois recebe uma expressão lógica onde, __enquanto a expressão lógica for satisfeita, código será repetido__. A construção do _while_ segue o exemplo de código abaixo:\n",
        "\n",
        "<br>\n",
        "\n",
        "```python\n",
        "while(condição):\n",
        "    - executa código 1;\n",
        "    - executa código 2;\n",
        "    ...\n",
        "```\n",
        "\n",
        "<br>\n",
        "\n",
        "Ou seja, de início o _while_ só irá executar se a condição for verdadeira, e após que isso ocorra, o código irá se repetir até que a condição de repetição deixe de ser verdadeira.\n",
        "\n",
        "Um primeiro exemplo, vamos corrgir o código de verificação da idade de determinadas pessoa:"
      ]
    },
    {
      "cell_type": "code",
      "execution_count": null,
      "metadata": {
        "colab": {
          "base_uri": "https://localhost:8080/"
        },
        "id": "9xVF1Os9yLL3",
        "outputId": "5bec7eca-3be8-4f00-c7e7-64b46eb74339"
      },
      "outputs": [
        {
          "output_type": "stream",
          "name": "stdout",
          "text": [
            "Digite a sua idade: -10\n",
            "\n",
            "Valor de idade inválida. Digite um valor entre 0 e 100\n",
            "\n",
            "Digite a sua idade: 120\n",
            "\n",
            "Valor de idade inválida. Digite um valor entre 0 e 100\n",
            "\n",
            "Digite a sua idade: 30\n",
            "\n",
            "Sua idade é de 30 anos\n"
          ]
        }
      ],
      "source": [
        "# Pedir para digitar um valor de idade\n",
        "\n",
        "idade = int(input('Digite a sua idade: '))\n",
        "\n",
        "while (idade < 0 or idade > 100):\n",
        "  print('\\nValor de idade inválida. Digite um valor entre 0 e 100\\n')\n",
        "  idade = int(input('Digite a sua idade: '))\n",
        "\n",
        "print(f'\\nSua idade é de {idade} anos')   "
      ]
    },
    {
      "cell_type": "markdown",
      "metadata": {
        "id": "7yoNMIsHyLL5"
      },
      "source": [
        "Note que para o bom funcionamento do _while_ é essencial que seja definida uma __condição de parada__, como no exemplo anterior a condição de parada era definida com o usuário digitando um valor de idade válido, quebrando o ciclo de repetição. Se rodasse o mesmo código agora sem o `input` dentro do _while_:"
      ]
    },
    {
      "cell_type": "code",
      "execution_count": null,
      "metadata": {
        "colab": {
          "base_uri": "https://localhost:8080/"
        },
        "id": "xvha5C9ayLL7",
        "outputId": "2bce4f15-0c83-4fd9-e430-2773a9e1362c"
      },
      "outputs": [
        {
          "output_type": "stream",
          "name": "stdout",
          "text": [
            "Digite a sua idade: 10\n",
            "\n",
            "Sua idade é de 10 anos\n"
          ]
        }
      ],
      "source": [
        "# Pedir para digitar um valor de idade\n",
        "\n",
        "idade = int(input('Digite a sua idade: '))\n",
        "\n",
        "while (idade < 0 or idade > 100):\n",
        "  print('\\nValor de idade inválida. Digite um valor entre 0 e 100\\n')\n",
        "  # idade = int(input('Digite a sua idade: '))\n",
        "\n",
        "print(f'\\nSua idade é de {idade} anos')   "
      ]
    },
    {
      "cell_type": "markdown",
      "metadata": {
        "id": "VJ4BOL4xyLL7"
      },
      "source": [
        "O que acontece acima é o que chama-se de __looping infinito__, pois o código entrou em uma redundância onde ele não consegue finalizar por conta própria. Dessa forma, é extremamente essencial que ao utilizar o _while_ que seja definido adequadamente uma condição de parada."
      ]
    },
    {
      "cell_type": "markdown",
      "metadata": {
        "id": "RCBEsflFyLL8"
      },
      "source": [
        "Agora que conhecemos o _while_ pode-se executar exemplo como no caso do início da aula para fazer o `print` da sequência de números onde o usuário irá definir o critério de parada:"
      ]
    },
    {
      "cell_type": "code",
      "execution_count": null,
      "metadata": {
        "colab": {
          "base_uri": "https://localhost:8080/"
        },
        "id": "0i8inrQhyLL9",
        "outputId": "d491eceb-01c8-429b-dcfc-686b8e04a24e"
      },
      "outputs": [
        {
          "output_type": "stream",
          "name": "stdout",
          "text": [
            "Digite um valor entre 1 e 200: 10\n",
            "1\n",
            "2\n",
            "3\n",
            "4\n",
            "5\n",
            "6\n",
            "7\n",
            "8\n",
            "9\n",
            "10\n"
          ]
        }
      ],
      "source": [
        "parada = int(input('Digite um valor entre 1 e 200: '))\n",
        "\n",
        "# Criando um contador\n",
        "cnt = 1\n",
        "\n",
        "while cnt <= parada:\n",
        "  print(cnt)\n",
        "  cnt += 1 "
      ]
    },
    {
      "cell_type": "markdown",
      "metadata": {
        "id": "Rm6gL0XMyLL-"
      },
      "source": [
        "Vamos dizer que agora foi pedido que mostra a sequência decrescente de acordo com o valor inicial:"
      ]
    },
    {
      "cell_type": "code",
      "execution_count": null,
      "metadata": {
        "colab": {
          "base_uri": "https://localhost:8080/"
        },
        "id": "WEg6CkhJyLMA",
        "outputId": "8525f757-cfd4-4891-b748-71be954a5fd5"
      },
      "outputs": [
        {
          "output_type": "stream",
          "name": "stdout",
          "text": [
            "Digite um valor entre 1 e 200: 10\n",
            "10\n",
            "9\n",
            "8\n",
            "7\n",
            "6\n",
            "5\n",
            "4\n",
            "3\n",
            "2\n",
            "1\n"
          ]
        }
      ],
      "source": [
        "inicio = int(input('Digite um valor entre 1 e 200: '))\n",
        "\n",
        "# Inicializa o contador com o valor de inicio\n",
        "cnt = inicio\n",
        "\n",
        "while cnt >= 1:\n",
        "  print(cnt)\n",
        "  cnt -= 1 "
      ]
    },
    {
      "cell_type": "markdown",
      "metadata": {
        "id": "MBm2bSyCyLMB"
      },
      "source": [
        "> Em expressões onde uma variável aparece de ambos os lados, podemos utilizar uma abreviação. Por exemplo, a expressão x = x + 5 Pode ser reescrita como: x += 5 Isso vale para todas as outras expressões aritméticas (subtração, multiplicação, divisão etc.)."
      ]
    },
    {
      "cell_type": "markdown",
      "metadata": {
        "id": "nEK2A-dfyLMB"
      },
      "source": [
        "## "
      ]
    },
    {
      "cell_type": "markdown",
      "metadata": {
        "id": "UizQ0_r2O1wB"
      },
      "source": [
        "## 3. Comandos de manipulação de fluxo\n",
        "\n",
        "<br>\n",
        "\n",
        "Durante a execução de malhas de repetição como o _while_, é possível manipular de outras formas independente de como foi definido a condição de parada. PAra isso, será abordado como que por exemplo interrompe a execução sem que a condição de parada seja atingida ou mesmo saltar um passo de repetição sem que precise finalizar o passo atual. Para isso, iremos usar comando como o `break` e o `continue`\n",
        "\n",
        "É possível manipular de algumas maneiras a forma como uma malha de repetição se comporta: nós podemos interromper sua execução sem que sua condição de parada tenha sido atingida e podemos saltar para o próximo passo sem finalizar o atual.\n",
        "\n",
        "<br>\n",
        "\n",
        "### Break\n",
        "\n",
        "Imagine o seguinte jogo: foi escolhido um número entre 1 e 20 e você tem qe adivinhar qual número seria este? Onde para adivinhar o número, o usuário teria 5 tentativas para isto:"
      ]
    },
    {
      "cell_type": "code",
      "execution_count": null,
      "metadata": {
        "colab": {
          "base_uri": "https://localhost:8080/"
        },
        "id": "UoWolr2xyLMC",
        "outputId": "61da892e-2007-4f2b-82f5-47165bc23ad0"
      },
      "outputs": [
        {
          "output_type": "stream",
          "name": "stdout",
          "text": [
            "Adivinhe qual o número entre 1 e 20\n",
            " Tentativa 1 de 5: 10\n",
            "Você errou! Tente novamente!\n",
            "Adivinhe qual o número entre 1 e 20\n",
            " Tentativa 2 de 5: 12\n",
            "Você errou! Tente novamente!\n",
            "Adivinhe qual o número entre 1 e 20\n",
            " Tentativa 3 de 5: 15\n",
            "Parabéns, você acertou!\n"
          ]
        }
      ],
      "source": [
        "num = 15\n",
        "\n",
        "cnt = 0\n",
        "\n",
        "while cnt < 5:\n",
        "  tentativa = int(input(f'Adivinhe qual o número entre 1 e 20\\n Tentativa {cnt+1} de 5: '))\n",
        "  if tentativa == num:\n",
        "    print('Parabéns, você acertou!')\n",
        "    break\n",
        "  else:\n",
        "    print('Você errou! Tente novamente!')\n",
        "  cnt += 1"
      ]
    },
    {
      "cell_type": "code",
      "source": [
        "num = 15\n",
        "\n",
        "cnt = 0\n",
        "\n",
        "acertou = False\n",
        "\n",
        "while cnt < 5 and acertou == False:\n",
        "  tentativa = int(input(f'Adivinhe qual o número entre 1 e 20\\n Tentativa {cnt+1} de 5: '))\n",
        "  if tentativa == num:\n",
        "    print('Parabéns, você acertou!')\n",
        "    acertou = True\n",
        "  else:\n",
        "    print('Você errou! Tente novamente!')\n",
        "  cnt += 1"
      ],
      "metadata": {
        "colab": {
          "base_uri": "https://localhost:8080/"
        },
        "id": "-lk3cbJc6ZDp",
        "outputId": "50d5b333-1785-4eac-eec7-8f1d9c43cbcb"
      },
      "execution_count": null,
      "outputs": [
        {
          "output_type": "stream",
          "name": "stdout",
          "text": [
            "Adivinhe qual o número entre 1 e 20\n",
            " Tentativa 1 de 5: 10\n",
            "Você errou! Tente novamente!\n",
            "Adivinhe qual o número entre 1 e 20\n",
            " Tentativa 2 de 5: 12\n",
            "Você errou! Tente novamente!\n",
            "Adivinhe qual o número entre 1 e 20\n",
            " Tentativa 3 de 5: 15\n",
            "Parabéns, você acertou!\n"
          ]
        }
      ]
    },
    {
      "cell_type": "markdown",
      "metadata": {
        "id": "KTRwnb_AO-z0"
      },
      "source": [
        "No momento, mesmo que o usuário acerte, ele irá executar todas as tentativas possíveis. Um forma de corrigir este problema com o que já foi aprendido em aula seria utilizando __mais condicionais de parada__: "
      ]
    },
    {
      "cell_type": "code",
      "execution_count": null,
      "metadata": {
        "colab": {
          "base_uri": "https://localhost:8080/"
        },
        "id": "43gxDwGQyLMD",
        "outputId": "34b35fb8-d31d-447d-a425-35b2875ee584"
      },
      "outputs": [
        {
          "output_type": "stream",
          "name": "stdout",
          "text": [
            "Adivinhe qual o número entre 1 e 20\n",
            " Tentativa 1 de 5: 12\n",
            "Você errou! Tente novamente! Você tem mais 4 tentativas\n",
            "Adivinhe qual o número entre 1 e 20\n",
            " Tentativa 2 de 5: 11\n",
            "Você errou! Tente novamente! Você tem mais 3 tentativas\n",
            "Adivinhe qual o número entre 1 e 20\n",
            " Tentativa 3 de 5: 0\n",
            "Você errou! Tente novamente! Você tem mais 2 tentativas\n",
            "Adivinhe qual o número entre 1 e 20\n",
            " Tentativa 4 de 5: 14\n",
            "Você errou! Tente novamente! Você tem mais 1 tentativas\n",
            "Adivinhe qual o número entre 1 e 20\n",
            " Tentativa 5 de 5: 1\n",
            "Você errou! Tente novamente! Você tem mais 0 tentativas\n"
          ]
        }
      ],
      "source": [
        "num = 15\n",
        "\n",
        "cnt = 0\n",
        "\n",
        "tentativa = 0\n",
        "\n",
        "while cnt < 5 and num != tentativa:\n",
        "  cnt += 1\n",
        "  tentativa = int(input(f'Adivinhe qual o número entre 1 e 20\\n Tentativa {cnt} de 5: '))\n",
        "  if tentativa == num:\n",
        "    print('Parabéns, você acertou!')\n",
        "  else:\n",
        "    print(f'Você errou! Tente novamente! Você tem mais {5-cnt} tentativas')\n",
        "  "
      ]
    },
    {
      "cell_type": "markdown",
      "metadata": {
        "id": "nL4yYy3gPC9u"
      },
      "source": [
        "Está solução é funcional, mas é um pouco bagunçado pois precisa inicializar um valor de tentativa qualquer (diferente do número escolhido), além do código estar verificando duas vezes a mesma condição de igualdade entre o número e o número secreto.\n",
        "\n",
        "Iremos refinar este código utilizando o comando `break`, onde caso dentro de uma malha seja encontrado o comando `break`, a execução da malha é interrompida de imediato. Reescrevendo o código utilizando o `break`:"
      ]
    },
    {
      "cell_type": "code",
      "execution_count": null,
      "metadata": {
        "colab": {
          "base_uri": "https://localhost:8080/"
        },
        "id": "5h_AsXyJyLME",
        "outputId": "23b81444-863f-4a64-aca6-15da0a614ef5"
      },
      "outputs": [
        {
          "output_type": "stream",
          "name": "stdout",
          "text": [
            "Adivinhe qual o número entre 1 e 20\n",
            " Tentativa 1 de 5: 14\n",
            "Você errou! Tente novamente! Você tem mais 4 tentativas\n",
            "Adivinhe qual o número entre 1 e 20\n",
            " Tentativa 2 de 5: 12\n",
            "Você errou! Tente novamente! Você tem mais 3 tentativas\n",
            "Adivinhe qual o número entre 1 e 20\n",
            " Tentativa 3 de 5: 15\n",
            "Parabéns, você acertou!\n"
          ]
        }
      ],
      "source": [
        "num = 15\n",
        "\n",
        "cnt = 0\n",
        "\n",
        "tentativa = 0\n",
        "\n",
        "while cnt < 5:\n",
        "  cnt += 1\n",
        "  tentativa = int(input(f'Adivinhe qual o número entre 1 e 20\\n Tentativa {cnt} de 5: '))\n",
        "  if tentativa == num:\n",
        "    print('Parabéns, você acertou!')\n",
        "    break\n",
        "  else:\n",
        "    print(f'Você errou! Tente novamente! Você tem mais {5-cnt} tentativas')"
      ]
    },
    {
      "cell_type": "markdown",
      "metadata": {
        "id": "Xy02mQUDyLME"
      },
      "source": [
        "> Alguns programadores utilizam while True: (ou seja, um loop a princípio infinito) e no corpo do loop espalham combinações de if + break. Exceto em situações muito específicas e raras, isso é uma má prática e deve ser evitada, pois compromete bastante a legibilidade do código, e consequentemente sua manutenção no futuro."
      ]
    },
    {
      "cell_type": "markdown",
      "metadata": {
        "id": "7lWbafCUPRDV"
      },
      "source": [
        "Poderia montar o código de uma forma diferente também, utilizando uma flag booleana que serveria para entender se o nosso código para por algum trecho (no caso o if) ou não:"
      ]
    },
    {
      "cell_type": "code",
      "execution_count": null,
      "metadata": {
        "colab": {
          "base_uri": "https://localhost:8080/"
        },
        "id": "ngxRacgbyLME",
        "outputId": "5b6306ce-27d1-40fb-d8b6-a9cb8702776c"
      },
      "outputs": [
        {
          "output_type": "stream",
          "name": "stdout",
          "text": [
            "Adivinhe qual o número entre 1 e 20\n",
            " Tentativa 1 de 5: 12\n",
            "Você errou! Tente mais 4 vezes\n",
            "Adivinhe qual o número entre 1 e 20\n",
            " Tentativa 2 de 5: 13\n",
            "Você errou! Tente mais 3 vezes\n",
            "Adivinhe qual o número entre 1 e 20\n",
            " Tentativa 3 de 5: 14\n",
            "Você errou! Tente mais 2 vezes\n",
            "Adivinhe qual o número entre 1 e 20\n",
            " Tentativa 4 de 5: 15\n",
            "Parabéns, você acertou!\n"
          ]
        }
      ],
      "source": [
        "num = 15\n",
        "\n",
        "cnt = 0\n",
        "\n",
        "acertou = False\n",
        "\n",
        "while cnt < 5:\n",
        "  cnt += 1\n",
        "  tentativa = int(input(f'Adivinhe qual o número entre 1 e 20\\n Tentativa {cnt} de 5: '))\n",
        "  if tentativa == num:\n",
        "    acertou = True\n",
        "    break\n",
        "  else:\n",
        "    print(f'Você errou! Tente mais {5-cnt} vezes')\n",
        "\n",
        "if acertou:\n",
        "  print('Parabéns, você acertou!')\n",
        "else:\n",
        "  print('Acabaram as tentativas, você perdeu!')"
      ]
    },
    {
      "cell_type": "markdown",
      "metadata": {
        "id": "X4YhOWZcPVkD"
      },
      "source": [
        "Na maioria das linguagens de programação, teríamos que optar por uma dessas alternativas. Comandos que estudamos aqui em Python são comuns a várias linguagens diferentes, incluindo o par if/else, o while e o break.\n",
        "\n",
        "Mas o Python possui uma ferramenta adicional bastante incomum, mas que pode simplificar problemas desse tipo. Ele permite a utilização de um else para um loop. A estrutura deve ser a seguinte:\n",
        "\n",
        "```python\n",
        "while (condicao_principal):\n",
        "  ...\n",
        "  ...\n",
        "  if (condicao_secundaria):\n",
        "    break\n",
        "  ...\n",
        "  ...\n",
        "else:\n",
        "  ...\n",
        "```\n",
        "\n",
        "Esse código funcionará da seguinte maneira: se o loop parar pela condição principal (ou seja, executou a quantidade \"correta\" de repetições), o else será executado. Se o loop parar pela condição secundária (ou seja, por conta de um break), o else será ignorado.\n",
        "\n",
        "Sendo assim, podemos reescrever nosso programa principal de maneira mais pythonica utilizando esse recurso:"
      ]
    },
    {
      "cell_type": "code",
      "execution_count": null,
      "metadata": {
        "colab": {
          "base_uri": "https://localhost:8080/"
        },
        "id": "frC3AjQpyLMF",
        "outputId": "e5b915b3-aad1-451b-aaec-58d9b62d0d60"
      },
      "outputs": [
        {
          "output_type": "stream",
          "name": "stdout",
          "text": [
            "Adivinhe qual o número entre 1 e 20: 10\n",
            "Você errou! Tente mais 4 vezes\n",
            "Adivinhe qual o número entre 1 e 20: 15\n",
            "Parabéns, você acertou!\n"
          ]
        }
      ],
      "source": [
        "num = 15\n",
        "cnt = 0\n",
        "\n",
        "while cnt < 5:\n",
        "  cnt += 1\n",
        "  tentativa = int(input(f'Adivinhe qual o número entre 1 e 20: '))\n",
        "  if tentativa == num:\n",
        "    print('Parabéns, você acertou!')\n",
        "    break\n",
        "  print(f'Você errou! Tente mais {5-cnt} vezes')\n",
        "else:\n",
        "  print('Acabaram as tentativas, você perdeu!')"
      ]
    },
    {
      "cell_type": "markdown",
      "metadata": {
        "id": "HLLj2qcFyLMF"
      },
      "source": [
        "## "
      ]
    },
    {
      "cell_type": "markdown",
      "metadata": {
        "id": "WQOQT_WJPi1Y"
      },
      "source": [
        "### Continue\n",
        "\n",
        "<br>\n",
        "\n",
        "O comando `continue` basicamente desvia o fluxo da malha de repetição, mas não encerra o loop, somente o passo atual da repetição. Quando executamos esse comando, o loop irá voltar para o topo, testar novamente sua condição de parada, e caso ela não tenha sido atingida, ele iniciará uma nova iteração (ou seja, um novo passo em um loop).\n",
        "\n",
        "Vamos reescrever nosso programa anterior invertendo a verificação para vermos o `continue` em ação:"
      ]
    },
    {
      "cell_type": "code",
      "execution_count": null,
      "metadata": {
        "colab": {
          "base_uri": "https://localhost:8080/"
        },
        "id": "ze5Lts8lyLMG",
        "outputId": "2fa42457-41e3-4adc-9cb8-5bf685d08d71"
      },
      "outputs": [
        {
          "output_type": "stream",
          "name": "stdout",
          "text": [
            "Adivinhe qual o número entre 1 e 20: 1\n",
            "Você errou! Tente mais 4 vezes\n",
            "Adivinhe qual o número entre 1 e 20: 12\n",
            "Você errou! Tente mais 3 vezes\n",
            "Adivinhe qual o número entre 1 e 20: 3\n",
            "Você errou! Tente mais 2 vezes\n",
            "Adivinhe qual o número entre 1 e 20: 15\n",
            "Parabéns, você acertou!\n"
          ]
        }
      ],
      "source": [
        "num = 15\n",
        "cnt = 0\n",
        "\n",
        "while cnt < 5:\n",
        "  cnt += 1\n",
        "  tentativa = int(input(f'Adivinhe qual o número entre 1 e 20: '))\n",
        "  if tentativa != num:\n",
        "    print(f'Você errou! Tente mais {5-cnt} vezes')\n",
        "    continue\n",
        "  print('Parabéns, você acertou!')\n",
        "  break\n",
        "else:\n",
        "  print('Acabaram as tentativas, você perdeu!')"
      ]
    },
    {
      "cell_type": "markdown",
      "metadata": {
        "id": "8tvRUKQlPnrC"
      },
      "source": [
        "> __Atenção:__ todos os desvios estudados aqui podem ser utilizados, caso contrário, não existiriam. Porém, em certas situações eles podem tornar o código mais confuso. Por exemplo, quando temos diversos loops aninhados, pode não ficar claro para alguém lendo o código qual dos loops está sendo encerrado. Sempre que for utilizar esses recursos, verifiquem se eles estão melhorando ou piorando a legibilidade do código.\n"
      ]
    },
    {
      "cell_type": "markdown",
      "metadata": {
        "id": "hjjJDcTtyLMH"
      },
      "source": [
        "## "
      ]
    },
    {
      "cell_type": "markdown",
      "metadata": {
        "id": "-YEAj4XeyLMI"
      },
      "source": [
        "## 4. For"
      ]
    },
    {
      "cell_type": "markdown",
      "metadata": {
        "id": "wkZYk6jVyLMI"
      },
      "source": [
        "A malha de repetição __for__ é uma __malha com contador de repetição__, ou seja, diferente do _while_ que necessário definir condições de parada, no _for_ é possível limitar a quantidade de repetições. Vamos comparar um exemplo do _while_ em relação ao _for_, para fazer `prints` de uma sequência de 10 números:"
      ]
    },
    {
      "cell_type": "code",
      "execution_count": null,
      "metadata": {
        "colab": {
          "base_uri": "https://localhost:8080/"
        },
        "id": "khKS6uQuyLMJ",
        "outputId": "e70d94fd-5b0c-4be6-f970-cb40e8182cc1"
      },
      "outputs": [
        {
          "output_type": "stream",
          "name": "stdout",
          "text": [
            "0\n",
            "1\n",
            "2\n",
            "3\n",
            "4\n",
            "5\n",
            "6\n",
            "7\n",
            "8\n",
            "9\n"
          ]
        }
      ],
      "source": [
        "cnt = 0\n",
        "while cnt < 10:\n",
        "  print(cnt)\n",
        "  cnt +=1"
      ]
    },
    {
      "cell_type": "markdown",
      "metadata": {
        "id": "gzSQlUPeyLMK"
      },
      "source": [
        "A função `range` cria uma sequência de 10 números começando pelo 0, e neste caso usando como passo o valor padrão de 1. MAs podemos configurar de formas diferentes o `range`:"
      ]
    },
    {
      "cell_type": "code",
      "execution_count": null,
      "metadata": {
        "colab": {
          "base_uri": "https://localhost:8080/"
        },
        "id": "XpnuKI77yLMM",
        "outputId": "e8db8cfb-028b-40ba-ff4a-65aad4a7a7db"
      },
      "outputs": [
        {
          "output_type": "stream",
          "name": "stdout",
          "text": [
            "0\n",
            "1\n",
            "2\n",
            "3\n",
            "4\n",
            "5\n",
            "6\n",
            "7\n",
            "8\n",
            "9\n"
          ]
        }
      ],
      "source": [
        "for i in range(10):\n",
        "  print(i)"
      ]
    },
    {
      "cell_type": "code",
      "source": [
        "for i in range(5, 21, 2):\n",
        "  print(i)"
      ],
      "metadata": {
        "colab": {
          "base_uri": "https://localhost:8080/"
        },
        "id": "BM6CdzJ7Fw8y",
        "outputId": "7b4f857e-4e50-4bef-8980-b1c8875cc807"
      },
      "execution_count": null,
      "outputs": [
        {
          "output_type": "stream",
          "name": "stdout",
          "text": [
            "5\n",
            "7\n",
            "9\n",
            "11\n",
            "13\n",
            "15\n",
            "17\n",
            "19\n"
          ]
        }
      ]
    },
    {
      "cell_type": "code",
      "source": [
        "for i in range(20, -1, -2):\n",
        "  print(i)"
      ],
      "metadata": {
        "colab": {
          "base_uri": "https://localhost:8080/"
        },
        "id": "wlWBc7gGGAKM",
        "outputId": "dae6da9c-6c2b-409e-f801-adde7a3d3eab"
      },
      "execution_count": null,
      "outputs": [
        {
          "output_type": "stream",
          "name": "stdout",
          "text": [
            "20\n",
            "18\n",
            "16\n",
            "14\n",
            "12\n",
            "10\n",
            "8\n",
            "6\n",
            "4\n",
            "2\n",
            "0\n"
          ]
        }
      ]
    },
    {
      "cell_type": "markdown",
      "metadata": {
        "id": "GI8UrvanyLMM"
      },
      "source": [
        "Note que o elemento nomeado com `i` (detalhe importante, poderia ser nomeado de qualquer coisa), ele faz o papel do contador de fato, alterando o seu falar de acordo com o passo do `range`. MAs caso o elemento `i` não seja relevante para a malha de repetição, pode ser utilizado um `_` no lugar:"
      ]
    },
    {
      "cell_type": "code",
      "execution_count": null,
      "metadata": {
        "colab": {
          "base_uri": "https://localhost:8080/"
        },
        "id": "GhbPdiNuyLMN",
        "outputId": "93e32df9-7918-48e5-ffd6-5260337e6bb2"
      },
      "outputs": [
        {
          "output_type": "stream",
          "name": "stdout",
          "text": [
            "Vai Brasil!\n",
            "Vai Brasil!\n",
            "Vai Brasil!\n",
            "Vai Brasil!\n",
            "Vai Brasil!\n"
          ]
        }
      ],
      "source": [
        "for _ in range(5):\n",
        "  print('Vai Brasil!')"
      ]
    },
    {
      "cell_type": "markdown",
      "metadata": {
        "id": "ZHdLpJJRyLMN"
      },
      "source": [
        "## "
      ]
    },
    {
      "cell_type": "markdown",
      "metadata": {
        "id": "ccDOavhtyLMN"
      },
      "source": [
        "### Comandos de desvio de fluxo\n",
        "\n",
        "Os comandos de desvio de fluxo que estudamos junto do while (break, continue e else) também funcionam da mesma maneira com o for. Algumas observações sobre eles:\n",
        "\n",
        "* __break__: irá encerrar o loop antes de atingir o fim da sequência\n",
        "* __else__: será executado caso um break seja executado e ignorado caso o loop chegue ao final da sequência\n",
        "* __continue__: encerra o passo atual e passa para o próximo avançando na sequência automaticamente"
      ]
    },
    {
      "cell_type": "markdown",
      "metadata": {
        "id": "xWhbbBy4yLMO"
      },
      "source": [
        "## "
      ]
    },
    {
      "cell_type": "markdown",
      "metadata": {
        "id": "TnpXizb4yLMO"
      },
      "source": [
        "## Exercícios"
      ]
    },
    {
      "cell_type": "markdown",
      "metadata": {
        "id": "6pBUcATVyLMO"
      },
      "source": [
        "__1)__ Desenvolva um código que receba do usuário um número inteiro e calcule o fatorial deste número. A fórmula do fatorial é definida como:\n",
        "\n",
        "<br>\n",
        "\n",
        "$$ n! = n * (n - 1) * (n - 2) * ... * 2 * 1$$\n",
        "\n",
        "<br>\n",
        "\n",
        "Por exemplo $4!$ é igual a $4*3*2*1 = 24$."
      ]
    },
    {
      "cell_type": "markdown",
      "metadata": {
        "id": "2jm5eNTvyLMP"
      },
      "source": [
        "__1.1)__ Desenvolva o código na versão _while_ (1 ponto)"
      ]
    },
    {
      "cell_type": "code",
      "execution_count": null,
      "metadata": {
        "colab": {
          "base_uri": "https://localhost:8080/"
        },
        "id": "JBR4bEFzyLMP",
        "outputId": "33fb505c-6de3-4f22-e381-f0974bd8f212"
      },
      "outputs": [
        {
          "output_type": "stream",
          "name": "stdout",
          "text": [
            "Digite um número inteiro: 5\n",
            "5! é igual a 5 * 4 * 3 * 2 * 1 = 120.\n",
            "\n",
            "Fatorial de 5 é 120\n"
          ]
        }
      ],
      "source": [
        "num = int(input('Digite um número inteiro: '))\n",
        "cont = num\n",
        "fat = 1\n",
        "\n",
        "print(f'{num}! é igual a ', end='')\n",
        "\n",
        "while cont>1:\n",
        "  fat *= cont\n",
        "  print(f'{cont} * ', end='')\n",
        "  cont -=1\n",
        "\n",
        "print(f'1 = {fat}.')\n",
        "\n",
        "print(f'\\nFatorial de {num} é {fat}')"
      ]
    },
    {
      "cell_type": "markdown",
      "metadata": {
        "id": "aTgf9oPmyLMP"
      },
      "source": [
        "__1.2)__ Desenvolva o código na versão _for_ (1 ponto)"
      ]
    },
    {
      "cell_type": "code",
      "execution_count": null,
      "metadata": {
        "colab": {
          "base_uri": "https://localhost:8080/"
        },
        "id": "DkRC-EA2yLMQ",
        "outputId": "5c79fcd7-a310-4ecf-87ca-811bb4d829a1"
      },
      "outputs": [
        {
          "output_type": "stream",
          "name": "stdout",
          "text": [
            "Digite um número inteiro: 5\n",
            "\n",
            "5! é igual a 5 * 4 * 3 * 2 * 1 = 120.\n",
            "\n",
            "Fatorial de 5 é 120\n"
          ]
        }
      ],
      "source": [
        "num = int(input('Digite um número inteiro: '))\n",
        "fat = 1\n",
        "\n",
        "print(f'\\n{num}! é igual a ', end='')\n",
        "for i in range(num, 1, -1):\n",
        "  fat *= i\n",
        "  print(f'{i} * ', end='')\n",
        "\n",
        "print(f'1 = {fat}.')\n",
        "print(f'\\nFatorial de {num} é {fat}')"
      ]
    },
    {
      "cell_type": "markdown",
      "metadata": {
        "id": "vNk1SUzAyLMQ"
      },
      "source": [
        "## "
      ]
    },
    {
      "cell_type": "markdown",
      "metadata": {
        "id": "2tOxxMLkyLMQ"
      },
      "source": [
        "__2)__ Desenvolva um código que onde pede para o usuário que digite um número inteiro entre 1 e 200, e o código deve printar todos os __números primos__ entre 2 e o número digitado. Número primo é um que seja divisível apenas por 1 ou ele mesmo. Exemplo de números primos : 2, 3, 5, 7, 11, 13, 17 e assim por diante."
      ]
    },
    {
      "cell_type": "markdown",
      "metadata": {
        "id": "-PxkhXysyLMQ"
      },
      "source": [
        "__2.1)__ Desenvolva o código na versão _while_ (1 ponto)"
      ]
    },
    {
      "cell_type": "code",
      "execution_count": 20,
      "metadata": {
        "id": "cLeEIO6UyLMR",
        "colab": {
          "base_uri": "https://localhost:8080/"
        },
        "outputId": "139fe73d-08db-4f7b-8f87-340dc696198f"
      },
      "outputs": [
        {
          "output_type": "stream",
          "name": "stdout",
          "text": [
            "Digite um número inteiro entre 1 e 200: 17\n",
            "Os números primos de 2 a 17 são: 2, 3, 5, 7, 11, 13, 17"
          ]
        }
      ],
      "source": [
        "num = int(input('Digite um número inteiro entre 1 e 200: '))\n",
        "\n",
        "cont1 = 2\n",
        "\n",
        "print(f'Os números primos de 2 a {num} são: 2', end='')\n",
        "while cont1 <= num:\n",
        "  # Check se o número em cont2 é primo ou não\n",
        "  cont2 = 2\n",
        "  check_primo = 0\n",
        "  while cont2 <= cont1:\n",
        "    if cont1 % cont2 == 0:\n",
        "      check_primo += 1\n",
        "      if check_primo > 1:\n",
        "        break\n",
        "    cont2+=1\n",
        "\n",
        "  # Imprime que o número do contador 1 é primo\n",
        "  if check_primo == 1:\n",
        "    if cont1 != 2:\n",
        "      print(f', {cont1}', end='')\n",
        "  cont1 += 1"
      ]
    },
    {
      "cell_type": "markdown",
      "metadata": {
        "id": "Vj84ZIX0yLMR"
      },
      "source": [
        "__2.2)__ Desenvolva o código na versão _for_ (1 ponto)"
      ]
    },
    {
      "cell_type": "code",
      "execution_count": 29,
      "metadata": {
        "colab": {
          "base_uri": "https://localhost:8080/"
        },
        "id": "k83QIILyyLMR",
        "outputId": "71e29c81-a164-4cd6-ce3b-a887de9cf273"
      },
      "outputs": [
        {
          "output_type": "stream",
          "name": "stdout",
          "text": [
            "Digite um número inteiro entre 1 e 200: 17\n",
            "Os números primos de 2 a 17 são: 2, 3, 5, 7, 11, 13, 17"
          ]
        }
      ],
      "source": [
        "num = int(input('Digite um número inteiro entre 1 e 200: '))\n",
        "\n",
        "print(f'Os números primos de 2 a {num} são: 2', end='')\n",
        "for cont1 in range(2,num+1):\n",
        "  check_primo = 0\n",
        "  for cont2 in range(2,cont1+1):\n",
        "    if cont1 % cont2 == 0:\n",
        "      check_primo += 1\n",
        "      if check_primo > 1:\n",
        "        break\n",
        "  \n",
        "  # Imprime que o número do contador 1 é primo\n",
        "  if check_primo == 1:\n",
        "    if cont1 != 2:\n",
        "      print(f', {cont1}', end='')"
      ]
    },
    {
      "cell_type": "markdown",
      "metadata": {
        "id": "v94u3KCzyLMR"
      },
      "source": [
        "## "
      ]
    },
    {
      "cell_type": "markdown",
      "metadata": {
        "id": "mfo_CQFQ7hdP"
      },
      "source": [
        "__3)__ (2 pontos) Bibliotecas ou módulos são arquivos contendo algumas funções e outros componentes de código já prontos para serem reutilizados. A linguagem Python já possui diversos módulos pré-instalados, e podemos utilizá-los através do comando import.\n",
        "\n",
        "Ao incluir a linha abaixo (preferencialmente no topo do programa) podemos acessar as funções do módulo random, que permitem lidar com números aleatórios:\n",
        "\n",
        "```python\n",
        "import random\n",
        "```\n",
        "\n",
        "Tendo importado esse módulo em nosso programa, é possível sortear números aleatórios através da função randint. No exemplo abaixo, um número aleatório entre 1 e 100 é salvo na variável \"sorteio\":\n",
        "\n",
        "```python\n",
        "sorteio = random.randint(1, 100)\n",
        "```\n",
        "\n",
        "Faça um programa que sorteia um número aleatório entre 1 e 100. Ele deve pedir para o usuário adivinhar o número até que ele acerte.\n",
        "\n",
        "Quando o usuário finalmente acertar, exiba a mensagem \"Você venceu!\" e pergunte se ele gostaria de jogar novamente. Caso ele digite \"sim\", sorteie um novo número e torne a pedir que ele adivinhe.\n",
        "\n",
        "Ideia de como estruturar o código:\n",
        "\n",
        "```python\n",
        "while jogar_de_novo == 'sim':\n",
        "  while tentativas < 10:\n",
        "    ...\n",
        "    ...\n",
        "    ...\n",
        "    if chute == sorteio:\n",
        "      break\n",
        "\n",
        "    jogar_de_novo = input('Jogar de novo? ')\n",
        "```"
      ]
    },
    {
      "cell_type": "code",
      "execution_count": 38,
      "metadata": {
        "id": "xC8n8HsQyLMS",
        "colab": {
          "base_uri": "https://localhost:8080/"
        },
        "outputId": "60c2df12-aca6-4c34-86b5-e312e2bbd8b6"
      },
      "outputs": [
        {
          "output_type": "stream",
          "name": "stdout",
          "text": [
            "Um número de 1 a 100 foi sorteado! Tente adivinhar qual foi.\n",
            "Tentativa 1 de 10: 1\n",
            "Você errou! Tente novamente!\n",
            "Tentativa 2 de 10: 2\n",
            "Você errou! Tente novamente!\n",
            "Tentativa 3 de 10: 5\n",
            "Você errou! Tente novamente!\n",
            "Tentativa 4 de 10: 10\n",
            "Você errou! Tente novamente!\n",
            "Tentativa 5 de 10: 15\n",
            "Você errou! Tente novamente!\n",
            "Tentativa 6 de 10: 20\n",
            "Você errou! Tente novamente!\n",
            "Tentativa 7 de 10: 55\n",
            "Você errou! Tente novamente!\n",
            "Tentativa 8 de 10: 45\n",
            "Você errou! Tente novamente!\n",
            "Tentativa 9 de 10: 30\n",
            "Você errou! Tente novamente!\n",
            "Tentativa 10 de 10: 25\n",
            "Game Over! Infelizmente seu número de tentativas acabou!\n",
            "O número sorteado foi: 69\n",
            "Gostaria de jogar novamente? [Sim/Não]: Sim\n",
            "Um número de 1 a 100 foi sorteado! Tente adivinhar qual foi.\n",
            "Tentativa 1 de 10: 54\n",
            "Você errou! Tente novamente!\n",
            "Tentativa 2 de 10: 69\n",
            "Você errou! Tente novamente!\n",
            "Tentativa 3 de 10: 70\n",
            "Você errou! Tente novamente!\n",
            "Tentativa 4 de 10: 40\n",
            "Você errou! Tente novamente!\n",
            "Tentativa 5 de 10: 13\n",
            "Você errou! Tente novamente!\n",
            "Tentativa 6 de 10: 16\n",
            "Você errou! Tente novamente!\n",
            "Tentativa 7 de 10: 19\n",
            "Você errou! Tente novamente!\n",
            "Tentativa 8 de 10: 80\n",
            "Você errou! Tente novamente!\n",
            "Tentativa 9 de 10: 90\n",
            "Você errou! Tente novamente!\n",
            "Tentativa 10 de 10: 95\n",
            "Game Over! Infelizmente seu número de tentativas acabou!\n",
            "O número sorteado foi: 67\n",
            "Gostaria de jogar novamente? [Sim/Não]: Não\n",
            "Até mais!\n"
          ]
        }
      ],
      "source": [
        "import random\n",
        "# Inputs iniciais\n",
        "tot_tentativa = 10\n",
        "tentativa = 0\n",
        "jogar_de_novo = 'Sim'\n",
        "\n",
        "while jogar_de_novo == 'Sim':\n",
        "  sorteio = random.randint(1,100)\n",
        "  print('Um número de 1 a 100 foi sorteado! Tente adivinhar qual foi.')\n",
        "  while tentativa < tot_tentativa:\n",
        "    num = int(input(f'Tentativa {tentativa+1} de {tot_tentativa}: '))\n",
        "    if num == sorteio:\n",
        "      print(f'Parabéns! Você acertou!')\n",
        "      break\n",
        "    else:\n",
        "      if tentativa != tot_tentativa-1:\n",
        "        print('Você errou! Tente novamente!')\n",
        "      else:\n",
        "        print(f'Game Over! Infelizmente seu número de tentativas acabou!\\nO número sorteado foi: {sorteio}')\n",
        "    tentativa += 1\n",
        "\n",
        "  jogar_de_novo = input('Gostaria de jogar novamente? [Sim/Não]: ')\n",
        "  tentativa = 0\n",
        "\n",
        "print('Até mais!')"
      ]
    },
    {
      "cell_type": "markdown",
      "metadata": {
        "id": "qUKI4JA6yLMT"
      },
      "source": [
        "__4)__ Desenvolva um programa que recebe como _input_ do usuário dois números inteiros e o retorno do programa será o __mínimo multiplicador comum__ (MMC). Exemplo, o MMC entre 10 e 12, onde $ 10 = 2 * 5$ e $12 = 2 * 2 * 3$, o MMC vai ser o número oriundo da multiplicação entre $ 2 * 2 * 3 * 5 = 60$"
      ]
    },
    {
      "cell_type": "markdown",
      "metadata": {
        "id": "iQYF75-IyLMU"
      },
      "source": [
        "__4.1)__ Desenvolva o código na versão _while_ (1 ponto)"
      ]
    },
    {
      "cell_type": "code",
      "source": [
        "print('MMC - Mínimo Multiplicador comum entre 2 números')\n",
        "num1 = int(input('Digite o 1º número: '))\n",
        "num2 = int(input('Digite o 2º número: '))\n",
        "\n",
        "# Encontrando o MMC\n",
        "if num1 > num2:\n",
        "  mmc = num1\n",
        "else:\n",
        "  mmc = num2\n",
        "while mmc % num1 != 0 or mmc % num2 != 0:\n",
        "  mmc += 1\n",
        "\n",
        "# Agora vamos imprimir na tela os múltiplos de cada número recebido e seu MMC\n",
        "valor = num1\n",
        "print('1º número: ', end='')\n",
        "cnt2 = 2\n",
        "cnt1 = 0\n",
        "\n",
        "while cnt1 <= 2:\n",
        "  print(f'{valor} = ', end='')\n",
        " \n",
        "  # Encontrando os números primos de cada número recebido\n",
        "  while cnt2 <= valor:\n",
        "    cnt3 = 2\n",
        "    check_primo = 0\n",
        "    while cnt3 <= cnt2:\n",
        "      if cnt2 % cnt3 == 0:\n",
        "        check_primo += 1\n",
        "        if check_primo > 1:\n",
        "          break\n",
        "      cnt3+=1\n",
        "\n",
        "    # Imprime que o número do contador 1 é primo\n",
        "    if check_primo == 1:\n",
        "      while valor % cnt2 == 0:\n",
        "        print(f'{cnt2} ', end='')\n",
        "        valor /= cnt2\n",
        "        if valor != 1:\n",
        "          print('* ', end='')\n",
        "    cnt2 += 1\n",
        "  \n",
        "  cnt1 += 1\n",
        "  cnt2 = 2\n",
        "  print('')\n",
        "  if cnt1 == 1:\n",
        "    valor = num2\n",
        "    print('2º número: ', end='')\n",
        "  if cnt1 == 2:\n",
        "    valor = mmc\n",
        "    print('MMC: ', end='')"
      ],
      "metadata": {
        "colab": {
          "base_uri": "https://localhost:8080/"
        },
        "id": "8iPcr9dURfbv",
        "outputId": "4d2fa35d-df89-420d-b11d-9cad8dcea84c"
      },
      "execution_count": 14,
      "outputs": [
        {
          "output_type": "stream",
          "name": "stdout",
          "text": [
            "MMC - Mínimo Multiplicador comum entre 2 números\n",
            "Digite o 1º número: 10\n",
            "Digite o 2º número: 12\n",
            "1º número: 10 = 2 * 5 \n",
            "2º número: 12 = 2 * 2 * 3 \n",
            "MMC: 60 = 2 * 2 * 3 * 5 \n"
          ]
        }
      ]
    },
    {
      "cell_type": "markdown",
      "metadata": {
        "id": "6kQDVbCEyLMV"
      },
      "source": [
        "__4.2)__ Desenvolva o código na versão _for_ (1 ponto)"
      ]
    },
    {
      "cell_type": "code",
      "execution_count": 19,
      "metadata": {
        "id": "H74tnEwIyLMW",
        "colab": {
          "base_uri": "https://localhost:8080/"
        },
        "outputId": "7486f540-aa8c-4686-98ff-4ecbd5116ae2"
      },
      "outputs": [
        {
          "output_type": "stream",
          "name": "stdout",
          "text": [
            "MMC - Mínimo Multiplicador comum entre 2 números\n",
            "Digite o 1º número: 10\n",
            "Digite o 2º número: 12\n",
            "1º número: 10 = 2 * 5 \n",
            "2º número: 12 = 2 * 2 * 3 \n",
            "MMC: 60 = 2 * 2 * 3 * 5 \n"
          ]
        }
      ],
      "source": [
        "print('MMC - Mínimo Multiplicador comum entre 2 números')\n",
        "num1 = int(input('Digite o 1º número: '))\n",
        "num2 = int(input('Digite o 2º número: '))\n",
        "\n",
        "# Encontrando o MMC\n",
        "if num1 > num2:\n",
        "  mmc = num1\n",
        "else:\n",
        "  mmc = num2\n",
        "\n",
        "for mmc in range(1,num1*num2+1):\n",
        "  if mmc % num1 == 0 and mmc % num2 == 0:\n",
        "    break\n",
        "\n",
        "# Agora vamos imprimir na tela os múltiplos de cada número recebido e seu MMC\n",
        "valor = num1\n",
        "print('1º número: ', end='')\n",
        "\n",
        "for cnt1 in range(3):\n",
        "  print(f'{valor} = ', end='')\n",
        " \n",
        "  # Encontrando os números primos de cada número recebido\n",
        "  for cnt2 in range(2, valor+1):\n",
        "    check_primo = 0\n",
        "    for cnt3 in range(2, cnt2+1):\n",
        "      if cnt2 % cnt3 == 0:\n",
        "        check_primo += 1\n",
        "        if check_primo > 1:\n",
        "          break\n",
        "    \n",
        "    # Imprime que o número do contador 1 é primo\n",
        "    if check_primo == 1:\n",
        "      for cnt4 in range(int(valor)):\n",
        "        if valor % cnt2 == 0:\n",
        "          print(f'{cnt2} ', end='')\n",
        "          valor /= cnt2\n",
        "          if valor != 1:\n",
        "            print('* ', end='')\n",
        "        else:\n",
        "          break  \n",
        "  \n",
        "  print('')\n",
        "  if cnt1 == 0:\n",
        "    valor = num2\n",
        "    print('2º número: ', end='')\n",
        "  if cnt1 == 1:\n",
        "    valor = mmc\n",
        "    print('MMC: ', end='')"
      ]
    },
    {
      "cell_type": "markdown",
      "metadata": {
        "id": "g0GvDF3dyLMX"
      },
      "source": [
        "__5)__ (2 pontos) Desenvolva um código onde o usuário irá indicar um número inteiro $n$ e o seu código deve devolver o n-ésimo termo da sequência de Fibonacci. A sequência de Fibonacci é definida com o termo $a_1 = 1$ e $a_2 = 1$ e o termo seguinte é a soma dos dois anteriores, então por exemplo $a_3 = a_1 + a_2 = 2$."
      ]
    },
    {
      "cell_type": "code",
      "execution_count": null,
      "metadata": {
        "id": "BK7wlZNMyLMY"
      },
      "outputs": [],
      "source": [
        "# Exemplo o usuário colocou o valor 7\n",
        "# sequencia de fibonacci = 1 1 2 3 5 8 13\n",
        "# devolver o valor 13 que é o sexto da sequência"
      ]
    },
    {
      "cell_type": "code",
      "execution_count": 25,
      "metadata": {
        "id": "l5gRWWLGyLMc",
        "colab": {
          "base_uri": "https://localhost:8080/"
        },
        "outputId": "8ecc3e3a-b189-4c6f-ee5e-69d0c28d3f54"
      },
      "outputs": [
        {
          "output_type": "stream",
          "name": "stdout",
          "text": [
            "Sequência de números Fibonacci\n",
            "Digite quantos números fibonacci deseja ver: 7\n",
            "Sequência Fibonacci: 1 1 2 3 5 8 13 "
          ]
        }
      ],
      "source": [
        "print('Sequência de números Fibonacci')\n",
        "num = int(input('Digite quantos números fibonacci deseja ver: '))\n",
        "n1 = 1\n",
        "n2 = 1\n",
        "print(f'Sequência Fibonacci: {n1} {n2} ', end='')\n",
        "\n",
        "for i in range(3, num+1):\n",
        "  n3 = n1 + n2\n",
        "  n1,n2 = n2,n3\n",
        "  print(f'{n3} ', end='')\n"
      ]
    }
  ],
  "metadata": {
    "colab": {
      "provenance": []
    },
    "kernelspec": {
      "display_name": "Python 3 (ipykernel)",
      "language": "python",
      "name": "python3"
    },
    "language_info": {
      "codemirror_mode": {
        "name": "ipython",
        "version": 3
      },
      "file_extension": ".py",
      "mimetype": "text/x-python",
      "name": "python",
      "nbconvert_exporter": "python",
      "pygments_lexer": "ipython3",
      "version": "3.9.12"
    }
  },
  "nbformat": 4,
  "nbformat_minor": 0
}