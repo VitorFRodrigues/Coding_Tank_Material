{
  "nbformat": 4,
  "nbformat_minor": 0,
  "metadata": {
    "colab": {
      "provenance": [],
      "include_colab_link": true
    },
    "kernelspec": {
      "name": "python3",
      "display_name": "Python 3"
    },
    "language_info": {
      "name": "python"
    }
  },
  "cells": [
    {
      "cell_type": "markdown",
      "metadata": {
        "id": "view-in-github",
        "colab_type": "text"
      },
      "source": [
        "<a href=\"https://colab.research.google.com/github/VitorFRodrigues/Polo_Tech_Americanas/blob/main/Coding_Tank/Americanas_Ada_%7C_Coding_tank.ipynb\" target=\"_parent\"><img src=\"https://colab.research.google.com/assets/colab-badge.svg\" alt=\"Open In Colab\"/></a>"
      ]
    },
    {
      "cell_type": "markdown",
      "source": [
        "# **Bem vindo ao Coding Tank!**\n",
        "\n",
        "# Professores:\n",
        "\n",
        "Professor: Thiago Magalhães.\n",
        "\n",
        "Professor Auxiliar: Raniel mendonça.\n",
        "\n",
        "\n",
        "# Datas importantes: \n",
        "\n",
        "Aulas: 01, 03, 04, 07, 08 e 09 de novembro, das 19h às 22h.\n",
        "\n",
        "Prova prática: 09 de novembro, das 19h às 22h (câmera obrigatoriamente ligada).\n",
        "\n",
        "# Critérios avaliativos e eliminatórios:\n",
        "\n",
        "Prova prática e engajamento no decorrer das aulas (comentários, contribuições, exercícios realizados, ...)"
      ],
      "metadata": {
        "id": "-8J0fUwBQDd2"
      }
    },
    {
      "cell_type": "markdown",
      "source": [
        "# **Introdução**"
      ],
      "metadata": {
        "id": "YDdlQbOIzy4q"
      }
    },
    {
      "cell_type": "markdown",
      "source": [
        "**O que é uma IDE?**"
      ],
      "metadata": {
        "id": "EGUaWb8Pz7pn"
      }
    },
    {
      "cell_type": "markdown",
      "source": [
        "Uma IDE é um ambiente de desenvolvimento, que pode funcionar localmente ou no navegador. Exemplos do primeiro tipo são o Spyder e o VSCode. Exemplos do segundo tipo são o PyCharm e o Colab, que é o que usaremos no curso.\n",
        "Uma IDE é um programa de computador que nós usaremos quando estivermos construindo os nossos próprios programas de computador."
      ],
      "metadata": {
        "id": "ipVU5mrU0gPk"
      }
    },
    {
      "cell_type": "markdown",
      "source": [
        "**O que é um programa de computador?**"
      ],
      "metadata": {
        "id": "bZo97-Ks0j3Z"
      }
    },
    {
      "cell_type": "markdown",
      "source": [
        "É um conjunto de instruções objetivas (passos) em linguagem inteligível pelo computador (como o Python, por exemplo) com o objetivo de atender a um ou mais requisitos (solucionar problemas). Abaixo, temos o mais simples programa de computador:"
      ],
      "metadata": {
        "id": "Q7E6f8ai0kt2"
      }
    },
    {
      "cell_type": "code",
      "source": [
        "print(\"Olá mundo!\")"
      ],
      "metadata": {
        "colab": {
          "base_uri": "https://localhost:8080/"
        },
        "id": "iDBICM531ZGt",
        "outputId": "9fcece69-81b7-4207-ae35-d8be1b0b1a7e"
      },
      "execution_count": null,
      "outputs": [
        {
          "output_type": "stream",
          "name": "stdout",
          "text": [
            "Olá mundo!\n"
          ]
        }
      ]
    },
    {
      "cell_type": "markdown",
      "source": [
        "**Notas para o decorrer do curso:**\n",
        "*   Trabalhemos com Python;\n",
        "*   Usaremos o Google Colab nas aulas;\n",
        "*   O caractere # serve para definir um comentário em Python, isto é, uma anotação no código, que não será executada como parte do nosso algoritmo computacional."
      ],
      "metadata": {
        "id": "6EU-g2ByYkxf"
      }
    },
    {
      "cell_type": "code",
      "source": [
        "# Este é um exemplo de comentário em Python"
      ],
      "metadata": {
        "id": "hHg2QwIKZMvK"
      },
      "execution_count": null,
      "outputs": []
    },
    {
      "cell_type": "markdown",
      "source": [
        "# **Variáveis**"
      ],
      "metadata": {
        "id": "HjKm_Y7D1TLp"
      }
    },
    {
      "cell_type": "markdown",
      "source": [
        "Variáveis são espaços definidos em memória, que podem armazenar diferentes tipos de dados/informações e que podem ser lidos no decorrer de um programa de computador."
      ],
      "metadata": {
        "id": "CRTWjoJHYGjM"
      }
    },
    {
      "cell_type": "code",
      "source": [
        "# Declarando duas variáveis\n",
        "preco_do_kilo = 80.90\n",
        "peso_do_prato = 0.650"
      ],
      "metadata": {
        "id": "vR1XTBbX0i_I"
      },
      "execution_count": null,
      "outputs": []
    },
    {
      "cell_type": "markdown",
      "source": [
        "Para vermos o conteúdo de uma variável na tela, basta digitarmos o nome da variável e executarmos essa instrução. O Python nos mostrará o retorno deste comando, que será o próprio conteúdo da variável. Desta forma:"
      ],
      "metadata": {
        "id": "zwisl_ELnCxh"
      }
    },
    {
      "cell_type": "code",
      "source": [
        "preco_do_kilo"
      ],
      "metadata": {
        "colab": {
          "base_uri": "https://localhost:8080/"
        },
        "id": "mS5_8oTm2g2A",
        "outputId": "1c109b59-458c-483b-a2e6-7186e702f59c"
      },
      "execution_count": null,
      "outputs": [
        {
          "output_type": "execute_result",
          "data": {
            "text/plain": [
              "80.9"
            ]
          },
          "metadata": {},
          "execution_count": 26
        }
      ]
    },
    {
      "cell_type": "code",
      "source": [
        "peso_do_prato"
      ],
      "metadata": {
        "colab": {
          "base_uri": "https://localhost:8080/"
        },
        "id": "6cFEqhMo2moQ",
        "outputId": "48b0dde5-fb2d-4848-a945-455b31cf2f0a"
      },
      "execution_count": null,
      "outputs": [
        {
          "output_type": "execute_result",
          "data": {
            "text/plain": [
              "0.65"
            ]
          },
          "metadata": {},
          "execution_count": 27
        }
      ]
    },
    {
      "cell_type": "code",
      "source": [
        "# Desta mesmo forma, também podemos mostrar na tela o resultado de operações das mais simples às mais complexas:\n",
        "preco_do_kilo * peso_do_prato"
      ],
      "metadata": {
        "colab": {
          "base_uri": "https://localhost:8080/"
        },
        "id": "6E6Ah16P3str",
        "outputId": "003491bb-67c8-45b9-ddf3-09d49602db33"
      },
      "execution_count": null,
      "outputs": [
        {
          "output_type": "execute_result",
          "data": {
            "text/plain": [
              "52.58500000000001"
            ]
          },
          "metadata": {},
          "execution_count": 5
        }
      ]
    },
    {
      "cell_type": "markdown",
      "source": [
        "**Sobre nomenclatura de variáveis em Python**\n",
        "*   Não podemos ter espaços em branco no nome de uma variável\n",
        "*   Nomes de variáveis não podem ser iniciadas por números\n",
        "*   O Python diferencia maiúsculos de minúsculos\n",
        "*   Palavras (return, None, True) ou caracteres reservados (. @) não podem ser nomes de variáveis\n",
        "*   Procurar utilizar nomes significativos (que deem uma pista da razão de a variável existir);\n",
        "*   Não é uma boa prática utilizarmos caracteres especiais (; ã á)\n",
        "*   Para quaisquer dúvidas, podemos consultar o PEP8\n",
        "\n"
      ],
      "metadata": {
        "id": "8QgRa9i5nzev"
      }
    },
    {
      "cell_type": "code",
      "source": [
        "# Exemplo de variável com nome começado por número. Retornará erro de execução.\n",
        "2peso_do_prato = 0.680"
      ],
      "metadata": {
        "colab": {
          "base_uri": "https://localhost:8080/",
          "height": 132
        },
        "id": "sCO2CRNv39lH",
        "outputId": "eda96c43-043e-4f50-e43f-2f0b9a4fbcce"
      },
      "execution_count": null,
      "outputs": [
        {
          "output_type": "error",
          "ename": "SyntaxError",
          "evalue": "ignored",
          "traceback": [
            "\u001b[0;36m  File \u001b[0;32m\"<ipython-input-4-b599a502fdd2>\"\u001b[0;36m, line \u001b[0;32m2\u001b[0m\n\u001b[0;31m    2peso_do_prato = 0.680\u001b[0m\n\u001b[0m                 ^\u001b[0m\n\u001b[0;31mSyntaxError\u001b[0m\u001b[0;31m:\u001b[0m invalid syntax\n"
          ]
        }
      ]
    },
    {
      "cell_type": "code",
      "source": [
        "# Por outro lado, desde que não ocorra no primeiro caractere, o nome de uma variável pode sim conter números.\n",
        "peso_do_prato2 = 0.680"
      ],
      "metadata": {
        "id": "lN8D1y7yo34-"
      },
      "execution_count": null,
      "outputs": []
    },
    {
      "cell_type": "code",
      "source": [
        "# Os nomes de variáveis são case sensitive\n",
        "PRATO = 10\n",
        "prato = 5"
      ],
      "metadata": {
        "id": "zR8_9afBpk-P"
      },
      "execution_count": null,
      "outputs": []
    },
    {
      "cell_type": "code",
      "source": [
        "PRATO"
      ],
      "metadata": {
        "colab": {
          "base_uri": "https://localhost:8080/"
        },
        "id": "-sAl7SIVpnrp",
        "outputId": "4d878a2c-f668-486c-c414-070267035c46"
      },
      "execution_count": null,
      "outputs": [
        {
          "output_type": "execute_result",
          "data": {
            "text/plain": [
              "10"
            ]
          },
          "metadata": {},
          "execution_count": 10
        }
      ]
    },
    {
      "cell_type": "code",
      "source": [
        "prato"
      ],
      "metadata": {
        "colab": {
          "base_uri": "https://localhost:8080/"
        },
        "id": "VD2MfLXyqjm5",
        "outputId": "ccde96c3-8d6a-447e-ea16-6e2d4bb695e3"
      },
      "execution_count": null,
      "outputs": [
        {
          "output_type": "execute_result",
          "data": {
            "text/plain": [
              "5"
            ]
          },
          "metadata": {},
          "execution_count": 12
        }
      ]
    },
    {
      "cell_type": "code",
      "source": [
        "# Esta não existe. Portanto teremos um erro como retorno.\n",
        "PraTo"
      ],
      "metadata": {
        "colab": {
          "base_uri": "https://localhost:8080/",
          "height": 184
        },
        "id": "zZBhKBOSqkpA",
        "outputId": "2fe31a59-755e-4aca-fbf4-6a6bd63f91ca"
      },
      "execution_count": null,
      "outputs": [
        {
          "output_type": "error",
          "ename": "NameError",
          "evalue": "ignored",
          "traceback": [
            "\u001b[0;31m---------------------------------------------------------------------------\u001b[0m",
            "\u001b[0;31mNameError\u001b[0m                                 Traceback (most recent call last)",
            "\u001b[0;32m<ipython-input-13-71eb489969da>\u001b[0m in \u001b[0;36m<module>\u001b[0;34m\u001b[0m\n\u001b[1;32m      1\u001b[0m \u001b[0;31m# Esta não existe. Portanto teremos um erro como retorno.\u001b[0m\u001b[0;34m\u001b[0m\u001b[0;34m\u001b[0m\u001b[0;34m\u001b[0m\u001b[0m\n\u001b[0;32m----> 2\u001b[0;31m \u001b[0mPraTo\u001b[0m\u001b[0;34m\u001b[0m\u001b[0;34m\u001b[0m\u001b[0m\n\u001b[0m",
            "\u001b[0;31mNameError\u001b[0m: name 'PraTo' is not defined"
          ]
        }
      ]
    },
    {
      "cell_type": "code",
      "source": [
        "# Palavras reservadas, como return, False, True, None, dentre outras, não podem ser usadas para nomes de variáveis.\n",
        "return = 500"
      ],
      "metadata": {
        "colab": {
          "base_uri": "https://localhost:8080/",
          "height": 132
        },
        "id": "YPH7KjWHq5Eb",
        "outputId": "4f78919a-3cce-4763-8964-b7a76cad7ff0"
      },
      "execution_count": null,
      "outputs": [
        {
          "output_type": "error",
          "ename": "SyntaxError",
          "evalue": "ignored",
          "traceback": [
            "\u001b[0;36m  File \u001b[0;32m\"<ipython-input-14-b45af611cbd8>\"\u001b[0;36m, line \u001b[0;32m2\u001b[0m\n\u001b[0;31m    return = 500\u001b[0m\n\u001b[0m           ^\u001b[0m\n\u001b[0;31mSyntaxError\u001b[0m\u001b[0;31m:\u001b[0m invalid syntax\n"
          ]
        }
      ]
    },
    {
      "cell_type": "code",
      "source": [
        "# Nós podemos criar variáveis com acentas, cedilhas e alguns outros caracteres especiais.\n",
        "# Mas não é uma boa prática usar caracteres próprios do nosso idioma. Exceto por _ e -, geralmente é melhor não usar caracteres especiais em nomes de variáveis.\n",
        "árvore = 3\n",
        "árvore"
      ],
      "metadata": {
        "colab": {
          "base_uri": "https://localhost:8080/"
        },
        "id": "ahvZHvyHrEh-",
        "outputId": "c51a2c46-1329-4d95-8a38-ecc9e3d8b908"
      },
      "execution_count": null,
      "outputs": [
        {
          "output_type": "execute_result",
          "data": {
            "text/plain": [
              "3"
            ]
          },
          "metadata": {},
          "execution_count": 16
        }
      ]
    },
    {
      "cell_type": "code",
      "source": [
        "# Não podemos usar . nem @ em nomes de variáveis. O # também não pode ser usado, porque denota comentário.\n",
        "peso_do.prato = 10"
      ],
      "metadata": {
        "colab": {
          "base_uri": "https://localhost:8080/",
          "height": 184
        },
        "id": "gvIn7HjlrrtC",
        "outputId": "abb5290c-9fd6-44d3-b2a1-f172a3101e91"
      },
      "execution_count": null,
      "outputs": [
        {
          "output_type": "error",
          "ename": "NameError",
          "evalue": "ignored",
          "traceback": [
            "\u001b[0;31m---------------------------------------------------------------------------\u001b[0m",
            "\u001b[0;31mNameError\u001b[0m                                 Traceback (most recent call last)",
            "\u001b[0;32m<ipython-input-17-897ef122f6c4>\u001b[0m in \u001b[0;36m<module>\u001b[0;34m\u001b[0m\n\u001b[1;32m      1\u001b[0m \u001b[0;31m# Não podemos usar . nem @ em nomes de variáveis. O # também não pode ser usado, porque denota comentário.\u001b[0m\u001b[0;34m\u001b[0m\u001b[0;34m\u001b[0m\u001b[0;34m\u001b[0m\u001b[0m\n\u001b[0;32m----> 2\u001b[0;31m \u001b[0mpeso_do\u001b[0m\u001b[0;34m.\u001b[0m\u001b[0mprato\u001b[0m \u001b[0;34m=\u001b[0m \u001b[0;36m10\u001b[0m\u001b[0;34m\u001b[0m\u001b[0;34m\u001b[0m\u001b[0m\n\u001b[0m",
            "\u001b[0;31mNameError\u001b[0m: name 'peso_do' is not defined"
          ]
        }
      ]
    },
    {
      "cell_type": "markdown",
      "source": [
        "**Tipos de variáveis**"
      ],
      "metadata": {
        "id": "svUVn7-EtSYj"
      }
    },
    {
      "cell_type": "markdown",
      "source": [
        "\n",
        "*   inteiros\n",
        "*   pontos flutuantes\n",
        "*   booleanos\n",
        "*   strings"
      ],
      "metadata": {
        "id": "ogaAwa1ZuncC"
      }
    },
    {
      "cell_type": "code",
      "source": [
        "# Variável inteira\n",
        "a = 5\n",
        "a = 0\n",
        "a = -8"
      ],
      "metadata": {
        "id": "7ElGiunrsWqu"
      },
      "execution_count": null,
      "outputs": []
    },
    {
      "cell_type": "code",
      "source": [
        "# Variável ponto flutuante\n",
        "b = 3.14\n",
        "b = -3.14"
      ],
      "metadata": {
        "id": "RevkzaBlvsY0"
      },
      "execution_count": null,
      "outputs": []
    },
    {
      "cell_type": "code",
      "source": [
        "# Uma operação entre duas inteiras pode dar origem a uma ponto flutuante!\n",
        "a = 5\n",
        "b = 2\n",
        "c = a/b\n",
        "c"
      ],
      "metadata": {
        "colab": {
          "base_uri": "https://localhost:8080/"
        },
        "id": "7D27ftaM0TTb",
        "outputId": "5705baab-d06f-42c9-9683-fa69159b88f6"
      },
      "execution_count": null,
      "outputs": [
        {
          "output_type": "execute_result",
          "data": {
            "text/plain": [
              "2.5"
            ]
          },
          "metadata": {},
          "execution_count": 25
        }
      ]
    },
    {
      "cell_type": "code",
      "source": [
        "# Variável string\n",
        "frutas = \"abacate\"\n",
        "frutas"
      ],
      "metadata": {
        "id": "vnFAfbqX1pDz"
      },
      "execution_count": null,
      "outputs": []
    },
    {
      "cell_type": "code",
      "source": [
        "# Variável booleana\n",
        "interruptor = False\n",
        "interruptor\n",
        "interruptor = True\n",
        "interruptor"
      ],
      "metadata": {
        "id": "7mKk9eKp1q90"
      },
      "execution_count": null,
      "outputs": []
    },
    {
      "cell_type": "code",
      "source": [
        "interruptor"
      ],
      "metadata": {
        "colab": {
          "base_uri": "https://localhost:8080/"
        },
        "id": "xv9-mkoj2Ena",
        "outputId": "0cb37d83-9888-42b5-8d06-583cbdb98b5c"
      },
      "execution_count": null,
      "outputs": [
        {
          "output_type": "execute_result",
          "data": {
            "text/plain": [
              "False"
            ]
          },
          "metadata": {},
          "execution_count": 45
        }
      ]
    },
    {
      "cell_type": "code",
      "source": [
        "nome = \"O Thiago disse que 'Python é excelente'!\""
      ],
      "metadata": {
        "id": "AI7zbCYO2GUx"
      },
      "execution_count": null,
      "outputs": []
    },
    {
      "cell_type": "code",
      "source": [
        "nome"
      ],
      "metadata": {
        "colab": {
          "base_uri": "https://localhost:8080/",
          "height": 35
        },
        "id": "SW0kOk3h3Coq",
        "outputId": "5d4006d9-8444-4ed4-c092-2828eba01246"
      },
      "execution_count": null,
      "outputs": [
        {
          "output_type": "execute_result",
          "data": {
            "text/plain": [
              "\"O Thiago disse que 'Python é excelente'!\""
            ],
            "application/vnd.google.colaboratory.intrinsic+json": {
              "type": "string"
            }
          },
          "metadata": {},
          "execution_count": 51
        }
      ]
    },
    {
      "cell_type": "code",
      "source": [
        "# comando type(): retorna o tipo de uma variável"
      ],
      "metadata": {
        "id": "DHI5Qpz73DTX"
      },
      "execution_count": null,
      "outputs": []
    },
    {
      "cell_type": "code",
      "source": [
        "type(a)"
      ],
      "metadata": {
        "colab": {
          "base_uri": "https://localhost:8080/"
        },
        "id": "GqPrtNvz3RbB",
        "outputId": "823ccacd-9591-4780-ed1c-d8b6793e4f41"
      },
      "execution_count": null,
      "outputs": [
        {
          "output_type": "execute_result",
          "data": {
            "text/plain": [
              "int"
            ]
          },
          "metadata": {},
          "execution_count": 57
        }
      ]
    },
    {
      "cell_type": "code",
      "source": [
        "a = 3.14"
      ],
      "metadata": {
        "id": "ODgptxEY4Ihq"
      },
      "execution_count": null,
      "outputs": []
    },
    {
      "cell_type": "code",
      "source": [
        "type(a)"
      ],
      "metadata": {
        "colab": {
          "base_uri": "https://localhost:8080/"
        },
        "id": "pBPIAZX64Sdt",
        "outputId": "7956023d-b704-4b67-e5ff-2b32a7fba8d7"
      },
      "execution_count": null,
      "outputs": [
        {
          "output_type": "execute_result",
          "data": {
            "text/plain": [
              "float"
            ]
          },
          "metadata": {},
          "execution_count": 59
        }
      ]
    },
    {
      "cell_type": "code",
      "source": [
        "type(\"2.15\")"
      ],
      "metadata": {
        "colab": {
          "base_uri": "https://localhost:8080/"
        },
        "id": "_23WAE3K40cn",
        "outputId": "bb5f7ec5-362c-47be-d540-42ba7e11c36b"
      },
      "execution_count": null,
      "outputs": [
        {
          "output_type": "execute_result",
          "data": {
            "text/plain": [
              "str"
            ]
          },
          "metadata": {},
          "execution_count": 64
        }
      ]
    },
    {
      "cell_type": "code",
      "source": [
        "texto = \"Isto é um texto!!\""
      ],
      "metadata": {
        "id": "jFhBo0ES5zQ0"
      },
      "execution_count": null,
      "outputs": []
    },
    {
      "cell_type": "code",
      "source": [
        "type(texto)"
      ],
      "metadata": {
        "colab": {
          "base_uri": "https://localhost:8080/"
        },
        "id": "6RFbdnq05r5D",
        "outputId": "bc0ba351-1c8b-434d-a503-483559a6de7f"
      },
      "execution_count": null,
      "outputs": [
        {
          "output_type": "execute_result",
          "data": {
            "text/plain": [
              "str"
            ]
          },
          "metadata": {},
          "execution_count": 67
        }
      ]
    },
    {
      "cell_type": "code",
      "source": [
        "# False e True são as palavras reservadas para o tipo booleanos\n",
        "interruptor = False\n",
        "type(interruptor)"
      ],
      "metadata": {
        "colab": {
          "base_uri": "https://localhost:8080/"
        },
        "id": "7jAi5dee5vc8",
        "outputId": "cd84a393-f3e2-4a98-e46f-80b3be65a4de"
      },
      "execution_count": null,
      "outputs": [
        {
          "output_type": "execute_result",
          "data": {
            "text/plain": [
              "bool"
            ]
          },
          "metadata": {},
          "execution_count": 73
        }
      ]
    },
    {
      "cell_type": "code",
      "source": [
        "exemplo = \"\""
      ],
      "metadata": {
        "id": "OkyT59uf57y7"
      },
      "execution_count": null,
      "outputs": []
    },
    {
      "cell_type": "code",
      "source": [
        "type(exemplo)"
      ],
      "metadata": {
        "colab": {
          "base_uri": "https://localhost:8080/"
        },
        "id": "D7qqIQba6DCv",
        "outputId": "9b16b343-a8c6-441e-b700-e93afc1cdf3a"
      },
      "execution_count": null,
      "outputs": [
        {
          "output_type": "execute_result",
          "data": {
            "text/plain": [
              "str"
            ]
          },
          "metadata": {},
          "execution_count": 71
        }
      ]
    },
    {
      "cell_type": "markdown",
      "source": [
        "**Entradas e Saídas**"
      ],
      "metadata": {
        "id": "qnwczlns9Ksi"
      }
    },
    {
      "cell_type": "code",
      "source": [
        "print(\"Hello world\")"
      ],
      "metadata": {
        "colab": {
          "base_uri": "https://localhost:8080/"
        },
        "id": "U17dOrv16ELq",
        "outputId": "31c0c37c-72a2-4812-f3c4-307787269e28"
      },
      "execution_count": null,
      "outputs": [
        {
          "output_type": "stream",
          "name": "stdout",
          "text": [
            "Hello world\n"
          ]
        }
      ]
    },
    {
      "cell_type": "code",
      "source": [
        "a = input(\"Digite qualquer coisa e pressione ENTER: \")"
      ],
      "metadata": {
        "colab": {
          "base_uri": "https://localhost:8080/"
        },
        "id": "HoHw951MBWNo",
        "outputId": "b22da585-3323-4ef4-964e-9a0ef47115cf"
      },
      "execution_count": null,
      "outputs": [
        {
          "name": "stdout",
          "output_type": "stream",
          "text": [
            "Digite qualquer coisa e pressione ENTER: True\n"
          ]
        }
      ]
    },
    {
      "cell_type": "code",
      "source": [
        "type(a)"
      ],
      "metadata": {
        "colab": {
          "base_uri": "https://localhost:8080/"
        },
        "id": "qn80ESg3BkTb",
        "outputId": "89061d2f-dc0d-4ba8-80f2-c94e2daacd88"
      },
      "execution_count": null,
      "outputs": [
        {
          "output_type": "execute_result",
          "data": {
            "text/plain": [
              "str"
            ]
          },
          "metadata": {},
          "execution_count": 84
        }
      ]
    },
    {
      "cell_type": "code",
      "source": [
        "idade = input(\"Digite a sua idade: \")"
      ],
      "metadata": {
        "colab": {
          "base_uri": "https://localhost:8080/"
        },
        "id": "xJmKsKiBBsBc",
        "outputId": "6ea91b2b-4182-4836-a22b-d9c727ce3850"
      },
      "execution_count": null,
      "outputs": [
        {
          "name": "stdout",
          "output_type": "stream",
          "text": [
            "Digite a sua idade: 29\n"
          ]
        }
      ]
    },
    {
      "cell_type": "code",
      "source": [
        "type(idade)"
      ],
      "metadata": {
        "colab": {
          "base_uri": "https://localhost:8080/"
        },
        "id": "DjNtZJ1WB-Jk",
        "outputId": "a441b237-45a0-4e81-8bbf-aa2211d35f97"
      },
      "execution_count": null,
      "outputs": [
        {
          "output_type": "execute_result",
          "data": {
            "text/plain": [
              "str"
            ]
          },
          "metadata": {},
          "execution_count": 81
        }
      ]
    },
    {
      "cell_type": "code",
      "source": [
        "idade"
      ],
      "metadata": {
        "colab": {
          "base_uri": "https://localhost:8080/",
          "height": 35
        },
        "id": "iWh4v9H-CIpF",
        "outputId": "e44469b4-4a56-4c6a-b386-4256dba9bce2"
      },
      "execution_count": null,
      "outputs": [
        {
          "output_type": "execute_result",
          "data": {
            "text/plain": [
              "'29'"
            ],
            "application/vnd.google.colaboratory.intrinsic+json": {
              "type": "string"
            }
          },
          "metadata": {},
          "execution_count": 82
        }
      ]
    },
    {
      "cell_type": "code",
      "source": [
        "a = \"3.15\""
      ],
      "metadata": {
        "id": "Bl1DELz_CJgT"
      },
      "execution_count": null,
      "outputs": []
    },
    {
      "cell_type": "code",
      "source": [
        "a = float(a)"
      ],
      "metadata": {
        "id": "VS7FEBs7C976"
      },
      "execution_count": null,
      "outputs": []
    },
    {
      "cell_type": "code",
      "source": [
        "a"
      ],
      "metadata": {
        "colab": {
          "base_uri": "https://localhost:8080/"
        },
        "id": "kQ-bedLrDGTY",
        "outputId": "170dac85-da32-4ae5-fd1e-73f30b0bdd1a"
      },
      "execution_count": null,
      "outputs": [
        {
          "output_type": "execute_result",
          "data": {
            "text/plain": [
              "3.15"
            ]
          },
          "metadata": {},
          "execution_count": 89
        }
      ]
    },
    {
      "cell_type": "code",
      "source": [
        "idade = \"43\""
      ],
      "metadata": {
        "id": "W5x9owvGDIpZ"
      },
      "execution_count": null,
      "outputs": []
    },
    {
      "cell_type": "code",
      "source": [
        "int(idade)"
      ],
      "metadata": {
        "colab": {
          "base_uri": "https://localhost:8080/"
        },
        "id": "75h6ICygDUtT",
        "outputId": "2fd1fa64-d97d-48f2-d282-753f84ab9b63"
      },
      "execution_count": null,
      "outputs": [
        {
          "output_type": "execute_result",
          "data": {
            "text/plain": [
              "43"
            ]
          },
          "metadata": {},
          "execution_count": 93
        }
      ]
    },
    {
      "cell_type": "code",
      "source": [
        "flag = \"True\""
      ],
      "metadata": {
        "id": "oq7VYavoDXlK"
      },
      "execution_count": null,
      "outputs": []
    },
    {
      "cell_type": "code",
      "source": [
        "type(flag)"
      ],
      "metadata": {
        "colab": {
          "base_uri": "https://localhost:8080/"
        },
        "id": "ivUas2FHDgJg",
        "outputId": "25b6abac-d7c9-4f88-c691-57698173c767"
      },
      "execution_count": null,
      "outputs": [
        {
          "output_type": "execute_result",
          "data": {
            "text/plain": [
              "str"
            ]
          },
          "metadata": {},
          "execution_count": 108
        }
      ]
    },
    {
      "cell_type": "code",
      "source": [
        "flag = bool(flag)"
      ],
      "metadata": {
        "id": "DRNNSjZZDg-O"
      },
      "execution_count": null,
      "outputs": []
    },
    {
      "cell_type": "code",
      "source": [
        "flag"
      ],
      "metadata": {
        "colab": {
          "base_uri": "https://localhost:8080/"
        },
        "id": "CCCcylroEKG1",
        "outputId": "3af35ac8-a9d7-4a75-b52e-b8102fc34b05"
      },
      "execution_count": null,
      "outputs": [
        {
          "output_type": "execute_result",
          "data": {
            "text/plain": [
              "True"
            ]
          },
          "metadata": {},
          "execution_count": 110
        }
      ]
    },
    {
      "cell_type": "code",
      "source": [
        "preco = \"8.99\""
      ],
      "metadata": {
        "id": "myjt3DFMDkfx"
      },
      "execution_count": null,
      "outputs": []
    },
    {
      "cell_type": "code",
      "source": [
        "type(preco)"
      ],
      "metadata": {
        "colab": {
          "base_uri": "https://localhost:8080/"
        },
        "id": "ezchS-PPDvzk",
        "outputId": "c8cc5b40-9e35-49fc-b4fe-605c1d848698"
      },
      "execution_count": null,
      "outputs": [
        {
          "output_type": "execute_result",
          "data": {
            "text/plain": [
              "str"
            ]
          },
          "metadata": {},
          "execution_count": 105
        }
      ]
    },
    {
      "cell_type": "code",
      "source": [
        "float(preco)"
      ],
      "metadata": {
        "colab": {
          "base_uri": "https://localhost:8080/"
        },
        "id": "-VLpNq_TDw9E",
        "outputId": "36998193-4429-4eda-9843-e7c57f8c6996"
      },
      "execution_count": null,
      "outputs": [
        {
          "output_type": "execute_result",
          "data": {
            "text/plain": [
              "8.99"
            ]
          },
          "metadata": {},
          "execution_count": 106
        }
      ]
    },
    {
      "cell_type": "code",
      "source": [
        "idade = 28"
      ],
      "metadata": {
        "id": "eu3tisx9Dzs7"
      },
      "execution_count": null,
      "outputs": []
    },
    {
      "cell_type": "code",
      "source": [
        "str(28)"
      ],
      "metadata": {
        "colab": {
          "base_uri": "https://localhost:8080/",
          "height": 35
        },
        "id": "ihZVMb_MEaDX",
        "outputId": "c5d0baa9-944f-4067-aa8e-b30a4f84c986"
      },
      "execution_count": null,
      "outputs": [
        {
          "output_type": "execute_result",
          "data": {
            "text/plain": [
              "'28'"
            ],
            "application/vnd.google.colaboratory.intrinsic+json": {
              "type": "string"
            }
          },
          "metadata": {},
          "execution_count": 114
        }
      ]
    },
    {
      "cell_type": "code",
      "source": [
        "a = \"teste\"\n",
        "a = bool(a)"
      ],
      "metadata": {
        "id": "Q34PwQnlEiul"
      },
      "execution_count": null,
      "outputs": []
    },
    {
      "cell_type": "code",
      "source": [
        "a"
      ],
      "metadata": {
        "colab": {
          "base_uri": "https://localhost:8080/"
        },
        "id": "uDDKdcZAEwWN",
        "outputId": "eecd6c7b-f2ea-4ade-df40-ac5f8163f237"
      },
      "execution_count": null,
      "outputs": [
        {
          "output_type": "execute_result",
          "data": {
            "text/plain": [
              "True"
            ]
          },
          "metadata": {},
          "execution_count": 123
        }
      ]
    },
    {
      "cell_type": "code",
      "source": [
        "type(idade)"
      ],
      "metadata": {
        "colab": {
          "base_uri": "https://localhost:8080/"
        },
        "id": "XkaXgatdGojH",
        "outputId": "c5ce3e26-7295-4160-f74c-573bd2e816a3"
      },
      "execution_count": null,
      "outputs": [
        {
          "output_type": "execute_result",
          "data": {
            "text/plain": [
              "int"
            ]
          },
          "metadata": {},
          "execution_count": 128
        }
      ]
    },
    {
      "cell_type": "code",
      "source": [
        "print(f\"O Moroni tem {idade} anos.\")\n",
        "print(\"O Moroni tem {} anos.\".format(idade))\n",
        "print(\"O Moroni tem\", idade, \"anos.\")"
      ],
      "metadata": {
        "colab": {
          "base_uri": "https://localhost:8080/"
        },
        "id": "tZJJjlv8Ey__",
        "outputId": "ac077418-7aa3-4385-d3d2-e0b3af6a2fef"
      },
      "execution_count": null,
      "outputs": [
        {
          "output_type": "stream",
          "name": "stdout",
          "text": [
            "O Moroni tem 28 anos.\n",
            "O Moroni tem 28 anos.\n",
            "O Moroni tem 28 anos.\n"
          ]
        }
      ]
    },
    {
      "cell_type": "markdown",
      "source": [
        "**Exercícios**"
      ],
      "metadata": {
        "id": "wI4F2TWtG_o2"
      }
    },
    {
      "cell_type": "markdown",
      "source": [
        "1. Construa um programa que receba uma idade e um nome e imprima uma saída do tipo: \"Adriele tem 22 anos.\"."
      ],
      "metadata": {
        "id": "pYQ5YfvjHC9B"
      }
    },
    {
      "cell_type": "code",
      "source": [
        "nome = input(\"Digite seu nome: \")\n",
        "idade = input(\"Digite sua idade: \")\n",
        "print(f\"{nome} tem {idade} anos.\")"
      ],
      "metadata": {
        "colab": {
          "base_uri": "https://localhost:8080/"
        },
        "id": "51Lvnbh_FxFZ",
        "outputId": "6e571c2d-c72a-46d6-afcf-10d19025920c"
      },
      "execution_count": null,
      "outputs": [
        {
          "output_type": "stream",
          "name": "stdout",
          "text": [
            "Digite seu nome: Thiago\n",
            "Digite sua idade: 29\n",
            "Thiago tem 29 anos.\n"
          ]
        }
      ]
    },
    {
      "cell_type": "markdown",
      "source": [
        "2. Construa um programa que receba uma idade e um nome e imprima uma saída do tipo: \"Adriele tem 22 anos.\" considerando a idade que o usuário terá daqui há 15 anos."
      ],
      "metadata": {
        "id": "8E_rQFJ0IuyU"
      }
    },
    {
      "cell_type": "code",
      "source": [
        "nome = input(\"Digite seu nome: \")\n",
        "idade = int(input(\"Digite sua idade: \"))\n",
        "print(f\"{nome} tem {idade+15} anos.\")"
      ],
      "metadata": {
        "colab": {
          "base_uri": "https://localhost:8080/",
          "height": 236
        },
        "id": "YnsueyN2InZp",
        "outputId": "9ec3aba9-f544-424b-9692-3d643b1455c8"
      },
      "execution_count": null,
      "outputs": [
        {
          "name": "stdout",
          "output_type": "stream",
          "text": [
            "Digite seu nome: Thiago\n",
            "Digite sua idade: vinte e nove anos\n"
          ]
        },
        {
          "output_type": "error",
          "ename": "ValueError",
          "evalue": "ignored",
          "traceback": [
            "\u001b[0;31m---------------------------------------------------------------------------\u001b[0m",
            "\u001b[0;31mValueError\u001b[0m                                Traceback (most recent call last)",
            "\u001b[0;32m<ipython-input-133-a8c7ec527ad3>\u001b[0m in \u001b[0;36m<module>\u001b[0;34m\u001b[0m\n\u001b[1;32m      1\u001b[0m \u001b[0mnome\u001b[0m \u001b[0;34m=\u001b[0m \u001b[0minput\u001b[0m\u001b[0;34m(\u001b[0m\u001b[0;34m\"Digite seu nome: \"\u001b[0m\u001b[0;34m)\u001b[0m\u001b[0;34m\u001b[0m\u001b[0;34m\u001b[0m\u001b[0m\n\u001b[0;32m----> 2\u001b[0;31m \u001b[0midade\u001b[0m \u001b[0;34m=\u001b[0m \u001b[0mint\u001b[0m\u001b[0;34m(\u001b[0m\u001b[0minput\u001b[0m\u001b[0;34m(\u001b[0m\u001b[0;34m\"Digite sua idade: \"\u001b[0m\u001b[0;34m)\u001b[0m\u001b[0;34m)\u001b[0m\u001b[0;34m\u001b[0m\u001b[0;34m\u001b[0m\u001b[0m\n\u001b[0m\u001b[1;32m      3\u001b[0m \u001b[0mprint\u001b[0m\u001b[0;34m(\u001b[0m\u001b[0;34mf\"{nome} tem {idade+15} anos.\"\u001b[0m\u001b[0;34m)\u001b[0m\u001b[0;34m\u001b[0m\u001b[0;34m\u001b[0m\u001b[0m\n",
            "\u001b[0;31mValueError\u001b[0m: invalid literal for int() with base 10: 'vinte e nove anos'"
          ]
        }
      ]
    },
    {
      "cell_type": "markdown",
      "source": [
        "3. Construa um programa que receba peso e altura e retorne o IMC, da seguinte forma: \"Seu IMC é ...\"."
      ],
      "metadata": {
        "id": "HkyHwtzZKN9t"
      }
    },
    {
      "cell_type": "code",
      "source": [
        "peso = float(input(\"Digite o seu peso em quilos: \"))\n",
        "altura = float(input(\"Digite sua altura em metros: \"))\n",
        "imc = peso / altura**2\n",
        "print(f\"Seu IMC é {imc:.5f}.\")"
      ],
      "metadata": {
        "colab": {
          "base_uri": "https://localhost:8080/"
        },
        "id": "ZUNMpqLJKL_N",
        "outputId": "5a993e74-98be-4b77-92a6-7ea745a79e4d"
      },
      "execution_count": null,
      "outputs": [
        {
          "output_type": "stream",
          "name": "stdout",
          "text": [
            "Digite o seu peso em quilos: 71\n",
            "Digite sua altura em metros: 1.7\n",
            "Seu IMC é 24.57.\n"
          ]
        }
      ]
    },
    {
      "cell_type": "markdown",
      "source": [
        "# **Operadores aritméticos**"
      ],
      "metadata": {
        "id": "jR3qINPzpp9p"
      }
    },
    {
      "cell_type": "code",
      "source": [
        "print(2 + 5) # soma\n",
        "print(5 - 2) # subtração\n",
        "print(5 * 2) # multiplicação\n",
        "print(5 / 2) # divisão"
      ],
      "metadata": {
        "colab": {
          "base_uri": "https://localhost:8080/"
        },
        "id": "lxK925DxKvCK",
        "outputId": "98d075d0-0259-4542-86c3-47d9838a136b"
      },
      "execution_count": null,
      "outputs": [
        {
          "output_type": "stream",
          "name": "stdout",
          "text": [
            "7\n",
            "3\n",
            "10\n",
            "2.5\n"
          ]
        }
      ]
    },
    {
      "cell_type": "code",
      "source": [
        "print(5 // 2) # divisão inteira"
      ],
      "metadata": {
        "colab": {
          "base_uri": "https://localhost:8080/"
        },
        "id": "oxE7p60wxsyb",
        "outputId": "193aef91-7e93-447b-fb1d-1abf7ddfbaf2"
      },
      "execution_count": null,
      "outputs": [
        {
          "output_type": "stream",
          "name": "stdout",
          "text": [
            "2\n"
          ]
        }
      ]
    },
    {
      "cell_type": "code",
      "source": [
        "print(5 % 2) # divisão residual"
      ],
      "metadata": {
        "colab": {
          "base_uri": "https://localhost:8080/"
        },
        "id": "OpQfszONxvzH",
        "outputId": "9c6b3293-bc32-43b3-bbcd-deefb6f81ed6"
      },
      "execution_count": null,
      "outputs": [
        {
          "output_type": "stream",
          "name": "stdout",
          "text": [
            "1\n"
          ]
        }
      ]
    },
    {
      "cell_type": "code",
      "source": [
        "print(5 ** 2) # potenciação"
      ],
      "metadata": {
        "colab": {
          "base_uri": "https://localhost:8080/"
        },
        "id": "74xgwx-my5yZ",
        "outputId": "bc9d25bc-54b4-447d-d0e0-ed5b26cb1a84"
      },
      "execution_count": null,
      "outputs": [
        {
          "output_type": "stream",
          "name": "stdout",
          "text": [
            "7.0\n"
          ]
        }
      ]
    },
    {
      "cell_type": "code",
      "source": [
        "\"Adorei\" * 5 # Em python você multiplicar inteiros por strings"
      ],
      "metadata": {
        "colab": {
          "base_uri": "https://localhost:8080/",
          "height": 35
        },
        "id": "HW0xqhP2z93V",
        "outputId": "6d341148-b5ae-445c-cf2a-887c44246b3c"
      },
      "execution_count": null,
      "outputs": [
        {
          "output_type": "execute_result",
          "data": {
            "text/plain": [
              "'AdoreiAdoreiAdoreiAdoreiAdorei'"
            ],
            "application/vnd.google.colaboratory.intrinsic+json": {
              "type": "string"
            }
          },
          "metadata": {},
          "execution_count": 40
        }
      ]
    },
    {
      "cell_type": "markdown",
      "source": [
        "Nota: ordem das operações matemáticas\n",
        "1.   Potenciações\n",
        "2.   Multiplicações e divisões\n",
        "3.   Somas e subtrações\n"
      ],
      "metadata": {
        "id": "HkmGNPO81CCJ"
      }
    },
    {
      "cell_type": "code",
      "source": [
        "resultado = 3 * 2 + 3 ** 3 + 4 / 2\n",
        "resultado"
      ],
      "metadata": {
        "colab": {
          "base_uri": "https://localhost:8080/"
        },
        "id": "8-KBFhwD1Z0b",
        "outputId": "15582d4b-24e9-40f2-db4d-e92da569cf2e"
      },
      "execution_count": null,
      "outputs": [
        {
          "output_type": "execute_result",
          "data": {
            "text/plain": [
              "35.0"
            ]
          },
          "metadata": {},
          "execution_count": 43
        }
      ]
    },
    {
      "cell_type": "markdown",
      "source": [
        "# **Operadores lógicos**"
      ],
      "metadata": {
        "id": "IHoC7iNzpuDX"
      }
    },
    {
      "cell_type": "code",
      "source": [
        "# Primeiro vamos atribuir duas variáveis inteiras\n",
        "var1 = 20\n",
        "var2 = 40\n",
        "var3 = 20"
      ],
      "metadata": {
        "id": "CjnYKTy6pw9O"
      },
      "execution_count": null,
      "outputs": []
    },
    {
      "cell_type": "code",
      "source": [
        "# Operador de igualdade (==)\n",
        "#  ATENÇÃO!\n",
        "# = atribuição\n",
        "# == comparação\n",
        "var1 == var2"
      ],
      "metadata": {
        "colab": {
          "base_uri": "https://localhost:8080/"
        },
        "id": "HUtTux0q20s1",
        "outputId": "3ce0718d-7f01-4869-f123-dd9ad6e7a982"
      },
      "execution_count": null,
      "outputs": [
        {
          "output_type": "execute_result",
          "data": {
            "text/plain": [
              "False"
            ]
          },
          "metadata": {},
          "execution_count": 48
        }
      ]
    },
    {
      "cell_type": "code",
      "source": [
        "# Maior que: >\n",
        "# Menor que: <\n",
        "var1 < var2"
      ],
      "metadata": {
        "colab": {
          "base_uri": "https://localhost:8080/"
        },
        "id": "0gYtzBC93NOG",
        "outputId": "6ac5aaea-3ef8-4539-a960-125836765806"
      },
      "execution_count": null,
      "outputs": [
        {
          "output_type": "execute_result",
          "data": {
            "text/plain": [
              "True"
            ]
          },
          "metadata": {},
          "execution_count": 50
        }
      ]
    },
    {
      "cell_type": "code",
      "source": [
        "# Maior ou igual a: >=\n",
        "# Menor ou igual a: <=\n",
        "var2 <= var1"
      ],
      "metadata": {
        "colab": {
          "base_uri": "https://localhost:8080/"
        },
        "id": "h4L_r2l13ZRc",
        "outputId": "ebb0331f-263f-4cf8-b4b1-fc4b510fe448"
      },
      "execution_count": null,
      "outputs": [
        {
          "output_type": "execute_result",
          "data": {
            "text/plain": [
              "False"
            ]
          },
          "metadata": {},
          "execution_count": 54
        }
      ]
    },
    {
      "cell_type": "code",
      "source": [
        "# Diferente de: !=\n",
        "var1 != var3 "
      ],
      "metadata": {
        "colab": {
          "base_uri": "https://localhost:8080/"
        },
        "id": "FKnDn45h3vTj",
        "outputId": "c54b3924-4d8d-4808-d93d-fff4dff2c38b"
      },
      "execution_count": null,
      "outputs": [
        {
          "output_type": "execute_result",
          "data": {
            "text/plain": [
              "False"
            ]
          },
          "metadata": {},
          "execution_count": 56
        }
      ]
    },
    {
      "cell_type": "code",
      "source": [
        "# Tipos também contam na hora da comparação!\n",
        "a = \"20\"\n",
        "b = 20\n",
        "a == b"
      ],
      "metadata": {
        "colab": {
          "base_uri": "https://localhost:8080/"
        },
        "id": "juqorjnZ4He8",
        "outputId": "a44fae8a-fd84-41a9-c979-b90617bd217a"
      },
      "execution_count": null,
      "outputs": [
        {
          "output_type": "execute_result",
          "data": {
            "text/plain": [
              "False"
            ]
          },
          "metadata": {},
          "execution_count": 58
        }
      ]
    },
    {
      "cell_type": "code",
      "source": [
        "# Podemos testar se uma string é substring de outra\n",
        "str1 = \"concatenação\"\n",
        "str2 = \"cat\"\n",
        "str2 in str1"
      ],
      "metadata": {
        "colab": {
          "base_uri": "https://localhost:8080/"
        },
        "id": "jGGT0dI64YAv",
        "outputId": "20cd9293-7876-4daf-f561-265c7a74765c"
      },
      "execution_count": null,
      "outputs": [
        {
          "output_type": "execute_result",
          "data": {
            "text/plain": [
              "True"
            ]
          },
          "metadata": {},
          "execution_count": 66
        }
      ]
    },
    {
      "cell_type": "code",
      "source": [
        "# Em strings, < e > dizem respeito a ordenação alfabética\n",
        "a = \"aaa\"\n",
        "b = \"bbb\"\n",
        "a > b"
      ],
      "metadata": {
        "colab": {
          "base_uri": "https://localhost:8080/"
        },
        "id": "S946-uKT4xmp",
        "outputId": "7a3aee0a-f51c-485b-8390-86ae1ff13aa0"
      },
      "execution_count": null,
      "outputs": [
        {
          "output_type": "execute_result",
          "data": {
            "text/plain": [
              "False"
            ]
          },
          "metadata": {},
          "execution_count": 70
        }
      ]
    },
    {
      "cell_type": "code",
      "source": [
        "# Posso usar o not para inverter operações\n",
        "not 5 < 10"
      ],
      "metadata": {
        "colab": {
          "base_uri": "https://localhost:8080/"
        },
        "id": "B_4c8gBn4g6Z",
        "outputId": "cac97ccc-c8f4-4db6-e4e1-9e55cc93e47f"
      },
      "execution_count": null,
      "outputs": [
        {
          "output_type": "execute_result",
          "data": {
            "text/plain": [
              "False"
            ]
          },
          "metadata": {},
          "execution_count": 76
        }
      ]
    },
    {
      "cell_type": "code",
      "source": [
        "nome = \"Victor Hugo Chagas\""
      ],
      "metadata": {
        "id": "cNDkEVwb4_xb"
      },
      "execution_count": null,
      "outputs": []
    },
    {
      "cell_type": "code",
      "source": [
        "not \"Silva\" in nome"
      ],
      "metadata": {
        "colab": {
          "base_uri": "https://localhost:8080/"
        },
        "id": "7GZWGHt15tOR",
        "outputId": "60c45e5b-ee35-4840-c16a-5c5cb0141ddc"
      },
      "execution_count": null,
      "outputs": [
        {
          "output_type": "execute_result",
          "data": {
            "text/plain": [
              "True"
            ]
          },
          "metadata": {},
          "execution_count": 81
        }
      ]
    },
    {
      "cell_type": "code",
      "source": [
        "\"Joel\" in nome and (\"Silva\" in nome or \"Chagas\" in nome)"
      ],
      "metadata": {
        "colab": {
          "base_uri": "https://localhost:8080/"
        },
        "id": "9K2WBIlm6BWw",
        "outputId": "45ecb047-33f8-4342-f6eb-a2b9f8776c46"
      },
      "execution_count": null,
      "outputs": [
        {
          "output_type": "execute_result",
          "data": {
            "text/plain": [
              "False"
            ]
          },
          "metadata": {},
          "execution_count": 87
        }
      ]
    },
    {
      "cell_type": "markdown",
      "source": [
        "# **Estruturas condicionais**"
      ],
      "metadata": {
        "id": "RZCfARMJp2mU"
      }
    },
    {
      "cell_type": "markdown",
      "source": [
        "*   if\n",
        "*   else\n",
        "*   elif"
      ],
      "metadata": {
        "id": "rUX8Y4Ce9_pO"
      }
    },
    {
      "cell_type": "code",
      "source": [
        "a = 20\n",
        "\n",
        "if a > 20:\n",
        "  print(\"A é maior do que 20!\")\n",
        "elif a < 20:\n",
        "  print(\"A é menor do que 20!\")\n",
        "else:\n",
        "  print(\"A é igual a 20!\")"
      ],
      "metadata": {
        "colab": {
          "base_uri": "https://localhost:8080/"
        },
        "id": "ljwR0diSp9FW",
        "outputId": "4a0abeef-f2da-4082-902e-217eac5b9ed3"
      },
      "execution_count": null,
      "outputs": [
        {
          "output_type": "stream",
          "name": "stdout",
          "text": [
            "A é igual a 20!\n"
          ]
        }
      ]
    },
    {
      "cell_type": "code",
      "source": [
        "cartao_credito = True\n",
        "CLT = True\n",
        "CLT_ha_mais_de_5_anos = True\n",
        "consignado = False"
      ],
      "metadata": {
        "id": "2BUZfodoCLVx"
      },
      "execution_count": null,
      "outputs": []
    },
    {
      "cell_type": "code",
      "source": [
        "pontuacao = 0\n",
        "if cartao_credito:\n",
        "  pontuacao = pontuacao + 1\n",
        "if CLT:\n",
        "  pontuacao = pontuacao + 1\n",
        "\n",
        "print(pontuacao)"
      ],
      "metadata": {
        "colab": {
          "base_uri": "https://localhost:8080/"
        },
        "id": "Z72doPsDCWT1",
        "outputId": "ef9c934b-7ae8-49f2-8cff-baa296fa7fd4"
      },
      "execution_count": null,
      "outputs": [
        {
          "output_type": "stream",
          "name": "stdout",
          "text": [
            "2\n"
          ]
        }
      ]
    },
    {
      "cell_type": "markdown",
      "source": [
        "**Exercícios**"
      ],
      "metadata": {
        "id": "2c-tchDHDi6w"
      }
    },
    {
      "cell_type": "markdown",
      "source": [
        "# Exercício 1 \n",
        "\n",
        "Escreva um programa que recebe um número e diz se este é par ou ímpar"
      ],
      "metadata": {
        "id": "85KJ3Cw3D9Ii"
      }
    },
    {
      "cell_type": "code",
      "source": [
        "numero = float(input('Digite um número para ver se é par ou impar:'))\n",
        "resto = numero % 2\n",
        "\n",
        "if resto == 0:\n",
        "    print('Número é par')\n",
        "else:\n",
        "    print('Número é impar')"
      ],
      "metadata": {
        "colab": {
          "base_uri": "https://localhost:8080/"
        },
        "id": "8uUeHsDSJDfr",
        "outputId": "2eebffd4-9511-4ac8-cab7-64fd0b8f5628"
      },
      "execution_count": null,
      "outputs": [
        {
          "output_type": "stream",
          "name": "stdout",
          "text": [
            "Digite um número para ver se é par ou impar:10\n",
            "Número é par\n"
          ]
        }
      ]
    },
    {
      "cell_type": "markdown",
      "source": [
        "# Exercício 2\n",
        "\n",
        "Crie um programa que receba um número e diga se é inteiro ou float"
      ],
      "metadata": {
        "id": "ZELFPvxbEC7q"
      }
    },
    {
      "cell_type": "code",
      "source": [
        "num = input(\"Insira um número: \")\n",
        "\n",
        "if \".\" in num:\n",
        "    print(\"float\")\n",
        "else:\n",
        "    print(\"int\")"
      ],
      "metadata": {
        "colab": {
          "base_uri": "https://localhost:8080/"
        },
        "id": "hgMQwkmxJhtz",
        "outputId": "29e510a9-7719-454a-fbc9-10c1e88acecf"
      },
      "execution_count": null,
      "outputs": [
        {
          "output_type": "stream",
          "name": "stdout",
          "text": [
            "Insira um número: elefante.cachorro\n",
            "float\n"
          ]
        }
      ]
    },
    {
      "cell_type": "markdown",
      "source": [
        "# Exercício 3\n",
        "\n",
        "Crie um programa que receba um número e imprima \"fuzz\" se o número for múltiplo de 3, \"buzz\" se deixar resto 1 na divisão por 3 e \"nada\" se deixar resto 2 na divisão por 3"
      ],
      "metadata": {
        "id": "ELNzNP7-E37T"
      }
    },
    {
      "cell_type": "code",
      "source": [
        "num = int(input('Digite um número: '))\n",
        "res = num % 3\n",
        "\n",
        "if res == 0:\n",
        "  print('Fuzz')\n",
        "elif res == 1:\n",
        "  print('Buzz')\n",
        "elif res == 2:\n",
        "  print('nada')"
      ],
      "metadata": {
        "id": "RFd82I_nKjja"
      },
      "execution_count": null,
      "outputs": []
    },
    {
      "cell_type": "markdown",
      "source": [
        "# Exercício 4:\n",
        "\n",
        "Crie um programa que recebe sua altura e peso, calcula o imc e retorna um status (abaixo do peso, no peso, acima do peso)."
      ],
      "metadata": {
        "id": "LL2u-aWMFCao"
      }
    },
    {
      "cell_type": "code",
      "source": [
        "\n",
        "altura = float(input(\"Digite a altura em metros: \"))\n",
        "peso = float(input(\"Digite o peso em kg: \"))\n",
        "\n",
        "imc = peso / (altura ** 2)\n",
        "\n",
        "if imc < 18.5:\n",
        "    print(\"Abaixo do peso\")\n",
        "elif imc >= 25:\n",
        "    print(\"Acima do peso\")\n",
        "else:\n",
        "    print(\"No peso\")"
      ],
      "metadata": {
        "colab": {
          "base_uri": "https://localhost:8080/"
        },
        "id": "ihcX1UoaLauv",
        "outputId": "18f8d612-4361-4935-dfc8-c7be6f96148f"
      },
      "execution_count": null,
      "outputs": [
        {
          "output_type": "stream",
          "name": "stdout",
          "text": [
            "Digite a altura em metros: 1.71\n",
            "Digite o peso em kg: 75\n",
            "Acima do peso\n"
          ]
        }
      ]
    },
    {
      "cell_type": "markdown",
      "source": [
        "# Exercício 5\n",
        "\n",
        "Faça um Programa que verifique se uma letra digitada é \"F\" ou \"M\". Conforme a letra escrever: F - Feminino, M - Masculino, Sexo Inválido."
      ],
      "metadata": {
        "id": "chMN59yUFJEp"
      }
    },
    {
      "cell_type": "code",
      "source": [
        "s = input('Digite seu sexo M ou F: ')\n",
        "if s in 'Mm':\n",
        "    print('M - Masculino')\n",
        "elif s in 'Ff':\n",
        "    print('F - Feminino')\n",
        "else:\n",
        "    print('Sexo inválido')"
      ],
      "metadata": {
        "colab": {
          "base_uri": "https://localhost:8080/"
        },
        "id": "LHS7pNxzL-te",
        "outputId": "09995f85-4b06-406d-bbba-a1cfe32b7830"
      },
      "execution_count": null,
      "outputs": [
        {
          "output_type": "stream",
          "name": "stdout",
          "text": [
            "Digite seu sexo M ou F: f\n",
            "F - Feminino\n"
          ]
        }
      ]
    },
    {
      "cell_type": "markdown",
      "source": [
        "# Exercício BRABO\n",
        "\n",
        "Faça um programa que inicialmente receba 2 notas parciais de um aluno (prova 1 e prova 2).\n",
        "Se a média de ambas as notas for superior ou igual a 7, o programa retorna \"APROVADO.\"\n",
        "Senão, o programa solicita uma nota adicional, a nota do provão.\n",
        "Tendo a nota do provão, \n",
        "  se a média das 3 notas for maior ou igual a 7 ou se pelo menos duas das 3 notas for maior ou igual a 6, imprima \"APROVADO POR POUCO!\"\n",
        "Senão,\n",
        "  imprima \"QUE PENA! TENTE FAZER A SÉTIMA SÉRIE OUTRA VEZ!\"   "
      ],
      "metadata": {
        "id": "iePi3W5bGWlV"
      }
    },
    {
      "cell_type": "code",
      "source": [
        "nota_1 = float(input(\"Nota da primeira prova: \"))\n",
        "nota_2 = float(input(\"Nota da segunda prova: \"))\n",
        "\n",
        "media = (nota_1 + nota_2) / 2\n",
        "\n",
        "if media >= 7:\n",
        "  print(\"APROVADO\")\n",
        "else:\n",
        "  provao = float(input(\"Nota do provão: \"))\n",
        "  nova_media = (nota_1 + nota_2 + provao) / 3\n",
        "  if nova_media >= 7 or ((nota_1 >= 6 and nota_2 >= 6) or (nota_1 >= 6 and provao >= 6) or (provao >= 6 and nota_2 >= 6)):\n",
        "    print(\"APROVADO POR POUCO\")\n",
        "  else:\n",
        "    print(\"QUE PENA! TENTE FAZER A SÉTIMA SÉRIE OUTRA VEZ!\")"
      ],
      "metadata": {
        "colab": {
          "base_uri": "https://localhost:8080/"
        },
        "id": "Jz3O25o_NILP",
        "outputId": "509c0498-fd6d-4aa8-bde2-0e601589b343"
      },
      "execution_count": null,
      "outputs": [
        {
          "output_type": "stream",
          "name": "stdout",
          "text": [
            "Nota da primeira prova: 5\n",
            "Nota da segunda prova: 6\n",
            "Nota do provão: 9\n",
            "APROVADO POR POUCO\n"
          ]
        }
      ]
    },
    {
      "cell_type": "markdown",
      "source": [
        "# **Estruturas de repetição**"
      ],
      "metadata": {
        "id": "hOw--PH8qDIB"
      }
    },
    {
      "cell_type": "markdown",
      "source": [
        "\n",
        "*   while # interessante para repetições SEM final pré-determinado \n",
        "*   for # interessante para repetições COM final pré-determinado\n",
        "\n"
      ],
      "metadata": {
        "id": "mbEeJRVQSxP1"
      }
    },
    {
      "cell_type": "code",
      "source": [
        "print(\"THIAGO\")\n",
        "print(\"THIAGO\")\n",
        "print(\"THIAGO\")"
      ],
      "metadata": {
        "colab": {
          "base_uri": "https://localhost:8080/"
        },
        "id": "Q4BqsUsjqBtg",
        "outputId": "8026e512-73e7-4bf9-fea7-4ab37df9f258"
      },
      "execution_count": null,
      "outputs": [
        {
          "output_type": "stream",
          "name": "stdout",
          "text": [
            "THIAGO\n",
            "THIAGO\n",
            "THIAGO\n"
          ]
        }
      ]
    },
    {
      "cell_type": "code",
      "source": [
        "contador = 0\n",
        "while contador < 3:\n",
        "  print(f'Contador = {contador}')\n",
        "  contador += 1 # é a mesma coisa que contador = contador + 1"
      ],
      "metadata": {
        "colab": {
          "base_uri": "https://localhost:8080/"
        },
        "id": "MvLxeCH8QyjT",
        "outputId": "8a54e28f-1212-4203-f5d2-1492c54a3af5"
      },
      "execution_count": null,
      "outputs": [
        {
          "output_type": "stream",
          "name": "stdout",
          "text": [
            "Contador = 0\n",
            "Contador = 1\n",
            "Contador = 2\n"
          ]
        }
      ]
    },
    {
      "cell_type": "code",
      "source": [
        "for contador in range(3):\n",
        "  print(f'Contador = {contador}')"
      ],
      "metadata": {
        "colab": {
          "base_uri": "https://localhost:8080/"
        },
        "id": "bQi4O_aeTPDK",
        "outputId": "6b47e0fe-b27a-49a6-bf56-ba9e704eb89a"
      },
      "execution_count": null,
      "outputs": [
        {
          "output_type": "stream",
          "name": "stdout",
          "text": [
            "Contador = 0\n",
            "Contador = 1\n",
            "Contador = 2\n"
          ]
        }
      ]
    },
    {
      "cell_type": "code",
      "source": [
        "# Comando break serve para forçar a parada em algum laço de repetição"
      ],
      "metadata": {
        "id": "OEbvNdz4PIAJ"
      },
      "execution_count": null,
      "outputs": []
    },
    {
      "cell_type": "code",
      "source": [
        "contador = 1\n",
        "while contador <= 10:\n",
        "  print(contador)\n",
        "  contador += 1\n",
        "  if contador == 5:\n",
        "    break"
      ],
      "metadata": {
        "id": "p65SGiQfVoNO",
        "colab": {
          "base_uri": "https://localhost:8080/"
        },
        "outputId": "dbf6ec75-ecea-4b8f-baec-10cc9ef9a136"
      },
      "execution_count": null,
      "outputs": [
        {
          "output_type": "stream",
          "name": "stdout",
          "text": [
            "1\n",
            "2\n",
            "3\n",
            "4\n"
          ]
        }
      ]
    },
    {
      "cell_type": "code",
      "source": [
        "contador = 1\n",
        "while contador <= 2:\n",
        "  print(\"\\n\")\n",
        "  print(contador)\n",
        "  contador_2 = 30\n",
        "  while contador_2 <= 50:\n",
        "    print(contador_2)\n",
        "    contador_2 += 10\n",
        "    if contador_2 == 40:\n",
        "      break\n",
        "  contador += 1"
      ],
      "metadata": {
        "colab": {
          "base_uri": "https://localhost:8080/"
        },
        "id": "Rq-TUzA4PTkU",
        "outputId": "7d121c1b-c2e8-45e4-ae56-e0ae5e0edcfb"
      },
      "execution_count": null,
      "outputs": [
        {
          "output_type": "stream",
          "name": "stdout",
          "text": [
            "\n",
            "\n",
            "1\n",
            "30\n",
            "\n",
            "\n",
            "2\n",
            "30\n"
          ]
        }
      ]
    },
    {
      "cell_type": "code",
      "source": [
        "contador = 1\n",
        "while contador <= 3:\n",
        "  print(\"\\n\")\n",
        "  print(contador)\n",
        "  contador_2 = 30\n",
        "  while contador_2 <= 50:\n",
        "    print(contador_2)\n",
        "    contador_2 += 10\n",
        "  contador += 1\n",
        "  if contador == 2:\n",
        "    break"
      ],
      "metadata": {
        "colab": {
          "base_uri": "https://localhost:8080/"
        },
        "id": "4PFoZMKNTeA2",
        "outputId": "36f02221-3a51-42e5-94a1-2f2b253bd2bb"
      },
      "execution_count": null,
      "outputs": [
        {
          "output_type": "stream",
          "name": "stdout",
          "text": [
            "\n",
            "\n",
            "1\n",
            "30\n",
            "40\n",
            "50\n"
          ]
        }
      ]
    },
    {
      "cell_type": "code",
      "source": [
        "for contador in range(3):\n",
        "  print(f'Contador = {contador}')\n",
        "  if contador == 1:\n",
        "    break"
      ],
      "metadata": {
        "colab": {
          "base_uri": "https://localhost:8080/"
        },
        "id": "JXomas3RQQP2",
        "outputId": "60450609-0c5c-4640-d6e6-55870170cbc2"
      },
      "execution_count": null,
      "outputs": [
        {
          "output_type": "stream",
          "name": "stdout",
          "text": [
            "Contador = 0\n",
            "Contador = 1\n"
          ]
        }
      ]
    },
    {
      "cell_type": "markdown",
      "source": [
        "# **Listas**"
      ],
      "metadata": {
        "id": "mssMwJYhs80U"
      }
    },
    {
      "cell_type": "code",
      "source": [
        "exemplo = [\"Antílope\", 5, False, 3.14, [1,2,3]]"
      ],
      "metadata": {
        "id": "Q7Ew4Uv6Sgy9"
      },
      "execution_count": null,
      "outputs": []
    },
    {
      "cell_type": "code",
      "source": [
        "exemplo"
      ],
      "metadata": {
        "colab": {
          "base_uri": "https://localhost:8080/"
        },
        "id": "5j4_NrZNtuVb",
        "outputId": "3cfdcb59-660f-4644-da4d-9b3010a6e9b6"
      },
      "execution_count": null,
      "outputs": [
        {
          "output_type": "execute_result",
          "data": {
            "text/plain": [
              "['Antílope', 5, False, 3.14, [1, 2, 3]]"
            ]
          },
          "metadata": {},
          "execution_count": 14
        }
      ]
    },
    {
      "cell_type": "code",
      "source": [
        "type(exemplo)"
      ],
      "metadata": {
        "colab": {
          "base_uri": "https://localhost:8080/"
        },
        "id": "8wJHZzcHtvmt",
        "outputId": "6e7f97ca-41d3-4756-c8c4-0dee257d4525"
      },
      "execution_count": null,
      "outputs": [
        {
          "output_type": "execute_result",
          "data": {
            "text/plain": [
              "list"
            ]
          },
          "metadata": {},
          "execution_count": 34
        }
      ]
    },
    {
      "cell_type": "code",
      "source": [
        "exemplo.append(\"LetsCode\") # NÃO É PARA USAR O IGUAL ANTES!!"
      ],
      "metadata": {
        "id": "hsBFnChjuFP1"
      },
      "execution_count": null,
      "outputs": []
    },
    {
      "cell_type": "code",
      "source": [
        "exemplo"
      ],
      "metadata": {
        "colab": {
          "base_uri": "https://localhost:8080/"
        },
        "id": "xNy4l7hau61E",
        "outputId": "4fcd8a19-a31f-424a-964f-3f665dfd917f"
      },
      "execution_count": null,
      "outputs": [
        {
          "output_type": "execute_result",
          "data": {
            "text/plain": [
              "['Antílope', 5, False, 3.14, [1, 2, 3], 'LetsCode']"
            ]
          },
          "metadata": {},
          "execution_count": 27
        }
      ]
    },
    {
      "cell_type": "code",
      "source": [
        "exemplo[1] = \"b\" # podemos alterar os itens dentro de uma lista assim"
      ],
      "metadata": {
        "id": "b_Hu8-xyWazr"
      },
      "execution_count": null,
      "outputs": []
    },
    {
      "cell_type": "code",
      "source": [
        "exemplo"
      ],
      "metadata": {
        "colab": {
          "base_uri": "https://localhost:8080/"
        },
        "id": "4g01IrFzWePs",
        "outputId": "9cddf97e-1a08-490e-98ae-6cc4aa66c356"
      },
      "execution_count": null,
      "outputs": [
        {
          "output_type": "execute_result",
          "data": {
            "text/plain": [
              "['Antílope', 'b', False, 3.14, [1, 2, 3], 'LetsCode']"
            ]
          },
          "metadata": {},
          "execution_count": 18
        }
      ]
    },
    {
      "cell_type": "code",
      "source": [
        "a = ['a', 'b', 'c']\n",
        "b = a"
      ],
      "metadata": {
        "id": "qqrReN5qWqc6"
      },
      "execution_count": null,
      "outputs": []
    },
    {
      "cell_type": "code",
      "source": [
        "b"
      ],
      "metadata": {
        "colab": {
          "base_uri": "https://localhost:8080/"
        },
        "id": "KYQ6W86FWvRo",
        "outputId": "a8a0cf1a-453d-4060-d139-fbc40f93ad0e"
      },
      "execution_count": null,
      "outputs": [
        {
          "output_type": "execute_result",
          "data": {
            "text/plain": [
              "['a', 'b', 'c']"
            ]
          },
          "metadata": {},
          "execution_count": 21
        }
      ]
    },
    {
      "cell_type": "code",
      "source": [
        "a[1] = \"K\""
      ],
      "metadata": {
        "id": "i8DbBACGWq3w"
      },
      "execution_count": null,
      "outputs": []
    },
    {
      "cell_type": "code",
      "source": [
        "b"
      ],
      "metadata": {
        "colab": {
          "base_uri": "https://localhost:8080/"
        },
        "id": "Rs8XO2FxW0RS",
        "outputId": "e95e2553-0200-4a93-de07-9a3b45401ab9"
      },
      "execution_count": null,
      "outputs": [
        {
          "output_type": "execute_result",
          "data": {
            "text/plain": [
              "['a', 'K', 'c']"
            ]
          },
          "metadata": {},
          "execution_count": 24
        }
      ]
    },
    {
      "cell_type": "code",
      "source": [
        "exemplo.append([\"a\",\"b\",\"c\"])"
      ],
      "metadata": {
        "id": "Uyi0qiIou75K"
      },
      "execution_count": null,
      "outputs": []
    },
    {
      "cell_type": "code",
      "source": [
        "exemplo"
      ],
      "metadata": {
        "colab": {
          "base_uri": "https://localhost:8080/"
        },
        "id": "0XXqzLSgvBfE",
        "outputId": "96618e81-a8ca-4dbb-dbce-1e3ca33921c3"
      },
      "execution_count": null,
      "outputs": [
        {
          "output_type": "execute_result",
          "data": {
            "text/plain": [
              "['Antílope', 5, False, 3.14, [1, 2, 3], 'LetsCode', ['a', 'b', 'c']]"
            ]
          },
          "metadata": {},
          "execution_count": 29
        }
      ]
    },
    {
      "cell_type": "code",
      "source": [
        "# Indices sao usados para acessar elementos da lista"
      ],
      "metadata": {
        "id": "-H_jw6ZxvCFh"
      },
      "execution_count": null,
      "outputs": []
    },
    {
      "cell_type": "code",
      "source": [
        "alfabeto = [\"a\", \"b\", \"c\", \"d\", \"e\"]"
      ],
      "metadata": {
        "id": "QrEvmxWIvTzb"
      },
      "execution_count": null,
      "outputs": []
    },
    {
      "cell_type": "code",
      "source": [
        "alfabeto"
      ],
      "metadata": {
        "colab": {
          "base_uri": "https://localhost:8080/"
        },
        "id": "uRcE2-Xavc1y",
        "outputId": "89a3074f-3ee0-4db2-d6f9-1f8326325b35"
      },
      "execution_count": null,
      "outputs": [
        {
          "output_type": "execute_result",
          "data": {
            "text/plain": [
              "['a', 'b', 'c', 'd', 'e']"
            ]
          },
          "metadata": {},
          "execution_count": 31
        }
      ]
    },
    {
      "cell_type": "code",
      "source": [
        "print(alfabeto[0])\n",
        "print(alfabeto[1])\n",
        "print(alfabeto[2])"
      ],
      "metadata": {
        "colab": {
          "base_uri": "https://localhost:8080/"
        },
        "id": "Egu3rkktvdiU",
        "outputId": "b932627b-2170-4d44-9635-5606aa2b413a"
      },
      "execution_count": null,
      "outputs": [
        {
          "output_type": "stream",
          "name": "stdout",
          "text": [
            "a\n",
            "b\n",
            "c\n"
          ]
        }
      ]
    },
    {
      "cell_type": "code",
      "source": [
        "print(alfabeto[-1])\n",
        "print(alfabeto[-2])\n",
        "print(alfabeto[-3])"
      ],
      "metadata": {
        "colab": {
          "base_uri": "https://localhost:8080/"
        },
        "id": "t4RYHXBFvvGa",
        "outputId": "13a56dc7-0140-4b87-d722-1d9ec308839b"
      },
      "execution_count": null,
      "outputs": [
        {
          "output_type": "stream",
          "name": "stdout",
          "text": [
            "e\n",
            "d\n",
            "c\n"
          ]
        }
      ]
    },
    {
      "cell_type": "code",
      "source": [
        "#slices"
      ],
      "metadata": {
        "id": "mSernQn9wEPe"
      },
      "execution_count": null,
      "outputs": []
    },
    {
      "cell_type": "code",
      "source": [
        "alfabeto"
      ],
      "metadata": {
        "colab": {
          "base_uri": "https://localhost:8080/"
        },
        "id": "qhtcFgQWYD8P",
        "outputId": "f09d62df-8f83-4b9f-c0fb-1fd589c9bf52"
      },
      "execution_count": null,
      "outputs": [
        {
          "output_type": "execute_result",
          "data": {
            "text/plain": [
              "['a', 'b', 'c', 'd', 'e']"
            ]
          },
          "metadata": {},
          "execution_count": 34
        }
      ]
    },
    {
      "cell_type": "code",
      "source": [
        "alfabeto[1:4]"
      ],
      "metadata": {
        "colab": {
          "base_uri": "https://localhost:8080/"
        },
        "id": "wh0UiRW1wdKs",
        "outputId": "3fe5ba3e-80cd-4772-9525-77604e8a3a8f"
      },
      "execution_count": null,
      "outputs": [
        {
          "output_type": "execute_result",
          "data": {
            "text/plain": [
              "['b', 'c', 'd']"
            ]
          },
          "metadata": {},
          "execution_count": 35
        }
      ]
    },
    {
      "cell_type": "code",
      "source": [
        "alfabeto[:4]"
      ],
      "metadata": {
        "colab": {
          "base_uri": "https://localhost:8080/"
        },
        "id": "Xfwp5kS7wf0E",
        "outputId": "d28ebcc6-8a6c-465c-bf89-9fdbf6441a97"
      },
      "execution_count": null,
      "outputs": [
        {
          "output_type": "execute_result",
          "data": {
            "text/plain": [
              "['a', 'b', 'c', 'd']"
            ]
          },
          "metadata": {},
          "execution_count": 36
        }
      ]
    },
    {
      "cell_type": "code",
      "source": [
        "alfabeto[-3:]"
      ],
      "metadata": {
        "colab": {
          "base_uri": "https://localhost:8080/"
        },
        "id": "4UkhxAmTw8dC",
        "outputId": "43e4e3ad-ae51-401c-a2dd-98e6d62b6901"
      },
      "execution_count": null,
      "outputs": [
        {
          "output_type": "execute_result",
          "data": {
            "text/plain": [
              "['c', 'd', 'e']"
            ]
          },
          "metadata": {},
          "execution_count": 37
        }
      ]
    },
    {
      "cell_type": "code",
      "source": [
        "alfabeto[2:]"
      ],
      "metadata": {
        "colab": {
          "base_uri": "https://localhost:8080/"
        },
        "id": "qhEEksotZE9N",
        "outputId": "62b93387-4270-4552-d349-04d7f9e0dae6"
      },
      "execution_count": null,
      "outputs": [
        {
          "output_type": "execute_result",
          "data": {
            "text/plain": [
              "['c', 'd', 'e']"
            ]
          },
          "metadata": {},
          "execution_count": 41
        }
      ]
    },
    {
      "cell_type": "code",
      "source": [
        "# antes dos dois pontos: ponto de partida do slice\n",
        "# depois dos dois pontos: ponto de chegada do slice"
      ],
      "metadata": {
        "id": "sk5hmeoWxAml"
      },
      "execution_count": null,
      "outputs": []
    },
    {
      "cell_type": "code",
      "source": [
        "exemplo"
      ],
      "metadata": {
        "colab": {
          "base_uri": "https://localhost:8080/"
        },
        "id": "gvm-hVlRxRYh",
        "outputId": "cdd912ef-92f5-4f9a-beb9-99d916b9fba1"
      },
      "execution_count": null,
      "outputs": [
        {
          "output_type": "execute_result",
          "data": {
            "text/plain": [
              "['Antílope', 5, False, 3.14, [1, 2, 3], 'LetsCode', ['a', 'b', 'c']]"
            ]
          },
          "metadata": {},
          "execution_count": 44
        }
      ]
    },
    {
      "cell_type": "code",
      "source": [
        "exemplo[-1][1]"
      ],
      "metadata": {
        "colab": {
          "base_uri": "https://localhost:8080/",
          "height": 35
        },
        "id": "TFBrK5pLZXP2",
        "outputId": "f73f57c1-526d-4327-bd20-4c1603921f8d"
      },
      "execution_count": null,
      "outputs": [
        {
          "output_type": "execute_result",
          "data": {
            "text/plain": [
              "'b'"
            ],
            "application/vnd.google.colaboratory.intrinsic+json": {
              "type": "string"
            }
          },
          "metadata": {},
          "execution_count": 43
        }
      ]
    },
    {
      "cell_type": "code",
      "source": [
        "type(exemplo[-1][0])"
      ],
      "metadata": {
        "colab": {
          "base_uri": "https://localhost:8080/"
        },
        "id": "Vjpg_vgLxYyz",
        "outputId": "56b3b9f2-ac96-4f9b-8b56-75d64090782c"
      },
      "execution_count": null,
      "outputs": [
        {
          "output_type": "execute_result",
          "data": {
            "text/plain": [
              "str"
            ]
          },
          "metadata": {},
          "execution_count": 76
        }
      ]
    },
    {
      "cell_type": "code",
      "source": [
        "len(exemplo)"
      ],
      "metadata": {
        "colab": {
          "base_uri": "https://localhost:8080/"
        },
        "id": "3Z_mH80mxbJV",
        "outputId": "167750a9-f615-4e7e-9cc5-1c0f0967c092"
      },
      "execution_count": null,
      "outputs": [
        {
          "output_type": "execute_result",
          "data": {
            "text/plain": [
              "7"
            ]
          },
          "metadata": {},
          "execution_count": 45
        }
      ]
    },
    {
      "cell_type": "code",
      "source": [
        "lista = []\n",
        "for i in range(10):\n",
        "  lista.append(i)"
      ],
      "metadata": {
        "id": "poCuUhywx4sS"
      },
      "execution_count": null,
      "outputs": []
    },
    {
      "cell_type": "code",
      "source": [
        "lista"
      ],
      "metadata": {
        "colab": {
          "base_uri": "https://localhost:8080/"
        },
        "id": "i4tLKy2Qiy6P",
        "outputId": "692bcd58-1ebb-4705-a65e-3609ee690c14"
      },
      "execution_count": null,
      "outputs": [
        {
          "output_type": "execute_result",
          "data": {
            "text/plain": [
              "[0, 1, 2, 3, 4, 5, 6, 7, 8, 9]"
            ]
          },
          "metadata": {},
          "execution_count": 47
        }
      ]
    },
    {
      "cell_type": "code",
      "source": [
        "# list comprehension\n",
        "lista = [i for i in range(10) if i%2 == 0]"
      ],
      "metadata": {
        "id": "UaXSeYfriz3o"
      },
      "execution_count": null,
      "outputs": []
    },
    {
      "cell_type": "code",
      "source": [
        "lista"
      ],
      "metadata": {
        "colab": {
          "base_uri": "https://localhost:8080/"
        },
        "id": "Vuued3cNjNkq",
        "outputId": "820b3362-a499-494b-bb18-460233327770"
      },
      "execution_count": null,
      "outputs": [
        {
          "output_type": "execute_result",
          "data": {
            "text/plain": [
              "[0, 2, 4, 6, 8]"
            ]
          },
          "metadata": {},
          "execution_count": 55
        }
      ]
    },
    {
      "cell_type": "markdown",
      "source": [
        "# Funções"
      ],
      "metadata": {
        "id": "dP1fDfzin-Zj"
      }
    },
    {
      "cell_type": "code",
      "source": [
        "range(10,20) # o que a gente passa são os argumentos, o que a função devolve é o retorno"
      ],
      "metadata": {
        "colab": {
          "base_uri": "https://localhost:8080/"
        },
        "id": "YAUMqtppjOV-",
        "outputId": "32323cdc-f8a1-4654-fd8f-f144c971bdd6"
      },
      "execution_count": null,
      "outputs": [
        {
          "output_type": "execute_result",
          "data": {
            "text/plain": [
              "range(10, 20)"
            ]
          },
          "metadata": {},
          "execution_count": 56
        }
      ]
    },
    {
      "cell_type": "code",
      "source": [
        "def dobro(numero):\n",
        "  resultado = numero * 2\n",
        "  return resultado"
      ],
      "metadata": {
        "id": "Imp7mkW3otBi"
      },
      "execution_count": null,
      "outputs": []
    },
    {
      "cell_type": "code",
      "source": [
        "dobro(15)"
      ],
      "metadata": {
        "colab": {
          "base_uri": "https://localhost:8080/"
        },
        "id": "Uw6MNJlppurh",
        "outputId": "01e635b7-1298-42de-a5ab-bc5e5ba337ca"
      },
      "execution_count": null,
      "outputs": [
        {
          "output_type": "execute_result",
          "data": {
            "text/plain": [
              "30"
            ]
          },
          "metadata": {},
          "execution_count": 58
        }
      ]
    },
    {
      "cell_type": "code",
      "source": [
        "def funcao_estranha(palavra, qtd_vezes):\n",
        "  lista = []\n",
        "  for i in range(0, qtd_vezes):\n",
        "    lista.append(palavra)\n",
        "  return lista"
      ],
      "metadata": {
        "id": "y950U7Jtp4ej"
      },
      "execution_count": null,
      "outputs": []
    },
    {
      "cell_type": "code",
      "source": [
        "funcao_estranha(\"LetsCode\", 3)"
      ],
      "metadata": {
        "colab": {
          "base_uri": "https://localhost:8080/",
          "height": 167
        },
        "id": "nYNqPerRqplx",
        "outputId": "8055e541-659a-4601-a59a-45dd92cb0f83"
      },
      "execution_count": null,
      "outputs": [
        {
          "output_type": "error",
          "ename": "TypeError",
          "evalue": "ignored",
          "traceback": [
            "\u001b[0;31m---------------------------------------------------------------------------\u001b[0m",
            "\u001b[0;31mTypeError\u001b[0m                                 Traceback (most recent call last)",
            "\u001b[0;32m<ipython-input-65-4ea9f826b93f>\u001b[0m in \u001b[0;36m<module>\u001b[0;34m\u001b[0m\n\u001b[0;32m----> 1\u001b[0;31m \u001b[0mfuncao_estranha\u001b[0m\u001b[0;34m(\u001b[0m\u001b[0;34m\"LetsCode\"\u001b[0m\u001b[0;34m)\u001b[0m\u001b[0;34m\u001b[0m\u001b[0;34m\u001b[0m\u001b[0m\n\u001b[0m",
            "\u001b[0;31mTypeError\u001b[0m: funcao_estranha() missing 1 required positional argument: 'qtd_vezes'"
          ]
        }
      ]
    },
    {
      "cell_type": "code",
      "source": [
        "def exemplo():\n",
        "  print(\"Qualquer coisa\")\n",
        "  return None"
      ],
      "metadata": {
        "id": "lpgffdapqzZ_"
      },
      "execution_count": null,
      "outputs": []
    },
    {
      "cell_type": "code",
      "source": [
        "exemplo()"
      ],
      "metadata": {
        "colab": {
          "base_uri": "https://localhost:8080/"
        },
        "id": "kRDg7B2tsSN_",
        "outputId": "142970f5-ed0b-4d0c-cdee-fee060f3b093"
      },
      "execution_count": null,
      "outputs": [
        {
          "output_type": "stream",
          "name": "stdout",
          "text": [
            "Qualquer coisa\n"
          ]
        }
      ]
    },
    {
      "cell_type": "code",
      "source": [
        "def eh_maior_de_idade(idade):\n",
        "  if idade >= 18:\n",
        "    return True\n",
        "  else:\n",
        "    return False"
      ],
      "metadata": {
        "id": "g3wbtLCjsUEs"
      },
      "execution_count": null,
      "outputs": []
    },
    {
      "cell_type": "code",
      "source": [
        "resultado = eh_maior_de_idade(13)"
      ],
      "metadata": {
        "id": "Rh5RqnxMtERx"
      },
      "execution_count": null,
      "outputs": []
    },
    {
      "cell_type": "code",
      "source": [
        "resultado"
      ],
      "metadata": {
        "colab": {
          "base_uri": "https://localhost:8080/"
        },
        "id": "jypMzOBftTaP",
        "outputId": "a8f88be5-0591-4840-f9f5-35689573e9fb"
      },
      "execution_count": null,
      "outputs": [
        {
          "output_type": "execute_result",
          "data": {
            "text/plain": [
              "False"
            ]
          },
          "metadata": {},
          "execution_count": 70
        }
      ]
    },
    {
      "cell_type": "code",
      "source": [],
      "metadata": {
        "id": "bOMwLA3vtbC3"
      },
      "execution_count": null,
      "outputs": []
    }
  ]
}
