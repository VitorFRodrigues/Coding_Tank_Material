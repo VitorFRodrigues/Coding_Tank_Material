{
  "cells": [
    {
      "cell_type": "markdown",
      "metadata": {
        "id": "view-in-github",
        "colab_type": "text"
      },
      "source": [
        "<a href=\"https://colab.research.google.com/github/VitorFRodrigues/Coding_Tank_Material/blob/main/Coding_Tank_Americanas_Futuro_Polo_Tech-ListaExerc.ipynb\" target=\"_parent\"><img src=\"https://colab.research.google.com/assets/colab-badge.svg\" alt=\"Open In Colab\"/></a>"
      ]
    },
    {
      "cell_type": "markdown",
      "metadata": {
        "id": "X1IyZh3H4Tet"
      },
      "source": [
        "# Variáveis, entradas e saídas\n",
        "\n",
        "##1. Variáveis\n",
        "Em nossos programas, frequentemente precisaremos armazenar dados temporariamente. Esses dados podem ser adquiridos de alguma maneira (digitados pelo teclado, lidos de um arquivo etc.) ou calculados pelo nosso programa com base em outros dados. Imagine, por exemplo, que você gostaria de calcular a média de um aluno a partir de suas notas. Precisaremos que o aluno digite suas notas, e o programa irá calcular um novo valor, a média. Armazenaremos nossos dados temporariamente em **variáveis**.\n",
        "\n",
        "Variáveis são \"pedacinhos de memória\" onde guardamos dados. Sempre que referenciamos o nome, o pedacinho de memória é acessado e seu dado é recuperado.\n",
        "\n",
        "Criamos variáveis dando um nome a elas e usando o operador de atribuição (o sinal de igualdade: **=**) para atribuir um valor inicial.\n",
        "\n"
      ]
    },
    {
      "cell_type": "code",
      "execution_count": null,
      "metadata": {
        "id": "9C2_7SvD4a5v"
      },
      "outputs": [],
      "source": [
        "x = 10"
      ]
    },
    {
      "cell_type": "markdown",
      "metadata": {
        "id": "HY4JRYbF4kZv"
      },
      "source": [
        "No exemplo acima, foi criada uma variável chamada **x** que guarda o valor **10**. Ou seja, reservamos um pedacinho de memória e guardamos o número 10 lá.\n",
        "\n",
        "Tente sempre utilizar nomes intuitivos para suas variáveis. O nome deveria ser uma boa descrição do dado que a variável guarda. Nomes como 'x', 'y', 'z', 'a', 'b', 'c', 'a1', 'a2', 'a3' etc. podem se tornar bastante confusos quando nossos códigos são muito grandes. Quanto mais descritivos os nomes forem, melhor.\n",
        "\n",
        "Os nomes de variáveis podem conter letras, números e o símbolo **_**, mas eles não podem começar com número.\n",
        "\n",
        "> Dica: existe uma grande variedade de padrões diferentes que podemos adotar para nomear nossas variáveis. Em Python é recomendável utilizar o padrão conhecido como snake case, em que nomes de variáveis com múltiplas palavras adotam o símbolo _ para separar as palavras. Exemplos: `nome_completo`, `nota_da_prova` etc."
      ]
    },
    {
      "cell_type": "markdown",
      "metadata": {
        "id": "n529v0Sy46Zr"
      },
      "source": [
        "## 2. Tipos de variáveis\n",
        "\n",
        "Variáveis podem ter diferentes tipos. Alguns tipos são considerados **tipos primitivos**, ou seja, eles são tipos de dados mais básicos que podem ser utilizados para compor outros tipos mais complexos. Em Python esses tipos levam os seguintes nomes:\n",
        "\n",
        "* **int**: números inteiros, ou seja, números sem parte decimal: 0, 5, -1, 1000\n",
        "* **float**: números reais, ou seja, números com parte decimal: 1.0, -2.7, 3.14\n",
        "* **str**: cadeias de caracteres (strings), ou seja, dados textuais: 'Olá Mundo!', \"eu tenho 18 anos\"\n",
        "* **bool**: valores lógicos (booleanos), ou seja, apenas um entre dois valores possíveis: True ou False\n",
        "\n"
      ]
    },
    {
      "cell_type": "code",
      "execution_count": null,
      "metadata": {
        "id": "9JSlcVLT5LtS"
      },
      "outputs": [],
      "source": [
        "nome = 'Zé' # uma variável do tipo string - note as aspas\n",
        "email = \"ze@letscode.com.br\" # outra string\n",
        "idade = 22 # uma variável inteira\n",
        "salario = 5999.85 # uma variável float - usamos ponto, não vírgula\n",
        "receber_newsletter = True # uma variável bool"
      ]
    },
    {
      "cell_type": "markdown",
      "metadata": {
        "id": "nH83lPYu5Mt7"
      },
      "source": [
        "O Python é uma linguagem **dinamicamente tipada**. Isso significa que não precisamos especificar o tipo de uma variável: a própria linguagem tenta determinar o tipo de acordo com o dado atribuído à variável.\n",
        "\n",
        "## 3. Comentários\n",
        "Note que nos exemplos acima, escrevemos textos no meio do código utilizando o símbolo #. Esses textos são **comentários**: quando utilizamos o símbolo **#**, o Python irá ignorar tudo o que vier em seguida (na mesma linha). Utilizamos comentários para explicar pedaços do nosso código para que nós mesmos ou outros colegas no futuro entendam o que fizemos e possam modificar ou corrigir o código com mais facilidade. Também podemos escrever comentários de múltiplas linhas utilizando aspas triplas - neste caso, as utilizamos para abrir e depois para fechar o bloco de comentários."
      ]
    },
    {
      "cell_type": "code",
      "execution_count": null,
      "metadata": {
        "colab": {
          "base_uri": "https://localhost:8080/",
          "height": 35
        },
        "id": "LnJNU_wr5UaW",
        "outputId": "7e947728-147e-41b8-c5cb-e3d6cb671bfb"
      },
      "outputs": [
        {
          "data": {
            "application/vnd.google.colaboratory.intrinsic+json": {
              "type": "string"
            },
            "text/plain": [
              "'\\nEste é um comentário de várias linhas.\\nTudo que veio após o primeiro trio de aspas e antes do segundo\\nserá ignorado pelo Python.\\n'"
            ]
          },
          "execution_count": 3,
          "metadata": {},
          "output_type": "execute_result"
        }
      ],
      "source": [
        "'''\n",
        "Este é um comentário de várias linhas.\n",
        "Tudo que veio após o primeiro trio de aspas e antes do segundo\n",
        "será ignorado pelo Python.\n",
        "'''"
      ]
    },
    {
      "cell_type": "markdown",
      "metadata": {
        "id": "XrMoRqDH5Ya2"
      },
      "source": [
        "Na verdade, esse tipo de comentário não é exatamente um comentário, mas uma string com múltiplas linhas. O Python enxerga que apenas \"declaramos\" uma string no meio do código, sem utilizá-la ou atribuí-la para qualquer variável, e por conta disso ela é ignorada, funcionando na prática como um comentário.\n",
        "\n",
        "> Na maioria das IDEs você possui teclas de atalho para facilmente transformar um bloco inteiro de código em comentário para temporariamente desabilitá-lo. Isso pode ser útil quando estamos testando soluções alternativas para um problema ou corrigindo erros. No Visual Studio Code, por exemplo, você pode utilizar **ctrl+/** para transformar uma seleção em comentário.\n",
        "\n",
        "## 4. Saídas\n",
        "Chamamos de **saídas** do nosso programa todos os dados que são gerados pelo programa e serão fornecidos para o usuário. A função de saída em tela no Python é o **print**. Colocamos entre parênteses o dado que queremos que apareça."
      ]
    },
    {
      "cell_type": "code",
      "execution_count": null,
      "metadata": {
        "colab": {
          "base_uri": "https://localhost:8080/"
        },
        "id": "K7p73yiu5lJa",
        "outputId": "c45c160c-d6f2-4131-beee-b32d87254cdf"
      },
      "outputs": [
        {
          "output_type": "stream",
          "name": "stdout",
          "text": [
            "olá mundo!\n"
          ]
        }
      ],
      "source": [
        "print('olá mundo!') # exibe a frase 'olá mundo' na tela\n"
      ]
    },
    {
      "cell_type": "markdown",
      "metadata": {
        "id": "cl4hVevZ5mgC"
      },
      "source": [
        "Os dados a serem exibidos não precisam ser valores constantes, como a frase fixa acima. Eles podem ser variáveis:\n",
        "\n"
      ]
    },
    {
      "cell_type": "code",
      "execution_count": null,
      "metadata": {
        "colab": {
          "base_uri": "https://localhost:8080/"
        },
        "id": "OvBWakbV5oWX",
        "outputId": "694175c2-678c-4e6f-a8bb-ba85bdfebfb0"
      },
      "outputs": [
        {
          "output_type": "stream",
          "name": "stdout",
          "text": [
            "20\n"
          ]
        }
      ],
      "source": [
        "idade = 20\n",
        "print(idade)"
      ]
    },
    {
      "cell_type": "markdown",
      "metadata": {
        "id": "-bsDKvUP5qvU"
      },
      "source": [
        "> Note que quando usamos aspas, o Python trata o valor como uma string, um texto literal. Quando não usamos aspas, o Python irá considerar que aquele é o nome de uma variável e irá acessá-la para buscar seu valor.\n",
        "\n",
        "Podemos exibir múltiplos dados em um **print**. Para isso, basta separá-los por vírgula e eles irão aparecer na tela na mesma ordem que apareceram no código:"
      ]
    },
    {
      "cell_type": "code",
      "execution_count": null,
      "metadata": {
        "colab": {
          "base_uri": "https://localhost:8080/"
        },
        "id": "rtsgRe8R5yQc",
        "outputId": "d744d289-3ce2-4cd2-9410-dba30afbe420"
      },
      "outputs": [
        {
          "output_type": "stream",
          "name": "stdout",
          "text": [
            "Oi, eu sou o Mario e eu programo em Python\n"
          ]
        }
      ],
      "source": [
        "'''\n",
        "Resultado na tela:\n",
        "Oi, eu sou o Mario e eu programo em Python\n",
        "'''\n",
        "\n",
        "nome = 'Mario'\n",
        "linguagem = 'Python'\n",
        "print('Oi, eu sou o', nome, 'e eu programo em', linguagem)\n",
        "\n"
      ]
    },
    {
      "cell_type": "markdown",
      "metadata": {
        "id": "0YL3ebb05-F5"
      },
      "source": [
        "Note que os dados aparecem em tela separados por um espaço automaticamente. Dois prints sucessivos também possuem uma quebra de linha entre eles. Você pode passar as opções **sep** e **end** dentro de seu print para especificar diferentes comportamentos. Exemplo:"
      ]
    },
    {
      "cell_type": "code",
      "execution_count": null,
      "metadata": {
        "colab": {
          "base_uri": "https://localhost:8080/"
        },
        "id": "RaxN-o8y6AEx",
        "outputId": "d79b635a-e7f7-4318-8cc3-f81c488578e3"
      },
      "outputs": [
        {
          "output_type": "stream",
          "name": "stdout",
          "text": [
            "Oi, eu sou o@Mario***Eu programo em@Python\n"
          ]
        }
      ],
      "source": [
        "'''\n",
        "Resultado na tela:\n",
        "Oi, eu sou o@Mario***Eu programo em@Python\n",
        "'''\n",
        "\n",
        "nome = 'Mario'\n",
        "linguagem = 'Python'\n",
        "print('Oi, eu sou o', nome, sep='@', end='***')\n",
        "print('Eu programo em', linguagem, sep='@')\n",
        "\n"
      ]
    },
    {
      "cell_type": "markdown",
      "metadata": {
        "id": "McKFFox86FjH"
      },
      "source": [
        "> Dica: caso você ache confuso separar os dados por vírgulas, você pode alternativamente utilizar uma f-string. Não entraremos em detalhes agora, mas o funcionamento básico é simples: coloque um f antes de abrir aspas, e dentro do texto você pode colocar o nome das variáveis entre chaves. O **print** abaixo terá o mesmo resultado que o exemplo anterior:"
      ]
    },
    {
      "cell_type": "code",
      "execution_count": null,
      "metadata": {
        "colab": {
          "base_uri": "https://localhost:8080/"
        },
        "id": "to-_GVp76JO4",
        "outputId": "23ee0a43-2075-4297-ba17-9fd4ae89af9a"
      },
      "outputs": [
        {
          "output_type": "stream",
          "name": "stdout",
          "text": [
            "Oi, eu sou o Mario e eu programo em Python\n"
          ]
        }
      ],
      "source": [
        "print(f'Oi, eu sou o {nome} e eu programo em {linguagem}')\n"
      ]
    },
    {
      "cell_type": "markdown",
      "metadata": {
        "id": "dMJAxUrH6Oft"
      },
      "source": [
        "## 5. Entradas\n",
        "Assim como temos dados de saída - dados gerados pelo código e fornecidos para o usuário - também temos dados de **entrada**: informações que o usuário possui e deve fornecer ao código. Para receber entradas pelo teclado, utilizaremos a função **input**. Devemos levar uma variável a receber o valor capturado pelo input."
      ]
    },
    {
      "cell_type": "code",
      "execution_count": null,
      "metadata": {
        "colab": {
          "base_uri": "https://localhost:8080/"
        },
        "id": "oCkoBX226TX_",
        "outputId": "12b8c85f-be5e-4d85-ab64-7dc1949c0625"
      },
      "outputs": [
        {
          "output_type": "stream",
          "name": "stdout",
          "text": [
            "eu quero jogar!!!\n",
            "Olá eu quero jogar!!!\n"
          ]
        }
      ],
      "source": [
        "nome = input()\n",
        "print('Olá', nome)"
      ]
    },
    {
      "cell_type": "markdown",
      "metadata": {
        "id": "D6Zx_ZPB6Wfa"
      },
      "source": [
        "O programa acima captura o nome do usuário e em seguida mostra a mensagem \"olá\" seguida do nome do usuário. Note que o programa fica parado em uma tela em branco com um cursor piscando aguardando a digitação pelo usuário. Isso pode ser confuso para o usuário, que não sabe o que o programa está esperando. Por isso, dentro dos parênteses do input podemos colocar uma mensagem simples informando o que o programa gostaria que ele fizesse:"
      ]
    },
    {
      "cell_type": "code",
      "execution_count": null,
      "metadata": {
        "colab": {
          "base_uri": "https://localhost:8080/"
        },
        "id": "j2RcarYo6XEB",
        "outputId": "1911f9c7-cbb9-4c47-fbc1-8c20c8607791"
      },
      "outputs": [
        {
          "output_type": "stream",
          "name": "stdout",
          "text": [
            "Qual é o seu nome?Rafael\n",
            "Olá Rafael\n"
          ]
        }
      ],
      "source": [
        "nome = input('Qual é o seu nome?')\n",
        "print('Olá', nome)"
      ]
    },
    {
      "cell_type": "markdown",
      "metadata": {
        "id": "2B6UUlh56dt9"
      },
      "source": [
        "### 5.1. Determinando o tipo da entrada\n",
        "Vamos imaginar um programa que informa quantos anos falta para que uma criança atinja a maioridade. Podemos ler a idade da criança pelo teclado (**entrada**), subtrair a idade do número 18 (**processamento**) e exibir o resultado da conta na tela (**saída**). Considere a solução abaixo:"
      ]
    },
    {
      "cell_type": "code",
      "execution_count": null,
      "metadata": {
        "colab": {
          "base_uri": "https://localhost:8080/",
          "height": 218
        },
        "id": "cDzofkHr6h5E",
        "outputId": "110adaf8-1784-4d69-abe5-7294bde33ba2"
      },
      "outputs": [
        {
          "name": "stdout",
          "output_type": "stream",
          "text": [
            "Digite a sua idade: 10\n"
          ]
        },
        {
          "output_type": "error",
          "ename": "TypeError",
          "evalue": "ignored",
          "traceback": [
            "\u001b[0;31m---------------------------------------------------------------------------\u001b[0m",
            "\u001b[0;31mTypeError\u001b[0m                                 Traceback (most recent call last)",
            "\u001b[0;32m<ipython-input-11-711bb1b7bfce>\u001b[0m in \u001b[0;36m<module>\u001b[0;34m\u001b[0m\n\u001b[1;32m      1\u001b[0m \u001b[0midade\u001b[0m \u001b[0;34m=\u001b[0m \u001b[0minput\u001b[0m\u001b[0;34m(\u001b[0m\u001b[0;34m'Digite a sua idade: '\u001b[0m\u001b[0;34m)\u001b[0m\u001b[0;34m\u001b[0m\u001b[0;34m\u001b[0m\u001b[0m\n\u001b[0;32m----> 2\u001b[0;31m \u001b[0mresto\u001b[0m \u001b[0;34m=\u001b[0m \u001b[0;36m18\u001b[0m \u001b[0;34m-\u001b[0m \u001b[0midade\u001b[0m\u001b[0;34m\u001b[0m\u001b[0;34m\u001b[0m\u001b[0m\n\u001b[0m\u001b[1;32m      3\u001b[0m \u001b[0mprint\u001b[0m\u001b[0;34m(\u001b[0m\u001b[0;34m'Faltam'\u001b[0m\u001b[0;34m,\u001b[0m \u001b[0mresto\u001b[0m\u001b[0;34m,\u001b[0m \u001b[0;34m'anos.'\u001b[0m\u001b[0;34m)\u001b[0m\u001b[0;34m\u001b[0m\u001b[0;34m\u001b[0m\u001b[0m\n",
            "\u001b[0;31mTypeError\u001b[0m: unsupported operand type(s) for -: 'int' and 'str'"
          ]
        }
      ],
      "source": [
        "idade = input('Digite a sua idade: ')\n",
        "resto = 18 - idade\n",
        "print('Faltam', resto, 'anos.')"
      ]
    },
    {
      "cell_type": "markdown",
      "metadata": {
        "id": "tpVFUG4T6pEM"
      },
      "source": [
        "Se você copiar e executar o programa, ele dará erro na segunda linha. Isso ocorre porque o teclado é uma \"máquina de escrever\" um pouco mais moderna. Portanto, tudo que entra pelo teclado é considerado pelo Python como texto (ou seja, **str**). Porém, não podemos \"fazer contas\" com textos. Fazemos contas com números. Portanto, neste caso, precisamos falar para o Python interpretar a nossa entrada como um número. Um bom tipo de dado para \"idade\" seria um número inteiro. Fazemos isso colocando o nome do tipo desejado, e entre parênteses colocamos nosso input:"
      ]
    },
    {
      "cell_type": "code",
      "execution_count": null,
      "metadata": {
        "colab": {
          "base_uri": "https://localhost:8080/",
          "height": 218
        },
        "id": "0i3tRRIk6rgd",
        "outputId": "e3a7cf11-db40-415b-dc89-30a79fd3bc8f"
      },
      "outputs": [
        {
          "name": "stdout",
          "output_type": "stream",
          "text": [
            "Digite a sua idade: rafael\n"
          ]
        },
        {
          "output_type": "error",
          "ename": "ValueError",
          "evalue": "ignored",
          "traceback": [
            "\u001b[0;31m---------------------------------------------------------------------------\u001b[0m",
            "\u001b[0;31mValueError\u001b[0m                                Traceback (most recent call last)",
            "\u001b[0;32m<ipython-input-13-e1d13f23ffec>\u001b[0m in \u001b[0;36m<module>\u001b[0;34m\u001b[0m\n\u001b[0;32m----> 1\u001b[0;31m \u001b[0midade\u001b[0m \u001b[0;34m=\u001b[0m \u001b[0mint\u001b[0m\u001b[0;34m(\u001b[0m\u001b[0minput\u001b[0m\u001b[0;34m(\u001b[0m\u001b[0;34m'Digite a sua idade: '\u001b[0m\u001b[0;34m)\u001b[0m\u001b[0;34m)\u001b[0m\u001b[0;34m\u001b[0m\u001b[0;34m\u001b[0m\u001b[0m\n\u001b[0m\u001b[1;32m      2\u001b[0m \u001b[0mresto\u001b[0m \u001b[0;34m=\u001b[0m \u001b[0;36m18\u001b[0m \u001b[0;34m-\u001b[0m \u001b[0midade\u001b[0m\u001b[0;34m\u001b[0m\u001b[0;34m\u001b[0m\u001b[0m\n\u001b[1;32m      3\u001b[0m \u001b[0mprint\u001b[0m\u001b[0;34m(\u001b[0m\u001b[0;34m'Faltam'\u001b[0m\u001b[0;34m,\u001b[0m \u001b[0mresto\u001b[0m\u001b[0;34m,\u001b[0m \u001b[0;34m'anos.'\u001b[0m\u001b[0;34m)\u001b[0m\u001b[0;34m\u001b[0m\u001b[0;34m\u001b[0m\u001b[0m\n",
            "\u001b[0;31mValueError\u001b[0m: invalid literal for int() with base 10: 'rafael'"
          ]
        }
      ],
      "source": [
        "idade = int(input('Digite a sua idade: '))\n",
        "resto = 18 - idade\n",
        "print('Faltam', resto, 'anos.')"
      ]
    },
    {
      "cell_type": "markdown",
      "metadata": {
        "id": "hrzwoNpN6xtA"
      },
      "source": [
        "Chamamos essa operação de **coerção de tipo**. Em materiais em inglês você verá essa operação com o nome *casting*. Tome cuidado: operações de coerção podem resultar em perdas de dados. Se você converter o número float 3.9 para int, ele **não** arredondará para 4, e sim descartará a parte fracionária, resultando em 3.\n",
        "\n",
        "> Neste início, mensagens de erro podem parecer intimidadoras. Elas aparecem em vermelho e frequentemente possuem nomes técnicos e expressões em inglês. Mas crie o hábito de tentar compreendê-las. A partir da versão 3.10 do Python elas se tornaram significativamente mais amigáveis. Elas também indicam a linha com erro. Além disso, se você pesquisar em sites de busca por uma mensagem de erro, provavelmente encontrará diversos exemplos e explicações do que pode tê-la provocado e como consertar!\n",
        "\n",
        "## 6. Expressões aritméticas\n",
        "Como podemos observar no exemplo anterior, o Python faz operações aritméticas de maneira bastante intuitiva, similar ao que estamos acostumados. Os operadores aceitos são:\n",
        "\n",
        "* Soma: +\n",
        "* Subtração: -\n",
        "* Multiplicação: *\n",
        "* Divisão: /\n",
        "* Divisão inteira: //\n",
        "* Resto da divisão: %\n",
        "* Potência: **"
      ]
    },
    {
      "cell_type": "code",
      "execution_count": null,
      "metadata": {
        "colab": {
          "base_uri": "https://localhost:8080/"
        },
        "id": "iTCBhMZ26-zI",
        "outputId": "264ee318-b749-4c96-b330-4eac8aa57615"
      },
      "outputs": [
        {
          "name": "stdout",
          "output_type": "stream",
          "text": [
            "Digite um número: 2\n",
            "Digite outro número: 3\n",
            "Soma:  5\n",
            "Subtração:  -1\n",
            "Multiplicação:  6\n",
            "Divisão:  0.6666666666666666\n",
            "Divisão inteira:  0\n",
            "Resto da divisão:  2\n",
            "Potência:  8\n"
          ]
        }
      ],
      "source": [
        "numero1 = int(input('Digite um número: '))\n",
        "numero2 = int(input('Digite outro número: '))\n",
        "soma = numero1 + numero2\n",
        "subtracao = numero1 - numero2\n",
        "multiplicacao = numero1 * numero2\n",
        "divisao_real = numero1 / numero2\n",
        "divisao_inteira = numero1 // numero2\n",
        "resto = numero1 % numero2\n",
        "elevado = numero1 ** numero2\n",
        "print('Soma: ', soma)\n",
        "print('Subtração: ', subtracao)\n",
        "print('Multiplicação: ', multiplicacao)\n",
        "print('Divisão: ', divisao_real)\n",
        "print('Divisão inteira: ', divisao_inteira)\n",
        "print('Resto da divisão: ', resto)\n",
        "print('Potência: ', elevado)"
      ]
    },
    {
      "cell_type": "markdown",
      "metadata": {
        "id": "fvI4BCOy7Mes"
      },
      "source": [
        "### Operadores de divisão:\n",
        "\n",
        "Note que temos 3 operadores de divisão. O que seria cada um deles? Vamos supor que numero1 seja 15 e numero2 seja 6.\n",
        "```\n",
        "15 |__ 6\n",
        "```\n",
        "Quantas vezes o número 6 cabe dentro do 15? Um bom primeiro \"chute\" é 2:\n",
        "```\n",
        " 15 |__ 6\n",
        "     2\n",
        "```\n",
        "Podemos multiplicar 6 por 2, que dará 12. E então subtraímos esse valor de 15:\n",
        "\n",
        "```\n",
        " 15 |__ 6\n",
        "-12     2\n",
        "---\n",
        " 03\n",
        " ```\n",
        "\n",
        "Note que, considerando apenas números inteiros, não conseguimos mais prosseguir com a divisão. Neste caso, a **divisão inteira** (`numero1 // numero2`) dará 2. Já o **resto da divisão** (`numero1 % numero2`) dará 3.\n",
        "\n",
        "Porém, considerando casas decimais é possível prosseguir com a divisão:\n",
        "\n",
        "```\n",
        "15 |__ 6 \n",
        "-12     2.5\n",
        "---\n",
        " 03\n",
        "  30\n",
        "- 30\n",
        "----\n",
        "   0\n",
        "```\n",
        "\n",
        "Portanto, a **divisão real** (`numero1 / numero2`) dará 2.5.\n",
        "\n",
        "> **Atenção**: números reais em Python usam ponto para separar as casas decimais, não vírgula:\n",
        "> \n",
        "> * **Errado**: 2,5\n",
        "> * **Correto**: 2.5"
      ]
    },
    {
      "cell_type": "markdown",
      "metadata": {
        "id": "kpFxWx_F7ya6"
      },
      "source": [
        "# Exercícios\n",
        "\n",
        "As células com os enunciados dos exercícios são fornecidas aqui por conveniência, mas não deixe de _colar_ as soluções na área de envio do Class!\n",
        "\n",
        "Os exercícios de 1 a 10 valem 1 ponto cada, e basta entregá-los. O exercício 11 vale 10 pontos e será corrigido.\n",
        "\n",
        "### 01. Faça um programa que escreve a mensagem ```Americanas Polo Tech``` na tela do computador.\n",
        "\n"
      ]
    },
    {
      "cell_type": "code",
      "execution_count": 1,
      "metadata": {
        "id": "ke7miNDD8B_l",
        "outputId": "15508ced-8624-401f-fc96-8ed19a074a25",
        "colab": {
          "base_uri": "https://localhost:8080/"
        }
      },
      "outputs": [
        {
          "output_type": "stream",
          "name": "stdout",
          "text": [
            "Americanas Polo Tech\n"
          ]
        }
      ],
      "source": [
        "print('Americanas Polo Tech')"
      ]
    },
    {
      "cell_type": "markdown",
      "metadata": {
        "id": "UP5GcAZ88CWi"
      },
      "source": [
        "### 02. Faça um programa que pergunta o nome do usuário e responde Olá [nome] (substituindo \"[nome]\" pelo nome digitado).\n",
        "\n"
      ]
    },
    {
      "cell_type": "code",
      "execution_count": 2,
      "metadata": {
        "id": "NO646iAb8IQk",
        "outputId": "7a5d53cb-b569-4f07-f6f3-4e2c957603cb",
        "colab": {
          "base_uri": "https://localhost:8080/"
        }
      },
      "outputs": [
        {
          "output_type": "stream",
          "name": "stdout",
          "text": [
            "Digite seu nome: vitor\n",
            "Olá vitor!\n"
          ]
        }
      ],
      "source": [
        "nome = input('Digite seu nome: ')\n",
        "print(f'Olá {nome}!')"
      ]
    },
    {
      "cell_type": "markdown",
      "metadata": {
        "id": "84u6xsqq8Ijj"
      },
      "source": [
        "### 03. Faça um programa que pergunta o ano de nascimento do usuário e responde quantos anos ela terá ao final de 2022.\n",
        "\n"
      ]
    },
    {
      "cell_type": "code",
      "execution_count": 3,
      "metadata": {
        "id": "AEKyFLxA8NGo",
        "outputId": "4acd30b5-2125-40a7-eb54-d0e12e0ea6b7",
        "colab": {
          "base_uri": "https://localhost:8080/"
        }
      },
      "outputs": [
        {
          "output_type": "stream",
          "name": "stdout",
          "text": [
            "Digite o ano de seu nascimento: 1993\n",
            "Ao final de 2022 você terá 29 anos.\n"
          ]
        }
      ],
      "source": [
        "ano = int(input('Digite o ano de seu nascimento: '))\n",
        "print(f'Ao final de 2022 você terá {2022 - ano} anos.')"
      ]
    },
    {
      "cell_type": "markdown",
      "metadata": {
        "id": "l6U3f-178NcU"
      },
      "source": [
        "### 04. Faça um programa que pergunta a nota das 4 provas de um aluno e responde a sua média.\n",
        "\n"
      ]
    },
    {
      "cell_type": "code",
      "execution_count": 6,
      "metadata": {
        "id": "9VkhBiy38R7R",
        "outputId": "67657ceb-e67b-4574-8f63-e7a9de555373",
        "colab": {
          "base_uri": "https://localhost:8080/"
        }
      },
      "outputs": [
        {
          "output_type": "stream",
          "name": "stdout",
          "text": [
            "Digite a nota de sua 1ª prova: 8.5\n",
            "Digite a nota de sua 2ª prova: 6\n",
            "Digite a nota de sua 3ª prova: 5.5\n",
            "Digite a nota de sua 4ª prova: 10\n",
            "Sua média é: 7.50\n"
          ]
        }
      ],
      "source": [
        "soma = 0\n",
        "num_provas = 4\n",
        "for i in range(num_provas):\n",
        "  prova = float(input(f'Digite a nota de sua {i+1}ª prova: '))\n",
        "  soma = soma + prova\n",
        "media = soma / num_provas\n",
        "print(f'Sua média é: {media:.2f}')"
      ]
    },
    {
      "cell_type": "markdown",
      "metadata": {
        "id": "0PD6D95p8SM2"
      },
      "source": [
        "### 05. Faça um programa que pergunte para a motorista a distância que ela dirigiu e o tempo que seu trajeto levou, e responda sua velocidade média.\n",
        "\n"
      ]
    },
    {
      "cell_type": "code",
      "execution_count": 8,
      "metadata": {
        "id": "iZnRwy5U8VtP",
        "outputId": "07809de9-cd6d-45c8-9b06-a99822bd4f77",
        "colab": {
          "base_uri": "https://localhost:8080/"
        }
      },
      "outputs": [
        {
          "output_type": "stream",
          "name": "stdout",
          "text": [
            "Informe a distância percorrida (km): 100\n",
            "Informe o tempo que levou o trajeto (hrs): 10\n",
            "A velocidade média de seu carro foi 10.00km/h\n"
          ]
        }
      ],
      "source": [
        "dist = float(input('Informe a distância percorrida (km): '))\n",
        "tempo = float(input('Informe o tempo que levou o trajeto (hrs): '))\n",
        "print(f'A velocidade média de seu carro foi {dist/tempo:.2f}km/h')"
      ]
    },
    {
      "cell_type": "markdown",
      "metadata": {
        "id": "XLxabHaz8V_c"
      },
      "source": [
        "### 06. Um estacionamento cobra um valor mínimo de 10 reais, correspondente a 1h de uso. Cada hora adicional gera mais 5 reais de cobrança. Ex: um carro estacionado por 5 horas irá pagar 10 reais pela primeira hora + 5 reais pela segunda + 5 pela terceira + 5 pela quarta + 5 pela quinta, totalizando 30 reais.\n",
        "\n",
        "### Faça um programa que pergunte para o usuário quanto tempo seu carro ficou estacionado e responde o valor em reais a ser pago.\n",
        "\n",
        "###OBS: o estacionamento não considera minutos, tampouco horas fracionárias. Portanto, o seu programa não precisa se preocupar com isso. Se a pessoa ficou 5 horas e 2 minutos, ela passou de 5 horas, portanto ela deve digitar a hora inteira mais próxima: 6 horas."
      ]
    },
    {
      "cell_type": "code",
      "execution_count": 12,
      "metadata": {
        "id": "_T1QXjaB8dyq",
        "outputId": "bb30ccd5-e92e-4124-e568-e491ce6bdcd7",
        "colab": {
          "base_uri": "https://localhost:8080/"
        }
      },
      "outputs": [
        {
          "output_type": "stream",
          "name": "stdout",
          "text": [
            "Digite a hora que permaneceu no estacionamento (favor arredondar para cima): 5\n",
            "O valor a ser pago é R$30.00.\n"
          ]
        }
      ],
      "source": [
        "tempo = int(input('Digite a hora que permaneceu no estacionamento (favor arredondar para cima): '))\n",
        "valor = 10 + (tempo-1)*5\n",
        "print(f'O valor a ser pago é R${valor:.2f}.')"
      ]
    },
    {
      "cell_type": "markdown",
      "metadata": {
        "id": "xmkAzR7q8ei-"
      },
      "source": [
        "### 07. Faça um programa que pergunta a temperatura em graus Celsius e responde a temperatura correspondente em graus Fahrenheit.\n",
        "\n",
        "> Dica: se você digitar converta celsius para fahrenheit no Google, ele irá exibir a fórmula que você utilizará em seu programa e uma calculadora que pode auxiliar você na hora de testar seu programa."
      ]
    },
    {
      "cell_type": "code",
      "execution_count": 15,
      "metadata": {
        "id": "vUZV9mXR8nWl",
        "outputId": "6793d777-17f2-4a75-c634-3a4aaa159b96",
        "colab": {
          "base_uri": "https://localhost:8080/"
        }
      },
      "outputs": [
        {
          "output_type": "stream",
          "name": "stdout",
          "text": [
            "Digite a temperatura em °C: 22\n",
            "A temperatura correspondente em °F é 71.60°F\n"
          ]
        }
      ],
      "source": [
        "tempC = float(input('Digite a temperatura em °C: '))\n",
        "tempF = tempC*9/5 + 32\n",
        "print(f'A temperatura correspondente em °F é {tempF:.2f}°F')"
      ]
    },
    {
      "cell_type": "markdown",
      "metadata": {
        "id": "joxTBNbA8nnA"
      },
      "source": [
        "### 08. Faça um programa que pergunta a temperatura em graus Fahrenheit e responde a temperatura correspondente em graus Celsius.\n",
        "\n",
        "> Atenção: apenas trocar \"celsius\" e \"fahrenheit\" na equação utilizada no exercício anterior não é a solução. Você deve realizar a inversão completa da fórmula (ou utilizar o mesmo truque para consultar essa fórmula no Google)."
      ]
    },
    {
      "cell_type": "code",
      "execution_count": 16,
      "metadata": {
        "id": "sRPb6uBY8rYq",
        "outputId": "d18d4af2-6c67-49fb-e33c-110e4d49094b",
        "colab": {
          "base_uri": "https://localhost:8080/"
        }
      },
      "outputs": [
        {
          "output_type": "stream",
          "name": "stdout",
          "text": [
            "Digite a temperatura em °F: 32\n",
            "A temperatura correspondente em °F é 0.00°F\n"
          ]
        }
      ],
      "source": [
        "tempF = float(input('Digite a temperatura em °F: '))\n",
        "tempC = (tempF-32)*5/9\n",
        "print(f'A temperatura correspondente em °F é {tempC:.2f}°F')"
      ]
    },
    {
      "cell_type": "markdown",
      "metadata": {
        "id": "TH8_cGUR8r9o"
      },
      "source": [
        "### 09. Vai um cupom de desconto aí?\n",
        "\n",
        "### Faça um programa que pergunta o preço de um produto, o desconto a ser aplicado (em %) e responde o valor total a ser pago."
      ]
    },
    {
      "cell_type": "code",
      "execution_count": 17,
      "metadata": {
        "id": "vdjO-kVo8xSy",
        "outputId": "ff2df6a0-7201-448e-f6d1-152001f380ab",
        "colab": {
          "base_uri": "https://localhost:8080/"
        }
      },
      "outputs": [
        {
          "output_type": "stream",
          "name": "stdout",
          "text": [
            "Digite o preço do produto (R$): 100\n",
            "Digite o desconto a ser aplicado (%): 10\n",
            "O valor total a ser pago corresponderá a R$90.00\n"
          ]
        }
      ],
      "source": [
        "preco = float(input('Digite o preço do produto (R$): '))\n",
        "desconto = float(input('Digite o desconto a ser aplicado (%): '))\n",
        "valor_final = preco * (1-desconto/100)\n",
        "print(f'O valor total a ser pago corresponderá a R${valor_final:.2f}')"
      ]
    },
    {
      "cell_type": "markdown",
      "metadata": {
        "id": "Rd-dx0sM8xgy"
      },
      "source": [
        "### 10. Vamos falar de coisa boa: aumento salarial!\n",
        "\n",
        "### Faça um programa que pergunta o salário do funcionário, o aumento a ser aplicado (em %) e responde o seu novo salário."
      ]
    },
    {
      "cell_type": "code",
      "execution_count": 18,
      "metadata": {
        "id": "Apn9GrVo82x8",
        "outputId": "7759d124-6bf5-4824-b5b8-07ad1eeb1c4f",
        "colab": {
          "base_uri": "https://localhost:8080/"
        }
      },
      "outputs": [
        {
          "output_type": "stream",
          "name": "stdout",
          "text": [
            "Digite o salário do funcionário (R$): 1000\n",
            "Digite o percentual de aumento a ser aplicado (%): 10\n",
            "O novo salário será R$1100.00\n"
          ]
        }
      ],
      "source": [
        "sal = float(input('Digite o salário do funcionário (R$): '))\n",
        "percent = float(input('Digite o percentual de aumento a ser aplicado (%): '))\n",
        "aumento = sal * (1+percent/100)\n",
        "print(f'O novo salário será R${aumento:.2f}')"
      ]
    },
    {
      "cell_type": "markdown",
      "metadata": {
        "id": "3XUg_V8-82-A"
      },
      "source": [
        "### 11. Vamos fazer um programa para calcular o rendimento de uma aplicação.\n",
        "\n",
        "### Faça um programa que pergunta quanto dinheiro a usuária irá aplicar, a taxa de juros ao mês (em %) e a duração da aplicação (em meses).\n",
        "\n",
        "### Seu programa deve responder as seguintes informações:\n",
        "\n",
        "### Qual o valor total a ser sacado pela usuária ao final da aplicação?\n",
        "### Quantos reais a pessoa recebeu apenas de juros?\n",
        "### Quantos % a aplicação rendeu no total?\n",
        "### Atenção: ao buscar as fórmulas para utilizar no problema, busque pela fórmula de juros compostos. Não utilize a fórmula de juros simples."
      ]
    },
    {
      "cell_type": "code",
      "execution_count": 20,
      "metadata": {
        "id": "a9-SvMJH8_ok",
        "outputId": "5c31ac77-77cf-4498-a38d-87fc58e8b0c9",
        "colab": {
          "base_uri": "https://localhost:8080/"
        }
      },
      "outputs": [
        {
          "output_type": "stream",
          "name": "stdout",
          "text": [
            "Digite o valor a ser aplicado (R$): 1000\n",
            "Digite o percentual de juros ao mês (%): 1\n",
            "Digite a duração da aplicação em meses: 100\n",
            "O valor total a ser sacado ao fim da aplicação será de R$2704.81\n",
            "Apenas de juros, foram recebidos R$1704.81\n",
            "O rendimento no final foi de 270.48%\n"
          ]
        }
      ],
      "source": [
        "capital = float(input('Digite o valor a ser aplicado (R$): '))\n",
        "i = float(input('Digite o percentual de juros ao mês (%): '))\n",
        "n = float(input('Digite a duração da aplicação em meses: '))\n",
        "montante = capital*(1+i/100)**n\n",
        "print(f'O valor total a ser sacado ao fim da aplicação será de R${montante:.2f}')\n",
        "print(f'Apenas de juros, foram recebidos R${(montante-capital):.2f}')\n",
        "print(f'O rendimento no final foi de {(montante*100/capital):.2f}%')"
      ]
    },
    {
      "cell_type": "code",
      "source": [],
      "metadata": {
        "id": "LpRe-K0f6nZp"
      },
      "execution_count": null,
      "outputs": []
    }
  ],
  "metadata": {
    "colab": {
      "provenance": [],
      "include_colab_link": true
    },
    "kernelspec": {
      "display_name": "Python 3.9.7 ('base')",
      "language": "python",
      "name": "python3"
    },
    "language_info": {
      "name": "python",
      "version": "3.9.7"
    },
    "vscode": {
      "interpreter": {
        "hash": "ad2bdc8ecc057115af97d19610ffacc2b4e99fae6737bb82f5d7fb13d2f2c186"
      }
    }
  },
  "nbformat": 4,
  "nbformat_minor": 0
}