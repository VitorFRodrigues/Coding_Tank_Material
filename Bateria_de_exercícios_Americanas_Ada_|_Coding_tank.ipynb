{
  "nbformat": 4,
  "nbformat_minor": 0,
  "metadata": {
    "colab": {
      "provenance": [],
      "include_colab_link": true
    },
    "kernelspec": {
      "name": "python3",
      "display_name": "Python 3"
    },
    "language_info": {
      "name": "python"
    }
  },
  "cells": [
    {
      "cell_type": "markdown",
      "metadata": {
        "id": "view-in-github",
        "colab_type": "text"
      },
      "source": [
        "<a href=\"https://colab.research.google.com/github/VitorFRodrigues/Coding_Tank_Material/blob/main/Bateria_de_exerc%C3%ADcios_Americanas_Ada_%7C_Coding_tank.ipynb\" target=\"_parent\"><img src=\"https://colab.research.google.com/assets/colab-badge.svg\" alt=\"Open In Colab\"/></a>"
      ]
    },
    {
      "cell_type": "markdown",
      "source": [
        "# Tipos de variáveis e coerção de tipos"
      ],
      "metadata": {
        "id": "jQEGaqc5CENJ"
      }
    },
    {
      "cell_type": "markdown",
      "source": [
        "1. Crie um programa que receba seu nome e te dê boas vindas!"
      ],
      "metadata": {
        "id": "M-FzgFHHCCJQ"
      }
    },
    {
      "cell_type": "code",
      "source": [
        "nome = input('Digite seu nome: ')\n",
        "print(f'Olá {nome}! Seja bem vindo!')"
      ],
      "metadata": {
        "id": "-4tC-U0ZCCSt",
        "colab": {
          "base_uri": "https://localhost:8080/"
        },
        "outputId": "73e7f12c-b1c2-4343-aa6d-18f1048d3bb5"
      },
      "execution_count": 1,
      "outputs": [
        {
          "output_type": "stream",
          "name": "stdout",
          "text": [
            "Digite seu nome: vitor\n",
            "Olá vitor! Seja bem vindo!\n"
          ]
        }
      ]
    },
    {
      "cell_type": "markdown",
      "source": [
        "2. Crie um cadastro que receba nome, telefone e retorne-os em tela ao final da execução."
      ],
      "metadata": {
        "id": "MYhFPl8YCCbg"
      }
    },
    {
      "cell_type": "code",
      "source": [
        "nome = input('Digite seu nome: ')\n",
        "telefone = input('Digite seu telefone (XX) X XXXX-XXXX: ')\n",
        "print('Cadastro Realizado!')\n",
        "print(f'Nome: {nome}')\n",
        "print(f'Fone: {telefone}')"
      ],
      "metadata": {
        "id": "ARAasyjYCCjR",
        "colab": {
          "base_uri": "https://localhost:8080/"
        },
        "outputId": "dae9129c-1a30-4ea5-f072-55a177940041"
      },
      "execution_count": 2,
      "outputs": [
        {
          "output_type": "stream",
          "name": "stdout",
          "text": [
            "Digite seu nome: vitor\n",
            "Digite seu telefone (XX) X XXXX-XXXX: (81) 9 9268-0037\n",
            "Cadastro Realizado!\n",
            "Nome: vitor\n",
            "Fone: (81) 9 9268-0037\n"
          ]
        }
      ]
    },
    {
      "cell_type": "markdown",
      "source": [
        "3. Crie um programa que receba altura e peso e retorne o IMC."
      ],
      "metadata": {
        "id": "3qCr_Ol3CCqc"
      }
    },
    {
      "cell_type": "code",
      "source": [
        "alt = float(input('Digite sua alura(m): '))\n",
        "peso = float(input('Digite seu peso(kg): '))\n",
        "imc = peso / (alt ** 2)\n",
        "print(f'Seu IMC é {imc:.2f}')"
      ],
      "metadata": {
        "id": "hq0mp1cOCCwD",
        "colab": {
          "base_uri": "https://localhost:8080/"
        },
        "outputId": "ec0fd495-37d6-4b93-b709-b0a9b8fe1dea"
      },
      "execution_count": 3,
      "outputs": [
        {
          "output_type": "stream",
          "name": "stdout",
          "text": [
            "Digite sua alura(m): 1.76\n",
            "Digite seu peso(kg): 71\n",
            "Seu IMC é 22.92\n"
          ]
        }
      ]
    },
    {
      "cell_type": "markdown",
      "source": [
        "4. Construa um programa que receba uma idade e um nome e imprima uma saída do tipo: \"Adriele tem 22 anos.\"."
      ],
      "metadata": {
        "id": "UfQO_0WVCC0w"
      }
    },
    {
      "cell_type": "code",
      "source": [
        "nome = input('Digite seu nome: ')\n",
        "idade = input('Digite sua idade: ')\n",
        "print(f'{nome} tem {idade} anos.')"
      ],
      "metadata": {
        "id": "yBTHgVycCC5l",
        "colab": {
          "base_uri": "https://localhost:8080/"
        },
        "outputId": "2380e690-ccd5-475a-d07f-82e32e0d6de2"
      },
      "execution_count": 4,
      "outputs": [
        {
          "output_type": "stream",
          "name": "stdout",
          "text": [
            "Digite seu nome: Adriele\n",
            "Digite sua idade: 22\n",
            "Adriele tem 22 anos.\n"
          ]
        }
      ]
    },
    {
      "cell_type": "markdown",
      "source": [
        "5. Construa um programa que receba uma idade e um nome e imprima uma saída do tipo: \"Adriele tem 22 anos.\". No entanto, desta vez considere a idade que o usuário terá daqui há 15 anos, e não a idade que o usuário tem no momento da execução do programa."
      ],
      "metadata": {
        "id": "bx59ZHtACC-j"
      }
    },
    {
      "cell_type": "code",
      "source": [
        "nome = input('Digite seu nome: ')\n",
        "idade = int(input('Digite sua idade: '))\n",
        "print(f'{nome} tem {idade} anos.\\nDaqui a 15 anos, {nome} terá {idade+15} anos')"
      ],
      "metadata": {
        "id": "YRyTCXJ0CDCr",
        "colab": {
          "base_uri": "https://localhost:8080/"
        },
        "outputId": "a624d25f-1e61-4d24-8811-a7aa469fb42d"
      },
      "execution_count": 7,
      "outputs": [
        {
          "output_type": "stream",
          "name": "stdout",
          "text": [
            "Digite seu nome: Adriele\n",
            "Digite sua idade: 22\n",
            "Adriele tem 22 anos.\n",
            "Daqui a 15 anos, Adriele terá 37 anos\n"
          ]
        }
      ]
    },
    {
      "cell_type": "markdown",
      "source": [
        "# Estruturas condicionais"
      ],
      "metadata": {
        "id": "CXpOmMThCDHQ"
      }
    },
    {
      "cell_type": "markdown",
      "source": [
        "1. Faça um programa que receba o nome e a idade de um usuário e no final diga algo do tipo \"Thiago já está apto a tirar a sua habilitação de motorista e esta será válida até que ele complete 39 anos\". Considere 10 anos como o período de validade de uma habilitação no Brasil."
      ],
      "metadata": {
        "id": "EnJINs6-DO-t"
      }
    },
    {
      "cell_type": "code",
      "source": [],
      "metadata": {
        "id": "P29iJYnNCDL1"
      },
      "execution_count": null,
      "outputs": []
    },
    {
      "cell_type": "markdown",
      "source": [
        "2. Escreva um programa que recebe um número e diz se este é par ou ímpar"
      ],
      "metadata": {
        "id": "meP-Q2SACDQG"
      }
    },
    {
      "cell_type": "code",
      "source": [],
      "metadata": {
        "id": "sSRj0H0DCDUs"
      },
      "execution_count": null,
      "outputs": []
    },
    {
      "cell_type": "markdown",
      "source": [
        "3. Crie um programa que receba um número e imprima \"fuzz\" se o número for múltiplo de 3, \"buzz\" se deixar resto 1 na divisão por 3 e \"nada\" se deixar resto 2 na divisão por 3"
      ],
      "metadata": {
        "id": "Xk7dtrcdDmk_"
      }
    },
    {
      "cell_type": "code",
      "source": [],
      "metadata": {
        "id": "jsYQYQB8DnA6"
      },
      "execution_count": null,
      "outputs": []
    },
    {
      "cell_type": "markdown",
      "source": [
        "4. Crie um programa que recebe sua altura e peso, calcula o imc e retorna um status (abaixo do peso, no peso, acima do peso)."
      ],
      "metadata": {
        "id": "kroUj3jvDnjj"
      }
    },
    {
      "cell_type": "code",
      "source": [],
      "metadata": {
        "id": "8C0d3LLpDn1y"
      },
      "execution_count": null,
      "outputs": []
    },
    {
      "cell_type": "markdown",
      "source": [
        "5. Você quer pintar sua casa e está em dúvida entre as cores Azul, Vermelho e Magenta. Sabendo que a tinta Azul custa 25,00 reais por metro quadrado, Vermelho custa 35,00 reais por metro quadrado e Magenta custa 45,00 reais por metro quadrado, faça o seguinte:\n",
        "\n",
        "a) Crie um programa que recebe metros quadrados da sua parede e a cor da tinta e então retorne quanto gastará com tinta.\n",
        "\n",
        "b) Crie um programa que recebe largura, altura, número de paredes e a cor da tinta escolhida e então retorne quanto gastará com tinta."
      ],
      "metadata": {
        "id": "ZZVQJSh_DoMM"
      }
    },
    {
      "cell_type": "code",
      "source": [],
      "metadata": {
        "id": "H34xnUnKDoqR"
      },
      "execution_count": null,
      "outputs": []
    },
    {
      "cell_type": "markdown",
      "source": [
        "6. Faça um Programa que verifique se uma letra digitada é \"F\" ou \"M\". Conforme a letra escrever: F - Feminino, M - Masculino, Sexo Inválido."
      ],
      "metadata": {
        "id": "HU49bZE_D_YD"
      }
    },
    {
      "cell_type": "code",
      "source": [],
      "metadata": {
        "id": "NAjug4lED_7O"
      },
      "execution_count": null,
      "outputs": []
    },
    {
      "cell_type": "markdown",
      "source": [
        "7. Faça um programa que inicialmente receba 2 notas parciais de um aluno (prova 1 e prova 2). Se a média de ambas as notas for superior ou igual a 7, o programa retorna \"APROVADO.\" Senão, o programa solicita uma nota adicional, a nota do provão. Tendo a nota do provão, se a média das 3 notas for maior ou igual a 7 ou se pelo menos duas das 3 notas for maior ou igual a 6, imprima \"APROVADO POR POUCO!\" Senão, imprima \"QUE PENA! TENTE FAZER A SÉTIMA SÉRIE OUTRA VEZ!\" "
      ],
      "metadata": {
        "id": "wEHgiM--EL0S"
      }
    },
    {
      "cell_type": "code",
      "source": [],
      "metadata": {
        "id": "TD-66KApEMOf"
      },
      "execution_count": null,
      "outputs": []
    },
    {
      "cell_type": "markdown",
      "source": [
        "8. Faça um Programa que leia três números e mostre-os em ordem decrescente."
      ],
      "metadata": {
        "id": "OBJhYHv0EfZA"
      }
    },
    {
      "cell_type": "code",
      "source": [],
      "metadata": {
        "id": "fkaRjT_SEf0E"
      },
      "execution_count": null,
      "outputs": []
    },
    {
      "cell_type": "markdown",
      "source": [
        "9. Faça um Programa que pergunte em que turno você estuda. Peça para digitar M-matutino ou V-Vespertino ou N- Noturno. Imprima a mensagem \"Bom Dia!\", \"Boa Tarde!\" ou \"Boa Noite!\" ou \"Valor Inválido!\", conforme o caso."
      ],
      "metadata": {
        "id": "4Qq5T6YZEmbG"
      }
    },
    {
      "cell_type": "code",
      "source": [],
      "metadata": {
        "id": "r2DakUwHEm0T"
      },
      "execution_count": null,
      "outputs": []
    },
    {
      "cell_type": "markdown",
      "source": [
        "10. Faça um programa que pergunte o preço de três produtos e informe qual produto você deve comprar, sabendo que a decisão é sempre pelo mais barato."
      ],
      "metadata": {
        "id": "VJfkq6SNEqwj"
      }
    },
    {
      "cell_type": "code",
      "source": [],
      "metadata": {
        "id": "VgfGG6iiErHM"
      },
      "execution_count": null,
      "outputs": []
    },
    {
      "cell_type": "markdown",
      "source": [
        "11. Faça um Programa que leia três números e mostre o maior e o menor deles."
      ],
      "metadata": {
        "id": "B4kyf0teExEU"
      }
    },
    {
      "cell_type": "code",
      "source": [],
      "metadata": {
        "id": "Cl7QHyONEwnk"
      },
      "execution_count": null,
      "outputs": []
    },
    {
      "cell_type": "markdown",
      "source": [
        "12. Crie um programa que faça as seguintes 5 perguntas e diagnostique o paciente:\n",
        "\n",
        "A. Sente dor no corpo?\n",
        "\n",
        "B. Tem febre?\n",
        "\n",
        "C. Tem tosse?\n",
        "\n",
        "D. Está com congestão nasal?\n",
        "\n",
        "E. Tem manchas no corpo?\n",
        "\n",
        "Condições:\n",
        "\n",
        "    Se apenas a primeira for verdade, o paciente não está doente;\n",
        "    Se B, C e D forem verdade, o paciente está com gripe;\n",
        "    Se todas forem verdade, paciente está com Dengue;\n",
        "    Caso contrário, não temos o diagnóstico."
      ],
      "metadata": {
        "id": "fN1jbJ8EFCxW"
      }
    },
    {
      "cell_type": "code",
      "source": [],
      "metadata": {
        "id": "2I1nA2vOFKSi"
      },
      "execution_count": null,
      "outputs": []
    },
    {
      "cell_type": "markdown",
      "source": [
        "13. Para entrar em um carro de palhaço, os palhaços precisarão respeitar as seguintes condições:\n",
        "\n",
        "    Ter entre 20 e 30 anos, entre 40 e 50 ou entre 70 e 75 anos apenas;\n",
        "\n",
        "    Os palhaços mais velhos irão no banco da frente, os mais novos no porta-malas e a idade que restou irá no banco de trás\n",
        "\n",
        "Crie um programa que receba a idade do palhaço imprima os seguintes passos NESTA ORDEM:\n",
        "\n",
        "    Indique se o palhaço poderá entrar no carro;\n",
        "\n",
        "    Indique onde o palhaço ficará no carro."
      ],
      "metadata": {
        "id": "67cLTMIoFJvs"
      }
    },
    {
      "cell_type": "code",
      "source": [],
      "metadata": {
        "id": "UUiSUeqGFDL_"
      },
      "execution_count": null,
      "outputs": []
    },
    {
      "cell_type": "markdown",
      "source": [
        "# Laços de repetição"
      ],
      "metadata": {
        "id": "FhrZnAmNETk7"
      }
    },
    {
      "cell_type": "markdown",
      "source": [
        "1. Crie o programa \"Bart Simpson\": ele recebe um número de vezes e uma frase, e imprime na tela a mesma frase até atingir o número de vezes solicitado."
      ],
      "metadata": {
        "id": "Rq7sYH3XET66"
      }
    },
    {
      "cell_type": "code",
      "source": [
        "#Ex.1\n",
        "qtd = int(input('Quantas vezes a frase precisa ser repetida? '))\n",
        "frase = input('Digite a frase a ser repetida: ')\n",
        "\n",
        "for _ in range(qtd):\n",
        "  print(frase)"
      ],
      "metadata": {
        "id": "gHfhQLIaFwi3",
        "colab": {
          "base_uri": "https://localhost:8080/"
        },
        "outputId": "2b51d0a5-03f5-42a6-bff9-7058df33a572"
      },
      "execution_count": 8,
      "outputs": [
        {
          "output_type": "stream",
          "name": "stdout",
          "text": [
            "Digite a frase a ser repetida: Abracadabra\n",
            "Quantas vezes a frase precisa ser repetida? 5\n",
            "Abracadabra\n",
            "Abracadabra\n",
            "Abracadabra\n",
            "Abracadabra\n",
            "Abracadabra\n"
          ]
        }
      ]
    },
    {
      "cell_type": "markdown",
      "source": [
        "2. Crie um programa que retorne o somatório de todos os números entre 1 e um número fornecido pelo usuário."
      ],
      "metadata": {
        "id": "fZM0Ps2pFvZC"
      }
    },
    {
      "cell_type": "code",
      "source": [
        "#Ex.2\n",
        "num = int(input('Digite um número: '))\n",
        "soma = 0\n",
        "for i in range(num+1):\n",
        "  soma += i\n",
        "print(f'A soma de 1 até {num} é {soma}')"
      ],
      "metadata": {
        "id": "YHNBah36F7ov",
        "colab": {
          "base_uri": "https://localhost:8080/"
        },
        "outputId": "1bada816-533c-43c4-f0fd-5f041ca170d9"
      },
      "execution_count": 13,
      "outputs": [
        {
          "output_type": "stream",
          "name": "stdout",
          "text": [
            "Digite um número: 10\n",
            "A soma de 1 até 10 é 55\n"
          ]
        }
      ]
    },
    {
      "cell_type": "markdown",
      "source": [
        "3. Crie um script que retorne o somatório de todos os números pares entre 0 e 100, usando o WHILE."
      ],
      "metadata": {
        "id": "uqiK3thyF6am"
      }
    },
    {
      "cell_type": "code",
      "source": [
        "#Ex.3\n",
        "contador = 0\n",
        "soma = 0\n",
        "limite = 100\n",
        "while contador <= limite:\n",
        "  soma += contador\n",
        "  contador += 2\n",
        "print(f'O somatório de todos os números pares até {limite} é {soma}')"
      ],
      "metadata": {
        "id": "WkGyvWbiF66Y",
        "colab": {
          "base_uri": "https://localhost:8080/"
        },
        "outputId": "8a072fe2-fec8-40d6-f8d6-c9a79598c80a"
      },
      "execution_count": 27,
      "outputs": [
        {
          "output_type": "stream",
          "name": "stdout",
          "text": [
            "O somatório de todos os números pares até 100 é 2550\n"
          ]
        }
      ]
    },
    {
      "cell_type": "markdown",
      "source": [
        "4. Crie um script que retorne o somatório de todos os números pares entre 0 e 100, usando o FOR."
      ],
      "metadata": {
        "id": "v3O1mmLzGGEI"
      }
    },
    {
      "cell_type": "code",
      "source": [
        "# Ex.4\n",
        "soma = 0\n",
        "limite = 100\n",
        "for i in range(0,limite+1,2):\n",
        "  soma += i\n",
        "print(f'O somatório de todos os números pares até {limite} é {soma}')"
      ],
      "metadata": {
        "id": "UU33F1TZGMwg",
        "colab": {
          "base_uri": "https://localhost:8080/"
        },
        "outputId": "70751920-aa95-4651-cd63-35b411db82e3"
      },
      "execution_count": 28,
      "outputs": [
        {
          "output_type": "stream",
          "name": "stdout",
          "text": [
            "O somatório de todos os números pares até 100 é 2550\n"
          ]
        }
      ]
    },
    {
      "cell_type": "markdown",
      "source": [
        "5. Crie um programa que receba quantas notas o professor quiser de um aluno e pare quando o professor inserir a letra \"S\". Quando parar, o programa deve retornar a média das notas digitadas e dizer se o aluno foi aprovado (média maior ou igual a 7) ou reprovado (média menor que 7)."
      ],
      "metadata": {
        "id": "bGZqLhCXFjEn"
      }
    },
    {
      "cell_type": "code",
      "source": [
        "# Ex.5\n",
        "contador = 1\n",
        "nota = input(f'Digite a nota {contador} do aluno ou S para sair: ')\n",
        "soma = 0\n",
        "while not nota in 'Ss':\n",
        "  if nota not in 'Ss':\n",
        "    nota = float(nota)\n",
        "    soma += nota\n",
        "    contador += 1\n",
        "  nota = input(f'Digite a nota {contador} do aluno ou S para sair: ')\n",
        "\n",
        "media = soma / (contador-1)\n",
        "print(f'A média das notas correspondem a {media:.2f}.')\n",
        "if media >= 7:\n",
        "  status = 'aprovado'\n",
        "else:\n",
        "  status = 'reprovado'\n",
        "print(f'O aluno com média {media:.2f} foi {status}.')"
      ],
      "metadata": {
        "id": "3mjiLOWdGON6",
        "colab": {
          "base_uri": "https://localhost:8080/"
        },
        "outputId": "81fc840f-6b3c-4162-e955-f30cc8a260f1"
      },
      "execution_count": 42,
      "outputs": [
        {
          "output_type": "stream",
          "name": "stdout",
          "text": [
            "Digite a nota 1 do aluno ou S para sair: 10\n",
            "Digite a nota 2 do aluno ou S para sair: 9\n",
            "Digite a nota 3 do aluno ou S para sair: 8\n",
            "Digite a nota 4 do aluno ou S para sair: s\n",
            "A média das notas correspondem a 9.00.\n",
            "O aluno com média 9.00 foi aprovado.\n"
          ]
        }
      ]
    }
  ]
}