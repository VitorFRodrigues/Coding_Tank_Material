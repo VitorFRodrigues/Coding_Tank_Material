{
  "nbformat": 4,
  "nbformat_minor": 0,
  "metadata": {
    "colab": {
      "provenance": [],
      "include_colab_link": true
    },
    "kernelspec": {
      "name": "python3",
      "display_name": "Python 3"
    },
    "language_info": {
      "name": "python"
    }
  },
  "cells": [
    {
      "cell_type": "markdown",
      "metadata": {
        "id": "view-in-github",
        "colab_type": "text"
      },
      "source": [
        "<a href=\"https://colab.research.google.com/github/VitorFRodrigues/Coding_Tank_Material/blob/main/Bateria_de_exerc%C3%ADcios_Americanas_Ada_%7C_Coding_tank.ipynb\" target=\"_parent\"><img src=\"https://colab.research.google.com/assets/colab-badge.svg\" alt=\"Open In Colab\"/></a>"
      ]
    },
    {
      "cell_type": "markdown",
      "source": [
        "# Tipos de variáveis e coerção de tipos"
      ],
      "metadata": {
        "id": "jQEGaqc5CENJ"
      }
    },
    {
      "cell_type": "markdown",
      "source": [
        "1. Crie um programa que receba seu nome e te dê boas vindas!"
      ],
      "metadata": {
        "id": "M-FzgFHHCCJQ"
      }
    },
    {
      "cell_type": "code",
      "source": [
        "nome = input('Digite seu nome: ')\n",
        "print(f'Olá {nome}! Seja bem vindo!')"
      ],
      "metadata": {
        "id": "-4tC-U0ZCCSt",
        "colab": {
          "base_uri": "https://localhost:8080/"
        },
        "outputId": "73e7f12c-b1c2-4343-aa6d-18f1048d3bb5"
      },
      "execution_count": 1,
      "outputs": [
        {
          "output_type": "stream",
          "name": "stdout",
          "text": [
            "Digite seu nome: vitor\n",
            "Olá vitor! Seja bem vindo!\n"
          ]
        }
      ]
    },
    {
      "cell_type": "markdown",
      "source": [
        "2. Crie um cadastro que receba nome, telefone e retorne-os em tela ao final da execução."
      ],
      "metadata": {
        "id": "MYhFPl8YCCbg"
      }
    },
    {
      "cell_type": "code",
      "source": [
        "nome = input('Digite seu nome: ')\n",
        "telefone = input('Digite seu telefone (XX) X XXXX-XXXX: ')\n",
        "print('Cadastro Realizado!')\n",
        "print(f'Nome: {nome}')\n",
        "print(f'Fone: {telefone}')"
      ],
      "metadata": {
        "id": "ARAasyjYCCjR",
        "colab": {
          "base_uri": "https://localhost:8080/"
        },
        "outputId": "dae9129c-1a30-4ea5-f072-55a177940041"
      },
      "execution_count": 2,
      "outputs": [
        {
          "output_type": "stream",
          "name": "stdout",
          "text": [
            "Digite seu nome: vitor\n",
            "Digite seu telefone (XX) X XXXX-XXXX: (81) 9 9268-0037\n",
            "Cadastro Realizado!\n",
            "Nome: vitor\n",
            "Fone: (81) 9 9268-0037\n"
          ]
        }
      ]
    },
    {
      "cell_type": "markdown",
      "source": [
        "3. Crie um programa que receba altura e peso e retorne o IMC."
      ],
      "metadata": {
        "id": "3qCr_Ol3CCqc"
      }
    },
    {
      "cell_type": "code",
      "source": [
        "alt = float(input('Digite sua alura(m): '))\n",
        "peso = float(input('Digite seu peso(kg): '))\n",
        "imc = peso / (alt ** 2)\n",
        "print(f'Seu IMC é {imc:.2f}')"
      ],
      "metadata": {
        "id": "hq0mp1cOCCwD",
        "colab": {
          "base_uri": "https://localhost:8080/"
        },
        "outputId": "ec0fd495-37d6-4b93-b709-b0a9b8fe1dea"
      },
      "execution_count": 3,
      "outputs": [
        {
          "output_type": "stream",
          "name": "stdout",
          "text": [
            "Digite sua alura(m): 1.76\n",
            "Digite seu peso(kg): 71\n",
            "Seu IMC é 22.92\n"
          ]
        }
      ]
    },
    {
      "cell_type": "markdown",
      "source": [
        "4. Construa um programa que receba uma idade e um nome e imprima uma saída do tipo: \"Adriele tem 22 anos.\"."
      ],
      "metadata": {
        "id": "UfQO_0WVCC0w"
      }
    },
    {
      "cell_type": "code",
      "source": [],
      "metadata": {
        "id": "yBTHgVycCC5l"
      },
      "execution_count": null,
      "outputs": []
    },
    {
      "cell_type": "markdown",
      "source": [
        "5. Construa um programa que receba uma idade e um nome e imprima uma saída do tipo: \"Adriele tem 22 anos.\". No entanto, desta vez considere a idade que o usuário terá daqui há 15 anos, e não a idade que o usuário tem no momento da execução do programa."
      ],
      "metadata": {
        "id": "bx59ZHtACC-j"
      }
    },
    {
      "cell_type": "code",
      "source": [],
      "metadata": {
        "id": "YRyTCXJ0CDCr"
      },
      "execution_count": null,
      "outputs": []
    },
    {
      "cell_type": "markdown",
      "source": [
        "# Estruturas condicionais"
      ],
      "metadata": {
        "id": "CXpOmMThCDHQ"
      }
    },
    {
      "cell_type": "markdown",
      "source": [
        "1. Faça um programa que receba o nome e a idade de um usuário e no final diga algo do tipo \"Thiago já está apto a tirar a sua habilitação de motorista e esta será válida até que ele complete 39 anos\". Considere 10 anos como o período de validade de uma habilitação no Brasil."
      ],
      "metadata": {
        "id": "EnJINs6-DO-t"
      }
    },
    {
      "cell_type": "code",
      "source": [],
      "metadata": {
        "id": "P29iJYnNCDL1"
      },
      "execution_count": null,
      "outputs": []
    },
    {
      "cell_type": "markdown",
      "source": [
        "2. Escreva um programa que recebe um número e diz se este é par ou ímpar"
      ],
      "metadata": {
        "id": "meP-Q2SACDQG"
      }
    },
    {
      "cell_type": "code",
      "source": [],
      "metadata": {
        "id": "sSRj0H0DCDUs"
      },
      "execution_count": null,
      "outputs": []
    },
    {
      "cell_type": "markdown",
      "source": [
        "3. Crie um programa que receba um número e imprima \"fuzz\" se o número for múltiplo de 3, \"buzz\" se deixar resto 1 na divisão por 3 e \"nada\" se deixar resto 2 na divisão por 3"
      ],
      "metadata": {
        "id": "Xk7dtrcdDmk_"
      }
    },
    {
      "cell_type": "code",
      "source": [],
      "metadata": {
        "id": "jsYQYQB8DnA6"
      },
      "execution_count": null,
      "outputs": []
    },
    {
      "cell_type": "markdown",
      "source": [
        "4. Crie um programa que recebe sua altura e peso, calcula o imc e retorna um status (abaixo do peso, no peso, acima do peso)."
      ],
      "metadata": {
        "id": "kroUj3jvDnjj"
      }
    },
    {
      "cell_type": "code",
      "source": [],
      "metadata": {
        "id": "8C0d3LLpDn1y"
      },
      "execution_count": null,
      "outputs": []
    },
    {
      "cell_type": "markdown",
      "source": [
        "5. Você quer pintar sua casa e está em dúvida entre as cores Azul, Vermelho e Magenta. Sabendo que a tinta Azul custa 25,00 reais por metro quadrado, Vermelho custa 35,00 reais por metro quadrado e Magenta custa 45,00 reais por metro quadrado, faça o seguinte:\n",
        "\n",
        "a) Crie um programa que recebe metros quadrados da sua parede e a cor da tinta e então retorne quanto gastará com tinta.\n",
        "\n",
        "b) Crie um programa que recebe largura, altura, número de paredes e a cor da tinta escolhida e então retorne quanto gastará com tinta."
      ],
      "metadata": {
        "id": "ZZVQJSh_DoMM"
      }
    },
    {
      "cell_type": "code",
      "source": [],
      "metadata": {
        "id": "H34xnUnKDoqR"
      },
      "execution_count": null,
      "outputs": []
    },
    {
      "cell_type": "markdown",
      "source": [
        "6. Faça um Programa que verifique se uma letra digitada é \"F\" ou \"M\". Conforme a letra escrever: F - Feminino, M - Masculino, Sexo Inválido."
      ],
      "metadata": {
        "id": "HU49bZE_D_YD"
      }
    },
    {
      "cell_type": "code",
      "source": [],
      "metadata": {
        "id": "NAjug4lED_7O"
      },
      "execution_count": null,
      "outputs": []
    },
    {
      "cell_type": "markdown",
      "source": [
        "7. Faça um programa que inicialmente receba 2 notas parciais de um aluno (prova 1 e prova 2). Se a média de ambas as notas for superior ou igual a 7, o programa retorna \"APROVADO.\" Senão, o programa solicita uma nota adicional, a nota do provão. Tendo a nota do provão, se a média das 3 notas for maior ou igual a 7 ou se pelo menos duas das 3 notas for maior ou igual a 6, imprima \"APROVADO POR POUCO!\" Senão, imprima \"QUE PENA! TENTE FAZER A SÉTIMA SÉRIE OUTRA VEZ!\" "
      ],
      "metadata": {
        "id": "wEHgiM--EL0S"
      }
    },
    {
      "cell_type": "code",
      "source": [],
      "metadata": {
        "id": "TD-66KApEMOf"
      },
      "execution_count": null,
      "outputs": []
    },
    {
      "cell_type": "markdown",
      "source": [
        "8. Faça um Programa que leia três números e mostre-os em ordem decrescente."
      ],
      "metadata": {
        "id": "OBJhYHv0EfZA"
      }
    },
    {
      "cell_type": "code",
      "source": [],
      "metadata": {
        "id": "fkaRjT_SEf0E"
      },
      "execution_count": null,
      "outputs": []
    },
    {
      "cell_type": "markdown",
      "source": [
        "9. Faça um Programa que pergunte em que turno você estuda. Peça para digitar M-matutino ou V-Vespertino ou N- Noturno. Imprima a mensagem \"Bom Dia!\", \"Boa Tarde!\" ou \"Boa Noite!\" ou \"Valor Inválido!\", conforme o caso."
      ],
      "metadata": {
        "id": "4Qq5T6YZEmbG"
      }
    },
    {
      "cell_type": "code",
      "source": [],
      "metadata": {
        "id": "r2DakUwHEm0T"
      },
      "execution_count": null,
      "outputs": []
    },
    {
      "cell_type": "markdown",
      "source": [
        "10. Faça um programa que pergunte o preço de três produtos e informe qual produto você deve comprar, sabendo que a decisão é sempre pelo mais barato."
      ],
      "metadata": {
        "id": "VJfkq6SNEqwj"
      }
    },
    {
      "cell_type": "code",
      "source": [],
      "metadata": {
        "id": "VgfGG6iiErHM"
      },
      "execution_count": null,
      "outputs": []
    },
    {
      "cell_type": "markdown",
      "source": [
        "11. Faça um Programa que leia três números e mostre o maior e o menor deles."
      ],
      "metadata": {
        "id": "B4kyf0teExEU"
      }
    },
    {
      "cell_type": "code",
      "source": [],
      "metadata": {
        "id": "Cl7QHyONEwnk"
      },
      "execution_count": null,
      "outputs": []
    },
    {
      "cell_type": "markdown",
      "source": [
        "12. Crie um programa que faça as seguintes 5 perguntas e diagnostique o paciente:\n",
        "\n",
        "A. Sente dor no corpo?\n",
        "\n",
        "B. Tem febre?\n",
        "\n",
        "C. Tem tosse?\n",
        "\n",
        "D. Está com congestão nasal?\n",
        "\n",
        "E. Tem manchas no corpo?\n",
        "\n",
        "Condições:\n",
        "\n",
        "    Se apenas a primeira for verdade, o paciente não está doente;\n",
        "    Se B, C e D forem verdade, o paciente está com gripe;\n",
        "    Se todas forem verdade, paciente está com Dengue;\n",
        "    Caso contrário, não temos o diagnóstico."
      ],
      "metadata": {
        "id": "fN1jbJ8EFCxW"
      }
    },
    {
      "cell_type": "code",
      "source": [],
      "metadata": {
        "id": "2I1nA2vOFKSi"
      },
      "execution_count": null,
      "outputs": []
    },
    {
      "cell_type": "markdown",
      "source": [
        "13. Para entrar em um carro de palhaço, os palhaços precisarão respeitar as seguintes condições:\n",
        "\n",
        "    Ter entre 20 e 30 anos, entre 40 e 50 ou entre 70 e 75 anos apenas;\n",
        "\n",
        "    Os palhaços mais velhos irão no banco da frente, os mais novos no porta-malas e a idade que restou irá no banco de trás\n",
        "\n",
        "Crie um programa que receba a idade do palhaço imprima os seguintes passos NESTA ORDEM:\n",
        "\n",
        "    Indique se o palhaço poderá entrar no carro;\n",
        "\n",
        "    Indique onde o palhaço ficará no carro."
      ],
      "metadata": {
        "id": "67cLTMIoFJvs"
      }
    },
    {
      "cell_type": "code",
      "source": [],
      "metadata": {
        "id": "UUiSUeqGFDL_"
      },
      "execution_count": null,
      "outputs": []
    },
    {
      "cell_type": "markdown",
      "source": [
        "# Laços de repetição"
      ],
      "metadata": {
        "id": "FhrZnAmNETk7"
      }
    },
    {
      "cell_type": "markdown",
      "source": [
        "1. Crie o programa \"Bart Simpson\": ele recebe um número de vezes e uma frase, e imprime na tela a mesma frase até atingir o número de vezes solicitado."
      ],
      "metadata": {
        "id": "Rq7sYH3XET66"
      }
    },
    {
      "cell_type": "code",
      "source": [],
      "metadata": {
        "id": "gHfhQLIaFwi3"
      },
      "execution_count": null,
      "outputs": []
    },
    {
      "cell_type": "markdown",
      "source": [
        "2. Crie um programa que retorne o somatório de todos os números entre 1 e um número fornecido pelo usuário."
      ],
      "metadata": {
        "id": "fZM0Ps2pFvZC"
      }
    },
    {
      "cell_type": "code",
      "source": [],
      "metadata": {
        "id": "YHNBah36F7ov"
      },
      "execution_count": null,
      "outputs": []
    },
    {
      "cell_type": "markdown",
      "source": [
        "3. Crie um script que retorne o somatório de todos os números pares entre 0 e 100, usando o WHILE."
      ],
      "metadata": {
        "id": "uqiK3thyF6am"
      }
    },
    {
      "cell_type": "code",
      "source": [],
      "metadata": {
        "id": "WkGyvWbiF66Y"
      },
      "execution_count": null,
      "outputs": []
    },
    {
      "cell_type": "markdown",
      "source": [
        "4. Crie um script que retorne o somatório de todos os números pares entre 0 e 100, usando o FOR."
      ],
      "metadata": {
        "id": "v3O1mmLzGGEI"
      }
    },
    {
      "cell_type": "code",
      "source": [],
      "metadata": {
        "id": "UU33F1TZGMwg"
      },
      "execution_count": null,
      "outputs": []
    },
    {
      "cell_type": "markdown",
      "source": [
        "5. Crie um programa que receba quantas notas o professor quiser de um aluno e pare quando o professor inserir a letra \"S\". Quando parar, o programa deve retornar a média das notas digitadas e dizer se o aluno foi aprovado (média maior ou igual a 7) ou reprovado (média menor que 7)."
      ],
      "metadata": {
        "id": "bGZqLhCXFjEn"
      }
    },
    {
      "cell_type": "code",
      "source": [],
      "metadata": {
        "id": "3mjiLOWdGON6"
      },
      "execution_count": null,
      "outputs": []
    }
  ]
}