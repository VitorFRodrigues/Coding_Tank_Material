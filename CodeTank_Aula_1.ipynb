{
  "nbformat": 4,
  "nbformat_minor": 0,
  "metadata": {
    "colab": {
      "provenance": [],
      "collapsed_sections": [],
      "include_colab_link": true
    },
    "kernelspec": {
      "name": "python3",
      "display_name": "Python 3"
    },
    "language_info": {
      "name": "python"
    }
  },
  "cells": [
    {
      "cell_type": "markdown",
      "metadata": {
        "id": "view-in-github",
        "colab_type": "text"
      },
      "source": [
        "<a href=\"https://colab.research.google.com/github/VitorFRodrigues/Coding_Tank_Material/blob/main/CodeTank_Aula_1.ipynb\" target=\"_parent\"><img src=\"https://colab.research.google.com/assets/colab-badge.svg\" alt=\"Open In Colab\"/></a>"
      ]
    },
    {
      "cell_type": "markdown",
      "source": [
        "# Bem vindo ao Coding Tank!\n",
        "\n",
        "Professor: Rogério Mainardes.\n",
        "\n",
        "Professor Auxiliar: Fernando Barbarossa.\n",
        "\n",
        "\n",
        "## Avisos: \n",
        "Dias 17, 19, 22, 24, 26/08 -> Aulas.\n",
        "\n",
        "Dia 29/08 -> Prova.\n",
        "\n",
        "01/09 -> Lista dos aprovados.\n",
        "\n",
        "Faltar 1 dia -> Beleza.\n",
        "\n",
        "Faltar 2 dias consecutivos -> Já era.\n",
        "\n",
        "Faltar 2 dias não consecutivos -> Já era certificado."
      ],
      "metadata": {
        "id": "ef5kXzszB-yr"
      }
    },
    {
      "cell_type": "code",
      "execution_count": null,
      "metadata": {
        "id": "1IkNrUk_A3ar"
      },
      "outputs": [],
      "source": []
    },
    {
      "cell_type": "markdown",
      "source": [
        "# Aula 1: Bem vindo a programação!\n",
        "\n",
        "## Tópicos de hoje:\n",
        "\n",
        "- O que é programa? \n",
        "- Como funciona?\n",
        "- O que são variáveis? \n",
        "- Tipos básicos de variávies?\n",
        "- Input/Output\n",
        "- Coerção de tipos\n",
        "- Operadores Algébricos\n",
        "- Operadores Lógicos"
      ],
      "metadata": {
        "id": "jRrw0S71BuDT"
      }
    },
    {
      "cell_type": "markdown",
      "source": [
        "### ALIÁS, ANTES.\n",
        "\n",
        "Bem vindo ao *Google Colab*.\n",
        "\n",
        "- É grátis, você só precisa ter conta gmail;\n",
        "- Esse ambiente é o que chamamos de Notebook;\n",
        "- Programamos em células e temos o retorno \"imediato\";\n",
        "- Cada célula pode ser de código ou markdown (texto).\n",
        "\n",
        "#### Alguns atalhos bons: \n",
        "\n",
        "- `Ctrl+Enter` executa a celula;\n",
        "- `Alt+Enter` executa a célula e cria uma nova a baixo;\n",
        "- `Shift+Enter` executa a célula, cria uma nova a baixo foca nesta;\n",
        "- `Ctrl+M M` transforma célula de código em texto (markdown);\n",
        "- `Ctrl+M Y` transforma célula de texto em código."
      ],
      "metadata": {
        "id": "ZaL_IGCEFbS6"
      }
    },
    {
      "cell_type": "code",
      "source": [
        "# O que é programa?\n",
        "\n",
        "# chame de script, que vai ser executado passo a passo (linha a linha)"
      ],
      "metadata": {
        "id": "athzceYXKkOv"
      },
      "execution_count": null,
      "outputs": []
    },
    {
      "cell_type": "code",
      "source": [
        "# Como funciona um progama?"
      ],
      "metadata": {
        "id": "YHy5EAHHOBnf"
      },
      "execution_count": null,
      "outputs": []
    },
    {
      "cell_type": "code",
      "source": [
        "print(\"hello world\")"
      ],
      "metadata": {
        "colab": {
          "base_uri": "https://localhost:8080/"
        },
        "id": "ULj8aEn1_DtU",
        "outputId": "baf3bd6c-f986-46e1-8ade-b0980ef9c2ba"
      },
      "execution_count": null,
      "outputs": [
        {
          "output_type": "stream",
          "name": "stdout",
          "text": [
            "hello world\n"
          ]
        }
      ]
    },
    {
      "cell_type": "code",
      "source": [
        "print(\"ola mundo\")"
      ],
      "metadata": {
        "colab": {
          "base_uri": "https://localhost:8080/"
        },
        "id": "aZdZZkGR_VIN",
        "outputId": "2b034219-4094-4564-d0b0-2c50ce19349e"
      },
      "execution_count": null,
      "outputs": [
        {
          "output_type": "stream",
          "name": "stdout",
          "text": [
            "ola mundo\n"
          ]
        }
      ]
    },
    {
      "cell_type": "code",
      "source": [
        "# O que são variáveis?\n",
        "\n",
        "# O sinal de  \"igual\" (=) a partir de agora é \"recebe\"\n",
        "\n",
        "variavel = \"rogerio\" "
      ],
      "metadata": {
        "id": "gE8mkYy8OEr-"
      },
      "execution_count": null,
      "outputs": []
    },
    {
      "cell_type": "code",
      "source": [
        "# Tipos básicos de variávies"
      ],
      "metadata": {
        "id": "8atRadi1CnuV"
      },
      "execution_count": null,
      "outputs": []
    },
    {
      "cell_type": "code",
      "source": [
        "print(variavel)\n",
        "print(1)\n",
        "print(\"1\")"
      ],
      "metadata": {
        "colab": {
          "base_uri": "https://localhost:8080/"
        },
        "id": "pSt9LoXt-PlC",
        "outputId": "f159fca3-f725-4fe0-b41f-4cfa9d52261f"
      },
      "execution_count": null,
      "outputs": [
        {
          "output_type": "stream",
          "name": "stdout",
          "text": [
            "rogerio\n",
            "1\n",
            "1\n"
          ]
        }
      ]
    },
    {
      "cell_type": "code",
      "source": [
        "# número float\n",
        "0.5 "
      ],
      "metadata": {
        "colab": {
          "base_uri": "https://localhost:8080/"
        },
        "id": "p8HHseet-PiL",
        "outputId": "36cba647-9217-4fce-e8be-c3702d540099"
      },
      "execution_count": null,
      "outputs": [
        {
          "output_type": "execute_result",
          "data": {
            "text/plain": [
              "0.5"
            ]
          },
          "metadata": {},
          "execution_count": 16
        }
      ]
    },
    {
      "cell_type": "code",
      "source": [
        "print(1)\n",
        "print(2)\n",
        "print(3)\n",
        "print(4)"
      ],
      "metadata": {
        "colab": {
          "base_uri": "https://localhost:8080/"
        },
        "id": "4kcns7pN-PaV",
        "outputId": "0ea82272-9f47-4f94-d2f9-8a37b58129a9"
      },
      "execution_count": null,
      "outputs": [
        {
          "output_type": "stream",
          "name": "stdout",
          "text": [
            "1\n",
            "2\n",
            "3\n",
            "4\n"
          ]
        }
      ]
    },
    {
      "cell_type": "code",
      "source": [
        "# Número inteiro\n",
        "# int \n",
        "4"
      ],
      "metadata": {
        "colab": {
          "base_uri": "https://localhost:8080/"
        },
        "id": "ariQbH46AabE",
        "outputId": "fd7aa278-aaa1-46d7-db8e-a45fcbd0eb22"
      },
      "execution_count": null,
      "outputs": [
        {
          "output_type": "execute_result",
          "data": {
            "text/plain": [
              "4"
            ]
          },
          "metadata": {},
          "execution_count": 19
        }
      ]
    },
    {
      "cell_type": "code",
      "source": [
        "# Número float \n",
        "# float \n",
        "0.6"
      ],
      "metadata": {
        "colab": {
          "base_uri": "https://localhost:8080/"
        },
        "id": "K5hi30fpAaU5",
        "outputId": "98765476-b8ae-4fd6-9e83-cb2dda447002"
      },
      "execution_count": null,
      "outputs": [
        {
          "output_type": "execute_result",
          "data": {
            "text/plain": [
              "0.6"
            ]
          },
          "metadata": {},
          "execution_count": 20
        }
      ]
    },
    {
      "cell_type": "code",
      "source": [
        "# texto\n",
        "# string\n",
        "\"hello world\""
      ],
      "metadata": {
        "colab": {
          "base_uri": "https://localhost:8080/",
          "height": 35
        },
        "id": "u1hWLrC2AaR3",
        "outputId": "666113a3-9b17-4229-ac67-4988f2006aa4"
      },
      "execution_count": null,
      "outputs": [
        {
          "output_type": "execute_result",
          "data": {
            "text/plain": [
              "'hello world'"
            ],
            "application/vnd.google.colaboratory.intrinsic+json": {
              "type": "string"
            }
          },
          "metadata": {},
          "execution_count": 21
        }
      ]
    },
    {
      "cell_type": "code",
      "source": [
        "'hello world'"
      ],
      "metadata": {
        "colab": {
          "base_uri": "https://localhost:8080/",
          "height": 35
        },
        "id": "oWJfrxnkA2jk",
        "outputId": "52089d62-2060-4995-f15f-314739b950a2"
      },
      "execution_count": null,
      "outputs": [
        {
          "output_type": "execute_result",
          "data": {
            "text/plain": [
              "'hello world'"
            ],
            "application/vnd.google.colaboratory.intrinsic+json": {
              "type": "string"
            }
          },
          "metadata": {},
          "execution_count": 23
        }
      ]
    },
    {
      "cell_type": "code",
      "source": [
        "# Variável do tipo lógica\n",
        "# booleana \n",
        "True"
      ],
      "metadata": {
        "colab": {
          "base_uri": "https://localhost:8080/"
        },
        "id": "MyPnbBfqA2gV",
        "outputId": "4b16a9be-639b-4162-aa69-dabf96c49a34"
      },
      "execution_count": null,
      "outputs": [
        {
          "output_type": "execute_result",
          "data": {
            "text/plain": [
              "True"
            ]
          },
          "metadata": {},
          "execution_count": 25
        }
      ]
    },
    {
      "cell_type": "code",
      "source": [
        "False"
      ],
      "metadata": {
        "colab": {
          "base_uri": "https://localhost:8080/"
        },
        "id": "EvrgpfCUA2eG",
        "outputId": "5a0f7cba-db3e-48e2-b233-1bc3de7b910d"
      },
      "execution_count": null,
      "outputs": [
        {
          "output_type": "execute_result",
          "data": {
            "text/plain": [
              "False"
            ]
          },
          "metadata": {},
          "execution_count": 26
        }
      ]
    },
    {
      "cell_type": "code",
      "source": [
        "# isso não é booleano\n",
        "\"true\"\n",
        "\"True\""
      ],
      "metadata": {
        "colab": {
          "base_uri": "https://localhost:8080/",
          "height": 35
        },
        "id": "TiL97kpfA2bD",
        "outputId": "a5c393a3-ff0d-419d-a1cb-ef14b611fd08"
      },
      "execution_count": null,
      "outputs": [
        {
          "output_type": "execute_result",
          "data": {
            "text/plain": [
              "'True'"
            ],
            "application/vnd.google.colaboratory.intrinsic+json": {
              "type": "string"
            }
          },
          "metadata": {},
          "execution_count": 29
        }
      ]
    },
    {
      "cell_type": "code",
      "source": [
        "variavel = 1"
      ],
      "metadata": {
        "id": "VsUdDBqHA2YV"
      },
      "execution_count": null,
      "outputs": []
    },
    {
      "cell_type": "code",
      "source": [
        "type(variavel)"
      ],
      "metadata": {
        "colab": {
          "base_uri": "https://localhost:8080/"
        },
        "id": "MXAZ_k4CA2O-",
        "outputId": "b2410730-53b9-4ca6-c30d-832809dc57a6"
      },
      "execution_count": null,
      "outputs": [
        {
          "output_type": "execute_result",
          "data": {
            "text/plain": [
              "int"
            ]
          },
          "metadata": {},
          "execution_count": 36
        }
      ]
    },
    {
      "cell_type": "code",
      "source": [
        "variavel = \"carlos\""
      ],
      "metadata": {
        "id": "5AMCDh-fOHrR"
      },
      "execution_count": null,
      "outputs": []
    },
    {
      "cell_type": "code",
      "source": [
        "type(variavel)"
      ],
      "metadata": {
        "colab": {
          "base_uri": "https://localhost:8080/"
        },
        "id": "VImjusFhC9Ea",
        "outputId": "2a20344e-8173-4438-ddb7-1ea097043c00"
      },
      "execution_count": null,
      "outputs": [
        {
          "output_type": "execute_result",
          "data": {
            "text/plain": [
              "str"
            ]
          },
          "metadata": {},
          "execution_count": 38
        }
      ]
    },
    {
      "cell_type": "code",
      "source": [
        "variavel = 0.5"
      ],
      "metadata": {
        "id": "H6g1-h4PC9JS"
      },
      "execution_count": null,
      "outputs": []
    },
    {
      "cell_type": "code",
      "source": [
        "type(variavel)"
      ],
      "metadata": {
        "colab": {
          "base_uri": "https://localhost:8080/"
        },
        "id": "EC0g3mmlDAPE",
        "outputId": "7cd582a3-aaa6-4d98-b14f-30d07029626c"
      },
      "execution_count": null,
      "outputs": [
        {
          "output_type": "execute_result",
          "data": {
            "text/plain": [
              "float"
            ]
          },
          "metadata": {},
          "execution_count": 40
        }
      ]
    },
    {
      "cell_type": "code",
      "source": [
        "1e-1 # 10^(-1)"
      ],
      "metadata": {
        "colab": {
          "base_uri": "https://localhost:8080/"
        },
        "id": "WKQbTyZIDASQ",
        "outputId": "70c43f72-93a9-445d-b6ec-8bd8f854bb42"
      },
      "execution_count": null,
      "outputs": [
        {
          "output_type": "execute_result",
          "data": {
            "text/plain": [
              "0.1"
            ]
          },
          "metadata": {},
          "execution_count": 42
        }
      ]
    },
    {
      "cell_type": "code",
      "source": [
        "1e-4"
      ],
      "metadata": {
        "colab": {
          "base_uri": "https://localhost:8080/"
        },
        "id": "K2k2YTxCDAT3",
        "outputId": "ebfc01d4-205d-4930-c660-2b99bc38f84f"
      },
      "execution_count": null,
      "outputs": [
        {
          "output_type": "execute_result",
          "data": {
            "text/plain": [
              "0.0001"
            ]
          },
          "metadata": {},
          "execution_count": 43
        }
      ]
    },
    {
      "cell_type": "code",
      "source": [
        "# Brincando com Input e Output"
      ],
      "metadata": {
        "id": "-pC92OleDkoY"
      },
      "execution_count": null,
      "outputs": []
    },
    {
      "cell_type": "code",
      "source": [
        "seu_nome = \"halfkjsdh\""
      ],
      "metadata": {
        "id": "rAgb0ukzDkkw"
      },
      "execution_count": null,
      "outputs": []
    },
    {
      "cell_type": "code",
      "source": [
        "print(\"Meu nome é: \", seu_nome)"
      ],
      "metadata": {
        "colab": {
          "base_uri": "https://localhost:8080/"
        },
        "id": "uIiysdR3Dkdo",
        "outputId": "1bccac21-a49c-43fd-ace3-71bb4e9ccaa0"
      },
      "execution_count": null,
      "outputs": [
        {
          "output_type": "stream",
          "name": "stdout",
          "text": [
            "Meu nome é:  halfkjsdh\n"
          ]
        }
      ]
    },
    {
      "cell_type": "code",
      "source": [
        "seu_nome = input(\"Digite seu nome: \")\n",
        "\n",
        "print(\"Seu nome é: \", seu_nome)"
      ],
      "metadata": {
        "id": "ERscrgECONJe",
        "colab": {
          "base_uri": "https://localhost:8080/"
        },
        "outputId": "f4475a08-86a9-4043-e62b-dedd3894716f"
      },
      "execution_count": null,
      "outputs": [
        {
          "output_type": "stream",
          "name": "stdout",
          "text": [
            "Digite seu nome: valeria\n",
            "Seu nome é:  valeria\n"
          ]
        }
      ]
    },
    {
      "cell_type": "code",
      "source": [
        "# Para função input, tudo é texto\n",
        "numero = input(\"digite um número: \")"
      ],
      "metadata": {
        "colab": {
          "base_uri": "https://localhost:8080/"
        },
        "id": "WKIxQyHNEHOp",
        "outputId": "be7a3484-9290-4b8a-ed32-b30ac701a983"
      },
      "execution_count": null,
      "outputs": [
        {
          "name": "stdout",
          "output_type": "stream",
          "text": [
            "digite um número: \n"
          ]
        }
      ]
    },
    {
      "cell_type": "code",
      "source": [
        "print(numero)"
      ],
      "metadata": {
        "colab": {
          "base_uri": "https://localhost:8080/"
        },
        "id": "1u5QahmUEHSv",
        "outputId": "7b079ad6-9137-455e-c571-f6f1ac67f4fb"
      },
      "execution_count": null,
      "outputs": [
        {
          "output_type": "stream",
          "name": "stdout",
          "text": [
            "\n"
          ]
        }
      ]
    },
    {
      "cell_type": "code",
      "source": [
        "type(numero)"
      ],
      "metadata": {
        "colab": {
          "base_uri": "https://localhost:8080/"
        },
        "id": "LXGCP59VEFYX",
        "outputId": "06cae817-ab2e-4a80-a0d1-7d04a9a81e26"
      },
      "execution_count": null,
      "outputs": [
        {
          "output_type": "execute_result",
          "data": {
            "text/plain": [
              "str"
            ]
          },
          "metadata": {},
          "execution_count": 55
        }
      ]
    },
    {
      "cell_type": "code",
      "source": [
        "a = int(\"1\")"
      ],
      "metadata": {
        "id": "egpLXWc6EFbI"
      },
      "execution_count": null,
      "outputs": []
    },
    {
      "cell_type": "code",
      "source": [
        "type(a)"
      ],
      "metadata": {
        "colab": {
          "base_uri": "https://localhost:8080/"
        },
        "id": "I6wK5OEPEFcp",
        "outputId": "80034a62-2945-40ff-95ca-c40fc14879fc"
      },
      "execution_count": null,
      "outputs": [
        {
          "output_type": "execute_result",
          "data": {
            "text/plain": [
              "int"
            ]
          },
          "metadata": {},
          "execution_count": 59
        }
      ]
    },
    {
      "cell_type": "code",
      "source": [
        "int(\"frase\")"
      ],
      "metadata": {
        "colab": {
          "base_uri": "https://localhost:8080/",
          "height": 166
        },
        "id": "9nKSq3diEFel",
        "outputId": "c046d6c2-6598-4f64-9ca2-edafc850c926"
      },
      "execution_count": null,
      "outputs": [
        {
          "output_type": "error",
          "ename": "ValueError",
          "evalue": "ignored",
          "traceback": [
            "\u001b[0;31m---------------------------------------------------------------------------\u001b[0m",
            "\u001b[0;31mValueError\u001b[0m                                Traceback (most recent call last)",
            "\u001b[0;32m<ipython-input-60-ce1fac726886>\u001b[0m in \u001b[0;36m<module>\u001b[0;34m\u001b[0m\n\u001b[0;32m----> 1\u001b[0;31m \u001b[0mint\u001b[0m\u001b[0;34m(\u001b[0m\u001b[0;34m\"frase\"\u001b[0m\u001b[0;34m)\u001b[0m\u001b[0;34m\u001b[0m\u001b[0;34m\u001b[0m\u001b[0m\n\u001b[0m",
            "\u001b[0;31mValueError\u001b[0m: invalid literal for int() with base 10: 'frase'"
          ]
        }
      ]
    },
    {
      "cell_type": "code",
      "source": [
        "float(\"0.5\")"
      ],
      "metadata": {
        "colab": {
          "base_uri": "https://localhost:8080/"
        },
        "id": "d08424p4EFge",
        "outputId": "ea80a684-b704-47e6-f7bf-29965496cdfb"
      },
      "execution_count": null,
      "outputs": [
        {
          "output_type": "execute_result",
          "data": {
            "text/plain": [
              "0.5"
            ]
          },
          "metadata": {},
          "execution_count": 65
        }
      ]
    },
    {
      "cell_type": "code",
      "source": [
        "type(1.0)"
      ],
      "metadata": {
        "colab": {
          "base_uri": "https://localhost:8080/"
        },
        "id": "u3QF_d6sFYxs",
        "outputId": "957e379b-3a4a-4336-f4ab-9bd86d7928e5"
      },
      "execution_count": null,
      "outputs": [
        {
          "output_type": "execute_result",
          "data": {
            "text/plain": [
              "float"
            ]
          },
          "metadata": {},
          "execution_count": 67
        }
      ]
    },
    {
      "cell_type": "code",
      "source": [
        "int(1.0)"
      ],
      "metadata": {
        "colab": {
          "base_uri": "https://localhost:8080/"
        },
        "id": "k46eoBspFY0J",
        "outputId": "8526f6f6-c216-46e3-9e5e-fa4299849c1e"
      },
      "execution_count": null,
      "outputs": [
        {
          "output_type": "execute_result",
          "data": {
            "text/plain": [
              "1"
            ]
          },
          "metadata": {},
          "execution_count": 68
        }
      ]
    },
    {
      "cell_type": "code",
      "source": [
        "int(1.6)"
      ],
      "metadata": {
        "colab": {
          "base_uri": "https://localhost:8080/"
        },
        "id": "NMy2-mAqFY26",
        "outputId": "e8a2d232-b50e-410a-d113-b3037200bf40"
      },
      "execution_count": null,
      "outputs": [
        {
          "output_type": "execute_result",
          "data": {
            "text/plain": [
              "1"
            ]
          },
          "metadata": {},
          "execution_count": 69
        }
      ]
    },
    {
      "cell_type": "code",
      "source": [
        "int(1.2)"
      ],
      "metadata": {
        "colab": {
          "base_uri": "https://localhost:8080/"
        },
        "id": "_n2WoUMzFY6d",
        "outputId": "44e23ff8-a49d-447a-b34d-39399f303b5b"
      },
      "execution_count": null,
      "outputs": [
        {
          "output_type": "execute_result",
          "data": {
            "text/plain": [
              "1"
            ]
          },
          "metadata": {},
          "execution_count": 70
        }
      ]
    },
    {
      "cell_type": "code",
      "source": [
        "\"1\""
      ],
      "metadata": {
        "colab": {
          "base_uri": "https://localhost:8080/",
          "height": 35
        },
        "id": "791zvOUTFY8H",
        "outputId": "019eee4b-75ac-4216-fd87-0af3f302de93"
      },
      "execution_count": null,
      "outputs": [
        {
          "output_type": "execute_result",
          "data": {
            "text/plain": [
              "'1'"
            ],
            "application/vnd.google.colaboratory.intrinsic+json": {
              "type": "string"
            }
          },
          "metadata": {},
          "execution_count": 75
        }
      ]
    },
    {
      "cell_type": "code",
      "source": [
        "str(1)"
      ],
      "metadata": {
        "colab": {
          "base_uri": "https://localhost:8080/",
          "height": 35
        },
        "id": "Pu4Kn8EyGfKx",
        "outputId": "9899d575-5f15-4836-9169-be7788dd71fa"
      },
      "execution_count": null,
      "outputs": [
        {
          "output_type": "execute_result",
          "data": {
            "text/plain": [
              "'1'"
            ],
            "application/vnd.google.colaboratory.intrinsic+json": {
              "type": "string"
            }
          },
          "metadata": {},
          "execution_count": 76
        }
      ]
    },
    {
      "cell_type": "code",
      "source": [
        "# Coerção de tipos "
      ],
      "metadata": {
        "id": "QFMwIZGkGfNK"
      },
      "execution_count": null,
      "outputs": []
    },
    {
      "cell_type": "code",
      "source": [
        "numero = int(input(\"Digite um núemero: \"))"
      ],
      "metadata": {
        "colab": {
          "base_uri": "https://localhost:8080/"
        },
        "id": "0lifhGWILEJw",
        "outputId": "3b70e0e0-02fb-43fb-a6c5-862c4823d9c4"
      },
      "execution_count": null,
      "outputs": [
        {
          "name": "stdout",
          "output_type": "stream",
          "text": [
            "Digite um núemero: 12343\n"
          ]
        }
      ]
    },
    {
      "cell_type": "code",
      "source": [
        "print(numero)"
      ],
      "metadata": {
        "colab": {
          "base_uri": "https://localhost:8080/"
        },
        "id": "vvh2vLRPLEMw",
        "outputId": "7ff49652-9523-4fdc-e595-fb319c484d79"
      },
      "execution_count": null,
      "outputs": [
        {
          "output_type": "stream",
          "name": "stdout",
          "text": [
            "12343\n"
          ]
        }
      ]
    },
    {
      "cell_type": "code",
      "source": [
        "valor_real = float(input(\"Digite um número real: \"))"
      ],
      "metadata": {
        "colab": {
          "base_uri": "https://localhost:8080/"
        },
        "id": "h-zGyD7YLEPk",
        "outputId": "53c11b85-6786-4168-e7da-a5750889b42b"
      },
      "execution_count": null,
      "outputs": [
        {
          "name": "stdout",
          "output_type": "stream",
          "text": [
            "Digite um número real: 1.2\n"
          ]
        }
      ]
    },
    {
      "cell_type": "code",
      "source": [],
      "metadata": {
        "id": "dDZCnKq2LER9"
      },
      "execution_count": null,
      "outputs": []
    },
    {
      "cell_type": "code",
      "source": [],
      "metadata": {
        "id": "9daiykQ2OP7X"
      },
      "execution_count": null,
      "outputs": []
    },
    {
      "cell_type": "code",
      "source": [
        "# Operadores algébricos (matemática)"
      ],
      "metadata": {
        "id": "foSBlVT3OSS2"
      },
      "execution_count": null,
      "outputs": []
    },
    {
      "cell_type": "code",
      "source": [
        "\"2\" + \"2\""
      ],
      "metadata": {
        "colab": {
          "base_uri": "https://localhost:8080/",
          "height": 35
        },
        "id": "uIkAzrF3NX4x",
        "outputId": "baf6a1ee-8d69-4b6d-cce0-baa71337b956"
      },
      "execution_count": null,
      "outputs": [
        {
          "output_type": "execute_result",
          "data": {
            "text/plain": [
              "'22'"
            ],
            "application/vnd.google.colaboratory.intrinsic+json": {
              "type": "string"
            }
          },
          "metadata": {},
          "execution_count": 92
        }
      ]
    },
    {
      "cell_type": "code",
      "source": [
        "\"r\" + \"o\" + \"g\""
      ],
      "metadata": {
        "colab": {
          "base_uri": "https://localhost:8080/",
          "height": 35
        },
        "id": "qy621dRSNX7t",
        "outputId": "0e389c10-d16c-4eed-fee1-023a372a5eed"
      },
      "execution_count": null,
      "outputs": [
        {
          "output_type": "execute_result",
          "data": {
            "text/plain": [
              "'rog'"
            ],
            "application/vnd.google.colaboratory.intrinsic+json": {
              "type": "string"
            }
          },
          "metadata": {},
          "execution_count": 93
        }
      ]
    },
    {
      "cell_type": "code",
      "source": [
        "print(2 + 2)"
      ],
      "metadata": {
        "colab": {
          "base_uri": "https://localhost:8080/"
        },
        "id": "W9MXCdG9NX-u",
        "outputId": "5b76435f-b456-4ee4-f2b2-ead1dcb2177a"
      },
      "execution_count": null,
      "outputs": [
        {
          "output_type": "stream",
          "name": "stdout",
          "text": [
            "4\n"
          ]
        }
      ]
    },
    {
      "cell_type": "code",
      "source": [
        "3 - 1 #subtração"
      ],
      "metadata": {
        "colab": {
          "base_uri": "https://localhost:8080/"
        },
        "id": "TVnsl-IaNyX1",
        "outputId": "ef58b271-4b27-4fca-b0bb-8aa0ef884209"
      },
      "execution_count": null,
      "outputs": [
        {
          "output_type": "execute_result",
          "data": {
            "text/plain": [
              "2"
            ]
          },
          "metadata": {},
          "execution_count": 102
        }
      ]
    },
    {
      "cell_type": "code",
      "source": [
        "-1 + 0 # soma"
      ],
      "metadata": {
        "colab": {
          "base_uri": "https://localhost:8080/"
        },
        "id": "LaPf1JIzNyfu",
        "outputId": "e35fd6ee-0f8b-4d32-e554-1a85c4167d21"
      },
      "execution_count": null,
      "outputs": [
        {
          "output_type": "execute_result",
          "data": {
            "text/plain": [
              "-1"
            ]
          },
          "metadata": {},
          "execution_count": 101
        }
      ]
    },
    {
      "cell_type": "code",
      "source": [
        "4 / 2 # divisão"
      ],
      "metadata": {
        "colab": {
          "base_uri": "https://localhost:8080/"
        },
        "id": "MWVsDl3JNyi1",
        "outputId": "0de06630-ac06-4aa8-c351-9ee3e3dd5a15"
      },
      "execution_count": null,
      "outputs": [
        {
          "output_type": "execute_result",
          "data": {
            "text/plain": [
              "2.0"
            ]
          },
          "metadata": {},
          "execution_count": 103
        }
      ]
    },
    {
      "cell_type": "code",
      "source": [
        "5/6 # divisão"
      ],
      "metadata": {
        "colab": {
          "base_uri": "https://localhost:8080/"
        },
        "id": "OflqNDTuNYBW",
        "outputId": "04a19deb-8a33-4dad-8df0-e9a9f8ba9ef8"
      },
      "execution_count": null,
      "outputs": [
        {
          "output_type": "execute_result",
          "data": {
            "text/plain": [
              "0.8333333333333334"
            ]
          },
          "metadata": {},
          "execution_count": 104
        }
      ]
    },
    {
      "cell_type": "code",
      "source": [
        "7 * 8 # multiplicacao"
      ],
      "metadata": {
        "colab": {
          "base_uri": "https://localhost:8080/"
        },
        "id": "lRlqfQPLNYDL",
        "outputId": "da449247-d92f-4999-9f96-ce0133e86b52"
      },
      "execution_count": null,
      "outputs": [
        {
          "output_type": "execute_result",
          "data": {
            "text/plain": [
              "56"
            ]
          },
          "metadata": {},
          "execution_count": 105
        }
      ]
    },
    {
      "cell_type": "code",
      "source": [
        "2**3 # 2 elevado a 3"
      ],
      "metadata": {
        "colab": {
          "base_uri": "https://localhost:8080/"
        },
        "id": "nohN8FemOWd9",
        "outputId": "62a54656-00af-4cfa-e197-977cff8f2ebb"
      },
      "execution_count": null,
      "outputs": [
        {
          "output_type": "execute_result",
          "data": {
            "text/plain": [
              "8"
            ]
          },
          "metadata": {},
          "execution_count": 106
        }
      ]
    },
    {
      "cell_type": "code",
      "source": [
        "round(1.3434, 2)"
      ],
      "metadata": {
        "colab": {
          "base_uri": "https://localhost:8080/"
        },
        "id": "75Nz4gXsOWkm",
        "outputId": "3bd5e06e-da49-4bd6-8b1b-b9b5d2e33dd0"
      },
      "execution_count": null,
      "outputs": [
        {
          "output_type": "execute_result",
          "data": {
            "text/plain": [
              "1.34"
            ]
          },
          "metadata": {},
          "execution_count": 109
        }
      ]
    },
    {
      "cell_type": "code",
      "source": [
        "round(5/6, 4)"
      ],
      "metadata": {
        "colab": {
          "base_uri": "https://localhost:8080/"
        },
        "id": "Hbq30Wl3OWnJ",
        "outputId": "5bfcbd2c-2f57-464f-b4f5-9b37cba1f7c5"
      },
      "execution_count": null,
      "outputs": [
        {
          "output_type": "execute_result",
          "data": {
            "text/plain": [
              "0.8333"
            ]
          },
          "metadata": {},
          "execution_count": 110
        }
      ]
    },
    {
      "cell_type": "code",
      "source": [
        "5 / 2"
      ],
      "metadata": {
        "colab": {
          "base_uri": "https://localhost:8080/"
        },
        "id": "jTM1Qk68Pgc0",
        "outputId": "dd622b03-1e17-4d0b-d1d4-a410ee404347"
      },
      "execution_count": null,
      "outputs": [
        {
          "output_type": "execute_result",
          "data": {
            "text/plain": [
              "2.5"
            ]
          },
          "metadata": {},
          "execution_count": 111
        }
      ]
    },
    {
      "cell_type": "code",
      "source": [
        "# Divisão inteira, onde olhamos apenas para o coeficiente"
      ],
      "metadata": {
        "id": "k8Q2CabvP2q2"
      },
      "execution_count": null,
      "outputs": []
    },
    {
      "cell_type": "code",
      "source": [
        "5 // 2 "
      ],
      "metadata": {
        "colab": {
          "base_uri": "https://localhost:8080/"
        },
        "id": "UyMovPd0Pgap",
        "outputId": "8282f408-29f2-408c-ea3a-8bc93339a59d"
      },
      "execution_count": null,
      "outputs": [
        {
          "output_type": "execute_result",
          "data": {
            "text/plain": [
              "2"
            ]
          },
          "metadata": {},
          "execution_count": 112
        }
      ]
    },
    {
      "cell_type": "code",
      "source": [
        "11 // 2"
      ],
      "metadata": {
        "colab": {
          "base_uri": "https://localhost:8080/"
        },
        "id": "yIEX9nK9PgYH",
        "outputId": "688add34-5e9f-48b9-cb93-c98883f546bd"
      },
      "execution_count": null,
      "outputs": [
        {
          "output_type": "execute_result",
          "data": {
            "text/plain": [
              "5"
            ]
          },
          "metadata": {},
          "execution_count": 113
        }
      ]
    },
    {
      "cell_type": "code",
      "source": [
        "# É possivel olhar só para o resto (aritmética modular)"
      ],
      "metadata": {
        "id": "rOB9qUIqPgVs"
      },
      "execution_count": null,
      "outputs": []
    },
    {
      "cell_type": "code",
      "source": [
        "5%2"
      ],
      "metadata": {
        "colab": {
          "base_uri": "https://localhost:8080/"
        },
        "id": "ep-YKq25PgTh",
        "outputId": "059b80fd-20f2-4ac8-fa64-caacf3184fb9"
      },
      "execution_count": null,
      "outputs": [
        {
          "output_type": "execute_result",
          "data": {
            "text/plain": [
              "1"
            ]
          },
          "metadata": {},
          "execution_count": 116
        }
      ]
    },
    {
      "cell_type": "code",
      "source": [
        "11%2"
      ],
      "metadata": {
        "colab": {
          "base_uri": "https://localhost:8080/"
        },
        "id": "ULyVhSfWPgKV",
        "outputId": "138b1cb8-156b-4c74-d932-1dc09b61f099"
      },
      "execution_count": null,
      "outputs": [
        {
          "output_type": "execute_result",
          "data": {
            "text/plain": [
              "1"
            ]
          },
          "metadata": {},
          "execution_count": 117
        }
      ]
    },
    {
      "cell_type": "code",
      "source": [
        "98698%2"
      ],
      "metadata": {
        "colab": {
          "base_uri": "https://localhost:8080/"
        },
        "id": "dagABv27QS3h",
        "outputId": "85529b9b-80ec-4ecf-8fa8-d991227a1d91"
      },
      "execution_count": null,
      "outputs": [
        {
          "output_type": "execute_result",
          "data": {
            "text/plain": [
              "0"
            ]
          },
          "metadata": {},
          "execution_count": 118
        }
      ]
    },
    {
      "cell_type": "code",
      "source": [
        "157%2"
      ],
      "metadata": {
        "colab": {
          "base_uri": "https://localhost:8080/"
        },
        "id": "t0zK_XgxQSzO",
        "outputId": "cdf09adc-a5a7-4539-e695-e4fb11fb838d"
      },
      "execution_count": null,
      "outputs": [
        {
          "output_type": "execute_result",
          "data": {
            "text/plain": [
              "1"
            ]
          },
          "metadata": {},
          "execution_count": 119
        }
      ]
    },
    {
      "cell_type": "code",
      "source": [
        "(2 + 4) * 3"
      ],
      "metadata": {
        "colab": {
          "base_uri": "https://localhost:8080/"
        },
        "id": "3uNGz2k7QSvV",
        "outputId": "c3fa39a4-3943-4e0a-e6ba-3cee49d29393"
      },
      "execution_count": null,
      "outputs": [
        {
          "output_type": "execute_result",
          "data": {
            "text/plain": [
              "18"
            ]
          },
          "metadata": {},
          "execution_count": 121
        }
      ]
    },
    {
      "cell_type": "markdown",
      "source": [
        "# Ordem das operações matemáticas\n",
        "\n",
        "1. Potências\n",
        "2. Multiplicação / divisão\n",
        "3. Soma / Subtração\n",
        "\n",
        "Não existe \"parenteses > colchetes > chaves\". Só usamos parenteses"
      ],
      "metadata": {
        "id": "0-Iy-7NFQjoq"
      }
    },
    {
      "cell_type": "code",
      "source": [],
      "metadata": {
        "id": "K54O0sn_OWYn"
      },
      "execution_count": null,
      "outputs": []
    },
    {
      "cell_type": "code",
      "source": [
        "(((2 + 3)**8) / 7 ) + 1"
      ],
      "metadata": {
        "colab": {
          "base_uri": "https://localhost:8080/"
        },
        "id": "zIHUCsT9QtOA",
        "outputId": "e2ed0b85-9bba-4deb-fec5-f373aa6e3d94"
      },
      "execution_count": null,
      "outputs": [
        {
          "output_type": "execute_result",
          "data": {
            "text/plain": [
              "55804.57142857143"
            ]
          },
          "metadata": {},
          "execution_count": 122
        }
      ]
    },
    {
      "cell_type": "code",
      "source": [
        "(1 + 5) / 3 "
      ],
      "metadata": {
        "colab": {
          "base_uri": "https://localhost:8080/"
        },
        "id": "UEu27YEVQtE_",
        "outputId": "93c121d7-bdb0-4a88-b86e-d6e3dc07e2c2"
      },
      "execution_count": null,
      "outputs": [
        {
          "output_type": "execute_result",
          "data": {
            "text/plain": [
              "2.0"
            ]
          },
          "metadata": {},
          "execution_count": 124
        }
      ]
    },
    {
      "cell_type": "code",
      "source": [
        "# Operadores Lógicos"
      ],
      "metadata": {
        "id": "aJUVP630QtBC"
      },
      "execution_count": null,
      "outputs": []
    },
    {
      "cell_type": "code",
      "source": [
        "not (not (3 > 2))"
      ],
      "metadata": {
        "colab": {
          "base_uri": "https://localhost:8080/"
        },
        "id": "o3kQ0wsCSfDz",
        "outputId": "9b5367be-bc15-40d1-cf02-5fe57506fd55"
      },
      "execution_count": null,
      "outputs": [
        {
          "output_type": "execute_result",
          "data": {
            "text/plain": [
              "True"
            ]
          },
          "metadata": {},
          "execution_count": 140
        }
      ]
    },
    {
      "cell_type": "code",
      "source": [
        "3 < 2"
      ],
      "metadata": {
        "colab": {
          "base_uri": "https://localhost:8080/"
        },
        "id": "iQNuXdlzSfBO",
        "outputId": "922e9d5b-48f1-4d7a-861e-c7a70af131c8"
      },
      "execution_count": null,
      "outputs": [
        {
          "output_type": "execute_result",
          "data": {
            "text/plain": [
              "False"
            ]
          },
          "metadata": {},
          "execution_count": 126
        }
      ]
    },
    {
      "cell_type": "code",
      "source": [
        "5 >= 7"
      ],
      "metadata": {
        "colab": {
          "base_uri": "https://localhost:8080/"
        },
        "id": "GPBR9xeqSe9t",
        "outputId": "7a799b8d-8c2e-4024-eec0-bacc1f4d4a25"
      },
      "execution_count": null,
      "outputs": [
        {
          "output_type": "execute_result",
          "data": {
            "text/plain": [
              "False"
            ]
          },
          "metadata": {},
          "execution_count": 127
        }
      ]
    },
    {
      "cell_type": "code",
      "source": [
        "6 <= 60"
      ],
      "metadata": {
        "colab": {
          "base_uri": "https://localhost:8080/"
        },
        "id": "1_i5t7OXSe7W",
        "outputId": "cce3b3d7-6d11-4ae4-a21e-ae8b9bd00cff"
      },
      "execution_count": null,
      "outputs": [
        {
          "output_type": "execute_result",
          "data": {
            "text/plain": [
              "True"
            ]
          },
          "metadata": {},
          "execution_count": 128
        }
      ]
    },
    {
      "cell_type": "code",
      "source": [
        "2 == 2"
      ],
      "metadata": {
        "colab": {
          "base_uri": "https://localhost:8080/"
        },
        "id": "B0DeNuJpSe4q",
        "outputId": "b77c2939-c14a-41e9-b5b6-41593957e936"
      },
      "execution_count": null,
      "outputs": [
        {
          "output_type": "execute_result",
          "data": {
            "text/plain": [
              "True"
            ]
          },
          "metadata": {},
          "execution_count": 130
        }
      ]
    },
    {
      "cell_type": "code",
      "source": [
        "3 == 3"
      ],
      "metadata": {
        "colab": {
          "base_uri": "https://localhost:8080/"
        },
        "id": "RMkTMLONQs9H",
        "outputId": "fa1d3a02-51e6-435d-993a-aee9ce38ad43"
      },
      "execution_count": null,
      "outputs": [
        {
          "output_type": "execute_result",
          "data": {
            "text/plain": [
              "True"
            ]
          },
          "metadata": {},
          "execution_count": 131
        }
      ]
    },
    {
      "cell_type": "code",
      "source": [
        " 3 != 2"
      ],
      "metadata": {
        "colab": {
          "base_uri": "https://localhost:8080/"
        },
        "id": "EB-YJOQSQs5N",
        "outputId": "ba30a497-0e82-418f-a668-f419237ab6f6"
      },
      "execution_count": null,
      "outputs": [
        {
          "output_type": "execute_result",
          "data": {
            "text/plain": [
              "True"
            ]
          },
          "metadata": {},
          "execution_count": 133
        }
      ]
    },
    {
      "cell_type": "code",
      "source": [
        "3 == 3"
      ],
      "metadata": {
        "colab": {
          "base_uri": "https://localhost:8080/"
        },
        "id": "v-8Z6VdUTMhZ",
        "outputId": "89368d6f-ebf2-4a85-b7e8-3fbe289924d9"
      },
      "execution_count": null,
      "outputs": [
        {
          "output_type": "execute_result",
          "data": {
            "text/plain": [
              "True"
            ]
          },
          "metadata": {},
          "execution_count": 141
        }
      ]
    },
    {
      "cell_type": "markdown",
      "source": [
        "# Exercício 1:\n",
        "\n",
        "Crie um programa que recebe seu nome e te dê boas vindas!"
      ],
      "metadata": {
        "id": "cj0PfQjQOXx1"
      }
    },
    {
      "cell_type": "code",
      "source": [
        "nome = input(\"Digite seu nome: \")\n",
        "\n",
        "print(\"Bem vindo, \", nome)"
      ],
      "metadata": {
        "colab": {
          "base_uri": "https://localhost:8080/"
        },
        "id": "_E1M1IT6Ue7G",
        "outputId": "ed2f06b9-13dd-429d-aac1-11453e0f3f5c"
      },
      "execution_count": null,
      "outputs": [
        {
          "output_type": "stream",
          "name": "stdout",
          "text": [
            "Digite seu nome: Rogerio\n",
            "Bem vindo,  Rogerio\n"
          ]
        }
      ]
    },
    {
      "cell_type": "markdown",
      "source": [
        "# Exercício 2: \n",
        "\n",
        "Crie um cadastro que recebe nome, telefone e retorna eles em tela ao final."
      ],
      "metadata": {
        "id": "IjORQD6kPVSU"
      }
    },
    {
      "cell_type": "code",
      "source": [
        "nome = input(\"Digite seu nome: \")\n",
        "telefone = input(\"Digite seu telefone: \")\n",
        "\n",
        "print(\" \")\n",
        "print(\" * Seu nome é: \", nome)\n",
        "print(\" * Seu telefone é: \", telefone)"
      ],
      "metadata": {
        "colab": {
          "base_uri": "https://localhost:8080/"
        },
        "id": "y47q87JqXS21",
        "outputId": "6058a9b6-b6e9-4452-acfb-31031935c53e"
      },
      "execution_count": null,
      "outputs": [
        {
          "output_type": "stream",
          "name": "stdout",
          "text": [
            "Digite seu nome: rogerio \n",
            "Digite seu telefone: 9871230-948124\n",
            " \n",
            " * Seu nome é:  rogerio \n",
            " * Seu telefone é:  9871230-948124\n"
          ]
        }
      ]
    },
    {
      "cell_type": "markdown",
      "source": [
        "# Exercício 3:\n",
        "\n",
        "Crie um cadastro que recebe Nome, telefone, email e endereco e peça para conferir as informacoes ao final."
      ],
      "metadata": {
        "id": "u1nWWoa1PwYh"
      }
    },
    {
      "cell_type": "code",
      "source": [
        "print(\" * CADASTRO * \")\n",
        "nome = input(\"NOME: \")\n",
        "telefone = input(\"TELEFONE: \")\n",
        "\n",
        "print(\" * INFORMACOES * \")\n",
        "print(\" * nome: \", nome)\n",
        "print(\" * telefone: \", telefone)\n",
        "\n",
        "input(\"Você conferiu as informacoes? s/n \")"
      ],
      "metadata": {
        "colab": {
          "base_uri": "https://localhost:8080/",
          "height": 157
        },
        "id": "7pcwb99zQBdT",
        "outputId": "68add89d-e388-43e3-82f7-c6b84dc9cdac"
      },
      "execution_count": null,
      "outputs": [
        {
          "name": "stdout",
          "output_type": "stream",
          "text": [
            " * CADASTRO * \n",
            "NOME: rogerio\n",
            "TELEFONE: 9284750984\n",
            " * INFORMACOES * \n",
            " * nome:  rogerio\n",
            " * telefone:  9284750984\n",
            "Você conferiu as informacoes? s/ns\n"
          ]
        },
        {
          "output_type": "execute_result",
          "data": {
            "text/plain": [
              "'s'"
            ],
            "application/vnd.google.colaboratory.intrinsic+json": {
              "type": "string"
            }
          },
          "metadata": {},
          "execution_count": 145
        }
      ]
    },
    {
      "cell_type": "markdown",
      "source": [
        "# Exercício 4:\n",
        "\n",
        "Crie um programa que recebe altura, peso, e retorna o IMC."
      ],
      "metadata": {
        "id": "ZnY1uUwLRMsf"
      }
    },
    {
      "cell_type": "code",
      "source": [
        "# imc igual a peso dividido pelo quadrado da altura"
      ],
      "metadata": {
        "id": "FjO6AqG3TtLA"
      },
      "execution_count": null,
      "outputs": []
    },
    {
      "cell_type": "code",
      "source": [
        "peso = float(input(\"Digite seu peso: \"))\n",
        "altura = float(input(\"Digite sua altura: \"))\n",
        "\n",
        "imc = peso / (altura)**2\n",
        "\n",
        "imc_formatado = round(imc, 2)\n",
        "\n",
        "# print(\"Seu IMC é: \", imc)\n",
        "\n",
        "print(f\"Seu IMC é: {imc_formatado} kg/m^2\")"
      ],
      "metadata": {
        "colab": {
          "base_uri": "https://localhost:8080/"
        },
        "id": "Ihgh4qP4ZY7i",
        "outputId": "0cfe670e-19e4-4bb5-e721-f84b642e6bc9"
      },
      "execution_count": null,
      "outputs": [
        {
          "output_type": "stream",
          "name": "stdout",
          "text": [
            "Digite seu peso: 65\n",
            "Digite sua altura: 1.90\n",
            "Seu IMC é: 18.01 kg/m^2\n"
          ]
        }
      ]
    },
    {
      "cell_type": "markdown",
      "source": [
        "\n",
        "# tipo de variavel \n",
        "## vou ver tipos \n",
        "### kjfhlaskdjfh"
      ],
      "metadata": {
        "id": "BEOXag9Ya90Q"
      }
    },
    {
      "cell_type": "code",
      "source": [],
      "metadata": {
        "id": "TjkDp5DUb4OW"
      },
      "execution_count": null,
      "outputs": []
    }
  ]
}