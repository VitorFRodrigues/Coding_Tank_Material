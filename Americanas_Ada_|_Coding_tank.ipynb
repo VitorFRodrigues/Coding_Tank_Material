{
  "nbformat": 4,
  "nbformat_minor": 0,
  "metadata": {
    "colab": {
      "provenance": [],
      "collapsed_sections": [],
      "include_colab_link": true
    },
    "kernelspec": {
      "name": "python3",
      "display_name": "Python 3"
    },
    "language_info": {
      "name": "python"
    }
  },
  "cells": [
    {
      "cell_type": "markdown",
      "metadata": {
        "id": "view-in-github",
        "colab_type": "text"
      },
      "source": [
        "<a href=\"https://colab.research.google.com/github/VitorFRodrigues/Coding_Tank_Material/blob/main/Americanas_Ada_%7C_Coding_tank.ipynb\" target=\"_parent\"><img src=\"https://colab.research.google.com/assets/colab-badge.svg\" alt=\"Open In Colab\"/></a>"
      ]
    },
    {
      "cell_type": "markdown",
      "source": [
        "# **Bem vindo ao Coding Tank!**\n",
        "\n",
        "# Professores:\n",
        "\n",
        "Professor: Thiago Magalhães.\n",
        "\n",
        "Professor Auxiliar: Raniel mendonça.\n",
        "\n",
        "\n",
        "# Datas importantes: \n",
        "\n",
        "Aulas: 01, 03, 04, 07, 08 e 09 de novembro, das 19h às 22h.\n",
        "\n",
        "Prova prática: 09 de novembro, das 19h às 22h (câmera obrigatoriamente ligada).\n",
        "\n",
        "# Critérios avaliativos e eliminatórios:\n",
        "\n",
        "Prova prática e engajamento no decorrer das aulas (comentários, contribuições, exercícios realizados, ...)"
      ],
      "metadata": {
        "id": "-8J0fUwBQDd2"
      }
    },
    {
      "cell_type": "markdown",
      "source": [
        "# **Introdução**"
      ],
      "metadata": {
        "id": "YDdlQbOIzy4q"
      }
    },
    {
      "cell_type": "markdown",
      "source": [
        "**O que é uma IDE?**"
      ],
      "metadata": {
        "id": "EGUaWb8Pz7pn"
      }
    },
    {
      "cell_type": "markdown",
      "source": [
        "Uma IDE é um ambiente de desenvolvimento, que pode funcionar localmente ou no navegador. Exemplos do primeiro tipo são o Spyder e o VSCode. Exemplos do segundo tipo são o PyCharm e o Colab, que é o que usaremos no curso.\n",
        "Uma IDE é um programa de computador que nós usaremos quando estivermos construindo os nossos próprios programas de computador."
      ],
      "metadata": {
        "id": "ipVU5mrU0gPk"
      }
    },
    {
      "cell_type": "markdown",
      "source": [
        "**O que é um programa de computador?**"
      ],
      "metadata": {
        "id": "bZo97-Ks0j3Z"
      }
    },
    {
      "cell_type": "markdown",
      "source": [
        "É um conjunto de instruções objetivas (passos) em linguagem inteligível pelo computador (como o Python, por exemplo) com o objetivo de atender a um ou mais requisitos (solucionar problemas). Abaixo, temos o mais simples programa de computador:"
      ],
      "metadata": {
        "id": "Q7E6f8ai0kt2"
      }
    },
    {
      "cell_type": "code",
      "source": [
        "print(\"Olá mundo!\")"
      ],
      "metadata": {
        "colab": {
          "base_uri": "https://localhost:8080/"
        },
        "id": "iDBICM531ZGt",
        "outputId": "4fdf74a7-545f-4789-df35-91cd208129ec"
      },
      "execution_count": 4,
      "outputs": [
        {
          "output_type": "stream",
          "name": "stdout",
          "text": [
            "Olá mundo!\n"
          ]
        }
      ]
    },
    {
      "cell_type": "markdown",
      "source": [
        "**Notas para o decorrer do curso:**\n",
        "*   Trabalhemos com Python;\n",
        "*   Usaremos o Google Colab nas aulas;\n",
        "*   O caractere # serve para definir um comentário em Python, isto é, uma anotação no código, que não será executada como parte do nosso algoritmo computacional."
      ],
      "metadata": {
        "id": "6EU-g2ByYkxf"
      }
    },
    {
      "cell_type": "code",
      "source": [
        "# Este é um exemplo de comentário em Python"
      ],
      "metadata": {
        "id": "hHg2QwIKZMvK"
      },
      "execution_count": 5,
      "outputs": []
    },
    {
      "cell_type": "markdown",
      "source": [
        "# **Variáveis**"
      ],
      "metadata": {
        "id": "HjKm_Y7D1TLp"
      }
    },
    {
      "cell_type": "markdown",
      "source": [
        "Variáveis são espaços definidos em memória, que podem armazenar diferentes tipos de dados/informações e que podem ser lidos no decorrer de um programa de computador."
      ],
      "metadata": {
        "id": "CRTWjoJHYGjM"
      }
    },
    {
      "cell_type": "code",
      "source": [
        "# Declarando duas variáveis\n",
        "preco_do_kilo = 80.90\n",
        "peso_do_prato = 0.650"
      ],
      "metadata": {
        "id": "vR1XTBbX0i_I"
      },
      "execution_count": 6,
      "outputs": []
    },
    {
      "cell_type": "markdown",
      "source": [
        "Para vermos o conteúdo de uma variável na tela, basta digitarmos o nome da variável e executarmos essa instrução. O Python nos mostrará o retorno deste comando, que será o próprio conteúdo da variável. Desta forma:"
      ],
      "metadata": {
        "id": "zwisl_ELnCxh"
      }
    },
    {
      "cell_type": "code",
      "source": [
        "preco_do_kilo"
      ],
      "metadata": {
        "colab": {
          "base_uri": "https://localhost:8080/"
        },
        "id": "mS5_8oTm2g2A",
        "outputId": "ab02b9f3-221c-4df2-ce4a-35d0424d6bd0"
      },
      "execution_count": 7,
      "outputs": [
        {
          "output_type": "execute_result",
          "data": {
            "text/plain": [
              "80.9"
            ]
          },
          "metadata": {},
          "execution_count": 7
        }
      ]
    },
    {
      "cell_type": "code",
      "source": [
        "peso_do_prato"
      ],
      "metadata": {
        "colab": {
          "base_uri": "https://localhost:8080/"
        },
        "id": "6cFEqhMo2moQ",
        "outputId": "75398eb1-041d-46c6-ea31-4191efde8265"
      },
      "execution_count": 8,
      "outputs": [
        {
          "output_type": "execute_result",
          "data": {
            "text/plain": [
              "0.65"
            ]
          },
          "metadata": {},
          "execution_count": 8
        }
      ]
    },
    {
      "cell_type": "code",
      "source": [
        "# Desta mesmo forma, também podemos mostrar na tela o resultado de operações das mais simples às mais complexas:\n",
        "preco_do_kilo * peso_do_prato"
      ],
      "metadata": {
        "colab": {
          "base_uri": "https://localhost:8080/"
        },
        "id": "6E6Ah16P3str",
        "outputId": "6acfdbc5-b1d5-471a-d85e-4111982b5759"
      },
      "execution_count": 9,
      "outputs": [
        {
          "output_type": "execute_result",
          "data": {
            "text/plain": [
              "52.58500000000001"
            ]
          },
          "metadata": {},
          "execution_count": 9
        }
      ]
    },
    {
      "cell_type": "markdown",
      "source": [
        "**Sobre nomenclatura de variáveis em Python**\n",
        "*   Não podemos ter espaços em branco no nome de uma variável\n",
        "*   Nomes de variáveis não podem ser iniciadas por números\n",
        "*   O Python diferencia maiúsculos de minúsculos\n",
        "*   Palavras (return, None, True) ou caracteres reservados (. @) não podem ser nomes de variáveis\n",
        "*   Procurar utilizar nomes significativos (que deem uma pista da razão de a variável existir);\n",
        "*   Não é uma boa prática utilizarmos caracteres especiais (; ã á)\n",
        "*   Para quaisquer dúvidas, podemos consultar o PEP8\n",
        "\n"
      ],
      "metadata": {
        "id": "8QgRa9i5nzev"
      }
    },
    {
      "cell_type": "code",
      "source": [
        "# Exemplo de variável com nome começado por número. Retornará erro de execução.\n",
        "2peso_do_prato = 0.680"
      ],
      "metadata": {
        "colab": {
          "base_uri": "https://localhost:8080/",
          "height": 135
        },
        "id": "sCO2CRNv39lH",
        "outputId": "bcb9b10e-1ff2-4acd-84ea-98336c0e4c73"
      },
      "execution_count": 10,
      "outputs": [
        {
          "output_type": "error",
          "ename": "SyntaxError",
          "evalue": "ignored",
          "traceback": [
            "\u001b[0;36m  File \u001b[0;32m\"<ipython-input-10-b599a502fdd2>\"\u001b[0;36m, line \u001b[0;32m2\u001b[0m\n\u001b[0;31m    2peso_do_prato = 0.680\u001b[0m\n\u001b[0m                 ^\u001b[0m\n\u001b[0;31mSyntaxError\u001b[0m\u001b[0;31m:\u001b[0m invalid syntax\n"
          ]
        }
      ]
    },
    {
      "cell_type": "code",
      "source": [
        "# Por outro lado, desde que não ocorra no primeiro caractere, o nome de uma variável pode sim conter números.\n",
        "peso_do_prato2 = 0.680"
      ],
      "metadata": {
        "id": "lN8D1y7yo34-"
      },
      "execution_count": 11,
      "outputs": []
    },
    {
      "cell_type": "code",
      "source": [
        "# Os nomes de variáveis são case sensitive\n",
        "PRATO = 10\n",
        "prato = 5"
      ],
      "metadata": {
        "id": "zR8_9afBpk-P"
      },
      "execution_count": 12,
      "outputs": []
    },
    {
      "cell_type": "code",
      "source": [
        "PRATO"
      ],
      "metadata": {
        "colab": {
          "base_uri": "https://localhost:8080/"
        },
        "id": "-sAl7SIVpnrp",
        "outputId": "cf22a1c2-b157-489f-8c8e-e0453dcc0d1e"
      },
      "execution_count": 13,
      "outputs": [
        {
          "output_type": "execute_result",
          "data": {
            "text/plain": [
              "10"
            ]
          },
          "metadata": {},
          "execution_count": 13
        }
      ]
    },
    {
      "cell_type": "code",
      "source": [
        "prato"
      ],
      "metadata": {
        "colab": {
          "base_uri": "https://localhost:8080/"
        },
        "id": "VD2MfLXyqjm5",
        "outputId": "270621fe-703c-4934-f51e-35068d67938a"
      },
      "execution_count": 14,
      "outputs": [
        {
          "output_type": "execute_result",
          "data": {
            "text/plain": [
              "5"
            ]
          },
          "metadata": {},
          "execution_count": 14
        }
      ]
    },
    {
      "cell_type": "code",
      "source": [
        "# Esta não existe. Portanto teremos um erro como retorno.\n",
        "PraTo"
      ],
      "metadata": {
        "colab": {
          "base_uri": "https://localhost:8080/",
          "height": 190
        },
        "id": "zZBhKBOSqkpA",
        "outputId": "2f97c80a-3605-4f13-fb12-0ad3bbbee8b8"
      },
      "execution_count": 15,
      "outputs": [
        {
          "output_type": "error",
          "ename": "NameError",
          "evalue": "ignored",
          "traceback": [
            "\u001b[0;31m---------------------------------------------------------------------------\u001b[0m",
            "\u001b[0;31mNameError\u001b[0m                                 Traceback (most recent call last)",
            "\u001b[0;32m<ipython-input-15-71eb489969da>\u001b[0m in \u001b[0;36m<module>\u001b[0;34m\u001b[0m\n\u001b[1;32m      1\u001b[0m \u001b[0;31m# Esta não existe. Portanto teremos um erro como retorno.\u001b[0m\u001b[0;34m\u001b[0m\u001b[0;34m\u001b[0m\u001b[0;34m\u001b[0m\u001b[0m\n\u001b[0;32m----> 2\u001b[0;31m \u001b[0mPraTo\u001b[0m\u001b[0;34m\u001b[0m\u001b[0;34m\u001b[0m\u001b[0m\n\u001b[0m",
            "\u001b[0;31mNameError\u001b[0m: name 'PraTo' is not defined"
          ]
        }
      ]
    },
    {
      "cell_type": "code",
      "source": [
        "# Palavras reservadas, como return, False, True, None, dentre outras, não podem ser usadas para nomes de variáveis.\n",
        "return = 500"
      ],
      "metadata": {
        "colab": {
          "base_uri": "https://localhost:8080/",
          "height": 135
        },
        "id": "YPH7KjWHq5Eb",
        "outputId": "007258a6-0ecf-42e3-93ee-3c9a2e62dba8"
      },
      "execution_count": 16,
      "outputs": [
        {
          "output_type": "error",
          "ename": "SyntaxError",
          "evalue": "ignored",
          "traceback": [
            "\u001b[0;36m  File \u001b[0;32m\"<ipython-input-16-b45af611cbd8>\"\u001b[0;36m, line \u001b[0;32m2\u001b[0m\n\u001b[0;31m    return = 500\u001b[0m\n\u001b[0m           ^\u001b[0m\n\u001b[0;31mSyntaxError\u001b[0m\u001b[0;31m:\u001b[0m invalid syntax\n"
          ]
        }
      ]
    },
    {
      "cell_type": "code",
      "source": [
        "# Nós podemos criar variáveis com acentas, cedilhas e alguns outros caracteres especiais.\n",
        "# Mas não é uma boa prática usar caracteres próprios do nosso idioma. Exceto por _ e -, geralmente é melhor não usar caracteres especiais em nomes de variáveis.\n",
        "árvore = 3\n",
        "árvore"
      ],
      "metadata": {
        "colab": {
          "base_uri": "https://localhost:8080/"
        },
        "id": "ahvZHvyHrEh-",
        "outputId": "46f59268-97fa-459f-d8b1-dc3099d14741"
      },
      "execution_count": 17,
      "outputs": [
        {
          "output_type": "execute_result",
          "data": {
            "text/plain": [
              "3"
            ]
          },
          "metadata": {},
          "execution_count": 17
        }
      ]
    },
    {
      "cell_type": "code",
      "source": [
        "# Não podemos usar . nem @ em nomes de variáveis. O # também não pode ser usado, porque denota comentário.\n",
        "peso_do.prato = 10"
      ],
      "metadata": {
        "colab": {
          "base_uri": "https://localhost:8080/",
          "height": 190
        },
        "id": "gvIn7HjlrrtC",
        "outputId": "417822f4-8f7f-40fb-b4b0-fa662da99051"
      },
      "execution_count": 18,
      "outputs": [
        {
          "output_type": "error",
          "ename": "NameError",
          "evalue": "ignored",
          "traceback": [
            "\u001b[0;31m---------------------------------------------------------------------------\u001b[0m",
            "\u001b[0;31mNameError\u001b[0m                                 Traceback (most recent call last)",
            "\u001b[0;32m<ipython-input-18-897ef122f6c4>\u001b[0m in \u001b[0;36m<module>\u001b[0;34m\u001b[0m\n\u001b[1;32m      1\u001b[0m \u001b[0;31m# Não podemos usar . nem @ em nomes de variáveis. O # também não pode ser usado, porque denota comentário.\u001b[0m\u001b[0;34m\u001b[0m\u001b[0;34m\u001b[0m\u001b[0;34m\u001b[0m\u001b[0m\n\u001b[0;32m----> 2\u001b[0;31m \u001b[0mpeso_do\u001b[0m\u001b[0;34m.\u001b[0m\u001b[0mprato\u001b[0m \u001b[0;34m=\u001b[0m \u001b[0;36m10\u001b[0m\u001b[0;34m\u001b[0m\u001b[0;34m\u001b[0m\u001b[0m\n\u001b[0m",
            "\u001b[0;31mNameError\u001b[0m: name 'peso_do' is not defined"
          ]
        }
      ]
    },
    {
      "cell_type": "markdown",
      "source": [
        "**Tipos de variáveis**"
      ],
      "metadata": {
        "id": "svUVn7-EtSYj"
      }
    },
    {
      "cell_type": "markdown",
      "source": [
        "\n",
        "*   inteiros\n",
        "*   pontos flutuantes\n",
        "*   booleanos\n",
        "*   strings"
      ],
      "metadata": {
        "id": "ogaAwa1ZuncC"
      }
    },
    {
      "cell_type": "code",
      "source": [
        "# Variável inteira\n",
        "a = 5\n",
        "a = 0\n",
        "a = -8"
      ],
      "metadata": {
        "id": "7ElGiunrsWqu"
      },
      "execution_count": 19,
      "outputs": []
    },
    {
      "cell_type": "code",
      "source": [
        "# Variável ponto flutuante\n",
        "b = 3.14\n",
        "b = -3.14"
      ],
      "metadata": {
        "id": "RevkzaBlvsY0"
      },
      "execution_count": 20,
      "outputs": []
    },
    {
      "cell_type": "code",
      "source": [
        "# Uma operação entre duas inteiras pode dar origem a uma ponto flutuante!\n",
        "a = 5\n",
        "b = 2\n",
        "c = a/b\n",
        "c"
      ],
      "metadata": {
        "colab": {
          "base_uri": "https://localhost:8080/"
        },
        "id": "7D27ftaM0TTb",
        "outputId": "2f95037b-f73c-49c1-e5e4-a0a73f667846"
      },
      "execution_count": 21,
      "outputs": [
        {
          "output_type": "execute_result",
          "data": {
            "text/plain": [
              "2.5"
            ]
          },
          "metadata": {},
          "execution_count": 21
        }
      ]
    },
    {
      "cell_type": "code",
      "source": [
        "# Variável string\n",
        "frutas = \"abacate\"\n",
        "frutas"
      ],
      "metadata": {
        "id": "vnFAfbqX1pDz",
        "colab": {
          "base_uri": "https://localhost:8080/",
          "height": 36
        },
        "outputId": "912bedd7-8070-4215-9090-9b44c2139441"
      },
      "execution_count": 22,
      "outputs": [
        {
          "output_type": "execute_result",
          "data": {
            "text/plain": [
              "'abacate'"
            ],
            "application/vnd.google.colaboratory.intrinsic+json": {
              "type": "string"
            }
          },
          "metadata": {},
          "execution_count": 22
        }
      ]
    },
    {
      "cell_type": "code",
      "source": [
        "# Variável booleana\n",
        "interruptor = False\n",
        "interruptor\n",
        "interruptor = True\n",
        "interruptor"
      ],
      "metadata": {
        "id": "7mKk9eKp1q90",
        "colab": {
          "base_uri": "https://localhost:8080/"
        },
        "outputId": "d48e569f-e5d1-447d-f863-6f5bcc2d8ea3"
      },
      "execution_count": 23,
      "outputs": [
        {
          "output_type": "execute_result",
          "data": {
            "text/plain": [
              "True"
            ]
          },
          "metadata": {},
          "execution_count": 23
        }
      ]
    },
    {
      "cell_type": "code",
      "source": [
        "interruptor"
      ],
      "metadata": {
        "colab": {
          "base_uri": "https://localhost:8080/"
        },
        "id": "xv9-mkoj2Ena",
        "outputId": "4a20b8b9-29fe-4e08-f2ed-f2f98f35a6c2"
      },
      "execution_count": 24,
      "outputs": [
        {
          "output_type": "execute_result",
          "data": {
            "text/plain": [
              "True"
            ]
          },
          "metadata": {},
          "execution_count": 24
        }
      ]
    },
    {
      "cell_type": "code",
      "source": [
        "nome = \"O Thiago disse que 'Python é excelente'!\""
      ],
      "metadata": {
        "id": "AI7zbCYO2GUx"
      },
      "execution_count": 25,
      "outputs": []
    },
    {
      "cell_type": "code",
      "source": [
        "nome"
      ],
      "metadata": {
        "colab": {
          "base_uri": "https://localhost:8080/",
          "height": 36
        },
        "id": "SW0kOk3h3Coq",
        "outputId": "ca38ce42-7656-40a8-dc71-f02f6ea1f162"
      },
      "execution_count": 26,
      "outputs": [
        {
          "output_type": "execute_result",
          "data": {
            "text/plain": [
              "\"O Thiago disse que 'Python é excelente'!\""
            ],
            "application/vnd.google.colaboratory.intrinsic+json": {
              "type": "string"
            }
          },
          "metadata": {},
          "execution_count": 26
        }
      ]
    },
    {
      "cell_type": "code",
      "source": [
        "# comando type(): retorna o tipo de uma variável"
      ],
      "metadata": {
        "id": "DHI5Qpz73DTX"
      },
      "execution_count": 27,
      "outputs": []
    },
    {
      "cell_type": "code",
      "source": [
        "type(a)"
      ],
      "metadata": {
        "colab": {
          "base_uri": "https://localhost:8080/"
        },
        "id": "GqPrtNvz3RbB",
        "outputId": "643b9ab4-7076-490a-bdf5-081b1dd47119"
      },
      "execution_count": 28,
      "outputs": [
        {
          "output_type": "execute_result",
          "data": {
            "text/plain": [
              "int"
            ]
          },
          "metadata": {},
          "execution_count": 28
        }
      ]
    },
    {
      "cell_type": "code",
      "source": [
        "a = 3.14"
      ],
      "metadata": {
        "id": "ODgptxEY4Ihq"
      },
      "execution_count": 29,
      "outputs": []
    },
    {
      "cell_type": "code",
      "source": [
        "type(a)"
      ],
      "metadata": {
        "colab": {
          "base_uri": "https://localhost:8080/"
        },
        "id": "pBPIAZX64Sdt",
        "outputId": "e39ddaf5-ebe1-48b3-a5e3-a6c79f691f96"
      },
      "execution_count": 30,
      "outputs": [
        {
          "output_type": "execute_result",
          "data": {
            "text/plain": [
              "float"
            ]
          },
          "metadata": {},
          "execution_count": 30
        }
      ]
    },
    {
      "cell_type": "code",
      "source": [
        "type(\"2.15\")"
      ],
      "metadata": {
        "colab": {
          "base_uri": "https://localhost:8080/"
        },
        "id": "_23WAE3K40cn",
        "outputId": "4b539ea1-e330-4f50-9c09-67f81c743b45"
      },
      "execution_count": 31,
      "outputs": [
        {
          "output_type": "execute_result",
          "data": {
            "text/plain": [
              "str"
            ]
          },
          "metadata": {},
          "execution_count": 31
        }
      ]
    },
    {
      "cell_type": "code",
      "source": [
        "texto = \"Isto é um texto!!\""
      ],
      "metadata": {
        "id": "jFhBo0ES5zQ0"
      },
      "execution_count": 32,
      "outputs": []
    },
    {
      "cell_type": "code",
      "source": [
        "type(texto)"
      ],
      "metadata": {
        "colab": {
          "base_uri": "https://localhost:8080/"
        },
        "id": "6RFbdnq05r5D",
        "outputId": "648f5083-94b5-48e2-9949-0fb8d3b0991a"
      },
      "execution_count": 33,
      "outputs": [
        {
          "output_type": "execute_result",
          "data": {
            "text/plain": [
              "str"
            ]
          },
          "metadata": {},
          "execution_count": 33
        }
      ]
    },
    {
      "cell_type": "code",
      "source": [
        "# False e True são as palavras reservadas para o tipo booleanos\n",
        "interruptor = False\n",
        "type(interruptor)"
      ],
      "metadata": {
        "colab": {
          "base_uri": "https://localhost:8080/"
        },
        "id": "7jAi5dee5vc8",
        "outputId": "c6f72965-0d45-418d-ee45-116f378ffc90"
      },
      "execution_count": 34,
      "outputs": [
        {
          "output_type": "execute_result",
          "data": {
            "text/plain": [
              "bool"
            ]
          },
          "metadata": {},
          "execution_count": 34
        }
      ]
    },
    {
      "cell_type": "code",
      "source": [
        "exemplo = \"\""
      ],
      "metadata": {
        "id": "OkyT59uf57y7"
      },
      "execution_count": 35,
      "outputs": []
    },
    {
      "cell_type": "code",
      "source": [
        "type(exemplo)"
      ],
      "metadata": {
        "colab": {
          "base_uri": "https://localhost:8080/"
        },
        "id": "D7qqIQba6DCv",
        "outputId": "6c88a1b7-63d0-4c5c-d8ce-9931d527618f"
      },
      "execution_count": 36,
      "outputs": [
        {
          "output_type": "execute_result",
          "data": {
            "text/plain": [
              "str"
            ]
          },
          "metadata": {},
          "execution_count": 36
        }
      ]
    },
    {
      "cell_type": "markdown",
      "source": [
        "**Entradas e Saídas**"
      ],
      "metadata": {
        "id": "qnwczlns9Ksi"
      }
    },
    {
      "cell_type": "code",
      "source": [
        "print(\"Hello world\")"
      ],
      "metadata": {
        "colab": {
          "base_uri": "https://localhost:8080/"
        },
        "id": "U17dOrv16ELq",
        "outputId": "8b8e4849-7a9b-4e57-cca5-57c49750e893"
      },
      "execution_count": 37,
      "outputs": [
        {
          "output_type": "stream",
          "name": "stdout",
          "text": [
            "Hello world\n"
          ]
        }
      ]
    },
    {
      "cell_type": "code",
      "source": [
        "a = input(\"Digite qualquer coisa e pressione ENTER: \")"
      ],
      "metadata": {
        "colab": {
          "base_uri": "https://localhost:8080/"
        },
        "id": "HoHw951MBWNo",
        "outputId": "8d638e42-b1be-495f-d78f-76b75db6c36f"
      },
      "execution_count": 38,
      "outputs": [
        {
          "name": "stdout",
          "output_type": "stream",
          "text": [
            "Digite qualquer coisa e pressione ENTER: \n"
          ]
        }
      ]
    },
    {
      "cell_type": "code",
      "source": [
        "type(a)"
      ],
      "metadata": {
        "colab": {
          "base_uri": "https://localhost:8080/"
        },
        "id": "qn80ESg3BkTb",
        "outputId": "d19d9185-1d3c-45a4-9dc3-5910eecdb307"
      },
      "execution_count": 39,
      "outputs": [
        {
          "output_type": "execute_result",
          "data": {
            "text/plain": [
              "str"
            ]
          },
          "metadata": {},
          "execution_count": 39
        }
      ]
    },
    {
      "cell_type": "code",
      "source": [
        "idade = input(\"Digite a sua idade: \")"
      ],
      "metadata": {
        "colab": {
          "base_uri": "https://localhost:8080/"
        },
        "id": "xJmKsKiBBsBc",
        "outputId": "cefbd6f9-b9f9-4805-f26a-36c8feba16b9"
      },
      "execution_count": 40,
      "outputs": [
        {
          "name": "stdout",
          "output_type": "stream",
          "text": [
            "Digite a sua idade: 20\n"
          ]
        }
      ]
    },
    {
      "cell_type": "code",
      "source": [
        "type(idade)"
      ],
      "metadata": {
        "colab": {
          "base_uri": "https://localhost:8080/"
        },
        "id": "DjNtZJ1WB-Jk",
        "outputId": "60d7f64b-b9be-43c1-e34c-34f7a24d27e1"
      },
      "execution_count": 41,
      "outputs": [
        {
          "output_type": "execute_result",
          "data": {
            "text/plain": [
              "str"
            ]
          },
          "metadata": {},
          "execution_count": 41
        }
      ]
    },
    {
      "cell_type": "code",
      "source": [
        "idade"
      ],
      "metadata": {
        "colab": {
          "base_uri": "https://localhost:8080/",
          "height": 36
        },
        "id": "iWh4v9H-CIpF",
        "outputId": "21623c36-db6b-445f-e149-e3430d60d65e"
      },
      "execution_count": 42,
      "outputs": [
        {
          "output_type": "execute_result",
          "data": {
            "text/plain": [
              "'20'"
            ],
            "application/vnd.google.colaboratory.intrinsic+json": {
              "type": "string"
            }
          },
          "metadata": {},
          "execution_count": 42
        }
      ]
    },
    {
      "cell_type": "code",
      "source": [
        "a = \"3.15\""
      ],
      "metadata": {
        "id": "Bl1DELz_CJgT"
      },
      "execution_count": 43,
      "outputs": []
    },
    {
      "cell_type": "code",
      "source": [
        "a = float(a)"
      ],
      "metadata": {
        "id": "VS7FEBs7C976"
      },
      "execution_count": 44,
      "outputs": []
    },
    {
      "cell_type": "code",
      "source": [
        "a"
      ],
      "metadata": {
        "colab": {
          "base_uri": "https://localhost:8080/"
        },
        "id": "kQ-bedLrDGTY",
        "outputId": "9c94f520-36d9-476a-e489-2b745bbf0f90"
      },
      "execution_count": 45,
      "outputs": [
        {
          "output_type": "execute_result",
          "data": {
            "text/plain": [
              "3.15"
            ]
          },
          "metadata": {},
          "execution_count": 45
        }
      ]
    },
    {
      "cell_type": "code",
      "source": [
        "idade = \"43\""
      ],
      "metadata": {
        "id": "W5x9owvGDIpZ"
      },
      "execution_count": 46,
      "outputs": []
    },
    {
      "cell_type": "code",
      "source": [
        "int(idade)"
      ],
      "metadata": {
        "colab": {
          "base_uri": "https://localhost:8080/"
        },
        "id": "75h6ICygDUtT",
        "outputId": "6fb8941b-1151-4cb4-b71d-b5dda59a28a4"
      },
      "execution_count": 47,
      "outputs": [
        {
          "output_type": "execute_result",
          "data": {
            "text/plain": [
              "43"
            ]
          },
          "metadata": {},
          "execution_count": 47
        }
      ]
    },
    {
      "cell_type": "code",
      "source": [
        "flag = \"True\""
      ],
      "metadata": {
        "id": "oq7VYavoDXlK"
      },
      "execution_count": 48,
      "outputs": []
    },
    {
      "cell_type": "code",
      "source": [
        "type(flag)"
      ],
      "metadata": {
        "colab": {
          "base_uri": "https://localhost:8080/"
        },
        "id": "ivUas2FHDgJg",
        "outputId": "fd31c48b-93d6-4ea9-b886-4f65986e80ff"
      },
      "execution_count": 49,
      "outputs": [
        {
          "output_type": "execute_result",
          "data": {
            "text/plain": [
              "str"
            ]
          },
          "metadata": {},
          "execution_count": 49
        }
      ]
    },
    {
      "cell_type": "code",
      "source": [
        "flag = bool(flag)"
      ],
      "metadata": {
        "id": "DRNNSjZZDg-O"
      },
      "execution_count": 50,
      "outputs": []
    },
    {
      "cell_type": "code",
      "source": [
        "flag"
      ],
      "metadata": {
        "colab": {
          "base_uri": "https://localhost:8080/"
        },
        "id": "CCCcylroEKG1",
        "outputId": "f9b507b4-37c3-43c7-b4ff-166bf2a21559"
      },
      "execution_count": 51,
      "outputs": [
        {
          "output_type": "execute_result",
          "data": {
            "text/plain": [
              "True"
            ]
          },
          "metadata": {},
          "execution_count": 51
        }
      ]
    },
    {
      "cell_type": "code",
      "source": [
        "preco = \"8.99\""
      ],
      "metadata": {
        "id": "myjt3DFMDkfx"
      },
      "execution_count": 52,
      "outputs": []
    },
    {
      "cell_type": "code",
      "source": [
        "type(preco)"
      ],
      "metadata": {
        "colab": {
          "base_uri": "https://localhost:8080/"
        },
        "id": "ezchS-PPDvzk",
        "outputId": "1d0e61cf-2093-45c9-ab7c-c747e93eaeae"
      },
      "execution_count": 53,
      "outputs": [
        {
          "output_type": "execute_result",
          "data": {
            "text/plain": [
              "str"
            ]
          },
          "metadata": {},
          "execution_count": 53
        }
      ]
    },
    {
      "cell_type": "code",
      "source": [
        "float(preco)"
      ],
      "metadata": {
        "colab": {
          "base_uri": "https://localhost:8080/"
        },
        "id": "-VLpNq_TDw9E",
        "outputId": "a4b9abb6-b2dc-42b6-f8d5-bdf94456041c"
      },
      "execution_count": 54,
      "outputs": [
        {
          "output_type": "execute_result",
          "data": {
            "text/plain": [
              "8.99"
            ]
          },
          "metadata": {},
          "execution_count": 54
        }
      ]
    },
    {
      "cell_type": "code",
      "source": [
        "idade = 28"
      ],
      "metadata": {
        "id": "eu3tisx9Dzs7"
      },
      "execution_count": 55,
      "outputs": []
    },
    {
      "cell_type": "code",
      "source": [
        "str(28)"
      ],
      "metadata": {
        "colab": {
          "base_uri": "https://localhost:8080/",
          "height": 36
        },
        "id": "ihZVMb_MEaDX",
        "outputId": "d032c9a4-e84b-47f2-9172-987580dc5cc1"
      },
      "execution_count": 56,
      "outputs": [
        {
          "output_type": "execute_result",
          "data": {
            "text/plain": [
              "'28'"
            ],
            "application/vnd.google.colaboratory.intrinsic+json": {
              "type": "string"
            }
          },
          "metadata": {},
          "execution_count": 56
        }
      ]
    },
    {
      "cell_type": "code",
      "source": [
        "a = \"teste\"\n",
        "a = bool(a)"
      ],
      "metadata": {
        "id": "Q34PwQnlEiul"
      },
      "execution_count": 57,
      "outputs": []
    },
    {
      "cell_type": "code",
      "source": [
        "a"
      ],
      "metadata": {
        "colab": {
          "base_uri": "https://localhost:8080/"
        },
        "id": "uDDKdcZAEwWN",
        "outputId": "1a1f2935-52e6-4576-d501-03d11712cdcc"
      },
      "execution_count": 58,
      "outputs": [
        {
          "output_type": "execute_result",
          "data": {
            "text/plain": [
              "True"
            ]
          },
          "metadata": {},
          "execution_count": 58
        }
      ]
    },
    {
      "cell_type": "code",
      "source": [
        "type(idade)"
      ],
      "metadata": {
        "colab": {
          "base_uri": "https://localhost:8080/"
        },
        "id": "XkaXgatdGojH",
        "outputId": "a842ee8c-9067-4eed-fdd8-548ae3acdd9a"
      },
      "execution_count": 59,
      "outputs": [
        {
          "output_type": "execute_result",
          "data": {
            "text/plain": [
              "int"
            ]
          },
          "metadata": {},
          "execution_count": 59
        }
      ]
    },
    {
      "cell_type": "code",
      "source": [
        "print(f\"O Moroni tem {idade} anos.\")\n",
        "print(\"O Moroni tem {} anos.\".format(idade))\n",
        "print(\"O Moroni tem\", idade, \"anos.\")"
      ],
      "metadata": {
        "colab": {
          "base_uri": "https://localhost:8080/"
        },
        "id": "tZJJjlv8Ey__",
        "outputId": "3e270013-f734-4f7e-8fac-9bd8faeb62a7"
      },
      "execution_count": 60,
      "outputs": [
        {
          "output_type": "stream",
          "name": "stdout",
          "text": [
            "O Moroni tem 28 anos.\n",
            "O Moroni tem 28 anos.\n",
            "O Moroni tem 28 anos.\n"
          ]
        }
      ]
    },
    {
      "cell_type": "markdown",
      "source": [
        "**Exercícios**"
      ],
      "metadata": {
        "id": "wI4F2TWtG_o2"
      }
    },
    {
      "cell_type": "markdown",
      "source": [
        "1. Construa um programa que receba uma idade e um nome e imprima uma saída do tipo: \"Adriele tem 22 anos.\"."
      ],
      "metadata": {
        "id": "pYQ5YfvjHC9B"
      }
    },
    {
      "cell_type": "code",
      "source": [
        "nome = input(\"Digite seu nome: \")\n",
        "idade = input(\"Digite sua idade: \")\n",
        "print(f\"{nome} tem {idade} anos.\")"
      ],
      "metadata": {
        "colab": {
          "base_uri": "https://localhost:8080/"
        },
        "id": "51Lvnbh_FxFZ",
        "outputId": "7011396b-694e-4f9c-bd9a-15d364a19304"
      },
      "execution_count": 61,
      "outputs": [
        {
          "output_type": "stream",
          "name": "stdout",
          "text": [
            "Digite seu nome: Thiago\n",
            "Digite sua idade: 22\n",
            "Thiago tem 22 anos.\n"
          ]
        }
      ]
    },
    {
      "cell_type": "markdown",
      "source": [
        "2. Construa um programa que receba uma idade e um nome e imprima uma saída do tipo: \"Adriele tem 22 anos.\" considerando a idade que o usuário terá daqui há 15 anos."
      ],
      "metadata": {
        "id": "8E_rQFJ0IuyU"
      }
    },
    {
      "cell_type": "code",
      "source": [
        "nome = input(\"Digite seu nome: \")\n",
        "idade = int(input(\"Digite sua idade: \"))\n",
        "print(f\"{nome} tem {idade+15} anos.\")"
      ],
      "metadata": {
        "colab": {
          "base_uri": "https://localhost:8080/"
        },
        "id": "YnsueyN2InZp",
        "outputId": "ca88c351-a54e-45b1-d4a6-ff447ebabe30"
      },
      "execution_count": 62,
      "outputs": [
        {
          "output_type": "stream",
          "name": "stdout",
          "text": [
            "Digite seu nome: Thiago\n",
            "Digite sua idade: 20\n",
            "Thiago tem 35 anos.\n"
          ]
        }
      ]
    },
    {
      "cell_type": "markdown",
      "source": [
        "3. Construa um programa que receba peso e altura e retorne o IMC, da seguinte forma: \"Seu IMC é ...\"."
      ],
      "metadata": {
        "id": "HkyHwtzZKN9t"
      }
    },
    {
      "cell_type": "code",
      "source": [
        "peso = float(input(\"Digite o seu peso em quilos: \"))\n",
        "altura = float(input(\"Digite sua altura em metros: \"))\n",
        "imc = peso / altura**2\n",
        "print(f\"Seu IMC é {imc:.5f}.\")"
      ],
      "metadata": {
        "colab": {
          "base_uri": "https://localhost:8080/"
        },
        "id": "ZUNMpqLJKL_N",
        "outputId": "fe932716-d254-4d76-d044-93ebccc7dd4b"
      },
      "execution_count": 63,
      "outputs": [
        {
          "output_type": "stream",
          "name": "stdout",
          "text": [
            "Digite o seu peso em quilos: 70\n",
            "Digite sua altura em metros: 1.76\n",
            "Seu IMC é 22.59814.\n"
          ]
        }
      ]
    },
    {
      "cell_type": "markdown",
      "source": [
        "# **Operadores aritméticos**"
      ],
      "metadata": {
        "id": "jR3qINPzpp9p"
      }
    },
    {
      "cell_type": "code",
      "source": [
        "print(2 + 5) # soma\n",
        "print(5 - 2) # subtração\n",
        "print(5 * 2) # multiplicação\n",
        "print(5 / 2) # divisão"
      ],
      "metadata": {
        "colab": {
          "base_uri": "https://localhost:8080/"
        },
        "id": "lxK925DxKvCK",
        "outputId": "018743d7-4c45-4104-a11b-9ff98bd2deb9"
      },
      "execution_count": 64,
      "outputs": [
        {
          "output_type": "stream",
          "name": "stdout",
          "text": [
            "7\n",
            "3\n",
            "10\n",
            "2.5\n"
          ]
        }
      ]
    },
    {
      "cell_type": "code",
      "source": [
        "print(5 // 2) # divisão inteira"
      ],
      "metadata": {
        "colab": {
          "base_uri": "https://localhost:8080/"
        },
        "id": "oxE7p60wxsyb",
        "outputId": "d8be5b5f-153f-4ac6-a736-16efca655112"
      },
      "execution_count": 65,
      "outputs": [
        {
          "output_type": "stream",
          "name": "stdout",
          "text": [
            "2\n"
          ]
        }
      ]
    },
    {
      "cell_type": "code",
      "source": [
        "print(5 % 2) # divisão residual"
      ],
      "metadata": {
        "colab": {
          "base_uri": "https://localhost:8080/"
        },
        "id": "OpQfszONxvzH",
        "outputId": "a33fdc3f-6df9-4ec8-928c-54a7783368e8"
      },
      "execution_count": 66,
      "outputs": [
        {
          "output_type": "stream",
          "name": "stdout",
          "text": [
            "1\n"
          ]
        }
      ]
    },
    {
      "cell_type": "code",
      "source": [
        "print(5 ** 2) # potenciação"
      ],
      "metadata": {
        "colab": {
          "base_uri": "https://localhost:8080/"
        },
        "id": "74xgwx-my5yZ",
        "outputId": "983b7626-592f-4727-8ed7-4a8b585d2460"
      },
      "execution_count": 67,
      "outputs": [
        {
          "output_type": "stream",
          "name": "stdout",
          "text": [
            "25\n"
          ]
        }
      ]
    },
    {
      "cell_type": "code",
      "source": [
        "\"Adorei\" * 5 # Em python você multiplicar inteiros por strings"
      ],
      "metadata": {
        "colab": {
          "base_uri": "https://localhost:8080/",
          "height": 36
        },
        "id": "HW0xqhP2z93V",
        "outputId": "ba37c83c-09e9-4de5-fc8a-54e1da7d1ef3"
      },
      "execution_count": 68,
      "outputs": [
        {
          "output_type": "execute_result",
          "data": {
            "text/plain": [
              "'AdoreiAdoreiAdoreiAdoreiAdorei'"
            ],
            "application/vnd.google.colaboratory.intrinsic+json": {
              "type": "string"
            }
          },
          "metadata": {},
          "execution_count": 68
        }
      ]
    },
    {
      "cell_type": "markdown",
      "source": [
        "Nota: ordem das operações matemáticas\n",
        "1.   Potenciações\n",
        "2.   Multiplicações e divisões\n",
        "3.   Somas e subtrações\n"
      ],
      "metadata": {
        "id": "HkmGNPO81CCJ"
      }
    },
    {
      "cell_type": "code",
      "source": [
        "resultado = 3 * 2 + 3 ** 3 + 4 / 2\n",
        "resultado"
      ],
      "metadata": {
        "colab": {
          "base_uri": "https://localhost:8080/"
        },
        "id": "8-KBFhwD1Z0b",
        "outputId": "2b604eb5-cdb4-4dbc-d751-c8f013f4f529"
      },
      "execution_count": 69,
      "outputs": [
        {
          "output_type": "execute_result",
          "data": {
            "text/plain": [
              "35.0"
            ]
          },
          "metadata": {},
          "execution_count": 69
        }
      ]
    },
    {
      "cell_type": "markdown",
      "source": [
        "# **Operadores lógicos**"
      ],
      "metadata": {
        "id": "IHoC7iNzpuDX"
      }
    },
    {
      "cell_type": "code",
      "source": [
        "# Primeiro vamos atribuir duas variáveis inteiras\n",
        "var1 = 20\n",
        "var2 = 40\n",
        "var3 = 20"
      ],
      "metadata": {
        "id": "CjnYKTy6pw9O"
      },
      "execution_count": 70,
      "outputs": []
    },
    {
      "cell_type": "code",
      "source": [
        "# Operador de igualdade (==)\n",
        "#  ATENÇÃO!\n",
        "# = atribuição\n",
        "# == comparação\n",
        "var1 == var2"
      ],
      "metadata": {
        "colab": {
          "base_uri": "https://localhost:8080/"
        },
        "id": "HUtTux0q20s1",
        "outputId": "3a417605-74d1-439c-8656-82ff0bedd16b"
      },
      "execution_count": 71,
      "outputs": [
        {
          "output_type": "execute_result",
          "data": {
            "text/plain": [
              "False"
            ]
          },
          "metadata": {},
          "execution_count": 71
        }
      ]
    },
    {
      "cell_type": "code",
      "source": [
        "# Maior que: >\n",
        "# Menor que: <\n",
        "var1 < var2"
      ],
      "metadata": {
        "colab": {
          "base_uri": "https://localhost:8080/"
        },
        "id": "0gYtzBC93NOG",
        "outputId": "12465d71-62f6-4652-ee38-ab9ee295a7a0"
      },
      "execution_count": 72,
      "outputs": [
        {
          "output_type": "execute_result",
          "data": {
            "text/plain": [
              "True"
            ]
          },
          "metadata": {},
          "execution_count": 72
        }
      ]
    },
    {
      "cell_type": "code",
      "source": [
        "# Maior ou igual a: >=\n",
        "# Menor ou igual a: <=\n",
        "var2 <= var1"
      ],
      "metadata": {
        "colab": {
          "base_uri": "https://localhost:8080/"
        },
        "id": "h4L_r2l13ZRc",
        "outputId": "5af65129-92c3-4084-8e8c-cbb30e086bf7"
      },
      "execution_count": 73,
      "outputs": [
        {
          "output_type": "execute_result",
          "data": {
            "text/plain": [
              "False"
            ]
          },
          "metadata": {},
          "execution_count": 73
        }
      ]
    },
    {
      "cell_type": "code",
      "source": [
        "# Diferente de: !=\n",
        "var1 != var3 "
      ],
      "metadata": {
        "colab": {
          "base_uri": "https://localhost:8080/"
        },
        "id": "FKnDn45h3vTj",
        "outputId": "33f7bcda-0a6e-47e4-8eb9-62465b182f42"
      },
      "execution_count": 74,
      "outputs": [
        {
          "output_type": "execute_result",
          "data": {
            "text/plain": [
              "False"
            ]
          },
          "metadata": {},
          "execution_count": 74
        }
      ]
    },
    {
      "cell_type": "code",
      "source": [
        "# Tipos também contam na hora da comparação!\n",
        "a = \"20\"\n",
        "b = 20\n",
        "a == b"
      ],
      "metadata": {
        "colab": {
          "base_uri": "https://localhost:8080/"
        },
        "id": "juqorjnZ4He8",
        "outputId": "229c6bc2-b2d3-4dca-ea6b-299071efd8fe"
      },
      "execution_count": 75,
      "outputs": [
        {
          "output_type": "execute_result",
          "data": {
            "text/plain": [
              "False"
            ]
          },
          "metadata": {},
          "execution_count": 75
        }
      ]
    },
    {
      "cell_type": "code",
      "source": [
        "# Podemos testar se uma string é substring de outra\n",
        "str1 = \"concatenação\"\n",
        "str2 = \"cat\"\n",
        "str2 in str1"
      ],
      "metadata": {
        "colab": {
          "base_uri": "https://localhost:8080/"
        },
        "id": "jGGT0dI64YAv",
        "outputId": "e1b045dd-e41e-4b3e-a814-3336406f1361"
      },
      "execution_count": 76,
      "outputs": [
        {
          "output_type": "execute_result",
          "data": {
            "text/plain": [
              "True"
            ]
          },
          "metadata": {},
          "execution_count": 76
        }
      ]
    },
    {
      "cell_type": "code",
      "source": [
        "# Em strings, < e > dizem respeito a ordenação alfabética\n",
        "a = \"aaa\"\n",
        "b = \"bbb\"\n",
        "a > b"
      ],
      "metadata": {
        "colab": {
          "base_uri": "https://localhost:8080/"
        },
        "id": "S946-uKT4xmp",
        "outputId": "8c73bdfa-789f-4038-f0ce-8ac52944d104"
      },
      "execution_count": 77,
      "outputs": [
        {
          "output_type": "execute_result",
          "data": {
            "text/plain": [
              "False"
            ]
          },
          "metadata": {},
          "execution_count": 77
        }
      ]
    },
    {
      "cell_type": "code",
      "source": [
        "# Posso usar o not para inverter operações\n",
        "not 5 < 10"
      ],
      "metadata": {
        "colab": {
          "base_uri": "https://localhost:8080/"
        },
        "id": "B_4c8gBn4g6Z",
        "outputId": "0788a2a7-5422-4105-e39a-7e1f064e85c0"
      },
      "execution_count": 78,
      "outputs": [
        {
          "output_type": "execute_result",
          "data": {
            "text/plain": [
              "False"
            ]
          },
          "metadata": {},
          "execution_count": 78
        }
      ]
    },
    {
      "cell_type": "code",
      "source": [
        "nome = \"Victor Hugo Chagas\""
      ],
      "metadata": {
        "id": "cNDkEVwb4_xb"
      },
      "execution_count": 79,
      "outputs": []
    },
    {
      "cell_type": "code",
      "source": [
        "not \"Silva\" in nome"
      ],
      "metadata": {
        "colab": {
          "base_uri": "https://localhost:8080/"
        },
        "id": "7GZWGHt15tOR",
        "outputId": "66189324-026c-4528-925d-51834bedd0a4"
      },
      "execution_count": 80,
      "outputs": [
        {
          "output_type": "execute_result",
          "data": {
            "text/plain": [
              "True"
            ]
          },
          "metadata": {},
          "execution_count": 80
        }
      ]
    },
    {
      "cell_type": "code",
      "source": [
        "\"Joel\" in nome and (\"Silva\" in nome or \"Chagas\" in nome)"
      ],
      "metadata": {
        "colab": {
          "base_uri": "https://localhost:8080/"
        },
        "id": "9K2WBIlm6BWw",
        "outputId": "68bcffad-9a26-4d40-b439-92436486d4ae"
      },
      "execution_count": 81,
      "outputs": [
        {
          "output_type": "execute_result",
          "data": {
            "text/plain": [
              "False"
            ]
          },
          "metadata": {},
          "execution_count": 81
        }
      ]
    },
    {
      "cell_type": "markdown",
      "source": [
        "# **Estruturas condicionais**"
      ],
      "metadata": {
        "id": "RZCfARMJp2mU"
      }
    },
    {
      "cell_type": "markdown",
      "source": [
        "*   if\n",
        "*   else\n",
        "*   elif"
      ],
      "metadata": {
        "id": "rUX8Y4Ce9_pO"
      }
    },
    {
      "cell_type": "code",
      "source": [
        "a = 20\n",
        "\n",
        "if a > 20:\n",
        "  print(\"A é maior do que 20!\")\n",
        "elif a < 20:\n",
        "  print(\"A é menor do que 20!\")\n",
        "else:\n",
        "  print(\"A é igual a 20!\")"
      ],
      "metadata": {
        "colab": {
          "base_uri": "https://localhost:8080/"
        },
        "id": "ljwR0diSp9FW",
        "outputId": "74379682-5f82-4882-be35-d0dabf9ac858"
      },
      "execution_count": 82,
      "outputs": [
        {
          "output_type": "stream",
          "name": "stdout",
          "text": [
            "A é igual a 20!\n"
          ]
        }
      ]
    },
    {
      "cell_type": "code",
      "source": [
        "cartao_credito = True\n",
        "CLT = True\n",
        "CLT_ha_mais_de_5_anos = True\n",
        "consignado = False"
      ],
      "metadata": {
        "id": "2BUZfodoCLVx"
      },
      "execution_count": 83,
      "outputs": []
    },
    {
      "cell_type": "code",
      "source": [
        "pontuacao = 0\n",
        "if cartao_credito:\n",
        "  pontuacao = pontuacao + 1\n",
        "if CLT:\n",
        "  pontuacao = pontuacao + 1\n",
        "\n",
        "print(pontuacao)"
      ],
      "metadata": {
        "colab": {
          "base_uri": "https://localhost:8080/"
        },
        "id": "Z72doPsDCWT1",
        "outputId": "f75ae1fe-13ce-4616-88b0-b90fd1db2fc6"
      },
      "execution_count": 84,
      "outputs": [
        {
          "output_type": "stream",
          "name": "stdout",
          "text": [
            "2\n"
          ]
        }
      ]
    },
    {
      "cell_type": "markdown",
      "source": [
        "**Exercícios**"
      ],
      "metadata": {
        "id": "2c-tchDHDi6w"
      }
    },
    {
      "cell_type": "markdown",
      "source": [
        "# Exercício 1 \n",
        "\n",
        "Escreva um programa que recebe um número e diz se este é par ou ímpar"
      ],
      "metadata": {
        "id": "85KJ3Cw3D9Ii"
      }
    },
    {
      "cell_type": "code",
      "source": [
        "numero = float(input('Digite um número para ver se é par ou impar:'))\n",
        "resto = numero % 2\n",
        "\n",
        "if resto == 0:\n",
        "    print('Número é par')\n",
        "else:\n",
        "    print('Número é impar')"
      ],
      "metadata": {
        "colab": {
          "base_uri": "https://localhost:8080/"
        },
        "id": "8uUeHsDSJDfr",
        "outputId": "154f1853-d642-41a9-e9f0-74947c132121"
      },
      "execution_count": 85,
      "outputs": [
        {
          "output_type": "stream",
          "name": "stdout",
          "text": [
            "Digite um número para ver se é par ou impar:10\n",
            "Número é par\n"
          ]
        }
      ]
    },
    {
      "cell_type": "markdown",
      "source": [
        "# Exercício 2\n",
        "\n",
        "Crie um programa que receba um número e diga se é inteiro ou float"
      ],
      "metadata": {
        "id": "ZELFPvxbEC7q"
      }
    },
    {
      "cell_type": "code",
      "source": [
        "num = float(input(\"Insira um número: \"))\n",
        "\n",
        "if (num - int(num)) == 0:\n",
        "  num = int(num)\n",
        "  print(\"Este número é inteiro.\")\n",
        "else:\n",
        "  print(\"Este número é um float (decimal)\")"
      ],
      "metadata": {
        "colab": {
          "base_uri": "https://localhost:8080/"
        },
        "id": "hgMQwkmxJhtz",
        "outputId": "86939509-ca76-4341-bccf-9267cc5ac7ec"
      },
      "execution_count": 89,
      "outputs": [
        {
          "output_type": "stream",
          "name": "stdout",
          "text": [
            "Insira um número: 0\n",
            "Este número é inteiro.\n"
          ]
        }
      ]
    },
    {
      "cell_type": "markdown",
      "source": [
        "# Exercício 3\n",
        "\n",
        "Crie um programa que receba um número e imprima \"fuzz\" se o número for múltiplo de 3, \"buzz\" se deixar resto 1 na divisão por 3 e \"nada\" se deixar resto 2 na divisão por 3"
      ],
      "metadata": {
        "id": "ELNzNP7-E37T"
      }
    },
    {
      "cell_type": "code",
      "source": [
        "num = int(input('Digite um número: '))\n",
        "res = num % 3\n",
        "\n",
        "if res == 0:\n",
        "  print('Fuzz')\n",
        "elif res == 1:\n",
        "  print('Buzz')\n",
        "elif res == 2:\n",
        "  print('nada')"
      ],
      "metadata": {
        "id": "RFd82I_nKjja",
        "colab": {
          "base_uri": "https://localhost:8080/"
        },
        "outputId": "f9a5b836-7752-42cb-f6b5-3e2e70a084f7"
      },
      "execution_count": 90,
      "outputs": [
        {
          "output_type": "stream",
          "name": "stdout",
          "text": [
            "Digite um número: 9\n",
            "Fuzz\n"
          ]
        }
      ]
    },
    {
      "cell_type": "markdown",
      "source": [
        "# Exercício 4:\n",
        "\n",
        "Crie um programa que recebe sua altura e peso, calcula o imc e retorna um status (abaixo do peso, no peso, acima do peso)."
      ],
      "metadata": {
        "id": "LL2u-aWMFCao"
      }
    },
    {
      "cell_type": "code",
      "source": [
        "\n",
        "altura = float(input(\"Digite a altura em metros: \"))\n",
        "peso = float(input(\"Digite o peso em kg: \"))\n",
        "\n",
        "imc = peso / (altura ** 2)\n",
        "\n",
        "if imc < 18.5:\n",
        "    print(\"Abaixo do peso\")\n",
        "elif imc >= 25:\n",
        "    print(\"Acima do peso\")\n",
        "else:\n",
        "    print(\"No peso\")"
      ],
      "metadata": {
        "colab": {
          "base_uri": "https://localhost:8080/"
        },
        "id": "ihcX1UoaLauv",
        "outputId": "6aa7cc0d-bd29-4cf9-cdba-3fbf813e210f"
      },
      "execution_count": 91,
      "outputs": [
        {
          "output_type": "stream",
          "name": "stdout",
          "text": [
            "Digite a altura em metros: 71\n",
            "Digite o peso em kg: 1.76\n",
            "Abaixo do peso\n"
          ]
        }
      ]
    },
    {
      "cell_type": "markdown",
      "source": [
        "# Exercício 5\n",
        "\n",
        "Faça um Programa que verifique se uma letra digitada é \"F\" ou \"M\". Conforme a letra escrever: F - Feminino, M - Masculino, Sexo Inválido."
      ],
      "metadata": {
        "id": "chMN59yUFJEp"
      }
    },
    {
      "cell_type": "code",
      "source": [
        "s = input('Digite seu sexo M ou F: ')\n",
        "if s in 'Mm':\n",
        "    print('M - Masculino')\n",
        "elif s in 'Ff':\n",
        "    print('F - Feminino')\n",
        "else:\n",
        "    print('Sexo inválido')"
      ],
      "metadata": {
        "colab": {
          "base_uri": "https://localhost:8080/"
        },
        "id": "LHS7pNxzL-te",
        "outputId": "4b1279f2-a362-41e3-8ad9-c54baf9012f6"
      },
      "execution_count": 92,
      "outputs": [
        {
          "output_type": "stream",
          "name": "stdout",
          "text": [
            "Digite seu sexo M ou F: m\n",
            "M - Masculino\n"
          ]
        }
      ]
    },
    {
      "cell_type": "markdown",
      "source": [
        "# Exercício BRABO\n",
        "\n",
        "Faça um programa que inicialmente receba 2 notas parciais de um aluno (prova 1 e prova 2).\n",
        "Se a média de ambas as notas for superior ou igual a 7, o programa retorna \"APROVADO.\"\n",
        "Senão, o programa solicita uma nota adicional, a nota do provão.\n",
        "Tendo a nota do provão, \n",
        "  se a média das 3 notas for maior ou igual a 7 ou se pelo menos duas das 3 notas for maior ou igual a 6, imprima \"APROVADO POR POUCO!\"\n",
        "Senão,\n",
        "  imprima \"QUE PENA! TENTE FAZER A SÉTIMA SÉRIE OUTRA VEZ!\"   "
      ],
      "metadata": {
        "id": "iePi3W5bGWlV"
      }
    },
    {
      "cell_type": "code",
      "source": [
        "nota_1 = float(input(\"Nota da primeira prova: \"))\n",
        "nota_2 = float(input(\"Nota da segunda prova: \"))\n",
        "\n",
        "media = (nota_1 + nota_2) / 2\n",
        "\n",
        "if media >= 7:\n",
        "  print(\"APROVADO\")\n",
        "else:\n",
        "  provao = float(input(\"Nota do provão: \"))\n",
        "  nova_media = (nota_1 + nota_2 + provao) / 3\n",
        "  if nova_media >= 7 or ((nota_1 >= 6 and nota_2 >= 6) or (nota_1 >= 6 and provao >= 6) or (provao >= 6 and nota_2 >= 6)):\n",
        "    print(\"APROVADO POR POUCO\")\n",
        "  else:\n",
        "    print(\"QUE PENA! TENTE FAZER A SÉTIMA SÉRIE OUTRA VEZ!\")"
      ],
      "metadata": {
        "colab": {
          "base_uri": "https://localhost:8080/"
        },
        "id": "Jz3O25o_NILP",
        "outputId": "509c0498-fd6d-4aa8-bde2-0e601589b343"
      },
      "execution_count": null,
      "outputs": [
        {
          "output_type": "stream",
          "name": "stdout",
          "text": [
            "Nota da primeira prova: 5\n",
            "Nota da segunda prova: 6\n",
            "Nota do provão: 9\n",
            "APROVADO POR POUCO\n"
          ]
        }
      ]
    },
    {
      "cell_type": "markdown",
      "source": [
        "# **Estruturas de repetição**"
      ],
      "metadata": {
        "id": "hOw--PH8qDIB"
      }
    },
    {
      "cell_type": "markdown",
      "source": [
        "\n",
        "*   while\n",
        "*   for\n",
        "\n"
      ],
      "metadata": {
        "id": "mbEeJRVQSxP1"
      }
    },
    {
      "cell_type": "code",
      "source": [
        "print(\"THIAGO\")\n",
        "print(\"THIAGO\")\n",
        "print(\"THIAGO\")"
      ],
      "metadata": {
        "colab": {
          "base_uri": "https://localhost:8080/"
        },
        "id": "Q4BqsUsjqBtg",
        "outputId": "8026e512-73e7-4bf9-fea7-4ab37df9f258"
      },
      "execution_count": null,
      "outputs": [
        {
          "output_type": "stream",
          "name": "stdout",
          "text": [
            "THIAGO\n",
            "THIAGO\n",
            "THIAGO\n"
          ]
        }
      ]
    },
    {
      "cell_type": "code",
      "source": [
        "contador = 0\n",
        "while contador < 3:\n",
        "  print(f'Contador = {contador}')\n",
        "  print(\"Thiago\")\n",
        "  contador += 1"
      ],
      "metadata": {
        "colab": {
          "base_uri": "https://localhost:8080/"
        },
        "id": "MvLxeCH8QyjT",
        "outputId": "fa23f10e-ae62-48ad-fd99-3c0233b7e0aa"
      },
      "execution_count": null,
      "outputs": [
        {
          "output_type": "stream",
          "name": "stdout",
          "text": [
            "Contador = 0\n",
            "Thiago\n",
            "Contador = 1\n",
            "Thiago\n",
            "Contador = 2\n",
            "Thiago\n"
          ]
        }
      ]
    },
    {
      "cell_type": "code",
      "source": [
        "for contador in range(3):\n",
        "  print(\"Thiago\")"
      ],
      "metadata": {
        "colab": {
          "base_uri": "https://localhost:8080/"
        },
        "id": "bQi4O_aeTPDK",
        "outputId": "693a2625-e933-4de3-f152-d26dd4c345f9"
      },
      "execution_count": null,
      "outputs": [
        {
          "output_type": "stream",
          "name": "stdout",
          "text": [
            "Thiago\n",
            "Thiago\n",
            "Thiago\n"
          ]
        }
      ]
    },
    {
      "cell_type": "code",
      "source": [],
      "metadata": {
        "id": "p65SGiQfVoNO"
      },
      "execution_count": null,
      "outputs": []
    }
  ]
}